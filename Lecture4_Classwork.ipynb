{
  "nbformat": 4,
  "nbformat_minor": 0,
  "metadata": {
    "colab": {
      "name": "Lecture4-Classwork.ipynb",
      "provenance": [],
      "authorship_tag": "ABX9TyPzrkCB8D/0+auOAXQ0vBoj",
      "include_colab_link": true
    },
    "kernelspec": {
      "name": "python3",
      "display_name": "Python 3"
    },
    "language_info": {
      "name": "python"
    }
  },
  "cells": [
    {
      "cell_type": "markdown",
      "metadata": {
        "id": "view-in-github",
        "colab_type": "text"
      },
      "source": [
        "<a href=\"https://colab.research.google.com/github/Avipsa1/UPPP275-Notebooks/blob/main/Lecture4_Classwork.ipynb\" target=\"_parent\"><img src=\"https://colab.research.google.com/assets/colab-badge.svg\" alt=\"Open In Colab\"/></a>"
      ]
    },
    {
      "cell_type": "code",
      "execution_count": null,
      "metadata": {
        "id": "be8lIDqHWnUy"
      },
      "outputs": [],
      "source": [
        "import numpy as np"
      ]
    },
    {
      "cell_type": "markdown",
      "source": [
        "Let's create a list of densely populated cities in California"
      ],
      "metadata": {
        "id": "YxFDahWxWszx"
      }
    },
    {
      "cell_type": "code",
      "source": [
        "cities = ['Los Angeles','San Diego','San Francisco','San Jose','Long Beach']"
      ],
      "metadata": {
        "id": "-kmzEYNuWsHX"
      },
      "execution_count": null,
      "outputs": []
    },
    {
      "cell_type": "code",
      "source": [
        "print(cities)"
      ],
      "metadata": {
        "colab": {
          "base_uri": "https://localhost:8080/"
        },
        "id": "bP8Dl5qHXBUI",
        "outputId": "3dddb161-74a4-4d0a-d91e-3973955e3298"
      },
      "execution_count": null,
      "outputs": [
        {
          "output_type": "stream",
          "name": "stdout",
          "text": [
            "['Los Angeles', 'San Diego', 'San Francisco', 'San Jose', 'Long Beach']\n"
          ]
        }
      ]
    },
    {
      "cell_type": "markdown",
      "source": [
        "Try generating an index for the above list using the random() function"
      ],
      "metadata": {
        "id": "3ON4pBH3ZJgS"
      }
    },
    {
      "cell_type": "code",
      "source": [
        "idx = np.random.randint(0,5)\n",
        "print(idx)"
      ],
      "metadata": {
        "colab": {
          "base_uri": "https://localhost:8080/"
        },
        "id": "z5iParLlZPPw",
        "outputId": "82064b7e-8c9b-449d-d644-392aa911eb2a"
      },
      "execution_count": null,
      "outputs": [
        {
          "output_type": "stream",
          "name": "stdout",
          "text": [
            "2\n"
          ]
        }
      ]
    },
    {
      "cell_type": "code",
      "source": [
        "print(cities[idx])"
      ],
      "metadata": {
        "colab": {
          "base_uri": "https://localhost:8080/"
        },
        "id": "N7qKfvjjZWh1",
        "outputId": "e3799e80-4e45-4b91-b47f-632cc570319d"
      },
      "execution_count": null,
      "outputs": [
        {
          "output_type": "stream",
          "name": "stdout",
          "text": [
            "San Francisco\n"
          ]
        }
      ]
    },
    {
      "cell_type": "markdown",
      "source": [
        "Now try to remove the item chosen by the random index from the list"
      ],
      "metadata": {
        "id": "78jCO4ZTZiir"
      }
    },
    {
      "cell_type": "code",
      "source": [
        "cities.pop(idx)\n",
        "print(cities)"
      ],
      "metadata": {
        "colab": {
          "base_uri": "https://localhost:8080/"
        },
        "id": "woXFM6snZg1H",
        "outputId": "e6dd56d9-d021-4cbe-9b9f-b6b804a7dc23"
      },
      "execution_count": null,
      "outputs": [
        {
          "output_type": "stream",
          "name": "stdout",
          "text": [
            "['Los Angeles', 'San Diego', 'San Jose', 'Long Beach']\n"
          ]
        }
      ]
    },
    {
      "cell_type": "markdown",
      "source": [
        "Let us try to use a function and a loop to randomly pick one city at a time and remove it from the list and add the removed city to a new list"
      ],
      "metadata": {
        "id": "99fAXWAWZ_dn"
      }
    },
    {
      "cell_type": "code",
      "source": [
        "cities1 = ['Los Angeles','San Diego','San Francisco','San Jose','Long Beach'] #We want to remove one item from this list and add it to a new list\n",
        "cities2 = [] # We create a blank list where we will store the items removed from the previous list"
      ],
      "metadata": {
        "id": "mOy614M8ZxJg"
      },
      "execution_count": null,
      "outputs": []
    },
    {
      "cell_type": "markdown",
      "source": [
        "Now, we can write a function that removes items from 'cities1' list and appends those items to the 'cities2' list"
      ],
      "metadata": {
        "id": "sMWpuv0SbNnh"
      }
    },
    {
      "cell_type": "code",
      "source": [
        "def changeList(idx):\n",
        "  item = cities1[idx] #Pick the value from the list you want to remove\n",
        "  cities2.append(item) # Add it to the 'new list\n",
        "  cities1.remove(item) # Remove it from the old list\n",
        "  print(\"List1:\",cities1)\n",
        "  print(\"Index:\",idx)\n",
        "  print(\"List2:\",cities2)"
      ],
      "metadata": {
        "id": "r_0ydNF4a-MT"
      },
      "execution_count": null,
      "outputs": []
    },
    {
      "cell_type": "markdown",
      "source": [
        "What if we want to select the index randomly inside a loop until the 'cities1' list becomes empty ?"
      ],
      "metadata": {
        "id": "P2icyc9RbxHs"
      }
    },
    {
      "cell_type": "code",
      "source": [
        "print(cities1)\n",
        "print(cities2)"
      ],
      "metadata": {
        "colab": {
          "base_uri": "https://localhost:8080/"
        },
        "id": "X3uyuEYvdyt5",
        "outputId": "0b384214-aedc-47a9-8f06-18628f4a1748"
      },
      "execution_count": null,
      "outputs": [
        {
          "output_type": "stream",
          "name": "stdout",
          "text": [
            "['Los Angeles', 'San Diego', 'San Francisco', 'San Jose', 'Long Beach']\n",
            "[]\n"
          ]
        }
      ]
    },
    {
      "cell_type": "code",
      "source": [
        "while cities1 != []:\n",
        "  #Find the length of the list\n",
        "  l = len(cities1)\n",
        "  #Generate a random number between 0 to length of the first list\n",
        "  n = np.random.randint(0,l)\n",
        "  #Now call the function to remove the city based on the chosen index\n",
        "  changeList(n)"
      ],
      "metadata": {
        "colab": {
          "base_uri": "https://localhost:8080/"
        },
        "id": "53SoORuvb5lm",
        "outputId": "1f7694f9-03d7-40f6-c5f1-132ccae719d1"
      },
      "execution_count": null,
      "outputs": [
        {
          "output_type": "stream",
          "name": "stdout",
          "text": [
            "List1: ['Los Angeles', 'San Diego', 'San Francisco', 'San Jose']\n",
            "Index: 4\n",
            "List2: ['Long Beach']\n",
            "List1: ['Los Angeles', 'San Diego', 'San Francisco']\n",
            "Index: 3\n",
            "List2: ['Long Beach', 'San Jose']\n",
            "List1: ['Los Angeles', 'San Francisco']\n",
            "Index: 1\n",
            "List2: ['Long Beach', 'San Jose', 'San Diego']\n",
            "List1: ['Los Angeles']\n",
            "Index: 1\n",
            "List2: ['Long Beach', 'San Jose', 'San Diego', 'San Francisco']\n",
            "List1: []\n",
            "Index: 0\n",
            "List2: ['Long Beach', 'San Jose', 'San Diego', 'San Francisco', 'Los Angeles']\n"
          ]
        }
      ]
    },
    {
      "cell_type": "markdown",
      "source": [
        "Let's create another list with population density of each city. You can find some summary statistics here: https://worldpopulationreview.com/states/cities/california "
      ],
      "metadata": {
        "id": "Hs-dUXjkXE3-"
      }
    },
    {
      "cell_type": "code",
      "source": [
        "popdens = [8499,4387,18850,5642,8934]\n",
        "print(popdens)"
      ],
      "metadata": {
        "colab": {
          "base_uri": "https://localhost:8080/"
        },
        "id": "d-Y7DCB4XDUZ",
        "outputId": "91b8b5cb-885a-4d5c-9859-a756918123a2"
      },
      "execution_count": null,
      "outputs": [
        {
          "output_type": "stream",
          "name": "stdout",
          "text": [
            "[8499, 4387, 18850, 5642, 8934]\n"
          ]
        }
      ]
    },
    {
      "cell_type": "markdown",
      "source": [
        "Now lets' create a ditionary combining these two lists"
      ],
      "metadata": {
        "id": "8i_yg6IKYJDH"
      }
    },
    {
      "cell_type": "code",
      "source": [
        "dict1 = dict({\"city\" : cities2,\n",
        "              \"population_density\": popdens})\n",
        "print(dict1)"
      ],
      "metadata": {
        "colab": {
          "base_uri": "https://localhost:8080/"
        },
        "id": "QCeuZ7aFYUbV",
        "outputId": "b3370dbb-0730-4e73-a6cd-615734f59337"
      },
      "execution_count": null,
      "outputs": [
        {
          "output_type": "stream",
          "name": "stdout",
          "text": [
            "{'city': ['Long Beach', 'San Jose', 'San Diego', 'San Francisco', 'Los Angeles'], 'population_density': [8499, 4387, 18850, 5642, 8934]}\n"
          ]
        }
      ]
    },
    {
      "cell_type": "code",
      "source": [
        "import pandas as pd\n",
        "df1 = pd.DataFrame(dict1)\n",
        "print(df1)"
      ],
      "metadata": {
        "colab": {
          "base_uri": "https://localhost:8080/"
        },
        "id": "PydYxJ7eYx9t",
        "outputId": "7c25ebf6-60ad-4b8a-aa11-4bf078b3171d"
      },
      "execution_count": null,
      "outputs": [
        {
          "output_type": "stream",
          "name": "stdout",
          "text": [
            "            city  population_density\n",
            "0     Long Beach                8499\n",
            "1       San Jose                4387\n",
            "2      San Diego               18850\n",
            "3  San Francisco                5642\n",
            "4    Los Angeles                8934\n"
          ]
        }
      ]
    },
    {
      "cell_type": "code",
      "source": [
        "df1.iloc[0,0]"
      ],
      "metadata": {
        "colab": {
          "base_uri": "https://localhost:8080/",
          "height": 35
        },
        "id": "B-IMjpBcY8AT",
        "outputId": "d3214b91-a6b1-437e-9279-f20d16073df5"
      },
      "execution_count": null,
      "outputs": [
        {
          "output_type": "execute_result",
          "data": {
            "text/plain": [
              "'Long Beach'"
            ],
            "application/vnd.google.colaboratory.intrinsic+json": {
              "type": "string"
            }
          },
          "metadata": {},
          "execution_count": 61
        }
      ]
    }
  ]
}