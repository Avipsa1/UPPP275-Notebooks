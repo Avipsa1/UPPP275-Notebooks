{
  "nbformat": 4,
  "nbformat_minor": 0,
  "metadata": {
    "colab": {
      "name": "Copy of Lecture1b.ipynb",
      "provenance": [],
      "collapsed_sections": [],
      "toc_visible": true,
      "include_colab_link": true
    },
    "kernelspec": {
      "name": "python3",
      "display_name": "Python 3"
    }
  },
  "cells": [
    {
      "cell_type": "markdown",
      "metadata": {
        "id": "view-in-github",
        "colab_type": "text"
      },
      "source": [
        "<a href=\"https://colab.research.google.com/github/Avipsa1/UPPP275-Notebooks/blob/main/Lecture1b.ipynb\" target=\"_parent\"><img src=\"https://colab.research.google.com/assets/colab-badge.svg\" alt=\"Open In Colab\"/></a>"
      ]
    },
    {
      "cell_type": "markdown",
      "metadata": {
        "id": "cx68PZwToUxr"
      },
      "source": [
        "## Python Conditions and If statements\n",
        "Python supports the usual logical conditions from mathematics:\n",
        "\n",
        "* Equals: a == b\n",
        "* Not Equals: a != b\n",
        "* Less than: a < b\n",
        "* Less than or equal to: a <= b\n",
        "* Greater than: a > b\n",
        "* Greater than or equal to: a >= b\n",
        "* ![alt text](https://)These conditions can be used in several ways, most commonly in \"if statements\" and loops.\n",
        "\n",
        "\n",
        "An \"if statement\" is written by using the if keyword."
      ]
    },
    {
      "cell_type": "code",
      "metadata": {
        "id": "vv30oMIAoXAw",
        "outputId": "fc322530-8df7-49a5-a55a-b09d7e858522",
        "colab": {
          "base_uri": "https://localhost:8080/",
          "height": 34
        }
      },
      "source": [
        "# if statement\n",
        "a = 50\n",
        "b = 100\n",
        "if b > a:\n",
        "  print(\"b is greater than a\")\n",
        " \n",
        "# Note: Indentation\n",
        "#Python relies on indentation (whitespace at the beginning of a line) to define\n",
        "#scope in the code. Other programming languages often use curly-brackets for this\n",
        "#purpose."
      ],
      "execution_count": null,
      "outputs": [
        {
          "output_type": "stream",
          "text": [
            "b is greater than a\n"
          ],
          "name": "stdout"
        }
      ]
    },
    {
      "cell_type": "code",
      "metadata": {
        "id": "3KdcFwXSoixC",
        "outputId": "57d632c1-a5dd-4865-873a-5182edbf5d22",
        "colab": {
          "base_uri": "https://localhost:8080/",
          "height": 34
        }
      },
      "source": [
        "# Elif\n",
        "# The elif keyword is pythons way of saying \n",
        "# \"if the previous conditions were not true, then try this condition\".\n",
        "a = 50\n",
        "b = 50\n",
        "if b > a:\n",
        "  print(\"b is greater than a\")\n",
        "elif a == b:\n",
        "  print(\"a and b are equal\")\n"
      ],
      "execution_count": null,
      "outputs": [
        {
          "output_type": "stream",
          "text": [
            "a and b are equal\n"
          ],
          "name": "stdout"
        }
      ]
    },
    {
      "cell_type": "code",
      "metadata": {
        "id": "MXZ0xxH2o9Rj",
        "outputId": "a5c17bf8-1588-40f6-9727-4689f4b2fc72",
        "colab": {
          "base_uri": "https://localhost:8080/",
          "height": 34
        }
      },
      "source": [
        "#Else\n",
        "# The else keyword catches anything \n",
        "# which isn't caught by the preceding conditions.\n",
        "a = 50\n",
        "b = 100\n",
        "if b > a:\n",
        "  print(\"b is greater than a\")\n",
        "elif a == b:\n",
        "  print(\"a and b are equal\")\n",
        "else:\n",
        "  print(\"a is greater than b\")"
      ],
      "execution_count": null,
      "outputs": [
        {
          "output_type": "stream",
          "text": [
            "b is greater than a\n"
          ],
          "name": "stdout"
        }
      ]
    },
    {
      "cell_type": "code",
      "metadata": {
        "id": "chWlANPFpKbG",
        "outputId": "6b28c40f-908b-43e2-a3bb-2ba9f29b868b",
        "colab": {
          "base_uri": "https://localhost:8080/",
          "height": 34
        }
      },
      "source": [
        "#And\n",
        "# The and keyword is a logical operator, \n",
        "#and is used to combine conditional statements.\n",
        "a = 200\n",
        "b = 33\n",
        "c = 500\n",
        "if a > b and c > a:\n",
        "  print(\"Both conditions are True\")"
      ],
      "execution_count": null,
      "outputs": [
        {
          "output_type": "stream",
          "text": [
            "Both conditions are True\n"
          ],
          "name": "stdout"
        }
      ]
    },
    {
      "cell_type": "code",
      "metadata": {
        "id": "EGDJZ3z3pVbC",
        "outputId": "0fdcfc85-f1be-4cb2-8162-2088df47bc9a",
        "colab": {
          "base_uri": "https://localhost:8080/",
          "height": 34
        }
      },
      "source": [
        "#Or\n",
        "#The or keyword is a logical operator, \n",
        "#and is used to combine conditional statements\n",
        "a = 200\n",
        "b = 33\n",
        "c = 500\n",
        "if a > b or a > c:\n",
        "  print(\"At least one of the conditions is True\")\n"
      ],
      "execution_count": null,
      "outputs": [
        {
          "output_type": "stream",
          "text": [
            "At least one of the conditions is True\n"
          ],
          "name": "stdout"
        }
      ]
    },
    {
      "cell_type": "code",
      "metadata": {
        "id": "p4xKrUgbpbrV",
        "outputId": "5cbf0661-47d5-409d-8ce9-683d38a730aa",
        "colab": {
          "base_uri": "https://localhost:8080/",
          "height": 51
        }
      },
      "source": [
        "#Nested If\n",
        "#You can have if statements \n",
        "#inside if statements, this is called nested if statements.\n",
        "x = 41\n",
        "\n",
        "if x > 10:\n",
        "  print(\"Above ten,\")\n",
        "  if x > 20:\n",
        "    print(\"and also above 20!\")\n",
        "  else:\n",
        "    print(\"but not above 20.\")"
      ],
      "execution_count": null,
      "outputs": [
        {
          "output_type": "stream",
          "text": [
            "Above ten,\n",
            "and also above 20!\n"
          ],
          "name": "stdout"
        }
      ]
    },
    {
      "cell_type": "code",
      "metadata": {
        "id": "JLktbdxAphT0"
      },
      "source": [
        ""
      ],
      "execution_count": null,
      "outputs": []
    },
    {
      "cell_type": "markdown",
      "metadata": {
        "id": "pLWmBquUpqaf"
      },
      "source": [
        "## For Loop\n",
        "A for loop is used for iterating over a sequence (that is either a list, a tuple, a dictionary, a set, or a string).\n",
        "\n",
        "This is less like the for keyword in other programming languages, and works more like an iterator method as found in other object-orientated programming languages.\n",
        "\n",
        "With the for loop we can execute a set of statements, once for each item in a list, tuple, set etc."
      ]
    },
    {
      "cell_type": "code",
      "metadata": {
        "id": "ku80qRHZpwaF",
        "outputId": "bf313341-eb62-4370-aae5-142b0a58fdf0",
        "colab": {
          "base_uri": "https://localhost:8080/",
          "height": 85
        }
      },
      "source": [
        "# Print each student in a students list:\n",
        "students = [\"freshmen\", \"Sophomore\", \"Junior\", \"Senior\"]\n",
        "for x in students:\n",
        "  print(x)"
      ],
      "execution_count": null,
      "outputs": [
        {
          "output_type": "stream",
          "text": [
            "freshmen\n",
            "Sophomore\n",
            "Junior\n",
            "Senior\n"
          ],
          "name": "stdout"
        }
      ]
    },
    {
      "cell_type": "code",
      "metadata": {
        "id": "3L-rAfAnp8Kn",
        "outputId": "e97184ae-4140-4f21-9986-d1d15bd119b1",
        "colab": {
          "base_uri": "https://localhost:8080/",
          "height": 119
        }
      },
      "source": [
        "#Looping Through a String\n",
        "#Even strings are iterable objects, they contain a sequence of characters:\n",
        "for x in \"Seinor\":\n",
        "  print(x)"
      ],
      "execution_count": null,
      "outputs": [
        {
          "output_type": "stream",
          "text": [
            "S\n",
            "e\n",
            "i\n",
            "n\n",
            "o\n",
            "r\n"
          ],
          "name": "stdout"
        }
      ]
    },
    {
      "cell_type": "code",
      "metadata": {
        "id": "tpBR_gdRp_Sc",
        "outputId": "ba2b2ed6-be8e-4048-8f14-0913c596be37",
        "colab": {
          "base_uri": "https://localhost:8080/",
          "height": 34
        }
      },
      "source": [
        "#The break Statement\n",
        "# With the break statement we can stop the loop \n",
        "# before it has looped through all the items.\n",
        "\n",
        "# Exit the loop when x is \"Sophomore\"\n",
        "students = [\"freshmen\", \"Sophomore\", \"Junior\", \"Senior\"]\n",
        "for x in students:\n",
        "  if x == \"Sophomore\":\n",
        "    print(x)"
      ],
      "execution_count": null,
      "outputs": [
        {
          "output_type": "stream",
          "text": [
            "Sophomore\n"
          ],
          "name": "stdout"
        }
      ]
    },
    {
      "cell_type": "code",
      "metadata": {
        "id": "n4Pm-DQeqXJh",
        "outputId": "75675b5f-ec2d-42e6-d9d9-8de6cad9cd97",
        "colab": {
          "base_uri": "https://localhost:8080/",
          "height": 68
        }
      },
      "source": [
        "#The continue Statement\n",
        "#With the continue statement we can stop the \n",
        "#current iteration of the loop, and continue with the next.\n",
        "# Do not print \"Sophomore\"\n",
        "students = [\"freshmen\", \"Sophomore\", \"Junior\", \"Senior\"]\n",
        "for x in students:\n",
        "  if x == \"Sophomore\":\n",
        "    continue\n",
        "  print(x)"
      ],
      "execution_count": null,
      "outputs": [
        {
          "output_type": "stream",
          "text": [
            "freshmen\n",
            "Junior\n",
            "Senior\n"
          ],
          "name": "stdout"
        }
      ]
    },
    {
      "cell_type": "code",
      "metadata": {
        "id": "j5CUszzYqjx3",
        "outputId": "cc0a8eba-7afc-4b6e-db99-0437e6347065",
        "colab": {
          "base_uri": "https://localhost:8080/",
          "height": 119
        }
      },
      "source": [
        "#The range() Function\n",
        "#To loop through a set of code a specified number of times, \n",
        "#we can use the range() function,\n",
        "#The range() function returns a sequence of numbers, \n",
        "#starting from 0 by default, and increments by 1 (by default), \n",
        "#and ends at a specified number.\n",
        "for x in range(6):\n",
        "  print(x)\n",
        "\n",
        "#Note that range(6) is no the values of 0 to 6, but the values 0 to 5."
      ],
      "execution_count": null,
      "outputs": [
        {
          "output_type": "stream",
          "text": [
            "0\n",
            "1\n",
            "2\n",
            "3\n",
            "4\n",
            "5\n"
          ],
          "name": "stdout"
        }
      ]
    },
    {
      "cell_type": "code",
      "metadata": {
        "id": "QS9afCEcrBQN",
        "outputId": "0b2b2637-14a1-4ba2-c4f3-c0723a146688",
        "colab": {
          "base_uri": "https://localhost:8080/",
          "height": 102
        }
      },
      "source": [
        "# you can also use a start number than the default 0\n",
        "# and/or set a step in the increase of numbers (default is 1)\n",
        "for x in range(2,20,4): # 2 is the start number\n",
        "                        # 20-1 is the end number (no more than this number)\n",
        "                        # 4 is the increase step\n",
        "      print(x)"
      ],
      "execution_count": null,
      "outputs": [
        {
          "output_type": "stream",
          "text": [
            "2\n",
            "6\n",
            "10\n",
            "14\n",
            "18\n"
          ],
          "name": "stdout"
        }
      ]
    },
    {
      "cell_type": "code",
      "metadata": {
        "id": "9ao731HHrXlu",
        "outputId": "e786e056-55eb-4452-8da0-447bebefdac7",
        "colab": {
          "base_uri": "https://localhost:8080/",
          "height": 170
        }
      },
      "source": [
        "#Nested Loops\n",
        "#A nested loop is a loop inside a loop.\n",
        "\n",
        "#The \"inner loop\" will be executed one time \n",
        "#for each iteration of the \"outer loop\"\n",
        "\n",
        "adj = [\"a\", \"b\", \"c\"]\n",
        "fruits = [1,2,3]\n",
        "\n",
        "for x in adj:\n",
        "  for y in fruits:\n",
        "    print(x, y)"
      ],
      "execution_count": null,
      "outputs": [
        {
          "output_type": "stream",
          "text": [
            "a 1\n",
            "a 2\n",
            "a 3\n",
            "b 1\n",
            "b 2\n",
            "b 3\n",
            "c 1\n",
            "c 2\n",
            "c 3\n"
          ],
          "name": "stdout"
        }
      ]
    },
    {
      "cell_type": "code",
      "metadata": {
        "id": "mosZCqnjrnjQ"
      },
      "source": [
        ""
      ],
      "execution_count": null,
      "outputs": []
    },
    {
      "cell_type": "markdown",
      "metadata": {
        "id": "mQVEt3VMruxq"
      },
      "source": [
        "## While loop\n",
        "Python Loops\n",
        "Python has two primitive loop commands:\n",
        "\n",
        "* while loops\n",
        "* for loops\n",
        "\n",
        "With the while loop we can execute a set of statements as long as a condition is true."
      ]
    },
    {
      "cell_type": "code",
      "metadata": {
        "id": "jQD9mEfPr26A",
        "outputId": "03ac7226-c6fe-440a-a1a9-570251b8eb41",
        "colab": {
          "base_uri": "https://localhost:8080/",
          "height": 102
        }
      },
      "source": [
        "# print i as long as i is less than 5:\n",
        "i = 1\n",
        "while i < 6:\n",
        "  print(i)\n",
        "  i += 1"
      ],
      "execution_count": null,
      "outputs": [
        {
          "output_type": "stream",
          "text": [
            "1\n",
            "2\n",
            "3\n",
            "4\n",
            "5\n"
          ],
          "name": "stdout"
        }
      ]
    },
    {
      "cell_type": "code",
      "metadata": {
        "id": "UZON5SeasDRh",
        "outputId": "f99f87b8-c8a8-4506-a57a-36386f9f651a",
        "colab": {
          "base_uri": "https://localhost:8080/",
          "height": 119
        }
      },
      "source": [
        "# While loop support the same \"break\" and \"continue\" statement\n",
        "# as for loop\n",
        "i = 1\n",
        "while i < 6:\n",
        "  print(i)\n",
        "  i += 1\n",
        "else:\n",
        "  print(\"i is no longer less than 6\")"
      ],
      "execution_count": null,
      "outputs": [
        {
          "output_type": "stream",
          "text": [
            "1\n",
            "2\n",
            "3\n",
            "4\n",
            "5\n",
            "i is no longer less than 6\n"
          ],
          "name": "stdout"
        }
      ]
    },
    {
      "cell_type": "code",
      "metadata": {
        "id": "VppYhIhasNBc"
      },
      "source": [
        ""
      ],
      "execution_count": null,
      "outputs": []
    },
    {
      "cell_type": "markdown",
      "metadata": {
        "id": "NH4pwaDxsPAb"
      },
      "source": [
        "## Function\n",
        "A function is a block of code which only runs when it is called.\n",
        "\n",
        "You can pass data, known as parameters, into a function.\n",
        "\n",
        "A function can return data as a result.\n",
        "\n",
        "In Python a function is defined using the def keyword:\n"
      ]
    },
    {
      "cell_type": "code",
      "metadata": {
        "id": "eB4JeqATsaMT"
      },
      "source": [
        "# how to define a function.\n",
        "# the function will not be executed before you call it\n",
        "# function can have one or more parameters\n",
        "def testFunction(a):\n",
        "  if a > 3:\n",
        "    print(\"Hello World\")  \n",
        "  else:\n",
        "    print(\"Hello, \", a)"
      ],
      "execution_count": null,
      "outputs": []
    },
    {
      "cell_type": "code",
      "metadata": {
        "id": "LGDXgs55smcq",
        "outputId": "a0db8723-c693-424e-e9e4-2e95b41b3276",
        "colab": {
          "base_uri": "https://localhost:8080/",
          "height": 34
        }
      },
      "source": [
        "# calling the function to run all statements within the function\n",
        "testFunction(2)"
      ],
      "execution_count": null,
      "outputs": [
        {
          "output_type": "stream",
          "text": [
            "Hello,  2\n"
          ],
          "name": "stdout"
        }
      ]
    },
    {
      "cell_type": "code",
      "metadata": {
        "id": "NaFyXrNfsrYY",
        "outputId": "cd787954-749b-4561-b917-72e7d0b593bd",
        "colab": {
          "base_uri": "https://localhost:8080/",
          "height": 34
        }
      },
      "source": [
        "testFunction(3)"
      ],
      "execution_count": null,
      "outputs": [
        {
          "output_type": "stream",
          "text": [
            "Hello,  3\n"
          ],
          "name": "stdout"
        }
      ]
    },
    {
      "cell_type": "code",
      "metadata": {
        "id": "NySoW6eIs7fG",
        "outputId": "64d5c155-6354-4ba6-b6ae-abadc04303ec",
        "colab": {
          "base_uri": "https://localhost:8080/",
          "height": 85
        }
      },
      "source": [
        "#Default Parameter Value\n",
        "\n",
        "#The following example shows how to use a default parameter value.\n",
        "\n",
        "#If we call the function without parameter, it uses the default value:\n",
        "\n",
        "def my_function(country = \"US\"):\n",
        "  print(\"I am from \" + country)\n",
        "\n",
        "my_function(\"Mexico\")\n",
        "my_function(\"India\")\n",
        "my_function() # default value \"US\" is used\n",
        "my_function(\"Brazil\")"
      ],
      "execution_count": null,
      "outputs": [
        {
          "output_type": "stream",
          "text": [
            "I am from Mexico\n",
            "I am from India\n",
            "I am from US\n",
            "I am from Brazil\n"
          ],
          "name": "stdout"
        }
      ]
    },
    {
      "cell_type": "code",
      "metadata": {
        "id": "xCwoxo09tJiz",
        "outputId": "e10d55d5-59f1-4ece-c776-795c996e7583",
        "colab": {
          "base_uri": "https://localhost:8080/",
          "height": 51
        }
      },
      "source": [
        "#Return Values\n",
        "# To let a function return a value, use the return statement\n",
        "def square(x):\n",
        "  return x**2\n",
        "\n",
        "print(square(3))\n",
        "print(square(5))"
      ],
      "execution_count": null,
      "outputs": [
        {
          "output_type": "stream",
          "text": [
            "9\n",
            "25\n"
          ],
          "name": "stdout"
        }
      ]
    },
    {
      "cell_type": "code",
      "metadata": {
        "id": "knWKrdPsts-V"
      },
      "source": [
        ""
      ],
      "execution_count": null,
      "outputs": []
    },
    {
      "cell_type": "markdown",
      "metadata": {
        "id": "F5oPUd-atvPj"
      },
      "source": [
        "## Python modules\n",
        "random\n",
        "\n",
        "This module implements pseudo-random number generators for various distributions.\n",
        "\n",
        "https://docs.python.org/3/library/random.html"
      ]
    },
    {
      "cell_type": "code",
      "metadata": {
        "id": "8wCiPmlLuIQQ",
        "outputId": "6801f284-8892-466d-97cd-222fb612f199",
        "colab": {
          "base_uri": "https://localhost:8080/",
          "height": 34
        }
      },
      "source": [
        "#you need to import a module before using it\n",
        "\n",
        "import random\n",
        "\n",
        "#random.randint(a, b)\n",
        "#Return a random integer N such that a <= N <= b. Alias for randrange(a, b+1).\n",
        "\n",
        "random.randint(1,5)\n",
        "\n",
        "#everytime you run, the value may be different"
      ],
      "execution_count": null,
      "outputs": [
        {
          "output_type": "execute_result",
          "data": {
            "text/plain": [
              "2"
            ]
          },
          "metadata": {
            "tags": []
          },
          "execution_count": 21
        }
      ]
    },
    {
      "cell_type": "code",
      "metadata": {
        "id": "4ssmk5dauOKs",
        "outputId": "85868eaf-8501-4f77-ca12-e8514f35643e",
        "colab": {
          "base_uri": "https://localhost:8080/",
          "height": 34
        }
      },
      "source": [
        "import random\n",
        "\n",
        "#The random() function returns the next random floating point number in the range [0.0, 1.0).\n",
        "random.random()\n"
      ],
      "execution_count": null,
      "outputs": [
        {
          "output_type": "execute_result",
          "data": {
            "text/plain": [
              "0.5927444121361132"
            ]
          },
          "metadata": {
            "tags": []
          },
          "execution_count": 22
        }
      ]
    },
    {
      "cell_type": "code",
      "metadata": {
        "id": "NeAV0isyvMOL"
      },
      "source": [
        ""
      ],
      "execution_count": null,
      "outputs": []
    }
  ]
}