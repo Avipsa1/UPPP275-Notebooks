{
  "nbformat": 4,
  "nbformat_minor": 0,
  "metadata": {
    "colab": {
      "name": "Boston Crimes Heatmap using Folium.ipynb",
      "provenance": [],
      "collapsed_sections": [],
      "authorship_tag": "ABX9TyPwX9rKAeV/aCR44pNr9W6/",
      "include_colab_link": true
    },
    "kernelspec": {
      "name": "python3",
      "display_name": "Python 3"
    },
    "language_info": {
      "name": "python"
    }
  },
  "cells": [
    {
      "cell_type": "markdown",
      "metadata": {
        "id": "view-in-github",
        "colab_type": "text"
      },
      "source": [
        "<a href=\"https://colab.research.google.com/github/Avipsa1/UPPP275-Notebooks/blob/main/Boston_Crimes_Heatmap_using_Folium.ipynb\" target=\"_parent\"><img src=\"https://colab.research.google.com/assets/colab-badge.svg\" alt=\"Open In Colab\"/></a>"
      ]
    },
    {
      "cell_type": "markdown",
      "source": [
        "Initialize a folium map\n",
        "You can find additional leaflet basemap tiles here: http://leaflet-extras.github.io/leaflet-providers/preview"
      ],
      "metadata": {
        "id": "Irl1gOkHB4cX"
      }
    },
    {
      "cell_type": "code",
      "execution_count": null,
      "metadata": {
        "colab": {
          "base_uri": "https://localhost:8080/",
          "height": 711
        },
        "id": "VZ4TVAPr__iS",
        "outputId": "161cd383-a712-4fea-84e2-ee0e9ff34cec"
      },
      "outputs": [
        {
          "output_type": "execute_result",
          "data": {
            "text/plain": [
              "<folium.folium.Map at 0x7f1f54715cd0>"
            ],
            "text/html": [
              "<div style=\"width:100%;\"><div style=\"position:relative;width:100%;height:0;padding-bottom:60%;\"><span style=\"color:#565656\">Make this Notebook Trusted to load map: File -> Trust Notebook</span><iframe src=\"about:blank\" style=\"position:absolute;width:100%;height:100%;left:0;top:0;border:none !important;\" data-html=%3C%21DOCTYPE%20html%3E%0A%3Chead%3E%20%20%20%20%0A%20%20%20%20%3Cmeta%20http-equiv%3D%22content-type%22%20content%3D%22text/html%3B%20charset%3DUTF-8%22%20/%3E%0A%20%20%20%20%3Cscript%3EL_PREFER_CANVAS%3Dfalse%3B%20L_NO_TOUCH%3Dfalse%3B%20L_DISABLE_3D%3Dfalse%3B%3C/script%3E%0A%20%20%20%20%3Cscript%20src%3D%22https%3A//cdn.jsdelivr.net/npm/leaflet%401.4.0/dist/leaflet.js%22%3E%3C/script%3E%0A%20%20%20%20%3Cscript%20src%3D%22https%3A//code.jquery.com/jquery-1.12.4.min.js%22%3E%3C/script%3E%0A%20%20%20%20%3Cscript%20src%3D%22https%3A//maxcdn.bootstrapcdn.com/bootstrap/3.2.0/js/bootstrap.min.js%22%3E%3C/script%3E%0A%20%20%20%20%3Cscript%20src%3D%22https%3A//cdnjs.cloudflare.com/ajax/libs/Leaflet.awesome-markers/2.0.2/leaflet.awesome-markers.js%22%3E%3C/script%3E%0A%20%20%20%20%3Clink%20rel%3D%22stylesheet%22%20href%3D%22https%3A//cdn.jsdelivr.net/npm/leaflet%401.4.0/dist/leaflet.css%22/%3E%0A%20%20%20%20%3Clink%20rel%3D%22stylesheet%22%20href%3D%22https%3A//maxcdn.bootstrapcdn.com/bootstrap/3.2.0/css/bootstrap.min.css%22/%3E%0A%20%20%20%20%3Clink%20rel%3D%22stylesheet%22%20href%3D%22https%3A//maxcdn.bootstrapcdn.com/bootstrap/3.2.0/css/bootstrap-theme.min.css%22/%3E%0A%20%20%20%20%3Clink%20rel%3D%22stylesheet%22%20href%3D%22https%3A//maxcdn.bootstrapcdn.com/font-awesome/4.6.3/css/font-awesome.min.css%22/%3E%0A%20%20%20%20%3Clink%20rel%3D%22stylesheet%22%20href%3D%22https%3A//cdnjs.cloudflare.com/ajax/libs/Leaflet.awesome-markers/2.0.2/leaflet.awesome-markers.css%22/%3E%0A%20%20%20%20%3Clink%20rel%3D%22stylesheet%22%20href%3D%22https%3A//rawcdn.githack.com/python-visualization/folium/master/folium/templates/leaflet.awesome.rotate.css%22/%3E%0A%20%20%20%20%3Cstyle%3Ehtml%2C%20body%20%7Bwidth%3A%20100%25%3Bheight%3A%20100%25%3Bmargin%3A%200%3Bpadding%3A%200%3B%7D%3C/style%3E%0A%20%20%20%20%3Cstyle%3E%23map%20%7Bposition%3Aabsolute%3Btop%3A0%3Bbottom%3A0%3Bright%3A0%3Bleft%3A0%3B%7D%3C/style%3E%0A%20%20%20%20%0A%20%20%20%20%3Cmeta%20name%3D%22viewport%22%20content%3D%22width%3Ddevice-width%2C%0A%20%20%20%20%20%20%20%20initial-scale%3D1.0%2C%20maximum-scale%3D1.0%2C%20user-scalable%3Dno%22%20/%3E%0A%20%20%20%20%3Cstyle%3E%23map_bc86f36abca7495cba5983612c76fbd1%20%7B%0A%20%20%20%20%20%20%20%20position%3A%20relative%3B%0A%20%20%20%20%20%20%20%20width%3A%20100.0%25%3B%0A%20%20%20%20%20%20%20%20height%3A%20100.0%25%3B%0A%20%20%20%20%20%20%20%20left%3A%200.0%25%3B%0A%20%20%20%20%20%20%20%20top%3A%200.0%25%3B%0A%20%20%20%20%20%20%20%20%7D%0A%20%20%20%20%3C/style%3E%0A%3C/head%3E%0A%3Cbody%3E%20%20%20%20%0A%20%20%20%20%0A%20%20%20%20%3Cdiv%20class%3D%22folium-map%22%20id%3D%22map_bc86f36abca7495cba5983612c76fbd1%22%20%3E%3C/div%3E%0A%3C/body%3E%0A%3Cscript%3E%20%20%20%20%0A%20%20%20%20%0A%20%20%20%20%0A%20%20%20%20%20%20%20%20var%20bounds%20%3D%20null%3B%0A%20%20%20%20%0A%0A%20%20%20%20var%20map_bc86f36abca7495cba5983612c76fbd1%20%3D%20L.map%28%0A%20%20%20%20%20%20%20%20%27map_bc86f36abca7495cba5983612c76fbd1%27%2C%20%7B%0A%20%20%20%20%20%20%20%20center%3A%20%5B42.3202%2C%20-71.15%5D%2C%0A%20%20%20%20%20%20%20%20zoom%3A%207%2C%0A%20%20%20%20%20%20%20%20maxBounds%3A%20bounds%2C%0A%20%20%20%20%20%20%20%20layers%3A%20%5B%5D%2C%0A%20%20%20%20%20%20%20%20worldCopyJump%3A%20false%2C%0A%20%20%20%20%20%20%20%20crs%3A%20L.CRS.EPSG3857%2C%0A%20%20%20%20%20%20%20%20zoomControl%3A%20true%2C%0A%20%20%20%20%20%20%20%20%7D%29%3B%0A%0A%0A%20%20%20%20%0A%20%20%20%20var%20tile_layer_d8bb26041671418b984339a86ad3e7ca%20%3D%20L.tileLayer%28%0A%20%20%20%20%20%20%20%20%27https%3A//%7Bs%7D.tile.opentopomap.org/%7Bz%7D/%7Bx%7D/%7By%7D.png%27%2C%0A%20%20%20%20%20%20%20%20%7B%0A%20%20%20%20%20%20%20%20%22attribution%22%3A%20%22Map%20data%3A%20%26copy%3B%20%3Ca%20href%3D%5C%22https%3A//www.openstreetmap.org/copyright%5C%22%3EOpenStreetMap%3C/a%3E%20contributors%2C%20%3Ca%20href%3D%5C%22http%3A//viewfinderpanoramas.org%5C%22%3ESRTM%3C/a%3E%20%7C%20Map%20style%3A%20%26copy%3B%20%3Ca%20href%3D%5C%22https%3A//opentopomap.org%5C%22%3EOpenTopoMap%3C/a%3E%20%28%3Ca%20href%3D%5C%22https%3A//creativecommons.org/licenses/by-sa/3.0/%5C%22%3ECC-BY-SA%3C/a%3E%29%22%2C%0A%20%20%20%20%20%20%20%20%22detectRetina%22%3A%20false%2C%0A%20%20%20%20%20%20%20%20%22maxNativeZoom%22%3A%2018%2C%0A%20%20%20%20%20%20%20%20%22maxZoom%22%3A%2018%2C%0A%20%20%20%20%20%20%20%20%22minZoom%22%3A%200%2C%0A%20%20%20%20%20%20%20%20%22noWrap%22%3A%20false%2C%0A%20%20%20%20%20%20%20%20%22opacity%22%3A%201%2C%0A%20%20%20%20%20%20%20%20%22subdomains%22%3A%20%22abc%22%2C%0A%20%20%20%20%20%20%20%20%22tms%22%3A%20false%0A%7D%29.addTo%28map_bc86f36abca7495cba5983612c76fbd1%29%3B%0A%3C/script%3E onload=\"this.contentDocument.open();this.contentDocument.write(    decodeURIComponent(this.getAttribute('data-html')));this.contentDocument.close();\" allowfullscreen webkitallowfullscreen mozallowfullscreen></iframe></div></div>"
            ]
          },
          "metadata": {},
          "execution_count": 98
        }
      ],
      "source": [
        "import folium\n",
        "boston = [42.3202, -71.1500]\n",
        "map = folium.Map(\n",
        "    location = boston,\n",
        "    zoom_start = 7,\n",
        "    tiles = 'https://{s}.tile.opentopomap.org/{z}/{x}/{y}.png',\n",
        "    attr = 'Map data: &copy; <a href=\"https://www.openstreetmap.org/copyright\">OpenStreetMap</a> contributors, <a href=\"http://viewfinderpanoramas.org\">SRTM</a> | Map style: &copy; <a href=\"https://opentopomap.org\">OpenTopoMap</a> (<a href=\"https://creativecommons.org/licenses/by-sa/3.0/\">CC-BY-SA</a>)'\n",
        ")\n",
        "map"
      ]
    },
    {
      "cell_type": "markdown",
      "source": [
        "Read crime data in a pandas dataframe"
      ],
      "metadata": {
        "id": "Hb1ipIqYD1Zb"
      }
    },
    {
      "cell_type": "code",
      "source": [
        "import pandas as pd\n",
        "crimes = pd.read_csv(\"./sample_data/boston_crime.csv\",encoding= 'unicode_escape')"
      ],
      "metadata": {
        "id": "_epMiIEYC-Qb"
      },
      "execution_count": null,
      "outputs": []
    },
    {
      "cell_type": "markdown",
      "source": [
        "Access dataframe values"
      ],
      "metadata": {
        "id": "iHlZWB2HD659"
      }
    },
    {
      "cell_type": "code",
      "source": [
        "crimes.head()"
      ],
      "metadata": {
        "colab": {
          "base_uri": "https://localhost:8080/",
          "height": 357
        },
        "id": "Sn99app6D9Xe",
        "outputId": "611f5bb3-6dce-4a34-b83a-ca091c98671c"
      },
      "execution_count": null,
      "outputs": [
        {
          "output_type": "execute_result",
          "data": {
            "text/plain": [
              "  INCIDENT_NUMBER  OFFENSE_CODE    OFFENSE_CODE_GROUP   OFFENSE_DESCRIPTION  \\\n",
              "0      I182070945           619               Larceny    LARCENY ALL OTHERS   \n",
              "1      I182070943          1402             Vandalism             VANDALISM   \n",
              "2      I182070941          3410                 Towed   TOWED MOTOR VEHICLE   \n",
              "3      I182070940          3114  Investigate Property  INVESTIGATE PROPERTY   \n",
              "4      I182070938          3114  Investigate Property  INVESTIGATE PROPERTY   \n",
              "\n",
              "  DISTRICT REPORTING_AREA SHOOTING OCCURRED_ON_DATE  YEAR  MONTH DAY_OF_WEEK  \\\n",
              "0      D14            808      NaN   9/2/2018 13:00  2018      9      Sunday   \n",
              "1      C11            347      NaN   8/21/2018 0:00  2018      8     Tuesday   \n",
              "2       D4            151      NaN   9/3/2018 19:27  2018      9      Monday   \n",
              "3       D4            272      NaN   9/3/2018 21:16  2018      9      Monday   \n",
              "4       B3            421      NaN   9/3/2018 21:05  2018      9      Monday   \n",
              "\n",
              "   HOUR    UCR_PART       STREET        Lat       Long  \\\n",
              "0    13    Part One   LINCOLN ST  42.357791 -71.139371   \n",
              "1     0    Part Two     HECLA ST  42.306821 -71.060300   \n",
              "2    19  Part Three  CAZENOVE ST  42.346589 -71.072429   \n",
              "3    21  Part Three   NEWCOMB ST  42.334182 -71.078664   \n",
              "4    21  Part Three     DELHI ST  42.275365 -71.090361   \n",
              "\n",
              "                      Location  \n",
              "0  (42.35779134, -71.13937053)  \n",
              "1  (42.30682138, -71.06030035)  \n",
              "2  (42.34658879, -71.07242943)  \n",
              "3  (42.33418175, -71.07866441)  \n",
              "4  (42.27536542, -71.09036101)  "
            ],
            "text/html": [
              "\n",
              "  <div id=\"df-d8322f38-ab58-4cfc-a14a-ba5bdbec8d68\">\n",
              "    <div class=\"colab-df-container\">\n",
              "      <div>\n",
              "<style scoped>\n",
              "    .dataframe tbody tr th:only-of-type {\n",
              "        vertical-align: middle;\n",
              "    }\n",
              "\n",
              "    .dataframe tbody tr th {\n",
              "        vertical-align: top;\n",
              "    }\n",
              "\n",
              "    .dataframe thead th {\n",
              "        text-align: right;\n",
              "    }\n",
              "</style>\n",
              "<table border=\"1\" class=\"dataframe\">\n",
              "  <thead>\n",
              "    <tr style=\"text-align: right;\">\n",
              "      <th></th>\n",
              "      <th>INCIDENT_NUMBER</th>\n",
              "      <th>OFFENSE_CODE</th>\n",
              "      <th>OFFENSE_CODE_GROUP</th>\n",
              "      <th>OFFENSE_DESCRIPTION</th>\n",
              "      <th>DISTRICT</th>\n",
              "      <th>REPORTING_AREA</th>\n",
              "      <th>SHOOTING</th>\n",
              "      <th>OCCURRED_ON_DATE</th>\n",
              "      <th>YEAR</th>\n",
              "      <th>MONTH</th>\n",
              "      <th>DAY_OF_WEEK</th>\n",
              "      <th>HOUR</th>\n",
              "      <th>UCR_PART</th>\n",
              "      <th>STREET</th>\n",
              "      <th>Lat</th>\n",
              "      <th>Long</th>\n",
              "      <th>Location</th>\n",
              "    </tr>\n",
              "  </thead>\n",
              "  <tbody>\n",
              "    <tr>\n",
              "      <th>0</th>\n",
              "      <td>I182070945</td>\n",
              "      <td>619</td>\n",
              "      <td>Larceny</td>\n",
              "      <td>LARCENY ALL OTHERS</td>\n",
              "      <td>D14</td>\n",
              "      <td>808</td>\n",
              "      <td>NaN</td>\n",
              "      <td>9/2/2018 13:00</td>\n",
              "      <td>2018</td>\n",
              "      <td>9</td>\n",
              "      <td>Sunday</td>\n",
              "      <td>13</td>\n",
              "      <td>Part One</td>\n",
              "      <td>LINCOLN ST</td>\n",
              "      <td>42.357791</td>\n",
              "      <td>-71.139371</td>\n",
              "      <td>(42.35779134, -71.13937053)</td>\n",
              "    </tr>\n",
              "    <tr>\n",
              "      <th>1</th>\n",
              "      <td>I182070943</td>\n",
              "      <td>1402</td>\n",
              "      <td>Vandalism</td>\n",
              "      <td>VANDALISM</td>\n",
              "      <td>C11</td>\n",
              "      <td>347</td>\n",
              "      <td>NaN</td>\n",
              "      <td>8/21/2018 0:00</td>\n",
              "      <td>2018</td>\n",
              "      <td>8</td>\n",
              "      <td>Tuesday</td>\n",
              "      <td>0</td>\n",
              "      <td>Part Two</td>\n",
              "      <td>HECLA ST</td>\n",
              "      <td>42.306821</td>\n",
              "      <td>-71.060300</td>\n",
              "      <td>(42.30682138, -71.06030035)</td>\n",
              "    </tr>\n",
              "    <tr>\n",
              "      <th>2</th>\n",
              "      <td>I182070941</td>\n",
              "      <td>3410</td>\n",
              "      <td>Towed</td>\n",
              "      <td>TOWED MOTOR VEHICLE</td>\n",
              "      <td>D4</td>\n",
              "      <td>151</td>\n",
              "      <td>NaN</td>\n",
              "      <td>9/3/2018 19:27</td>\n",
              "      <td>2018</td>\n",
              "      <td>9</td>\n",
              "      <td>Monday</td>\n",
              "      <td>19</td>\n",
              "      <td>Part Three</td>\n",
              "      <td>CAZENOVE ST</td>\n",
              "      <td>42.346589</td>\n",
              "      <td>-71.072429</td>\n",
              "      <td>(42.34658879, -71.07242943)</td>\n",
              "    </tr>\n",
              "    <tr>\n",
              "      <th>3</th>\n",
              "      <td>I182070940</td>\n",
              "      <td>3114</td>\n",
              "      <td>Investigate Property</td>\n",
              "      <td>INVESTIGATE PROPERTY</td>\n",
              "      <td>D4</td>\n",
              "      <td>272</td>\n",
              "      <td>NaN</td>\n",
              "      <td>9/3/2018 21:16</td>\n",
              "      <td>2018</td>\n",
              "      <td>9</td>\n",
              "      <td>Monday</td>\n",
              "      <td>21</td>\n",
              "      <td>Part Three</td>\n",
              "      <td>NEWCOMB ST</td>\n",
              "      <td>42.334182</td>\n",
              "      <td>-71.078664</td>\n",
              "      <td>(42.33418175, -71.07866441)</td>\n",
              "    </tr>\n",
              "    <tr>\n",
              "      <th>4</th>\n",
              "      <td>I182070938</td>\n",
              "      <td>3114</td>\n",
              "      <td>Investigate Property</td>\n",
              "      <td>INVESTIGATE PROPERTY</td>\n",
              "      <td>B3</td>\n",
              "      <td>421</td>\n",
              "      <td>NaN</td>\n",
              "      <td>9/3/2018 21:05</td>\n",
              "      <td>2018</td>\n",
              "      <td>9</td>\n",
              "      <td>Monday</td>\n",
              "      <td>21</td>\n",
              "      <td>Part Three</td>\n",
              "      <td>DELHI ST</td>\n",
              "      <td>42.275365</td>\n",
              "      <td>-71.090361</td>\n",
              "      <td>(42.27536542, -71.09036101)</td>\n",
              "    </tr>\n",
              "  </tbody>\n",
              "</table>\n",
              "</div>\n",
              "      <button class=\"colab-df-convert\" onclick=\"convertToInteractive('df-d8322f38-ab58-4cfc-a14a-ba5bdbec8d68')\"\n",
              "              title=\"Convert this dataframe to an interactive table.\"\n",
              "              style=\"display:none;\">\n",
              "        \n",
              "  <svg xmlns=\"http://www.w3.org/2000/svg\" height=\"24px\"viewBox=\"0 0 24 24\"\n",
              "       width=\"24px\">\n",
              "    <path d=\"M0 0h24v24H0V0z\" fill=\"none\"/>\n",
              "    <path d=\"M18.56 5.44l.94 2.06.94-2.06 2.06-.94-2.06-.94-.94-2.06-.94 2.06-2.06.94zm-11 1L8.5 8.5l.94-2.06 2.06-.94-2.06-.94L8.5 2.5l-.94 2.06-2.06.94zm10 10l.94 2.06.94-2.06 2.06-.94-2.06-.94-.94-2.06-.94 2.06-2.06.94z\"/><path d=\"M17.41 7.96l-1.37-1.37c-.4-.4-.92-.59-1.43-.59-.52 0-1.04.2-1.43.59L10.3 9.45l-7.72 7.72c-.78.78-.78 2.05 0 2.83L4 21.41c.39.39.9.59 1.41.59.51 0 1.02-.2 1.41-.59l7.78-7.78 2.81-2.81c.8-.78.8-2.07 0-2.86zM5.41 20L4 18.59l7.72-7.72 1.47 1.35L5.41 20z\"/>\n",
              "  </svg>\n",
              "      </button>\n",
              "      \n",
              "  <style>\n",
              "    .colab-df-container {\n",
              "      display:flex;\n",
              "      flex-wrap:wrap;\n",
              "      gap: 12px;\n",
              "    }\n",
              "\n",
              "    .colab-df-convert {\n",
              "      background-color: #E8F0FE;\n",
              "      border: none;\n",
              "      border-radius: 50%;\n",
              "      cursor: pointer;\n",
              "      display: none;\n",
              "      fill: #1967D2;\n",
              "      height: 32px;\n",
              "      padding: 0 0 0 0;\n",
              "      width: 32px;\n",
              "    }\n",
              "\n",
              "    .colab-df-convert:hover {\n",
              "      background-color: #E2EBFA;\n",
              "      box-shadow: 0px 1px 2px rgba(60, 64, 67, 0.3), 0px 1px 3px 1px rgba(60, 64, 67, 0.15);\n",
              "      fill: #174EA6;\n",
              "    }\n",
              "\n",
              "    [theme=dark] .colab-df-convert {\n",
              "      background-color: #3B4455;\n",
              "      fill: #D2E3FC;\n",
              "    }\n",
              "\n",
              "    [theme=dark] .colab-df-convert:hover {\n",
              "      background-color: #434B5C;\n",
              "      box-shadow: 0px 1px 3px 1px rgba(0, 0, 0, 0.15);\n",
              "      filter: drop-shadow(0px 1px 2px rgba(0, 0, 0, 0.3));\n",
              "      fill: #FFFFFF;\n",
              "    }\n",
              "  </style>\n",
              "\n",
              "      <script>\n",
              "        const buttonEl =\n",
              "          document.querySelector('#df-d8322f38-ab58-4cfc-a14a-ba5bdbec8d68 button.colab-df-convert');\n",
              "        buttonEl.style.display =\n",
              "          google.colab.kernel.accessAllowed ? 'block' : 'none';\n",
              "\n",
              "        async function convertToInteractive(key) {\n",
              "          const element = document.querySelector('#df-d8322f38-ab58-4cfc-a14a-ba5bdbec8d68');\n",
              "          const dataTable =\n",
              "            await google.colab.kernel.invokeFunction('convertToInteractive',\n",
              "                                                     [key], {});\n",
              "          if (!dataTable) return;\n",
              "\n",
              "          const docLinkHtml = 'Like what you see? Visit the ' +\n",
              "            '<a target=\"_blank\" href=https://colab.research.google.com/notebooks/data_table.ipynb>data table notebook</a>'\n",
              "            + ' to learn more about interactive tables.';\n",
              "          element.innerHTML = '';\n",
              "          dataTable['output_type'] = 'display_data';\n",
              "          await google.colab.output.renderOutput(dataTable, element);\n",
              "          const docLink = document.createElement('div');\n",
              "          docLink.innerHTML = docLinkHtml;\n",
              "          element.appendChild(docLink);\n",
              "        }\n",
              "      </script>\n",
              "    </div>\n",
              "  </div>\n",
              "  "
            ]
          },
          "metadata": {},
          "execution_count": 100
        }
      ]
    },
    {
      "cell_type": "code",
      "source": [
        "crimes['DISTRICT']"
      ],
      "metadata": {
        "colab": {
          "base_uri": "https://localhost:8080/"
        },
        "id": "AEXiz4Z6FYgd",
        "outputId": "d2c75e7e-2d98-408f-e1bd-7ce93cfeb36d"
      },
      "execution_count": null,
      "outputs": [
        {
          "output_type": "execute_result",
          "data": {
            "text/plain": [
              "0         D14\n",
              "1         C11\n",
              "2          D4\n",
              "3          D4\n",
              "4          B3\n",
              "         ... \n",
              "319068     D4\n",
              "319069    E18\n",
              "319070    E18\n",
              "319071    E13\n",
              "319072     D4\n",
              "Name: DISTRICT, Length: 319073, dtype: object"
            ]
          },
          "metadata": {},
          "execution_count": 101
        }
      ]
    },
    {
      "cell_type": "code",
      "source": [
        "crimes.DISTRICT"
      ],
      "metadata": {
        "colab": {
          "base_uri": "https://localhost:8080/"
        },
        "id": "TKydA1jIFblA",
        "outputId": "08c1779a-2bec-4135-e8ab-b8837a2aa471"
      },
      "execution_count": null,
      "outputs": [
        {
          "output_type": "execute_result",
          "data": {
            "text/plain": [
              "0         D14\n",
              "1         C11\n",
              "2          D4\n",
              "3          D4\n",
              "4          B3\n",
              "         ... \n",
              "319068     D4\n",
              "319069    E18\n",
              "319070    E18\n",
              "319071    E13\n",
              "319072     D4\n",
              "Name: DISTRICT, Length: 319073, dtype: object"
            ]
          },
          "metadata": {},
          "execution_count": 12
        }
      ]
    },
    {
      "cell_type": "code",
      "source": [
        "type(crimes.DISTRICT)"
      ],
      "metadata": {
        "colab": {
          "base_uri": "https://localhost:8080/"
        },
        "id": "DU6y3_5SF51p",
        "outputId": "aedb4d7d-4836-4581-9e2b-7e50f3b5887d"
      },
      "execution_count": null,
      "outputs": [
        {
          "output_type": "execute_result",
          "data": {
            "text/plain": [
              "pandas.core.series.Series"
            ]
          },
          "metadata": {},
          "execution_count": 13
        }
      ]
    },
    {
      "cell_type": "code",
      "source": [
        "crimes.DISTRICT[3]"
      ],
      "metadata": {
        "colab": {
          "base_uri": "https://localhost:8080/",
          "height": 35
        },
        "id": "tBqrTEsbF8ub",
        "outputId": "1ff9a410-b996-4901-ade9-d718b1ac14f4"
      },
      "execution_count": null,
      "outputs": [
        {
          "output_type": "execute_result",
          "data": {
            "text/plain": [
              "'D4'"
            ],
            "application/vnd.google.colaboratory.intrinsic+json": {
              "type": "string"
            }
          },
          "metadata": {},
          "execution_count": 16
        }
      ]
    },
    {
      "cell_type": "code",
      "source": [
        "crimes.iloc[0,4]"
      ],
      "metadata": {
        "colab": {
          "base_uri": "https://localhost:8080/",
          "height": 35
        },
        "id": "GAneicc9GL3n",
        "outputId": "44f836dc-cb04-4630-cf15-9a362d6ea77e"
      },
      "execution_count": null,
      "outputs": [
        {
          "output_type": "execute_result",
          "data": {
            "text/plain": [
              "'D14'"
            ],
            "application/vnd.google.colaboratory.intrinsic+json": {
              "type": "string"
            }
          },
          "metadata": {},
          "execution_count": 15
        }
      ]
    },
    {
      "cell_type": "code",
      "source": [
        "crimes.DISTRICT.value_counts()"
      ],
      "metadata": {
        "colab": {
          "base_uri": "https://localhost:8080/"
        },
        "id": "l6GVQxOcGSTW",
        "outputId": "7068fdac-9a44-40dd-e4b6-be5e0cf428c7"
      },
      "execution_count": null,
      "outputs": [
        {
          "output_type": "execute_result",
          "data": {
            "text/plain": [
              "B2     49945\n",
              "C11    42530\n",
              "D4     41915\n",
              "A1     35717\n",
              "B3     35442\n",
              "C6     23460\n",
              "D14    20127\n",
              "E13    17536\n",
              "E18    17348\n",
              "A7     13544\n",
              "E5     13239\n",
              "A15     6505\n",
              "Name: DISTRICT, dtype: int64"
            ]
          },
          "metadata": {},
          "execution_count": 22
        }
      ]
    },
    {
      "cell_type": "code",
      "source": [
        "crimes.Lat.describe()"
      ],
      "metadata": {
        "colab": {
          "base_uri": "https://localhost:8080/"
        },
        "id": "WnZByTq5GpD5",
        "outputId": "35ad4bfa-35c4-4f54-bbce-a0ab13daffeb"
      },
      "execution_count": null,
      "outputs": [
        {
          "output_type": "execute_result",
          "data": {
            "text/plain": [
              "count    299074.000000\n",
              "mean         42.214381\n",
              "std           2.159766\n",
              "min          -1.000000\n",
              "25%          42.297442\n",
              "50%          42.325538\n",
              "75%          42.348624\n",
              "max          42.395042\n",
              "Name: Lat, dtype: float64"
            ]
          },
          "metadata": {},
          "execution_count": 24
        }
      ]
    },
    {
      "cell_type": "code",
      "source": [
        "crimes.Lat/5.0"
      ],
      "metadata": {
        "colab": {
          "base_uri": "https://localhost:8080/"
        },
        "id": "O0l1DfMuG1YF",
        "outputId": "4a8ac870-1444-4da0-d5fd-996f7d8f7f39"
      },
      "execution_count": null,
      "outputs": [
        {
          "output_type": "execute_result",
          "data": {
            "text/plain": [
              "0         8.471558\n",
              "1         8.461364\n",
              "2         8.469318\n",
              "3         8.466836\n",
              "4         8.455073\n",
              "            ...   \n",
              "319068    8.467390\n",
              "319069    8.451185\n",
              "319070    8.451185\n",
              "319071    8.460467\n",
              "319072    8.466768\n",
              "Name: Lat, Length: 319073, dtype: float64"
            ]
          },
          "metadata": {},
          "execution_count": 25
        }
      ]
    },
    {
      "cell_type": "code",
      "source": [
        "crimes.DAY_OF_WEEK == \"Tuesday\""
      ],
      "metadata": {
        "colab": {
          "base_uri": "https://localhost:8080/"
        },
        "id": "ktXXu75XG6jK",
        "outputId": "5fe89067-603e-47c3-fdb2-6ab5626d14ab"
      },
      "execution_count": null,
      "outputs": [
        {
          "output_type": "execute_result",
          "data": {
            "text/plain": [
              "0         False\n",
              "1          True\n",
              "2         False\n",
              "3         False\n",
              "4         False\n",
              "          ...  \n",
              "319068    False\n",
              "319069    False\n",
              "319070    False\n",
              "319071     True\n",
              "319072    False\n",
              "Name: DAY_OF_WEEK, Length: 319073, dtype: bool"
            ]
          },
          "metadata": {},
          "execution_count": 31
        }
      ]
    },
    {
      "cell_type": "markdown",
      "source": [
        "Rename or drop unwanted columns"
      ],
      "metadata": {
        "id": "T0ADrgk-FB_q"
      }
    },
    {
      "cell_type": "code",
      "source": [
        "renamed_columns = {\n",
        "    'OCCURRED_ON_DATE': 'date',\n",
        "    'OFFENSE_CODE_GROUP': 'offense',\n",
        "    'SHOOTING': 'shooting',\n",
        "    'Lat': 'lat',\n",
        "    'Long': 'lon'\n",
        "}\n",
        "crimes = crimes.rename(columns = renamed_columns)\n",
        "crimes = crimes[list(renamed_columns.values())]"
      ],
      "metadata": {
        "id": "3APA0NLOFEpj"
      },
      "execution_count": null,
      "outputs": []
    },
    {
      "cell_type": "code",
      "source": [
        "crimes.columns"
      ],
      "metadata": {
        "colab": {
          "base_uri": "https://localhost:8080/"
        },
        "id": "JM9O5gBFH-47",
        "outputId": "586ffeeb-32ad-4523-eff1-3538cb266bb5"
      },
      "execution_count": null,
      "outputs": [
        {
          "output_type": "execute_result",
          "data": {
            "text/plain": [
              "Index(['date', 'offense', 'shooting', 'lat', 'lon'], dtype='object')"
            ]
          },
          "metadata": {},
          "execution_count": 34
        }
      ]
    },
    {
      "cell_type": "markdown",
      "source": [
        "Deal with different data types"
      ],
      "metadata": {
        "id": "IcwZBfw7FFzF"
      }
    },
    {
      "cell_type": "code",
      "source": [
        "type(crimes.date[0])"
      ],
      "metadata": {
        "colab": {
          "base_uri": "https://localhost:8080/"
        },
        "id": "EBEoZDwiFKo9",
        "outputId": "9df73059-582c-4d0e-aef2-6e562e5fd8b9"
      },
      "execution_count": null,
      "outputs": [
        {
          "output_type": "execute_result",
          "data": {
            "text/plain": [
              "str"
            ]
          },
          "metadata": {},
          "execution_count": 35
        }
      ]
    },
    {
      "cell_type": "code",
      "source": [
        "#Convert date from String to timestamp format\n",
        "crimes.date = pd.to_datetime(crimes.date)\n",
        "#Sort the dataframe by date of occurrence of the crimes\n",
        "crimes = crimes.sort_values(by = \"date\")\n",
        "#Print the first 10 crime incidents from the sorted dataframe\n",
        "crimes.date[0:10]"
      ],
      "metadata": {
        "colab": {
          "base_uri": "https://localhost:8080/"
        },
        "id": "JonvObihIP9y",
        "outputId": "7398222a-671a-439e-8c0a-f423911c67ff"
      },
      "execution_count": null,
      "outputs": [
        {
          "output_type": "execute_result",
          "data": {
            "text/plain": [
              "129056   2015-06-15 00:00:00\n",
              "314676   2015-06-15 00:00:00\n",
              "310350   2015-06-15 00:00:00\n",
              "253464   2015-06-15 00:00:00\n",
              "8793     2015-06-15 00:00:00\n",
              "318414   2015-06-15 00:00:00\n",
              "317446   2015-06-15 00:00:00\n",
              "303001   2015-06-15 00:00:00\n",
              "317447   2015-06-15 00:00:00\n",
              "318621   2015-06-15 00:01:00\n",
              "Name: date, dtype: datetime64[ns]"
            ]
          },
          "metadata": {},
          "execution_count": 103
        }
      ]
    },
    {
      "cell_type": "markdown",
      "source": [
        "Deal with null values"
      ],
      "metadata": {
        "id": "ahZ0irUtIvgN"
      }
    },
    {
      "cell_type": "code",
      "source": [
        "crimes.shooting"
      ],
      "metadata": {
        "colab": {
          "base_uri": "https://localhost:8080/"
        },
        "id": "-4MVqA2zIxDB",
        "outputId": "9d171b81-081e-4cb1-9651-6c9ab9618535"
      },
      "execution_count": null,
      "outputs": [
        {
          "output_type": "execute_result",
          "data": {
            "text/plain": [
              "129056    NaN\n",
              "314676    NaN\n",
              "310350    NaN\n",
              "253464    NaN\n",
              "8793      NaN\n",
              "         ... \n",
              "8         NaN\n",
              "4         NaN\n",
              "5         NaN\n",
              "3         NaN\n",
              "6         NaN\n",
              "Name: shooting, Length: 319073, dtype: object"
            ]
          },
          "metadata": {},
          "execution_count": 37
        }
      ]
    },
    {
      "cell_type": "code",
      "source": [
        "crimes.shooting = (crimes.shooting == 'Y')\n",
        "crimes = crimes.dropna()\n",
        "crimes.head()"
      ],
      "metadata": {
        "colab": {
          "base_uri": "https://localhost:8080/",
          "height": 206
        },
        "id": "qqBJGVM2JLRU",
        "outputId": "35c0c885-d47c-4a4d-e007-9122a4555ae7"
      },
      "execution_count": null,
      "outputs": [
        {
          "output_type": "execute_result",
          "data": {
            "text/plain": [
              "             date           offense  shooting        lat        lon\n",
              "129056 2015-06-15        Harassment     False  42.291093 -71.065945\n",
              "314676 2015-06-15  Confidence Games     False  42.300217 -71.080979\n",
              "310350 2015-06-15             Other     False  42.293606 -71.071887\n",
              "253464 2015-06-15     Property Lost     False  42.283634 -71.082813\n",
              "8793   2015-06-15     Property Lost     False  -1.000000  -1.000000"
            ],
            "text/html": [
              "\n",
              "  <div id=\"df-8f12b41b-175f-47f2-a2fb-0d172dac21e6\">\n",
              "    <div class=\"colab-df-container\">\n",
              "      <div>\n",
              "<style scoped>\n",
              "    .dataframe tbody tr th:only-of-type {\n",
              "        vertical-align: middle;\n",
              "    }\n",
              "\n",
              "    .dataframe tbody tr th {\n",
              "        vertical-align: top;\n",
              "    }\n",
              "\n",
              "    .dataframe thead th {\n",
              "        text-align: right;\n",
              "    }\n",
              "</style>\n",
              "<table border=\"1\" class=\"dataframe\">\n",
              "  <thead>\n",
              "    <tr style=\"text-align: right;\">\n",
              "      <th></th>\n",
              "      <th>date</th>\n",
              "      <th>offense</th>\n",
              "      <th>shooting</th>\n",
              "      <th>lat</th>\n",
              "      <th>lon</th>\n",
              "    </tr>\n",
              "  </thead>\n",
              "  <tbody>\n",
              "    <tr>\n",
              "      <th>129056</th>\n",
              "      <td>2015-06-15</td>\n",
              "      <td>Harassment</td>\n",
              "      <td>False</td>\n",
              "      <td>42.291093</td>\n",
              "      <td>-71.065945</td>\n",
              "    </tr>\n",
              "    <tr>\n",
              "      <th>314676</th>\n",
              "      <td>2015-06-15</td>\n",
              "      <td>Confidence Games</td>\n",
              "      <td>False</td>\n",
              "      <td>42.300217</td>\n",
              "      <td>-71.080979</td>\n",
              "    </tr>\n",
              "    <tr>\n",
              "      <th>310350</th>\n",
              "      <td>2015-06-15</td>\n",
              "      <td>Other</td>\n",
              "      <td>False</td>\n",
              "      <td>42.293606</td>\n",
              "      <td>-71.071887</td>\n",
              "    </tr>\n",
              "    <tr>\n",
              "      <th>253464</th>\n",
              "      <td>2015-06-15</td>\n",
              "      <td>Property Lost</td>\n",
              "      <td>False</td>\n",
              "      <td>42.283634</td>\n",
              "      <td>-71.082813</td>\n",
              "    </tr>\n",
              "    <tr>\n",
              "      <th>8793</th>\n",
              "      <td>2015-06-15</td>\n",
              "      <td>Property Lost</td>\n",
              "      <td>False</td>\n",
              "      <td>-1.000000</td>\n",
              "      <td>-1.000000</td>\n",
              "    </tr>\n",
              "  </tbody>\n",
              "</table>\n",
              "</div>\n",
              "      <button class=\"colab-df-convert\" onclick=\"convertToInteractive('df-8f12b41b-175f-47f2-a2fb-0d172dac21e6')\"\n",
              "              title=\"Convert this dataframe to an interactive table.\"\n",
              "              style=\"display:none;\">\n",
              "        \n",
              "  <svg xmlns=\"http://www.w3.org/2000/svg\" height=\"24px\"viewBox=\"0 0 24 24\"\n",
              "       width=\"24px\">\n",
              "    <path d=\"M0 0h24v24H0V0z\" fill=\"none\"/>\n",
              "    <path d=\"M18.56 5.44l.94 2.06.94-2.06 2.06-.94-2.06-.94-.94-2.06-.94 2.06-2.06.94zm-11 1L8.5 8.5l.94-2.06 2.06-.94-2.06-.94L8.5 2.5l-.94 2.06-2.06.94zm10 10l.94 2.06.94-2.06 2.06-.94-2.06-.94-.94-2.06-.94 2.06-2.06.94z\"/><path d=\"M17.41 7.96l-1.37-1.37c-.4-.4-.92-.59-1.43-.59-.52 0-1.04.2-1.43.59L10.3 9.45l-7.72 7.72c-.78.78-.78 2.05 0 2.83L4 21.41c.39.39.9.59 1.41.59.51 0 1.02-.2 1.41-.59l7.78-7.78 2.81-2.81c.8-.78.8-2.07 0-2.86zM5.41 20L4 18.59l7.72-7.72 1.47 1.35L5.41 20z\"/>\n",
              "  </svg>\n",
              "      </button>\n",
              "      \n",
              "  <style>\n",
              "    .colab-df-container {\n",
              "      display:flex;\n",
              "      flex-wrap:wrap;\n",
              "      gap: 12px;\n",
              "    }\n",
              "\n",
              "    .colab-df-convert {\n",
              "      background-color: #E8F0FE;\n",
              "      border: none;\n",
              "      border-radius: 50%;\n",
              "      cursor: pointer;\n",
              "      display: none;\n",
              "      fill: #1967D2;\n",
              "      height: 32px;\n",
              "      padding: 0 0 0 0;\n",
              "      width: 32px;\n",
              "    }\n",
              "\n",
              "    .colab-df-convert:hover {\n",
              "      background-color: #E2EBFA;\n",
              "      box-shadow: 0px 1px 2px rgba(60, 64, 67, 0.3), 0px 1px 3px 1px rgba(60, 64, 67, 0.15);\n",
              "      fill: #174EA6;\n",
              "    }\n",
              "\n",
              "    [theme=dark] .colab-df-convert {\n",
              "      background-color: #3B4455;\n",
              "      fill: #D2E3FC;\n",
              "    }\n",
              "\n",
              "    [theme=dark] .colab-df-convert:hover {\n",
              "      background-color: #434B5C;\n",
              "      box-shadow: 0px 1px 3px 1px rgba(0, 0, 0, 0.15);\n",
              "      filter: drop-shadow(0px 1px 2px rgba(0, 0, 0, 0.3));\n",
              "      fill: #FFFFFF;\n",
              "    }\n",
              "  </style>\n",
              "\n",
              "      <script>\n",
              "        const buttonEl =\n",
              "          document.querySelector('#df-8f12b41b-175f-47f2-a2fb-0d172dac21e6 button.colab-df-convert');\n",
              "        buttonEl.style.display =\n",
              "          google.colab.kernel.accessAllowed ? 'block' : 'none';\n",
              "\n",
              "        async function convertToInteractive(key) {\n",
              "          const element = document.querySelector('#df-8f12b41b-175f-47f2-a2fb-0d172dac21e6');\n",
              "          const dataTable =\n",
              "            await google.colab.kernel.invokeFunction('convertToInteractive',\n",
              "                                                     [key], {});\n",
              "          if (!dataTable) return;\n",
              "\n",
              "          const docLinkHtml = 'Like what you see? Visit the ' +\n",
              "            '<a target=\"_blank\" href=https://colab.research.google.com/notebooks/data_table.ipynb>data table notebook</a>'\n",
              "            + ' to learn more about interactive tables.';\n",
              "          element.innerHTML = '';\n",
              "          dataTable['output_type'] = 'display_data';\n",
              "          await google.colab.output.renderOutput(dataTable, element);\n",
              "          const docLink = document.createElement('div');\n",
              "          docLink.innerHTML = docLinkHtml;\n",
              "          element.appendChild(docLink);\n",
              "        }\n",
              "      </script>\n",
              "    </div>\n",
              "  </div>\n",
              "  "
            ]
          },
          "metadata": {},
          "execution_count": 105
        }
      ]
    },
    {
      "cell_type": "markdown",
      "source": [
        "Group data by month"
      ],
      "metadata": {
        "id": "XiIatwWVIxNd"
      }
    },
    {
      "cell_type": "code",
      "source": [
        "import datetime\n",
        "from dateutil.relativedelta import relativedelta\n",
        "\n",
        "print(crimes.date.min())\n",
        "print(crimes.date.max())"
      ],
      "metadata": {
        "colab": {
          "base_uri": "https://localhost:8080/"
        },
        "id": "ldfi9jTAIytk",
        "outputId": "e8e8d81a-7760-47c0-e05b-2d5242085b4c"
      },
      "execution_count": null,
      "outputs": [
        {
          "output_type": "stream",
          "name": "stdout",
          "text": [
            "2015-06-15 00:00:00\n",
            "2018-09-03 21:25:00\n"
          ]
        }
      ]
    },
    {
      "cell_type": "code",
      "source": [
        "#Create a blank list to store the months\n",
        "months = []\n",
        "\n",
        "#Set the start date to June 1, 2015\n",
        "start = datetime.datetime(year = 2015, month = 6, day = 1)\n",
        "\n",
        "#Run a loop until the start date is less than the max date\n",
        "while start < crimes.date.max():\n",
        "  #Set the end date by adding a month each time\n",
        "  end = start + relativedelta(months=+1)\n",
        "  #Create a mask value (True/False) which checks if the the crime occurred between the start and end dates\n",
        "  mask = (start <= crimes.date) & (crimes.date <end)\n",
        "  #Pick only those crime that occured between start and end dates\n",
        "  crimes_month = crimes[mask]\n",
        "  #Only select the lat and lon values for those crimes selected\n",
        "  crimes_month = crimes_month[['lat','lon']]\n",
        "  #Add the location of the crimes to the month list - for each month\n",
        "  months.append(crimes_month)\n",
        "  start = end\n",
        "print(months[0])"
      ],
      "metadata": {
        "colab": {
          "base_uri": "https://localhost:8080/"
        },
        "id": "fFgW7pmpJ3lK",
        "outputId": "3ba1b562-5334-486e-ad1e-76b70780f977"
      },
      "execution_count": null,
      "outputs": [
        {
          "output_type": "stream",
          "name": "stdout",
          "text": [
            "              lat        lon\n",
            "129056  42.291093 -71.065945\n",
            "314676  42.300217 -71.080979\n",
            "310350  42.293606 -71.071887\n",
            "253464  42.283634 -71.082813\n",
            "8793    -1.000000  -1.000000\n",
            "...           ...        ...\n",
            "314737  42.380275 -71.060377\n",
            "314736  42.380275 -71.060377\n",
            "314735  42.380275 -71.060377\n",
            "314708  42.288705 -71.078108\n",
            "314724  42.280587 -71.074322\n",
            "\n",
            "[4066 rows x 2 columns]\n"
          ]
        }
      ]
    },
    {
      "cell_type": "code",
      "source": [
        "#try runnning this  in Firefox - if other browsers do not render maps correctly\n",
        "from folium.plugins import HeatMapWithTime\n",
        "from folium import plugins\n",
        "m = folium.Map(boston, zoom_start=11)\n",
        "m.add_child(plugins.HeatMap(\n",
        "    data = list(zip(months[0].lat.values,months[0].lon.values)),# [ list(zip(m.lat.values,m.lon.values)) for m in months ],\n",
        "    radius = 15\n",
        "))\n",
        "m"
      ],
      "metadata": {
        "colab": {
          "base_uri": "https://localhost:8080/",
          "height": 856
        },
        "id": "NKf0E9H7Na3h",
        "outputId": "a1cf3e5d-d0e2-4633-9b83-32b4d8e687e1"
      },
      "execution_count": 132,
      "outputs": [
        {
          "output_type": "execute_result",
          "data": {
            "text/plain": [
              "<folium.folium.Map at 0x7f1f45d7a410>"
            ],
            "text/html": [
              "<div style=\"width:100%;\"><div style=\"position:relative;width:100%;height:0;padding-bottom:60%;\"><span style=\"color:#565656\">Make this Notebook Trusted to load map: File -> Trust Notebook</span><iframe src=\"about:blank\" style=\"position:absolute;width:100%;height:100%;left:0;top:0;border:none !important;\" data-html=%3C%21DOCTYPE%20html%3E%0A%3Chead%3E%20%20%20%20%0A%20%20%20%20%3Cmeta%20http-equiv%3D%22content-type%22%20content%3D%22text/html%3B%20charset%3DUTF-8%22%20/%3E%0A%20%20%20%20%3Cscript%3EL_PREFER_CANVAS%3Dfalse%3B%20L_NO_TOUCH%3Dfalse%3B%20L_DISABLE_3D%3Dfalse%3B%3C/script%3E%0A%20%20%20%20%3Cscript%20src%3D%22https%3A//cdn.jsdelivr.net/npm/leaflet%401.4.0/dist/leaflet.js%22%3E%3C/script%3E%0A%20%20%20%20%3Cscript%20src%3D%22https%3A//code.jquery.com/jquery-1.12.4.min.js%22%3E%3C/script%3E%0A%20%20%20%20%3Cscript%20src%3D%22https%3A//maxcdn.bootstrapcdn.com/bootstrap/3.2.0/js/bootstrap.min.js%22%3E%3C/script%3E%0A%20%20%20%20%3Cscript%20src%3D%22https%3A//cdnjs.cloudflare.com/ajax/libs/Leaflet.awesome-markers/2.0.2/leaflet.awesome-markers.js%22%3E%3C/script%3E%0A%20%20%20%20%3Clink%20rel%3D%22stylesheet%22%20href%3D%22https%3A//cdn.jsdelivr.net/npm/leaflet%401.4.0/dist/leaflet.css%22/%3E%0A%20%20%20%20%3Clink%20rel%3D%22stylesheet%22%20href%3D%22https%3A//maxcdn.bootstrapcdn.com/bootstrap/3.2.0/css/bootstrap.min.css%22/%3E%0A%20%20%20%20%3Clink%20rel%3D%22stylesheet%22%20href%3D%22https%3A//maxcdn.bootstrapcdn.com/bootstrap/3.2.0/css/bootstrap-theme.min.css%22/%3E%0A%20%20%20%20%3Clink%20rel%3D%22stylesheet%22%20href%3D%22https%3A//maxcdn.bootstrapcdn.com/font-awesome/4.6.3/css/font-awesome.min.css%22/%3E%0A%20%20%20%20%3Clink%20rel%3D%22stylesheet%22%20href%3D%22https%3A//cdnjs.cloudflare.com/ajax/libs/Leaflet.awesome-markers/2.0.2/leaflet.awesome-markers.css%22/%3E%0A%20%20%20%20%3Clink%20rel%3D%22stylesheet%22%20href%3D%22https%3A//rawcdn.githack.com/python-visualization/folium/master/folium/templates/leaflet.awesome.rotate.css%22/%3E%0A%20%20%20%20%3Cstyle%3Ehtml%2C%20body%20%7Bwidth%3A%20100%25%3Bheight%3A%20100%25%3Bmargin%3A%200%3Bpadding%3A%200%3B%7D%3C/style%3E%0A%20%20%20%20%3Cstyle%3E%23map%20%7Bposition%3Aabsolute%3Btop%3A0%3Bbottom%3A0%3Bright%3A0%3Bleft%3A0%3B%7D%3C/style%3E%0A%20%20%20%20%0A%20%20%20%20%3Cmeta%20name%3D%22viewport%22%20content%3D%22width%3Ddevice-width%2C%0A%20%20%20%20%20%20%20%20initial-scale%3D1.0%2C%20maximum-scale%3D1.0%2C%20user-scalable%3Dno%22%20/%3E%0A%20%20%20%20%3Cstyle%3E%23map_466dbc4615ca420c9beb187894c86701%20%7B%0A%20%20%20%20%20%20%20%20position%3A%20relative%3B%0A%20%20%20%20%20%20%20%20width%3A%20100.0%25%3B%0A%20%20%20%20%20%20%20%20height%3A%20100.0%25%3B%0A%20%20%20%20%20%20%20%20left%3A%200.0%25%3B%0A%20%20%20%20%20%20%20%20top%3A%200.0%25%3B%0A%20%20%20%20%20%20%20%20%7D%0A%20%20%20%20%3C/style%3E%0A%20%20%20%20%3Cscript%20src%3D%22https%3A//leaflet.github.io/Leaflet.heat/dist/leaflet-heat.js%22%3E%3C/script%3E%0A%3C/head%3E%0A%3Cbody%3E%20%20%20%20%0A%20%20%20%20%0A%20%20%20%20%3Cdiv%20class%3D%22folium-map%22%20id%3D%22map_466dbc4615ca420c9beb187894c86701%22%20%3E%3C/div%3E%0A%3C/body%3E%0A%3Cscript%3E%20%20%20%20%0A%20%20%20%20%0A%20%20%20%20%0A%20%20%20%20%20%20%20%20var%20bounds%20%3D%20null%3B%0A%20%20%20%20%0A%0A%20%20%20%20var%20map_466dbc4615ca420c9beb187894c86701%20%3D%20L.map%28%0A%20%20%20%20%20%20%20%20%27map_466dbc4615ca420c9beb187894c86701%27%2C%20%7B%0A%20%20%20%20%20%20%20%20center%3A%20%5B42.3202%2C%20-71.15%5D%2C%0A%20%20%20%20%20%20%20%20zoom%3A%2011%2C%0A%20%20%20%20%20%20%20%20maxBounds%3A%20bounds%2C%0A%20%20%20%20%20%20%20%20layers%3A%20%5B%5D%2C%0A%20%20%20%20%20%20%20%20worldCopyJump%3A%20false%2C%0A%20%20%20%20%20%20%20%20crs%3A%20L.CRS.EPSG3857%2C%0A%20%20%20%20%20%20%20%20zoomControl%3A%20true%2C%0A%20%20%20%20%20%20%20%20%7D%29%3B%0A%0A%0A%20%20%20%20%0A%20%20%20%20var%20tile_layer_eac5167686a7429daa19b9f7c303e972%20%3D%20L.tileLayer%28%0A%20%20%20%20%20%20%20%20%27https%3A//%7Bs%7D.tile.openstreetmap.org/%7Bz%7D/%7Bx%7D/%7By%7D.png%27%2C%0A%20%20%20%20%20%20%20%20%7B%0A%20%20%20%20%20%20%20%20%22attribution%22%3A%20null%2C%0A%20%20%20%20%20%20%20%20%22detectRetina%22%3A%20false%2C%0A%20%20%20%20%20%20%20%20%22maxNativeZoom%22%3A%2018%2C%0A%20%20%20%20%20%20%20%20%22maxZoom%22%3A%2018%2C%0A%20%20%20%20%20%20%20%20%22minZoom%22%3A%200%2C%0A%20%20%20%20%20%20%20%20%22noWrap%22%3A%20false%2C%0A%20%20%20%20%20%20%20%20%22opacity%22%3A%201%2C%0A%20%20%20%20%20%20%20%20%22subdomains%22%3A%20%22abc%22%2C%0A%20%20%20%20%20%20%20%20%22tms%22%3A%20false%0A%7D%29.addTo%28map_466dbc4615ca420c9beb187894c86701%29%3B%0A%20%20%20%20%0A%20%20%20%20%20%20%20%20%20%20%20%20var%20heat_map_14a50e2e53354bc7990223aad70a4162%20%3D%20L.heatLayer%28%0A%20%20%20%20%20%20%20%20%20%20%20%20%20%20%20%20%5B%5B42.29109287%2C%20-71.06594539%5D%2C%20%5B42.30021684%2C%20-71.0809794%5D%2C%20%5B42.29360585%2C%20-71.0718865%5D%2C%20%5B42.28363434%2C%20-71.0828132%5D%2C%20%5B-1.0%2C%20-1.0%5D%2C%20%5B42.32866284%2C%20-71.08563401%5D%2C%20%5B42.37702319%2C%20-71.0322473%5D%2C%20%5B42.36020464%2C%20-71.05620816%5D%2C%20%5B42.37702319%2C%20-71.0322473%5D%2C%20%5B42.310434%2C%20-71.0613401%5D%2C%20%5B42.310434%2C%20-71.0613401%5D%2C%20%5B42.34138415%2C%20-71.07898883%5D%2C%20%5B42.26255067%2C%20-71.11582205%5D%2C%20%5B42.3595689%2C%20-71.13598188%5D%2C%20%5B42.35564426%2C%20-71.07168077%5D%2C%20%5B42.340176%2C%20-71.0823265%5D%2C%20%5B42.31743922%2C%20-71.07547845%5D%2C%20%5B42.38391569%2C%20-71.02266216%5D%2C%20%5B42.35073963%2C%20-71.13047909%5D%2C%20%5B42.26209214%2C%20-71.11670964%5D%2C%20%5B42.33178053%2C%20-71.04941451%5D%2C%20%5B42.28570914%2C%20-71.11730039%5D%2C%20%5B42.28802455%2C%20-71.08351887%5D%2C%20%5B42.28802455%2C%20-71.08351887%5D%2C%20%5B42.32720403%2C%20-71.05318949%5D%2C%20%5B42.35259348%2C%20-71.14028431%5D%2C%20%5B42.38453183%2C%20-71.02232294%5D%2C%20%5B42.35201794%2C%20-71.05811581%5D%2C%20%5B42.29861988%2C%20-71.08511004%5D%2C%20%5B42.29861988%2C%20-71.08511004%5D%2C%20%5B42.30108481%2C%20-71.06390782%5D%2C%20%5B42.30242197%2C%20-71.06122871%5D%2C%20%5B42.35361371%2C%20-71.12967302%5D%2C%20%5B42.27925266%2C%20-71.06821603%5D%2C%20%5B42.3290376%2C%20-71.05694505%5D%2C%20%5B42.29861988%2C%20-71.08511004%5D%2C%20%5B42.2764171%2C%20-71.16248814%5D%2C%20%5B42.31250552%2C%20-71.08314735%5D%2C%20%5B42.34037301%2C%20-71.15388143%5D%2C%20%5B42.29492396%2C%20-71.11910662%5D%2C%20%5B42.34262866%2C%20-71.08051921%5D%2C%20%5B42.3584724%2C%20-71.06861909%5D%2C%20%5B42.32866284%2C%20-71.08563401%5D%2C%20%5B42.275316%2C%20-71.11081942%5D%2C%20%5B42.34225888%2C%20-71.07749696%5D%2C%20%5B42.27105479%2C%20-71.09753898%5D%2C%20%5B42.3494205%2C%20-71.083158%5D%2C%20%5B42.33428841%2C%20-71.07239518%5D%2C%20%5B42.34997256%2C%20-71.06348817%5D%2C%20%5B42.28928493%2C%20-71.08667781%5D%2C%20%5B42.29990887%2C%20-71.06424768%5D%2C%20%5B42.31503085%2C%20-71.08344018%5D%2C%20%5B42.30612092%2C%20-71.07183167%5D%2C%20%5B42.31356107%2C%20-71.06520779%5D%2C%20%5B42.35613296%2C%20-71.05663451%5D%2C%20%5B42.3146052%2C%20-71.07207475%5D%2C%20%5B42.332102%2C%20-71.079283%5D%2C%20%5B42.33378771%2C%20-71.04747172%5D%2C%20%5B42.32249601%2C%20-71.0690918%5D%2C%20%5B42.34000843%2C%20-71.04943154%5D%2C%20%5B42.29260629%2C%20-71.08989828%5D%2C%20%5B42.34283015%2C%20-71.0737467%5D%2C%20%5B42.3524587%2C%20-71.13762608%5D%2C%20%5B42.337444%2C%20-71.07563631%5D%2C%20%5B42.30952511%2C%20-71.08261838%5D%2C%20%5B42.3460551%2C%20-71.07050669%5D%2C%20%5B42.27305614%2C%20-71.07374289%5D%2C%20%5B42.27305614%2C%20-71.07374289%5D%2C%20%5B42.29348708%2C%20-71.12062328%5D%2C%20%5B42.37081805%2C%20-71.03929078%5D%2C%20%5B42.27651058%2C%20-71.13417555%5D%2C%20%5B42.37839561%2C%20-71.06459617%5D%2C%20%5B42.34087158%2C%20-71.08145768%5D%2C%20%5B42.31359091%2C%20-71.05432387%5D%2C%20%5B42.26483265%2C%20-71.15567877%5D%2C%20%5B42.27161708%2C%20-71.11807468%5D%2C%20%5B42.3467947%2C%20-71.07329384%5D%2C%20%5B42.34635377%2C%20-71.07623785%5D%2C%20%5B42.30095488%2C%20-71.06537601%5D%2C%20%5B42.34999733%2C%20-71.0810344%5D%2C%20%5B42.33455374%2C%20-71.07560801%5D%2C%20%5B42.35241815%2C%20-71.06525499%5D%2C%20%5B42.35311007%2C%20-71.06432264%5D%2C%20%5B42.30848377%2C%20-71.04578272%5D%2C%20%5B42.35213476%2C%20-71.06266757%5D%2C%20%5B42.28693375%2C%20-71.05139407%5D%2C%20%5B42.35877431%2C%20-71.07142509%5D%2C%20%5B42.36038173%2C%20-71.06285769%5D%2C%20%5B42.32696647%2C%20-71.06198607%5D%2C%20%5B42.30462277%2C%20-71.07958027%5D%2C%20%5B42.30938437%2C%20-71.08262277%5D%2C%20%5B42.3494205%2C%20-71.083158%5D%2C%20%5B42.37803936%2C%20-71.0304617%5D%2C%20%5B42.34539557%2C%20-71.09823857%5D%2C%20%5B42.3348311%2C%20-71.07904134%5D%2C%20%5B42.32027226%2C%20-71.09932525%5D%2C%20%5B42.26107639%2C%20-71.11938782%5D%2C%20%5B42.34095802%2C%20-71.06760101%5D%2C%20%5B42.34583312%2C%20-71.09845531%5D%2C%20%5B42.28687441%2C%20-71.09457079%5D%2C%20%5B42.33152148%2C%20-71.07085307%5D%2C%20%5B42.30406722%2C%20-71.06760042%5D%2C%20%5B42.25719149%2C%20-71.12001776%5D%2C%20%5B42.29234068%2C%20-71.04803996%5D%2C%20%5B42.33987101%2C%20-71.16642615%5D%2C%20%5B42.24525124%2C%20-71.13465321%5D%2C%20%5B42.30576686%2C%20-71.08097517%5D%2C%20%5B42.3414661%2C%20-71.09082781%5D%2C%20%5B42.32690336%2C%20-71.08640085%5D%2C%20%5B42.32690336%2C%20-71.08640085%5D%2C%20%5B42.34578598%2C%20-71.07942281%5D%2C%20%5B42.28281409%2C%20-71.13931958%5D%2C%20%5B42.30776342%2C%20-71.06683062%5D%2C%20%5B42.34561901%2C%20-71.07990847%5D%2C%20%5B42.27562519%2C%20-71.13142204%5D%2C%20%5B42.28688203%2C%20-71.1276629%5D%2C%20%5B42.35923021%2C%20-71.0544659%5D%2C%20%5B42.28159966%2C%20-71.14351382%5D%2C%20%5B42.32249601%2C%20-71.0690918%5D%2C%20%5B42.34997256%2C%20-71.06348817%5D%2C%20%5B42.27779311%2C%20-71.09917239%5D%2C%20%5B42.3561377%2C%20-71.16238161%5D%2C%20%5B42.27791465%2C%20-71.09452937%5D%2C%20%5B42.30901919%2C%20-71.08561179%5D%2C%20%5B42.3203979%2C%20-71.06181748%5D%2C%20%5B42.31817181%2C%20-71.11257832%5D%2C%20%5B42.34983631%2C%20-71.07105135%5D%2C%20%5B42.35043273%2C%20-71.1271048%5D%2C%20%5B42.28295084%2C%20-71.16286564%5D%2C%20%5B42.26922278%2C%20-71.09384023%5D%2C%20%5B42.37907259%2C%20-71.03386728%5D%2C%20%5B42.33366866%2C%20-71.10333486%5D%2C%20%5B42.32424831%2C%20-71.10525188%5D%2C%20%5B42.33265906%2C%20-71.05141632%5D%2C%20%5B42.37669967%2C%20-71.06602151%5D%2C%20%5B42.30481623%2C%20-71.1091185%5D%2C%20%5B42.29920158%2C%20-71.05853601%5D%2C%20%5B42.30481623%2C%20-71.1091185%5D%2C%20%5B42.30995208%2C%20-71.05788994%5D%2C%20%5B42.35086724%2C%20-71.06305976%5D%2C%20%5B42.32155857%2C%20-71.06132071%5D%2C%20%5B42.29512751%2C%20-71.07820832%5D%2C%20%5B42.29512751%2C%20-71.07820832%5D%2C%20%5B42.28863812%2C%20-71.06631579%5D%2C%20%5B42.33967154%2C%20-71.0908433%5D%2C%20%5B42.3626075%2C%20-71.06132725%5D%2C%20%5B42.2752767%2C%20-71.09554245%5D%2C%20%5B42.32242182%2C%20-71.10988918%5D%2C%20%5B42.32126855%2C%20-71.0669728%5D%2C%20%5B42.29037227%2C%20-71.06845477%5D%2C%20%5B42.3584724%2C%20-71.06861909%5D%2C%20%5B42.28089366%2C%20-71.08037468%5D%2C%20%5B42.334912%2C%20-71.088464%5D%2C%20%5B42.3584724%2C%20-71.06861909%5D%2C%20%5B42.33153509%2C%20-71.09534648%5D%2C%20%5B42.30816879%2C%20-71.06964861%5D%2C%20%5B42.346473%2C%20-71.091202%5D%2C%20%5B42.38229155%2C%20-71.04036424%5D%2C%20%5B42.37248334%2C%20-71.03752375%5D%2C%20%5B42.26485963%2C%20-71.09684579%5D%2C%20%5B42.30845311%2C%20-71.08718664%5D%2C%20%5B42.33363658%2C%20-71.09841709%5D%2C%20%5B42.34717363%2C%20-71.0964439%5D%2C%20%5B42.32161616%2C%20-71.05633228%5D%2C%20%5B42.3473098%2C%20-71.07915167%5D%2C%20%5B42.33731438%2C%20-71.04852327%5D%2C%20%5B42.349056%2C%20-71.1504985%5D%2C%20%5B42.29037227%2C%20-71.06845477%5D%2C%20%5B42.28410553%2C%20-71.07687268%5D%2C%20%5B42.26809427%2C%20-71.0990997%5D%2C%20%5B42.37257864%2C%20-71.0619381%5D%2C%20%5B42.30505376%2C%20-71.08403633%5D%2C%20%5B42.28311294%2C%20-71.14392166%5D%2C%20%5B42.325209%2C%20-71.074977%5D%2C%20%5B42.3214622%2C%20-71.0780367%5D%2C%20%5B42.37422328%2C%20-71.06297907%5D%2C%20%5B42.28099528%2C%20-71.14886365%5D%2C%20%5B42.31928523%2C%20-71.05027167%5D%2C%20%5B42.35121058%2C%20-71.11575211%5D%2C%20%5B42.25332979%2C%20-71.12467152%5D%2C%20%5B42.28387658%2C%20-71.08099354%5D%2C%20%5B42.3420185%2C%20-71.08566213%5D%2C%20%5B42.35165733%2C%20-71.06425694%5D%2C%20%5B42.29484625%2C%20-71.07892263%5D%2C%20%5B42.31275031%2C%20-71.09388736%5D%2C%20%5B42.34748342%2C%20-71.13363158%5D%2C%20%5B42.2738012%2C%20-71.16981936%5D%2C%20%5B42.31359091%2C%20-71.05432387%5D%2C%20%5B42.31359091%2C%20-71.05432387%5D%2C%20%5B42.26956689%2C%20-71.09075049%5D%2C%20%5B42.34980175%2C%20-71.07840978%5D%2C%20%5B42.28631799%2C%20-71.13407707%5D%2C%20%5B42.32924494%2C%20-71.08200715%5D%2C%20%5B42.30132851%2C%20-71.07870873%5D%2C%20%5B42.29274277%2C%20-71.13046294%5D%2C%20%5B42.31928523%2C%20-71.05027167%5D%2C%20%5B42.30911422%2C%20-71.08667126%5D%2C%20%5B42.36293611%2C%20-71.05253795%5D%2C%20%5B42.30911422%2C%20-71.08667126%5D%2C%20%5B42.3166828%2C%20-71.05541001%5D%2C%20%5B42.31326021%2C%20-71.09966273%5D%2C%20%5B42.33311189%2C%20-71.0727637%5D%2C%20%5B42.326143%2C%20-71.06338264%5D%2C%20%5B42.34355233%2C%20-71.14336738%5D%2C%20%5B42.34425779%2C%20-71.14383621%5D%2C%20%5B42.28548467%2C%20-71.13894626%5D%2C%20%5B42.33511904%2C%20-71.0749171%5D%2C%20%5B42.33511904%2C%20-71.0749171%5D%2C%20%5B42.33511904%2C%20-71.0749171%5D%2C%20%5B42.30715951%2C%20-71.08823566%5D%2C%20%5B42.33402601%2C%20-71.10447161%5D%2C%20%5B42.33928683%2C%20-71.15334884%5D%2C%20%5B42.31106545%2C%20-71.06693233%5D%2C%20%5B42.35794791%2C%20-71.05082219%5D%2C%20%5B42.2843982%2C%20-71.06468373%5D%2C%20%5B42.34710196%2C%20-71.08841746%5D%2C%20%5B42.3160569%2C%20-71.07820017%5D%2C%20%5B42.32950195%2C%20-71.09971911%5D%2C%20%5B42.32250501%2C%20-71.05681125%5D%2C%20%5B42.33506218%2C%20-71.09316781%5D%2C%20%5B42.33214285%2C%20-71.05121359%5D%2C%20%5B42.27842719%2C%20-71.09637125%5D%2C%20%5B42.33562126%2C%20-71.07582361%5D%2C%20%5B42.28862665%2C%20-71.06350471%5D%2C%20%5B42.34091586%2C%20-71.08771531%5D%2C%20%5B42.2545638%2C%20-71.11998513%5D%2C%20%5B42.30526428%2C%20-71.06683755%5D%2C%20%5B42.376852%2C%20-71.06887255%5D%2C%20%5B42.2791752%2C%20-71.13834696%5D%2C%20%5B42.36058947%2C%20-71.0651034%5D%2C%20%5B42.33311189%2C%20-71.0727637%5D%2C%20%5B42.29030888%2C%20-71.16791549%5D%2C%20%5B42.37312349%2C%20-71.03801583%5D%2C%20%5B42.3519478%2C%20-71.13410791%5D%2C%20%5B42.34746241%2C%20-71.09826597%5D%2C%20%5B42.35428377%2C%20-71.06380404%5D%2C%20%5B42.35428377%2C%20-71.06380404%5D%2C%20%5B42.31731834%2C%20-71.09678992%5D%2C%20%5B42.32746198%2C%20-71.09852527%5D%2C%20%5B42.33555954%2C%20-71.07436364%5D%2C%20%5B42.30021684%2C%20-71.0809794%5D%2C%20%5B42.33898333%2C%20-71.07748706%5D%2C%20%5B42.3306713%2C%20-71.05547577%5D%2C%20%5B42.31731905%2C%20-71.06150882%5D%2C%20%5B42.32614559%2C%20-71.05349144%5D%2C%20%5B42.33962338%2C%20-71.10649737%5D%2C%20%5B42.34082366%2C%20-71.0558791%5D%2C%20%5B42.27030305%2C%20-71.09889105%5D%2C%20%5B42.3109682%2C%20-71.05560702%5D%2C%20%5B42.3173037%2C%20-71.07799648%5D%2C%20%5B42.32872589%2C%20-71.08382217%5D%2C%20%5B42.25418506%2C%20-71.14045062%5D%2C%20%5B42.28688203%2C%20-71.1276629%5D%2C%20%5B42.2713612%2C%20-71.09858228%5D%2C%20%5B42.2713612%2C%20-71.09858228%5D%2C%20%5B42.35073963%2C%20-71.13047909%5D%2C%20%5B42.27800645%2C%20-71.13733723%5D%2C%20%5B42.31077758%2C%20-71.07480891%5D%2C%20%5B42.30190019%2C%20-71.06777275%5D%2C%20%5B42.38093345%2C%20-71.04023929%5D%2C%20%5B42.36110964%2C%20-71.06741369%5D%2C%20%5B42.36475392%2C%20-71.05469547%5D%2C%20%5B42.33284894%2C%20-71.07440627%5D%2C%20%5B42.25119947%2C%20-71.12053218%5D%2C%20%5B42.25119947%2C%20-71.12053218%5D%2C%20%5B42.32277682%2C%20-71.07297972%5D%2C%20%5B42.28518631%2C%20-71.09211276%5D%2C%20%5B42.37699863%2C%20-71.03051887%5D%2C%20%5B42.310434%2C%20-71.0613401%5D%2C%20%5B42.310434%2C%20-71.0613401%5D%2C%20%5B42.25621592%2C%20-71.12401947%5D%2C%20%5B42.36891445%2C%20-71.03399585%5D%2C%20%5B42.31153141%2C%20-71.10626439%5D%2C%20%5B42.32987323%2C%20-71.09590774%5D%2C%20%5B42.33601255%2C%20-71.06247708%5D%2C%20%5B42.25621592%2C%20-71.12401947%5D%2C%20%5B42.3420038%2C%20-71.10011169%5D%2C%20%5B42.3169665%2C%20-71.08254058%5D%2C%20%5B42.29109287%2C%20-71.06594539%5D%2C%20%5B42.31465584%2C%20-71.06581008%5D%2C%20%5B42.33011503%2C%20-71.07868376%5D%2C%20%5B42.35171679%2C%20-71.06118419%5D%2C%20%5B42.29328831%2C%20-71.06219497%5D%2C%20%5B42.34041441%2C%20-71.08031699%5D%2C%20%5B42.32866284%2C%20-71.08563401%5D%2C%20%5B42.34111504%2C%20-71.05632465%5D%2C%20%5B42.31825005%2C%20-71.06122687%5D%2C%20%5B42.28890049%2C%20-71.06266918%5D%2C%20%5B42.28890049%2C%20-71.06266918%5D%2C%20%5B42.29350272%2C%20-71.07344862%5D%2C%20%5B42.32696802%2C%20-71.08051941%5D%2C%20%5B42.34339388%2C%20-71.09849282%5D%2C%20%5B42.33613224%2C%20-71.03129582%5D%2C%20%5B42.36112329%2C%20-71.06577409%5D%2C%20%5B42.30839354%2C%20-71.06473124%5D%2C%20%5B42.33954199%2C%20-71.06940877%5D%2C%20%5B42.33123776%2C%20-71.09140736%5D%2C%20%5B42.33123776%2C%20-71.09140736%5D%2C%20%5B42.364924%2C%20-71.05331772%5D%2C%20%5B42.27056677%2C%20-71.10100994%5D%2C%20%5B42.36127607%2C%20-71.14345725%5D%2C%20%5B42.343207%2C%20-71.078564%5D%2C%20%5B42.31961996%2C%20-71.05951046%5D%2C%20%5B42.34701666%2C%20-71.06886238%5D%2C%20%5B42.34701666%2C%20-71.06886238%5D%2C%20%5B42.35404288%2C%20-71.15042215%5D%2C%20%5B42.28024352%2C%20-71.08481509%5D%2C%20%5B42.33374643%2C%20-71.07020353%5D%2C%20%5B42.32047753%2C%20-71.07273673%5D%2C%20%5B42.2694837%2C%20-71.1619872%5D%2C%20%5B42.2694837%2C%20-71.1619872%5D%2C%20%5B42.29451618%2C%20-71.08944754%5D%2C%20%5B42.36127607%2C%20-71.14345725%5D%2C%20%5B42.33122318%2C%20-71.04821007%5D%2C%20%5B42.33428841%2C%20-71.07239518%5D%2C%20%5B42.33428841%2C%20-71.07239518%5D%2C%20%5B42.3473098%2C%20-71.07915167%5D%2C%20%5B42.33436843%2C%20-71.0953077%5D%2C%20%5B42.3092779%2C%20-71.07868791%5D%2C%20%5B42.35232905%2C%20-71.0641034%5D%2C%20%5B42.35232905%2C%20-71.0641034%5D%2C%20%5B42.33698202%2C%20-71.08458699%5D%2C%20%5B42.33954199%2C%20-71.06940877%5D%2C%20%5B42.30576686%2C%20-71.08097517%5D%2C%20%5B42.33572403%2C%20-71.07232651%5D%2C%20%5B42.34410718%2C%20-71.1018026%5D%2C%20%5B42.28897393%2C%20-71.06581547%5D%2C%20%5B42.31137657%2C%20-71.05460091%5D%2C%20%5B42.28378485%2C%20-71.06720626%5D%2C%20%5B42.33606304%2C%20-71.10782832%5D%2C%20%5B42.37637109%2C%20-71.06557375%5D%2C%20%5B42.31434407%2C%20-71.07487058%5D%2C%20%5B42.31434407%2C%20-71.07487058%5D%2C%20%5B42.33265906%2C%20-71.05141632%5D%2C%20%5B42.32640778%2C%20-71.10107682%5D%2C%20%5B42.2867659%2C%20-71.10837643%5D%2C%20%5B42.3043395%2C%20-71.08477887%5D%2C%20%5B42.3473098%2C%20-71.07915167%5D%2C%20%5B42.3473098%2C%20-71.07915167%5D%2C%20%5B42.34842775%2C%20-71.07646876%5D%2C%20%5B42.37843402%2C%20-71.05644163%5D%2C%20%5B42.31568139%2C%20-71.05308742%5D%2C%20%5B42.25524883%2C%20-71.13082162%5D%2C%20%5B42.29972869%2C%20-71.08171587%5D%2C%20%5B42.34762277%2C%20-71.07606735%5D%2C%20%5B42.29848866%2C%20-71.06313294%5D%2C%20%5B42.31779354%2C%20-71.04210959%5D%2C%20%5B42.29766924%2C%20-71.08697895%5D%2C%20%5B42.29766924%2C%20-71.08697895%5D%2C%20%5B42.29766924%2C%20-71.08697895%5D%2C%20%5B42.32788017%2C%20-71.1040266%5D%2C%20%5B42.34846398%2C%20-71.15814967%5D%2C%20%5B42.32922866%2C%20-71.05495286%5D%2C%20%5B42.31434407%2C%20-71.07487058%5D%2C%20%5B42.31434407%2C%20-71.07487058%5D%2C%20%5B42.34221545%2C%20-71.10544085%5D%2C%20%5B42.30600262%2C%20-71.0587872%5D%2C%20%5B42.34932234%2C%20-71.07210216%5D%2C%20%5B42.3473098%2C%20-71.07915167%5D%2C%20%5B42.3473098%2C%20-71.07915167%5D%2C%20%5B42.3473098%2C%20-71.07915167%5D%2C%20%5B42.31353744%2C%20-71.05924913%5D%2C%20%5B42.25661118%2C%20-71.12391857%5D%2C%20%5B42.29848866%2C%20-71.06313294%5D%2C%20%5B42.29158018%2C%20-71.04009369%5D%2C%20%5B42.25632224%2C%20-71.11959219%5D%2C%20%5B42.27417433%2C%20-71.1603713%5D%2C%20%5B42.30600262%2C%20-71.0587872%5D%2C%20%5B42.28482577%2C%20-71.09137369%5D%2C%20%5B42.38914357%2C%20-71.00166073%5D%2C%20%5B42.34280177%2C%20-71.1006951%5D%2C%20%5B42.35907171%2C%20-71.05973044%5D%2C%20%5B42.36240281%2C%20-71.06954652%5D%2C%20%5B42.36240281%2C%20-71.06954652%5D%2C%20%5B42.36240281%2C%20-71.06954652%5D%2C%20%5B42.36240281%2C%20-71.06954652%5D%2C%20%5B42.36240281%2C%20-71.06954652%5D%2C%20%5B42.36240281%2C%20-71.06954652%5D%2C%20%5B42.36240281%2C%20-71.06954652%5D%2C%20%5B42.36240281%2C%20-71.06954652%5D%2C%20%5B42.36240281%2C%20-71.06954652%5D%2C%20%5B42.35272948%2C%20-71.06256291%5D%2C%20%5B42.36183857%2C%20-71.05976489%5D%2C%20%5B42.32866284%2C%20-71.08563401%5D%2C%20%5B42.26909851%2C%20-71.09361458%5D%2C%20%5B42.31934009%2C%20-71.07669166%5D%2C%20%5B42.33152148%2C%20-71.07085307%5D%2C%20%5B42.33152148%2C%20-71.07085307%5D%2C%20%5B42.35213476%2C%20-71.06266757%5D%2C%20%5B42.26918248%2C%20-71.14845197%5D%2C%20%5B42.28875771%2C%20-71.0751631%5D%2C%20%5B42.3290038%2C%20-71.07838214%5D%2C%20%5B42.25556696%2C%20-71.11902026%5D%2C%20%5B42.25556696%2C%20-71.11902026%5D%2C%20%5B42.34634313%2C%20-71.08482013%5D%2C%20%5B42.38605936%2C%20-71.07251642%5D%2C%20%5B42.35404844%2C%20-71.04639023%5D%2C%20%5B42.30273607%2C%20-71.08248544%5D%2C%20%5B42.27162486%2C%20-71.11915512%5D%2C%20%5B42.27162486%2C%20-71.11915512%5D%2C%20%5B42.33301514%2C%20-71.04146775%5D%2C%20%5B42.33094957%2C%20-71.04139054%5D%2C%20%5B42.32779976%2C%20-71.06771009%5D%2C%20%5B42.29165545%2C%20-71.06009035%5D%2C%20%5B42.35555336%2C%20-71.15274721%5D%2C%20%5B42.25215294%2C%20-71.11183303%5D%2C%20%5B42.34439568%2C%20-71.08632016%5D%2C%20%5B42.3169665%2C%20-71.08254058%5D%2C%20%5B42.36856802%2C%20-71.04121708%5D%2C%20%5B42.31126459%2C%20-71.07003979%5D%2C%20%5B42.28419895%2C%20-71.05440749%5D%2C%20%5B42.2878767%2C%20-71.05839664%5D%2C%20%5B42.28792819%2C%20-71.08502171%5D%2C%20%5B42.28630083%2C%20-71.09447003%5D%2C%20%5B42.38272%2C%20-71.021682%5D%2C%20%5B42.291221%2C%20-71.0598908%5D%2C%20%5B42.291221%2C%20-71.0598908%5D%2C%20%5B42.31066411%2C%20-71.07775375%5D%2C%20%5B42.32283759%2C%20-71.10096723%5D%2C%20%5B42.33740172%2C%20-71.0522779%5D%2C%20%5B42.37972418%2C%20-71.06634439%5D%2C%20%5B42.34900739%2C%20-71.13860108%5D%2C%20%5B42.26333577%2C%20-71.12299894%5D%2C%20%5B42.33606304%2C%20-71.10782832%5D%2C%20%5B42.36284173%2C%20-71.13792234%5D%2C%20%5B42.33640891%2C%20-71.08565039%5D%2C%20%5B42.31852698%2C%20-71.09664983%5D%2C%20%5B42.35237073%2C%20-71.07227173%5D%2C%20%5B42.31635508%2C%20-71.06593853%5D%2C%20%5B42.24268434%2C%20-71.12623349%5D%2C%20%5B42.24268434%2C%20-71.12623349%5D%2C%20%5B42.30114533%2C%20-71.05991447%5D%2C%20%5B42.3764438%2C%20-71.03474021%5D%2C%20%5B42.38685489%2C%20-71.00738288%5D%2C%20%5B42.25621592%2C%20-71.12401947%5D%2C%20%5B42.36772441%2C%20-71.03706813%5D%2C%20%5B42.36772441%2C%20-71.03706813%5D%2C%20%5B42.32696802%2C%20-71.08051941%5D%2C%20%5B42.31176766%2C%20-71.09971564%5D%2C%20%5B42.29932163%2C%20-71.05814159%5D%2C%20%5B42.29932163%2C%20-71.05814159%5D%2C%20%5B42.30872066%2C%20-71.06435744%5D%2C%20%5B42.32855807%2C%20-71.079276%5D%2C%20%5B42.38225034%2C%20-71.06840053%5D%2C%20%5B42.28756847%2C%20-71.12281551%5D%2C%20%5B42.36398584%2C%20-71.06047223%5D%2C%20%5B42.33550576%2C%20-71.04291647%5D%2C%20%5B42.333382%2C%20-71.08745421%5D%2C%20%5B42.27851367%2C%20-71.07089501%5D%2C%20%5B42.333382%2C%20-71.08745421%5D%2C%20%5B42.25621592%2C%20-71.12401947%5D%2C%20%5B42.35095909%2C%20-71.0741278%5D%2C%20%5B42.34873541%2C%20-71.07049185%5D%2C%20%5B42.2896398%2C%20-71.07046114%5D%2C%20%5B42.29191251%2C%20-71.07049431%5D%2C%20%5B42.27531312%2C%20-71.11587798%5D%2C%20%5B42.31161123%2C%20-71.076256%5D%2C%20%5B42.33052473%2C%20-71.04797034%5D%2C%20%5B42.25519156%2C%20-71.12761721%5D%2C%20%5B42.39504158%2C%20-71.01017732%5D%2C%20%5B42.29339151%2C%20-71.062944%5D%2C%20%5B42.38831841%2C%20-71.01600449%5D%2C%20%5B42.28194827%2C%20-71.08742318%5D%2C%20%5B42.31249706%2C%20-71.05731757%5D%2C%20%5B42.35272948%2C%20-71.06256291%5D%2C%20%5B42.31433402%2C%20-71.09791405%5D%2C%20%5B42.37081805%2C%20-71.03929078%5D%2C%20%5B42.36118028%2C%20-71.06286446%5D%2C%20%5B42.30942585%2C%20-71.06956549%5D%2C%20%5B42.30896999%2C%20-71.08284839%5D%2C%20%5B42.32588656%2C%20-71.07818807%5D%2C%20%5B42.34413022%2C%20-71.06650337%5D%2C%20%5B42.34413022%2C%20-71.06650337%5D%2C%20%5B42.35458677%2C%20-71.12673268%5D%2C%20%5B42.35458677%2C%20-71.12673268%5D%2C%20%5B42.29923318%2C%20-71.07414711%5D%2C%20%5B42.27298027%2C%20-71.09370551%5D%2C%20%5B42.30175982%2C%20-71.07555177%5D%2C%20%5B42.31619992%2C%20-71.06467201%5D%2C%20%5B42.34767084%2C%20-71.06570791%5D%2C%20%5B42.31830219%2C%20-71.08575355%5D%2C%20%5B42.28082671%2C%20-71.09754718%5D%2C%20%5B42.37415931%2C%20-71.03382162%5D%2C%20%5B42.39214603%2C%20-71.00893922%5D%2C%20%5B42.34877635%2C%20-71.07487281%5D%2C%20%5B42.38245791%2C%20-71.0287922%5D%2C%20%5B42.2691301%2C%20-71.12885043%5D%2C%20%5B42.30983229%2C%20-71.06817322%5D%2C%20%5B42.34225888%2C%20-71.07749696%5D%2C%20%5B42.27757964%2C%20-71.16274799%5D%2C%20%5B42.35451931%2C%20-71.07588082%5D%2C%20%5B42.347195%2C%20-71.073489%5D%2C%20%5B42.37803936%2C%20-71.0304617%5D%2C%20%5B42.31303093%2C%20-71.06932562%5D%2C%20%5B42.36636469%2C%20-71.05744765%5D%2C%20%5B42.30393928%2C%20-71.07896352%5D%2C%20%5B42.35216435%2C%20-71.12378708%5D%2C%20%5B42.34862382%2C%20-71.08277637%5D%2C%20%5B42.30470399%2C%20-71.05908258%5D%2C%20%5B42.31353744%2C%20-71.05924913%5D%2C%20%5B42.29849666%2C%20-71.08376415%5D%2C%20%5B42.32734041%2C%20-71.07945869%5D%2C%20%5B42.34952413%2C%20-71.07220428%5D%2C%20%5B42.34128751%2C%20-71.05467933%5D%2C%20%5B42.33302058%2C%20-71.1062127%5D%2C%20%5B42.29044815%2C%20-71.14843252%5D%2C%20%5B42.2376579%2C%20-71.13829126%5D%2C%20%5B42.30392707%2C%20-71.11466153%5D%2C%20%5B42.27964029%2C%20-71.05445675%5D%2C%20%5B42.33339068%2C%20-71.07312006%5D%2C%20%5B42.33339068%2C%20-71.07312006%5D%2C%20%5B42.3144484%2C%20-71.08993418%5D%2C%20%5B42.25621592%2C%20-71.12401947%5D%2C%20%5B42.31632131%2C%20-71.0892305%5D%2C%20%5B42.26129977%2C%20-71.10317703%5D%2C%20%5B42.33675016%2C%20-71.07662788%5D%2C%20%5B42.28252537%2C%20-71.07977256%5D%2C%20%5B42.30098009%2C%20-71.06869928%5D%2C%20%5B42.328876%2C%20-71.085139%5D%2C%20%5B42.29191251%2C%20-71.07049431%5D%2C%20%5B42.30526428%2C%20-71.06683755%5D%2C%20%5B42.30526428%2C%20-71.06683755%5D%2C%20%5B42.27189681%2C%20-71.10283363%5D%2C%20%5B42.34946444%2C%20-71.14270449%5D%2C%20%5B42.34946444%2C%20-71.14270449%5D%2C%20%5B42.37744473%2C%20-71.03410833%5D%2C%20%5B42.34177501%2C%20-71.07124466%5D%2C%20%5B42.26630876%2C%20-71.12465953%5D%2C%20%5B42.36379365%2C%20-71.05447076%5D%2C%20%5B42.36379365%2C%20-71.05447076%5D%2C%20%5B42.33648163%2C%20-71.0508508%5D%2C%20%5B42.2980962%2C%20-71.06015138%5D%2C%20%5B42.27663372%2C%20-71.08527294%5D%2C%20%5B42.26817397%2C%20-71.09387677%5D%2C%20%5B42.28627123%2C%20-71.13644214%5D%2C%20%5B42.3505326%2C%20-71.05109553%5D%2C%20%5B42.24961588%2C%20-71.13479074%5D%2C%20%5B42.36571448%2C%20-71.06061587%5D%2C%20%5B42.29019621%2C%20-71.07159012%5D%2C%20%5B42.35930164%2C%20-71.13105469%5D%2C%20%5B42.25943465%2C%20-71.14798064%5D%2C%20%5B42.35251005%2C%20-71.06719166%5D%2C%20%5B42.29693391%2C%20-71.08066576%5D%2C%20%5B42.30095488%2C%20-71.06537601%5D%2C%20%5B42.33430668%2C%20-71.03330746%5D%2C%20%5B42.31073736%2C%20-71.12204221%5D%2C%20%5B42.29281079%2C%20-71.07327594%5D%2C%20%5B42.34676463%2C%20-71.08747789%5D%2C%20%5B42.33555954%2C%20-71.07436364%5D%2C%20%5B42.31830219%2C%20-71.08575355%5D%2C%20%5B42.35540738%2C%20-71.06312433%5D%2C%20%5B42.2681741%2C%20-71.09674508%5D%2C%20%5B42.2681741%2C%20-71.09674508%5D%2C%20%5B42.285946%2C%20-71.1553982%5D%2C%20%5B42.30441894%2C%20-71.05571827%5D%2C%20%5B42.30441894%2C%20-71.05571827%5D%2C%20%5B42.33431859%2C%20-71.0962111%5D%2C%20%5B42.33785941%2C%20-71.06736986%5D%2C%20%5B42.36111977%2C%20-71.06513092%5D%2C%20%5B42.26577372%2C%20-71.10626422%5D%2C%20%5B42.35591935%2C%20-71.06000539%5D%2C%20%5B42.34358318%2C%20-71.09000353%5D%2C%20%5B42.29760605%2C%20-71.05676442%5D%2C%20%5B42.29760605%2C%20-71.05676442%5D%2C%20%5B42.29760605%2C%20-71.05676442%5D%2C%20%5B42.35581106%2C%20-71.07216882%5D%2C%20%5B42.28104731%2C%20-71.11698982%5D%2C%20%5B42.34049351%2C%20-71.06765722%5D%2C%20%5B42.26994732%2C%20-71.09380308%5D%2C%20%5B42.29848866%2C%20-71.06313294%5D%2C%20%5B42.35438252%2C%20-71.05213281%5D%2C%20%5B42.34439568%2C%20-71.08632016%5D%2C%20%5B42.35235279%2C%20-71.13597905%5D%2C%20%5B42.3569695%2C%20-71.06249529%5D%2C%20%5B42.351153%2C%20-71.08161374%5D%2C%20%5B42.36240281%2C%20-71.06954652%5D%2C%20%5B42.36240281%2C%20-71.06954652%5D%2C%20%5B42.36240281%2C%20-71.06954652%5D%2C%20%5B42.28410589%2C%20-71.04608937%5D%2C%20%5B42.28687441%2C%20-71.09457079%5D%2C%20%5B42.38012323%2C%20-71.0386313%5D%2C%20%5B42.28927291%2C%20-71.06622608%5D%2C%20%5B42.35687627%2C%20-71.16434675%5D%2C%20%5B42.36856802%2C%20-71.04121708%5D%2C%20%5B42.28138559%2C%20-71.11376588%5D%2C%20%5B42.33408297%2C%20-71.0462535%5D%2C%20%5B42.31616207%2C%20-71.09903147%5D%2C%20%5B42.28981696%2C%20-71.06760634%5D%2C%20%5B42.27684989%2C%20-71.12170659%5D%2C%20%5B42.29043019%2C%20-71.13434874%5D%2C%20%5B42.28479807%2C%20-71.08685632%5D%2C%20%5B42.31484522%2C%20-71.07738943%5D%2C%20%5B42.32696802%2C%20-71.08051941%5D%2C%20%5B42.32696802%2C%20-71.08051941%5D%2C%20%5B42.34563477%2C%20-71.07555367%5D%2C%20%5B42.24967245%2C%20-71.12004045%5D%2C%20%5B42.24967245%2C%20-71.12004045%5D%2C%20%5B42.33811294%2C%20-71.07518342%5D%2C%20%5B42.30987217%2C%20-71.07959478%5D%2C%20%5B42.36106519%2C%20-71.06910651%5D%2C%20%5B42.2874493%2C%20-71.04627602%5D%2C%20%5B42.34131728%2C%20-71.06964463%5D%2C%20%5B42.34749899%2C%20-71.07925506%5D%2C%20%5B42.2884578%2C%20-71.07590447%5D%2C%20%5B42.2884578%2C%20-71.07590447%5D%2C%20%5B42.2884578%2C%20-71.07590447%5D%2C%20%5B42.33926764%2C%20-71.07208833%5D%2C%20%5B42.35825495%2C%20-71.06173472%5D%2C%20%5B42.36657117%2C%20-71.03615556%5D%2C%20%5B42.28879015%2C%20-71.03990822%5D%2C%20%5B42.28816223%2C%20-71.07362757%5D%2C%20%5B42.34234193%2C%20-71.05633276%5D%2C%20%5B42.28314714%2C%20-71.11374152%5D%2C%20%5B42.32734041%2C%20-71.07945869%5D%2C%20%5B42.32773335%2C%20-71.07742977%5D%2C%20%5B42.32773335%2C%20-71.07742977%5D%2C%20%5B42.38198102%2C%20-71.0398132%5D%2C%20%5B42.34561901%2C%20-71.07990847%5D%2C%20%5B42.34238488%2C%20-71.09034878%5D%2C%20%5B42.35143483%2C%20-71.06969334%5D%2C%20%5B42.34489594%2C%20-71.09659186%5D%2C%20%5B42.31119934%2C%20-71.06827353%5D%2C%20%5B42.29169079%2C%20-71.07447258%5D%2C%20%5B42.34621459%2C%20-71.08721196%5D%2C%20%5B42.35934409%2C%20-71.1538978%5D%2C%20%5B42.29693391%2C%20-71.08066576%5D%2C%20%5B42.37382755%2C%20-71.04052459%5D%2C%20%5B42.28724944%2C%20-71.07076867%5D%2C%20%5B42.35647423%2C%20-71.07229568%5D%2C%20%5B42.32563996%2C%20-71.09993619%5D%2C%20%5B42.26458033%2C%20-71.15128604%5D%2C%20%5B42.35647423%2C%20-71.07229568%5D%2C%20%5B42.25169601%2C%20-71.13053274%5D%2C%20%5B42.35500441%2C%20-71.06300728%5D%2C%20%5B42.352571%2C%20-71.055424%5D%2C%20%5B42.26922278%2C%20-71.09384023%5D%2C%20%5B42.3335702%2C%20-71.04826456%5D%2C%20%5B42.35003557%2C%20-71.0487301%5D%2C%20%5B42.2376579%2C%20-71.13829126%5D%2C%20%5B42.32919289%2C%20-71.08730233%5D%2C%20%5B42.2545638%2C%20-71.11998513%5D%2C%20%5B42.3244404%2C%20-71.09163499%5D%2C%20%5B42.336112%2C%20-71.04665434%5D%2C%20%5B42.27797284%2C%20-71.12520155%5D%2C%20%5B42.3473098%2C%20-71.07915167%5D%2C%20%5B42.28630092%2C%20-71.12883623%5D%2C%20%5B42.35249485%2C%20-71.06749962%5D%2C%20%5B42.38167191%2C%20-71.03928397%5D%2C%20%5B42.3735556%2C%20-71.06676766%5D%2C%20%5B42.27152449%2C%20-71.09295148%5D%2C%20%5B42.35170571%2C%20-71.11989956%5D%2C%20%5B42.32935767%2C%20-71.07974589%5D%2C%20%5B42.31788176%2C%20-71.08911975%5D%2C%20%5B42.34108936%2C%20-71.07020569%5D%2C%20%5B42.33744152%2C%20-71.10428096%5D%2C%20%5B42.27540081%2C%20-71.08898513%5D%2C%20%5B42.37954425%2C%20-71.03877945%5D%2C%20%5B42.28500946%2C%20-71.06726105%5D%2C%20%5B42.33857%2C%20-71.10670681%5D%2C%20%5B42.2920407%2C%20-71.07544515%5D%2C%20%5B42.3503787%2C%20-71.07626098%5D%2C%20%5B42.27442004%2C%20-71.13863966%5D%2C%20%5B42.27442004%2C%20-71.13863966%5D%2C%20%5B42.27442004%2C%20-71.13863966%5D%2C%20%5B42.27442004%2C%20-71.13863966%5D%2C%20%5B42.29105647%2C%20-71.08933752%5D%2C%20%5B42.35515405%2C%20-71.13363463%5D%2C%20%5B42.33014012%2C%20-71.05695787%5D%2C%20%5B42.33914604%2C%20-71.15442808%5D%2C%20%5B42.2545638%2C%20-71.11998513%5D%2C%20%5B42.33670628%2C%20-71.05330809%5D%2C%20%5B42.27626552%2C%20-71.08265043%5D%2C%20%5B42.27626552%2C%20-71.08265043%5D%2C%20%5B42.31281398%2C%20-71.05849562%5D%2C%20%5B42.35892253%2C%20-71.05635419%5D%2C%20%5B42.30941006%2C%20-71.07359048%5D%2C%20%5B42.34946444%2C%20-71.14270449%5D%2C%20%5B42.2973366%2C%20-71.08729604%5D%2C%20%5B42.33302058%2C%20-71.1062127%5D%2C%20%5B42.35047411%2C%20-71.10189482%5D%2C%20%5B42.33302058%2C%20-71.1062127%5D%2C%20%5B42.35047411%2C%20-71.10189482%5D%2C%20%5B42.31949837%2C%20-71.10545221%5D%2C%20%5B42.33994076%2C%20-71.06891018%5D%2C%20%5B42.3189886%2C%20-71.0983998%5D%2C%20%5B42.38064063%2C%20-71.02556481%5D%2C%20%5B42.28414025%2C%20-71.09305138%5D%2C%20%5B42.3368915%2C%20-71.077551%5D%2C%20%5B42.33140576%2C%20-71.09438093%5D%2C%20%5B42.35602373%2C%20-71.06177615%5D%2C%20%5B42.33586257%2C%20-71.05566936%5D%2C%20%5B42.30633571%2C%20-71.07060386%5D%2C%20%5B42.34990087%2C%20-71.13323544%5D%2C%20%5B42.32221645%2C%20-71.08206723%5D%2C%20%5B42.38593715%2C%20-71.01328384%5D%2C%20%5B42.30476128%2C%20-71.07975125%5D%2C%20%5B42.3549183%2C%20-71.14987658%5D%2C%20%5B42.35095909%2C%20-71.0741278%5D%2C%20%5B42.3750272%2C%20-71.05423542%5D%2C%20%5B42.29581546%2C%20-71.06884734%5D%2C%20%5B42.32283759%2C%20-71.10096723%5D%2C%20%5B42.30099983%2C%20-71.06737912%5D%2C%20%5B42.30099983%2C%20-71.06737912%5D%2C%20%5B42.27162486%2C%20-71.11915512%5D%2C%20%5B42.27162486%2C%20-71.11915512%5D%2C%20%5B42.3368915%2C%20-71.077551%5D%2C%20%5B42.34990087%2C%20-71.13323544%5D%2C%20%5B42.32239123%2C%20-71.10196448%5D%2C%20%5B42.39149095%2C%20-71.00800649%5D%2C%20%5B42.31275031%2C%20-71.09388736%5D%2C%20%5B42.30175049%2C%20-71.059734%5D%2C%20%5B42.30536762%2C%20-71.115715%5D%2C%20%5B42.38120231%2C%20-71.07002322%5D%2C%20%5B42.38008411%2C%20-71.06492228%5D%2C%20%5B42.33298734%2C%20-71.04282382%5D%2C%20%5B42.29328831%2C%20-71.06219497%5D%2C%20%5B42.29338283%2C%20-71.08277625%5D%2C%20%5B42.2868893%2C%20-71.09222991%5D%2C%20%5B42.33297808%2C%20-71.10905423%5D%2C%20%5B42.35053763%2C%20-71.1334484%5D%2C%20%5B42.31865102%2C%20-71.08162344%5D%2C%20%5B42.31865102%2C%20-71.08162344%5D%2C%20%5B42.34268073%2C%20-71.09937714%5D%2C%20%5B42.2868893%2C%20-71.09222991%5D%2C%20%5B42.30006791%2C%20-71.08430796%5D%2C%20%5B42.32866284%2C%20-71.08563401%5D%2C%20%5B42.33367922%2C%20-71.09187755%5D%2C%20%5B42.29828416%2C%20-71.07869447%5D%2C%20%5B42.33367922%2C%20-71.09187755%5D%2C%20%5B42.33367922%2C%20-71.09187755%5D%2C%20%5B42.2796959%2C%20-71.11832827%5D%2C%20%5B42.34128751%2C%20-71.05467933%5D%2C%20%5B42.28971394%2C%20-71.04813845%5D%2C%20%5B42.33367922%2C%20-71.09187755%5D%2C%20%5B42.28482577%2C%20-71.09137369%5D%2C%20%5B42.32140611%2C%20-71.09596829%5D%2C%20%5B42.3219697%2C%20-71.07242529%5D%2C%20%5B42.3219697%2C%20-71.07242529%5D%2C%20%5B42.29346977%2C%20-71.07512548%5D%2C%20%5B42.32140611%2C%20-71.09596829%5D%2C%20%5B42.30536762%2C%20-71.115715%5D%2C%20%5B42.33367922%2C%20-71.09187755%5D%2C%20%5B42.33367922%2C%20-71.09187755%5D%2C%20%5B42.30175853%2C%20-71.0746298%5D%2C%20%5B42.30175853%2C%20-71.0746298%5D%2C%20%5B42.31136188%2C%20-71.0644231%5D%2C%20%5B42.31359796%2C%20-71.09039946%5D%2C%20%5B42.33367922%2C%20-71.09187755%5D%2C%20%5B42.33367922%2C%20-71.09187755%5D%2C%20%5B42.27133005%2C%20-71.08299865%5D%2C%20%5B42.35027686%2C%20-71.0602447%5D%2C%20%5B42.33367922%2C%20-71.09187755%5D%2C%20%5B42.34376458%2C%20-71.08866865%5D%2C%20%5B42.29828416%2C%20-71.07869447%5D%2C%20%5B42.33367922%2C%20-71.09187755%5D%2C%20%5B42.33367922%2C%20-71.09187755%5D%2C%20%5B42.33367922%2C%20-71.09187755%5D%2C%20%5B42.33367922%2C%20-71.09187755%5D%2C%20%5B42.27680536%2C%20-71.07233984%5D%2C%20%5B42.27127878%2C%20-71.08654056%5D%2C%20%5B42.29828416%2C%20-71.07869447%5D%2C%20%5B42.33367922%2C%20-71.09187755%5D%2C%20%5B42.34376458%2C%20-71.08866865%5D%2C%20%5B42.28971394%2C%20-71.04813845%5D%2C%20%5B42.28971394%2C%20-71.04813845%5D%2C%20%5B42.31249706%2C%20-71.05731757%5D%2C%20%5B42.33367922%2C%20-71.09187755%5D%2C%20%5B42.33367922%2C%20-71.09187755%5D%2C%20%5B42.31855308%2C%20-71.03860648%5D%2C%20%5B42.30536762%2C%20-71.115715%5D%2C%20%5B42.30984689%2C%20-71.0756633%5D%2C%20%5B42.29837812%2C%20-71.07814592%5D%2C%20%5B42.29837812%2C%20-71.07814592%5D%2C%20%5B42.33367922%2C%20-71.09187755%5D%2C%20%5B42.32276657%2C%20-71.10838774%5D%2C%20%5B42.32276657%2C%20-71.10838774%5D%2C%20%5B42.29837812%2C%20-71.07814592%5D%2C%20%5B42.29837812%2C%20-71.07814592%5D%2C%20%5B42.32955354%2C%20-71.09357444%5D%2C%20%5B42.31959298%2C%20-71.062607%5D%2C%20%5B42.32696802%2C%20-71.08051941%5D%2C%20%5B42.33367922%2C%20-71.09187755%5D%2C%20%5B42.33367922%2C%20-71.09187755%5D%2C%20%5B42.35705786%2C%20-71.06967491%5D%2C%20%5B42.33178%2C%20-71.113285%5D%2C%20%5B42.333382%2C%20-71.08745421%5D%2C%20%5B42.287002%2C%20-71.12907309%5D%2C%20%5B42.35932634%2C%20-71.06615272%5D%2C%20%5B42.29348708%2C%20-71.12062328%5D%2C%20%5B42.28085355%2C%20-71.11880157%5D%2C%20%5B42.25489549%2C%20-71.1201768%5D%2C%20%5B42.28248068%2C%20-71.06981187%5D%2C%20%5B42.33223641%2C%20-71.04900521%5D%2C%20%5B42.31333949%2C%20-71.0642497%5D%2C%20%5B42.32696802%2C%20-71.08051941%5D%2C%20%5B42.35105233%2C%20-71.14310367%5D%2C%20%5B42.34128751%2C%20-71.05467933%5D%2C%20%5B42.29990887%2C%20-71.06424768%5D%2C%20%5B42.33825585%2C%20-71.10880088%5D%2C%20%5B42.33550576%2C%20-71.04291647%5D%2C%20%5B42.3574147%2C%20-71.0659598%5D%2C%20%5B42.34749899%2C%20-71.07925506%5D%2C%20%5B42.34600287%2C%20-71.14387725%5D%2C%20%5B42.35373104%2C%20-71.07548929%5D%2C%20%5B42.27152449%2C%20-71.09295148%5D%2C%20%5B42.23490232%2C%20-71.13791008%5D%2C%20%5B42.35285118%2C%20-71.06096412%5D%2C%20%5B42.30573129%2C%20-71.05755949%5D%2C%20%5B42.27680536%2C%20-71.07233984%5D%2C%20%5B42.27680536%2C%20-71.07233984%5D%2C%20%5B42.33744152%2C%20-71.10428096%5D%2C%20%5B42.33048169%2C%20-71.0816673%5D%2C%20%5B42.34588967%2C%20-71.16023257%5D%2C%20%5B42.35512339%2C%20-71.0608798%5D%2C%20%5B42.35512339%2C%20-71.0608798%5D%2C%20%5B42.33228037%2C%20-71.03630323%5D%2C%20%5B42.26651467%2C%20-71.12550499%5D%2C%20%5B42.35356762%2C%20-71.1542985%5D%2C%20%5B42.3297427%2C%20-71.05826343%5D%2C%20%5B42.29281079%2C%20-71.07327594%5D%2C%20%5B42.29281079%2C%20-71.07327594%5D%2C%20%5B42.3043395%2C%20-71.08477887%5D%2C%20%5B42.35370585%2C%20-71.05898587%5D%2C%20%5B42.29328572%2C%20-71.07185722%5D%2C%20%5B42.34041044%2C%20-71.14372963%5D%2C%20%5B42.36386192%2C%20-71.05495132%5D%2C%20%5B42.32171349%2C%20-71.08260822%5D%2C%20%5B42.33128646%2C%20-71.10254023%5D%2C%20%5B42.2900467%2C%20-71.07330004%5D%2C%20%5B42.35131763%2C%20-71.05838367%5D%2C%20%5B42.3593314%2C%20-71.06549247%5D%2C%20%5B42.32101261%2C%20-71.08587919%5D%2C%20%5B42.36662714%2C%20-71.05164318%5D%2C%20%5B42.24817686%2C%20-71.1110879%5D%2C%20%5B42.30919422%2C%20-71.08488946%5D%2C%20%5B42.31794835%2C%20-71.08774652%5D%2C%20%5B42.24817686%2C%20-71.1110879%5D%2C%20%5B42.33931449%2C%20-71.06748926%5D%2C%20%5B42.31904705%2C%20-71.09399992%5D%2C%20%5B42.29093382%2C%20-71.12332234%5D%2C%20%5B42.26506676%2C%20-71.09768522%5D%2C%20%5B42.30584423%2C%20-71.06261555%5D%2C%20%5B42.30536545%2C%20-71.06812632%5D%2C%20%5B42.28922074%2C%20-71.05182976%5D%2C%20%5B42.30470399%2C%20-71.05908258%5D%2C%20%5B42.30762267%2C%20-71.08903351%5D%2C%20%5B42.30911422%2C%20-71.08667126%5D%2C%20%5B42.33378033%2C%20-71.08477419%5D%2C%20%5B42.33378033%2C%20-71.08477419%5D%2C%20%5B42.33493412%2C%20-71.0546559%5D%2C%20%5B42.35095909%2C%20-71.0741278%5D%2C%20%5B42.28152567%2C%20-71.09700335%5D%2C%20%5B42.35170571%2C%20-71.11989956%5D%2C%20%5B42.2824407%2C%20-71.05858106%5D%2C%20%5B42.31967024%2C%20-71.06613622%5D%2C%20%5B42.31081893%2C%20-71.07133229%5D%2C%20%5B42.34939238%2C%20-71.07457981%5D%2C%20%5B42.2928261%2C%20-71.050667%5D%2C%20%5B42.27581799%2C%20-71.13991259%5D%2C%20%5B42.33087019%2C%20-71.08115673%5D%2C%20%5B42.27133005%2C%20-71.08299865%5D%2C%20%5B42.2841584%2C%20-71.0894298%5D%2C%20%5B42.35123006%2C%20-71.06289921%5D%2C%20%5B42.28716674%2C%20-71.07633479%5D%2C%20%5B42.29244178%2C%20-71.07320696%5D%2C%20%5B42.36192792%2C%20-71.07081974%5D%2C%20%5B42.29396688%2C%20-71.11893964%5D%2C%20%5B42.29396688%2C%20-71.11893964%5D%2C%20%5B42.32853529%2C%20-71.08213874%5D%2C%20%5B42.28865167%2C%20-71.06415608%5D%2C%20%5B42.30470399%2C%20-71.05908258%5D%2C%20%5B42.27168366%2C%20-71.07356963%5D%2C%20%5B42.34749899%2C%20-71.07925506%5D%2C%20%5B42.33302058%2C%20-71.1062127%5D%2C%20%5B42.33638155%2C%20-71.04208842%5D%2C%20%5B42.35438252%2C%20-71.05213281%5D%2C%20%5B42.29335577%2C%20-71.14182237%5D%2C%20%5B42.33082052%2C%20-71.09800691%5D%2C%20%5B42.30176046%2C%20-71.06865428%5D%2C%20%5B42.28411373%2C%20-71.07938717%5D%2C%20%5B42.39122585%2C%20-71.00626107%5D%2C%20%5B42.31851417%2C%20-71.06055095%5D%2C%20%5B42.3218854%2C%20-71.07906279%5D%2C%20%5B42.35661814%2C%20-71.05193863%5D%2C%20%5B42.36109742%2C%20-71.06206081%5D%2C%20%5B42.31668068%2C%20-71.09638886%5D%2C%20%5B42.30612092%2C%20-71.07183167%5D%2C%20%5B42.34674238%2C%20-71.08970931%5D%2C%20%5B42.30734156%2C%20-71.1054409%5D%2C%20%5B42.26062899%2C%20-71.11523335%5D%2C%20%5B42.2791915%2C%20-71.06613907%5D%2C%20%5B42.29681873%2C%20-71.05656121%5D%2C%20%5B42.32790482%2C%20-71.05305583%5D%2C%20%5B42.28314714%2C%20-71.11374152%5D%2C%20%5B42.31136938%2C%20-71.08114545%5D%2C%20%5B42.29037227%2C%20-71.06845477%5D%2C%20%5B42.3859459%2C%20-71.00902371%5D%2C%20%5B42.31860134%2C%20-71.08405792%5D%2C%20%5B42.37919523%2C%20-71.06806961%5D%2C%20%5B42.34840576%2C%20-71.08688339%5D%2C%20%5B42.33395125%2C%20-71.07538939%5D%2C%20%5B42.35237253%2C%20-71.06260897%5D%2C%20%5B42.32396289%2C%20-71.0826729%5D%2C%20%5B42.31969458%2C%20-71.10003721%5D%2C%20%5B42.34903684%2C%20-71.15747989%5D%2C%20%5B42.34932471%2C%20-71.08014801%5D%2C%20%5B42.33930416%2C%20-71.05160423%5D%2C%20%5B42.32696802%2C%20-71.08051941%5D%2C%20%5B42.28493613%2C%20-71.12657291%5D%2C%20%5B42.28314714%2C%20-71.11374152%5D%2C%20%5B42.28785272%2C%20-71.07803392%5D%2C%20%5B42.30344%2C%20-71.085066%5D%2C%20%5B42.3469735%2C%20-71.103691%5D%2C%20%5B42.37784791%2C%20-71.05930433%5D%2C%20%5B42.36183857%2C%20-71.05976489%5D%2C%20%5B42.35877445%2C%20-71.05157653%5D%2C%20%5B42.30987217%2C%20-71.07959478%5D%2C%20%5B42.30987217%2C%20-71.07959478%5D%2C%20%5B42.29768517%2C%20-71.06841896%5D%2C%20%5B42.34932234%2C%20-71.07210216%5D%2C%20%5B42.33380683%2C%20-71.10377843%5D%2C%20%5B42.34692991%2C%20-71.1593301%5D%2C%20%5B42.31538436%2C%20-71.09870021%5D%2C%20%5B42.35107111%2C%20-71.12570166%5D%2C%20%5B42.28143262%2C%20-71.15801301%5D%2C%20%5B42.35445714%2C%20-71.07196952%5D%2C%20%5B42.30344073%2C%20-71.06674608%5D%2C%20%5B42.31633855%2C%20-71.06879992%5D%2C%20%5B42.34810188%2C%20-71.08814056%5D%2C%20%5B42.36038173%2C%20-71.06285769%5D%2C%20%5B42.33246399%2C%20-71.0787476%5D%2C%20%5B42.3126054%2C%20-71.07624159%5D%2C%20%5B42.31060967%2C%20-71.10733333%5D%2C%20%5B42.33411937%2C%20-71.02501184%5D%2C%20%5B42.31388733%2C%20-71.0968344%5D%2C%20%5B42.33857289%2C%20-71.05575501%5D%2C%20%5B42.34596339%2C%20-71.07166712%5D%2C%20%5B42.34596339%2C%20-71.07166712%5D%2C%20%5B42.33094957%2C%20-71.04139054%5D%2C%20%5B42.24973808%2C%20-71.13094002%5D%2C%20%5B42.37790964%2C%20-71.06082439%5D%2C%20%5B42.31538436%2C%20-71.09870021%5D%2C%20%5B42.33828866%2C%20-71.07908476%5D%2C%20%5B42.32639844%2C%20-71.11152626%5D%2C%20%5B42.2868893%2C%20-71.09222991%5D%2C%20%5B42.34994662%2C%20-71.05892052%5D%2C%20%5B42.34915196%2C%20-71.08080305%5D%2C%20%5B42.34915196%2C%20-71.08080305%5D%2C%20%5B42.34487687%2C%20-71.07235198%5D%2C%20%5B42.33809312%2C%20-71.09862137%5D%2C%20%5B42.37248334%2C%20-71.03752375%5D%2C%20%5B42.37248334%2C%20-71.03752375%5D%2C%20%5B42.37248334%2C%20-71.03752375%5D%2C%20%5B42.37248334%2C%20-71.03752375%5D%2C%20%5B42.37248334%2C%20-71.03752375%5D%2C%20%5B42.35512339%2C%20-71.0608798%5D%2C%20%5B42.35512339%2C%20-71.0608798%5D%2C%20%5B42.26042127%2C%20-71.11568727%5D%2C%20%5B42.32291389%2C%20-71.1026897%5D%2C%20%5B42.34114797%2C%20-71.08246189%5D%2C%20%5B42.30270433%2C%20-71.0734249%5D%2C%20%5B42.35540738%2C%20-71.06312433%5D%2C%20%5B42.32610077%2C%20-71.10433335%5D%2C%20%5B42.32610077%2C%20-71.10433335%5D%2C%20%5B42.32156492%2C%20-71.0701175%5D%2C%20%5B42.35256908%2C%20-71.07978844%5D%2C%20%5B42.35095909%2C%20-71.0741278%5D%2C%20%5B42.27631028%2C%20-71.12253393%5D%2C%20%5B42.32790482%2C%20-71.05305583%5D%2C%20%5B42.34914055%2C%20-71.09496162%5D%2C%20%5B42.32513051%2C%20-71.09940815%5D%2C%20%5B42.31367578%2C%20-71.06209631%5D%2C%20%5B42.3253151%2C%20-71.08313582%5D%2C%20%5B42.38117064%2C%20-71.07213904%5D%2C%20%5B42.38117064%2C%20-71.07213904%5D%2C%20%5B42.30097791%2C%20-71.07077333%5D%2C%20%5B42.28378654%2C%20-71.0871581%5D%2C%20%5B42.24604121%2C%20-71.11999261%5D%2C%20%5B42.31624019%2C%20-71.11267011%5D%2C%20%5B42.28295116%2C%20-71.09377542%5D%2C%20%5B42.27818669%2C%20-71.09047287%5D%2C%20%5B42.31499803%2C%20-71.09194485%5D%2C%20%5B42.34946444%2C%20-71.14270449%5D%2C%20%5B42.32547536%2C%20-71.10253482%5D%2C%20%5B42.35915295%2C%20-71.07003493%5D%2C%20%5B42.3608988%2C%20-71.05732193%5D%2C%20%5B42.3445265%2C%20-71.0767905%5D%2C%20%5B42.35095909%2C%20-71.0741278%5D%2C%20%5B42.3790172%2C%20-71.05410475%5D%2C%20%5B42.36110964%2C%20-71.06741369%5D%2C%20%5B42.36110964%2C%20-71.06741369%5D%2C%20%5B42.31308359%2C%20-71.083543%5D%2C%20%5B42.33248759%2C%20-71.08365801%5D%2C%20%5B42.31089986%2C%20-71.08007661%5D%2C%20%5B42.38111341%2C%20-71.07123762%5D%2C%20%5B42.32952036%2C%20-71.08530641%5D%2C%20%5B42.32952036%2C%20-71.08530641%5D%2C%20%5B42.32952036%2C%20-71.08530641%5D%2C%20%5B42.25332979%2C%20-71.12467152%5D%2C%20%5B42.25332979%2C%20-71.12467152%5D%2C%20%5B42.32153248%2C%20-71.07738533%5D%2C%20%5B42.32153248%2C%20-71.07738533%5D%2C%20%5B42.35653469%2C%20-71.06202057%5D%2C%20%5B42.36020464%2C%20-71.05620816%5D%2C%20%5B42.2676132%2C%20-71.09848676%5D%2C%20%5B42.360795%2C%20-71.053757%5D%2C%20%5B42.34215144%2C%20-71.06290247%5D%2C%20%5B42.29746606%2C%20-71.0827431%5D%2C%20%5B42.33130111%2C%20-71.09333508%5D%2C%20%5B42.35847666%2C%20-71.05324087%5D%2C%20%5B42.28915232%2C%20-71.07346%5D%2C%20%5B42.28915232%2C%20-71.07346%5D%2C%20%5B42.30021684%2C%20-71.0809794%5D%2C%20%5B42.30021684%2C%20-71.0809794%5D%2C%20%5B42.30021684%2C%20-71.0809794%5D%2C%20%5B42.30021684%2C%20-71.0809794%5D%2C%20%5B42.27665388%2C%20-71.09121606%5D%2C%20%5B42.34971839%2C%20-71.16815011%5D%2C%20%5B42.32324394%2C%20-71.07642483%5D%2C%20%5B42.35567614%2C%20-71.15434062%5D%2C%20%5B42.35076748%2C%20-71.14761352%5D%2C%20%5B42.2728553%2C%20-71.06971591%5D%2C%20%5B42.37172266%2C%20-71.03665549%5D%2C%20%5B42.37172266%2C%20-71.03665549%5D%2C%20%5B42.37172266%2C%20-71.03665549%5D%2C%20%5B42.34128751%2C%20-71.05467933%5D%2C%20%5B42.30470399%2C%20-71.05908258%5D%2C%20%5B42.3497436%2C%20-71.04749375%5D%2C%20%5B42.32795652%2C%20-71.10526297%5D%2C%20%5B42.32667817%2C%20-71.0714811%5D%2C%20%5B42.33730901%2C%20-71.10977389%5D%2C%20%5B42.29360585%2C%20-71.0718865%5D%2C%20%5B42.32809966%2C%20-71.06321676%5D%2C%20%5B42.27129343%2C%20-71.17225873%5D%2C%20%5B42.35862221%2C%20-71.05574534%5D%2C%20%5B42.35862221%2C%20-71.05574534%5D%2C%20%5B42.35862221%2C%20-71.05574534%5D%2C%20%5B42.35373104%2C%20-71.07548929%5D%2C%20%5B42.35213476%2C%20-71.06266757%5D%2C%20%5B42.35883134%2C%20-71.05745871%5D%2C%20%5B42.31674811%2C%20-71.11356249%5D%2C%20%5B42.310434%2C%20-71.0613401%5D%2C%20%5B42.29299523%2C%20-71.12115364%5D%2C%20%5B42.30925607%2C%20-71.09892565%5D%2C%20%5B42.325344%2C%20-71.074925%5D%2C%20%5B42.34295449%2C%20-71.07628128%5D%2C%20%5B42.29631481%2C%20-71.07839029%5D%2C%20%5B42.24249788%2C%20-71.12326854%5D%2C%20%5B42.35209109%2C%20-71.15164511%5D%2C%20%5B42.27205915%2C%20-71.08970547%5D%2C%20%5B42.30971857%2C%20-71.10429432%5D%2C%20%5B42.35002485%2C%20-71.09646321%5D%2C%20%5B42.32866284%2C%20-71.08563401%5D%2C%20%5B42.341861%2C%20-71.080085%5D%2C%20%5B42.34041044%2C%20-71.14372963%5D%2C%20%5B42.27810078%2C%20-71.17867378%5D%2C%20%5B42.31113317%2C%20-71.06258799%5D%2C%20%5B42.28092154%2C%20-71.08766264%5D%2C%20%5B42.28013735%2C%20-71.09079826%5D%2C%20%5B42.34219488%2C%20-71.05091448%5D%2C%20%5B42.35109995%2C%20-71.15511026%5D%2C%20%5B42.36176245%2C%20-71.05689992%5D%2C%20%5B42.28248068%2C%20-71.06981187%5D%2C%20%5B42.3126054%2C%20-71.07624159%5D%2C%20%5B42.34997636%2C%20-71.07242619%5D%2C%20%5B42.31909215%2C%20-71.11194505%5D%2C%20%5B42.32949944%2C%20-71.05701312%5D%2C%20%5B42.36436093%2C%20-71.05330627%5D%2C%20%5B42.26956689%2C%20-71.09075049%5D%2C%20%5B42.35073963%2C%20-71.13047909%5D%2C%20%5B42.25670536%2C%20-71.14650457%5D%2C%20%5B42.29837812%2C%20-71.07814592%5D%2C%20%5B42.29506405%2C%20-71.05672533%5D%2C%20%5B42.35653469%2C%20-71.06202057%5D%2C%20%5B42.3285094%2C%20-71.08043739%5D%2C%20%5B42.34150501%2C%20-71.08833674%5D%2C%20%5B42.28390244%2C%20-71.13086263%5D%2C%20%5B42.34241352%2C%20-71.14460462%5D%2C%20%5B42.36223947%2C%20-71.14174147%5D%2C%20%5B42.34189304%2C%20-71.07408312%5D%2C%20%5B42.29255618%2C%20-71.11974225%5D%2C%20%5B42.29255618%2C%20-71.11974225%5D%2C%20%5B42.29490954%2C%20-71.09019249%5D%2C%20%5B42.28904237%2C%20-71.0765702%5D%2C%20%5B42.30733666%2C%20-71.1169055%5D%2C%20%5B42.33961962%2C%20-71.07699237%5D%2C%20%5B42.31226098%2C%20-71.08179001%5D%2C%20%5B42.27579337%2C%20-71.167152%5D%2C%20%5B42.28570914%2C%20-71.11730039%5D%2C%20%5B42.29742411%2C%20-71.07531358%5D%2C%20%5B42.31931497%2C%20-71.04631265%5D%2C%20%5B42.36119772%2C%20-71.06828088%5D%2C%20%5B42.36119772%2C%20-71.06828088%5D%2C%20%5B42.36119772%2C%20-71.06828088%5D%2C%20%5B42.35605899%2C%20-71.16814844%5D%2C%20%5B42.29794983%2C%20-71.08774413%5D%2C%20%5B42.29794983%2C%20-71.08774413%5D%2C%20%5B42.3189886%2C%20-71.0983998%5D%2C%20%5B42.3166175%2C%20-71.06407827%5D%2C%20%5B42.33690201%2C%20-71.07871786%5D%2C%20%5B42.33690201%2C%20-71.07871786%5D%2C%20%5B42.30512773%2C%20-71.07370747%5D%2C%20%5B42.32614559%2C%20-71.05349144%5D%2C%20%5B42.36240281%2C%20-71.06954652%5D%2C%20%5B42.3503787%2C%20-71.07626098%5D%2C%20%5B42.3457782%2C%20-71.08429595%5D%2C%20%5B42.27531312%2C%20-71.11587798%5D%2C%20%5B42.32696647%2C%20-71.06198607%5D%2C%20%5B42.30918419%2C%20-71.06553969%5D%2C%20%5B42.28500946%2C%20-71.06726105%5D%2C%20%5B42.35557275%2C%20-71.15635477%5D%2C%20%5B42.31538436%2C%20-71.09870021%5D%2C%20%5B42.32553801%2C%20-71.06579592%5D%2C%20%5B42.3473098%2C%20-71.07915167%5D%2C%20%5B42.310434%2C%20-71.0613401%5D%2C%20%5B42.34000273%2C%20-71.07295998%5D%2C%20%5B42.34888042%2C%20-71.06149764%5D%2C%20%5B42.35036313%2C%20-71.06055809%5D%2C%20%5B42.35110203%2C%20-71.05735186%5D%2C%20%5B42.33606304%2C%20-71.10782832%5D%2C%20%5B42.29860692%2C%20-71.07256332%5D%2C%20%5B42.35988372%2C%20-71.06016189%5D%2C%20%5B42.35237073%2C%20-71.07227173%5D%2C%20%5B42.35988372%2C%20-71.06016189%5D%2C%20%5B42.34862382%2C%20-71.08277637%5D%2C%20%5B42.31238668%2C%20-71.07086154%5D%2C%20%5B42.30900916%2C%20-71.051081%5D%2C%20%5B42.34942864%2C%20-71.06536641%5D%2C%20%5B42.37773256%2C%20-71.05551443%5D%2C%20%5B42.32696647%2C%20-71.06198607%5D%2C%20%5B42.29420769%2C%20-71.04975975%5D%2C%20%5B42.29420769%2C%20-71.04975975%5D%2C%20%5B42.33606304%2C%20-71.10782832%5D%2C%20%5B42.37620267%2C%20-71.03979926%5D%2C%20%5B42.34881487%2C%20-71.09287448%5D%2C%20%5B42.34881487%2C%20-71.09287448%5D%2C%20%5B42.31224827%2C%20-71.06239929%5D%2C%20%5B42.342562%2C%20-71.103437%5D%2C%20%5B42.30154555%2C%20-71.08118184%5D%2C%20%5B42.31891149%2C%20-71.06731853%5D%2C%20%5B42.27166145%2C%20-71.09953382%5D%2C%20%5B42.33744152%2C%20-71.10428096%5D%2C%20%5B42.33744152%2C%20-71.10428096%5D%2C%20%5B42.31860134%2C%20-71.08405792%5D%2C%20%5B42.2943441%2C%20-71.0860401%5D%2C%20%5B42.26744227%2C%20-71.10557635%5D%2C%20%5B42.26744227%2C%20-71.10557635%5D%2C%20%5B42.26430493%2C%20-71.10061293%5D%2C%20%5B42.30098009%2C%20-71.06869928%5D%2C%20%5B42.35086495%2C%20-71.058317%5D%2C%20%5B42.32696802%2C%20-71.08051941%5D%2C%20%5B42.29848866%2C%20-71.06313294%5D%2C%20%5B42.35115433%2C%20-71.06547895%5D%2C%20%5B42.33794745%2C%20-71.05310513%5D%2C%20%5B42.33627151%2C%20-71.09187628%5D%2C%20%5B42.30030819%2C%20-71.07206425%5D%2C%20%5B42.31785924%2C%20-71.0810356%5D%2C%20%5B42.31785924%2C%20-71.0810356%5D%2C%20%5B42.31785924%2C%20-71.0810356%5D%2C%20%5B42.29328831%2C%20-71.06219497%5D%2C%20%5B42.31250816%2C%20-71.06546757%5D%2C%20%5B42.25332979%2C%20-71.12467152%5D%2C%20%5B42.33960414%2C%20-71.07249457%5D%2C%20%5B42.34488838%2C%20-71.0755885%5D%2C%20%5B42.35110203%2C%20-71.05735186%5D%2C%20%5B42.29323828%2C%20-71.05672718%5D%2C%20%5B42.33485456%2C%20-71.0302343%5D%2C%20%5B42.32503824%2C%20-71.08709904%5D%2C%20%5B42.35942556%2C%20-71.05288819%5D%2C%20%5B42.34923356%2C%20-71.0732809%5D%2C%20%5B42.32930936%2C%20-71.06898572%5D%2C%20%5B42.28051446%2C%20-71.08211766%5D%2C%20%5B42.30364345%2C%20-71.07008235%5D%2C%20%5B42.31113317%2C%20-71.06258799%5D%2C%20%5B42.32236889%2C%20-71.07267901%5D%2C%20%5B42.32236889%2C%20-71.07267901%5D%2C%20%5B42.29442496%2C%20-71.07809281%5D%2C%20%5B42.3191711%2C%20-71.09192415%5D%2C%20%5B42.31904705%2C%20-71.09399992%5D%2C%20%5B42.31904705%2C%20-71.09399992%5D%2C%20%5B42.31904705%2C%20-71.09399992%5D%2C%20%5B42.34548055%2C%20-71.14046685%5D%2C%20%5B42.34862382%2C%20-71.08277637%5D%2C%20%5B42.32483951%2C%20-71.09042399%5D%2C%20%5B42.28245514%2C%20-71.09448768%5D%2C%20%5B42.30098889%2C%20-71.12708146%5D%2C%20%5B42.2578406%2C%20-71.14813948%5D%2C%20%5B42.27967051%2C%20-71.08887826%5D%2C%20%5B42.3505809%2C%20-71.08373707%5D%2C%20%5B42.33407624%2C%20-71.10842653%5D%2C%20%5B42.32866284%2C%20-71.08563401%5D%2C%20%5B42.38776411%2C%20-71.00343771%5D%2C%20%5B42.34900739%2C%20-71.13860108%5D%2C%20%5B42.3301111%2C%20-71.05611033%5D%2C%20%5B42.26701085%2C%20-71.12096171%5D%2C%20%5B42.32141482%2C%20-71.08406055%5D%2C%20%5B42.26880785%2C%20-71.11042949%5D%2C%20%5B42.34966931%2C%20-71.15878178%5D%2C%20%5B42.35095909%2C%20-71.0741278%5D%2C%20%5B42.33961962%2C%20-71.07699237%5D%2C%20%5B42.34339388%2C%20-71.09849282%5D%2C%20%5B42.32925905%2C%20-71.08482402%5D%2C%20%5B42.31891763%2C%20-71.05517821%5D%2C%20%5B42.31891763%2C%20-71.05517821%5D%2C%20%5B42.31891763%2C%20-71.05517821%5D%2C%20%5B42.35555336%2C%20-71.15274721%5D%2C%20%5B42.35571985%2C%20-71.06110871%5D%2C%20%5B42.35571985%2C%20-71.06110871%5D%2C%20%5B42.35571985%2C%20-71.06110871%5D%2C%20%5B42.35571985%2C%20-71.06110871%5D%2C%20%5B42.31113699%2C%20-71.08227667%5D%2C%20%5B42.33402461%2C%20-71.09039049%5D%2C%20%5B42.31943966%2C%20-71.09467467%5D%2C%20%5B42.27170454%2C%20-71.1307987%5D%2C%20%5B42.28257717%2C%20-71.16997918%5D%2C%20%5B42.31694068%2C%20-71.06719268%5D%2C%20%5B42.31244922%2C%20-71.05520971%5D%2C%20%5B42.322573%2C%20-71.07357583%5D%2C%20%5B42.26788791%2C%20-71.10067012%5D%2C%20%5B42.3219697%2C%20-71.07242529%5D%2C%20%5B42.32354783%2C%20-71.07225003%5D%2C%20%5B42.34999733%2C%20-71.0810344%5D%2C%20%5B42.28841085%2C%20-71.04710091%5D%2C%20%5B42.28079658%2C%20-71.09039724%5D%2C%20%5B42.387623%2C%20-71.003762%5D%2C%20%5B42.28904237%2C%20-71.0765702%5D%2C%20%5B42.31908577%2C%20-71.0602291%5D%2C%20%5B42.28528936%2C%20-71.07002973%5D%2C%20%5B42.34960496%2C%20-71.13299161%5D%2C%20%5B42.35716029%2C%20-71.15298402%5D%2C%20%5B42.30949421%2C%20-71.04954514%5D%2C%20%5B42.24337799%2C%20-71.13306179%5D%2C%20%5B42.29563934%2C%20-71.05623343%5D%2C%20%5B42.31922045%2C%20-71.06783906%5D%2C%20%5B42.25347269%2C%20-71.12795222%5D%2C%20%5B42.31113317%2C%20-71.06258799%5D%2C%20%5B42.25794926%2C%20-71.1612288%5D%2C%20%5B42.28334499%2C%20-71.08534133%5D%2C%20%5B42.30455372%2C%20-71.08295366%5D%2C%20%5B42.32853529%2C%20-71.08213874%5D%2C%20%5B42.33358389%2C%20-71.08554259%5D%2C%20%5B42.347106%2C%20-71.079756%5D%2C%20%5B42.27791465%2C%20-71.09452937%5D%2C%20%5B42.3197573%2C%20-71.05428941%5D%2C%20%5B42.3019742%2C%20-71.08383388%5D%2C%20%5B42.30238881%2C%20-71.08539388%5D%2C%20%5B42.28252537%2C%20-71.07977256%5D%2C%20%5B42.28252537%2C%20-71.07977256%5D%2C%20%5B42.28252537%2C%20-71.07977256%5D%2C%20%5B42.28252537%2C%20-71.07977256%5D%2C%20%5B42.28252537%2C%20-71.07977256%5D%2C%20%5B42.34827698%2C%20-71.07038932%5D%2C%20%5B42.30084929%2C%20-71.08522128%5D%2C%20%5B42.30334782%2C%20-71.06985973%5D%2C%20%5B42.34243945%2C%20-71.0844553%5D%2C%20%5B42.29926303%2C%20-71.07626513%5D%2C%20%5B42.34417705%2C%20-71.1423131%5D%2C%20%5B42.33476756%2C%20-71.03539362%5D%2C%20%5B42.34008002%2C%20-71.15232713%5D%2C%20%5B42.37479451%2C%20-71.06600871%5D%2C%20%5B42.31398981%2C%20-71.07584635%5D%2C%20%5B42.31398981%2C%20-71.07584635%5D%2C%20%5B42.31398981%2C%20-71.07584635%5D%2C%20%5B42.27209462%2C%20-71.1177851%5D%2C%20%5B42.34235943%2C%20-71.1584235%5D%2C%20%5B42.35093243%2C%20-71.08585528%5D%2C%20%5B42.35079907%2C%20-71.06500775%5D%2C%20%5B42.34974111%2C%20-71.05801618%5D%2C%20%5B42.33553188%2C%20-71.04769502%5D%2C%20%5B42.31780762%2C%20-71.0668499%5D%2C%20%5B42.33562126%2C%20-71.07582361%5D%2C%20%5B42.33562126%2C%20-71.07582361%5D%2C%20%5B42.35353966%2C%20-71.0636932%5D%2C%20%5B42.31813522%2C%20-71.06763388%5D%2C%20%5B42.31813522%2C%20-71.06763388%5D%2C%20%5B42.29755533%2C%20-71.0597091%5D%2C%20%5B42.33063707%2C%20-71.04902664%5D%2C%20%5B42.31780762%2C%20-71.0668499%5D%2C%20%5B42.31780762%2C%20-71.0668499%5D%2C%20%5B42.33063707%2C%20-71.04902664%5D%2C%20%5B42.31780762%2C%20-71.0668499%5D%2C%20%5B42.31780762%2C%20-71.0668499%5D%2C%20%5B42.34724664%2C%20-71.15682477%5D%2C%20%5B42.34828759%2C%20-71.07891773%5D%2C%20%5B42.31688341%2C%20-71.07806306%5D%2C%20%5B42.31688341%2C%20-71.07806306%5D%2C%20%5B42.31688341%2C%20-71.07806306%5D%2C%20%5B42.31688341%2C%20-71.07806306%5D%2C%20%5B42.33739%2C%20-71.078%5D%2C%20%5B42.36618717%2C%20-71.05402535%5D%2C%20%5B42.32271736%2C%20-71.10488628%5D%2C%20%5B42.32610077%2C%20-71.10433335%5D%2C%20%5B42.29389648%2C%20-71.08451577%5D%2C%20%5B42.27805125%2C%20-71.12367982%5D%2C%20%5B42.36127607%2C%20-71.14345725%5D%2C%20%5B42.36127607%2C%20-71.14345725%5D%2C%20%5B42.30918419%2C%20-71.06553969%5D%2C%20%5B42.3033523%2C%20-71.08431099%5D%2C%20%5B42.34295335%2C%20-71.08833139%5D%2C%20%5B42.3274691%2C%20-71.0537141%5D%2C%20%5B42.34107005%2C%20-71.08255287%5D%2C%20%5B42.3213842%2C%20-71.05325989%5D%2C%20%5B42.24448261%2C%20-71.1189921%5D%2C%20%5B42.32752693%2C%20-71.05541255%5D%2C%20%5B42.35103105%2C%20-71.06373331%5D%2C%20%5B42.35103105%2C%20-71.06373331%5D%2C%20%5B42.36174101%2C%20-71.06376562%5D%2C%20%5B42.34876087%2C%20-71.06408261%5D%2C%20%5B42.31921177%2C%20-71.04637208%5D%2C%20%5B42.28824992%2C%20-71.05536739%5D%2C%20%5B42.2957638%2C%20-71.08756002%5D%2C%20%5B42.34710196%2C%20-71.08841746%5D%2C%20%5B42.36183857%2C%20-71.05976489%5D%2C%20%5B42.35315862%2C%20-71.13289373%5D%2C%20%5B42.30530021%2C%20-71.10799766%5D%2C%20%5B42.30530021%2C%20-71.10799766%5D%2C%20%5B42.30530021%2C%20-71.10799766%5D%2C%20%5B42.30530021%2C%20-71.10799766%5D%2C%20%5B42.29214062%2C%20-71.0520224%5D%2C%20%5B42.28541846%2C%20-71.08366378%5D%2C%20%5B42.35125131%2C%20-71.06855538%5D%2C%20%5B-1.0%2C%20-1.0%5D%2C%20%5B42.30132851%2C%20-71.07870873%5D%2C%20%5B42.34295335%2C%20-71.08833139%5D%2C%20%5B42.33177768%2C%20-71.04142278%5D%2C%20%5B42.31165937%2C%20-71.08424352%5D%2C%20%5B42.334815%2C%20-71.084575%5D%2C%20%5B42.34355233%2C%20-71.14336738%5D%2C%20%5B42.35970705%2C%20-71.12673506%5D%2C%20%5B42.3072701%2C%20-71.08696366%5D%2C%20%5B42.25621592%2C%20-71.12401947%5D%2C%20%5B42.32195809%2C%20-71.08351213%5D%2C%20%5B42.36734525%2C%20-71.05495308%5D%2C%20%5B42.32340986%2C%20-71.09339604%5D%2C%20%5B42.37102581%2C%20-71.03746759%5D%2C%20%5B42.33311189%2C%20-71.0727637%5D%2C%20%5B42.34131756%2C%20-71.07878424%5D%2C%20%5B42.35782625%2C%20-71.05363923%5D%2C%20%5B42.33861137%2C%20-71.15048997%5D%2C%20%5B42.34731413%2C%20-71.13770456%5D%2C%20%5B42.33553188%2C%20-71.04769502%5D%2C%20%5B42.34128751%2C%20-71.05467933%5D%2C%20%5B42.26089606%2C%20-71.12488672%5D%2C%20%5B42.26089606%2C%20-71.12488672%5D%2C%20%5B42.29130724%2C%20-71.11656271%5D%2C%20%5B42.33926764%2C%20-71.07208833%5D%2C%20%5B42.31780762%2C%20-71.0668499%5D%2C%20%5B42.28312525%2C%20-71.05892068%5D%2C%20%5B42.25060178%2C%20-71.13375937%5D%2C%20%5B42.33009028%2C%20-71.08202213%5D%2C%20%5B42.36022275%2C%20-71.05713443%5D%2C%20%5B42.30971857%2C%20-71.10429432%5D%2C%20%5B42.3389163%2C%20-71.06810434%5D%2C%20%5B42.27141675%2C%20-71.09499384%5D%2C%20%5B42.32257337%2C%20-71.07282803%5D%2C%20%5B42.29755533%2C%20-71.0597091%5D%2C%20%5B42.27273548%2C%20-71.06792411%5D%2C%20%5B42.2841584%2C%20-71.0894298%5D%2C%20%5B42.29878438%2C%20-71.06011998%5D%2C%20%5B42.29878438%2C%20-71.06011998%5D%2C%20%5B42.33865383%2C%20-71.04696014%5D%2C%20%5B42.33865383%2C%20-71.04696014%5D%2C%20%5B42.30629091%2C%20-71.06512497%5D%2C%20%5B42.35165733%2C%20-71.06425694%5D%2C%20%5B42.35165733%2C%20-71.06425694%5D%2C%20%5B42.31331114%2C%20-71.09231517%5D%2C%20%5B42.35165733%2C%20-71.06425694%5D%2C%20%5B42.35165733%2C%20-71.06425694%5D%2C%20%5B42.36545025%2C%20-71.06112465%5D%2C%20%5B42.36545025%2C%20-71.06112465%5D%2C%20%5B42.36545025%2C%20-71.06112465%5D%2C%20%5B42.34279307%2C%20-71.14627684%5D%2C%20%5B42.39214603%2C%20-71.00893922%5D%2C%20%5B42.39214603%2C%20-71.00893922%5D%2C%20%5B42.24235156%2C%20-71.12079258%5D%2C%20%5B42.28431486%2C%20-71.07410838%5D%2C%20%5B42.28482577%2C%20-71.09137369%5D%2C%20%5B42.35374462%2C%20-71.1466577%5D%2C%20%5B42.33295909%2C%20-71.10132271%5D%2C%20%5B42.29818638%2C%20-71.06402824%5D%2C%20%5B42.37984951%2C%20-71.06200407%5D%2C%20%5B42.34717651%2C%20-71.09433704%5D%2C%20%5B42.34279114%2C%20-71.16777585%5D%2C%20%5B42.30648026%2C%20-71.06675783%5D%2C%20%5B42.31508518%2C%20-71.08508813%5D%2C%20%5B42.33237108%2C%20-71.07144435%5D%2C%20%5B42.3075015%2C%20-71.06269836%5D%2C%20%5B42.34774669%2C%20-71.15345452%5D%2C%20%5B42.30660388%2C%20-71.08055038%5D%2C%20%5B42.34102033%2C%20-71.07972113%5D%2C%20%5B42.27451263%2C%20-71.08004896%5D%2C%20%5B42.35095909%2C%20-71.0741278%5D%2C%20%5B42.31865102%2C%20-71.08162344%5D%2C%20%5B42.26597955%2C%20-71.1217959%5D%2C%20%5B42.31193478%2C%20-71.07341982%5D%2C%20%5B42.341994%2C%20-71.096584%5D%2C%20%5B42.30971857%2C%20-71.10429432%5D%2C%20%5B42.2457775%2C%20-71.118076%5D%2C%20%5B42.2961076%2C%20-71.06136478%5D%2C%20%5B42.32902469%2C%20-71.08341505%5D%2C%20%5B42.35059717%2C%20-71.07881031%5D%2C%20%5B42.33954199%2C%20-71.06940877%5D%2C%20%5B42.30743661%2C%20-71.07014859%5D%2C%20%5B42.35325264%2C%20-71.06253118%5D%2C%20%5B42.30138747%2C%20-71.0658424%5D%2C%20%5B42.32775523%2C%20-71.05256837%5D%2C%20%5B42.3464515%2C%20-71.06986052%5D%2C%20%5B42.35095909%2C%20-71.0741278%5D%2C%20%5B42.33094957%2C%20-71.04139054%5D%2C%20%5B42.33776981%2C%20-71.03340768%5D%2C%20%5B42.30833371%2C%20-71.07599128%5D%2C%20%5B42.332531%2C%20-71.07213%5D%2C%20%5B42.32696647%2C%20-71.06198607%5D%2C%20%5B42.34234193%2C%20-71.05633276%5D%2C%20%5B42.31458709%2C%20-71.07078303%5D%2C%20%5B42.35218613%2C%20-71.08452171%5D%2C%20%5B42.33248759%2C%20-71.08365801%5D%2C%20%5B42.29426595%2C%20-71.05968487%5D%2C%20%5B42.33954199%2C%20-71.06940877%5D%2C%20%5B42.30085931%2C%20-71.08128808%5D%2C%20%5B42.33954199%2C%20-71.06940877%5D%2C%20%5B42.349056%2C%20-71.1504985%5D%2C%20%5B42.25767476%2C%20-71.12367146%5D%2C%20%5B42.37081805%2C%20-71.03929078%5D%2C%20%5B42.24704871%2C%20-71.11544426%5D%2C%20%5B42.28792819%2C%20-71.08502171%5D%2C%20%5B42.38260122%2C%20-71.03930935%5D%2C%20%5B42.38260122%2C%20-71.03930935%5D%2C%20%5B42.38260122%2C%20-71.03930935%5D%2C%20%5B42.36094387%2C%20-71.0612792%5D%2C%20%5B42.32060277%2C%20-71.07527755%5D%2C%20%5B42.35218278%2C%20-71.0556788%5D%2C%20%5B42.27531312%2C%20-71.11587798%5D%2C%20%5B42.25060071%2C%20-71.1325418%5D%2C%20%5B42.2519746%2C%20-71.128736%5D%2C%20%5B42.34827698%2C%20-71.07038932%5D%2C%20%5B42.28465991%2C%20-71.07839997%5D%2C%20%5B42.35095909%2C%20-71.0741278%5D%2C%20%5B42.24973808%2C%20-71.13094002%5D%2C%20%5B42.3254047%2C%20-71.0677138%5D%2C%20%5B42.33207616%2C%20-71.07145394%5D%2C%20%5B42.3503787%2C%20-71.07626098%5D%2C%20%5B42.29542943%2C%20-71.07661172%5D%2C%20%5B42.349056%2C%20-71.1504985%5D%2C%20%5B42.30006791%2C%20-71.08430796%5D%2C%20%5B42.32553801%2C%20-71.06579592%5D%2C%20%5B42.32553801%2C%20-71.06579592%5D%2C%20%5B42.28724428%2C%20-71.0585565%5D%2C%20%5B42.30238064%2C%20-71.0871183%5D%2C%20%5B42.31895094%2C%20-71.06969362%5D%2C%20%5B42.35437505%2C%20-71.14210244%5D%2C%20%5B42.29881915%2C%20-71.07752992%5D%2C%20%5B42.30947615%2C%20-71.05800088%5D%2C%20%5B42.25716913%2C%20-71.12530617%5D%2C%20%5B42.34055884%2C%20-71.07022771%5D%2C%20%5B42.31847226%2C%20-71.08409289%5D%2C%20%5B42.32859767%2C%20-71.05363334%5D%2C%20%5B42.35165733%2C%20-71.06425694%5D%2C%20%5B42.35165733%2C%20-71.06425694%5D%2C%20%5B42.35143483%2C%20-71.06969334%5D%2C%20%5B42.34901954%2C%20-71.08130134%5D%2C%20%5B42.32420149%2C%20-71.08881078%5D%2C%20%5B42.29515694%2C%20-71.08996961%5D%2C%20%5B42.29755533%2C%20-71.0597091%5D%2C%20%5B42.28465991%2C%20-71.07839997%5D%2C%20%5B42.28465991%2C%20-71.07839997%5D%2C%20%5B42.28465991%2C%20-71.07839997%5D%2C%20%5B42.35428377%2C%20-71.06380404%5D%2C%20%5B42.33318449%2C%20-71.07393881%5D%2C%20%5B42.36184193%2C%20-71.06074078%5D%2C%20%5B42.34855133%2C%20-71.06702716%5D%2C%20%5B42.38109978%2C%20-71.02640399%5D%2C%20%5B42.310434%2C%20-71.0613401%5D%2C%20%5B42.36120894%2C%20-71.05704545%5D%2C%20%5B42.36120894%2C%20-71.05704545%5D%2C%20%5B42.35157076%2C%20-71.07186599%5D%2C%20%5B42.31136188%2C%20-71.0644231%5D%2C%20%5B42.35179211%2C%20-71.13023989%5D%2C%20%5B42.33395125%2C%20-71.07538939%5D%2C%20%5B42.32154423%2C%20-71.09211164%5D%2C%20%5B42.33431813%2C%20-71.04801972%5D%2C%20%5B42.3457782%2C%20-71.08429595%5D%2C%20%5B42.3190725%2C%20-71.11386809%5D%2C%20%5B42.28659718%2C%20-71.04108807%5D%2C%20%5B42.34901109%2C%20-71.13042369%5D%2C%20%5B42.30084929%2C%20-71.08522128%5D%2C%20%5B42.35602999%2C%20-71.13132737%5D%2C%20%5B42.35602999%2C%20-71.13132737%5D%2C%20%5B42.34341962%2C%20-71.083956%5D%2C%20%5B42.34150501%2C%20-71.08833674%5D%2C%20%5B42.29406247%2C%20-71.09004553%5D%2C%20%5B42.3285094%2C%20-71.08043739%5D%2C%20%5B42.3285094%2C%20-71.08043739%5D%2C%20%5B42.29068631%2C%20-71.12358911%5D%2C%20%5B42.29365319%2C%20-71.08311196%5D%2C%20%5B42.29472275%2C%20-71.07058534%5D%2C%20%5B42.33828866%2C%20-71.07908476%5D%2C%20%5B42.31519665%2C%20-71.06678387%5D%2C%20%5B42.32866284%2C%20-71.08563401%5D%2C%20%5B42.32855807%2C%20-71.079276%5D%2C%20%5B42.27615691%2C%20-71.09550303%5D%2C%20%5B42.286501%2C%20-71.093413%5D%2C%20%5B42.39327289%2C%20-71.00793914%5D%2C%20%5B42.30209443%2C%20-71.06575183%5D%2C%20%5B42.33428841%2C%20-71.07239518%5D%2C%20%5B42.31493506%2C%20-71.05834852%5D%2C%20%5B42.2973366%2C%20-71.08729604%5D%2C%20%5B42.28393145%2C%20-71.11733126%5D%2C%20%5B42.27791465%2C%20-71.09452937%5D%2C%20%5B42.28482577%2C%20-71.09137369%5D%2C%20%5B42.36322276%2C%20-71.13494592%5D%2C%20%5B42.36020464%2C%20-71.05620816%5D%2C%20%5B42.25503605%2C%20-71.14074664%5D%2C%20%5B42.28424514%2C%20-71.08452739%5D%2C%20%5B42.30481467%2C%20-71.07218295%5D%2C%20%5B42.31724497%2C%20-71.0549702%5D%2C%20%5B42.32650688%2C%20-71.07181555%5D%2C%20%5B42.30044505%2C%20-71.06958552%5D%2C%20%5B42.28164735%2C%20-71.07111848%5D%2C%20%5B42.28635986%2C%20-71.09088284%5D%2C%20%5B42.33355871%2C%20-71.10299967%5D%2C%20%5B42.33355871%2C%20-71.10299967%5D%2C%20%5B42.27663372%2C%20-71.08527294%5D%2C%20%5B42.34497953%2C%20-71.14090626%5D%2C%20%5B42.32047753%2C%20-71.07273673%5D%2C%20%5B42.29489981%2C%20-71.08805852%5D%2C%20%5B42.29489981%2C%20-71.08805852%5D%2C%20%5B42.35159398%2C%20-71.12865659%5D%2C%20%5B42.3483427%2C%20-71.0722253%5D%2C%20%5B42.38051931%2C%20-71.04020563%5D%2C%20%5B42.35174866%2C%20-71.12953705%5D%2C%20%5B42.29979065%2C%20-71.05954439%5D%2C%20%5B42.30082268%2C%20-71.08589873%5D%2C%20%5B42.34416701%2C%20-71.10359107%5D%2C%20%5B42.35204779%2C%20-71.13180684%5D%2C%20%5B42.35148518%2C%20-71.06282202%5D%2C%20%5B42.35241815%2C%20-71.06525499%5D%2C%20%5B42.31531528%2C%20-71.07544326%5D%2C%20%5B42.30181052%2C%20-71.05622804%5D%2C%20%5B42.29549707%2C%20-71.07211394%5D%2C%20%5B42.31089986%2C%20-71.08007661%5D%2C%20%5B42.32734083%2C%20-71.06732427%5D%2C%20%5B42.32734083%2C%20-71.06732427%5D%2C%20%5B42.356668%2C%20-71.051517%5D%2C%20%5B42.33695098%2C%20-71.09365754%5D%2C%20%5B42.33528037%2C%20-71.0987126%5D%2C%20%5B42.28936532%2C%20-71.13374529%5D%2C%20%5B42.29576369%2C%20-71.11594819%5D%2C%20%5B42.294009%2C%20-71.04713%5D%2C%20%5B42.31434407%2C%20-71.07487058%5D%2C%20%5B42.31434407%2C%20-71.07487058%5D%2C%20%5B42.34298822%2C%20-71.06249834%5D%2C%20%5B42.33550576%2C%20-71.04291647%5D%2C%20%5B42.25856618%2C%20-71.11951626%5D%2C%20%5B42.28357335%2C%20-71.05633295%5D%2C%20%5B42.37102581%2C%20-71.03746759%5D%2C%20%5B42.31190475%2C%20-71.05910531%5D%2C%20%5B42.30722725%2C%20-71.05796217%5D%2C%20%5B42.32696647%2C%20-71.06198607%5D%2C%20%5B42.32696647%2C%20-71.06198607%5D%2C%20%5B42.35621487%2C%20-71.06943438%5D%2C%20%5B42.35115368%2C%20-71.17291563%5D%2C%20%5B42.33896439%2C%20-71.0489642%5D%2C%20%5B42.26889666%2C%20-71.1081375%5D%2C%20%5B42.26889666%2C%20-71.1081375%5D%2C%20%5B42.34594311%2C%20-71.06128608%5D%2C%20%5B42.35179211%2C%20-71.13023989%5D%2C%20%5B42.37887838%2C%20-71.03643423%5D%2C%20%5B42.31418842%2C%20-71.06766371%5D%2C%20%5B42.31462973%2C%20-71.0926152%5D%2C%20%5B42.34874245%2C%20-71.06396897%5D%2C%20%5B42.28411373%2C%20-71.07938717%5D%2C%20%5B42.35961316%2C%20-71.05195809%5D%2C%20%5B42.28267349%2C%20-71.09580237%5D%2C%20%5B42.347497%2C%20-71.101763%5D%2C%20%5B42.31878339%2C%20-71.09074228%5D%2C%20%5B42.349056%2C%20-71.1504985%5D%2C%20%5B42.28469164%2C%20-71.09621548%5D%2C%20%5B42.28469164%2C%20-71.09621548%5D%2C%20%5B42.31772429%2C%20-71.09243239%5D%2C%20%5B42.29696557%2C%20-71.06572821%5D%2C%20%5B42.28863812%2C%20-71.06631579%5D%2C%20%5B42.32075533%2C%20-71.09035419%5D%2C%20%5B42.3494205%2C%20-71.083158%5D%2C%20%5B42.2969956%2C%20-71.15768601%5D%2C%20%5B42.34901954%2C%20-71.08130134%5D%2C%20%5B42.34901954%2C%20-71.08130134%5D%2C%20%5B42.35393998%2C%20-71.07802992%5D%2C%20%5B42.35841752%2C%20-71.05727405%5D%2C%20%5B42.35213476%2C%20-71.06266757%5D%2C%20%5B42.28942828%2C%20-71.13835951%5D%2C%20%5B42.34952372%2C%20-71.05705643%5D%2C%20%5B42.35182904%2C%20-71.14227491%5D%2C%20%5B42.35433643%2C%20-71.07323767%5D%2C%20%5B42.34731413%2C%20-71.13770456%5D%2C%20%5B42.36183857%2C%20-71.05976489%5D%2C%20%5B42.2752767%2C%20-71.09554245%5D%2C%20%5B42.35426247%2C%20-71.05883334%5D%2C%20%5B42.3503876%2C%20-71.0878529%5D%2C%20%5B42.2573355%2C%20-71.1561513%5D%2C%20%5B42.29406247%2C%20-71.09004553%5D%2C%20%5B42.32091109%2C%20-71.10759322%5D%2C%20%5B42.37558378%2C%20-71.05182911%5D%2C%20%5B42.29257648%2C%20-71.07179406%5D%2C%20%5B42.27897754%2C%20-71.08954272%5D%2C%20%5B42.30214892%2C%20-71.06014992%5D%2C%20%5B42.30214892%2C%20-71.06014992%5D%2C%20%5B42.29848866%2C%20-71.06313294%5D%2C%20%5B42.31388733%2C%20-71.0968344%5D%2C%20%5B42.31388733%2C%20-71.0968344%5D%2C%20%5B42.33954199%2C%20-71.06940877%5D%2C%20%5B42.3460551%2C%20-71.07050669%5D%2C%20%5B42.34997256%2C%20-71.06348817%5D%2C%20%5B42.33130111%2C%20-71.09333508%5D%2C%20%5B42.33130111%2C%20-71.09333508%5D%2C%20%5B42.27855984%2C%20-71.09199697%5D%2C%20%5B42.36068787%2C%20-71.05687293%5D%2C%20%5B42.28576135%2C%20-71.07801426%5D%2C%20%5B42.34825318%2C%20-71.04100643%5D%2C%20%5B42.2656321%2C%20-71.11051694%5D%2C%20%5B42.34416701%2C%20-71.10359107%5D%2C%20%5B42.27720189%2C%20-71.17222257%5D%2C%20%5B42.28139944%2C%20-71.13353415%5D%2C%20%5B42.3819736%2C%20-71.03768922%5D%2C%20%5B42.29928376%2C%20-71.059172%5D%2C%20%5B42.30114533%2C%20-71.05991447%5D%2C%20%5B42.33146325%2C%20-71.0501256%5D%2C%20%5B42.2729449%2C%20-71.09348933%5D%2C%20%5B42.3185759%2C%20-71.08767243%5D%2C%20%5B42.29478707%2C%20-71.08206875%5D%2C%20%5B42.28356052%2C%20-71.07148942%5D%2C%20%5B42.35591935%2C%20-71.06000539%5D%2C%20%5B42.34507147%2C%20-71.08057788%5D%2C%20%5B42.34085069%2C%20-71.0727447%5D%2C%20%5B42.27791465%2C%20-71.09452937%5D%2C%20%5B42.27791465%2C%20-71.09452937%5D%2C%20%5B42.24124926%2C%20-71.12629908%5D%2C%20%5B42.34749899%2C%20-71.07925506%5D%2C%20%5B42.33561661%2C%20-71.03641895%5D%2C%20%5B42.36662714%2C%20-71.05164318%5D%2C%20%5B42.2752767%2C%20-71.09554245%5D%2C%20%5B42.34963667%2C%20-71.10435826%5D%2C%20%5B42.35166142%2C%20-71.05724609%5D%2C%20%5B42.31933723%2C%20-71.08885165%5D%2C%20%5B42.31847226%2C%20-71.08409289%5D%2C%20%5B42.31609551%2C%20-71.08713118%5D%2C%20%5B42.37782671%2C%20-71.0695008%5D%2C%20%5B42.3337596%2C%20-71.08684747%5D%2C%20%5B42.35512339%2C%20-71.0608798%5D%2C%20%5B42.3492468%2C%20-71.08956259%5D%2C%20%5B42.26058026%2C%20-71.15768668%5D%2C%20%5B42.26058026%2C%20-71.15768668%5D%2C%20%5B42.27386225%2C%20-71.09369539%5D%2C%20%5B42.35339757%2C%20-71.1362192%5D%2C%20%5B42.30476128%2C%20-71.07975125%5D%2C%20%5B42.29323828%2C%20-71.05672718%5D%2C%20%5B42.30246937%2C%20-71.06376578%5D%2C%20%5B42.34815229%2C%20-71.08450821%5D%2C%20%5B42.37620267%2C%20-71.03979926%5D%2C%20%5B42.32866284%2C%20-71.08563401%5D%2C%20%5B42.34862382%2C%20-71.08277637%5D%2C%20%5B42.337002%2C%20-71.09714001%5D%2C%20%5B42.29395958%2C%20-71.05900597%5D%2C%20%5B42.32648859%2C%20-71.07117436%5D%2C%20%5B42.27848036%2C%20-71.14887218%5D%2C%20%5B42.27824606%2C%20-71.14833852%5D%2C%20%5B42.30570822%2C%20-71.06015451%5D%2C%20%5B42.31851534%2C%20-71.09560596%5D%2C%20%5B42.33954199%2C%20-71.06940877%5D%2C%20%5B42.31928523%2C%20-71.05027167%5D%2C%20%5B42.34777676%2C%20-71.08581859%5D%2C%20%5B42.2759989%2C%20-71.1010178%5D%2C%20%5B42.2759989%2C%20-71.1010178%5D%2C%20%5B42.27824606%2C%20-71.14833852%5D%2C%20%5B42.24124926%2C%20-71.12629908%5D%2C%20%5B42.25064992%2C%20-71.12406767%5D%2C%20%5B42.30209443%2C%20-71.06575183%5D%2C%20%5B42.28956988%2C%20-71.08510501%5D%2C%20%5B42.27855984%2C%20-71.09199697%5D%2C%20%5B42.29468307%2C%20-71.05274587%5D%2C%20%5B42.3013553%2C%20-71.07790746%5D%2C%20%5B42.27282017%2C%20-71.06525771%5D%2C%20%5B42.27470119%2C%20-71.09344053%5D%2C%20%5B42.32809966%2C%20-71.06321676%5D%2C%20%5B42.28933096%2C%20-71.08351742%5D%2C%20%5B42.33128553%2C%20-71.10772497%5D%2C%20%5B42.33384337%2C%20-71.15412943%5D%2C%20%5B42.27451263%2C%20-71.08004896%5D%2C%20%5B42.31920995%2C%20-71.10395835%5D%2C%20%5B42.35204779%2C%20-71.13180684%5D%2C%20%5B42.27858996%2C%20-71.08253204%5D%2C%20%5B42.30929183%2C%20-71.0633036%5D%2C%20%5B42.333382%2C%20-71.08745421%5D%2C%20%5B42.30584602%2C%20-71.08470215%5D%2C%20%5B42.28220579%2C%20-71.07791871%5D%2C%20%5B42.24326802%2C%20-71.13767524%5D%2C%20%5B42.28746925%2C%20-71.07121584%5D%2C%20%5B42.30829668%2C%20-71.06747771%5D%2C%20%5B42.34454105%2C%20-71.04416497%5D%2C%20%5B42.31748189%2C%20-71.06450704%5D%2C%20%5B42.32681744%2C%20-71.07111038%5D%2C%20%5B42.33383935%2C%20-71.08029038%5D%2C%20%5B42.33310987%2C%20-71.09704528%5D%2C%20%5B42.33310987%2C%20-71.09704528%5D%2C%20%5B42.29792661%2C%20-71.08689609%5D%2C%20%5B42.31012905%2C%20-71.07484821%5D%2C%20%5B42.35961316%2C%20-71.05195809%5D%2C%20%5B42.35961316%2C%20-71.05195809%5D%2C%20%5B42.38053192%2C%20-71.03510439%5D%2C%20%5B42.28265604%2C%20-71.07374541%5D%2C%20%5B42.3347809%2C%20-71.1094777%5D%2C%20%5B42.27133005%2C%20-71.08299865%5D%2C%20%5B42.34410718%2C%20-71.1018026%5D%2C%20%5B42.33498449%2C%20-71.05192708%5D%2C%20%5B42.33498449%2C%20-71.05192708%5D%2C%20%5B42.33927252%2C%20-71.07409802%5D%2C%20%5B42.31635508%2C%20-71.06593853%5D%2C%20%5B42.31635508%2C%20-71.06593853%5D%2C%20%5B42.37846079%2C%20-71.03345662%5D%2C%20%5B42.3862769%2C%20-71.00313499%5D%2C%20%5B42.27282972%2C%20-71.09560402%5D%2C%20%5B42.35458999%2C%20-71.14294359%5D%2C%20%5B42.24886596%2C%20-71.13122255%5D%2C%20%5B42.24886596%2C%20-71.13122255%5D%2C%20%5B42.30711797%2C%20-71.1161653%5D%2C%20%5B42.30711797%2C%20-71.1161653%5D%2C%20%5B42.30098009%2C%20-71.06869928%5D%2C%20%5B42.35064119%2C%20-71.08938693%5D%2C%20%5B42.32603086%2C%20-71.07266631%5D%2C%20%5B42.32603086%2C%20-71.07266631%5D%2C%20%5B42.36967378%2C%20-71.04155054%5D%2C%20%5B42.26452149%2C%20-71.10429211%5D%2C%20%5B42.26452149%2C%20-71.10429211%5D%2C%20%5B42.31893878%2C%20-71.09826197%5D%2C%20%5B42.3102772%2C%20-71.08612001%5D%2C%20%5B42.3102772%2C%20-71.08612001%5D%2C%20%5B42.33401829%2C%20-71.07638124%5D%2C%20%5B42.28728494%2C%20-71.15306857%5D%2C%20%5B42.33523533%2C%20-71.05231133%5D%2C%20%5B42.3454472%2C%20-71.09459824%5D%2C%20%5B42.34740588%2C%20-71.13532566%5D%2C%20%5B42.35256908%2C%20-71.07978844%5D%2C%20%5B42.37952185%2C%20-71.06563041%5D%2C%20%5B42.28378485%2C%20-71.06720626%5D%2C%20%5B42.28378485%2C%20-71.06720626%5D%2C%20%5B42.27976705%2C%20-71.12162449%5D%2C%20%5B42.2906935%2C%20-71.118537%5D%2C%20%5B42.32866284%2C%20-71.08563401%5D%2C%20%5B42.38878407%2C%20-71.00514531%5D%2C%20%5B42.34928287%2C%20-71.07689903%5D%2C%20%5B42.33788808%2C%20-71.03800907%5D%2C%20%5B42.3523119%2C%20-71.0637051%5D%2C%20%5B42.32287413%2C%20-71.10155354%5D%2C%20%5B42.33565035%2C%20-71.03438806%5D%2C%20%5B42.37904767%2C%20-71.0298208%5D%2C%20%5B42.2525972%2C%20-71.1345883%5D%2C%20%5B42.35174166%2C%20-71.13847468%5D%2C%20%5B42.27451263%2C%20-71.08004896%5D%2C%20%5B42.33898333%2C%20-71.07748706%5D%2C%20%5B42.28358229%2C%20-71.12614908%5D%2C%20%5B42.34999733%2C%20-71.0810344%5D%2C%20%5B42.33331285%2C%20-71.07322932%5D%2C%20%5B42.30878855%2C%20-71.09055618%5D%2C%20%5B42.28001265%2C%20-71.06919375%5D%2C%20%5B42.35011229%2C%20-71.1733972%5D%2C%20%5B42.38259341%2C%20-71.03474979%5D%2C%20%5B42.30806355%2C%20-71.10254489%5D%2C%20%5B42.339332%2C%20-71.08335%5D%2C%20%5B42.38259341%2C%20-71.03474979%5D%2C%20%5B42.33817983%2C%20-71.04773769%5D%2C%20%5B42.30097791%2C%20-71.07077333%5D%2C%20%5B42.35159398%2C%20-71.12865659%5D%2C%20%5B42.346693%2C%20-71.105123%5D%2C%20%5B42.31499803%2C%20-71.09194485%5D%2C%20%5B42.33260117%2C%20-71.0513531%5D%2C%20%5B42.35107111%2C%20-71.12570166%5D%2C%20%5B42.33044113%2C%20-71.08373481%5D%2C%20%5B42.26955726%2C%20-71.12179039%5D%2C%20%5B42.25137716%2C%20-71.13295048%5D%2C%20%5B42.34935318%2C%20-71.08423015%5D%2C%20%5B42.35884809%2C%20-71.05792834%5D%2C%20%5B42.35091402%2C%20-71.13197892%5D%2C%20%5B42.33936768%2C%20-71.07035467%5D%2C%20%5B42.32047651%2C%20-71.07667397%5D%2C%20%5B42.3210628%2C%20-71.11569217%5D%2C%20%5B42.32930936%2C%20-71.06898572%5D%2C%20%5B42.37172932%2C%20-71.03899985%5D%2C%20%5B42.29767279%2C%20-71.04941018%5D%2C%20%5B42.30540715%2C%20-71.06547135%5D%2C%20%5B42.28405588%2C%20-71.09045322%5D%2C%20%5B42.28405588%2C%20-71.09045322%5D%2C%20%5B42.32902469%2C%20-71.08341505%5D%2C%20%5B42.300996%2C%20-71.114609%5D%2C%20%5B42.300996%2C%20-71.114609%5D%2C%20%5B42.300996%2C%20-71.114609%5D%2C%20%5B42.34257357%2C%20-71.06987698%5D%2C%20%5B42.34425779%2C%20-71.14383621%5D%2C%20%5B42.30461251%2C%20-71.07296566%5D%2C%20%5B42.34910076%2C%20-71.1561239%5D%2C%20%5B42.31434407%2C%20-71.07487058%5D%2C%20%5B42.33209622%2C%20-71.09860557%5D%2C%20%5B42.28558754%2C%20-71.12081703%5D%2C%20%5B42.28558754%2C%20-71.12081703%5D%2C%20%5B42.36943145%2C%20-71.03917179%5D%2C%20%5B42.38259341%2C%20-71.03474979%5D%2C%20%5B42.35064439%2C%20-71.06811584%5D%2C%20%5B42.32821952%2C%20-71.08082768%5D%2C%20%5B42.31066411%2C%20-71.07775375%5D%2C%20%5B42.3470248%2C%20-71.08516365%5D%2C%20%5B42.29360585%2C%20-71.0718865%5D%2C%20%5B42.31230443%2C%20-71.09660909%5D%2C%20%5B42.28001265%2C%20-71.06919375%5D%2C%20%5B42.29630352%2C%20-71.08096454%5D%2C%20%5B42.29630352%2C%20-71.08096454%5D%2C%20%5B42.29415023%2C%20-71.08175047%5D%2C%20%5B42.29415023%2C%20-71.08175047%5D%2C%20%5B42.35213476%2C%20-71.06266757%5D%2C%20%5B42.30956305%2C%20-71.08990197%5D%2C%20%5B42.3833514%2C%20-71.07894124%5D%2C%20%5B42.29503651%2C%20-71.06167942%5D%2C%20%5B42.29503651%2C%20-71.06167942%5D%2C%20%5B42.28458088%2C%20-71.03973966%5D%2C%20%5B42.28458088%2C%20-71.03973966%5D%2C%20%5B42.29512751%2C%20-71.07820832%5D%2C%20%5B42.3162358%2C%20-71.11387466%5D%2C%20%5B42.35317358%2C%20-71.07266833%5D%2C%20%5B42.38878407%2C%20-71.00514531%5D%2C%20%5B42.32696647%2C%20-71.06198607%5D%2C%20%5B42.27626552%2C%20-71.08265043%5D%2C%20%5B42.26983458%2C%20-71.10003437%5D%2C%20%5B42.32933595%2C%20-71.10866248%5D%2C%20%5B42.35916991%2C%20-71.05772912%5D%2C%20%5B42.35916991%2C%20-71.05772912%5D%2C%20%5B42.27018078%2C%20-71.12474421%5D%2C%20%5B42.29299514%2C%20-71.15769172%5D%2C%20%5B42.37857311%2C%20-71.05511607%5D%2C%20%5B42.35353966%2C%20-71.0636932%5D%2C%20%5B42.30799051%2C%20-71.08639196%5D%2C%20%5B42.36339154%2C%20-71.05488123%5D%2C%20%5B42.33357794%2C%20-71.08271636%5D%2C%20%5B42.29755533%2C%20-71.0597091%5D%2C%20%5B42.351084%2C%20-71.059395%5D%2C%20%5B42.32115322%2C%20-71.07406477%5D%2C%20%5B42.35110203%2C%20-71.05735186%5D%2C%20%5B42.31508518%2C%20-71.08508813%5D%2C%20%5B42.33791505%2C%20-71.07494606%5D%2C%20%5B42.31943966%2C%20-71.09467467%5D%2C%20%5B42.35095909%2C%20-71.0741278%5D%2C%20%5B42.35095909%2C%20-71.0741278%5D%2C%20%5B42.32203248%2C%20-71.07719524%5D%2C%20%5B42.35988372%2C%20-71.06016189%5D%2C%20%5B42.28726716%2C%20-71.1500502%5D%2C%20%5B42.28135834%2C%20-71.05677647%5D%2C%20%5B42.3289779%2C%20-71.07592971%5D%2C%20%5B42.31845834%2C%20-71.08032338%5D%2C%20%5B42.29131613%2C%20-71.07170293%5D%2C%20%5B42.33014587%2C%20-71.08490784%5D%2C%20%5B42.33152148%2C%20-71.07085307%5D%2C%20%5B42.33152148%2C%20-71.07085307%5D%2C%20%5B42.33152148%2C%20-71.07085307%5D%2C%20%5B42.29131613%2C%20-71.07170293%5D%2C%20%5B42.29214062%2C%20-71.0520224%5D%2C%20%5B42.38258002%2C%20-71.03184167%5D%2C%20%5B42.35311007%2C%20-71.06432264%5D%2C%20%5B42.36139413%2C%20-71.0576869%5D%2C%20%5B42.30316091%2C%20-71.08515552%5D%2C%20%5B42.28519774%2C%20-71.0677511%5D%2C%20%5B42.29057504%2C%20-71.07165726%5D%2C%20%5B42.29057504%2C%20-71.07165726%5D%2C%20%5B42.35747912%2C%20-71.05827852%5D%2C%20%5B42.33367922%2C%20-71.09187755%5D%2C%20%5B42.29519923%2C%20-71.05622834%5D%2C%20%5B42.32866284%2C%20-71.08563401%5D%2C%20%5B42.335482%2C%20-71.07586449%5D%2C%20%5B42.38180833%2C%20-71.0561542%5D%2C%20%5B42.35555882%2C%20-71.05849336%5D%2C%20%5B42.29766417%2C%20-71.06280134%5D%2C%20%5B42.35095909%2C%20-71.0741278%5D%2C%20%5B42.31949779%2C%20-71.09707352%5D%2C%20%5B42.32270922%2C%20-71.09932317%5D%2C%20%5B42.3360292%2C%20-71.07517847%5D%2C%20%5B42.3473098%2C%20-71.07915167%5D%2C%20%5B42.32866284%2C%20-71.08563401%5D%2C%20%5B42.36658726%2C%20-71.06019881%5D%2C%20%5B42.33226842%2C%20-71.09674843%5D%2C%20%5B42.28297379%2C%20-71.08194011%5D%2C%20%5B42.35269523%2C%20-71.12109586%5D%2C%20%5B42.35404844%2C%20-71.04639023%5D%2C%20%5B42.28482577%2C%20-71.09137369%5D%2C%20%5B42.29666202%2C%20-71.06121836%5D%2C%20%5B42.29666202%2C%20-71.06121836%5D%2C%20%5B42.28248068%2C%20-71.06981187%5D%2C%20%5B42.28248068%2C%20-71.06981187%5D%2C%20%5B42.35162789%2C%20-71.0686641%5D%2C%20%5B42.34358318%2C%20-71.09000353%5D%2C%20%5B42.36690003%2C%20-71.03741912%5D%2C%20%5B42.35115368%2C%20-71.17291563%5D%2C%20%5B42.34221544%2C%20-71.08577075%5D%2C%20%5B42.26261057%2C%20-71.10842645%5D%2C%20%5B42.38258251%2C%20-71.04029571%5D%2C%20%5B42.28465991%2C%20-71.07839997%5D%2C%20%5B42.2991807%2C%20-71.06429139%5D%2C%20%5B42.33409863%2C%20-71.0265257%5D%2C%20%5B42.29634574%2C%20-71.08181681%5D%2C%20%5B42.31461619%2C%20-71.06721024%5D%2C%20%5B42.34880604%2C%20-71.06285447%5D%2C%20%5B42.35602373%2C%20-71.06177615%5D%2C%20%5B42.27282972%2C%20-71.09560402%5D%2C%20%5B42.35892279%2C%20-71.05835354%5D%2C%20%5B42.26857609%2C%20-71.09574826%5D%2C%20%5B42.3494205%2C%20-71.083158%5D%2C%20%5B42.28538869%2C%20-71.14687068%5D%2C%20%5B42.26194848%2C%20-71.10971613%5D%2C%20%5B42.35892279%2C%20-71.05835354%5D%2C%20%5B42.36488052%2C%20-71.05549954%5D%2C%20%5B42.2676132%2C%20-71.09848676%5D%2C%20%5B42.35235105%2C%20-71.04463592%5D%2C%20%5B42.31526714%2C%20-71.0630687%5D%2C%20%5B42.29979046%2C%20-71.08239217%5D%2C%20%5B42.26950369%2C%20-71.10228582%5D%2C%20%5B42.33047722%2C%20-71.10072736%5D%2C%20%5B42.35230244%2C%20-71.06133346%5D%2C%20%5B42.34241899%2C%20-71.09678306%5D%2C%20%5B42.31317503%2C%20-71.0724369%5D%2C%20%5B42.37513644%2C%20-71.03268807%5D%2C%20%5B42.30293344%2C%20-71.10590637%5D%2C%20%5B42.30682138%2C%20-71.06030035%5D%2C%20%5B42.30682138%2C%20-71.06030035%5D%2C%20%5B42.33506218%2C%20-71.09316781%5D%2C%20%5B42.27380942%2C%20-71.11996035%5D%2C%20%5B42.27380942%2C%20-71.11996035%5D%2C%20%5B42.33901243%2C%20-71.05505848%5D%2C%20%5B42.36971223%2C%20-71.03793387%5D%2C%20%5B42.35493193%2C%20-71.15031054%5D%2C%20%5B42.33901243%2C%20-71.05505848%5D%2C%20%5B42.29620667%2C%20-71.05487852%5D%2C%20%5B42.28076737%2C%20-71.04736497%5D%2C%20%5B42.351084%2C%20-71.059395%5D%2C%20%5B42.35073963%2C%20-71.13047909%5D%2C%20%5B42.3166617%2C%20-71.07634281%5D%2C%20%5B42.27022181%2C%20-71.09892736%5D%2C%20%5B42.30660388%2C%20-71.08055038%5D%2C%20%5B42.30855179%2C%20-71.08480199%5D%2C%20%5B42.30028028%2C%20-71.06015261%5D%2C%20%5B42.35968029%2C%20-71.14097272%5D%2C%20%5B42.32272435%2C%20-71.08201106%5D%2C%20%5B42.36510426%2C%20-71.05108093%5D%2C%20%5B42.33195363%2C%20-71.08170278%5D%2C%20%5B42.364924%2C%20-71.05331772%5D%2C%20%5B42.2704856%2C%20-71.10106225%5D%2C%20%5B42.35373819%2C%20-71.15061483%5D%2C%20%5B42.3492468%2C%20-71.08956259%5D%2C%20%5B42.30600097%2C%20-71.1079491%5D%2C%20%5B42.34465705%2C%20-71.03564417%5D%2C%20%5B42.34092047%2C%20-71.0710857%5D%2C%20%5B42.29384269%2C%20-71.07609427%5D%2C%20%5B42.32469443%2C%20-71.10087902%5D%2C%20%5B42.29098335%2C%20-71.08912013%5D%2C%20%5B42.31083408%2C%20-71.10108013%5D%2C%20%5B42.32490692%2C%20-71.09825828%5D%2C%20%5B42.3660542%2C%20-71.03326208%5D%2C%20%5B42.28431486%2C%20-71.07410838%5D%2C%20%5B42.32347517%2C%20-71.0875019%5D%2C%20%5B42.34624311%2C%20-71.08568046%5D%2C%20%5B42.31127465%2C%20-71.11448366%5D%2C%20%5B42.28593201%2C%20-71.12933705%5D%2C%20%5B42.28593201%2C%20-71.12933705%5D%2C%20%5B42.34355868%2C%20-71.08734146%5D%2C%20%5B42.26681254%2C%20-71.09566961%5D%2C%20%5B42.26681254%2C%20-71.09566961%5D%2C%20%5B42.35757826%2C%20-71.15084361%5D%2C%20%5B42.33857%2C%20-71.10670681%5D%2C%20%5B42.32987323%2C%20-71.09590774%5D%2C%20%5B42.3433786%2C%20-71.07401748%5D%2C%20%5B42.30821604%2C%20-71.07997835%5D%2C%20%5B42.34481182%2C%20-71.08234324%5D%2C%20%5B42.35555882%2C%20-71.05849336%5D%2C%20%5B42.34398491%2C%20-71.06799686%5D%2C%20%5B42.34234193%2C%20-71.05633276%5D%2C%20%5B42.28465991%2C%20-71.07839997%5D%2C%20%5B42.29755533%2C%20-71.0597091%5D%2C%20%5B42.2676132%2C%20-71.09848676%5D%2C%20%5B42.32933595%2C%20-71.10866248%5D%2C%20%5B42.37476244%2C%20-71.0373121%5D%2C%20%5B42.32866284%2C%20-71.08563401%5D%2C%20%5B42.36005938%2C%20-71.06506856%5D%2C%20%5B42.29158089%2C%20-71.07664628%5D%2C%20%5B42.25621592%2C%20-71.12401947%5D%2C%20%5B42.28431486%2C%20-71.07410838%5D%2C%20%5B42.34644303%2C%20-71.14697954%5D%2C%20%5B42.32022882%2C%20-71.06307063%5D%2C%20%5B42.32022882%2C%20-71.06307063%5D%2C%20%5B42.34600287%2C%20-71.14387725%5D%2C%20%5B42.34898076%2C%20-71.06729522%5D%2C%20%5B42.32638832%2C%20-71.10181751%5D%2C%20%5B42.33282637%2C%20-71.10542117%5D%2C%20%5B42.28479807%2C%20-71.08685632%5D%2C%20%5B42.28479807%2C%20-71.08685632%5D%2C%20%5B42.29848866%2C%20-71.06313294%5D%2C%20%5B42.37749764%2C%20-71.05031219%5D%2C%20%5B42.35157076%2C%20-71.07186599%5D%2C%20%5B42.35124218%2C%20-71.12616899%5D%2C%20%5B42.36726793%2C%20-71.03232791%5D%2C%20%5B42.25716913%2C%20-71.12530617%5D%2C%20%5B42.37984951%2C%20-71.06200407%5D%2C%20%5B42.27458078%2C%20-71.11766502%5D%2C%20%5B42.3626075%2C%20-71.06132725%5D%2C%20%5B42.37474388%2C%20-71.03207627%5D%2C%20%5B42.38180833%2C%20-71.0561542%5D%2C%20%5B42.35555882%2C%20-71.05849336%5D%2C%20%5B42.28571034%2C%20-71.06432169%5D%2C%20%5B42.35023814%2C%20-71.08356549%5D%2C%20%5B42.33606304%2C%20-71.10782832%5D%2C%20%5B42.35668789%2C%20-71.07016869%5D%2C%20%5B42.29267318%2C%20-71.12329311%5D%2C%20%5B42.34980175%2C%20-71.07840978%5D%2C%20%5B42.3626075%2C%20-71.06132725%5D%2C%20%5B42.34369048%2C%20-71.09739817%5D%2C%20%5B42.3626075%2C%20-71.06132725%5D%2C%20%5B42.25732328%2C%20-71.12310848%5D%2C%20%5B42.36771769%2C%20-71.05500366%5D%2C%20%5B42.34211488%2C%20-71.06611075%5D%2C%20%5B42.30971857%2C%20-71.10429432%5D%2C%20%5B42.30971857%2C%20-71.10429432%5D%2C%20%5B42.31915303%2C%20-71.07775478%5D%2C%20%5B42.33677663%2C%20-71.07464452%5D%2C%20%5B42.310434%2C%20-71.0613401%5D%2C%20%5B42.310434%2C%20-71.0613401%5D%2C%20%5B42.310434%2C%20-71.0613401%5D%2C%20%5B42.3217176%2C%20-71.09846743%5D%2C%20%5B42.310434%2C%20-71.0613401%5D%2C%20%5B42.310434%2C%20-71.0613401%5D%2C%20%5B42.34698823%2C%20-71.09874531%5D%2C%20%5B42.30971857%2C%20-71.10429432%5D%2C%20%5B42.30129244%2C%20-71.06402711%5D%2C%20%5B42.2444067%2C%20-71.12621017%5D%2C%20%5B42.34376458%2C%20-71.08866865%5D%2C%20%5B42.38403471%2C%20-71.07262653%5D%2C%20%5B42.34877575%2C%20-71.09606805%5D%2C%20%5B42.33380683%2C%20-71.10377843%5D%2C%20%5B42.32026821%2C%20-71.08150494%5D%2C%20%5B42.37850943%2C%20-71.0581776%5D%2C%20%5B42.32809966%2C%20-71.06321676%5D%2C%20%5B42.32647732%2C%20-71.08261472%5D%2C%20%5B42.38197028%2C%20-71.03475395%5D%2C%20%5B42.27639356%2C%20-71.10175026%5D%2C%20%5B42.3365535%2C%20-71.10198577%5D%2C%20%5B42.30971857%2C%20-71.10429432%5D%2C%20%5B42.39327289%2C%20-71.00793914%5D%2C%20%5B42.30962068%2C%20-71.06006083%5D%2C%20%5B42.35241815%2C%20-71.06525499%5D%2C%20%5B42.32823419%2C%20-71.08328981%5D%2C%20%5B42.33044113%2C%20-71.08373481%5D%2C%20%5B42.33044113%2C%20-71.08373481%5D%2C%20%5B42.30648026%2C%20-71.06675783%5D%2C%20%5B42.29881968%2C%20-71.06570084%5D%2C%20%5B42.3223488%2C%20-71.08833084%5D%2C%20%5B42.33192532%2C%20-71.08411222%5D%2C%20%5B42.2890826%2C%20-71.14236614%5D%2C%20%5B42.36038173%2C%20-71.06285769%5D%2C%20%5B42.36038173%2C%20-71.06285769%5D%2C%20%5B42.31584636%2C%20-71.09824825%5D%2C%20%5B42.31584636%2C%20-71.09824825%5D%2C%20%5B42.31987416%2C%20-71.11480652%5D%2C%20%5B42.3523414%2C%20-71.06296987%5D%2C%20%5B42.3523414%2C%20-71.06296987%5D%2C%20%5B42.31929343%2C%20-71.11178236%5D%2C%20%5B42.30678713%2C%20-71.11390321%5D%2C%20%5B42.31609551%2C%20-71.08713118%5D%2C%20%5B42.29450457%2C%20-71.07767625%5D%2C%20%5B42.3579354%2C%20-71.06270345%5D%2C%20%5B42.31348708%2C%20-71.08460242%5D%2C%20%5B42.31348708%2C%20-71.08460242%5D%2C%20%5B42.29848866%2C%20-71.06313294%5D%2C%20%5B42.29848866%2C%20-71.06313294%5D%2C%20%5B42.30460308%2C%20-71.06691869%5D%2C%20%5B42.29259003%2C%20-71.13819147%5D%2C%20%5B42.33593698%2C%20-71.08008791%5D%2C%20%5B42.33593698%2C%20-71.08008791%5D%2C%20%5B42.32364847%2C%20-71.11094047%5D%2C%20%5B42.32364847%2C%20-71.11094047%5D%2C%20%5B42.27458078%2C%20-71.11766502%5D%2C%20%5B42.3169665%2C%20-71.08254058%5D%2C%20%5B42.34988575%2C%20-71.14522971%5D%2C%20%5B42.3169665%2C%20-71.08254058%5D%2C%20%5B42.34932471%2C%20-71.08014801%5D%2C%20%5B42.34932471%2C%20-71.08014801%5D%2C%20%5B42.33486614%2C%20-71.0785518%5D%2C%20%5B42.37620267%2C%20-71.03979926%5D%2C%20%5B42.34412628%2C%20-71.09942777%5D%2C%20%5B42.34621459%2C%20-71.08721196%5D%2C%20%5B42.30021684%2C%20-71.0809794%5D%2C%20%5B42.30460308%2C%20-71.06691869%5D%2C%20%5B42.33195363%2C%20-71.08170278%5D%2C%20%5B42.31636873%2C%20-71.09396544%5D%2C%20%5B42.27819847%2C%20-71.07522971%5D%2C%20%5B42.30421672%2C%20-71.05936906%5D%2C%20%5B42.28079658%2C%20-71.09039724%5D%2C%20%5B42.28352309%2C%20-71.08428482%5D%2C%20%5B42.33744152%2C%20-71.10428096%5D%2C%20%5B42.33222689%2C%20-71.05199201%5D%2C%20%5B42.34379826%2C%20-71.16560344%5D%2C%20%5B42.32300514%2C%20-71.08081696%5D%2C%20%5B42.35666076%2C%20-71.15104267%5D%2C%20%5B42.28349153%2C%20-71.08991288%5D%2C%20%5B42.35147336%2C%20-71.07560042%5D%2C%20%5B42.335783%2C%20-71.1000485%5D%2C%20%5B42.335783%2C%20-71.1000485%5D%2C%20%5B42.3390674%2C%20-71.16023733%5D%2C%20%5B42.3465382%2C%20-71.09880598%5D%2C%20%5B42.36183857%2C%20-71.05976489%5D%2C%20%5B42.31733171%2C%20-71.08569645%5D%2C%20%5B42.31733171%2C%20-71.08569645%5D%2C%20%5B42.31733171%2C%20-71.08569645%5D%2C%20%5B42.31733171%2C%20-71.08569645%5D%2C%20%5B42.29745339%2C%20-71.07253425%5D%2C%20%5B42.30084929%2C%20-71.08522128%5D%2C%20%5B42.33676619%2C%20-71.08205122%5D%2C%20%5B42.30338809%2C%20-71.05696206%5D%2C%20%5B42.310434%2C%20-71.0613401%5D%2C%20%5B42.31501293%2C%20-71.0975669%5D%2C%20%5B42.31383137%2C%20-71.0563766%5D%2C%20%5B42.38492212%2C%20-71.0174635%5D%2C%20%5B42.35785938%2C%20-71.13368353%5D%2C%20%5B42.35785938%2C%20-71.13368353%5D%2C%20%5B42.26387176%2C%20-71.10792081%5D%2C%20%5B42.341332%2C%20-71.0807435%5D%2C%20%5B42.35653469%2C%20-71.06202057%5D%2C%20%5B42.35653469%2C%20-71.06202057%5D%2C%20%5B42.31210601%2C%20-71.07256779%5D%2C%20%5B42.39327289%2C%20-71.00793914%5D%2C%20%5B42.32130559%2C%20-71.06831551%5D%2C%20%5B42.31684462%2C%20-71.08586852%5D%2C%20%5B42.31925905%2C%20-71.07368296%5D%2C%20%5B42.29972869%2C%20-71.08171587%5D%2C%20%5B42.34840576%2C%20-71.08688339%5D%2C%20%5B42.2518944%2C%20-71.1253531%5D%2C%20%5B42.35043273%2C%20-71.1271048%5D%2C%20%5B42.32045475%2C%20-71.09930789%5D%2C%20%5B42.3205644%2C%20-71.10444614%5D%2C%20%5B42.31242132%2C%20-71.09154902%5D%2C%20%5B42.25169601%2C%20-71.13053274%5D%2C%20%5B42.34421596%2C%20-71.05723593%5D%2C%20%5B42.3126054%2C%20-71.07624159%5D%2C%20%5B42.3126054%2C%20-71.07624159%5D%2C%20%5B42.26181177%2C%20-71.15640773%5D%2C%20%5B42.33961848%2C%20-71.0828558%5D%2C%20%5B42.26181177%2C%20-71.15640773%5D%2C%20%5B42.33129177%2C%20-71.04539502%5D%2C%20%5B42.30131086%2C%20-71.08443841%5D%2C%20%5B42.33686296%2C%20-71.05311324%5D%2C%20%5B42.3174174%2C%20-71.05916916%5D%2C%20%5B42.343747%2C%20-71.077891%5D%2C%20%5B42.34432514%2C%20-71.06571148%5D%2C%20%5B42.34852699%2C%20-71.06486875%5D%2C%20%5B42.32161656%2C%20-71.05680106%5D%2C%20%5B42.37081805%2C%20-71.03929078%5D%2C%20%5B42.37081805%2C%20-71.03929078%5D%2C%20%5B42.37081805%2C%20-71.03929078%5D%2C%20%5B42.3169665%2C%20-71.08254058%5D%2C%20%5B42.32075533%2C%20-71.09035419%5D%2C%20%5B42.34154901%2C%20-71.14974484%5D%2C%20%5B42.26778948%2C%20-71.15003397%5D%2C%20%5B42.34753377%2C%20-71.0627565%5D%2C%20%5B42.30254239%2C%20-71.0595669%5D%2C%20%5B42.31578488%2C%20-71.07210679%5D%2C%20%5B42.33960414%2C%20-71.07249457%5D%2C%20%5B42.35380161%2C%20-71.05620401%5D%2C%20%5B42.30664081%2C%20-71.08584976%5D%2C%20%5B42.30664081%2C%20-71.08584976%5D%2C%20%5B42.24422964%2C%20-71.13251945%5D%2C%20%5B42.31924535%2C%20-71.07287543%5D%2C%20%5B42.31924535%2C%20-71.07287543%5D%2C%20%5B42.3306713%2C%20-71.05547577%5D%2C%20%5B42.33507724%2C%20-71.10262612%5D%2C%20%5B42.3616972%2C%20-71.06685878%5D%2C%20%5B42.34753377%2C%20-71.0627565%5D%2C%20%5B42.35591935%2C%20-71.06000539%5D%2C%20%5B42.26889666%2C%20-71.1081375%5D%2C%20%5B42.34698823%2C%20-71.09874531%5D%2C%20%5B42.34698823%2C%20-71.09874531%5D%2C%20%5B42.33367922%2C%20-71.09187755%5D%2C%20%5B42.31161123%2C%20-71.076256%5D%2C%20%5B42.31369016%2C%20-71.07696741%5D%2C%20%5B42.31656425%2C%20-71.07811557%5D%2C%20%5B42.31192789%2C%20-71.07762963%5D%2C%20%5B42.30316091%2C%20-71.08515552%5D%2C%20%5B42.30316091%2C%20-71.08515552%5D%2C%20%5B42.30806355%2C%20-71.10254489%5D%2C%20%5B42.31192789%2C%20-71.07762963%5D%2C%20%5B42.30537848%2C%20-71.06151356%5D%2C%20%5B42.36127607%2C%20-71.14345725%5D%2C%20%5B42.32696802%2C%20-71.08051941%5D%2C%20%5B42.32593857%2C%20-71.08780082%5D%2C%20%5B42.3575106%2C%20-71.12996479%5D%2C%20%5B42.32852889%2C%20-71.10121965%5D%2C%20%5B42.36386192%2C%20-71.05495132%5D%2C%20%5B42.29489981%2C%20-71.08805852%5D%2C%20%5B42.34717363%2C%20-71.0964439%5D%2C%20%5B42.33192532%2C%20-71.08411222%5D%2C%20%5B42.34020387%2C%20-71.07645111%5D%2C%20%5B42.29848866%2C%20-71.06313294%5D%2C%20%5B42.35069538%2C%20-71.07763999%5D%2C%20%5B42.28246731%2C%20-71.16652763%5D%2C%20%5B42.33749022%2C%20-71.02510722%5D%2C%20%5B42.35069538%2C%20-71.07763999%5D%2C%20%5B42.35102504%2C%20-71.06493537%5D%2C%20%5B42.36309613%2C%20-71.05407085%5D%2C%20%5B42.28378654%2C%20-71.0871581%5D%2C%20%5B42.31517051%2C%20-71.1012512%5D%2C%20%5B42.32263156%2C%20-71.06979845%5D%2C%20%5B42.34569518%2C%20-71.08695736%5D%2C%20%5B42.33238533%2C%20-71.03016099%5D%2C%20%5B42.31013569%2C%20-71.0702931%5D%2C%20%5B42.35840146%2C%20-71.05041556%5D%2C%20%5B42.3523414%2C%20-71.06296987%5D%2C%20%5B42.31482241%2C%20-71.06524172%5D%2C%20%5B42.34765415%2C%20-71.03911246%5D%2C%20%5B42.30919422%2C%20-71.08488946%5D%2C%20%5B42.34901954%2C%20-71.08130134%5D%2C%20%5B42.29478707%2C%20-71.08206875%5D%2C%20%5B42.28176871%2C%20-71.0827866%5D%2C%20%5B42.34947586%2C%20-71.0764015%5D%2C%20%5B42.359287%2C%20-71.05379102%5D%2C%20%5B42.31012905%2C%20-71.07484821%5D%2C%20%5B42.29919694%2C%20-71.06046974%5D%2C%20%5B42.38780792%2C%20-71.00289977%5D%2C%20%5B42.29325616%2C%20-71.06724012%5D%2C%20%5B42.29325616%2C%20-71.06724012%5D%2C%20%5B42.35742837%2C%20-71.05832551%5D%2C%20%5B42.31838791%2C%20-71.07686288%5D%2C%20%5B42.35176179%2C%20-71.07452168%5D%2C%20%5B42.38234169%2C%20-71.01688037%5D%2C%20%5B42.34334672%2C%20-71.06643142%5D%2C%20%5B42.3187056%2C%20-71.06903227%5D%2C%20%5B42.34634226%2C%20-71.06323857%5D%2C%20%5B42.35669329%2C%20-71.05374582%5D%2C%20%5B42.30254239%2C%20-71.0595669%5D%2C%20%5B42.30254239%2C%20-71.0595669%5D%2C%20%5B42.30254239%2C%20-71.0595669%5D%2C%20%5B42.34935318%2C%20-71.08423015%5D%2C%20%5B42.34935318%2C%20-71.08423015%5D%2C%20%5B42.27386225%2C%20-71.09369539%5D%2C%20%5B42.33906064%2C%20-71.08069001%5D%2C%20%5B42.36608625%2C%20-71.05696428%5D%2C%20%5B42.33129801%2C%20-71.05350068%5D%2C%20%5B42.310434%2C%20-71.0613401%5D%2C%20%5B42.28038583%2C%20-71.12287344%5D%2C%20%5B42.35205469%2C%20-71.17132051%5D%2C%20%5B42.36204807%2C%20-71.13911492%5D%2C%20%5B42.28861662%2C%20-71.0755659%5D%2C%20%5B42.35832312%2C%20-71.06568479%5D%2C%20%5B42.36295371%2C%20-71.05419515%5D%2C%20%5B42.33129801%2C%20-71.05350068%5D%2C%20%5B42.2900467%2C%20-71.07330004%5D%2C%20%5B42.2900467%2C%20-71.07330004%5D%2C%20%5B42.2991807%2C%20-71.06429139%5D%2C%20%5B42.34302527%2C%20-71.06493967%5D%2C%20%5B42.30675232%2C%20-71.11524949%5D%2C%20%5B42.33444882%2C%20-71.0757421%5D%2C%20%5B42.34952372%2C%20-71.05705643%5D%2C%20%5B42.35175254%2C%20-71.07939155%5D%2C%20%5B42.33479338%2C%20-71.04424194%5D%2C%20%5B42.33331285%2C%20-71.07322932%5D%2C%20%5B42.33550576%2C%20-71.04291647%5D%2C%20%5B42.26836539%2C%20-71.10303434%5D%2C%20%5B42.32329712%2C%20-71.07549056%5D%2C%20%5B42.35380161%2C%20-71.05620401%5D%2C%20%5B42.35380161%2C%20-71.05620401%5D%2C%20%5B42.28494311%2C%20-71.12828224%5D%2C%20%5B42.29505434%2C%20-71.08904077%5D%2C%20%5B42.29505434%2C%20-71.08904077%5D%2C%20%5B42.34802988%2C%20-71.13550939%5D%2C%20%5B42.34039989%2C%20-71.0683172%5D%2C%20%5B42.33428841%2C%20-71.07239518%5D%2C%20%5B42.31052866%2C%20-71.08671835%5D%2C%20%5B42.3080178%2C%20-71.07147771%5D%2C%20%5B42.34338684%2C%20-71.07474635%5D%2C%20%5B42.31567062%2C%20-71.0613961%5D%2C%20%5B42.34910076%2C%20-71.1561239%5D%2C%20%5B42.35595391%2C%20-71.13852468%5D%2C%20%5B42.32287413%2C%20-71.10155354%5D%2C%20%5B42.3690812%2C%20-71.04021571%5D%2C%20%5B42.36790843%2C%20-71.05607288%5D%2C%20%5B42.31667114%2C%20-71.09743705%5D%2C%20%5B42.29321264%2C%20-71.11755983%5D%2C%20%5B42.28555413%2C%20-71.08245623%5D%2C%20%5B42.29592322%2C%20-71.08436874%5D%2C%20%5B42.29592322%2C%20-71.08436874%5D%2C%20%5B42.35095909%2C%20-71.0741278%5D%2C%20%5B42.34225888%2C%20-71.07749696%5D%2C%20%5B42.32781789%2C%20-71.08302925%5D%2C%20%5B42.29623685%2C%20-71.04853645%5D%2C%20%5B42.29623685%2C%20-71.04853645%5D%2C%20%5B42.32571409%2C%20-71.07131716%5D%2C%20%5B42.31282319%2C%20-71.06746355%5D%2C%20%5B42.35232814%2C%20-71.12603095%5D%2C%20%5B42.35232814%2C%20-71.12603095%5D%2C%20%5B42.35232814%2C%20-71.12603095%5D%2C%20%5B42.35698857%2C%20-71.06084937%5D%2C%20%5B42.35232814%2C%20-71.12603095%5D%2C%20%5B42.34999733%2C%20-71.0810344%5D%2C%20%5B42.35222125%2C%20-71.12607167%5D%2C%20%5B42.27357694%2C%20-71.16456327%5D%2C%20%5B42.35222125%2C%20-71.12607167%5D%2C%20%5B42.35106637%2C%20-71.06549569%5D%2C%20%5B42.28482577%2C%20-71.09137369%5D%2C%20%5B42.3367113%2C%20-71.07102057%5D%2C%20%5B42.31581453%2C%20-71.0623369%5D%2C%20%5B42.33697857%2C%20-71.05500277%5D%2C%20%5B42.26511445%2C%20-71.11805743%5D%2C%20%5B42.27593555%2C%20-71.11965522%5D%2C%20%5B42.33828866%2C%20-71.07908476%5D%2C%20%5B42.27076769%2C%20-71.08359036%5D%2C%20%5B42.3219484%2C%20-71.08138427%5D%2C%20%5B42.37479451%2C%20-71.06600871%5D%2C%20%5B42.28026694%2C%20-71.1572987%5D%2C%20%5B42.35404844%2C%20-71.04639023%5D%2C%20%5B42.35404844%2C%20-71.04639023%5D%2C%20%5B42.35404844%2C%20-71.04639023%5D%2C%20%5B42.3529472%2C%20-71.13115032%5D%2C%20%5B42.310434%2C%20-71.0613401%5D%2C%20%5B42.36394509%2C%20-71.05942841%5D%2C%20%5B42.35272046%2C%20-71.1302051%5D%2C%20%5B42.34225888%2C%20-71.07749696%5D%2C%20%5B42.31286677%2C%20-71.07841587%5D%2C%20%5B42.37081805%2C%20-71.03929078%5D%2C%20%5B42.31989006%2C%20-71.07626209%5D%2C%20%5B42.30753893%2C%20-71.06080497%5D%2C%20%5B42.33731438%2C%20-71.04852327%5D%2C%20%5B42.26467396%2C%20-71.10987854%5D%2C%20%5B42.31779354%2C%20-71.04210959%5D%2C%20%5B42.29919694%2C%20-71.06046974%5D%2C%20%5B42.29919694%2C%20-71.06046974%5D%2C%20%5B42.33361%2C%20-71.07337%5D%2C%20%5B42.37796835%2C%20-71.06415861%5D%2C%20%5B42.28107109%2C%20-71.06925083%5D%2C%20%5B42.28202294%2C%20-71.07125917%5D%2C%20%5B42.28202294%2C%20-71.07125917%5D%2C%20%5B42.36109742%2C%20-71.06206081%5D%2C%20%5B42.31113317%2C%20-71.06258799%5D%2C%20%5B42.29786606%2C%20-71.06332517%5D%2C%20%5B42.34767067%2C%20-71.07620742%5D%2C%20%5B42.33375961%2C%20-71.09574009%5D%2C%20%5B42.29512751%2C%20-71.07820832%5D%2C%20%5B42.38053192%2C%20-71.03510439%5D%2C%20%5B42.27786045%2C%20-71.12773515%5D%2C%20%5B42.26042127%2C%20-71.11568727%5D%2C%20%5B42.31852698%2C%20-71.09664983%5D%2C%20%5B42.32547536%2C%20-71.10253482%5D%2C%20%5B42.37949215%2C%20-71.03685008%5D%2C%20%5B42.35712714%2C%20-71.15745927%5D%2C%20%5B42.34946444%2C%20-71.14270449%5D%2C%20%5B42.30178949%2C%20-71.05514183%5D%2C%20%5B42.34311927%2C%20-71.06995997%5D%2C%20%5B42.34225865%2C%20-71.06949998%5D%2C%20%5B42.35590084%2C%20-71.07058043%5D%2C%20%5B42.31824316%2C%20-71.09838111%5D%2C%20%5B42.35699358%2C%20-71.06580186%5D%2C%20%5B42.35699358%2C%20-71.06580186%5D%2C%20%5B42.29111533%2C%20-71.05843629%5D%2C%20%5B42.31190475%2C%20-71.05910531%5D%2C%20%5B42.29111533%2C%20-71.05843629%5D%2C%20%5B42.35024571%2C%20-71.08918485%5D%2C%20%5B42.33857%2C%20-71.10670681%5D%2C%20%5B42.35053956%2C%20-71.13106722%5D%2C%20%5B42.35053956%2C%20-71.13106722%5D%2C%20%5B42.30247547%2C%20-71.05307083%5D%2C%20%5B42.3465382%2C%20-71.09880598%5D%2C%20%5B42.37501874%2C%20-71.06022033%5D%2C%20%5B42.32706721%2C%20-71.10128822%5D%2C%20%5B42.29384269%2C%20-71.07609427%5D%2C%20%5B42.33139659%2C%20-71.08232496%5D%2C%20%5B42.29331199%2C%20-71.05965615%5D%2C%20%5B42.30530021%2C%20-71.10799766%5D%2C%20%5B42.29514664%2C%20-71.05860832%5D%2C%20%5B42.2779637%2C%20-71.09246318%5D%2C%20%5B42.34154901%2C%20-71.14974484%5D%2C%20%5B42.33626275%2C%20-71.08592562%5D%2C%20%5B42.32974821%2C%20-71.08454012%5D%2C%20%5B42.34447229%2C%20-71.14273883%5D%2C%20%5B42.32872589%2C%20-71.08382217%5D%2C%20%5B42.37749764%2C%20-71.05031219%5D%2C%20%5B42.36643546%2C%20-71.06135413%5D%2C%20%5B42.28393145%2C%20-71.11733126%5D%2C%20%5B42.27758394%2C%20-71.07099159%5D%2C%20%5B42.31011153%2C%20-71.0829899%5D%2C%20%5B42.31709355%2C%20-71.07802977%5D%2C%20%5B42.3210436%2C%20-71.07865897%5D%2C%20%5B42.33386824%2C%20-71.08703565%5D%2C%20%5B42.30911422%2C%20-71.08667126%5D%2C%20%5B42.36240281%2C%20-71.06954652%5D%2C%20%5B42.31212341%2C%20-71.06820729%5D%2C%20%5B42.3483427%2C%20-71.0722253%5D%2C%20%5B42.35925152%2C%20-71.14064055%5D%2C%20%5B42.33361%2C%20-71.07337%5D%2C%20%5B42.26496475%2C%20-71.12123167%5D%2C%20%5B42.30942147%2C%20-71.07460029%5D%2C%20%5B42.31935184%2C%20-71.0664772%5D%2C%20%5B42.29205488%2C%20-71.13883059%5D%2C%20%5B42.32290252%2C%20-71.10220402%5D%2C%20%5B42.32290252%2C%20-71.10220402%5D%2C%20%5B42.32742591%2C%20-71.07702562%5D%2C%20%5B42.33520569%2C%20-71.07110315%5D%2C%20%5B42.34635377%2C%20-71.07623785%5D%2C%20%5B42.28013735%2C%20-71.09079826%5D%2C%20%5B42.29797297%2C%20-71.08828585%5D%2C%20%5B42.31659535%2C%20-71.10311898%5D%2C%20%5B42.2793449%2C%20-71.05928084%5D%2C%20%5B42.34060371%2C%20-71.08174185%5D%2C%20%5B42.37968456%2C%20-71.03428645%5D%2C%20%5B42.27810693%2C%20-71.11636523%5D%2C%20%5B42.3714106%2C%20-71.04245069%5D%2C%20%5B42.30467796%2C%20-71.07904517%5D%2C%20%5B42.37781774%2C%20-71.05187639%5D%2C%20%5B42.30855179%2C%20-71.08480199%5D%2C%20%5B42.3245386%2C%20-71.08821844%5D%2C%20%5B42.29214062%2C%20-71.0520224%5D%2C%20%5B42.24742136%2C%20-71.12786177%5D%2C%20%5B42.33428841%2C%20-71.07239518%5D%2C%20%5B42.33428841%2C%20-71.07239518%5D%2C%20%5B42.28861662%2C%20-71.0755659%5D%2C%20%5B42.28861662%2C%20-71.0755659%5D%2C%20%5B42.28861662%2C%20-71.0755659%5D%2C%20%5B42.28861662%2C%20-71.0755659%5D%2C%20%5B42.28861662%2C%20-71.0755659%5D%2C%20%5B42.309854%2C%20-71.11535%5D%2C%20%5B42.33178186%2C%20-71.09718868%5D%2C%20%5B42.23727444%2C%20-71.12624263%5D%2C%20%5B42.37662398%2C%20-71.03332247%5D%2C%20%5B42.34907307%2C%20-71.04947981%5D%2C%20%5B42.34244038%2C%20-71.05706132%5D%2C%20%5B42.34244038%2C%20-71.05706132%5D%2C%20%5B42.2533034%2C%20-71.12971806%5D%2C%20%5B42.31127726%2C%20-71.08909334%5D%2C%20%5B42.33504938%2C%20-71.07879668%5D%2C%20%5B42.33504938%2C%20-71.07879668%5D%2C%20%5B42.29106908%2C%20-71.05234007%5D%2C%20%5B42.27998567%2C%20-71.13022011%5D%2C%20%5B42.36643546%2C%20-71.06135413%5D%2C%20%5B42.31803736%2C%20-71.06023595%5D%2C%20%5B42.34835708%2C%20-71.13645291%5D%2C%20%5B42.28210068%2C%20-71.06581108%5D%2C%20%5B42.32919289%2C%20-71.08730233%5D%2C%20%5B42.29881968%2C%20-71.06570084%5D%2C%20%5B42.34828759%2C%20-71.07891773%5D%2C%20%5B42.2969956%2C%20-71.15768601%5D%2C%20%5B42.35621698%2C%20-71.16162719%5D%2C%20%5B42.34883961%2C%20-71.09089641%5D%2C%20%5B42.32593682%2C%20-71.05885279%5D%2C%20%5B42.28329468%2C%20-71.08824065%5D%2C%20%5B42.29105647%2C%20-71.08933752%5D%2C%20%5B42.33515685%2C%20-71.0947747%5D%2C%20%5B42.33515685%2C%20-71.0947747%5D%2C%20%5B42.34815229%2C%20-71.08450821%5D%2C%20%5B42.25679439%2C%20-71.12172746%5D%2C%20%5B42.30492239%2C%20-71.10298073%5D%2C%20%5B42.34040563%2C%20-71.14548726%5D%2C%20%5B42.28936619%2C%20-71.16381%5D%2C%20%5B42.3158774%2C%20-71.08510889%5D%2C%20%5B42.36542502%2C%20-71.05957649%5D%2C%20%5B42.24126254%2C%20-71.12611583%5D%2C%20%5B42.31224827%2C%20-71.06239929%5D%2C%20%5B42.31577329%2C%20-71.09461096%5D%2C%20%5B42.32583998%2C%20-71.05463516%5D%2C%20%5B42.32583998%2C%20-71.05463516%5D%2C%20%5B42.36643546%2C%20-71.06135413%5D%2C%20%5B42.27374613%2C%20-71.13534331%5D%2C%20%5B42.27374613%2C%20-71.13534331%5D%2C%20%5B42.28385993%2C%20-71.08599096%5D%2C%20%5B42.28385993%2C%20-71.08599096%5D%2C%20%5B42.28385993%2C%20-71.08599096%5D%2C%20%5B42.28385993%2C%20-71.08599096%5D%2C%20%5B42.28385993%2C%20-71.08599096%5D%2C%20%5B42.31458709%2C%20-71.07078303%5D%2C%20%5B42.31468252%2C%20-71.07527119%5D%2C%20%5B42.336868%2C%20-71.086888%5D%2C%20%5B42.28265604%2C%20-71.07374541%5D%2C%20%5B42.34746241%2C%20-71.09826597%5D%2C%20%5B42.34746241%2C%20-71.09826597%5D%2C%20%5B42.3465382%2C%20-71.09880598%5D%2C%20%5B42.29004971%2C%20-71.07021576%5D%2C%20%5B42.35452562%2C%20-71.05335664%5D%2C%20%5B42.34497953%2C%20-71.14090626%5D%2C%20%5B42.3360292%2C%20-71.07517847%5D%2C%20%5B42.29549707%2C%20-71.07211394%5D%2C%20%5B42.35892279%2C%20-71.05835354%5D%2C%20%5B42.33503481%2C%20-71.08240248%5D%2C%20%5B42.34243222%2C%20-71.07225766%5D%2C%20%5B42.34984183%2C%20-71.13678902%5D%2C%20%5B42.34082366%2C%20-71.0558791%5D%2C%20%5B42.33019207%2C%20-71.09355705%5D%2C%20%5B42.35325264%2C%20-71.06253118%5D%2C%20%5B42.26995362%2C%20-71.09006602%5D%2C%20%5B42.34825318%2C%20-71.04100643%5D%2C%20%5B42.25245093%2C%20-71.11815799%5D%2C%20%5B42.29111533%2C%20-71.05843629%5D%2C%20%5B42.25326734%2C%20-71.12385963%5D%2C%20%5B42.36116015%2C%20-71.07001526%5D%2C%20%5B42.36116015%2C%20-71.07001526%5D%2C%20%5B42.29002965%2C%20-71.06687496%5D%2C%20%5B42.30758168%2C%20-71.05883879%5D%2C%20%5B42.31859232%2C%20-71.06627372%5D%2C%20%5B42.36967378%2C%20-71.04155054%5D%2C%20%5B42.32462274%2C%20-71.07311246%5D%2C%20%5B42.28235794%2C%20-71.09804018%5D%2C%20%5B42.35044939%2C%20-71.06087148%5D%2C%20%5B42.27647573%2C%20-71.09256906%5D%2C%20%5B42.32022882%2C%20-71.06307063%5D%2C%20%5B42.3417259%2C%20-71.07501848%5D%2C%20%5B42.32206077%2C%20-71.05680459%5D%2C%20%5B42.32206077%2C%20-71.05680459%5D%2C%20%5B42.34165966%2C%20-71.07593696%5D%2C%20%5B42.38132613%2C%20-71.06528357%5D%2C%20%5B42.34724186%2C%20-71.14870339%5D%2C%20%5B42.34241899%2C%20-71.09678306%5D%2C%20%5B42.36489527%2C%20-71.06050249%5D%2C%20%5B42.32287831%2C%20-71.07667662%5D%2C%20%5B42.33392601%2C%20-71.05401224%5D%2C%20%5B42.33392601%2C%20-71.05401224%5D%2C%20%5B42.32490692%2C%20-71.09825828%5D%2C%20%5B42.29282591%2C%20-71.07966513%5D%2C%20%5B42.34862382%2C%20-71.08277637%5D%2C%20%5B42.32087449%2C%20-71.09190003%5D%2C%20%5B42.27934055%2C%20-71.09130505%5D%2C%20%5B42.32037874%2C%20-71.10781344%5D%2C%20%5B42.32614559%2C%20-71.05349144%5D%2C%20%5B42.34571916%2C%20-71.08562464%5D%2C%20%5B42.34180625%2C%20-71.14783509%5D%2C%20%5B42.32291406%2C%20-71.10328402%5D%2C%20%5B42.34113738%2C%20-71.05079375%5D%2C%20%5B42.33339068%2C%20-71.07312006%5D%2C%20%5B42.31838791%2C%20-71.07686288%5D%2C%20%5B42.35629218%2C%20-71.07075375%5D%2C%20%5B42.28322141%2C%20-71.12658%5D%2C%20%5B42.3034337%2C%20-71.07154531%5D%2C%20%5B42.36014005%2C%20-71.13027929%5D%2C%20%5B42.28030054%2C%20-71.07040618%5D%2C%20%5B42.34748342%2C%20-71.13363158%5D%2C%20%5B42.34748342%2C%20-71.13363158%5D%2C%20%5B42.29040923%2C%20-71.07693574%5D%2C%20%5B42.32101261%2C%20-71.08587919%5D%2C%20%5B42.25060178%2C%20-71.13375937%5D%2C%20%5B42.30209443%2C%20-71.06575183%5D%2C%20%5B42.35433643%2C%20-71.07323767%5D%2C%20%5B42.31301336%2C%20-71.06316929%5D%2C%20%5B42.29848866%2C%20-71.06313294%5D%2C%20%5B42.31141864%2C%20-71.0796476%5D%2C%20%5B42.3804696%2C%20-71.01571764%5D%2C%20%5B42.32980081%2C%20-71.06939695%5D%2C%20%5B42.31860134%2C%20-71.08405792%5D%2C%20%5B42.34108936%2C%20-71.07020569%5D%2C%20%5B42.25764997%2C%20-71.1602938%5D%2C%20%5B42.26637292%2C%20-71.10366543%5D%2C%20%5B42.35506362%2C%20-71.15525759%5D%2C%20%5B42.35506362%2C%20-71.15525759%5D%2C%20%5B42.31239168%2C%20-71.11066056%5D%2C%20%5B42.27276385%2C%20-71.07630638%5D%2C%20%5B42.3220384%2C%20-71.07140396%5D%2C%20%5B42.26184927%2C%20-71.16524598%5D%2C%20%5B42.30971857%2C%20-71.10429432%5D%2C%20%5B42.33930416%2C%20-71.05160423%5D%2C%20%5B42.33352084%2C%20-71.04645451%5D%2C%20%5B42.38423979%2C%20-71.00003921%5D%2C%20%5B42.32934461%2C%20-71.08291212%5D%2C%20%5B42.26454355%2C%20-71.15726319%5D%2C%20%5B42.25621592%2C%20-71.12401947%5D%2C%20%5B42.31460733%2C%20-71.0883245%5D%2C%20%5B42.32696802%2C%20-71.08051941%5D%2C%20%5B42.34676463%2C%20-71.08747789%5D%2C%20%5B42.35451931%2C%20-71.07588082%5D%2C%20%5B42.3503787%2C%20-71.07626098%5D%2C%20%5B42.25604138%2C%20-71.12102424%5D%2C%20%5B42.27700963%2C%20-71.07431626%5D%2C%20%5B42.33082052%2C%20-71.09800691%5D%2C%20%5B42.26706714%2C%20-71.09500032%5D%2C%20%5B42.26886966%2C%20-71.11802566%5D%2C%20%5B42.26706714%2C%20-71.09500032%5D%2C%20%5B42.37746305%2C%20-71.06697969%5D%2C%20%5B42.33762881%2C%20-71.05220609%5D%2C%20%5B42.30989454%2C%20-71.08231854%5D%2C%20%5B42.35519441%2C%20-71.14786584%5D%2C%20%5B42.32648859%2C%20-71.07117436%5D%2C%20%5B42.33551534%2C%20-71.10083207%5D%2C%20%5B42.33551534%2C%20-71.10083207%5D%2C%20%5B42.32284485%2C%20-71.10384777%5D%2C%20%5B42.32284485%2C%20-71.10384777%5D%2C%20%5B42.27450175%2C%20-71.09042183%5D%2C%20%5B42.32756936%2C%20-71.10181691%5D%2C%20%5B42.34173737%2C%20-71.07818565%5D%2C%20%5B42.36176245%2C%20-71.05689992%5D%2C%20%5B42.3569695%2C%20-71.06249529%5D%2C%20%5B42.346693%2C%20-71.105123%5D%2C%20%5B42.38504097%2C%20-71.01144733%5D%2C%20%5B42.29542943%2C%20-71.07661172%5D%2C%20%5B42.3545498%2C%20-71.12746278%5D%2C%20%5B42.35648631%2C%20-71.05928145%5D%2C%20%5B42.26107427%2C%20-71.12583831%5D%2C%20%5B42.35963537%2C%20-71.05180551%5D%2C%20%5B42.31118598%2C%20-71.11010393%5D%2C%20%5B42.31465584%2C%20-71.06581008%5D%2C%20%5B42.33798932%2C%20-71.08003746%5D%2C%20%5B42.28287754%2C%20-71.08474489%5D%2C%20%5B42.29182835%2C%20-71.11780085%5D%2C%20%5B42.29182835%2C%20-71.11780085%5D%2C%20%5B42.3246387%2C%20-71.09531354%5D%2C%20%5B42.336112%2C%20-71.04665434%5D%2C%20%5B42.2931965%2C%20-71.0648621%5D%2C%20%5B42.33003459%2C%20-71.05825989%5D%2C%20%5B42.35241815%2C%20-71.06525499%5D%2C%20%5B42.34305189%2C%20-71.14524866%5D%2C%20%5B42.34305189%2C%20-71.14524866%5D%2C%20%5B42.28863812%2C%20-71.06631579%5D%2C%20%5B42.34412628%2C%20-71.09942777%5D%2C%20%5B42.36109742%2C%20-71.06206081%5D%2C%20%5B42.31590032%2C%20-71.09820045%5D%2C%20%5B42.36122566%2C%20-71.0669098%5D%2C%20%5B42.33640891%2C%20-71.08565039%5D%2C%20%5B42.28863812%2C%20-71.06631579%5D%2C%20%5B42.3503465%2C%20-71.15435772%5D%2C%20%5B42.37081805%2C%20-71.03929078%5D%2C%20%5B42.33596847%2C%20-71.08129856%5D%2C%20%5B42.33596847%2C%20-71.08129856%5D%2C%20%5B42.33575801%2C%20-71.02820306%5D%2C%20%5B42.31633754%2C%20-71.09326915%5D%2C%20%5B42.33361%2C%20-71.07337%5D%2C%20%5B42.27626552%2C%20-71.08265043%5D%2C%20%5B42.35766468%2C%20-71.05810569%5D%2C%20%5B42.37324778%2C%20-71.03488415%5D%2C%20%5B42.34402604%2C%20-71.09615503%5D%2C%20%5B42.27826846%2C%20-71.14022681%5D%2C%20%5B42.31364183%2C%20-71.06316493%5D%2C%20%5B42.30095488%2C%20-71.06537601%5D%2C%20%5B42.35007312%2C%20-71.14108202%5D%2C%20%5B42.29512751%2C%20-71.07820832%5D%2C%20%5B42.35595088%2C%20-71.13830108%5D%2C%20%5B42.32696647%2C%20-71.06198607%5D%2C%20%5B42.28410589%2C%20-71.04608937%5D%2C%20%5B42.37669967%2C%20-71.06602151%5D%2C%20%5B42.37669967%2C%20-71.06602151%5D%2C%20%5B42.37669967%2C%20-71.06602151%5D%2C%20%5B42.310434%2C%20-71.0613401%5D%2C%20%5B42.35237073%2C%20-71.07227173%5D%2C%20%5B42.36242887%2C%20-71.06054873%5D%2C%20%5B42.26701085%2C%20-71.12096171%5D%2C%20%5B42.35218278%2C%20-71.0556788%5D%2C%20%5B42.31521134%2C%20-71.08783592%5D%2C%20%5B42.33118812%2C%20-71.05094139%5D%2C%20%5B42.31209619%2C%20-71.06084426%5D%2C%20%5B42.31168453%2C%20-71.05750327%5D%2C%20%5B42.33606304%2C%20-71.10782832%5D%2C%20%5B42.31168453%2C%20-71.05750327%5D%2C%20%5B42.38132613%2C%20-71.06528357%5D%2C%20%5B42.26847209%2C%20-71.11941323%5D%2C%20%5B42.28906908%2C%20-71.12116753%5D%2C%20%5B42.28906908%2C%20-71.12116753%5D%2C%20%5B42.28906908%2C%20-71.12116753%5D%2C%20%5B42.27983837%2C%20-71.06622436%5D%2C%20%5B42.33640891%2C%20-71.08565039%5D%2C%20%5B42.35632205%2C%20-71.0556614%5D%2C%20%5B42.31869001%2C%20-71.04360199%5D%2C%20%5B42.28199634%2C%20-71.08661103%5D%2C%20%5B42.28199634%2C%20-71.08661103%5D%2C%20%5B42.2803354%2C%20-71.08823995%5D%2C%20%5B42.32696647%2C%20-71.06198607%5D%2C%20%5B42.2802082%2C%20-71.17087959%5D%2C%20%5B42.32322437%2C%20-71.05896841%5D%2C%20%5B42.334971%2C%20-71.102453%5D%2C%20%5B42.31624019%2C%20-71.11267011%5D%2C%20%5B42.3519478%2C%20-71.13410791%5D%2C%20%5B42.33596847%2C%20-71.08129856%5D%2C%20%5B42.33596847%2C%20-71.08129856%5D%2C%20%5B42.38025398%2C%20-71.07113638%5D%2C%20%5B42.32064354%2C%20-71.08280381%5D%2C%20%5B42.26580232%2C%20-71.16166577%5D%2C%20%5B42.33125913%2C%20-71.08301192%5D%2C%20%5B42.29848866%2C%20-71.06313294%5D%2C%20%5B42.29125586%2C%20-71.07475092%5D%2C%20%5B42.28526024%2C%20-71.06444063%5D%2C%20%5B42.32261081%2C%20-71.07520356%5D%2C%20%5B42.28824992%2C%20-71.05536739%5D%2C%20%5B42.33438345%2C%20-71.04806924%5D%2C%20%5B42.35754425%2C%20-71.05409784%5D%2C%20%5B42.30854728%2C%20-71.05821219%5D%2C%20%5B42.31775075%2C%20-71.06497408%5D%2C%20%5B42.30262129%2C%20-71.07918399%5D%2C%20%5B42.27022181%2C%20-71.09892736%5D%2C%20%5B42.35029374%2C%20-71.07744671%5D%2C%20%5B42.32866284%2C%20-71.08563401%5D%2C%20%5B42.32866284%2C%20-71.08563401%5D%2C%20%5B42.37194136%2C%20-71.03816414%5D%2C%20%5B42.32972539%2C%20-71.0341586%5D%2C%20%5B42.33586257%2C%20-71.05566936%5D%2C%20%5B42.35029374%2C%20-71.07744671%5D%2C%20%5B42.34749899%2C%20-71.07925506%5D%2C%20%5B42.33586257%2C%20-71.05566936%5D%2C%20%5B42.28623708%2C%20-71.07768279%5D%2C%20%5B42.34895777%2C%20-71.08489204%5D%2C%20%5B42.31787584%2C%20-71.05946513%5D%2C%20%5B42.28079658%2C%20-71.09039724%5D%2C%20%5B42.29765063%2C%20-71.09178006%5D%2C%20%5B42.30334343%2C%20-71.07416742%5D%2C%20%5B42.34454529%2C%20-71.07458983%5D%2C%20%5B42.27204895%2C%20-71.12014638%5D%2C%20%5B42.33965205%2C%20-71.07455503%5D%2C%20%5B42.33118812%2C%20-71.05094139%5D%2C%20%5B42.34136871%2C%20-71.14864682%5D%2C%20%5B42.29041538%2C%20-71.07269542%5D%2C%20%5B42.301613%2C%20-71.112282%5D%2C%20%5B42.34843357%2C%20-71.0758794%5D%2C%20%5B42.35484614%2C%20-71.05266752%5D%2C%20%5B42.25794926%2C%20-71.1612288%5D%2C%20%5B42.3469735%2C%20-71.103691%5D%2C%20%5B42.29098928%2C%20-71.06393865%5D%2C%20%5B42.30344073%2C%20-71.06674608%5D%2C%20%5B42.3169665%2C%20-71.08254058%5D%2C%20%5B42.29903803%2C%20-71.05780292%5D%2C%20%5B42.34420182%2C%20-71.15346093%5D%2C%20%5B42.2908759%2C%20-71.08274055%5D%2C%20%5B42.33936768%2C%20-71.07035467%5D%2C%20%5B42.33936768%2C%20-71.07035467%5D%2C%20%5B42.33744152%2C%20-71.10428096%5D%2C%20%5B42.28863812%2C%20-71.06631579%5D%2C%20%5B42.34749899%2C%20-71.07925506%5D%2C%20%5B42.27230624%2C%20-71.06721386%5D%2C%20%5B42.32527722%2C%20-71.08810173%5D%2C%20%5B42.28009279%2C%20-71.0800541%5D%2C%20%5B42.3588621%2C%20-71.05680967%5D%2C%20%5B42.29202056%2C%20-71.06681679%5D%2C%20%5B42.31323118%2C%20-71.07179278%5D%2C%20%5B42.29745339%2C%20-71.07253425%5D%2C%20%5B42.29745339%2C%20-71.07253425%5D%2C%20%5B42.35512339%2C%20-71.0608798%5D%2C%20%5B42.36643546%2C%20-71.06135413%5D%2C%20%5B42.2518944%2C%20-71.1253531%5D%2C%20%5B42.33227604%2C%20-71.05205464%5D%2C%20%5B42.32788516%2C%20-71.07770633%5D%2C%20%5B42.30638316%2C%20-71.08435635%5D%2C%20%5B42.34968872%2C%20-71.07711256%5D%2C%20%5B42.31949081%2C%20-71.06627425%5D%2C%20%5B42.31949081%2C%20-71.06627425%5D%2C%20%5B42.25845301%2C%20-71.14489226%5D%2C%20%5B42.35557275%2C%20-71.15635477%5D%2C%20%5B42.27204895%2C%20-71.12014638%5D%2C%20%5B42.27094745%2C%20-71.10288838%5D%2C%20%5B42.29169079%2C%20-71.07447258%5D%2C%20%5B42.32969471%2C%20-71.0704441%5D%2C%20%5B42.34984183%2C%20-71.13678902%5D%2C%20%5B42.3290038%2C%20-71.07838214%5D%2C%20%5B42.36943145%2C%20-71.03917179%5D%2C%20%5B42.28576084%2C%20-71.09030349%5D%2C%20%5B42.29967342%2C%20-71.06511601%5D%2C%20%5B42.32795212%2C%20-71.08976881%5D%2C%20%5B42.29738524%2C%20-71.09005716%5D%2C%20%5B42.28581121%2C%20-71.07115483%5D%2C%20%5B42.27282972%2C%20-71.09560402%5D%2C%20%5B42.33386824%2C%20-71.08703565%5D%2C%20%5B42.35315862%2C%20-71.13289373%5D%2C%20%5B42.30762176%2C%20-71.07752554%5D%2C%20%5B42.31731905%2C%20-71.06150882%5D%2C%20%5B42.34280177%2C%20-71.1006951%5D%2C%20%5B42.34857652%2C%20-71.07772012%5D%2C%20%5B42.35557275%2C%20-71.15635477%5D%2C%20%5B42.32701648%2C%20-71.10555088%5D%2C%20%5B42.29480297%2C%20-71.06175129%5D%2C%20%5B42.28367511%2C%20-71.05267191%5D%2C%20%5B42.31590032%2C%20-71.09820045%5D%2C%20%5B42.30655082%2C%20-71.10657722%5D%2C%20%5B42.326395%2C%20-71.08908995%5D%2C%20%5B42.27707649%2C%20-71.12404127%5D%2C%20%5B42.33603506%2C%20-71.10061827%5D%2C%20%5B42.29572232%2C%20-71.07505157%5D%2C%20%5B42.32866284%2C%20-71.08563401%5D%2C%20%5B42.36068787%2C%20-71.05687293%5D%2C%20%5B42.36542502%2C%20-71.05957649%5D%2C%20%5B42.37341577%2C%20-71.06567171%5D%2C%20%5B42.35712714%2C%20-71.15745927%5D%2C%20%5B42.33801637%2C%20-71.04635123%5D%2C%20%5B42.35540113%2C%20-71.13090649%5D%2C%20%5B42.29109287%2C%20-71.06594539%5D%2C%20%5B42.35084168%2C%20-71.06216643%5D%2C%20%5B42.35084168%2C%20-71.06216643%5D%2C%20%5B42.35084168%2C%20-71.06216643%5D%2C%20%5B42.26633004%2C%20-71.09746447%5D%2C%20%5B42.26633004%2C%20-71.09746447%5D%2C%20%5B42.33760149%2C%20-71.04683835%5D%2C%20%5B42.34862382%2C%20-71.08277637%5D%2C%20%5B42.38135785%2C%20-71.03768163%5D%2C%20%5B42.35106637%2C%20-71.06549569%5D%2C%20%5B42.31577329%2C%20-71.09461096%5D%2C%20%5B42.34748963%2C%20-71.0685976%5D%2C%20%5B42.34748963%2C%20-71.0685976%5D%2C%20%5B42.31632131%2C%20-71.0892305%5D%2C%20%5B42.32969471%2C%20-71.0704441%5D%2C%20%5B42.37505251%2C%20-71.03883891%5D%2C%20%5B42.30308131%2C%20-71.05945101%5D%2C%20%5B42.31688133%2C%20-71.08874073%5D%2C%20%5B42.35136038%2C%20-71.14290147%5D%2C%20%5B42.35136038%2C%20-71.14290147%5D%2C%20%5B42.34810188%2C%20-71.08814056%5D%2C%20%5B42.28013735%2C%20-71.09079826%5D%2C%20%5B42.30154274%2C%20-71.07201939%5D%2C%20%5B42.28555729%2C%20-71.0911249%5D%2C%20%5B42.39327289%2C%20-71.00793914%5D%2C%20%5B42.29386305%2C%20-71.06123038%5D%2C%20%5B42.34815585%2C%20-71.05018112%5D%2C%20%5B42.31368925%2C%20-71.0742708%5D%2C%20%5B42.31368925%2C%20-71.0742708%5D%2C%20%5B42.3211829%2C%20-71.1068278%5D%2C%20%5B42.3211829%2C%20-71.1068278%5D%2C%20%5B42.31368925%2C%20-71.0742708%5D%2C%20%5B42.36646326%2C%20-71.06067801%5D%2C%20%5B42.28898462%2C%20-71.15224773%5D%2C%20%5B42.25539358%2C%20-71.12678706%5D%2C%20%5B42.25539358%2C%20-71.12678706%5D%2C%20%5B42.35615901%2C%20-71.14910236%5D%2C%20%5B42.26165133%2C%20-71.15394882%5D%2C%20%5B42.25621592%2C%20-71.12401947%5D%2C%20%5B42.2985085%2C%20-71.06786956%5D%2C%20%5B42.33364401%2C%20-71.09086302%5D%2C%20%5B42.33593698%2C%20-71.08008791%5D%2C%20%5B42.35139683%2C%20-71.08413209%5D%2C%20%5B42.33558469%2C%20-71.07713044%5D%2C%20%5B42.35339757%2C%20-71.1362192%5D%2C%20%5B42.34302527%2C%20-71.06493967%5D%2C%20%5B42.34749899%2C%20-71.07925506%5D%2C%20%5B42.34749899%2C%20-71.07925506%5D%2C%20%5B42.29818638%2C%20-71.06402824%5D%2C%20%5B42.35202343%2C%20-71.06463445%5D%2C%20%5B42.35202343%2C%20-71.06463445%5D%2C%20%5B42.32469443%2C%20-71.10087902%5D%2C%20%5B42.33395125%2C%20-71.07538939%5D%2C%20%5B42.28724661%2C%20-71.16513388%5D%2C%20%5B42.28724661%2C%20-71.16513388%5D%2C%20%5B42.37704396%2C%20-71.03518074%5D%2C%20%5B42.33409703%2C%20-71.10226374%5D%2C%20%5B42.33512931%2C%20-71.03996713%5D%2C%20%5B42.33512931%2C%20-71.03996713%5D%2C%20%5B42.34227908%2C%20-71.09152151%5D%2C%20%5B42.34227908%2C%20-71.09152151%5D%2C%20%5B42.35241815%2C%20-71.06525499%5D%2C%20%5B42.37468615%2C%20-71.03893111%5D%2C%20%5B42.36026799%2C%20-71.06951681%5D%2C%20%5B42.3118518%2C%20-71.04934271%5D%2C%20%5B42.26022705%2C%20-71.11978897%5D%2C%20%5B42.32809966%2C%20-71.06321676%5D%2C%20%5B42.29860692%2C%20-71.07256332%5D%2C%20%5B42.35993962%2C%20-71.06687452%5D%2C%20%5B42.35095909%2C%20-71.0741278%5D%2C%20%5B42.35095909%2C%20-71.0741278%5D%2C%20%5B42.30055518%2C%20-71.11312439%5D%2C%20%5B42.32221645%2C%20-71.08206723%5D%2C%20%5B42.30055518%2C%20-71.11312439%5D%2C%20%5B42.33755715%2C%20-71.07836018%5D%2C%20%5B42.34225888%2C%20-71.07749696%5D%2C%20%5B42.32547536%2C%20-71.10253482%5D%2C%20%5B42.30591541%2C%20-71.09505205%5D%2C%20%5B42.34402604%2C%20-71.09615503%5D%2C%20%5B42.37805345%2C%20-71.06676655%5D%2C%20%5B42.35698857%2C%20-71.06084937%5D%2C%20%5B42.35698857%2C%20-71.06084937%5D%2C%20%5B42.34588967%2C%20-71.16023257%5D%2C%20%5B42.27915019%2C%20-71.08252923%5D%2C%20%5B42.30371229%2C%20-71.07180723%5D%2C%20%5B42.35095909%2C%20-71.0741278%5D%2C%20%5B42.33152148%2C%20-71.07085307%5D%2C%20%5B42.32281352%2C%20-71.08685352%5D%2C%20%5B42.35034226%2C%20-71.12942937%5D%2C%20%5B42.349492%2C%20-71.047261%5D%2C%20%5B42.31082446%2C%20-71.05250868%5D%2C%20%5B42.3690812%2C%20-71.04021571%5D%2C%20%5B42.33709795%2C%20-71.04351601%5D%2C%20%5B42.36650317%2C%20-71.05349707%5D%2C%20%5B42.26307928%2C%20-71.10938536%5D%2C%20%5B42.36020464%2C%20-71.05620816%5D%2C%20%5B42.32974371%2C%20-71.07195059%5D%2C%20%5B42.28897393%2C%20-71.06581547%5D%2C%20%5B42.33901243%2C%20-71.05505848%5D%2C%20%5B42.33901243%2C%20-71.05505848%5D%2C%20%5B42.29417346%2C%20-71.07193797%5D%2C%20%5B42.34186765%2C%20-71.07272215%5D%2C%20%5B42.28970798%2C%20-71.07257277%5D%2C%20%5B42.32809966%2C%20-71.06321676%5D%2C%20%5B42.32474571%2C%20-71.05553502%5D%2C%20%5B42.35181078%2C%20-71.06422931%5D%2C%20%5B42.28016011%2C%20-71.11883467%5D%2C%20%5B42.35633324%2C%20-71.05440282%5D%2C%20%5B42.34946444%2C%20-71.14270449%5D%2C%20%5B42.35633324%2C%20-71.05440282%5D%2C%20%5B42.37670946%2C%20-71.03176211%5D%2C%20%5B42.36194375%2C%20-71.05789916%5D%2C%20%5B42.28553375%2C%20-71.09422962%5D%2C%20%5B42.32401893%2C%20-71.09680779%5D%2C%20%5B42.33364401%2C%20-71.09086302%5D%2C%20%5B42.35095909%2C%20-71.0741278%5D%2C%20%5B42.32561013%2C%20-71.10449956%5D%2C%20%5B42.31782662%2C%20-71.06834369%5D%2C%20%5B42.31862926%2C%20-71.07271365%5D%2C%20%5B42.31862926%2C%20-71.07271365%5D%2C%20%5B42.337014%2C%20-71.08665%5D%2C%20%5B42.32856401%2C%20-71.06835343%5D%2C%20%5B42.3368915%2C%20-71.077551%5D%2C%20%5B42.27974294%2C%20-71.0661997%5D%2C%20%5B42.33837297%2C%20-71.04728804%5D%2C%20%5B42.32177032%2C%20-71.09779774%5D%2C%20%5B42.33331285%2C%20-71.07322932%5D%2C%20%5B42.32856401%2C%20-71.06835343%5D%2C%20%5B42.30116123%2C%20-71.07284279%5D%2C%20%5B42.33555954%2C%20-71.07436364%5D%2C%20%5B42.33555954%2C%20-71.07436364%5D%2C%20%5B42.37794016%2C%20-71.03174993%5D%2C%20%5B42.35280419%2C%20-71.16993161%5D%2C%20%5B42.34874268%2C%20-71.13098857%5D%2C%20%5B42.36314768%2C%20-71.06689355%5D%2C%20%5B42.29818638%2C%20-71.06402824%5D%2C%20%5B42.31388733%2C%20-71.0968344%5D%2C%20%5B42.30347577%2C%20-71.10531548%5D%2C%20%5B42.34690448%2C%20-71.136914%5D%2C%20%5B42.37507158%2C%20-71.06517497%5D%2C%20%5B42.26744227%2C%20-71.10557635%5D%2C%20%5B42.30097791%2C%20-71.07077333%5D%2C%20%5B42.37172266%2C%20-71.03665549%5D%2C%20%5B42.28092154%2C%20-71.08766264%5D%2C%20%5B42.35061995%2C%20-71.07009458%5D%2C%20%5B42.31894677%2C%20-71.0745277%5D%2C%20%5B42.35474968%2C%20-71.05951251%5D%2C%20%5B42.29926303%2C%20-71.07626513%5D%2C%20%5B42.32524607%2C%20-71.06938944%5D%2C%20%5B42.33719922%2C%20-71.0425015%5D%2C%20%5B42.33009124%2C%20-71.03521695%5D%2C%20%5B42.34901546%2C%20-71.15160335%5D%2C%20%5B42.35095909%2C%20-71.0741278%5D%2C%20%5B42.3312567%2C%20-71.10418684%5D%2C%20%5B42.29658463%2C%20-71.07950773%5D%2C%20%5B42.36912985%2C%20-71.03659529%5D%2C%20%5B42.35046039%2C%20-71.15265804%5D%2C%20%5B42.32655484%2C%20-71.09219288%5D%2C%20%5B42.31310004%2C%20-71.07639747%5D%2C%20%5B42.34072456%2C%20-71.08914693%5D%2C%20%5B42.3347387%2C%20-71.03732137%5D%2C%20%5B42.35272948%2C%20-71.06256291%5D%2C%20%5B42.35272948%2C%20-71.06256291%5D%2C%20%5B42.34862382%2C%20-71.08277637%5D%2C%20%5B42.35118146%2C%20-71.0882412%5D%2C%20%5B42.310434%2C%20-71.0613401%5D%2C%20%5B42.3202771%2C%20-71.09248784%5D%2C%20%5B42.310434%2C%20-71.0613401%5D%2C%20%5B42.29142177%2C%20-71.07611259%5D%2C%20%5B42.293755%2C%20-71.05789109%5D%2C%20%5B42.31966899%2C%20-71.08474412%5D%2C%20%5B42.310434%2C%20-71.0613401%5D%2C%20%5B42.28353324%2C%20-71.09735177%5D%2C%20%5B42.30983229%2C%20-71.06817322%5D%2C%20%5B42.30209443%2C%20-71.06575183%5D%2C%20%5B42.35358822%2C%20-71.12689571%5D%2C%20%5B42.33795319%2C%20-71.0774931%5D%2C%20%5B42.35300247%2C%20-71.0450227%5D%2C%20%5B42.32348445%2C%20-71.10813006%5D%2C%20%5B42.35311007%2C%20-71.06432264%5D%2C%20%5B42.25621592%2C%20-71.12401947%5D%2C%20%5B42.3473098%2C%20-71.07915167%5D%2C%20%5B42.34874245%2C%20-71.06396897%5D%2C%20%5B42.34373929%2C%20-71.04499632%5D%2C%20%5B42.34373929%2C%20-71.04499632%5D%2C%20%5B42.31860134%2C%20-71.08405792%5D%2C%20%5B42.30461251%2C%20-71.07296566%5D%2C%20%5B42.3125963%2C%20-71.09287584%5D%2C%20%5B42.35239667%2C%20-71.05665492%5D%2C%20%5B42.35118146%2C%20-71.0882412%5D%2C%20%5B42.29057504%2C%20-71.07165726%5D%2C%20%5B42.34370944%2C%20-71.14686231%5D%2C%20%5B42.35118146%2C%20-71.0882412%5D%2C%20%5B42.32696647%2C%20-71.06198607%5D%2C%20%5B42.35215578%2C%20-71.06736527%5D%2C%20%5B42.27894732%2C%20-71.06911386%5D%2C%20%5B42.33359101%2C%20-71.11175636%5D%2C%20%5B42.28746287%2C%20-71.11847944%5D%2C%20%5B42.34268073%2C%20-71.09937714%5D%2C%20%5B42.37736388%2C%20-71.05791376%5D%2C%20%5B42.26557815%2C%20-71.10959008%5D%2C%20%5B42.33363925%2C%20-71.10589317%5D%2C%20%5B42.33363925%2C%20-71.10589317%5D%2C%20%5B42.33869635%2C%20-71.07139879%5D%2C%20%5B42.29131613%2C%20-71.07170293%5D%2C%20%5B42.28397302%2C%20-71.16690592%5D%2C%20%5B42.32866284%2C%20-71.08563401%5D%2C%20%5B42.31526714%2C%20-71.0630687%5D%2C%20%5B42.36165196%2C%20-71.05630529%5D%2C%20%5B42.36165196%2C%20-71.05630529%5D%2C%20%5B42.36165196%2C%20-71.05630529%5D%2C%20%5B42.24599545%2C%20-71.12184056%5D%2C%20%5B42.34876087%2C%20-71.06408261%5D%2C%20%5B42.3420185%2C%20-71.08566213%5D%2C%20%5B42.35554806%2C%20-71.0607314%5D%2C%20%5B42.37604046%2C%20-71.03580863%5D%2C%20%5B42.2578406%2C%20-71.14813948%5D%2C%20%5B42.33733971%2C%20-71.03443434%5D%2C%20%5B42.38257493%2C%20-71.03026362%5D%2C%20%5B42.35775223%2C%20-71.05463278%5D%2C%20%5B42.35775223%2C%20-71.05463278%5D%2C%20%5B42.37081805%2C%20-71.03929078%5D%2C%20%5B42.37081805%2C%20-71.03929078%5D%2C%20%5B42.37081805%2C%20-71.03929078%5D%2C%20%5B42.37081805%2C%20-71.03929078%5D%2C%20%5B42.30839354%2C%20-71.06473124%5D%2C%20%5B42.31400294%2C%20-71.09424873%5D%2C%20%5B42.30970016%2C%20-71.08582414%5D%2C%20%5B42.32396289%2C%20-71.0826729%5D%2C%20%5B42.32692112%2C%20-71.05841861%5D%2C%20%5B42.25556696%2C%20-71.11902026%5D%2C%20%5B42.29360585%2C%20-71.0718865%5D%2C%20%5B42.38135785%2C%20-71.03768163%5D%2C%20%5B42.38135785%2C%20-71.03768163%5D%2C%20%5B42.33506218%2C%20-71.09316781%5D%2C%20%5B42.337348%2C%20-71.086119%5D%2C%20%5B42.27595146%2C%20-71.09248845%5D%2C%20%5B42.29837812%2C%20-71.07814592%5D%2C%20%5B42.33724956%2C%20-71.03961174%5D%2C%20%5B42.35390015%2C%20-71.16295943%5D%2C%20%5B42.37438134%2C%20-71.06504282%5D%2C%20%5B42.33665636%2C%20-71.04538535%5D%2C%20%5B42.30471224%2C%20-71.11794342%5D%2C%20%5B42.28076737%2C%20-71.04736497%5D%2C%20%5B42.29338993%2C%20-71.07155745%5D%2C%20%5B42.33781374%2C%20-71.10659848%5D%2C%20%5B42.33648581%2C%20-71.05424501%5D%2C%20%5B42.35118146%2C%20-71.0882412%5D%2C%20%5B42.34993026%2C%20-71.09407011%5D%2C%20%5B42.37919523%2C%20-71.06806961%5D%2C%20%5B42.37919523%2C%20-71.06806961%5D%2C%20%5B42.35118146%2C%20-71.0882412%5D%2C%20%5B42.33715994%2C%20-71.04540524%5D%2C%20%5B42.33004105%2C%20-71.09146075%5D%2C%20%5B42.28876736%2C%20-71.07289694%5D%2C%20%5B42.3290038%2C%20-71.07838214%5D%2C%20%5B42.33065613%2C%20-71.10202348%5D%2C%20%5B42.33870465%2C%20-71.04551504%5D%2C%20%5B42.36240281%2C%20-71.06954652%5D%2C%20%5B42.27857207%2C%20-71.14652021%5D%2C%20%5B42.24806163%2C%20-71.13269023%5D%2C%20%5B42.374652%2C%20-71.039866%5D%2C%20%5B42.28063254%2C%20-71.12945659%5D%2C%20%5B42.28063254%2C%20-71.12945659%5D%2C%20%5B42.34988575%2C%20-71.14522971%5D%2C%20%5B42.28204037%2C%20-71.08342665%5D%2C%20%5B42.28063254%2C%20-71.12945659%5D%2C%20%5B42.34988575%2C%20-71.14522971%5D%2C%20%5B42.34868917%2C%20-71.07257992%5D%2C%20%5B42.31398981%2C%20-71.07584635%5D%2C%20%5B42.34888042%2C%20-71.06149764%5D%2C%20%5B42.31410481%2C%20-71.09291975%5D%2C%20%5B42.31410481%2C%20-71.09291975%5D%2C%20%5B42.31410481%2C%20-71.09291975%5D%2C%20%5B42.31410481%2C%20-71.09291975%5D%2C%20%5B42.31410481%2C%20-71.09291975%5D%2C%20%5B42.28089479%2C%20-71.09243229%5D%2C%20%5B42.32476494%2C%20-71.05340359%5D%2C%20%5B42.32476494%2C%20-71.05340359%5D%2C%20%5B42.32476494%2C%20-71.05340359%5D%2C%20%5B42.32476494%2C%20-71.05340359%5D%2C%20%5B42.36183857%2C%20-71.05976489%5D%2C%20%5B42.37385595%2C%20-71.05168939%5D%2C%20%5B42.32779674%2C%20-71.05435602%5D%2C%20%5B42.37438134%2C%20-71.06504282%5D%2C%20%5B42.29578949%2C%20-71.05581808%5D%2C%20%5B42.28039667%2C%20-71.09473186%5D%2C%20%5B42.35683318%2C%20-71.05842905%5D%2C%20%5B42.3642384%2C%20-71.06165515%5D%2C%20%5B42.3642384%2C%20-71.06165515%5D%2C%20%5B42.29396688%2C%20-71.11893964%5D%2C%20%5B42.32708469%2C%20-71.10423444%5D%2C%20%5B42.37977166%2C%20-71.02730041%5D%2C%20%5B42.37977166%2C%20-71.02730041%5D%2C%20%5B42.32987268%2C%20-71.09865236%5D%2C%20%5B42.35020086%2C%20-71.04221928%5D%2C%20%5B42.34283302%2C%20-71.08503163%5D%2C%20%5B42.35824479%2C%20-71.05415356%5D%2C%20%5B42.35892279%2C%20-71.05835354%5D%2C%20%5B42.27543421%2C%20-71.09234389%5D%2C%20%5B42.27543421%2C%20-71.09234389%5D%2C%20%5B42.32435506%2C%20-71.07440305%5D%2C%20%5B42.32435506%2C%20-71.07440305%5D%2C%20%5B42.35393844%2C%20-71.1401578%5D%2C%20%5B42.34746241%2C%20-71.09826597%5D%2C%20%5B42.29389648%2C%20-71.08451577%5D%2C%20%5B42.34050061%2C%20-71.14982264%5D%2C%20%5B42.36127607%2C%20-71.14345725%5D%2C%20%5B42.28761226%2C%20-71.07166865%5D%2C%20%5B42.28761226%2C%20-71.07166865%5D%2C%20%5B42.37756074%2C%20-71.03688126%5D%2C%20%5B42.37756074%2C%20-71.03688126%5D%2C%20%5B42.35236776%2C%20-71.06454338%5D%2C%20%5B42.35236776%2C%20-71.06454338%5D%2C%20%5B42.35236776%2C%20-71.06454338%5D%2C%20%5B42.35236776%2C%20-71.06454338%5D%2C%20%5B42.35236776%2C%20-71.06454338%5D%2C%20%5B42.35236776%2C%20-71.06454338%5D%2C%20%5B42.28038583%2C%20-71.12287344%5D%2C%20%5B42.35500441%2C%20-71.06300728%5D%2C%20%5B42.28370031%2C%20-71.04776143%5D%2C%20%5B42.28370031%2C%20-71.04776143%5D%2C%20%5B42.3102849%2C%20-71.06348374%5D%2C%20%5B42.32853529%2C%20-71.08213874%5D%2C%20%5B42.32853529%2C%20-71.08213874%5D%2C%20%5B42.32853529%2C%20-71.08213874%5D%2C%20%5B42.32853529%2C%20-71.08213874%5D%2C%20%5B42.33790301%2C%20-71.07145236%5D%2C%20%5B42.36433126%2C%20-71.06319318%5D%2C%20%5B42.27516044%2C%20-71.06976518%5D%2C%20%5B42.27810693%2C%20-71.11636523%5D%2C%20%5B42.27360053%2C%20-71.11897042%5D%2C%20%5B42.27132363%2C%20-71.08183509%5D%2C%20%5B42.34857652%2C%20-71.07772012%5D%2C%20%5B42.34857652%2C%20-71.07772012%5D%2C%20%5B42.34857652%2C%20-71.07772012%5D%2C%20%5B42.26665188%2C%20-71.11078277%5D%2C%20%5B42.26665188%2C%20-71.11078277%5D%2C%20%5B42.31348241%2C%20-71.10726366%5D%2C%20%5B42.35201794%2C%20-71.05811581%5D%2C%20%5B42.31634823%2C%20-71.05334931%5D%2C%20%5B42.33640891%2C%20-71.08565039%5D%2C%20%5B42.30531648%2C%20-71.11756801%5D%2C%20%5B42.31769128%2C%20-71.0964304%5D%2C%20%5B42.38003093%2C%20-71.06248252%5D%2C%20%5B42.36022674%2C%20-71.0659773%5D%2C%20%5B42.33284894%2C%20-71.07440627%5D%2C%20%5B42.34543327%2C%20-71.07739498%5D%2C%20%5B42.32779674%2C%20-71.05435602%5D%2C%20%5B42.34634313%2C%20-71.08482013%5D%2C%20%5B42.24361883%2C%20-71.11989255%5D%2C%20%5B42.24361883%2C%20-71.11989255%5D%2C%20%5B42.34877575%2C%20-71.09606805%5D%2C%20%5B42.3787102%2C%20-71.06180963%5D%2C%20%5B42.3787102%2C%20-71.06180963%5D%2C%20%5B42.33698515%2C%20-71.07258823%5D%2C%20%5B42.30203902%2C%20-71.06009072%5D%2C%20%5B42.31544795%2C%20-71.09817611%5D%2C%20%5B42.33361%2C%20-71.07337%5D%2C%20%5B42.33361%2C%20-71.07337%5D%2C%20%5B42.35272948%2C%20-71.06256291%5D%2C%20%5B42.32696647%2C%20-71.06198607%5D%2C%20%5B42.35092247%2C%20-71.08669943%5D%2C%20%5B42.32872589%2C%20-71.08382217%5D%2C%20%5B42.315969%2C%20-71.066253%5D%2C%20%5B42.31431673%2C%20-71.05624422%5D%2C%20%5B42.3005201%2C%20-71.06490653%5D%2C%20%5B42.34307025%2C%20-71.14638655%5D%2C%20%5B42.2826485%2C%20-71.1653356%5D%2C%20%5B42.3245386%2C%20-71.08821844%5D%2C%20%5B42.37874043%2C%20-71.06354819%5D%2C%20%5B42.28482577%2C%20-71.09137369%5D%2C%20%5B42.28482577%2C%20-71.09137369%5D%2C%20%5B42.34225888%2C%20-71.07749696%5D%2C%20%5B42.30254239%2C%20-71.0595669%5D%2C%20%5B42.28904237%2C%20-71.0765702%5D%2C%20%5B42.30254239%2C%20-71.0595669%5D%2C%20%5B42.30254239%2C%20-71.0595669%5D%2C%20%5B42.28175144%2C%20-71.12708183%5D%2C%20%5B42.27291355%2C%20-71.0745626%5D%2C%20%5B42.28724428%2C%20-71.0585565%5D%2C%20%5B42.33130578%2C%20-71.07194742%5D%2C%20%5B42.3656127%2C%20-71.05617248%5D%2C%20%5B42.3464515%2C%20-71.06986052%5D%2C%20%5B42.32026165%2C%20-71.08600267%5D%2C%20%5B42.29022613%2C%20-71.07207217%5D%2C%20%5B42.28103722%2C%20-71.07573882%5D%2C%20%5B42.28103722%2C%20-71.07573882%5D%2C%20%5B42.28103722%2C%20-71.07573882%5D%2C%20%5B42.29752097%2C%20-71.08502291%5D%2C%20%5B42.29752097%2C%20-71.08502291%5D%2C%20%5B42.35171679%2C%20-71.06118419%5D%2C%20%5B42.376852%2C%20-71.06887255%5D%2C%20%5B42.3826626%2C%20-71.06898286%5D%2C%20%5B42.29297428%2C%20-71.09455674%5D%2C%20%5B42.32980081%2C%20-71.06939695%5D%2C%20%5B42.35059717%2C%20-71.07881031%5D%2C%20%5B42.3107776%2C%20-71.06060553%5D%2C%20%5B42.28400379%2C%20-71.06813904%5D%2C%20%5B42.30870132%2C%20-71.07932755%5D%2C%20%5B42.33401829%2C%20-71.07638124%5D%2C%20%5B42.27968299%2C%20-71.09286048%5D%2C%20%5B42.25711406%2C%20-71.11719143%5D%2C%20%5B42.34044966%2C%20-71.08845935%5D%2C%20%5B42.27959103%2C%20-71.08132258%5D%2C%20%5B42.31223006%2C%20-71.06391367%5D%2C%20%5B42.28765094%2C%20-71.10666744%5D%2C%20%5B42.28765094%2C%20-71.10666744%5D%2C%20%5B42.31159462%2C%20-71.05367662%5D%2C%20%5B42.3021658%2C%20-71.08118295%5D%2C%20%5B42.32445979%2C%20-71.05961287%5D%2C%20%5B42.33178186%2C%20-71.09718868%5D%2C%20%5B42.3473098%2C%20-71.07915167%5D%2C%20%5B42.31363409%2C%20-71.06778025%5D%2C%20%5B42.32696802%2C%20-71.08051941%5D%2C%20%5B42.33760455%2C%20-71.07766492%5D%2C%20%5B42.35707553%2C%20-71.06543363%5D%2C%20%5B42.28451318%2C%20-71.09125682%5D%2C%20%5B42.24806163%2C%20-71.13269023%5D%2C%20%5B42.24806163%2C%20-71.13269023%5D%2C%20%5B42.24806163%2C%20-71.13269023%5D%2C%20%5B42.36108179%2C%20-71.05698344%5D%2C%20%5B42.33812749%2C%20-71.03649637%5D%2C%20%5B42.29314082%2C%20-71.08963811%5D%2C%20%5B42.25520097%2C%20-71.14449084%5D%2C%20%5B42.35000492%2C%20-71.06359053%5D%2C%20%5B42.35000492%2C%20-71.06359053%5D%2C%20%5B42.35000492%2C%20-71.06359053%5D%2C%20%5B42.29574022%2C%20-71.07322638%5D%2C%20%5B42.28428259%2C%20-71.09154921%5D%2C%20%5B42.28428259%2C%20-71.09154921%5D%2C%20%5B42.35895455%2C%20-71.05035005%5D%2C%20%5B42.30723714%2C%20-71.07623393%5D%2C%20%5B42.30710099%2C%20-71.07666013%5D%2C%20%5B42.32821952%2C%20-71.08082768%5D%2C%20%5B42.2711941%2C%20-71.10398639%5D%2C%20%5B42.27800645%2C%20-71.13733723%5D%2C%20%5B42.35095909%2C%20-71.0741278%5D%2C%20%5B42.36127607%2C%20-71.14345725%5D%2C%20%5B42.27291355%2C%20-71.0745626%5D%2C%20%5B42.28446743%2C%20-71.11183089%5D%2C%20%5B42.36181486%2C%20-71.1440032%5D%2C%20%5B42.34657497%2C%20-71.0743865%5D%2C%20%5B42.34303059%2C%20-71.13963006%5D%2C%20%5B42.29484625%2C%20-71.07892263%5D%2C%20%5B42.31195475%2C%20-71.07871912%5D%2C%20%5B42.26335234%2C%20-71.16830736%5D%2C%20%5B42.31195475%2C%20-71.07871912%5D%2C%20%5B42.3791237%2C%20-71.0280821%5D%2C%20%5B42.34955133%2C%20-71.1533109%5D%2C%20%5B42.28583396%2C%20-71.06075452%5D%2C%20%5B42.2841954%2C%20-71.07157967%5D%2C%20%5B42.2841954%2C%20-71.07157967%5D%2C%20%5B42.2896398%2C%20-71.07046114%5D%2C%20%5B42.32729205%2C%20-71.09159029%5D%2C%20%5B42.35545896%2C%20-71.06052398%5D%2C%20%5B42.29703368%2C%20-71.06860662%5D%2C%20%5B42.30066767%2C%20-71.08422846%5D%2C%20%5B42.35352153%2C%20-71.07283786%5D%2C%20%5B42.30947016%2C%20-71.06664424%5D%2C%20%5B42.33400373%2C%20-71.03185355%5D%2C%20%5B42.35352153%2C%20-71.07283786%5D%2C%20%5B42.30066767%2C%20-71.08422846%5D%2C%20%5B42.349056%2C%20-71.1504985%5D%2C%20%5B42.31388777%2C%20-71.06586565%5D%2C%20%5B42.34186765%2C%20-71.07272215%5D%2C%20%5B42.357875%2C%20-71.051329%5D%2C%20%5B42.3473098%2C%20-71.07915167%5D%2C%20%5B42.3008484%2C%20-71.07982055%5D%2C%20%5B42.28630083%2C%20-71.09447003%5D%2C%20%5B42.33067343%2C%20-71.03405669%5D%2C%20%5B42.28611665%2C%20-71.14114399%5D%2C%20%5B42.30626521%2C%20-71.06864556%5D%2C%20%5B42.31458709%2C%20-71.07078303%5D%2C%20%5B42.28309189%2C%20-71.131732%5D%2C%20%5B42.35241815%2C%20-71.06525499%5D%2C%20%5B42.35241815%2C%20-71.06525499%5D%2C%20%5B42.35241815%2C%20-71.06525499%5D%2C%20%5B42.35241815%2C%20-71.06525499%5D%2C%20%5B42.28164735%2C%20-71.07111848%5D%2C%20%5B42.31332153%2C%20-71.07591511%5D%2C%20%5B42.37080805%2C%20-71.04292706%5D%2C%20%5B42.35666076%2C%20-71.15104267%5D%2C%20%5B42.32177032%2C%20-71.09779774%5D%2C%20%5B42.33506218%2C%20-71.09316781%5D%2C%20%5B42.35500123%2C%20-71.05806627%5D%2C%20%5B42.27996016%2C%20-71.05949995%5D%2C%20%5B42.2680362%2C%20-71.09484348%5D%2C%20%5B42.35095909%2C%20-71.0741278%5D%2C%20%5B42.29025822%2C%20-71.03978624%5D%2C%20%5B42.30845311%2C%20-71.08718664%5D%2C%20%5B42.2796959%2C%20-71.11832827%5D%2C%20%5B42.34227908%2C%20-71.09152151%5D%2C%20%5B42.28915232%2C%20-71.07346%5D%2C%20%5B42.33511654%2C%20-71.10767674%5D%2C%20%5B42.33511654%2C%20-71.10767674%5D%2C%20%5B42.33263418%2C%20-71.05370299%5D%2C%20%5B42.2741969%2C%20-71.10738225%5D%2C%20%5B42.33543394%2C%20-71.08076738%5D%2C%20%5B42.35766829%2C%20-71.12729676%5D%2C%20%5B42.37620267%2C%20-71.03979926%5D%2C%20%5B42.29944216%2C%20-71.08489748%5D%2C%20%5B42.29944216%2C%20-71.08489748%5D%2C%20%5B42.28890049%2C%20-71.06266918%5D%2C%20%5B42.3189792%2C%20-71.07964653%5D%2C%20%5B42.31195475%2C%20-71.07871912%5D%2C%20%5B42.31282319%2C%20-71.06746355%5D%2C%20%5B42.29384269%2C%20-71.07609427%5D%2C%20%5B42.30511375%2C%20-71.0824323%5D%2C%20%5B42.335482%2C%20-71.07586449%5D%2C%20%5B42.35095909%2C%20-71.0741278%5D%2C%20%5B42.28881222%2C%20-71.08513152%5D%2C%20%5B42.28751274%2C%20-71.1218633%5D%2C%20%5B42.29174127%2C%20-71.07717929%5D%2C%20%5B42.33767953%2C%20-71.07529119%5D%2C%20%5B42.27967492%2C%20-71.08381263%5D%2C%20%5B42.30878855%2C%20-71.09055618%5D%2C%20%5B42.35913227%2C%20-71.07074326%5D%2C%20%5B42.25442915%2C%20-71.1263254%5D%2C%20%5B42.31674811%2C%20-71.11356249%5D%2C%20%5B42.28538869%2C%20-71.14687068%5D%2C%20%5B42.32026821%2C%20-71.08150494%5D%2C%20%5B42.30839354%2C%20-71.06473124%5D%2C%20%5B42.35291291%2C%20-71.07508901%5D%2C%20%5B42.27685989%2C%20-71.13757584%5D%2C%20%5B42.28631299%2C%20-71.09218412%5D%2C%20%5B42.34909822%2C%20-71.07929618%5D%2C%20%5B42.35291291%2C%20-71.07508901%5D%2C%20%5B42.33670628%2C%20-71.05330809%5D%2C%20%5B42.33787906%2C%20-71.15075054%5D%2C%20%5B42.31127726%2C%20-71.08909334%5D%2C%20%5B42.34326644%2C%20-71.09719321%5D%2C%20%5B42.34923356%2C%20-71.0732809%5D%2C%20%5B42.34788572%2C%20-71.07874552%5D%2C%20%5B42.32042206%2C%20-71.09360887%5D%2C%20%5B42.35864336%2C%20-71.14599484%5D%2C%20%5B42.32995513%2C%20-71.05369679%5D%2C%20%5B42.35237073%2C%20-71.07227173%5D%2C%20%5B42.31860134%2C%20-71.08405792%5D%2C%20%5B42.32773866%2C%20-71.07514869%5D%2C%20%5B42.29128494%2C%20-71.0703389%5D%2C%20%5B42.31684817%2C%20-71.07778336%5D%2C%20%5B42.31503085%2C%20-71.08344018%5D%2C%20%5B42.32937437%2C%20-71.0806462%5D%2C%20%5B42.32469169%2C%20-71.10618924%5D%2C%20%5B42.28083844%2C%20-71.08458855%5D%2C%20%5B42.34440738%2C%20-71.07081091%5D%2C%20%5B42.35621487%2C%20-71.06943438%5D%2C%20%5B42.27233362%2C%20-71.06434982%5D%2C%20%5B42.30645148%2C%20-71.07730382%5D%2C%20%5B42.268024%2C%20-71.09301057%5D%2C%20%5B42.38490217%2C%20-71.00186562%5D%2C%20%5B42.26582389%2C%20-71.15205431%5D%2C%20%5B42.33178186%2C%20-71.09718868%5D%2C%20%5B42.33555954%2C%20-71.07436364%5D%2C%20%5B42.30443502%2C%20-71.06862907%5D%2C%20%5B42.33013124%2C%20-71.10138008%5D%2C%20%5B42.29257648%2C%20-71.07179406%5D%2C%20%5B42.29257648%2C%20-71.07179406%5D%2C%20%5B42.34717363%2C%20-71.0964439%5D%2C%20%5B42.34717363%2C%20-71.0964439%5D%2C%20%5B42.32894903%2C%20-71.05739663%5D%2C%20%5B42.32971183%2C%20-71.05268388%5D%2C%20%5B42.33698202%2C%20-71.08458699%5D%2C%20%5B42.32283759%2C%20-71.10096723%5D%2C%20%5B42.2908347%2C%20-71.06288798%5D%2C%20%5B42.352885%2C%20-71.056337%5D%2C%20%5B42.33553188%2C%20-71.04769502%5D%2C%20%5B42.3166175%2C%20-71.06407827%5D%2C%20%5B42.31865884%2C%20-71.05673556%5D%2C%20%5B42.34841718%2C%20-71.06240393%5D%2C%20%5B42.28152196%2C%20-71.09008408%5D%2C%20%5B42.28152196%2C%20-71.09008408%5D%2C%20%5B42.28152196%2C%20-71.09008408%5D%2C%20%5B42.35857047%2C%20-71.05271985%5D%2C%20%5B42.26948025%2C%20-71.10613588%5D%2C%20%5B42.34830775%2C%20-71.07639832%5D%2C%20%5B42.34942864%2C%20-71.06536641%5D%2C%20%5B42.35006984%2C%20-71.06733886%5D%2C%20%5B42.28734264%2C%20-71.07293395%5D%2C%20%5B42.32849143%2C%20-71.08121253%5D%2C%20%5B42.35311007%2C%20-71.06432264%5D%2C%20%5B42.31296937%2C%20-71.05720983%5D%2C%20%5B42.33870465%2C%20-71.04551504%5D%2C%20%5B42.38646996%2C%20-71.00626015%5D%2C%20%5B42.34640381%2C%20-71.07551289%5D%2C%20%5B42.34489594%2C%20-71.09659186%5D%2C%20%5B42.28987906%2C%20-71.08948844%5D%2C%20%5B42.35166613%2C%20-71.07569173%5D%2C%20%5B42.3126054%2C%20-71.07624159%5D%2C%20%5B42.35166613%2C%20-71.07569173%5D%2C%20%5B42.31252546%2C%20-71.07389321%5D%2C%20%5B42.3346705%2C%20-71.088934%5D%2C%20%5B42.34852918%2C%20-71.07805107%5D%2C%20%5B42.36192792%2C%20-71.07081974%5D%2C%20%5B42.30967102%2C%20-71.07522395%5D%2C%20%5B42.30967102%2C%20-71.07522395%5D%2C%20%5B42.32130333%2C%20-71.09247072%5D%2C%20%5B42.34353469%2C%20-71.09980109%5D%2C%20%5B42.33378033%2C%20-71.08477419%5D%2C%20%5B42.34252336%2C%20-71.15124869%5D%2C%20%5B42.34894297%2C%20-71.07435751%5D%2C%20%5B42.27680536%2C%20-71.07233984%5D%2C%20%5B42.27680536%2C%20-71.07233984%5D%2C%20%5B42.37468615%2C%20-71.03893111%5D%2C%20%5B42.37468615%2C%20-71.03893111%5D%2C%20%5B42.26995362%2C%20-71.09006602%5D%2C%20%5B42.35945371%2C%20-71.05964817%5D%2C%20%5B42.34890003%2C%20-71.04961457%5D%2C%20%5B42.34322816%2C%20-71.06343087%5D%2C%20%5B42.29435407%2C%20-71.07306715%5D%2C%20%5B42.31030262%2C%20-71.11729257%5D%2C%20%5B42.33993694%2C%20-71.16034164%5D%2C%20%5B42.32949944%2C%20-71.05701312%5D%2C%20%5B42.35294667%2C%20-71.13207947%5D%2C%20%5B42.27055521%2C%20-71.08137652%5D%2C%20%5B42.37081805%2C%20-71.03929078%5D%2C%20%5B42.34784144%2C%20-71.1027693%5D%2C%20%5B42.29648529%2C%20-71.05968306%5D%2C%20%5B42.28074205%2C%20-71.11779287%5D%2C%20%5B42.32103493%2C%20-71.06348926%5D%2C%20%5B42.30344%2C%20-71.085066%5D%2C%20%5B42.32387703%2C%20-71.10409269%5D%2C%20%5B42.3702488%2C%20-71.03838002%5D%2C%20%5B42.29957867%2C%20-71.0729615%5D%2C%20%5B42.29957867%2C%20-71.0729615%5D%2C%20%5B42.35280917%2C%20-71.13816717%5D%2C%20%5B42.33954199%2C%20-71.06940877%5D%2C%20%5B42.37010622%2C%20-71.03261984%5D%2C%20%5B42.35344698%2C%20-71.12917051%5D%2C%20%5B42.31811546%2C%20-71.11149981%5D%2C%20%5B42.34979403%2C%20-71.0903464%5D%2C%20%5B42.30055518%2C%20-71.11312439%5D%2C%20%5B42.31941638%2C%20-71.10981295%5D%2C%20%5B42.33129727%2C%20-71.04924949%5D%2C%20%5B42.32952036%2C%20-71.08530641%5D%2C%20%5B42.35954321%2C%20-71.06749237%5D%2C%20%5B42.35687627%2C%20-71.16434675%5D%2C%20%5B42.33954199%2C%20-71.06940877%5D%2C%20%5B42.31301336%2C%20-71.06316929%5D%2C%20%5B42.2628035%2C%20-71.15407725%5D%2C%20%5B42.31324982%2C%20-71.10181891%5D%2C%20%5B42.31324982%2C%20-71.10181891%5D%2C%20%5B42.33732196%2C%20-71.03547288%5D%2C%20%5B42.33954199%2C%20-71.06940877%5D%2C%20%5B42.27959103%2C%20-71.08132258%5D%2C%20%5B42.332102%2C%20-71.079283%5D%2C%20%5B42.28724428%2C%20-71.0585565%5D%2C%20%5B42.2850804%2C%20-71.09700321%5D%2C%20%5B42.28173232%2C%20-71.11771187%5D%2C%20%5B42.34867943%2C%20-71.0608949%5D%2C%20%5B42.28712049%2C%20-71.08421139%5D%2C%20%5B42.28796645%2C%20-71.05620715%5D%2C%20%5B42.32746198%2C%20-71.09852527%5D%2C%20%5B42.36683278%2C%20-71.05261725%5D%2C%20%5B42.28624079%2C%20-71.13763724%5D%2C%20%5B42.25520097%2C%20-71.14449084%5D%2C%20%5B42.32925905%2C%20-71.08482402%5D%2C%20%5B42.32925905%2C%20-71.08482402%5D%2C%20%5B42.29666202%2C%20-71.06121836%5D%2C%20%5B42.32142759%2C%20-71.05234417%5D%2C%20%5B42.28327279%2C%20-71.12143528%5D%2C%20%5B42.29406247%2C%20-71.09004553%5D%2C%20%5B42.33802166%2C%20-71.08273055%5D%2C%20%5B42.31223855%2C%20-71.09315991%5D%2C%20%5B42.31836105%2C%20-71.07106326%5D%2C%20%5B42.290892%2C%20-71.1180615%5D%2C%20%5B42.24134226%2C%20-71.14213265%5D%2C%20%5B42.24134226%2C%20-71.14213265%5D%2C%20%5B42.30796665%2C%20-71.06209798%5D%2C%20%5B42.25621592%2C%20-71.12401947%5D%2C%20%5B42.3122892%2C%20-71.11960554%5D%2C%20%5B42.34907307%2C%20-71.04947981%5D%2C%20%5B42.33094957%2C%20-71.04139054%5D%2C%20%5B42.29044163%2C%20-71.12385832%5D%2C%20%5B42.35521429%2C%20-71.06206351%5D%2C%20%5B42.29128494%2C%20-71.0703389%5D%2C%20%5B42.29128494%2C%20-71.0703389%5D%2C%20%5B42.27818669%2C%20-71.09047287%5D%2C%20%5B42.32641102%2C%20-71.10133598%5D%2C%20%5B42.29807739%2C%20-71.05695195%5D%2C%20%5B42.3354351%2C%20-71.07840204%5D%2C%20%5B42.3535751%2C%20-71.08152514%5D%2C%20%5B42.35216435%2C%20-71.12378708%5D%2C%20%5B42.33401829%2C%20-71.07638124%5D%2C%20%5B42.3812321%2C%20-71.06122624%5D%2C%20%5B42.35095909%2C%20-71.0741278%5D%2C%20%5B42.32469443%2C%20-71.10087902%5D%2C%20%5B42.28636893%2C%20-71.13005503%5D%2C%20%5B42.28636893%2C%20-71.13005503%5D%2C%20%5B42.3219697%2C%20-71.07242529%5D%2C%20%5B42.27913296%2C%20-71.11608267%5D%2C%20%5B42.37575891%2C%20-71.03536688%5D%2C%20%5B42.35451931%2C%20-71.07588082%5D%2C%20%5B42.29323828%2C%20-71.05672718%5D%2C%20%5B42.33555954%2C%20-71.07436364%5D%2C%20%5B42.386967%2C%20-71.00575%5D%2C%20%5B42.28529234%2C%20-71.09121672%5D%2C%20%5B42.3235194%2C%20-71.07815793%5D%2C%20%5B42.31106545%2C%20-71.06693233%5D%2C%20%5B42.31782662%2C%20-71.06834369%5D%2C%20%5B42.2694837%2C%20-71.1619872%5D%2C%20%5B42.31543909%2C%20-71.07716338%5D%2C%20%5B42.34338684%2C%20-71.07474635%5D%2C%20%5B42.30591851%2C%20-71.07956586%5D%2C%20%5B42.34815229%2C%20-71.08450821%5D%2C%20%5B42.28491%2C%20-71.118945%5D%2C%20%5B42.36192792%2C%20-71.07081974%5D%2C%20%5B42.36192792%2C%20-71.07081974%5D%2C%20%5B42.36192792%2C%20-71.07081974%5D%2C%20%5B42.36192792%2C%20-71.07081974%5D%2C%20%5B42.36192792%2C%20-71.07081974%5D%2C%20%5B42.34186765%2C%20-71.07272215%5D%2C%20%5B42.343599%2C%20-71.07231605%5D%2C%20%5B42.29234068%2C%20-71.04803996%5D%2C%20%5B42.33182961%2C%20-71.07347274%5D%2C%20%5B42.33182961%2C%20-71.07347274%5D%2C%20%5B42.30512773%2C%20-71.07370747%5D%2C%20%5B42.30277884%2C%20-71.06210293%5D%2C%20%5B42.31286014%2C%20-71.08215899%5D%2C%20%5B42.29109287%2C%20-71.06594539%5D%2C%20%5B42.29109287%2C%20-71.06594539%5D%2C%20%5B42.29109287%2C%20-71.06594539%5D%2C%20%5B42.34391716%2C%20-71.08967541%5D%2C%20%5B42.34391716%2C%20-71.08967541%5D%2C%20%5B42.342689%2C%20-71.07921%5D%2C%20%5B42.34900739%2C%20-71.13860108%5D%2C%20%5B42.34900739%2C%20-71.13860108%5D%2C%20%5B42.29910777%2C%20-71.06829572%5D%2C%20%5B-1.0%2C%20-1.0%5D%2C%20%5B42.30700371%2C%20-71.08313157%5D%2C%20%5B42.30700371%2C%20-71.08313157%5D%2C%20%5B42.36081005%2C%20-71.14038657%5D%2C%20%5B42.37081805%2C%20-71.03929078%5D%2C%20%5B42.37081805%2C%20-71.03929078%5D%2C%20%5B42.37081805%2C%20-71.03929078%5D%2C%20%5B42.37081805%2C%20-71.03929078%5D%2C%20%5B42.33316262%2C%20-71.03327972%5D%2C%20%5B42.33003459%2C%20-71.05825989%5D%2C%20%5B42.28208198%2C%20-71.07364875%5D%2C%20%5B42.32746198%2C%20-71.09852527%5D%2C%20%5B42.30524412%2C%20-71.074838%5D%2C%20%5B42.37907259%2C%20-71.03386728%5D%2C%20%5B42.33129745%2C%20-71.04864886%5D%2C%20%5B42.34009911%2C%20-71.05476254%5D%2C%20%5B42.37640217%2C%20-71.03297149%5D%2C%20%5B42.32969471%2C%20-71.0704441%5D%2C%20%5B42.2766839%2C%20-71.09240248%5D%2C%20%5B42.27621405%2C%20-71.16651219%5D%2C%20%5B42.25839135%2C%20-71.15932285%5D%2C%20%5B42.25839135%2C%20-71.15932285%5D%2C%20%5B42.31956879%2C%20-71.07776264%5D%2C%20%5B42.28824992%2C%20-71.05536739%5D%2C%20%5B42.29128494%2C%20-71.0703389%5D%2C%20%5B42.29128494%2C%20-71.0703389%5D%2C%20%5B42.27615691%2C%20-71.09550303%5D%2C%20%5B42.29903803%2C%20-71.05780292%5D%2C%20%5B42.32919289%2C%20-71.08730233%5D%2C%20%5B42.32919289%2C%20-71.08730233%5D%2C%20%5B42.33814891%2C%20-71.08249286%5D%2C%20%5B42.33504938%2C%20-71.07879668%5D%2C%20%5B42.34946444%2C%20-71.14270449%5D%2C%20%5B42.34946444%2C%20-71.14270449%5D%2C%20%5B42.34946444%2C%20-71.14270449%5D%2C%20%5B42.34946444%2C%20-71.14270449%5D%2C%20%5B42.31478432%2C%20-71.07160997%5D%2C%20%5B42.34034975%2C%20-71.06954478%5D%2C%20%5B42.30287064%2C%20-71.06399249%5D%2C%20%5B42.3791926%2C%20-71.02713005%5D%2C%20%5B42.2826485%2C%20-71.1653356%5D%2C%20%5B42.33571838%2C%20-71.03025592%5D%2C%20%5B42.35740677%2C%20-71.06411874%5D%2C%20%5B42.31215757%2C%20-71.07056813%5D%2C%20%5B42.35061995%2C%20-71.07009458%5D%2C%20%5B42.36127607%2C%20-71.14345725%5D%2C%20%5B42.29125586%2C%20-71.07475092%5D%2C%20%5B42.29144845%2C%20-71.06171936%5D%2C%20%5B42.28643911%2C%20-71.07163064%5D%2C%20%5B42.33242019%2C%20-71.0569963%5D%2C%20%5B42.33765093%2C%20-71.07215567%5D%2C%20%5B42.30767844%2C%20-71.08050401%5D%2C%20%5B42.30767844%2C%20-71.08050401%5D%2C%20%5B42.27868789%2C%20-71.1173443%5D%2C%20%5B42.35044939%2C%20-71.06087148%5D%2C%20%5B42.29581546%2C%20-71.06884734%5D%2C%20%5B42.29581546%2C%20-71.06884734%5D%2C%20%5B42.30356909%2C%20-71.07753906%5D%2C%20%5B42.30356909%2C%20-71.07753906%5D%2C%20%5B42.30356909%2C%20-71.07753906%5D%2C%20%5B42.34034975%2C%20-71.06954478%5D%2C%20%5B42.27378858%2C%20-71.12006473%5D%2C%20%5B42.31397418%2C%20-71.09858375%5D%2C%20%5B42.33958572%2C%20-71.0499288%5D%2C%20%5B42.28220579%2C%20-71.07791871%5D%2C%20%5B42.2762707%2C%20-71.13524551%5D%2C%20%5B42.3417259%2C%20-71.07501848%5D%2C%20%5B42.2799304%2C%20-71.0741148%5D%2C%20%5B42.31668732%2C%20-71.11261214%5D%2C%20%5B42.31571577%2C%20-71.05815527%5D%2C%20%5B42.29299523%2C%20-71.12115364%5D%2C%20%5B42.34157734%2C%20-71.05300446%5D%2C%20%5B42.322027%2C%20-71.109881%5D%2C%20%5B42.2929049%2C%20-71.11671099%5D%2C%20%5B42.35145666%2C%20-71.06167557%5D%2C%20%5B42.35145666%2C%20-71.06167557%5D%2C%20%5B42.3556359%2C%20-71.06289601%5D%2C%20%5B42.3556359%2C%20-71.06289601%5D%2C%20%5B42.28277509%2C%20-71.08877688%5D%2C%20%5B42.34128751%2C%20-71.05467933%5D%2C%20%5B42.36552577%2C%20-71.03427256%5D%2C%20%5B42.34293121%2C%20-71.07135137%5D%2C%20%5B42.35055412%2C%20-71.09056227%5D%2C%20%5B42.31176766%2C%20-71.09971564%5D%2C%20%5B42.3373341%2C%20-71.08396225%5D%2C%20%5B42.2887411%2C%20-71.09117797%5D%2C%20%5B42.2887411%2C%20-71.09117797%5D%2C%20%5B42.2887411%2C%20-71.09117797%5D%2C%20%5B42.35934409%2C%20-71.1538978%5D%2C%20%5B42.33391238%2C%20-71.10524519%5D%2C%20%5B42.28719467%2C%20-71.07380134%5D%2C%20%5B42.34615178%2C%20-71.07404347%5D%2C%20%5B42.285826%2C%20-71.12133922%5D%2C%20%5B42.35696492%2C%20-71.13000953%5D%2C%20%5B42.29080299%2C%20-71.04673799%5D%2C%20%5B42.31351886%2C%20-71.053563%5D%2C%20%5B42.28721616%2C%20-71.06633771%5D%2C%20%5B42.30098889%2C%20-71.12708146%5D%2C%20%5B42.33047722%2C%20-71.10072736%5D%2C%20%5B42.3499624%2C%20-71.14762531%5D%2C%20%5B42.34900739%2C%20-71.13860108%5D%2C%20%5B42.38308489%2C%20-71.0728075%5D%2C%20%5B42.35275617%2C%20-71.04748128%5D%2C%20%5B42.32828842%2C%20-71.05529696%5D%2C%20%5B42.25621592%2C%20-71.12401947%5D%2C%20%5B42.25621592%2C%20-71.12401947%5D%2C%20%5B42.32387703%2C%20-71.10409269%5D%2C%20%5B42.34239153%2C%20-71.08279924%5D%2C%20%5B42.34239153%2C%20-71.08279924%5D%2C%20%5B42.37919829%2C%20-71.06315692%5D%2C%20%5B42.29098928%2C%20-71.06393865%5D%2C%20%5B42.29526287%2C%20-71.07207439%5D%2C%20%5B42.33928823%2C%20-71.15006824%5D%2C%20%5B42.25972878%2C%20-71.16169943%5D%2C%20%5B42.30470399%2C%20-71.05908258%5D%2C%20%5B42.31118105%2C%20-71.10867229%5D%2C%20%5B42.27425458%2C%20-71.12537136%5D%2C%20%5B42.3034337%2C%20-71.07154531%5D%2C%20%5B42.34980175%2C%20-71.07840978%5D%2C%20%5B42.28642835%2C%20-71.15427278%5D%2C%20%5B42.38353743%2C%20-71.07191076%5D%2C%20%5B42.3408159%2C%20-71.0813838%5D%2C%20%5B42.30082268%2C%20-71.08589873%5D%2C%20%5B42.36640323%2C%20-71.05472355%5D%2C%20%5B42.35398976%2C%20-71.14953684%5D%2C%20%5B42.27204294%2C%20-71.16709396%5D%2C%20%5B42.28786728%2C%20-71.10934988%5D%2C%20%5B42.36183857%2C%20-71.05976489%5D%2C%20%5B42.2851007%2C%20-71.13517313%5D%2C%20%5B42.31408519%2C%20-71.09998685%5D%2C%20%5B42.35390015%2C%20-71.16295943%5D%2C%20%5B42.32579408%2C%20-71.08563758%5D%2C%20%5B42.332102%2C%20-71.079283%5D%2C%20%5B42.3335379%2C%20-71.03531827%5D%2C%20%5B42.29597658%2C%20-71.0793399%5D%2C%20%5B42.29821908%2C%20-71.05704798%5D%2C%20%5B42.28854541%2C%20-71.05548318%5D%2C%20%5B42.30826562%2C%20-71.06388804%5D%2C%20%5B42.34868258%2C%20-71.14038291%5D%2C%20%5B42.33087008%2C%20-71.08909494%5D%2C%20%5B42.36183857%2C%20-71.05976489%5D%2C%20%5B42.36067984%2C%20-71.05482325%5D%2C%20%5B42.35311007%2C%20-71.06432264%5D%2C%20%5B42.29623685%2C%20-71.04853645%5D%2C%20%5B42.36293611%2C%20-71.05253795%5D%2C%20%5B42.36779593%2C%20-71.05418245%5D%2C%20%5B42.32696647%2C%20-71.06198607%5D%2C%20%5B42.36240281%2C%20-71.06954652%5D%2C%20%5B42.38558494%2C%20-71.01009088%5D%2C%20%5B42.35397632%2C%20-71.06207046%5D%2C%20%5B42.35141751%2C%20-71.05010479%5D%2C%20%5B42.35420018%2C%20-71.06185184%5D%2C%20%5B42.28709355%2C%20-71.14822128%5D%2C%20%5B42.32445145%2C%20-71.0581068%5D%2C%20%5B42.3318548%2C%20-71.07590333%5D%2C%20%5B42.34880461%2C%20-71.09392554%5D%2C%20%5B42.34740588%2C%20-71.13532566%5D%2C%20%5B42.29214327%2C%20-71.06522778%5D%2C%20%5B42.29214327%2C%20-71.06522778%5D%2C%20%5B42.29214327%2C%20-71.06522778%5D%2C%20%5B42.29214327%2C%20-71.06522778%5D%2C%20%5B42.29214327%2C%20-71.06522778%5D%2C%20%5B42.33132955%2C%20-71.04344366%5D%2C%20%5B42.31127465%2C%20-71.11448366%5D%2C%20%5B42.30471224%2C%20-71.11794342%5D%2C%20%5B42.33138444%2C%20-71.05697531%5D%2C%20%5B42.35420018%2C%20-71.06185184%5D%2C%20%5B42.30812619%2C%20-71.07692974%5D%2C%20%5B42.3776959%2C%20-71.06592652%5D%2C%20%5B42.2867694%2C%20-71.05318589%5D%2C%20%5B42.29041538%2C%20-71.07269542%5D%2C%20%5B42.28882395%2C%20-71.05717588%5D%2C%20%5B42.28593201%2C%20-71.12933705%5D%2C%20%5B42.2766839%2C%20-71.09240248%5D%2C%20%5B42.38932874%2C%20-70.99792776%5D%2C%20%5B42.31956879%2C%20-71.07776264%5D%2C%20%5B42.33342167%2C%20-71.08626318%5D%2C%20%5B42.33267276%2C%20-71.05484953%5D%2C%20%5B42.33267276%2C%20-71.05484953%5D%2C%20%5B42.35965877%2C%20-71.05440944%5D%2C%20%5B42.30406722%2C%20-71.06760042%5D%2C%20%5B42.30782356%2C%20-71.07552211%5D%2C%20%5B42.32779674%2C%20-71.05435602%5D%2C%20%5B42.30132884%2C%20-71.10963274%5D%2C%20%5B42.33765093%2C%20-71.07215567%5D%2C%20%5B42.33745847%2C%20-71.02722518%5D%2C%20%5B42.33506218%2C%20-71.09316781%5D%2C%20%5B42.34749899%2C%20-71.07925506%5D%2C%20%5B42.38196242%2C%20-71.0318446%5D%2C%20%5B42.38196242%2C%20-71.0318446%5D%2C%20%5B42.25943465%2C%20-71.14798064%5D%2C%20%5B42.32450714%2C%20-71.07913259%5D%2C%20%5B42.36094387%2C%20-71.0612792%5D%2C%20%5B42.33380238%2C%20-71.08880867%5D%2C%20%5B42.29686162%2C%20-71.08584183%5D%2C%20%5B42.30153418%2C%20-71.0585233%5D%2C%20%5B42.30153418%2C%20-71.0585233%5D%2C%20%5B42.35404844%2C%20-71.04639023%5D%2C%20%5B42.34210856%2C%20-71.05720719%5D%2C%20%5B42.32809966%2C%20-71.06321676%5D%2C%20%5B42.32809966%2C%20-71.06321676%5D%2C%20%5B42.28370031%2C%20-71.04776143%5D%2C%20%5B42.3423835%2C%20-71.079437%5D%2C%20%5B42.30971857%2C%20-71.10429432%5D%2C%20%5B42.31908577%2C%20-71.0602291%5D%2C%20%5B42.2834045%2C%20-71.07010617%5D%2C%20%5B42.2834045%2C%20-71.07010617%5D%2C%20%5B42.2578406%2C%20-71.14813948%5D%2C%20%5B42.24891703%2C%20-71.12588341%5D%2C%20%5B42.36943145%2C%20-71.03917179%5D%2C%20%5B42.33152148%2C%20-71.07085307%5D%2C%20%5B42.2726799%2C%20-71.10925935%5D%2C%20%5B42.3473098%2C%20-71.07915167%5D%2C%20%5B42.38783615%2C%20-71.01203798%5D%2C%20%5B42.29837812%2C%20-71.07814592%5D%2C%20%5B42.2719439%2C%20-71.06253785%5D%2C%20%5B42.3301111%2C%20-71.05611033%5D%2C%20%5B42.33207616%2C%20-71.07145394%5D%2C%20%5B42.27783658%2C%20-71.08320362%5D%2C%20%5B42.35948491%2C%20-71.12774452%5D%2C%20%5B42.29323828%2C%20-71.05672718%5D%2C%20%5B42.29323828%2C%20-71.05672718%5D%2C%20%5B42.32866284%2C%20-71.08563401%5D%2C%20%5B42.31890235%2C%20-71.06337356%5D%2C%20%5B42.31890235%2C%20-71.06337356%5D%2C%20%5B42.30984689%2C%20-71.0756633%5D%2C%20%5B42.35487365%2C%20-71.05861218%5D%2C%20%5B42.36068787%2C%20-71.05687293%5D%2C%20%5B42.24316302%2C%20-71.14175229%5D%2C%20%5B42.32291406%2C%20-71.10328402%5D%2C%20%5B42.24973808%2C%20-71.13094002%5D%2C%20%5B42.24973808%2C%20-71.13094002%5D%2C%20%5B42.32178241%2C%20-71.08534158%5D%2C%20%5B42.34813158%2C%20-71.08027002%5D%2C%20%5B-1.0%2C%20-1.0%5D%2C%20%5B-1.0%2C%20-1.0%5D%2C%20%5B42.30406722%2C%20-71.06760042%5D%2C%20%5B42.39269663%2C%20-71.00842413%5D%2C%20%5B42.32553801%2C%20-71.06579592%5D%2C%20%5B42.32553801%2C%20-71.06579592%5D%2C%20%5B42.31736234%2C%20-71.07724596%5D%2C%20%5B42.31736234%2C%20-71.07724596%5D%2C%20%5B42.31533179%2C%20-71.08243309%5D%2C%20%5B42.31533179%2C%20-71.08243309%5D%2C%20%5B42.37371864%2C%20-71.0343339%5D%2C%20%5B42.37371864%2C%20-71.0343339%5D%2C%20%5B42.33428841%2C%20-71.07239518%5D%2C%20%5B42.33401829%2C%20-71.07638124%5D%2C%20%5B42.3503787%2C%20-71.07626098%5D%2C%20%5B42.35451931%2C%20-71.07588082%5D%2C%20%5B42.34454105%2C%20-71.04416497%5D%2C%20%5B42.31302406%2C%20-71.09073569%5D%2C%20%5B42.35170571%2C%20-71.11989956%5D%2C%20%5B42.34385799%2C%20-71.07953502%5D%2C%20%5B42.34385799%2C%20-71.07953502%5D%2C%20%5B42.29111533%2C%20-71.05843629%5D%2C%20%5B42.32164251%2C%20-71.07609259%5D%2C%20%5B42.32474524%2C%20-71.06851006%5D%2C%20%5B42.27380942%2C%20-71.11996035%5D%2C%20%5B42.27380942%2C%20-71.11996035%5D%2C%20%5B42.32965014%2C%20-71.0932248%5D%2C%20%5B42.29174858%2C%20-71.11691273%5D%2C%20%5B42.34028574%2C%20-71.07145449%5D%2C%20%5B42.34281748%2C%20-71.0670516%5D%2C%20%5B42.31269402%2C%20-71.06842736%5D%2C%20%5B42.30574304%2C%20-71.07851069%5D%2C%20%5B42.31987076%2C%20-71.07096263%5D%2C%20%5B42.34355868%2C%20-71.08734146%5D%2C%20%5B42.34671116%2C%20-71.05131062%5D%2C%20%5B42.33899339%2C%20-71.08008595%5D%2C%20%5B42.34618823%2C%20-71.14887901%5D%2C%20%5B42.38843884%2C%20-71.00080227%5D%2C%20%5B42.3061953%2C%20-71.1282938%5D%2C%20%5B42.3217176%2C%20-71.09846743%5D%2C%20%5B42.37546983%2C%20-71.03730221%5D%2C%20%5B42.29238728%2C%20-71.05483097%5D%2C%20%5B42.35543089%2C%20-71.05767661%5D%2C%20%5B42.34946444%2C%20-71.14270449%5D%2C%20%5B42.30215372%2C%20-71.06287859%5D%2C%20%5B42.28584895%2C%20-71.06935381%5D%2C%20%5B42.33954199%2C%20-71.06940877%5D%2C%20%5B42.30916025%2C%20-71.06631061%5D%2C%20%5B42.25966057%2C%20-71.11453396%5D%2C%20%5B42.31803736%2C%20-71.06023595%5D%2C%20%5B42.34339388%2C%20-71.09849282%5D%2C%20%5B42.29073239%2C%20-71.08528234%5D%2C%20%5B42.28734264%2C%20-71.07293395%5D%2C%20%5B42.2541821%2C%20-71.13351428%5D%2C%20%5B42.28199634%2C%20-71.08661103%5D%2C%20%5B42.29540175%2C%20-71.08237834%5D%2C%20%5B42.38229155%2C%20-71.04036424%5D%2C%20%5B42.33763461%2C%20-71.07013024%5D%2C%20%5B42.31134205%2C%20-71.10166558%5D%2C%20%5B42.29037676%2C%20-71.06139736%5D%2C%20%5B42.32191334%2C%20-71.10478637%5D%2C%20%5B42.27959103%2C%20-71.08132258%5D%2C%20%5B42.35311007%2C%20-71.06432264%5D%2C%20%5B42.33596847%2C%20-71.08129856%5D%2C%20%5B42.36326914%2C%20-71.05704513%5D%2C%20%5B42.34042575%2C%20-71.04894028%5D%2C%20%5B42.28531158%2C%20-71.07060801%5D%2C%20%5B42.28866198%2C%20-71.06130524%5D%2C%20%5B42.33421%2C%20-71.104919%5D%2C%20%5B42.27294749%2C%20-71.07154272%5D%2C%20%5B42.33954199%2C%20-71.06940877%5D%2C%20%5B42.34225675%2C%20-71.05405876%5D%2C%20%5B42.29335577%2C%20-71.14182237%5D%2C%20%5B42.36295371%2C%20-71.05419515%5D%2C%20%5B42.34868544%2C%20-71.06608848%5D%2C%20%5B42.34868544%2C%20-71.06608848%5D%2C%20%5B42.32086661%2C%20-71.05411113%5D%2C%20%5B42.32086661%2C%20-71.05411113%5D%2C%20%5B42.35803303%2C%20-71.141262%5D%2C%20%5B42.35393998%2C%20-71.07802992%5D%2C%20%5B42.30700371%2C%20-71.08313157%5D%2C%20%5B42.32445979%2C%20-71.05961287%5D%2C%20%5B42.32866284%2C%20-71.08563401%5D%2C%20%5B42.30811624%2C%20-71.05961129%5D%2C%20%5B42.34341962%2C%20-71.083956%5D%2C%20%5B42.34507026%2C%20-71.08960466%5D%2C%20%5B42.33380238%2C%20-71.08880867%5D%2C%20%5B42.31224827%2C%20-71.06239929%5D%2C%20%5B42.31224827%2C%20-71.06239929%5D%2C%20%5B42.30918536%2C%20-71.0739675%5D%2C%20%5B42.33606304%2C%20-71.10782832%5D%2C%20%5B42.27906275%2C%20-71.1167997%5D%2C%20%5B42.3469826%2C%20-71.09111988%5D%2C%20%5B42.34942864%2C%20-71.06536641%5D%2C%20%5B42.37766%2C%20-71.03560198%5D%2C%20%5B42.3367113%2C%20-71.07102057%5D%2C%20%5B42.28414025%2C%20-71.09305138%5D%2C%20%5B42.28414025%2C%20-71.09305138%5D%2C%20%5B42.29237761%2C%20-71.143412%5D%2C%20%5B42.29415023%2C%20-71.08175047%5D%2C%20%5B42.33308852%2C%20-71.03735271%5D%2C%20%5B42.37968456%2C%20-71.03428645%5D%2C%20%5B42.37696765%2C%20-71.06638351%5D%2C%20%5B42.29606%2C%20-71.116257%5D%2C%20%5B42.36668653%2C%20-71.12529557%5D%2C%20%5B42.36139413%2C%20-71.0576869%5D%2C%20%5B42.36183857%2C%20-71.05976489%5D%2C%20%5B42.30971857%2C%20-71.10429432%5D%2C%20%5B42.36134725%2C%20-71.14007236%5D%2C%20%5B42.33726577%2C%20-71.03872674%5D%2C%20%5B42.35141344%2C%20-71.07044094%5D%2C%20%5B42.33131261%2C%20-71.04435361%5D%2C%20%5B42.31341383%2C%20-71.07789593%5D%2C%20%5B42.29541253%2C%20-71.08063096%5D%2C%20%5B42.29755533%2C%20-71.0597091%5D%2C%20%5B42.37547143%2C%20-71.05352808%5D%2C%20%5B42.35256908%2C%20-71.07978844%5D%2C%20%5B42.33533446%2C%20-71.04950099%5D%2C%20%5B42.36856802%2C%20-71.04121708%5D%2C%20%5B42.30724276%2C%20-71.07558677%5D%2C%20%5B42.35053956%2C%20-71.13106722%5D%2C%20%5B42.26121311%2C%20-71.12241706%5D%2C%20%5B42.3626075%2C%20-71.06132725%5D%2C%20%5B42.33280882%2C%20-71.06729226%5D%2C%20%5B42.34906578%2C%20-71.13414695%5D%2C%20%5B42.27626552%2C%20-71.08265043%5D%2C%20%5B42.30238403%2C%20-71.07781168%5D%2C%20%5B42.2767417%2C%20-71.16699806%5D%2C%20%5B42.27376816%2C%20-71.08919673%5D%2C%20%5B42.29895336%2C%20-71.0768587%5D%2C%20%5B42.30066767%2C%20-71.08422846%5D%2C%20%5B42.34241352%2C%20-71.14460462%5D%2C%20%5B42.3473098%2C%20-71.07915167%5D%2C%20%5B42.33667474%2C%20-71.15166308%5D%2C%20%5B42.33596847%2C%20-71.08129856%5D%2C%20%5B42.3626075%2C%20-71.06132725%5D%2C%20%5B42.32016095%2C%20-71.0777729%5D%2C%20%5B42.33182961%2C%20-71.07347274%5D%2C%20%5B42.35774054%2C%20-71.05956789%5D%2C%20%5B42.35990168%2C%20-71.06864465%5D%2C%20%5B42.37808452%2C%20-71.05784115%5D%2C%20%5B42.32941124%2C%20-71.05439492%5D%2C%20%5B42.29809098%2C%20-71.06246686%5D%2C%20%5B42.35997967%2C%20-71.05474135%5D%2C%20%5B42.33828866%2C%20-71.07908476%5D%2C%20%5B42.33828866%2C%20-71.07908476%5D%2C%20%5B42.35512339%2C%20-71.0608798%5D%2C%20%5B42.34988318%2C%20-71.08901674%5D%2C%20%5B42.33374643%2C%20-71.07020353%5D%2C%20%5B42.27611848%2C%20-71.09748268%5D%2C%20%5B42.27683754%2C%20-71.0952644%5D%2C%20%5B42.35358129%2C%20-71.06236665%5D%2C%20%5B42.35053956%2C%20-71.13106722%5D%2C%20%5B42.35552282%2C%20-71.13276327%5D%2C%20%5B42.32587659%2C%20-71.07024947%5D%2C%20%5B42.34548055%2C%20-71.14046685%5D%2C%20%5B42.28709355%2C%20-71.14822128%5D%2C%20%5B42.30915624%2C%20-71.10352056%5D%2C%20%5B42.29313426%2C%20-71.1011519%5D%2C%20%5B42.35199203%2C%20-71.12223341%5D%2C%20%5B42.37842947%2C%20-71.02778665%5D%2C%20%5B42.28624029%2C%20-71.06416775%5D%2C%20%5B42.29623685%2C%20-71.04853645%5D%2C%20%5B42.33507724%2C%20-71.10262612%5D%2C%20%5B42.29589803%2C%20-71.07793157%5D%2C%20%5B42.35661814%2C%20-71.05193863%5D%2C%20%5B42.33087008%2C%20-71.08909494%5D%2C%20%5B42.32103493%2C%20-71.06348926%5D%2C%20%5B42.31779354%2C%20-71.04210959%5D%2C%20%5B42.33367922%2C%20-71.09187755%5D%2C%20%5B42.26657903%2C%20-71.1052611%5D%2C%20%5B42.33310987%2C%20-71.09704528%5D%2C%20%5B42.30278361%2C%20-71.07412304%5D%2C%20%5B42.29910777%2C%20-71.06829572%5D%2C%20%5B42.29393523%2C%20-71.13656551%5D%2C%20%5B42.32856401%2C%20-71.06835343%5D%2C%20%5B42.29779768%2C%20-71.08099147%5D%2C%20%5B42.33136635%2C%20-71.066409%5D%2C%20%5B42.35666076%2C%20-71.15104267%5D%2C%20%5B42.34091586%2C%20-71.08771531%5D%2C%20%5B42.37374231%2C%20-71.03905688%5D%2C%20%5B42.37374231%2C%20-71.03905688%5D%2C%20%5B42.28966391%2C%20-71.05597704%5D%2C%20%5B42.33816387%2C%20-71.07461217%5D%2C%20%5B42.35666076%2C%20-71.15104267%5D%2C%20%5B42.35009599%2C%20-71.0773211%5D%2C%20%5B42.28761479%2C%20-71.12090458%5D%2C%20%5B42.30775024%2C%20-71.08273084%5D%2C%20%5B42.30775024%2C%20-71.08273084%5D%2C%20%5B42.30775024%2C%20-71.08273084%5D%2C%20%5B42.32267599%2C%20-70.96436489%5D%2C%20%5B42.34980175%2C%20-71.07840978%5D%2C%20%5B42.33130578%2C%20-71.07194742%5D%2C%20%5B42.26302512%2C%20-71.10762853%5D%2C%20%5B42.26302512%2C%20-71.10762853%5D%2C%20%5B42.30254239%2C%20-71.0595669%5D%2C%20%5B42.31310004%2C%20-71.07639747%5D%2C%20%5B42.33562126%2C%20-71.07582361%5D%2C%20%5B42.28030054%2C%20-71.07040618%5D%2C%20%5B42.35353966%2C%20-71.0636932%5D%2C%20%5B42.31553561%2C%20-71.10945644%5D%2C%20%5B42.31853245%2C%20-71.05778998%5D%2C%20%5B42.352659%2C%20-71.055353%5D%2C%20%5B42.35433643%2C%20-71.07323767%5D%2C%20%5B42.30724276%2C%20-71.07558677%5D%2C%20%5B42.31363545%2C%20-71.08251322%5D%2C%20%5B42.32692112%2C%20-71.05841861%5D%2C%20%5B42.35584319%2C%20-71.05527646%5D%2C%20%5B42.32290252%2C%20-71.10220402%5D%2C%20%5B42.333382%2C%20-71.08745421%5D%2C%20%5B42.333382%2C%20-71.08745421%5D%2C%20%5B42.333382%2C%20-71.08745421%5D%2C%20%5B42.333382%2C%20-71.08745421%5D%2C%20%5B42.34621459%2C%20-71.08721196%5D%2C%20%5B42.36943145%2C%20-71.03917179%5D%2C%20%5B42.36943145%2C%20-71.03917179%5D%2C%20%5B42.34266946%2C%20-71.14098779%5D%2C%20%5B42.35988372%2C%20-71.06016189%5D%2C%20%5B42.35216435%2C%20-71.12378708%5D%2C%20%5B42.37968456%2C%20-71.03428645%5D%2C%20%5B42.29546039%2C%20-71.11649504%5D%2C%20%5B42.24124926%2C%20-71.12629908%5D%2C%20%5B42.3143047%2C%20-71.09391348%5D%2C%20%5B42.35061995%2C%20-71.07009458%5D%2C%20%5B42.3499784%2C%20-71.05683752%5D%2C%20%5B42.36580175%2C%20-71.06538257%5D%2C%20%5B42.33738014%2C%20-71.08388901%5D%2C%20%5B42.28745326%2C%20-71.06382981%5D%2C%20%5B42.29817919%2C%20-71.08692159%5D%2C%20%5B42.31802519%2C%20-71.05404122%5D%2C%20%5B42.25992567%2C%20-71.1309563%5D%2C%20%5B42.25992567%2C%20-71.1309563%5D%2C%20%5B42.37957532%2C%20-71.04011349%5D%2C%20%5B42.35241815%2C%20-71.06525499%5D%2C%20%5B42.28718205%2C%20-71.08840386%5D%2C%20%5B42.36127249%2C%20-71.06408269%5D%2C%20%5B42.33361%2C%20-71.07337%5D%2C%20%5B42.33361%2C%20-71.07337%5D%2C%20%5B42.33361%2C%20-71.07337%5D%2C%20%5B42.30636007%2C%20-71.05870799%5D%2C%20%5B42.28538167%2C%20-71.08546253%5D%2C%20%5B42.38783615%2C%20-71.01203798%5D%2C%20%5B42.32692112%2C%20-71.05841861%5D%2C%20%5B42.36183857%2C%20-71.05976489%5D%2C%20%5B42.36014005%2C%20-71.13027929%5D%2C%20%5B42.38783615%2C%20-71.01203798%5D%2C%20%5B42.25120821%2C%20-71.13095369%5D%2C%20%5B42.28875771%2C%20-71.0751631%5D%2C%20%5B42.31060967%2C%20-71.10733333%5D%2C%20%5B42.31175224%2C%20-71.07129329%5D%2C%20%5B42.29579246%2C%20-71.08025092%5D%2C%20%5B42.35232371%2C%20-71.06400187%5D%2C%20%5B42.35232371%2C%20-71.06400187%5D%2C%20%5B42.3219697%2C%20-71.07242529%5D%2C%20%5B42.34302527%2C%20-71.06493967%5D%2C%20%5B42.27767588%2C%20-71.1669308%5D%2C%20%5B42.37746305%2C%20-71.06697969%5D%2C%20%5B42.33744152%2C%20-71.10428096%5D%2C%20%5B42.36052596%2C%20-71.1290633%5D%2C%20%5B42.28142448%2C%20-71.12399227%5D%2C%20%5B42.32987323%2C%20-71.09590774%5D%2C%20%5B42.2843982%2C%20-71.06468373%5D%2C%20%5B42.32635435%2C%20-71.07422322%5D%2C%20%5B42.34149581%2C%20-71.07624518%5D%2C%20%5B42.3232004%2C%20-71.09508128%5D%2C%20%5B42.37882713%2C%20-71.05894693%5D%2C%20%5B42.34950783%2C%20-71.07949866%5D%2C%20%5B42.30710765%2C%20-71.10367429%5D%2C%20%5B42.30254239%2C%20-71.0595669%5D%2C%20%5B42.34095802%2C%20-71.06760101%5D%2C%20%5B42.3736746%2C%20-71.05119888%5D%2C%20%5B42.3736746%2C%20-71.05119888%5D%2C%20%5B42.36478627%2C%20-71.05825825%5D%2C%20%5B42.29484625%2C%20-71.07892263%5D%2C%20%5B42.29484625%2C%20-71.07892263%5D%2C%20%5B42.28743256%2C%20-71.0526387%5D%2C%20%5B42.31013569%2C%20-71.0702931%5D%2C%20%5B42.3721588%2C%20-71.03852378%5D%2C%20%5B42.34148578%2C%20-71.06920852%5D%2C%20%5B42.34148578%2C%20-71.06920852%5D%2C%20%5B42.35493519%2C%20-71.05976465%5D%2C%20%5B42.35493519%2C%20-71.05976465%5D%2C%20%5B42.27616192%2C%20-71.06113062%5D%2C%20%5B42.33748967%2C%20-71.07196107%5D%2C%20%5B42.3457782%2C%20-71.08429595%5D%2C%20%5B42.31633855%2C%20-71.06879992%5D%2C%20%5B42.31684462%2C%20-71.08586852%5D%2C%20%5B42.29653192%2C%20-71.07125916%5D%2C%20%5B42.31014403%2C%20-71.08759179%5D%2C%20%5B42.33890863%2C%20-71.15259302%5D%2C%20%5B42.25764997%2C%20-71.1602938%5D%2C%20%5B42.2818866%2C%20-71.0908705%5D%2C%20%5B42.35095909%2C%20-71.0741278%5D%2C%20%5B42.38391569%2C%20-71.02266216%5D%2C%20%5B42.3019742%2C%20-71.08383388%5D%2C%20%5B42.31895036%2C%20-71.06057843%5D%2C%20%5B42.27499406%2C%20-71.07218855%5D%2C%20%5B42.29098335%2C%20-71.08912013%5D%2C%20%5B42.28625551%2C%20-71.06257486%5D%2C%20%5B42.32692112%2C%20-71.05841861%5D%2C%20%5B42.30135087%2C%20-71.06796465%5D%2C%20%5B42.27815858%2C%20-71.12925807%5D%2C%20%5B42.32692112%2C%20-71.05841861%5D%2C%20%5B42.28690413%2C%20-71.06398433%5D%2C%20%5B42.31922045%2C%20-71.06783906%5D%2C%20%5B42.38229155%2C%20-71.04036424%5D%2C%20%5B42.27997063%2C%20-71.09553354%5D%2C%20%5B42.32544372%2C%20-71.08955129%5D%2C%20%5B42.3076111%2C%20-71.05970561%5D%2C%20%5B42.3019742%2C%20-71.08383388%5D%2C%20%5B42.32420322%2C%20-71.07279044%5D%2C%20%5B42.33022237%2C%20-71.05262323%5D%2C%20%5B42.33022237%2C%20-71.05262323%5D%2C%20%5B42.33022237%2C%20-71.05262323%5D%2C%20%5B42.33022237%2C%20-71.05262323%5D%2C%20%5B42.33014012%2C%20-71.05695787%5D%2C%20%5B42.30254239%2C%20-71.0595669%5D%2C%20%5B42.29225242%2C%20-71.08949931%5D%2C%20%5B42.29624549%2C%20-71.0671598%5D%2C%20%5B42.38027504%2C%20-71.06037683%5D%2C%20%5B42.38027504%2C%20-71.06037683%5D%2C%20%5B42.38027504%2C%20-71.06037683%5D%2C%20%5B42.288705%2C%20-71.07810765%5D%2C%20%5B42.280587%2C%20-71.07432184%5D%5D%2C%0A%20%20%20%20%20%20%20%20%20%20%20%20%20%20%20%20%7B%0A%20%20%20%20%20%20%20%20%20%20%20%20%20%20%20%20%20%20%20%20minOpacity%3A%200.5%2C%0A%20%20%20%20%20%20%20%20%20%20%20%20%20%20%20%20%20%20%20%20maxZoom%3A%2018%2C%0A%20%20%20%20%20%20%20%20%20%20%20%20%20%20%20%20%20%20%20%20max%3A%201.0%2C%0A%20%20%20%20%20%20%20%20%20%20%20%20%20%20%20%20%20%20%20%20radius%3A%2015%2C%0A%20%20%20%20%20%20%20%20%20%20%20%20%20%20%20%20%20%20%20%20blur%3A%2015%2C%0A%20%20%20%20%20%20%20%20%20%20%20%20%20%20%20%20%20%20%20%20gradient%3A%20null%0A%20%20%20%20%20%20%20%20%20%20%20%20%20%20%20%20%20%20%20%20%7D%29%0A%20%20%20%20%20%20%20%20%20%20%20%20%20%20%20%20.addTo%28map_466dbc4615ca420c9beb187894c86701%29%3B%0A%20%20%20%20%20%20%20%20%0A%3C/script%3E onload=\"this.contentDocument.open();this.contentDocument.write(    decodeURIComponent(this.getAttribute('data-html')));this.contentDocument.close();\" allowfullscreen webkitallowfullscreen mozallowfullscreen></iframe></div></div>"
            ]
          },
          "metadata": {},
          "execution_count": 132
        }
      ]
    },
    {
      "cell_type": "code",
      "source": [
        "LAT_LON_GRID = 0.005\n",
        "import datetime\n",
        "def custom_round(val,res):\n",
        "  return round(val / res) * res\n",
        "\n",
        "def cluster(df_interval):\n",
        "  data = df_interval.copy()\n",
        "  data = custom_round(data,LAT_LON_GRID)\n",
        "  data = data.groupby([\"lat\",\"lon\"]).size().reset_index(name = \"weight\")\n",
        "  data.weight = data.weight / data.weight.max()\n",
        "  return data\n",
        "\n",
        "start = datetime.datetime(2015, 6, 1)\n",
        "end = start + relativedelta(months=+1)\n",
        "mask = (start <= crimes.date) & (crimes.date < end)\n",
        "df_month = crimes[mask]\n",
        "df_month = df_month[['lat','lon']]\n",
        "\n",
        "print(cluster(df_month))"
      ],
      "metadata": {
        "colab": {
          "base_uri": "https://localhost:8080/"
        },
        "id": "G0gpoFNXVtnJ",
        "outputId": "9580f480-b01a-44c3-fa8a-24a5cf771db0"
      },
      "execution_count": 149,
      "outputs": [
        {
          "output_type": "stream",
          "name": "stdout",
          "text": [
            "        lat     lon    weight\n",
            "0    -1.000  -1.000  0.066667\n",
            "1    42.235 -71.140  0.013333\n",
            "2    42.235 -71.125  0.013333\n",
            "3    42.240 -71.140  0.053333\n",
            "4    42.240 -71.125  0.066667\n",
            "..      ...     ...       ...\n",
            "436  42.390 -71.015  0.013333\n",
            "437  42.390 -71.010  0.093333\n",
            "438  42.390 -71.005  0.080000\n",
            "439  42.390 -71.000  0.040000\n",
            "440  42.395 -71.010  0.080000\n",
            "\n",
            "[441 rows x 3 columns]\n"
          ]
        }
      ]
    },
    {
      "cell_type": "markdown",
      "source": [
        "Redraw heatmap"
      ],
      "metadata": {
        "id": "YtmbU7T-cnd0"
      }
    },
    {
      "cell_type": "code",
      "source": [
        "m = folium.Map(boston, zoom_start=11)\n",
        "\n",
        "m.add_child(plugins.HeatMap(\n",
        "    data = list(zip(df_month.lat.values,df_month.lon.values,cluster(df_month).weight)),# [ list(zip(m.lat.values,m.lon.values)) for m in months ],\n",
        "    radius = 8\n",
        "))\n",
        "m"
      ],
      "metadata": {
        "colab": {
          "base_uri": "https://localhost:8080/",
          "height": 856
        },
        "id": "KAFNQOzRiDXI",
        "outputId": "6446e4ad-a041-4bc2-971b-5a1bd9c64dbb"
      },
      "execution_count": 162,
      "outputs": [
        {
          "output_type": "execute_result",
          "data": {
            "text/plain": [
              "<folium.folium.Map at 0x7f1f39ab84d0>"
            ],
            "text/html": [
              "<div style=\"width:100%;\"><div style=\"position:relative;width:100%;height:0;padding-bottom:60%;\"><span style=\"color:#565656\">Make this Notebook Trusted to load map: File -> Trust Notebook</span><iframe src=\"about:blank\" style=\"position:absolute;width:100%;height:100%;left:0;top:0;border:none !important;\" data-html=%3C%21DOCTYPE%20html%3E%0A%3Chead%3E%20%20%20%20%0A%20%20%20%20%3Cmeta%20http-equiv%3D%22content-type%22%20content%3D%22text/html%3B%20charset%3DUTF-8%22%20/%3E%0A%20%20%20%20%3Cscript%3EL_PREFER_CANVAS%3Dfalse%3B%20L_NO_TOUCH%3Dfalse%3B%20L_DISABLE_3D%3Dfalse%3B%3C/script%3E%0A%20%20%20%20%3Cscript%20src%3D%22https%3A//cdn.jsdelivr.net/npm/leaflet%401.4.0/dist/leaflet.js%22%3E%3C/script%3E%0A%20%20%20%20%3Cscript%20src%3D%22https%3A//code.jquery.com/jquery-1.12.4.min.js%22%3E%3C/script%3E%0A%20%20%20%20%3Cscript%20src%3D%22https%3A//maxcdn.bootstrapcdn.com/bootstrap/3.2.0/js/bootstrap.min.js%22%3E%3C/script%3E%0A%20%20%20%20%3Cscript%20src%3D%22https%3A//cdnjs.cloudflare.com/ajax/libs/Leaflet.awesome-markers/2.0.2/leaflet.awesome-markers.js%22%3E%3C/script%3E%0A%20%20%20%20%3Clink%20rel%3D%22stylesheet%22%20href%3D%22https%3A//cdn.jsdelivr.net/npm/leaflet%401.4.0/dist/leaflet.css%22/%3E%0A%20%20%20%20%3Clink%20rel%3D%22stylesheet%22%20href%3D%22https%3A//maxcdn.bootstrapcdn.com/bootstrap/3.2.0/css/bootstrap.min.css%22/%3E%0A%20%20%20%20%3Clink%20rel%3D%22stylesheet%22%20href%3D%22https%3A//maxcdn.bootstrapcdn.com/bootstrap/3.2.0/css/bootstrap-theme.min.css%22/%3E%0A%20%20%20%20%3Clink%20rel%3D%22stylesheet%22%20href%3D%22https%3A//maxcdn.bootstrapcdn.com/font-awesome/4.6.3/css/font-awesome.min.css%22/%3E%0A%20%20%20%20%3Clink%20rel%3D%22stylesheet%22%20href%3D%22https%3A//cdnjs.cloudflare.com/ajax/libs/Leaflet.awesome-markers/2.0.2/leaflet.awesome-markers.css%22/%3E%0A%20%20%20%20%3Clink%20rel%3D%22stylesheet%22%20href%3D%22https%3A//rawcdn.githack.com/python-visualization/folium/master/folium/templates/leaflet.awesome.rotate.css%22/%3E%0A%20%20%20%20%3Cstyle%3Ehtml%2C%20body%20%7Bwidth%3A%20100%25%3Bheight%3A%20100%25%3Bmargin%3A%200%3Bpadding%3A%200%3B%7D%3C/style%3E%0A%20%20%20%20%3Cstyle%3E%23map%20%7Bposition%3Aabsolute%3Btop%3A0%3Bbottom%3A0%3Bright%3A0%3Bleft%3A0%3B%7D%3C/style%3E%0A%20%20%20%20%0A%20%20%20%20%3Cmeta%20name%3D%22viewport%22%20content%3D%22width%3Ddevice-width%2C%0A%20%20%20%20%20%20%20%20initial-scale%3D1.0%2C%20maximum-scale%3D1.0%2C%20user-scalable%3Dno%22%20/%3E%0A%20%20%20%20%3Cstyle%3E%23map_b63c66c3410d4ea8b2b6ebbcd40e597b%20%7B%0A%20%20%20%20%20%20%20%20position%3A%20relative%3B%0A%20%20%20%20%20%20%20%20width%3A%20100.0%25%3B%0A%20%20%20%20%20%20%20%20height%3A%20100.0%25%3B%0A%20%20%20%20%20%20%20%20left%3A%200.0%25%3B%0A%20%20%20%20%20%20%20%20top%3A%200.0%25%3B%0A%20%20%20%20%20%20%20%20%7D%0A%20%20%20%20%3C/style%3E%0A%20%20%20%20%3Cscript%20src%3D%22https%3A//leaflet.github.io/Leaflet.heat/dist/leaflet-heat.js%22%3E%3C/script%3E%0A%3C/head%3E%0A%3Cbody%3E%20%20%20%20%0A%20%20%20%20%0A%20%20%20%20%3Cdiv%20class%3D%22folium-map%22%20id%3D%22map_b63c66c3410d4ea8b2b6ebbcd40e597b%22%20%3E%3C/div%3E%0A%3C/body%3E%0A%3Cscript%3E%20%20%20%20%0A%20%20%20%20%0A%20%20%20%20%0A%20%20%20%20%20%20%20%20var%20bounds%20%3D%20null%3B%0A%20%20%20%20%0A%0A%20%20%20%20var%20map_b63c66c3410d4ea8b2b6ebbcd40e597b%20%3D%20L.map%28%0A%20%20%20%20%20%20%20%20%27map_b63c66c3410d4ea8b2b6ebbcd40e597b%27%2C%20%7B%0A%20%20%20%20%20%20%20%20center%3A%20%5B42.3202%2C%20-71.15%5D%2C%0A%20%20%20%20%20%20%20%20zoom%3A%2011%2C%0A%20%20%20%20%20%20%20%20maxBounds%3A%20bounds%2C%0A%20%20%20%20%20%20%20%20layers%3A%20%5B%5D%2C%0A%20%20%20%20%20%20%20%20worldCopyJump%3A%20false%2C%0A%20%20%20%20%20%20%20%20crs%3A%20L.CRS.EPSG3857%2C%0A%20%20%20%20%20%20%20%20zoomControl%3A%20true%2C%0A%20%20%20%20%20%20%20%20%7D%29%3B%0A%0A%0A%20%20%20%20%0A%20%20%20%20var%20tile_layer_6d70d93a4dc845bcaf00359cb30eb240%20%3D%20L.tileLayer%28%0A%20%20%20%20%20%20%20%20%27https%3A//%7Bs%7D.tile.openstreetmap.org/%7Bz%7D/%7Bx%7D/%7By%7D.png%27%2C%0A%20%20%20%20%20%20%20%20%7B%0A%20%20%20%20%20%20%20%20%22attribution%22%3A%20null%2C%0A%20%20%20%20%20%20%20%20%22detectRetina%22%3A%20false%2C%0A%20%20%20%20%20%20%20%20%22maxNativeZoom%22%3A%2018%2C%0A%20%20%20%20%20%20%20%20%22maxZoom%22%3A%2018%2C%0A%20%20%20%20%20%20%20%20%22minZoom%22%3A%200%2C%0A%20%20%20%20%20%20%20%20%22noWrap%22%3A%20false%2C%0A%20%20%20%20%20%20%20%20%22opacity%22%3A%201%2C%0A%20%20%20%20%20%20%20%20%22subdomains%22%3A%20%22abc%22%2C%0A%20%20%20%20%20%20%20%20%22tms%22%3A%20false%0A%7D%29.addTo%28map_b63c66c3410d4ea8b2b6ebbcd40e597b%29%3B%0A%20%20%20%20%0A%20%20%20%20%20%20%20%20%20%20%20%20var%20heat_map_54db31d81ab949af97134cbfe07aed5b%20%3D%20L.heatLayer%28%0A%20%20%20%20%20%20%20%20%20%20%20%20%20%20%20%20%5B%5B42.29109287%2C%20-71.06594539%2C%200.06666666666666667%5D%2C%20%5B42.30021684%2C%20-71.0809794%2C%200.013333333333333334%5D%2C%20%5B42.29360585%2C%20-71.0718865%2C%200.013333333333333334%5D%2C%20%5B42.28363434%2C%20-71.0828132%2C%200.05333333333333334%5D%2C%20%5B-1.0%2C%20-1.0%2C%200.06666666666666667%5D%2C%20%5B42.32866284%2C%20-71.08563401%2C%200.013333333333333334%5D%2C%20%5B42.37702319%2C%20-71.0322473%2C%200.02666666666666667%5D%2C%20%5B42.36020464%2C%20-71.05620816%2C%200.04%5D%2C%20%5B42.37702319%2C%20-71.0322473%2C%200.013333333333333334%5D%2C%20%5B42.310434%2C%20-71.0613401%2C%200.04%5D%2C%20%5B42.310434%2C%20-71.0613401%2C%200.08%5D%2C%20%5B42.34138415%2C%20-71.07898883%2C%200.013333333333333334%5D%2C%20%5B42.26255067%2C%20-71.11582205%2C%200.12%5D%2C%20%5B42.3595689%2C%20-71.13598188%2C%200.13333333333333333%5D%2C%20%5B42.35564426%2C%20-71.07168077%2C%200.05333333333333334%5D%2C%20%5B42.340176%2C%20-71.0823265%2C%200.06666666666666667%5D%2C%20%5B42.31743922%2C%20-71.07547845%2C%200.04%5D%2C%20%5B42.38391569%2C%20-71.02266216%2C%200.013333333333333334%5D%2C%20%5B42.35073963%2C%20-71.13047909%2C%200.04%5D%2C%20%5B42.26209214%2C%20-71.11670964%2C%200.02666666666666667%5D%2C%20%5B42.33178053%2C%20-71.04941451%2C%200.02666666666666667%5D%2C%20%5B42.28570914%2C%20-71.11730039%2C%200.05333333333333334%5D%2C%20%5B42.28802455%2C%20-71.08351887%2C%200.3333333333333333%5D%2C%20%5B42.28802455%2C%20-71.08351887%2C%200.14666666666666667%5D%2C%20%5B42.32720403%2C%20-71.05318949%2C%200.013333333333333334%5D%2C%20%5B42.35259348%2C%20-71.14028431%2C%200.013333333333333334%5D%2C%20%5B42.38453183%2C%20-71.02232294%2C%200.12%5D%2C%20%5B42.35201794%2C%20-71.05811581%2C%200.04%5D%2C%20%5B42.29861988%2C%20-71.08511004%2C%200.06666666666666667%5D%2C%20%5B42.29861988%2C%20-71.08511004%2C%200.013333333333333334%5D%2C%20%5B42.30108481%2C%20-71.06390782%2C%200.02666666666666667%5D%2C%20%5B42.30242197%2C%20-71.06122871%2C%200.05333333333333334%5D%2C%20%5B42.35361371%2C%20-71.12967302%2C%200.05333333333333334%5D%2C%20%5B42.27925266%2C%20-71.06821603%2C%200.06666666666666667%5D%2C%20%5B42.3290376%2C%20-71.05694505%2C%200.013333333333333334%5D%2C%20%5B42.29861988%2C%20-71.08511004%2C%200.013333333333333334%5D%2C%20%5B42.2764171%2C%20-71.16248814%2C%200.013333333333333334%5D%2C%20%5B42.31250552%2C%20-71.08314735%2C%200.013333333333333334%5D%2C%20%5B42.34037301%2C%20-71.15388143%2C%200.04%5D%2C%20%5B42.29492396%2C%20-71.11910662%2C%200.02666666666666667%5D%2C%20%5B42.34262866%2C%20-71.08051921%2C%200.04%5D%2C%20%5B42.3584724%2C%20-71.06861909%2C%200.06666666666666667%5D%2C%20%5B42.32866284%2C%20-71.08563401%2C%200.013333333333333334%5D%2C%20%5B42.275316%2C%20-71.11081942%2C%200.13333333333333333%5D%2C%20%5B42.34225888%2C%20-71.07749696%2C%200.10666666666666667%5D%2C%20%5B42.27105479%2C%20-71.09753898%2C%200.02666666666666667%5D%2C%20%5B42.3494205%2C%20-71.083158%2C%200.09333333333333334%5D%2C%20%5B42.33428841%2C%20-71.07239518%2C%200.013333333333333334%5D%2C%20%5B42.34997256%2C%20-71.06348817%2C%200.013333333333333334%5D%2C%20%5B42.28928493%2C%20-71.08667781%2C%200.04%5D%2C%20%5B42.29990887%2C%20-71.06424768%2C%200.02666666666666667%5D%2C%20%5B42.31503085%2C%20-71.08344018%2C%200.02666666666666667%5D%2C%20%5B42.30612092%2C%20-71.07183167%2C%200.013333333333333334%5D%2C%20%5B42.31356107%2C%20-71.06520779%2C%200.14666666666666667%5D%2C%20%5B42.35613296%2C%20-71.05663451%2C%200.05333333333333334%5D%2C%20%5B42.3146052%2C%20-71.07207475%2C%200.06666666666666667%5D%2C%20%5B42.332102%2C%20-71.079283%2C%200.21333333333333335%5D%2C%20%5B42.33378771%2C%20-71.04747172%2C%200.17333333333333334%5D%2C%20%5B42.32249601%2C%20-71.0690918%2C%200.06666666666666667%5D%2C%20%5B42.34000843%2C%20-71.04943154%2C%200.06666666666666667%5D%2C%20%5B42.29260629%2C%20-71.08989828%2C%200.02666666666666667%5D%2C%20%5B42.34283015%2C%20-71.0737467%2C%200.013333333333333334%5D%2C%20%5B42.3524587%2C%20-71.13762608%2C%200.04%5D%2C%20%5B42.337444%2C%20-71.07563631%2C%200.02666666666666667%5D%2C%20%5B42.30952511%2C%20-71.08261838%2C%200.05333333333333334%5D%2C%20%5B42.3460551%2C%20-71.07050669%2C%200.02666666666666667%5D%2C%20%5B42.27305614%2C%20-71.07374289%2C%200.08%5D%2C%20%5B42.27305614%2C%20-71.07374289%2C%200.05333333333333334%5D%2C%20%5B42.29348708%2C%20-71.12062328%2C%200.013333333333333334%5D%2C%20%5B42.37081805%2C%20-71.03929078%2C%200.04%5D%2C%20%5B42.27651058%2C%20-71.13417555%2C%200.13333333333333333%5D%2C%20%5B42.37839561%2C%20-71.06459617%2C%200.04%5D%2C%20%5B42.34087158%2C%20-71.08145768%2C%200.02666666666666667%5D%2C%20%5B42.31359091%2C%20-71.05432387%2C%200.013333333333333334%5D%2C%20%5B42.26483265%2C%20-71.15567877%2C%200.04%5D%2C%20%5B42.27161708%2C%20-71.11807468%2C%200.21333333333333335%5D%2C%20%5B42.3467947%2C%20-71.07329384%2C%200.12%5D%2C%20%5B42.34635377%2C%20-71.07623785%2C%200.09333333333333334%5D%2C%20%5B42.30095488%2C%20-71.06537601%2C%200.04%5D%2C%20%5B42.34999733%2C%20-71.0810344%2C%200.08%5D%2C%20%5B42.33455374%2C%20-71.07560801%2C%200.13333333333333333%5D%2C%20%5B42.35241815%2C%20-71.06525499%2C%200.013333333333333334%5D%2C%20%5B42.35311007%2C%20-71.06432264%2C%200.013333333333333334%5D%2C%20%5B42.30848377%2C%20-71.04578272%2C%200.013333333333333334%5D%2C%20%5B42.35213476%2C%20-71.06266757%2C%200.013333333333333334%5D%2C%20%5B42.28693375%2C%20-71.05139407%2C%200.04%5D%2C%20%5B42.35877431%2C%20-71.07142509%2C%200.013333333333333334%5D%2C%20%5B42.36038173%2C%20-71.06285769%2C%200.013333333333333334%5D%2C%20%5B42.32696647%2C%20-71.06198607%2C%200.05333333333333334%5D%2C%20%5B42.30462277%2C%20-71.07958027%2C%200.02666666666666667%5D%2C%20%5B42.30938437%2C%20-71.08262277%2C%200.02666666666666667%5D%2C%20%5B42.3494205%2C%20-71.083158%2C%200.04%5D%2C%20%5B42.37803936%2C%20-71.0304617%2C%200.08%5D%2C%20%5B42.34539557%2C%20-71.09823857%2C%200.08%5D%2C%20%5B42.3348311%2C%20-71.07904134%2C%200.09333333333333334%5D%2C%20%5B42.32027226%2C%20-71.09932525%2C%200.09333333333333334%5D%2C%20%5B42.26107639%2C%20-71.11938782%2C%200.04%5D%2C%20%5B42.34095802%2C%20-71.06760101%2C%200.14666666666666667%5D%2C%20%5B42.34583312%2C%20-71.09845531%2C%200.29333333333333333%5D%2C%20%5B42.28687441%2C%20-71.09457079%2C%200.16%5D%2C%20%5B42.33152148%2C%20-71.07085307%2C%200.10666666666666667%5D%2C%20%5B42.30406722%2C%20-71.06760042%2C%200.09333333333333334%5D%2C%20%5B42.25719149%2C%20-71.12001776%2C%200.22666666666666666%5D%2C%20%5B42.29234068%2C%20-71.04803996%2C%200.05333333333333334%5D%2C%20%5B42.33987101%2C%20-71.16642615%2C%200.04%5D%2C%20%5B42.24525124%2C%20-71.13465321%2C%200.02666666666666667%5D%2C%20%5B42.30576686%2C%20-71.08097517%2C%200.02666666666666667%5D%2C%20%5B42.3414661%2C%20-71.09082781%2C%200.013333333333333334%5D%2C%20%5B42.32690336%2C%20-71.08640085%2C%200.08%5D%2C%20%5B42.32690336%2C%20-71.08640085%2C%200.04%5D%2C%20%5B42.34578598%2C%20-71.07942281%2C%200.04%5D%2C%20%5B42.28281409%2C%20-71.13931958%2C%200.04%5D%2C%20%5B42.30776342%2C%20-71.06683062%2C%200.05333333333333334%5D%2C%20%5B42.34561901%2C%20-71.07990847%2C%200.04%5D%2C%20%5B42.27562519%2C%20-71.13142204%2C%200.16%5D%2C%20%5B42.28688203%2C%20-71.1276629%2C%200.04%5D%2C%20%5B42.35923021%2C%20-71.0544659%2C%200.08%5D%2C%20%5B42.28159966%2C%20-71.14351382%2C%200.09333333333333334%5D%2C%20%5B42.32249601%2C%20-71.0690918%2C%200.02666666666666667%5D%2C%20%5B42.34997256%2C%20-71.06348817%2C%200.2%5D%2C%20%5B42.27779311%2C%20-71.09917239%2C%200.37333333333333335%5D%2C%20%5B42.3561377%2C%20-71.16238161%2C%200.24%5D%2C%20%5B42.27791465%2C%20-71.09452937%2C%200.25333333333333335%5D%2C%20%5B42.30901919%2C%20-71.08561179%2C%200.13333333333333333%5D%2C%20%5B42.3203979%2C%20-71.06181748%2C%200.18666666666666668%5D%2C%20%5B42.31817181%2C%20-71.11257832%2C%200.18666666666666668%5D%2C%20%5B42.34983631%2C%20-71.07105135%2C%200.06666666666666667%5D%2C%20%5B42.35043273%2C%20-71.1271048%2C%200.06666666666666667%5D%2C%20%5B42.28295084%2C%20-71.16286564%2C%200.05333333333333334%5D%2C%20%5B42.26922278%2C%20-71.09384023%2C%200.04%5D%2C%20%5B42.37907259%2C%20-71.03386728%2C%200.04%5D%2C%20%5B42.33366866%2C%20-71.10333486%2C%200.013333333333333334%5D%2C%20%5B42.32424831%2C%20-71.10525188%2C%200.013333333333333334%5D%2C%20%5B42.33265906%2C%20-71.05141632%2C%200.02666666666666667%5D%2C%20%5B42.37669967%2C%20-71.06602151%2C%200.013333333333333334%5D%2C%20%5B42.30481623%2C%20-71.1091185%2C%200.04%5D%2C%20%5B42.29920158%2C%20-71.05853601%2C%200.02666666666666667%5D%2C%20%5B42.30481623%2C%20-71.1091185%2C%200.05333333333333334%5D%2C%20%5B42.30995208%2C%20-71.05788994%2C%200.12%5D%2C%20%5B42.35086724%2C%20-71.06305976%2C%200.02666666666666667%5D%2C%20%5B42.32155857%2C%20-71.06132071%2C%200.013333333333333334%5D%2C%20%5B42.29512751%2C%20-71.07820832%2C%200.02666666666666667%5D%2C%20%5B42.29512751%2C%20-71.07820832%2C%200.12%5D%2C%20%5B42.28863812%2C%20-71.06631579%2C%200.13333333333333333%5D%2C%20%5B42.33967154%2C%20-71.0908433%2C%200.02666666666666667%5D%2C%20%5B42.3626075%2C%20-71.06132725%2C%200.4666666666666667%5D%2C%20%5B42.2752767%2C%20-71.09554245%2C%200.32%5D%2C%20%5B42.32242182%2C%20-71.10988918%2C%200.38666666666666666%5D%2C%20%5B42.32126855%2C%20-71.0669728%2C%200.14666666666666667%5D%2C%20%5B42.29037227%2C%20-71.06845477%2C%200.10666666666666667%5D%2C%20%5B42.3584724%2C%20-71.06861909%2C%200.13333333333333333%5D%2C%20%5B42.28089366%2C%20-71.08037468%2C%200.02666666666666667%5D%2C%20%5B42.334912%2C%20-71.088464%2C%200.04%5D%2C%20%5B42.3584724%2C%20-71.06861909%2C%200.04%5D%2C%20%5B42.33153509%2C%20-71.09534648%2C%200.04%5D%2C%20%5B42.30816879%2C%20-71.06964861%2C%200.013333333333333334%5D%2C%20%5B42.346473%2C%20-71.091202%2C%200.013333333333333334%5D%2C%20%5B42.38229155%2C%20-71.04036424%2C%200.013333333333333334%5D%2C%20%5B42.37248334%2C%20-71.03752375%2C%200.14666666666666667%5D%2C%20%5B42.26485963%2C%20-71.09684579%2C%200.05333333333333334%5D%2C%20%5B42.30845311%2C%20-71.08718664%2C%200.013333333333333334%5D%2C%20%5B42.33363658%2C%20-71.09841709%2C%200.013333333333333334%5D%2C%20%5B42.34717363%2C%20-71.0964439%2C%200.2%5D%2C%20%5B42.32161616%2C%20-71.05633228%2C%200.14666666666666667%5D%2C%20%5B42.3473098%2C%20-71.07915167%2C%200.38666666666666666%5D%2C%20%5B42.33731438%2C%20-71.04852327%2C%200.22666666666666666%5D%2C%20%5B42.349056%2C%20-71.1504985%2C%200.25333333333333335%5D%2C%20%5B42.29037227%2C%20-71.06845477%2C%200.08%5D%2C%20%5B42.28410553%2C%20-71.07687268%2C%200.22666666666666666%5D%2C%20%5B42.26809427%2C%20-71.0990997%2C%200.16%5D%2C%20%5B42.37257864%2C%20-71.0619381%2C%200.09333333333333334%5D%2C%20%5B42.30505376%2C%20-71.08403633%2C%200.013333333333333334%5D%2C%20%5B42.28311294%2C%20-71.14392166%2C%200.02666666666666667%5D%2C%20%5B42.325209%2C%20-71.074977%2C%200.08%5D%2C%20%5B42.3214622%2C%20-71.0780367%2C%200.02666666666666667%5D%2C%20%5B42.37422328%2C%20-71.06297907%2C%200.05333333333333334%5D%2C%20%5B42.28099528%2C%20-71.14886365%2C%200.38666666666666666%5D%2C%20%5B42.31928523%2C%20-71.05027167%2C%200.4%5D%2C%20%5B42.35121058%2C%20-71.11575211%2C%200.16%5D%2C%20%5B42.25332979%2C%20-71.12467152%2C%200.21333333333333335%5D%2C%20%5B42.28387658%2C%20-71.08099354%2C%200.5066666666666667%5D%2C%20%5B42.3420185%2C%20-71.08566213%2C%200.4%5D%2C%20%5B42.35165733%2C%20-71.06425694%2C%200.10666666666666667%5D%2C%20%5B42.29484625%2C%20-71.07892263%2C%200.013333333333333334%5D%2C%20%5B42.31275031%2C%20-71.09388736%2C%200.013333333333333334%5D%2C%20%5B42.34748342%2C%20-71.13363158%2C%200.04%5D%2C%20%5B42.2738012%2C%20-71.16981936%2C%200.12%5D%2C%20%5B42.31359091%2C%20-71.05432387%2C%200.10666666666666667%5D%2C%20%5B42.31359091%2C%20-71.05432387%2C%200.08%5D%2C%20%5B42.26956689%2C%20-71.09075049%2C%200.013333333333333334%5D%2C%20%5B42.34980175%2C%20-71.07840978%2C%200.013333333333333334%5D%2C%20%5B42.28631799%2C%20-71.13407707%2C%200.24%5D%2C%20%5B42.32924494%2C%20-71.08200715%2C%200.22666666666666666%5D%2C%20%5B42.30132851%2C%20-71.07870873%2C%200.17333333333333334%5D%2C%20%5B42.29274277%2C%20-71.13046294%2C%200.21333333333333335%5D%2C%20%5B42.31928523%2C%20-71.05027167%2C%200.17333333333333334%5D%2C%20%5B42.30911422%2C%20-71.08667126%2C%200.36%5D%2C%20%5B42.36293611%2C%20-71.05253795%2C%200.04%5D%2C%20%5B42.30911422%2C%20-71.08667126%2C%200.02666666666666667%5D%2C%20%5B42.3166828%2C%20-71.05541001%2C%200.05333333333333334%5D%2C%20%5B42.31326021%2C%20-71.09966273%2C%200.04%5D%2C%20%5B42.33311189%2C%20-71.0727637%2C%200.21333333333333335%5D%2C%20%5B42.326143%2C%20-71.06338264%2C%200.06666666666666667%5D%2C%20%5B42.34355233%2C%20-71.14336738%2C%200.02666666666666667%5D%2C%20%5B42.34425779%2C%20-71.14383621%2C%200.10666666666666667%5D%2C%20%5B42.28548467%2C%20-71.13894626%2C%200.32%5D%2C%20%5B42.33511904%2C%20-71.0749171%2C%200.30666666666666664%5D%2C%20%5B42.33511904%2C%20-71.0749171%2C%200.22666666666666666%5D%2C%20%5B42.33511904%2C%20-71.0749171%2C%200.18666666666666668%5D%2C%20%5B42.30715951%2C%20-71.08823566%2C%200.30666666666666664%5D%2C%20%5B42.33402601%2C%20-71.10447161%2C%200.5066666666666667%5D%2C%20%5B42.33928683%2C%20-71.15334884%2C%200.09333333333333334%5D%2C%20%5B42.31106545%2C%20-71.06693233%2C%200.04%5D%2C%20%5B42.35794791%2C%20-71.05082219%2C%200.013333333333333334%5D%2C%20%5B42.2843982%2C%20-71.06468373%2C%200.08%5D%2C%20%5B42.34710196%2C%20-71.08841746%2C%200.013333333333333334%5D%2C%20%5B42.3160569%2C%20-71.07820017%2C%200.02666666666666667%5D%2C%20%5B42.32950195%2C%20-71.09971911%2C%200.22666666666666666%5D%2C%20%5B42.32250501%2C%20-71.05681125%2C%200.29333333333333333%5D%2C%20%5B42.33506218%2C%20-71.09316781%2C%200.14666666666666667%5D%2C%20%5B42.33214285%2C%20-71.05121359%2C%200.32%5D%2C%20%5B42.27842719%2C%20-71.09637125%2C%200.18666666666666668%5D%2C%20%5B42.33562126%2C%20-71.07582361%2C%200.4266666666666667%5D%2C%20%5B42.28862665%2C%20-71.06350471%2C%200.18666666666666668%5D%2C%20%5B42.34091586%2C%20-71.08771531%2C%200.3333333333333333%5D%2C%20%5B42.2545638%2C%20-71.11998513%2C%200.14666666666666667%5D%2C%20%5B42.30526428%2C%20-71.06683755%2C%200.14666666666666667%5D%2C%20%5B42.376852%2C%20-71.06887255%2C%200.05333333333333334%5D%2C%20%5B42.2791752%2C%20-71.13834696%2C%200.10666666666666667%5D%2C%20%5B42.36058947%2C%20-71.0651034%2C%200.08%5D%2C%20%5B42.33311189%2C%20-71.0727637%2C%200.16%5D%2C%20%5B42.29030888%2C%20-71.16791549%2C%200.18666666666666668%5D%2C%20%5B42.37312349%2C%20-71.03801583%2C%200.18666666666666668%5D%2C%20%5B42.3519478%2C%20-71.13410791%2C%200.24%5D%2C%20%5B42.34746241%2C%20-71.09826597%2C%200.26666666666666666%5D%2C%20%5B42.35428377%2C%20-71.06380404%2C%200.28%5D%2C%20%5B42.35428377%2C%20-71.06380404%2C%200.26666666666666666%5D%2C%20%5B42.31731834%2C%20-71.09678992%2C%200.29333333333333333%5D%2C%20%5B42.32746198%2C%20-71.09852527%2C%200.16%5D%2C%20%5B42.33555954%2C%20-71.07436364%2C%200.17333333333333334%5D%2C%20%5B42.30021684%2C%20-71.0809794%2C%200.05333333333333334%5D%2C%20%5B42.33898333%2C%20-71.07748706%2C%200.04%5D%2C%20%5B42.3306713%2C%20-71.05547577%2C%200.05333333333333334%5D%2C%20%5B42.31731905%2C%20-71.06150882%2C%200.08%5D%2C%20%5B42.32614559%2C%20-71.05349144%2C%200.25333333333333335%5D%2C%20%5B42.33962338%2C%20-71.10649737%2C%200.30666666666666664%5D%2C%20%5B42.34082366%2C%20-71.0558791%2C%200.05333333333333334%5D%2C%20%5B42.27030305%2C%20-71.09889105%2C%200.16%5D%2C%20%5B42.3109682%2C%20-71.05560702%2C%200.12%5D%2C%20%5B42.3173037%2C%20-71.07799648%2C%200.24%5D%2C%20%5B42.32872589%2C%20-71.08382217%2C%200.22666666666666666%5D%2C%20%5B42.25418506%2C%20-71.14045062%2C%200.16%5D%2C%20%5B42.28688203%2C%20-71.1276629%2C%200.10666666666666667%5D%2C%20%5B42.2713612%2C%20-71.09858228%2C%200.29333333333333333%5D%2C%20%5B42.2713612%2C%20-71.09858228%2C%200.17333333333333334%5D%2C%20%5B42.35073963%2C%20-71.13047909%2C%200.013333333333333334%5D%2C%20%5B42.27800645%2C%20-71.13733723%2C%200.013333333333333334%5D%2C%20%5B42.31077758%2C%20-71.07480891%2C%200.04%5D%2C%20%5B42.30190019%2C%20-71.06777275%2C%200.05333333333333334%5D%2C%20%5B42.38093345%2C%20-71.04023929%2C%200.14666666666666667%5D%2C%20%5B42.36110964%2C%20-71.06741369%2C%200.2%5D%2C%20%5B42.36475392%2C%20-71.05469547%2C%200.08%5D%2C%20%5B42.33284894%2C%20-71.07440627%2C%200.6533333333333333%5D%2C%20%5B42.25119947%2C%20-71.12053218%2C%200.4266666666666667%5D%2C%20%5B42.25119947%2C%20-71.12053218%2C%200.10666666666666667%5D%2C%20%5B42.32277682%2C%20-71.07297972%2C%200.3333333333333333%5D%2C%20%5B42.28518631%2C%20-71.09211276%2C%200.10666666666666667%5D%2C%20%5B42.37699863%2C%20-71.03051887%2C%200.04%5D%2C%20%5B42.310434%2C%20-71.0613401%2C%200.41333333333333333%5D%2C%20%5B42.310434%2C%20-71.0613401%2C%200.18666666666666668%5D%2C%20%5B42.25621592%2C%20-71.12401947%2C%200.04%5D%2C%20%5B42.36891445%2C%20-71.03399585%2C%200.06666666666666667%5D%2C%20%5B42.31153141%2C%20-71.10626439%2C%200.05333333333333334%5D%2C%20%5B42.32987323%2C%20-71.09590774%2C%200.013333333333333334%5D%2C%20%5B42.33601255%2C%20-71.06247708%2C%200.013333333333333334%5D%2C%20%5B42.25621592%2C%20-71.12401947%2C%200.013333333333333334%5D%2C%20%5B42.3420038%2C%20-71.10011169%2C%200.18666666666666668%5D%2C%20%5B42.3169665%2C%20-71.08254058%2C%200.32%5D%2C%20%5B42.29109287%2C%20-71.06594539%2C%200.14666666666666667%5D%2C%20%5B42.31465584%2C%20-71.06581008%2C%200.2%5D%2C%20%5B42.33011503%2C%20-71.07868376%2C%200.4%5D%2C%20%5B42.35171679%2C%20-71.06118419%2C%200.4%5D%2C%20%5B42.29328831%2C%20-71.06219497%2C%200.3333333333333333%5D%2C%20%5B42.34041441%2C%20-71.08031699%2C%200.68%5D%2C%20%5B42.32866284%2C%20-71.08563401%2C%200.21333333333333335%5D%2C%20%5B42.34111504%2C%20-71.05632465%2C%200.013333333333333334%5D%2C%20%5B42.31825005%2C%20-71.06122687%2C%200.013333333333333334%5D%2C%20%5B42.28890049%2C%20-71.06266918%2C%200.18666666666666668%5D%2C%20%5B42.28890049%2C%20-71.06266918%2C%200.22666666666666666%5D%2C%20%5B42.29350272%2C%20-71.07344862%2C%200.2%5D%2C%20%5B42.32696802%2C%20-71.08051941%2C%200.08%5D%2C%20%5B42.34339388%2C%20-71.09849282%2C%200.13333333333333333%5D%2C%20%5B42.33613224%2C%20-71.03129582%2C%200.06666666666666667%5D%2C%20%5B42.36112329%2C%20-71.06577409%2C%200.05333333333333334%5D%2C%20%5B42.30839354%2C%20-71.06473124%2C%200.013333333333333334%5D%2C%20%5B42.33954199%2C%20-71.06940877%2C%200.04%5D%2C%20%5B42.33123776%2C%20-71.09140736%2C%200.05333333333333334%5D%2C%20%5B42.33123776%2C%20-71.09140736%2C%200.12%5D%2C%20%5B42.364924%2C%20-71.05331772%2C%200.06666666666666667%5D%2C%20%5B42.27056677%2C%20-71.10100994%2C%200.013333333333333334%5D%2C%20%5B42.36127607%2C%20-71.14345725%2C%200.08%5D%2C%20%5B42.343207%2C%20-71.078564%2C%200.02666666666666667%5D%2C%20%5B42.31961996%2C%20-71.05951046%2C%200.04%5D%2C%20%5B42.34701666%2C%20-71.06886238%2C%200.16%5D%2C%20%5B42.34701666%2C%20-71.06886238%2C%200.13333333333333333%5D%2C%20%5B42.35404288%2C%20-71.15042215%2C%200.32%5D%2C%20%5B42.28024352%2C%20-71.08481509%2C%200.37333333333333335%5D%2C%20%5B42.33374643%2C%20-71.07020353%2C%200.5733333333333334%5D%2C%20%5B42.32047753%2C%20-71.07273673%2C%200.05333333333333334%5D%2C%20%5B42.2694837%2C%20-71.1619872%2C%200.32%5D%2C%20%5B42.2694837%2C%20-71.1619872%2C%200.13333333333333333%5D%2C%20%5B42.29451618%2C%20-71.08944754%2C%200.09333333333333334%5D%2C%20%5B42.36127607%2C%20-71.14345725%2C%200.013333333333333334%5D%2C%20%5B42.33122318%2C%20-71.04821007%2C%200.02666666666666667%5D%2C%20%5B42.33428841%2C%20-71.07239518%2C%200.013333333333333334%5D%2C%20%5B42.33428841%2C%20-71.07239518%2C%200.013333333333333334%5D%2C%20%5B42.3473098%2C%20-71.07915167%2C%200.04%5D%2C%20%5B42.33436843%2C%20-71.0953077%2C%200.02666666666666667%5D%2C%20%5B42.3092779%2C%20-71.07868791%2C%200.04%5D%2C%20%5B42.35232905%2C%20-71.0641034%2C%200.17333333333333334%5D%2C%20%5B42.35232905%2C%20-71.0641034%2C%200.12%5D%2C%20%5B42.33698202%2C%20-71.08458699%2C%200.08%5D%2C%20%5B42.33954199%2C%20-71.06940877%2C%200.09333333333333334%5D%2C%20%5B42.30576686%2C%20-71.08097517%2C%200.3333333333333333%5D%2C%20%5B42.33572403%2C%20-71.07232651%2C%200.16%5D%2C%20%5B42.34410718%2C%20-71.1018026%2C%200.2%5D%2C%20%5B42.28897393%2C%20-71.06581547%2C%200.28%5D%2C%20%5B42.31137657%2C%20-71.05460091%2C%200.48%5D%2C%20%5B42.28378485%2C%20-71.06720626%2C%200.22666666666666666%5D%2C%20%5B42.33606304%2C%20-71.10782832%2C%200.22666666666666666%5D%2C%20%5B42.37637109%2C%20-71.06557375%2C%200.13333333333333333%5D%2C%20%5B42.31434407%2C%20-71.07487058%2C%200.02666666666666667%5D%2C%20%5B42.31434407%2C%20-71.07487058%2C%200.013333333333333334%5D%2C%20%5B42.33265906%2C%20-71.05141632%2C%200.013333333333333334%5D%2C%20%5B42.32640778%2C%20-71.10107682%2C%200.05333333333333334%5D%2C%20%5B42.2867659%2C%20-71.10837643%2C%200.013333333333333334%5D%2C%20%5B42.3043395%2C%20-71.08477887%2C%200.04%5D%2C%20%5B42.3473098%2C%20-71.07915167%2C%200.02666666666666667%5D%2C%20%5B42.3473098%2C%20-71.07915167%2C%200.02666666666666667%5D%2C%20%5B42.34842775%2C%20-71.07646876%2C%200.10666666666666667%5D%2C%20%5B42.37843402%2C%20-71.05644163%2C%200.12%5D%2C%20%5B42.31568139%2C%20-71.05308742%2C%200.22666666666666666%5D%2C%20%5B42.25524883%2C%20-71.13082162%2C%200.13333333333333333%5D%2C%20%5B42.29972869%2C%20-71.08171587%2C%200.16%5D%2C%20%5B42.34762277%2C%20-71.07606735%2C%200.25333333333333335%5D%2C%20%5B42.29848866%2C%20-71.06313294%2C%200.18666666666666668%5D%2C%20%5B42.31779354%2C%20-71.04210959%2C%200.05333333333333334%5D%2C%20%5B42.29766924%2C%20-71.08697895%2C%200.013333333333333334%5D%2C%20%5B42.29766924%2C%20-71.08697895%2C%200.02666666666666667%5D%2C%20%5B42.29766924%2C%20-71.08697895%2C%200.02666666666666667%5D%2C%20%5B42.32788017%2C%20-71.1040266%2C%200.10666666666666667%5D%2C%20%5B42.34846398%2C%20-71.15814967%2C%200.21333333333333335%5D%2C%20%5B42.32922866%2C%20-71.05495286%2C%200.36%5D%2C%20%5B42.31434407%2C%20-71.07487058%2C%200.4533333333333333%5D%2C%20%5B42.31434407%2C%20-71.07487058%2C%200.6533333333333333%5D%2C%20%5B42.34221545%2C%20-71.10544085%2C%200.3333333333333333%5D%2C%20%5B42.30600262%2C%20-71.0587872%2C%201.0%5D%2C%20%5B42.34932234%2C%20-71.07210216%2C%200.32%5D%2C%20%5B42.3473098%2C%20-71.07915167%2C%200.13333333333333333%5D%2C%20%5B42.3473098%2C%20-71.07915167%2C%200.09333333333333334%5D%2C%20%5B42.3473098%2C%20-71.07915167%2C%200.04%5D%2C%20%5B42.31353744%2C%20-71.05924913%2C%200.05333333333333334%5D%2C%20%5B42.25661118%2C%20-71.12391857%2C%200.02666666666666667%5D%2C%20%5B42.29848866%2C%20-71.06313294%2C%200.05333333333333334%5D%2C%20%5B42.29158018%2C%20-71.04009369%2C%200.02666666666666667%5D%2C%20%5B42.25632224%2C%20-71.11959219%2C%200.16%5D%2C%20%5B42.27417433%2C%20-71.1603713%2C%200.14666666666666667%5D%2C%20%5B42.30600262%2C%20-71.0587872%2C%200.02666666666666667%5D%2C%20%5B42.28482577%2C%20-71.09137369%2C%200.08%5D%2C%20%5B42.38914357%2C%20-71.00166073%2C%200.08%5D%2C%20%5B42.34280177%2C%20-71.1006951%2C%200.12%5D%2C%20%5B42.35907171%2C%20-71.05973044%2C%200.05333333333333334%5D%2C%20%5B42.36240281%2C%20-71.06954652%2C%200.013333333333333334%5D%2C%20%5B42.36240281%2C%20-71.06954652%2C%200.08%5D%2C%20%5B42.36240281%2C%20-71.06954652%2C%200.18666666666666668%5D%2C%20%5B42.36240281%2C%20-71.06954652%2C%200.14666666666666667%5D%2C%20%5B42.36240281%2C%20-71.06954652%2C%200.41333333333333333%5D%2C%20%5B42.36240281%2C%20-71.06954652%2C%200.64%5D%2C%20%5B42.36240281%2C%20-71.06954652%2C%200.18666666666666668%5D%2C%20%5B42.36240281%2C%20-71.06954652%2C%200.06666666666666667%5D%2C%20%5B42.36240281%2C%20-71.06954652%2C%200.10666666666666667%5D%2C%20%5B42.35272948%2C%20-71.06256291%2C%200.02666666666666667%5D%2C%20%5B42.36183857%2C%20-71.05976489%2C%200.013333333333333334%5D%2C%20%5B42.32866284%2C%20-71.08563401%2C%200.13333333333333333%5D%2C%20%5B42.26909851%2C%20-71.09361458%2C%200.09333333333333334%5D%2C%20%5B42.31934009%2C%20-71.07669166%2C%200.04%5D%2C%20%5B42.33152148%2C%20-71.07085307%2C%200.08%5D%2C%20%5B42.33152148%2C%20-71.07085307%2C%200.02666666666666667%5D%2C%20%5B42.35213476%2C%20-71.06266757%2C%200.49333333333333335%5D%2C%20%5B42.26918248%2C%20-71.14845197%2C%200.30666666666666664%5D%2C%20%5B42.28875771%2C%20-71.0751631%2C%200.48%5D%2C%20%5B42.3290038%2C%20-71.07838214%2C%200.5066666666666667%5D%2C%20%5B42.25556696%2C%20-71.11902026%2C%200.12%5D%2C%20%5B42.25556696%2C%20-71.11902026%2C%200.013333333333333334%5D%2C%20%5B42.34634313%2C%20-71.08482013%2C%200.013333333333333334%5D%2C%20%5B42.38605936%2C%20-71.07251642%2C%200.013333333333333334%5D%2C%20%5B42.35404844%2C%20-71.04639023%2C%200.04%5D%2C%20%5B42.30273607%2C%20-71.08248544%2C%200.32%5D%2C%20%5B42.27162486%2C%20-71.11915512%2C%200.32%5D%2C%20%5B42.27162486%2C%20-71.11915512%2C%200.04%5D%2C%20%5B42.33301514%2C%20-71.04146775%2C%200.05333333333333334%5D%2C%20%5B42.33094957%2C%20-71.04139054%2C%200.013333333333333334%5D%2C%20%5B42.32779976%2C%20-71.06771009%2C%200.04%5D%2C%20%5B42.29165545%2C%20-71.06009035%2C%200.013333333333333334%5D%2C%20%5B42.35555336%2C%20-71.15274721%2C%200.5466666666666666%5D%2C%20%5B42.25215294%2C%20-71.11183303%2C%200.14666666666666667%5D%2C%20%5B42.34439568%2C%20-71.08632016%2C%200.02666666666666667%5D%2C%20%5B42.3169665%2C%20-71.08254058%2C%200.21333333333333335%5D%2C%20%5B42.36856802%2C%20-71.04121708%2C%200.04%5D%2C%20%5B42.31126459%2C%20-71.07003979%2C%200.02666666666666667%5D%2C%20%5B42.28419895%2C%20-71.05440749%2C%200.08%5D%2C%20%5B42.2878767%2C%20-71.05839664%2C%200.17333333333333334%5D%2C%20%5B42.28792819%2C%20-71.08502171%2C%200.18666666666666668%5D%2C%20%5B42.28630083%2C%20-71.09447003%2C%200.06666666666666667%5D%2C%20%5B42.38272%2C%20-71.021682%2C%200.13333333333333333%5D%2C%20%5B42.291221%2C%20-71.0598908%2C%200.14666666666666667%5D%2C%20%5B42.291221%2C%20-71.0598908%2C%200.18666666666666668%5D%2C%20%5B42.31066411%2C%20-71.07775375%2C%200.08%5D%2C%20%5B42.32283759%2C%20-71.10096723%2C%200.013333333333333334%5D%2C%20%5B42.33740172%2C%20-71.0522779%2C%200.18666666666666668%5D%2C%20%5B42.37972418%2C%20-71.06634439%2C%200.18666666666666668%5D%2C%20%5B42.34900739%2C%20-71.13860108%2C%200.12%5D%2C%20%5B42.26333577%2C%20-71.12299894%2C%200.06666666666666667%5D%2C%20%5B42.33606304%2C%20-71.10782832%2C%200.02666666666666667%5D%2C%20%5B42.36284173%2C%20-71.13792234%2C%200.013333333333333334%5D%2C%20%5B42.33640891%2C%20-71.08565039%2C%200.04%5D%2C%20%5B42.31852698%2C%20-71.09664983%2C%200.02666666666666667%5D%2C%20%5B42.35237073%2C%20-71.07227173%2C%200.05333333333333334%5D%2C%20%5B42.31635508%2C%20-71.06593853%2C%200.04%5D%2C%20%5B42.24268434%2C%20-71.12623349%2C%200.02666666666666667%5D%2C%20%5B42.24268434%2C%20-71.12623349%2C%200.02666666666666667%5D%2C%20%5B42.30114533%2C%20-71.05991447%2C%200.02666666666666667%5D%2C%20%5B42.3764438%2C%20-71.03474021%2C%200.02666666666666667%5D%2C%20%5B42.38685489%2C%20-71.00738288%2C%200.04%5D%2C%20%5B42.25621592%2C%20-71.12401947%2C%200.05333333333333334%5D%2C%20%5B42.36772441%2C%20-71.03706813%2C%200.02666666666666667%5D%2C%20%5B42.36772441%2C%20-71.03706813%2C%200.013333333333333334%5D%2C%20%5B42.32696802%2C%20-71.08051941%2C%200.09333333333333334%5D%2C%20%5B42.31176766%2C%20-71.09971564%2C%200.08%5D%2C%20%5B42.29932163%2C%20-71.05814159%2C%200.04%5D%2C%20%5B42.29932163%2C%20-71.05814159%2C%200.08%5D%5D%2C%0A%20%20%20%20%20%20%20%20%20%20%20%20%20%20%20%20%7B%0A%20%20%20%20%20%20%20%20%20%20%20%20%20%20%20%20%20%20%20%20minOpacity%3A%200.5%2C%0A%20%20%20%20%20%20%20%20%20%20%20%20%20%20%20%20%20%20%20%20maxZoom%3A%2018%2C%0A%20%20%20%20%20%20%20%20%20%20%20%20%20%20%20%20%20%20%20%20max%3A%201.0%2C%0A%20%20%20%20%20%20%20%20%20%20%20%20%20%20%20%20%20%20%20%20radius%3A%208%2C%0A%20%20%20%20%20%20%20%20%20%20%20%20%20%20%20%20%20%20%20%20blur%3A%2015%2C%0A%20%20%20%20%20%20%20%20%20%20%20%20%20%20%20%20%20%20%20%20gradient%3A%20null%0A%20%20%20%20%20%20%20%20%20%20%20%20%20%20%20%20%20%20%20%20%7D%29%0A%20%20%20%20%20%20%20%20%20%20%20%20%20%20%20%20.addTo%28map_b63c66c3410d4ea8b2b6ebbcd40e597b%29%3B%0A%20%20%20%20%20%20%20%20%0A%3C/script%3E onload=\"this.contentDocument.open();this.contentDocument.write(    decodeURIComponent(this.getAttribute('data-html')));this.contentDocument.close();\" allowfullscreen webkitallowfullscreen mozallowfullscreen></iframe></div></div>"
            ]
          },
          "metadata": {},
          "execution_count": 162
        }
      ]
    }
  ]
}