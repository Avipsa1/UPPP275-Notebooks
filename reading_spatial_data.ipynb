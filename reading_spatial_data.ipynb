{
  "nbformat": 4,
  "nbformat_minor": 0,
  "metadata": {
    "colab": {
      "name": "reading_spatial_data.ipynb",
      "provenance": [],
      "collapsed_sections": [],
      "authorship_tag": "ABX9TyPI1oRog3f/heWC6xG0T7CR",
      "include_colab_link": true
    },
    "kernelspec": {
      "name": "python3",
      "display_name": "Python 3"
    },
    "language_info": {
      "name": "python"
    }
  },
  "cells": [
    {
      "cell_type": "markdown",
      "metadata": {
        "id": "view-in-github",
        "colab_type": "text"
      },
      "source": [
        "<a href=\"https://colab.research.google.com/github/Avipsa1/UPPP275-Notebooks/blob/main/reading_spatial_data.ipynb\" target=\"_parent\"><img src=\"https://colab.research.google.com/assets/colab-badge.svg\" alt=\"Open In Colab\"/></a>"
      ]
    },
    {
      "cell_type": "code",
      "execution_count": null,
      "metadata": {
        "id": "NwQX0Ci1Wozz"
      },
      "outputs": [],
      "source": [
        ""
      ]
    },
    {
      "cell_type": "markdown",
      "source": [
        "## **Reading and Writing Spatial Data**"
      ],
      "metadata": {
        "id": "5c13GkoXWt2Q"
      }
    },
    {
      "cell_type": "markdown",
      "source": [
        "In this notebook, you will learn how to read and write spatial data like ESRI shapefiles, GeoJSON and other formats using the `geopandas` library in Python."
      ],
      "metadata": {
        "id": "IAXzg4LcW05j"
      }
    },
    {
      "cell_type": "markdown",
      "source": [
        "### **Reading Spatial Data**"
      ],
      "metadata": {
        "id": "5GCHDbWvXBhf"
      }
    },
    {
      "cell_type": "markdown",
      "source": [
        "`geopandas` can read almost any vector-based spatial data format including ESRI shapefile, GeoJSON files and more using the command:\n",
        "\n",
        "`geopandas.read_file()`"
      ],
      "metadata": {
        "id": "tmSSngd-XVip"
      }
    },
    {
      "cell_type": "code",
      "source": [
        "!pip install geopandas #This line is to install geopandas in Google Colab\n",
        "import geopandas as gpd\n",
        "import matplotlib.pyplot as plt"
      ],
      "metadata": {
        "colab": {
          "base_uri": "https://localhost:8080/"
        },
        "id": "iqFH0rh1XIGg",
        "outputId": "4af1b788-b90f-4a09-cf5f-d724196fbaca"
      },
      "execution_count": 1,
      "outputs": [
        {
          "output_type": "stream",
          "name": "stdout",
          "text": [
            "Collecting geopandas\n",
            "  Downloading geopandas-0.10.2-py2.py3-none-any.whl (1.0 MB)\n",
            "\u001b[?25l\r\u001b[K     |▎                               | 10 kB 18.7 MB/s eta 0:00:01\r\u001b[K     |▋                               | 20 kB 20.2 MB/s eta 0:00:01\r\u001b[K     |█                               | 30 kB 22.4 MB/s eta 0:00:01\r\u001b[K     |█▎                              | 40 kB 23.9 MB/s eta 0:00:01\r\u001b[K     |█▋                              | 51 kB 21.8 MB/s eta 0:00:01\r\u001b[K     |██                              | 61 kB 17.5 MB/s eta 0:00:01\r\u001b[K     |██▎                             | 71 kB 16.1 MB/s eta 0:00:01\r\u001b[K     |██▌                             | 81 kB 17.2 MB/s eta 0:00:01\r\u001b[K     |██▉                             | 92 kB 17.9 MB/s eta 0:00:01\r\u001b[K     |███▏                            | 102 kB 17.0 MB/s eta 0:00:01\r\u001b[K     |███▌                            | 112 kB 17.0 MB/s eta 0:00:01\r\u001b[K     |███▉                            | 122 kB 17.0 MB/s eta 0:00:01\r\u001b[K     |████▏                           | 133 kB 17.0 MB/s eta 0:00:01\r\u001b[K     |████▌                           | 143 kB 17.0 MB/s eta 0:00:01\r\u001b[K     |████▊                           | 153 kB 17.0 MB/s eta 0:00:01\r\u001b[K     |█████                           | 163 kB 17.0 MB/s eta 0:00:01\r\u001b[K     |█████▍                          | 174 kB 17.0 MB/s eta 0:00:01\r\u001b[K     |█████▊                          | 184 kB 17.0 MB/s eta 0:00:01\r\u001b[K     |██████                          | 194 kB 17.0 MB/s eta 0:00:01\r\u001b[K     |██████▍                         | 204 kB 17.0 MB/s eta 0:00:01\r\u001b[K     |██████▊                         | 215 kB 17.0 MB/s eta 0:00:01\r\u001b[K     |███████                         | 225 kB 17.0 MB/s eta 0:00:01\r\u001b[K     |███████▎                        | 235 kB 17.0 MB/s eta 0:00:01\r\u001b[K     |███████▋                        | 245 kB 17.0 MB/s eta 0:00:01\r\u001b[K     |████████                        | 256 kB 17.0 MB/s eta 0:00:01\r\u001b[K     |████████▎                       | 266 kB 17.0 MB/s eta 0:00:01\r\u001b[K     |████████▋                       | 276 kB 17.0 MB/s eta 0:00:01\r\u001b[K     |█████████                       | 286 kB 17.0 MB/s eta 0:00:01\r\u001b[K     |█████████▏                      | 296 kB 17.0 MB/s eta 0:00:01\r\u001b[K     |█████████▌                      | 307 kB 17.0 MB/s eta 0:00:01\r\u001b[K     |█████████▉                      | 317 kB 17.0 MB/s eta 0:00:01\r\u001b[K     |██████████▏                     | 327 kB 17.0 MB/s eta 0:00:01\r\u001b[K     |██████████▌                     | 337 kB 17.0 MB/s eta 0:00:01\r\u001b[K     |██████████▉                     | 348 kB 17.0 MB/s eta 0:00:01\r\u001b[K     |███████████▏                    | 358 kB 17.0 MB/s eta 0:00:01\r\u001b[K     |███████████▍                    | 368 kB 17.0 MB/s eta 0:00:01\r\u001b[K     |███████████▊                    | 378 kB 17.0 MB/s eta 0:00:01\r\u001b[K     |████████████                    | 389 kB 17.0 MB/s eta 0:00:01\r\u001b[K     |████████████▍                   | 399 kB 17.0 MB/s eta 0:00:01\r\u001b[K     |████████████▊                   | 409 kB 17.0 MB/s eta 0:00:01\r\u001b[K     |█████████████                   | 419 kB 17.0 MB/s eta 0:00:01\r\u001b[K     |█████████████▍                  | 430 kB 17.0 MB/s eta 0:00:01\r\u001b[K     |█████████████▋                  | 440 kB 17.0 MB/s eta 0:00:01\r\u001b[K     |██████████████                  | 450 kB 17.0 MB/s eta 0:00:01\r\u001b[K     |██████████████▎                 | 460 kB 17.0 MB/s eta 0:00:01\r\u001b[K     |██████████████▋                 | 471 kB 17.0 MB/s eta 0:00:01\r\u001b[K     |███████████████                 | 481 kB 17.0 MB/s eta 0:00:01\r\u001b[K     |███████████████▎                | 491 kB 17.0 MB/s eta 0:00:01\r\u001b[K     |███████████████▋                | 501 kB 17.0 MB/s eta 0:00:01\r\u001b[K     |███████████████▉                | 512 kB 17.0 MB/s eta 0:00:01\r\u001b[K     |████████████████▏               | 522 kB 17.0 MB/s eta 0:00:01\r\u001b[K     |████████████████▌               | 532 kB 17.0 MB/s eta 0:00:01\r\u001b[K     |████████████████▉               | 542 kB 17.0 MB/s eta 0:00:01\r\u001b[K     |█████████████████▏              | 552 kB 17.0 MB/s eta 0:00:01\r\u001b[K     |█████████████████▌              | 563 kB 17.0 MB/s eta 0:00:01\r\u001b[K     |█████████████████▉              | 573 kB 17.0 MB/s eta 0:00:01\r\u001b[K     |██████████████████              | 583 kB 17.0 MB/s eta 0:00:01\r\u001b[K     |██████████████████▍             | 593 kB 17.0 MB/s eta 0:00:01\r\u001b[K     |██████████████████▊             | 604 kB 17.0 MB/s eta 0:00:01\r\u001b[K     |███████████████████             | 614 kB 17.0 MB/s eta 0:00:01\r\u001b[K     |███████████████████▍            | 624 kB 17.0 MB/s eta 0:00:01\r\u001b[K     |███████████████████▊            | 634 kB 17.0 MB/s eta 0:00:01\r\u001b[K     |████████████████████            | 645 kB 17.0 MB/s eta 0:00:01\r\u001b[K     |████████████████████▎           | 655 kB 17.0 MB/s eta 0:00:01\r\u001b[K     |████████████████████▋           | 665 kB 17.0 MB/s eta 0:00:01\r\u001b[K     |█████████████████████           | 675 kB 17.0 MB/s eta 0:00:01\r\u001b[K     |█████████████████████▎          | 686 kB 17.0 MB/s eta 0:00:01\r\u001b[K     |█████████████████████▋          | 696 kB 17.0 MB/s eta 0:00:01\r\u001b[K     |██████████████████████          | 706 kB 17.0 MB/s eta 0:00:01\r\u001b[K     |██████████████████████▎         | 716 kB 17.0 MB/s eta 0:00:01\r\u001b[K     |██████████████████████▋         | 727 kB 17.0 MB/s eta 0:00:01\r\u001b[K     |██████████████████████▉         | 737 kB 17.0 MB/s eta 0:00:01\r\u001b[K     |███████████████████████▏        | 747 kB 17.0 MB/s eta 0:00:01\r\u001b[K     |███████████████████████▌        | 757 kB 17.0 MB/s eta 0:00:01\r\u001b[K     |███████████████████████▉        | 768 kB 17.0 MB/s eta 0:00:01\r\u001b[K     |████████████████████████▏       | 778 kB 17.0 MB/s eta 0:00:01\r\u001b[K     |████████████████████████▌       | 788 kB 17.0 MB/s eta 0:00:01\r\u001b[K     |████████████████████████▉       | 798 kB 17.0 MB/s eta 0:00:01\r\u001b[K     |█████████████████████████       | 808 kB 17.0 MB/s eta 0:00:01\r\u001b[K     |█████████████████████████▍      | 819 kB 17.0 MB/s eta 0:00:01\r\u001b[K     |█████████████████████████▊      | 829 kB 17.0 MB/s eta 0:00:01\r\u001b[K     |██████████████████████████      | 839 kB 17.0 MB/s eta 0:00:01\r\u001b[K     |██████████████████████████▍     | 849 kB 17.0 MB/s eta 0:00:01\r\u001b[K     |██████████████████████████▊     | 860 kB 17.0 MB/s eta 0:00:01\r\u001b[K     |███████████████████████████     | 870 kB 17.0 MB/s eta 0:00:01\r\u001b[K     |███████████████████████████▎    | 880 kB 17.0 MB/s eta 0:00:01\r\u001b[K     |███████████████████████████▋    | 890 kB 17.0 MB/s eta 0:00:01\r\u001b[K     |████████████████████████████    | 901 kB 17.0 MB/s eta 0:00:01\r\u001b[K     |████████████████████████████▎   | 911 kB 17.0 MB/s eta 0:00:01\r\u001b[K     |████████████████████████████▋   | 921 kB 17.0 MB/s eta 0:00:01\r\u001b[K     |█████████████████████████████   | 931 kB 17.0 MB/s eta 0:00:01\r\u001b[K     |█████████████████████████████▎  | 942 kB 17.0 MB/s eta 0:00:01\r\u001b[K     |█████████████████████████████▌  | 952 kB 17.0 MB/s eta 0:00:01\r\u001b[K     |█████████████████████████████▉  | 962 kB 17.0 MB/s eta 0:00:01\r\u001b[K     |██████████████████████████████▏ | 972 kB 17.0 MB/s eta 0:00:01\r\u001b[K     |██████████████████████████████▌ | 983 kB 17.0 MB/s eta 0:00:01\r\u001b[K     |██████████████████████████████▉ | 993 kB 17.0 MB/s eta 0:00:01\r\u001b[K     |███████████████████████████████▏| 1.0 MB 17.0 MB/s eta 0:00:01\r\u001b[K     |███████████████████████████████▌| 1.0 MB 17.0 MB/s eta 0:00:01\r\u001b[K     |███████████████████████████████▊| 1.0 MB 17.0 MB/s eta 0:00:01\r\u001b[K     |████████████████████████████████| 1.0 MB 17.0 MB/s \n",
            "\u001b[?25hRequirement already satisfied: shapely>=1.6 in /usr/local/lib/python3.7/dist-packages (from geopandas) (1.8.0)\n",
            "Collecting pyproj>=2.2.0\n",
            "\u001b[33m  WARNING: Retrying (Retry(total=4, connect=None, read=None, redirect=None, status=None)) after connection broken by 'ProtocolError('Connection aborted.', ConnectionResetError(104, 'Connection reset by peer'))': /packages/be/57/4648d607dd92d09e9a685a8cc20adeafb0c49ed61397bd77c85392a5eb05/pyproj-3.2.1-cp37-cp37m-manylinux2010_x86_64.whl\u001b[0m\n",
            "  Downloading pyproj-3.2.1-cp37-cp37m-manylinux2010_x86_64.whl (6.3 MB)\n",
            "\u001b[K     |████████████████████████████████| 6.3 MB 19.0 MB/s \n",
            "\u001b[?25hCollecting fiona>=1.8\n",
            "  Downloading Fiona-1.8.21-cp37-cp37m-manylinux2014_x86_64.whl (16.7 MB)\n",
            "\u001b[K     |████████████████████████████████| 16.7 MB 6.9 MB/s \n",
            "\u001b[?25hRequirement already satisfied: pandas>=0.25.0 in /usr/local/lib/python3.7/dist-packages (from geopandas) (1.3.5)\n",
            "Requirement already satisfied: certifi in /usr/local/lib/python3.7/dist-packages (from fiona>=1.8->geopandas) (2021.10.8)\n",
            "Collecting cligj>=0.5\n",
            "  Downloading cligj-0.7.2-py3-none-any.whl (7.1 kB)\n",
            "Collecting munch\n",
            "  Downloading munch-2.5.0-py2.py3-none-any.whl (10 kB)\n",
            "Requirement already satisfied: click>=4.0 in /usr/local/lib/python3.7/dist-packages (from fiona>=1.8->geopandas) (7.1.2)\n",
            "Collecting click-plugins>=1.0\n",
            "  Downloading click_plugins-1.1.1-py2.py3-none-any.whl (7.5 kB)\n",
            "Requirement already satisfied: setuptools in /usr/local/lib/python3.7/dist-packages (from fiona>=1.8->geopandas) (57.4.0)\n",
            "Requirement already satisfied: six>=1.7 in /usr/local/lib/python3.7/dist-packages (from fiona>=1.8->geopandas) (1.15.0)\n",
            "Requirement already satisfied: attrs>=17 in /usr/local/lib/python3.7/dist-packages (from fiona>=1.8->geopandas) (21.4.0)\n",
            "Requirement already satisfied: python-dateutil>=2.7.3 in /usr/local/lib/python3.7/dist-packages (from pandas>=0.25.0->geopandas) (2.8.2)\n",
            "Requirement already satisfied: numpy>=1.17.3 in /usr/local/lib/python3.7/dist-packages (from pandas>=0.25.0->geopandas) (1.19.5)\n",
            "Requirement already satisfied: pytz>=2017.3 in /usr/local/lib/python3.7/dist-packages (from pandas>=0.25.0->geopandas) (2018.9)\n",
            "Installing collected packages: munch, cligj, click-plugins, pyproj, fiona, geopandas\n",
            "Successfully installed click-plugins-1.1.1 cligj-0.7.2 fiona-1.8.21 geopandas-0.10.2 munch-2.5.0 pyproj-3.2.1\n"
          ]
        }
      ]
    },
    {
      "cell_type": "code",
      "source": [
        "%matplotlib inline"
      ],
      "metadata": {
        "id": "yZdWKphJXcz1"
      },
      "execution_count": 2,
      "outputs": []
    },
    {
      "cell_type": "code",
      "source": [
        "states = gpd.read_file(\"./sample_data/cb_2018_us_state_20m.shp\")"
      ],
      "metadata": {
        "id": "NMdD7aBOXwPC"
      },
      "execution_count": 13,
      "outputs": []
    },
    {
      "cell_type": "markdown",
      "source": [
        "The file is read into the variable `states`."
      ],
      "metadata": {
        "id": "SF_4-j5RX4cx"
      }
    },
    {
      "cell_type": "code",
      "source": [
        "states.head()"
      ],
      "metadata": {
        "colab": {
          "base_uri": "https://localhost:8080/",
          "height": 582
        },
        "id": "WE_r2HnMX8I7",
        "outputId": "9ba66798-f440-4ec9-e542-04a481a8e233"
      },
      "execution_count": 14,
      "outputs": [
        {
          "output_type": "execute_result",
          "data": {
            "text/html": [
              "\n",
              "  <div id=\"df-1dd8a235-8fd9-4ca8-a58e-19adebf9e6d2\">\n",
              "    <div class=\"colab-df-container\">\n",
              "      <div>\n",
              "<style scoped>\n",
              "    .dataframe tbody tr th:only-of-type {\n",
              "        vertical-align: middle;\n",
              "    }\n",
              "\n",
              "    .dataframe tbody tr th {\n",
              "        vertical-align: top;\n",
              "    }\n",
              "\n",
              "    .dataframe thead th {\n",
              "        text-align: right;\n",
              "    }\n",
              "</style>\n",
              "<table border=\"1\" class=\"dataframe\">\n",
              "  <thead>\n",
              "    <tr style=\"text-align: right;\">\n",
              "      <th></th>\n",
              "      <th>STATEFP</th>\n",
              "      <th>STATENS</th>\n",
              "      <th>AFFGEOID</th>\n",
              "      <th>GEOID</th>\n",
              "      <th>STUSPS</th>\n",
              "      <th>NAME</th>\n",
              "      <th>LSAD</th>\n",
              "      <th>ALAND</th>\n",
              "      <th>AWATER</th>\n",
              "      <th>geometry</th>\n",
              "    </tr>\n",
              "  </thead>\n",
              "  <tbody>\n",
              "    <tr>\n",
              "      <th>0</th>\n",
              "      <td>24</td>\n",
              "      <td>01714934</td>\n",
              "      <td>0400000US24</td>\n",
              "      <td>24</td>\n",
              "      <td>MD</td>\n",
              "      <td>Maryland</td>\n",
              "      <td>00</td>\n",
              "      <td>25151100280</td>\n",
              "      <td>6979966958</td>\n",
              "      <td>MULTIPOLYGON (((-76.04621 38.02553, -76.00734 ...</td>\n",
              "    </tr>\n",
              "    <tr>\n",
              "      <th>1</th>\n",
              "      <td>19</td>\n",
              "      <td>01779785</td>\n",
              "      <td>0400000US19</td>\n",
              "      <td>19</td>\n",
              "      <td>IA</td>\n",
              "      <td>Iowa</td>\n",
              "      <td>00</td>\n",
              "      <td>144661267977</td>\n",
              "      <td>1084180812</td>\n",
              "      <td>POLYGON ((-96.62187 42.77925, -96.57794 42.827...</td>\n",
              "    </tr>\n",
              "    <tr>\n",
              "      <th>2</th>\n",
              "      <td>10</td>\n",
              "      <td>01779781</td>\n",
              "      <td>0400000US10</td>\n",
              "      <td>10</td>\n",
              "      <td>DE</td>\n",
              "      <td>Delaware</td>\n",
              "      <td>00</td>\n",
              "      <td>5045925646</td>\n",
              "      <td>1399985648</td>\n",
              "      <td>POLYGON ((-75.77379 39.72220, -75.75323 39.757...</td>\n",
              "    </tr>\n",
              "    <tr>\n",
              "      <th>3</th>\n",
              "      <td>39</td>\n",
              "      <td>01085497</td>\n",
              "      <td>0400000US39</td>\n",
              "      <td>39</td>\n",
              "      <td>OH</td>\n",
              "      <td>Ohio</td>\n",
              "      <td>00</td>\n",
              "      <td>105828882568</td>\n",
              "      <td>10268850702</td>\n",
              "      <td>MULTIPOLYGON (((-82.86334 41.69369, -82.82572 ...</td>\n",
              "    </tr>\n",
              "    <tr>\n",
              "      <th>4</th>\n",
              "      <td>42</td>\n",
              "      <td>01779798</td>\n",
              "      <td>0400000US42</td>\n",
              "      <td>42</td>\n",
              "      <td>PA</td>\n",
              "      <td>Pennsylvania</td>\n",
              "      <td>00</td>\n",
              "      <td>115884442321</td>\n",
              "      <td>3394589990</td>\n",
              "      <td>POLYGON ((-80.51989 40.90666, -80.51964 40.987...</td>\n",
              "    </tr>\n",
              "  </tbody>\n",
              "</table>\n",
              "</div>\n",
              "      <button class=\"colab-df-convert\" onclick=\"convertToInteractive('df-1dd8a235-8fd9-4ca8-a58e-19adebf9e6d2')\"\n",
              "              title=\"Convert this dataframe to an interactive table.\"\n",
              "              style=\"display:none;\">\n",
              "        \n",
              "  <svg xmlns=\"http://www.w3.org/2000/svg\" height=\"24px\"viewBox=\"0 0 24 24\"\n",
              "       width=\"24px\">\n",
              "    <path d=\"M0 0h24v24H0V0z\" fill=\"none\"/>\n",
              "    <path d=\"M18.56 5.44l.94 2.06.94-2.06 2.06-.94-2.06-.94-.94-2.06-.94 2.06-2.06.94zm-11 1L8.5 8.5l.94-2.06 2.06-.94-2.06-.94L8.5 2.5l-.94 2.06-2.06.94zm10 10l.94 2.06.94-2.06 2.06-.94-2.06-.94-.94-2.06-.94 2.06-2.06.94z\"/><path d=\"M17.41 7.96l-1.37-1.37c-.4-.4-.92-.59-1.43-.59-.52 0-1.04.2-1.43.59L10.3 9.45l-7.72 7.72c-.78.78-.78 2.05 0 2.83L4 21.41c.39.39.9.59 1.41.59.51 0 1.02-.2 1.41-.59l7.78-7.78 2.81-2.81c.8-.78.8-2.07 0-2.86zM5.41 20L4 18.59l7.72-7.72 1.47 1.35L5.41 20z\"/>\n",
              "  </svg>\n",
              "      </button>\n",
              "      \n",
              "  <style>\n",
              "    .colab-df-container {\n",
              "      display:flex;\n",
              "      flex-wrap:wrap;\n",
              "      gap: 12px;\n",
              "    }\n",
              "\n",
              "    .colab-df-convert {\n",
              "      background-color: #E8F0FE;\n",
              "      border: none;\n",
              "      border-radius: 50%;\n",
              "      cursor: pointer;\n",
              "      display: none;\n",
              "      fill: #1967D2;\n",
              "      height: 32px;\n",
              "      padding: 0 0 0 0;\n",
              "      width: 32px;\n",
              "    }\n",
              "\n",
              "    .colab-df-convert:hover {\n",
              "      background-color: #E2EBFA;\n",
              "      box-shadow: 0px 1px 2px rgba(60, 64, 67, 0.3), 0px 1px 3px 1px rgba(60, 64, 67, 0.15);\n",
              "      fill: #174EA6;\n",
              "    }\n",
              "\n",
              "    [theme=dark] .colab-df-convert {\n",
              "      background-color: #3B4455;\n",
              "      fill: #D2E3FC;\n",
              "    }\n",
              "\n",
              "    [theme=dark] .colab-df-convert:hover {\n",
              "      background-color: #434B5C;\n",
              "      box-shadow: 0px 1px 3px 1px rgba(0, 0, 0, 0.15);\n",
              "      filter: drop-shadow(0px 1px 2px rgba(0, 0, 0, 0.3));\n",
              "      fill: #FFFFFF;\n",
              "    }\n",
              "  </style>\n",
              "\n",
              "      <script>\n",
              "        const buttonEl =\n",
              "          document.querySelector('#df-1dd8a235-8fd9-4ca8-a58e-19adebf9e6d2 button.colab-df-convert');\n",
              "        buttonEl.style.display =\n",
              "          google.colab.kernel.accessAllowed ? 'block' : 'none';\n",
              "\n",
              "        async function convertToInteractive(key) {\n",
              "          const element = document.querySelector('#df-1dd8a235-8fd9-4ca8-a58e-19adebf9e6d2');\n",
              "          const dataTable =\n",
              "            await google.colab.kernel.invokeFunction('convertToInteractive',\n",
              "                                                     [key], {});\n",
              "          if (!dataTable) return;\n",
              "\n",
              "          const docLinkHtml = 'Like what you see? Visit the ' +\n",
              "            '<a target=\"_blank\" href=https://colab.research.google.com/notebooks/data_table.ipynb>data table notebook</a>'\n",
              "            + ' to learn more about interactive tables.';\n",
              "          element.innerHTML = '';\n",
              "          dataTable['output_type'] = 'display_data';\n",
              "          await google.colab.output.renderOutput(dataTable, element);\n",
              "          const docLink = document.createElement('div');\n",
              "          docLink.innerHTML = docLinkHtml;\n",
              "          element.appendChild(docLink);\n",
              "        }\n",
              "      </script>\n",
              "    </div>\n",
              "  </div>\n",
              "  "
            ],
            "text/plain": [
              "  STATEFP  ...                                           geometry\n",
              "0      24  ...  MULTIPOLYGON (((-76.04621 38.02553, -76.00734 ...\n",
              "1      19  ...  POLYGON ((-96.62187 42.77925, -96.57794 42.827...\n",
              "2      10  ...  POLYGON ((-75.77379 39.72220, -75.75323 39.757...\n",
              "3      39  ...  MULTIPOLYGON (((-82.86334 41.69369, -82.82572 ...\n",
              "4      42  ...  POLYGON ((-80.51989 40.90666, -80.51964 40.987...\n",
              "\n",
              "[5 rows x 10 columns]"
            ]
          },
          "metadata": {},
          "execution_count": 14
        }
      ]
    },
    {
      "cell_type": "code",
      "source": [
        "states.__class__"
      ],
      "metadata": {
        "colab": {
          "base_uri": "https://localhost:8080/"
        },
        "id": "J1IYsb7lX-_k",
        "outputId": "37cee023-306c-4abc-f508-341d723ef53a"
      },
      "execution_count": 15,
      "outputs": [
        {
          "output_type": "execute_result",
          "data": {
            "text/plain": [
              "geopandas.geodataframe.GeoDataFrame"
            ]
          },
          "metadata": {},
          "execution_count": 15
        }
      ]
    },
    {
      "cell_type": "markdown",
      "source": [
        "Note that last column `geometry` in the GeoDataFrame states contains shapes. Other columns contain the attributes of each ploygon, in our example of each state."
      ],
      "metadata": {
        "id": "uCW_1IN6YFmA"
      }
    },
    {
      "cell_type": "code",
      "source": [
        "states.geometry"
      ],
      "metadata": {
        "colab": {
          "base_uri": "https://localhost:8080/"
        },
        "id": "uieFeC5RYJ7X",
        "outputId": "664e0aee-7614-47e2-c4ad-daace30dca87"
      },
      "execution_count": 16,
      "outputs": [
        {
          "output_type": "execute_result",
          "data": {
            "text/plain": [
              "0     MULTIPOLYGON (((-76.04621 38.02553, -76.00734 ...\n",
              "1     POLYGON ((-96.62187 42.77925, -96.57794 42.827...\n",
              "2     POLYGON ((-75.77379 39.72220, -75.75323 39.757...\n",
              "3     MULTIPOLYGON (((-82.86334 41.69369, -82.82572 ...\n",
              "4     POLYGON ((-80.51989 40.90666, -80.51964 40.987...\n",
              "5     POLYGON ((-104.05314 41.11446, -104.05245 41.2...\n",
              "6     MULTIPOLYGON (((-123.23715 48.68347, -123.0704...\n",
              "7     MULTIPOLYGON (((-65.34207 18.34529, -65.25593 ...\n",
              "8     POLYGON ((-88.46866 31.89386, -88.46866 31.933...\n",
              "9     POLYGON ((-94.61792 36.49941, -94.36120 36.499...\n",
              "10    POLYGON ((-109.04919 31.79655, -109.04830 32.0...\n",
              "11    POLYGON ((-106.62345 31.91403, -106.63011 31.9...\n",
              "12    MULTIPOLYGON (((-118.59397 33.46720, -118.4847...\n",
              "13    POLYGON ((-89.54443 36.57451, -89.47935 36.566...\n",
              "14    POLYGON ((-85.60516 34.98468, -85.47434 34.983...\n",
              "15    MULTIPOLYGON (((-86.93428 45.42115, -86.83575 ...\n",
              "16    POLYGON ((-124.55244 42.84057, -124.48094 42.9...\n",
              "17    POLYGON ((-95.76564 40.58521, -95.53318 40.582...\n",
              "18    MULTIPOLYGON (((-76.02347 37.28907, -75.98712 ...\n",
              "19    POLYGON ((-90.30070 35.02879, -90.26530 35.040...\n",
              "20    POLYGON ((-94.04305 32.69303, -94.04303 32.797...\n",
              "21    MULTIPOLYGON (((-72.01893 41.27411, -71.92680 ...\n",
              "22    MULTIPOLYGON (((-84.61622 45.89447, -84.51789 ...\n",
              "23    POLYGON ((-117.24303 44.39097, -117.21507 44.4...\n",
              "24    MULTIPOLYGON (((-81.81169 24.56874, -81.75127 ...\n",
              "25    MULTIPOLYGON (((179.48132 51.97530, 179.58286 ...\n",
              "26    POLYGON ((-91.50626 40.20016, -91.49696 40.248...\n",
              "27    POLYGON ((-116.04919 49.00091, -115.50102 49.0...\n",
              "28    POLYGON ((-97.22904 49.00069, -96.93096 48.999...\n",
              "29    POLYGON ((-88.05947 37.86669, -88.04086 37.891...\n",
              "30    MULTIPOLYGON (((-70.27553 41.31046, -70.19371 ...\n",
              "31    POLYGON ((-102.05174 40.00308, -101.83216 40.0...\n",
              "32    POLYGON ((-120.00480 39.31648, -120.00303 39.4...\n",
              "33    POLYGON ((-73.41632 44.09942, -73.39987 44.152...\n",
              "34    POLYGON ((-73.69594 41.11526, -73.48271 41.212...\n",
              "35    POLYGON ((-75.55945 39.62981, -75.53514 39.647...\n",
              "36    POLYGON ((-77.11976 38.93434, -77.04102 38.995...\n",
              "37    POLYGON ((-84.28660 35.20576, -84.28322 35.226...\n",
              "38    POLYGON ((-114.05247 37.60478, -114.05173 37.7...\n",
              "39    POLYGON ((-104.04874 48.99988, -103.37547 48.9...\n",
              "40    POLYGON ((-83.35324 34.72865, -83.32006 34.759...\n",
              "41    POLYGON ((-91.62136 31.26781, -91.56419 31.261...\n",
              "42    POLYGON ((-109.05996 38.49999, -109.05151 39.1...\n",
              "43    POLYGON ((-104.05770 44.99743, -104.03914 44.9...\n",
              "44    POLYGON ((-103.00252 36.67519, -103.00196 36.9...\n",
              "45    POLYGON ((-111.05689 44.86666, -111.04432 45.0...\n",
              "46    POLYGON ((-82.59886 38.20101, -82.58469 38.240...\n",
              "47    MULTIPOLYGON (((-68.92401 43.88541, -68.87478 ...\n",
              "48    MULTIPOLYGON (((-156.04965 19.78045, -156.0062...\n",
              "49    POLYGON ((-72.55611 42.86625, -72.53147 42.897...\n",
              "50    POLYGON ((-114.79968 32.59362, -114.80939 32.6...\n",
              "51    MULTIPOLYGON (((-71.63147 41.16668, -71.59334 ...\n",
              "Name: geometry, dtype: geometry"
            ]
          },
          "metadata": {},
          "execution_count": 16
        }
      ]
    },
    {
      "cell_type": "markdown",
      "source": [
        "This is actually how the geometry is represented in Python. You can think of a `geopandas` dataframe as an attribute table in ArcGIS."
      ],
      "metadata": {
        "id": "7sszoo_WYQW6"
      }
    },
    {
      "cell_type": "markdown",
      "source": [
        "### **Plotting Spatial Data**"
      ],
      "metadata": {
        "id": "Wcy5MxQ5YdYQ"
      }
    },
    {
      "cell_type": "markdown",
      "source": [
        "After your spatial data are read into the geodataframe, you can use this command to do a simple plot:\n",
        "\n",
        "`Geodataframe.plot()`\n",
        "\n",
        "There are several parameters you can add to the `plot()` command as well.\n",
        "\n",
        "Some of these additional parameters are:\n",
        "\n",
        "\n",
        "*   `figsize = (10,5)` - this will set the size of the figure. The first number represents the width of the figure and the second on represents the height, you can change them as you feel best.\n",
        "\n",
        "*   `color = 'white`, it will set the fill color of the polygon. If you choose `red` your polygons will be colored red and so on.\n",
        "\n",
        "*   `edgecolor = 'black'`, this sets the border of the polygons to a specific color. In this case its `black`, but you can also change it to any other color.\n",
        "\n",
        "\n",
        "\n",
        "\n"
      ],
      "metadata": {
        "id": "HxlmbjJPY63d"
      }
    },
    {
      "cell_type": "code",
      "source": [
        "states.plot(figsize = (15,10), color = 'blue', edgecolor = 'grey')"
      ],
      "metadata": {
        "colab": {
          "base_uri": "https://localhost:8080/",
          "height": 222
        },
        "id": "Jqlz-NASZnC1",
        "outputId": "37d52dcf-1ce5-446d-f47c-806f32661702"
      },
      "execution_count": 19,
      "outputs": [
        {
          "output_type": "execute_result",
          "data": {
            "text/plain": [
              "<matplotlib.axes._subplots.AxesSubplot at 0x7f4117348350>"
            ]
          },
          "metadata": {},
          "execution_count": 19
        },
        {
          "output_type": "display_data",
          "data": {
            "image/png": "[encoded data removed]",
            "text/plain": [
              "<Figure size 1080x720 with 1 Axes>"
            ]
          },
          "metadata": {
            "needs_background": "light"
          }
        }
      ]
    },
    {
      "cell_type": "markdown",
      "source": [
        "A `geopandas` GeoDataFrame is a subclass of `pandas` DataFrame, which means that all the methods in `pandas.DataFrame` apply to `geopandas.GeoDataFrame`.\n",
        "\n",
        "Let us try to filter out and slice the Geodataframe to pick a single state from all states in the U.S.\n",
        "\n"
      ],
      "metadata": {
        "id": "ZsI8C-JkbRPK"
      }
    },
    {
      "cell_type": "code",
      "source": [
        "CA = states[states.NAME == 'California']\n",
        "CA"
      ],
      "metadata": {
        "colab": {
          "base_uri": "https://localhost:8080/",
          "height": 197
        },
        "id": "lNn0zSDXbepe",
        "outputId": "14e3c8c1-39b8-45ef-f486-fb0c22b0bd79"
      },
      "execution_count": 20,
      "outputs": [
        {
          "output_type": "execute_result",
          "data": {
            "text/html": [
              "\n",
              "  <div id=\"df-e491eeb5-31a9-4001-a4e7-e7c8d77cb039\">\n",
              "    <div class=\"colab-df-container\">\n",
              "      <div>\n",
              "<style scoped>\n",
              "    .dataframe tbody tr th:only-of-type {\n",
              "        vertical-align: middle;\n",
              "    }\n",
              "\n",
              "    .dataframe tbody tr th {\n",
              "        vertical-align: top;\n",
              "    }\n",
              "\n",
              "    .dataframe thead th {\n",
              "        text-align: right;\n",
              "    }\n",
              "</style>\n",
              "<table border=\"1\" class=\"dataframe\">\n",
              "  <thead>\n",
              "    <tr style=\"text-align: right;\">\n",
              "      <th></th>\n",
              "      <th>STATEFP</th>\n",
              "      <th>STATENS</th>\n",
              "      <th>AFFGEOID</th>\n",
              "      <th>GEOID</th>\n",
              "      <th>STUSPS</th>\n",
              "      <th>NAME</th>\n",
              "      <th>LSAD</th>\n",
              "      <th>ALAND</th>\n",
              "      <th>AWATER</th>\n",
              "      <th>geometry</th>\n",
              "    </tr>\n",
              "  </thead>\n",
              "  <tbody>\n",
              "    <tr>\n",
              "      <th>12</th>\n",
              "      <td>06</td>\n",
              "      <td>01779778</td>\n",
              "      <td>0400000US06</td>\n",
              "      <td>06</td>\n",
              "      <td>CA</td>\n",
              "      <td>California</td>\n",
              "      <td>00</td>\n",
              "      <td>403503931312</td>\n",
              "      <td>20463871877</td>\n",
              "      <td>MULTIPOLYGON (((-118.59397 33.46720, -118.4847...</td>\n",
              "    </tr>\n",
              "  </tbody>\n",
              "</table>\n",
              "</div>\n",
              "      <button class=\"colab-df-convert\" onclick=\"convertToInteractive('df-e491eeb5-31a9-4001-a4e7-e7c8d77cb039')\"\n",
              "              title=\"Convert this dataframe to an interactive table.\"\n",
              "              style=\"display:none;\">\n",
              "        \n",
              "  <svg xmlns=\"http://www.w3.org/2000/svg\" height=\"24px\"viewBox=\"0 0 24 24\"\n",
              "       width=\"24px\">\n",
              "    <path d=\"M0 0h24v24H0V0z\" fill=\"none\"/>\n",
              "    <path d=\"M18.56 5.44l.94 2.06.94-2.06 2.06-.94-2.06-.94-.94-2.06-.94 2.06-2.06.94zm-11 1L8.5 8.5l.94-2.06 2.06-.94-2.06-.94L8.5 2.5l-.94 2.06-2.06.94zm10 10l.94 2.06.94-2.06 2.06-.94-2.06-.94-.94-2.06-.94 2.06-2.06.94z\"/><path d=\"M17.41 7.96l-1.37-1.37c-.4-.4-.92-.59-1.43-.59-.52 0-1.04.2-1.43.59L10.3 9.45l-7.72 7.72c-.78.78-.78 2.05 0 2.83L4 21.41c.39.39.9.59 1.41.59.51 0 1.02-.2 1.41-.59l7.78-7.78 2.81-2.81c.8-.78.8-2.07 0-2.86zM5.41 20L4 18.59l7.72-7.72 1.47 1.35L5.41 20z\"/>\n",
              "  </svg>\n",
              "      </button>\n",
              "      \n",
              "  <style>\n",
              "    .colab-df-container {\n",
              "      display:flex;\n",
              "      flex-wrap:wrap;\n",
              "      gap: 12px;\n",
              "    }\n",
              "\n",
              "    .colab-df-convert {\n",
              "      background-color: #E8F0FE;\n",
              "      border: none;\n",
              "      border-radius: 50%;\n",
              "      cursor: pointer;\n",
              "      display: none;\n",
              "      fill: #1967D2;\n",
              "      height: 32px;\n",
              "      padding: 0 0 0 0;\n",
              "      width: 32px;\n",
              "    }\n",
              "\n",
              "    .colab-df-convert:hover {\n",
              "      background-color: #E2EBFA;\n",
              "      box-shadow: 0px 1px 2px rgba(60, 64, 67, 0.3), 0px 1px 3px 1px rgba(60, 64, 67, 0.15);\n",
              "      fill: #174EA6;\n",
              "    }\n",
              "\n",
              "    [theme=dark] .colab-df-convert {\n",
              "      background-color: #3B4455;\n",
              "      fill: #D2E3FC;\n",
              "    }\n",
              "\n",
              "    [theme=dark] .colab-df-convert:hover {\n",
              "      background-color: #434B5C;\n",
              "      box-shadow: 0px 1px 3px 1px rgba(0, 0, 0, 0.15);\n",
              "      filter: drop-shadow(0px 1px 2px rgba(0, 0, 0, 0.3));\n",
              "      fill: #FFFFFF;\n",
              "    }\n",
              "  </style>\n",
              "\n",
              "      <script>\n",
              "        const buttonEl =\n",
              "          document.querySelector('#df-e491eeb5-31a9-4001-a4e7-e7c8d77cb039 button.colab-df-convert');\n",
              "        buttonEl.style.display =\n",
              "          google.colab.kernel.accessAllowed ? 'block' : 'none';\n",
              "\n",
              "        async function convertToInteractive(key) {\n",
              "          const element = document.querySelector('#df-e491eeb5-31a9-4001-a4e7-e7c8d77cb039');\n",
              "          const dataTable =\n",
              "            await google.colab.kernel.invokeFunction('convertToInteractive',\n",
              "                                                     [key], {});\n",
              "          if (!dataTable) return;\n",
              "\n",
              "          const docLinkHtml = 'Like what you see? Visit the ' +\n",
              "            '<a target=\"_blank\" href=https://colab.research.google.com/notebooks/data_table.ipynb>data table notebook</a>'\n",
              "            + ' to learn more about interactive tables.';\n",
              "          element.innerHTML = '';\n",
              "          dataTable['output_type'] = 'display_data';\n",
              "          await google.colab.output.renderOutput(dataTable, element);\n",
              "          const docLink = document.createElement('div');\n",
              "          docLink.innerHTML = docLinkHtml;\n",
              "          element.appendChild(docLink);\n",
              "        }\n",
              "      </script>\n",
              "    </div>\n",
              "  </div>\n",
              "  "
            ],
            "text/plain": [
              "   STATEFP  ...                                           geometry\n",
              "12      06  ...  MULTIPOLYGON (((-118.59397 33.46720, -118.4847...\n",
              "\n",
              "[1 rows x 10 columns]"
            ]
          },
          "metadata": {},
          "execution_count": 20
        }
      ]
    },
    {
      "cell_type": "code",
      "source": [
        "CA.plot()"
      ],
      "metadata": {
        "colab": {
          "base_uri": "https://localhost:8080/",
          "height": 283
        },
        "id": "71k6rAPSbmvC",
        "outputId": "73a12274-0d06-4b7e-f355-09edc62962f7"
      },
      "execution_count": 21,
      "outputs": [
        {
          "output_type": "execute_result",
          "data": {
            "text/plain": [
              "<matplotlib.axes._subplots.AxesSubplot at 0x7f4115c3c490>"
            ]
          },
          "metadata": {},
          "execution_count": 21
        },
        {
          "output_type": "display_data",
          "data": {
            "image/png": "[encoded data removed]",
            "text/plain": [
              "<Figure size 432x288 with 1 Axes>"
            ]
          },
          "metadata": {
            "needs_background": "light"
          }
        }
      ]
    },
    {
      "cell_type": "code",
      "source": [
        "AZ = states[states.NAME == 'Arizona']\n",
        "AZ"
      ],
      "metadata": {
        "colab": {
          "base_uri": "https://localhost:8080/",
          "height": 214
        },
        "id": "XWbHF9ILbrqm",
        "outputId": "9899ca0c-417e-49d9-88e1-2b605233f02a"
      },
      "execution_count": 23,
      "outputs": [
        {
          "output_type": "execute_result",
          "data": {
            "text/html": [
              "\n",
              "  <div id=\"df-da08d66c-31a5-41ff-9dda-d248619a39eb\">\n",
              "    <div class=\"colab-df-container\">\n",
              "      <div>\n",
              "<style scoped>\n",
              "    .dataframe tbody tr th:only-of-type {\n",
              "        vertical-align: middle;\n",
              "    }\n",
              "\n",
              "    .dataframe tbody tr th {\n",
              "        vertical-align: top;\n",
              "    }\n",
              "\n",
              "    .dataframe thead th {\n",
              "        text-align: right;\n",
              "    }\n",
              "</style>\n",
              "<table border=\"1\" class=\"dataframe\">\n",
              "  <thead>\n",
              "    <tr style=\"text-align: right;\">\n",
              "      <th></th>\n",
              "      <th>STATEFP</th>\n",
              "      <th>STATENS</th>\n",
              "      <th>AFFGEOID</th>\n",
              "      <th>GEOID</th>\n",
              "      <th>STUSPS</th>\n",
              "      <th>NAME</th>\n",
              "      <th>LSAD</th>\n",
              "      <th>ALAND</th>\n",
              "      <th>AWATER</th>\n",
              "      <th>geometry</th>\n",
              "    </tr>\n",
              "  </thead>\n",
              "  <tbody>\n",
              "    <tr>\n",
              "      <th>50</th>\n",
              "      <td>04</td>\n",
              "      <td>01779777</td>\n",
              "      <td>0400000US04</td>\n",
              "      <td>04</td>\n",
              "      <td>AZ</td>\n",
              "      <td>Arizona</td>\n",
              "      <td>00</td>\n",
              "      <td>294198551143</td>\n",
              "      <td>1027337603</td>\n",
              "      <td>POLYGON ((-114.79968 32.59362, -114.80939 32.6...</td>\n",
              "    </tr>\n",
              "  </tbody>\n",
              "</table>\n",
              "</div>\n",
              "      <button class=\"colab-df-convert\" onclick=\"convertToInteractive('df-da08d66c-31a5-41ff-9dda-d248619a39eb')\"\n",
              "              title=\"Convert this dataframe to an interactive table.\"\n",
              "              style=\"display:none;\">\n",
              "        \n",
              "  <svg xmlns=\"http://www.w3.org/2000/svg\" height=\"24px\"viewBox=\"0 0 24 24\"\n",
              "       width=\"24px\">\n",
              "    <path d=\"M0 0h24v24H0V0z\" fill=\"none\"/>\n",
              "    <path d=\"M18.56 5.44l.94 2.06.94-2.06 2.06-.94-2.06-.94-.94-2.06-.94 2.06-2.06.94zm-11 1L8.5 8.5l.94-2.06 2.06-.94-2.06-.94L8.5 2.5l-.94 2.06-2.06.94zm10 10l.94 2.06.94-2.06 2.06-.94-2.06-.94-.94-2.06-.94 2.06-2.06.94z\"/><path d=\"M17.41 7.96l-1.37-1.37c-.4-.4-.92-.59-1.43-.59-.52 0-1.04.2-1.43.59L10.3 9.45l-7.72 7.72c-.78.78-.78 2.05 0 2.83L4 21.41c.39.39.9.59 1.41.59.51 0 1.02-.2 1.41-.59l7.78-7.78 2.81-2.81c.8-.78.8-2.07 0-2.86zM5.41 20L4 18.59l7.72-7.72 1.47 1.35L5.41 20z\"/>\n",
              "  </svg>\n",
              "      </button>\n",
              "      \n",
              "  <style>\n",
              "    .colab-df-container {\n",
              "      display:flex;\n",
              "      flex-wrap:wrap;\n",
              "      gap: 12px;\n",
              "    }\n",
              "\n",
              "    .colab-df-convert {\n",
              "      background-color: #E8F0FE;\n",
              "      border: none;\n",
              "      border-radius: 50%;\n",
              "      cursor: pointer;\n",
              "      display: none;\n",
              "      fill: #1967D2;\n",
              "      height: 32px;\n",
              "      padding: 0 0 0 0;\n",
              "      width: 32px;\n",
              "    }\n",
              "\n",
              "    .colab-df-convert:hover {\n",
              "      background-color: #E2EBFA;\n",
              "      box-shadow: 0px 1px 2px rgba(60, 64, 67, 0.3), 0px 1px 3px 1px rgba(60, 64, 67, 0.15);\n",
              "      fill: #174EA6;\n",
              "    }\n",
              "\n",
              "    [theme=dark] .colab-df-convert {\n",
              "      background-color: #3B4455;\n",
              "      fill: #D2E3FC;\n",
              "    }\n",
              "\n",
              "    [theme=dark] .colab-df-convert:hover {\n",
              "      background-color: #434B5C;\n",
              "      box-shadow: 0px 1px 3px 1px rgba(0, 0, 0, 0.15);\n",
              "      filter: drop-shadow(0px 1px 2px rgba(0, 0, 0, 0.3));\n",
              "      fill: #FFFFFF;\n",
              "    }\n",
              "  </style>\n",
              "\n",
              "      <script>\n",
              "        const buttonEl =\n",
              "          document.querySelector('#df-da08d66c-31a5-41ff-9dda-d248619a39eb button.colab-df-convert');\n",
              "        buttonEl.style.display =\n",
              "          google.colab.kernel.accessAllowed ? 'block' : 'none';\n",
              "\n",
              "        async function convertToInteractive(key) {\n",
              "          const element = document.querySelector('#df-da08d66c-31a5-41ff-9dda-d248619a39eb');\n",
              "          const dataTable =\n",
              "            await google.colab.kernel.invokeFunction('convertToInteractive',\n",
              "                                                     [key], {});\n",
              "          if (!dataTable) return;\n",
              "\n",
              "          const docLinkHtml = 'Like what you see? Visit the ' +\n",
              "            '<a target=\"_blank\" href=https://colab.research.google.com/notebooks/data_table.ipynb>data table notebook</a>'\n",
              "            + ' to learn more about interactive tables.';\n",
              "          element.innerHTML = '';\n",
              "          dataTable['output_type'] = 'display_data';\n",
              "          await google.colab.output.renderOutput(dataTable, element);\n",
              "          const docLink = document.createElement('div');\n",
              "          docLink.innerHTML = docLinkHtml;\n",
              "          element.appendChild(docLink);\n",
              "        }\n",
              "      </script>\n",
              "    </div>\n",
              "  </div>\n",
              "  "
            ],
            "text/plain": [
              "   STATEFP  ...                                           geometry\n",
              "50      04  ...  POLYGON ((-114.79968 32.59362, -114.80939 32.6...\n",
              "\n",
              "[1 rows x 10 columns]"
            ]
          },
          "metadata": {},
          "execution_count": 23
        }
      ]
    },
    {
      "cell_type": "code",
      "source": [
        "AZ.plot()"
      ],
      "metadata": {
        "colab": {
          "base_uri": "https://localhost:8080/",
          "height": 283
        },
        "id": "UURO4Ljcbx4k",
        "outputId": "a2927a21-3b08-41ff-bedf-6c85c4b80e93"
      },
      "execution_count": 24,
      "outputs": [
        {
          "output_type": "execute_result",
          "data": {
            "text/plain": [
              "<matplotlib.axes._subplots.AxesSubplot at 0x7f4115b81cd0>"
            ]
          },
          "metadata": {},
          "execution_count": 24
        },
        {
          "output_type": "display_data",
          "data": {
            "image/png": "[encoded data removed]",
            "text/plain": [
              "<Figure size 432x288 with 1 Axes>"
            ]
          },
          "metadata": {
            "needs_background": "light"
          }
        }
      ]
    },
    {
      "cell_type": "markdown",
      "source": [
        "You can try to change the fill color of the polygon by using \n",
        "the `plot` function and adding the parameter `color = \"<colorname>\"`"
      ],
      "metadata": {
        "id": "utMAq3Cab3xd"
      }
    },
    {
      "cell_type": "code",
      "source": [
        "AZ.plot(color = \"red\")\n",
        "CA.plot(color = \"blue\")"
      ],
      "metadata": {
        "colab": {
          "base_uri": "https://localhost:8080/",
          "height": 531
        },
        "id": "_6-6YvPccGm_",
        "outputId": "722db992-b1fb-4183-c673-a670a14c23f5"
      },
      "execution_count": 32,
      "outputs": [
        {
          "output_type": "execute_result",
          "data": {
            "text/plain": [
              "<matplotlib.axes._subplots.AxesSubplot at 0x7f411543b250>"
            ]
          },
          "metadata": {},
          "execution_count": 32
        },
        {
          "output_type": "display_data",
          "data": {
            "image/png": "[encoded data removed]",
            "text/plain": [
              "<Figure size 432x288 with 1 Axes>"
            ]
          },
          "metadata": {
            "needs_background": "light"
          }
        },
        {
          "output_type": "display_data",
          "data": {
            "image/png": "[encoded data removed]",
            "text/plain": [
              "<Figure size 432x288 with 1 Axes>"
            ]
          },
          "metadata": {
            "needs_background": "light"
          }
        }
      ]
    },
    {
      "cell_type": "markdown",
      "source": [
        "Now, let's add our capital ono the map. We will be creating a `shapely.geometry.Point` class, and use Irvine's longitude and latitude to initalize the `Point` class, like this:"
      ],
      "metadata": {
        "id": "VIMGbRiCdBfH"
      }
    },
    {
      "cell_type": "code",
      "source": [
        "from shapely.geometry import Point\n",
        "IRV_coor = Point(-117.823059, 33.669445)\n",
        "irv = gpd.GeoSeries(IRV_coor)"
      ],
      "metadata": {
        "id": "lAzJbK8HdKNR"
      },
      "execution_count": 33,
      "outputs": []
    },
    {
      "cell_type": "code",
      "source": [
        "fig, ax = plt.subplots(1, 1)\n",
        "CA.plot(ax=ax, color=\"blue\")\n",
        "irv.plot(ax=ax,marker=\"*\",markersize=500,color=\"orange\")\n",
        "fig.suptitle(\"Irvine,California\")"
      ],
      "metadata": {
        "colab": {
          "base_uri": "https://localhost:8080/",
          "height": 312
        },
        "id": "CiLYm734daCZ",
        "outputId": "c2387c5b-9592-4089-fa7e-4933223b8e31"
      },
      "execution_count": 34,
      "outputs": [
        {
          "output_type": "execute_result",
          "data": {
            "text/plain": [
              "Text(0.5, 0.98, 'Irvine,California')"
            ]
          },
          "metadata": {},
          "execution_count": 34
        },
        {
          "output_type": "display_data",
          "data": {
            "image/png": "[encoded data removed]",
            "text/plain": [
              "<Figure size 432x288 with 1 Axes>"
            ]
          },
          "metadata": {
            "needs_background": "light"
          }
        }
      ]
    }
  ]
}