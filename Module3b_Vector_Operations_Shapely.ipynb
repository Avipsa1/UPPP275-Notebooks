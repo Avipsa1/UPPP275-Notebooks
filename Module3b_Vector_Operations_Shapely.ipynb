{
  "nbformat": 4,
  "nbformat_minor": 0,
  "metadata": {
    "colab": {
      "name": "Module3b_Vector_Operations_Shapely.ipynb",
      "provenance": [],
      "collapsed_sections": [],
      "include_colab_link": true
    },
    "kernelspec": {
      "name": "python3",
      "display_name": "Python 3"
    }
  },
  "cells": [
    {
      "cell_type": "markdown",
      "metadata": {
        "id": "view-in-github",
        "colab_type": "text"
      },
      "source": [
        "<a href=\"https://colab.research.google.com/github/Avipsa1/UPPP275-Notebooks/blob/main/Module3b_Vector_Operations_Shapely.ipynb\" target=\"_parent\"><img src=\"https://colab.research.google.com/assets/colab-badge.svg\" alt=\"Open In Colab\"/></a>"
      ]
    },
    {
      "cell_type": "markdown",
      "metadata": {
        "id": "s963SpSsAj0K"
      },
      "source": [
        " # Spatial Data Structure - Vector\n",
        " \n",
        " This lecture will introduce the second way to create and use vector data models.\n",
        "\n",
        " \n",
        "**Part II**: Code it with Shapely library.\n",
        "\n",
        "![alt text](http://www.public.asu.edu/~wenwenl1/gis322o/images/vector2.png)\n",
        "\n",
        "The most fundamental geometric objects are Points, Lines and Polygons which are the basic ingredients when working with spatial data in vector format. Python has a specific module called Shapely that can be used to create and work with Geometric Objects. There are many useful functionalities that you can do with Shapely such as:\n",
        "\n",
        "Create a Line or Polygon from a Collection of Point geometries\n",
        "Calculate areas/length/bounds etc. of input geometries\n",
        "Make geometric operations based on the input geometries such as Union, Difference, Distance etc.\n",
        "Make spatial queries between geometries such Intersects, Touches, Crosses, Within etc.\n",
        "Geometric Objects consist of coordinate tuples where:\n",
        "\n",
        "Point -object represents a single point in space. Points can be either two-dimensional (x, y) or three dimensional (x, y, z).\n",
        "LineString -object (i.e. a line) represents a sequence of points joined together to form a line. Hence, a line consist of a list of at least two coordinate tuples\n",
        "Polygon -object represents a filled area that consists of a list of at least three coordinate tuples that forms the outerior ring and a (possible) list of hole polygons.\n",
        "It is also possible to have a collection of geometric objects (e.g. Polygons with multiple parts):\n",
        "\n",
        "MultiPoint -object represents a collection of points and consists of a list of coordinate-tuples\n",
        "MultiLineString -object represents a collection of lines and consists of a list of line-like sequences\n",
        "MultiPolygon -object represents a collection of polygons that consists of a list of polygon-like sequences that construct from exterior ring and (possible) hole list tuples"
      ]
    },
    {
      "cell_type": "markdown",
      "metadata": {
        "id": "Lp5h0pFDZVV7"
      },
      "source": [
        "## Define a new point object using **Point class** defined in Shapely"
      ]
    },
    {
      "cell_type": "code",
      "metadata": {
        "id": "Zra5kQmSAkbh",
        "outputId": "ee43e82e-6447-4705-c56a-f9cbc41253a4",
        "colab": {
          "base_uri": "https://localhost:8080/",
          "height": 34
        }
      },
      "source": [
        "# Import necessary geometric objects from shapely module\n",
        "from shapely.geometry import Point, LineString, Polygon\n",
        "\n",
        "# Create Point geometric object(s) with coordinates\n",
        "point1 = Point(2.2, 4.2) # this is to create an instance of the Point class using coordinates. \n",
        "                         # A method of OOP - Object Oriented Programming\n",
        "\n",
        "point2 = Point(7.2, -25.1)\n",
        "\n",
        "point3 = Point(10.23, -5.456)\n",
        "\n",
        "point3D = Point(9.46, -5.76, 2.35)\n",
        "\n",
        "# What is the type of the point?\n",
        "point_type = type(point1)\n",
        "\n",
        "print(\"Point1 has type of: \", point_type)"
      ],
      "execution_count": null,
      "outputs": [
        {
          "output_type": "stream",
          "text": [
            "Point1 has type of:  <class 'shapely.geometry.point.Point'>\n"
          ],
          "name": "stdout"
        }
      ]
    },
    {
      "cell_type": "code",
      "metadata": {
        "id": "w-SnLPPACAMv",
        "outputId": "ff8016b1-7f71-45f1-bc23-c352c4b5d778",
        "colab": {
          "base_uri": "https://localhost:8080/",
          "height": 51
        }
      },
      "source": [
        "# Let's see what each point object looks like\n",
        "\n",
        "print(point2) \n",
        "\n",
        "print(point3D)"
      ],
      "execution_count": null,
      "outputs": [
        {
          "output_type": "stream",
          "text": [
            "POINT (7.2 -25.1)\n",
            "POINT Z (9.460000000000001 -5.76 2.35)\n"
          ],
          "name": "stdout"
        }
      ]
    },
    {
      "cell_type": "markdown",
      "metadata": {
        "id": "voc-fAk0ZfYv"
      },
      "source": [
        "## Attributes and functions of a **Point** class\n",
        "\n",
        "Point -object has some built-in attributes that can be accessed and also some useful functionalities. One of the most useful ones are the ability to extract the coordinates of a Point and calculate the Euclidian distance between points.\n",
        "\n",
        "Now let's see how to **extract coordinates from a Shapely Point object**\n",
        "\n",
        "There are a couple of ways to get the coordindates.\n",
        "\n",
        "Method 1: objectName.x objectName.y will give you the x and y coordinates\n",
        "\n",
        "Method 2: objectName.coords will give you a CoordinateSequence, we can then further extract coordinates from the CoordinateSequence using\n",
        "\n",
        "The seccond method is more useful when there are a series of points\n",
        "\n"
      ]
    },
    {
      "cell_type": "code",
      "metadata": {
        "id": "4FbDtXckY6zh",
        "outputId": "0a28e6a5-ddbb-4a9b-d2bc-5fd7cb1c5da4",
        "colab": {
          "base_uri": "https://localhost:8080/",
          "height": 136
        }
      },
      "source": [
        "# Each of these variables is an object, not a simple data type, such as a string. \n",
        "# So to access its coordinate value, we need to use a different way than when a point is represented by a list, as we introduced in the last lecture\n",
        "\n",
        "point1 = Point(2.2, 4.2)\n",
        "\n",
        "# First method:\n",
        "x = point1.x\n",
        "y = point1.y\n",
        "print(x)\n",
        "print(y)\n",
        "\n",
        "\n",
        "# Second method:\n",
        "coords = point1.coords  # use .coords to get its attributes\n",
        "\n",
        "# so what is the type of coords?\n",
        "print(\"Type of 'coords' is: \", type(coords)) # it is a CoordinateSequence under the module shapely.coords.CoordinateSequence\n",
        "\n",
        "# now let's see how to extract actual coordinates from the CoordinateSequence\n",
        "xy = coords.xy  #this xy is a tuple where x and y coordinates are stored inside of two numpy arrays \n",
        "print(\"Type of 'xy' is: \", type(xy))\n",
        "print(\"xy is: \", xy)\n",
        "x = xy[0][0]\n",
        "y = xy[1][0]\n",
        "print(x)\n",
        "print(y)"
      ],
      "execution_count": null,
      "outputs": [
        {
          "output_type": "stream",
          "text": [
            "2.2\n",
            "4.2\n",
            "Type of 'coords' is:  <class 'shapely.coords.CoordinateSequence'>\n",
            "Type of 'xy' is:  <class 'tuple'>\n",
            "xy is:  (array('d', [2.2]), array('d', [4.2]))\n",
            "2.2\n",
            "4.2\n"
          ],
          "name": "stdout"
        }
      ]
    },
    {
      "cell_type": "code",
      "metadata": {
        "id": "-1Co2nrVcjA-"
      },
      "source": [
        ""
      ],
      "execution_count": null,
      "outputs": []
    },
    {
      "cell_type": "markdown",
      "metadata": {
        "id": "z7sTPmCxcyGz"
      },
      "source": [
        "## Distance calculation between two points\n",
        "In last lecture, we know how to write a distance function and call it to calculate the distance between two points. This function is also available in Shapely. Let's see how to use it."
      ]
    },
    {
      "cell_type": "code",
      "metadata": {
        "id": "ifIJjJw1dAAs",
        "outputId": "03094db9-0c03-4542-bad6-ec0e2fc72b9c",
        "colab": {
          "base_uri": "https://localhost:8080/",
          "height": 51
        }
      },
      "source": [
        "# Import necessary geometric objects from shapely module\n",
        "from shapely.geometry import Point, LineString, Polygon\n",
        "\n",
        "# Define two shapely points\n",
        "point1 = Point(2.2, 4.2) # this is to create an instance of the Point class using coordinates. \n",
        "                         # A method of OOP - Object Oriented Programming\n",
        "point2 = Point(7.2, -25.1)\n",
        "\n",
        "# Call distance function\n",
        "dis = point1.distance(point2)\n",
        "\n",
        "\n",
        "print(\"Distance between the points is {0:.2f} decimal degrees\".format(dis)) # this is another way of formatting output, equivalent to:\n",
        "print(\"Distance between the points is %.2f decimal degrees\" % (dis)) "
      ],
      "execution_count": null,
      "outputs": [
        {
          "output_type": "stream",
          "text": [
            "Distance between the points is 29.72 decimal degrees\n",
            "Distance between the points is 29.72 decimal degrees\n"
          ],
          "name": "stdout"
        }
      ]
    },
    {
      "cell_type": "code",
      "metadata": {
        "id": "SqgQX_t-dJok"
      },
      "source": [
        ""
      ],
      "execution_count": null,
      "outputs": []
    },
    {
      "cell_type": "markdown",
      "metadata": {
        "id": "b9Hkcqrpd3Ek"
      },
      "source": [
        "## LineString (Polyline)\n",
        "\n",
        "Creating a LineString -object is fairly similar to how Point is created. Now instead using a single coordinate-tuple we can construct the line using either a list of shapely Point -objects or pass coordinate-tuples:"
      ]
    },
    {
      "cell_type": "code",
      "metadata": {
        "id": "gfpfsQiXd8CL",
        "outputId": "1fc18302-7578-4751-d8bd-397b09674770",
        "colab": {
          "base_uri": "https://localhost:8080/",
          "height": 68
        }
      },
      "source": [
        "# Create a LineString from our Point objects\n",
        "line = LineString([point1, point2, point3])\n",
        "\n",
        "\n",
        "# It is also possible to use coordinate tuples having the same outcome\n",
        "line2 = LineString([(2.2, 4.2), (7.2, -25.1), (10.23, -5.456)])\n",
        "\n",
        "print(line)\n",
        "print(line2)\n",
        "print(type(line))"
      ],
      "execution_count": null,
      "outputs": [
        {
          "output_type": "stream",
          "text": [
            "LINESTRING (2.2 4.2, 7.2 -25.1, 10.23 -5.456)\n",
            "LINESTRING (2.2 4.2, 7.2 -25.1, 10.23 -5.456)\n",
            "<class 'shapely.geometry.linestring.LineString'>\n"
          ],
          "name": "stdout"
        }
      ]
    },
    {
      "cell_type": "code",
      "metadata": {
        "id": "l1m13oHEeEER"
      },
      "source": [
        ""
      ],
      "execution_count": null,
      "outputs": []
    },
    {
      "cell_type": "markdown",
      "metadata": {
        "id": "VrsNXLt4ecrZ"
      },
      "source": [
        "## Attributes and functions of LineString\n",
        "\n",
        "LineString -object has many useful built-in attributes and functionalities. It is for instance possible to extract the coordinates or the length of a LineString (line), calculate the centroid of the line, create points along the line at specific distance, calculate the closest distance from a line to specified Point and simplify the geometry. See full list of functionalities from [Shapely documentation](https://shapely.readthedocs.io/en/latest/). Here, we go through a few of them.\n"
      ]
    },
    {
      "cell_type": "markdown",
      "metadata": {
        "id": "TUPrV5_JhdlZ"
      },
      "source": [
        "### Get x and y coordinates of the LineString"
      ]
    },
    {
      "cell_type": "code",
      "metadata": {
        "id": "QDggl7lLeevd",
        "outputId": "21316d7b-2cd9-407c-df25-da1cdd448437",
        "colab": {
          "base_uri": "https://localhost:8080/",
          "height": 105
        }
      },
      "source": [
        "# Get x and y coordinates of the line\n",
        "lxy = line.xy\n",
        "\n",
        "print(\"LineXY: \", lxy)\n",
        "# (array('d', [2.2, 7.2, 9.26]), array('d', [4.2, -25.1, -2.456]))\n",
        "\n",
        "# We can see that the coordinates are again stored as a numpy arrays where first array includes all x-coordinates and the second all the y-coordinates respectively.\n",
        "# We can extract only x or y coordinates by referring to those arrays as follows:\n",
        "\n",
        "lx = lxy[0] # extract all the x coordinatesm this will return a numpy array\n",
        "ly = lxy[1] # extract all the y coordinatesm this will also return a numpy array\n",
        "\n",
        "print(\"Xcoords: \", lx)\n",
        "print(\"Ycoords: \", ly)\n",
        "\n",
        "# We can create a list of Point objects from lx and ly\n",
        "points = [] # create an empty list\n",
        "\n",
        "for i in range(len(lx)): # go through each coordinate in lx\n",
        "  pi = Point(lx[i],ly[i]) # get corresponding x and y coordinates and create a shapely point from them\n",
        "  points.append(pi) # add the point object to the 'points' list\n",
        "\n",
        "print(points) \n",
        "# Points will look like\n",
        "# [<shapely.geometry.point.Point object at 0x7f7403694c50>, <shapely.geometry.point.Point object at 0x7f740369c2e8>, <shapely.geometry.point.Point object at 0x7f740369c5f8>]\n",
        "# so it is a list of three shapely points."
      ],
      "execution_count": null,
      "outputs": [
        {
          "output_type": "stream",
          "text": [
            "LineXY:  (array('d', [2.2, 7.2, 10.23]), array('d', [4.2, -25.1, -5.456]))\n",
            "Xcoords:  array('d', [2.2, 7.2, 10.23])\n",
            "Ycoords:  array('d', [4.2, -25.1, -5.456])\n",
            "[<shapely.geometry.point.Point object at 0x7f3d7cdeecc0>, <shapely.geometry.point.Point object at 0x7f3d7cdeed68>, <shapely.geometry.point.Point object at 0x7f3d7cdeeda0>]\n"
          ],
          "name": "stdout"
        }
      ]
    },
    {
      "cell_type": "code",
      "metadata": {
        "id": "3wMFeailgDjD"
      },
      "source": [
        ""
      ],
      "execution_count": null,
      "outputs": []
    },
    {
      "cell_type": "markdown",
      "metadata": {
        "id": "rJCIRJ9bhdCB"
      },
      "source": [
        "### Get length of the lineString\n",
        "\n",
        "In last lecture, we exercised together on how to create a function to calculate the length of a polyline. Shapely has provided this function (as an **attribute .length**) as well. Below let's see how to obtain the length value using shapely."
      ]
    },
    {
      "cell_type": "code",
      "metadata": {
        "id": "AQCqzr_vhz99",
        "outputId": "ac23d5a4-3078-4ea9-d27e-5e19dc100949",
        "colab": {
          "base_uri": "https://localhost:8080/",
          "height": 34
        }
      },
      "source": [
        "# Get the lenght of the line\n",
        "l_length = line.length\n",
        "\n",
        "# So it is simple and easy!\n",
        "\n",
        "print(l_length)"
      ],
      "execution_count": null,
      "outputs": [
        {
          "output_type": "stream",
          "text": [
            "49.59986808891276\n"
          ],
          "name": "stdout"
        }
      ]
    },
    {
      "cell_type": "markdown",
      "metadata": {
        "id": "c0FXwZ90iP9a"
      },
      "source": [
        "## Polygon\n",
        "Creating a Polygon -object continues the same logic of how Point and LineString were created but Polygon object only accepts coordinate-tuples as input. Polygon needs at least three coordinate-tuples:"
      ]
    },
    {
      "cell_type": "code",
      "metadata": {
        "id": "GIUQicH_iRUr",
        "outputId": "a58e19f6-44f0-4f16-b06c-8a9cd7db3463",
        "colab": {
          "base_uri": "https://localhost:8080/",
          "height": 102
        }
      },
      "source": [
        "# Create a Polygon from the coordinates\n",
        "# Each point is represented using a tuple (x,y)\n",
        "# All the points are put in a list [(x1,y1), (x2,y2), (x3,y3)]\n",
        "\n",
        "# Note: we do not have to add the first point to the end of the list to close the loop here\n",
        "###################################################\n",
        "######## Method 1 ##################################\n",
        "#####################################################\n",
        "poly = Polygon([(2.2, 4.2), (7.2, -25.1), (9.26, -2.456)])\n",
        "\n",
        "\n",
        "###################################################\n",
        "######## Method 2  ##################################\n",
        "#####################################################\n",
        "# We can also put the points in a list of list in the format of\n",
        "# [[x1,y1], [x2,y2], [x3,y3]]\n",
        "points = [point1, point2, point3] # use previously defined points\n",
        "\n",
        "# Next, we will convert it to the format of [[x1,y1], [x2,y2], [x3,y3]]\n",
        "points_list = []  # define an empty list\n",
        "for i in points:\n",
        "  point = [i.x, i.y] # convert a shapely point object i to a list [x, y]\n",
        "  points_list.append(point) # add this new point to the points_list\n",
        "\n",
        "poly2 = Polygon(points_list) #create a polygon object using this points_list\n",
        "\n",
        "# Geometry type can be accessed as a String\n",
        "poly_type = poly.geom_type\n",
        "\n",
        "# Using the Python's type function gives the type in a different format\n",
        "poly_type2 = type(poly)\n",
        "\n",
        "# Let's see how our Polygon looks like\n",
        "print(\"Polygon 'poly'  created using method1:\", poly)\n",
        "# POLYGON ((2.2 4.2, 7.2 -25.1, 9.26 -2.456, 2.2 4.2))\n",
        "\n",
        "print(\"Polygon 'poly2' created using method2:\", poly)\n",
        "print(poly2)\n",
        "# POLYGON ((2.2 4.2, 7.2 -25.1, 9.26 -2.456, 2.2 4.2))\n",
        "\n",
        "print(\"Geometry type as text:\", poly_type)\n",
        "#Geometry type as text: Polygon\n",
        "\n",
        "print(\"Geometry how Python shows it:\", poly_type2)\n",
        "#Geometry how Python shows it: <class 'shapely.geometry.polygon.Polygon'>"
      ],
      "execution_count": null,
      "outputs": [
        {
          "output_type": "stream",
          "text": [
            "Polygon 'poly'  created using method1: POLYGON ((2.2 4.2, 7.2 -25.1, 9.26 -2.456, 2.2 4.2))\n",
            "Polygon 'poly2' created using method2: POLYGON ((2.2 4.2, 7.2 -25.1, 9.26 -2.456, 2.2 4.2))\n",
            "POLYGON ((2.2 4.2, 7.2 -25.1, 10.23 -5.456, 2.2 4.2))\n",
            "Geometry type as text: Polygon\n",
            "Geometry how Python shows it: <class 'shapely.geometry.polygon.Polygon'>\n"
          ],
          "name": "stdout"
        }
      ]
    },
    {
      "cell_type": "markdown",
      "metadata": {
        "id": "FBPxUJpLlxKx"
      },
      "source": [
        "## Attributes and functions of a Shapely Polygon\n",
        "\n",
        "We can again access different attributes that are really useful such as area, centroid, bounding box, exterior, and exterior-length of the Polygon\n"
      ]
    },
    {
      "cell_type": "code",
      "metadata": {
        "id": "v2ezRwfJl1Av"
      },
      "source": [
        "# Get the centroid of the Polygon\n",
        "poly_centroid = poly.centroid\n",
        "\n",
        "# Get the area of the Polygon\n",
        "poly_area = poly.area\n",
        "\n",
        "# Get the bounds of the Polygon (i.e. bounding box)\n",
        "poly_bbox = poly.bounds\n",
        "\n",
        "# Get the exterior of the Polygon\n",
        "poly_ext = poly.exterior\n",
        "\n",
        "# Get the length of the exterior\n",
        "poly_ext_length = poly_ext.length"
      ],
      "execution_count": null,
      "outputs": []
    },
    {
      "cell_type": "code",
      "metadata": {
        "id": "p_SpfUfXmZoy",
        "outputId": "e60fc78f-e762-4642-95e1-9135feaff2cb",
        "colab": {
          "base_uri": "https://localhost:8080/",
          "height": 102
        }
      },
      "source": [
        "# Check their values\n",
        "\n",
        "print(\"Poly centroid: \", poly_centroid)\n",
        "\n",
        "print(\"Poly Area: \", poly_area)\n",
        "\n",
        "print(\"Poly Bounding Box: \", poly_bbox)\n",
        "\n",
        "print(\"Poly Exterior: \", poly_ext)\n",
        "\n",
        "print(\"Poly Exterior Length: \", poly_ext_length)"
      ],
      "execution_count": null,
      "outputs": [
        {
          "output_type": "stream",
          "text": [
            "Poly centroid:  POINT (6.22 -7.785333333333334)\n",
            "Poly Area:  86.78900000000002\n",
            "Poly Bounding Box:  (2.2, -25.1, 9.26, 4.2)\n",
            "Poly Exterior:  LINEARRING (2.2 4.2, 7.2 -25.1, 9.26 -2.456, 2.2 4.2)\n",
            "Poly Exterior Length:  62.16395199996553\n"
          ],
          "name": "stdout"
        }
      ]
    },
    {
      "cell_type": "code",
      "metadata": {
        "id": "QRclKWn_0V6y",
        "outputId": "f9d5328d-953a-4a02-ae88-312fbbc8bca9",
        "colab": {
          "base_uri": "https://localhost:8080/",
          "height": 119
        }
      },
      "source": [
        "# get points in a polygon\n",
        "\n",
        "# Component rings are accessed via exterior and interiors properties.\n",
        "\n",
        "print(\"Exterior:\")\n",
        "\n",
        "poly_ext = poly.exterior\n",
        "\n",
        "for pt in poly_ext.coords:\n",
        "  print(pt[0], pt[1])\n",
        "\n",
        "print(\"Interior:\")\n",
        "\n",
        "poly_int = poly.interiors\n",
        "\n",
        "for pt in poly_int:\n",
        "  print(pt)"
      ],
      "execution_count": null,
      "outputs": [
        {
          "output_type": "stream",
          "text": [
            "Exterior:\n",
            "2.2 4.2\n",
            "7.2 -25.1\n",
            "9.26 -2.456\n",
            "2.2 4.2\n",
            "Interior:\n"
          ],
          "name": "stdout"
        }
      ]
    },
    {
      "cell_type": "markdown",
      "metadata": {
        "id": "pCFian7rmHG3"
      },
      "source": [
        ""
      ]
    },
    {
      "cell_type": "code",
      "metadata": {
        "id": "UigSbkRz08i2"
      },
      "source": [
        ""
      ],
      "execution_count": null,
      "outputs": []
    }
  ]
}