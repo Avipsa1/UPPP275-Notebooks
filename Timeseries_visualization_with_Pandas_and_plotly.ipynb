{
  "nbformat": 4,
  "nbformat_minor": 0,
  "metadata": {
    "colab": {
      "name": "Timeseries visualization with Pandas and plotly.ipynb",
      "provenance": [],
      "collapsed_sections": [],
      "authorship_tag": "ABX9TyPqbiel3dJ4Dlthq0EJ4VUT",
      "include_colab_link": true
    },
    "kernelspec": {
      "name": "python3",
      "display_name": "Python 3"
    },
    "language_info": {
      "name": "python"
    }
  },
  "cells": [
    {
      "cell_type": "markdown",
      "metadata": {
        "id": "view-in-github",
        "colab_type": "text"
      },
      "source": [
        "<a href=\"https://colab.research.google.com/github/Avipsa1/UPPP275-Notebooks/blob/main/Timeseries_visualization_with_Pandas_and_plotly.ipynb\" target=\"_parent\"><img src=\"https://colab.research.google.com/assets/colab-badge.svg\" alt=\"Open In Colab\"/></a>"
      ]
    },
    {
      "cell_type": "code",
      "source": [
        "import pandas as pd\n",
        "import numpy as np\n",
        "import matplotlib.pyplot as plt"
      ],
      "metadata": {
        "id": "qSffZ0pQUAzR"
      },
      "execution_count": null,
      "outputs": []
    },
    {
      "cell_type": "markdown",
      "source": [
        "Let us look at a timeseries dataset. The data set includes country-wide totals of electricity consumption, wind power production, and solar power production for 2006-2017.\n",
        "\n",
        "Electricity production and consumption are reported as daily totals in gigawatt-hours (GWh). The columns of the data file are:\n",
        "\n",
        "* Date — The date (yyyy-mm-dd format)\n",
        "* Consumption — Electricity consumption in GWh\n",
        "* Wind — Wind power production in GWh\n",
        "* Solar — Solar power production in GWh\n",
        "* Wind+Solar — Sum of wind and solar power production in GWh"
      ],
      "metadata": {
        "id": "w0MAZLN5U_vS"
      }
    },
    {
      "cell_type": "code",
      "source": [
        "opsd_daily = pd.read_csv('opsd_germany_daily.csv')\n",
        "opsd_daily.shape"
      ],
      "metadata": {
        "id": "eamaQ6LmVIip"
      },
      "execution_count": null,
      "outputs": []
    },
    {
      "cell_type": "markdown",
      "source": [
        "The DataFrame has 4383 rows, covering the period from January 1, 2006 through December 31, 2017. To see what the data looks like, let’s use the head() and tail() methods to display the first three and last three rows."
      ],
      "metadata": {
        "id": "FNo5D23YVSns"
      }
    },
    {
      "cell_type": "code",
      "source": [
        "opsd_daily.head(3)"
      ],
      "metadata": {
        "id": "r9hCkh_VVUnv"
      },
      "execution_count": null,
      "outputs": []
    },
    {
      "cell_type": "code",
      "source": [
        "opsd_daily.tail(3)"
      ],
      "metadata": {
        "id": "W-ZXQWOzVbQ6"
      },
      "execution_count": null,
      "outputs": []
    },
    {
      "cell_type": "markdown",
      "source": [
        "Next, let’s check out the data types of each column."
      ],
      "metadata": {
        "id": "Ip6A9NonVd46"
      }
    },
    {
      "cell_type": "code",
      "source": [
        "opsd_daily.dtypes"
      ],
      "metadata": {
        "id": "E-FDVqD3Vfsf"
      },
      "execution_count": null,
      "outputs": []
    },
    {
      "cell_type": "markdown",
      "source": [
        "Let us convert the Date column to a timestamp"
      ],
      "metadata": {
        "id": "ytSpPHkWVw-V"
      }
    },
    {
      "cell_type": "code",
      "source": [
        "opsd_daily['Date'] = pd.to_datetime(opsd_daily.Date, format='%Y-%m-%d')\n",
        "opsd_daily.dtypes"
      ],
      "metadata": {
        "id": "Kd0YPh_kVuyp"
      },
      "execution_count": null,
      "outputs": []
    },
    {
      "cell_type": "markdown",
      "source": [
        "Now that the Date column is the correct data type, let’s set it as the DataFrame’s index."
      ],
      "metadata": {
        "id": "OGyPGIMNVimQ"
      }
    },
    {
      "cell_type": "code",
      "source": [
        "opsd_daily = opsd_daily.set_index('Date')\n",
        "opsd_daily.head(3)"
      ],
      "metadata": {
        "id": "Ep9OLadRWC1m"
      },
      "execution_count": null,
      "outputs": []
    },
    {
      "cell_type": "code",
      "source": [
        "opsd_daily.index"
      ],
      "metadata": {
        "id": "0KpDa6xnWHFV"
      },
      "execution_count": null,
      "outputs": []
    },
    {
      "cell_type": "code",
      "source": [
        "# Add columns with year, month, and weekday name\n",
        "opsd_daily['Year'] = opsd_daily.index.year\n",
        "opsd_daily['Month'] = opsd_daily.index.month\n",
        "opsd_daily['Weekday'] = opsd_daily.index.weekday\n",
        "# Display a random sampling of 5 rows\n",
        "opsd_daily.sample(5, random_state=0)"
      ],
      "metadata": {
        "id": "X0cDFm8zWLwK"
      },
      "execution_count": null,
      "outputs": []
    },
    {
      "cell_type": "markdown",
      "source": [
        "Let us select data for a single day using a string such as '2017-08-10'"
      ],
      "metadata": {
        "id": "TyXmrs8SXBDg"
      }
    },
    {
      "cell_type": "code",
      "source": [
        "opsd_daily.loc['2017-08-10']"
      ],
      "metadata": {
        "id": "44iDkc_oWThU"
      },
      "execution_count": null,
      "outputs": []
    },
    {
      "cell_type": "markdown",
      "source": [
        "We can also select a slice of days, such as '2014-01-20':'2014-01-22'. As with regular label-based indexing with loc, the slice is inclusive of both endpoints."
      ],
      "metadata": {
        "id": "1ZZb-vQmXG-u"
      }
    },
    {
      "cell_type": "code",
      "source": [
        "opsd_daily.loc['2015-01-25':'2015-01-29']"
      ],
      "metadata": {
        "id": "z1_UI8TBXHr5"
      },
      "execution_count": null,
      "outputs": []
    },
    {
      "cell_type": "markdown",
      "source": [
        "Now let us try to visulaize our timeseries data"
      ],
      "metadata": {
        "id": "wbVYGP4yXSj7"
      }
    },
    {
      "cell_type": "code",
      "source": [
        "import matplotlib.pyplot as plt\n",
        "# Display figures inline in Jupyter notebook\n",
        "import seaborn as sns\n",
        "# Use seaborn style defaults and set the default figure size\n",
        "sns.set(rc={'figure.figsize':(11, 4)})"
      ],
      "metadata": {
        "id": "t06k54dYXVC1"
      },
      "execution_count": null,
      "outputs": []
    },
    {
      "cell_type": "markdown",
      "source": [
        "Let’s create a line plot of the full time series of Germany’s daily electricity consumption, using the DataFrame’s plot() method."
      ],
      "metadata": {
        "id": "-bOpjmloXbM3"
      }
    },
    {
      "cell_type": "code",
      "source": [
        "opsd_daily['Consumption'].plot(linewidth=0.5);"
      ],
      "metadata": {
        "id": "VA5KeJbqXba3"
      },
      "execution_count": null,
      "outputs": []
    },
    {
      "cell_type": "markdown",
      "source": [
        "We can see that the plot() method has automatically chosen every two years as the xlabels. However, with so many data points, the line plot is crowded and hard to read. Let’s plot the data as dots instead, and also look at the Solar and Wind time series."
      ],
      "metadata": {
        "id": "KiDY_Cg6XiNP"
      }
    },
    {
      "cell_type": "code",
      "source": [
        "cols_plot = ['Consumption', 'Solar', 'Wind']\n",
        "axes = opsd_daily[cols_plot].plot(marker='.', alpha=0.5, linestyle='None', figsize=(11, 9), subplots=True)\n",
        "for ax in axes:\n",
        "    ax.set_ylabel('Daily Totals (GWh)')"
      ],
      "metadata": {
        "id": "6FR0BdLoXqqe"
      },
      "execution_count": null,
      "outputs": []
    },
    {
      "cell_type": "markdown",
      "source": [
        "We can already see some interesting patterns emerge:\n",
        "\n",
        "* Electricity consumption is highest in winter, presumably due to electric heating and increased lighting usage, and lowest in summer.\n",
        "* Electricity consumption appears to split into two clusters — one with oscillations centered roughly around 1400 GWh, and another with fewer and more scattered data points, centered roughly around 1150 GWh. We might guess that these clusters correspond with weekdays and weekends, and we will investigate this further shortly.\n",
        "* Solar power production is highest in summer, when sunlight is most abundant, and lowest in winter.\n",
        "* Wind power production is highest in winter, presumably due to stronger winds and more frequent storms, and lowest in summer.\n",
        "* There appears to be a strong increasing trend in wind power production over the years."
      ],
      "metadata": {
        "id": "OxSEzpEQXwq_"
      }
    },
    {
      "cell_type": "markdown",
      "source": [
        "The plot above suggests there may be some weekly seasonality in Germany’s electricity consumption, corresponding with weekdays and weekends. Let’s plot the time series in a single year to investigate further"
      ],
      "metadata": {
        "id": "Iryk4E-MX8_Y"
      }
    },
    {
      "cell_type": "code",
      "source": [
        "ax = opsd_daily.loc['2017', 'Consumption'].plot(color = \"green\")\n",
        "ax.set_ylabel('Daily Consumption (GWh)');"
      ],
      "metadata": {
        "id": "RO3skq6cX9iP"
      },
      "execution_count": null,
      "outputs": []
    },
    {
      "cell_type": "markdown",
      "source": [
        "Now we can clearly see the weekly oscillations. There is a sharp drop in electricity consumption in early January and late December, during the holidays.\n",
        "\n",
        "Let’s zoom in further and look at just January and February."
      ],
      "metadata": {
        "id": "q8kzyCEGYDB1"
      }
    },
    {
      "cell_type": "code",
      "source": [
        "ax = opsd_daily.loc['2017-01':'2017-02', 'Consumption'].plot(marker='*', linestyle='-', color = \"purple\")\n",
        "ax.set_ylabel('Daily Consumption (GWh)');"
      ],
      "metadata": {
        "id": "ZbnE06DeYNAD"
      },
      "execution_count": null,
      "outputs": []
    },
    {
      "cell_type": "markdown",
      "source": [
        "Let us format the dates on the x-asix to make them more readable"
      ],
      "metadata": {
        "id": "eASntdg9YiCX"
      }
    },
    {
      "cell_type": "code",
      "source": [
        "import matplotlib.dates as mdates\n",
        "\n",
        "fig, ax = plt.subplots()\n",
        "ax.plot(opsd_daily.loc['2017-01':'2017-02', 'Consumption'], marker='*', linestyle='-', color = 'purple')\n",
        "ax.set_ylabel('Daily Consumption (GWh)')\n",
        "ax.set_title('Jan-Feb 2017 Electricity Consumption')\n",
        "# Set x-axis major ticks to weekly interval, on Mondays\n",
        "ax.xaxis.set_major_locator(mdates.WeekdayLocator(byweekday=mdates.MONDAY))\n",
        "# Format x-tick labels as 3-letter month name and day number\n",
        "ax.xaxis.set_major_formatter(mdates.DateFormatter('%b %d'));"
      ],
      "metadata": {
        "id": "573aPVAoYlJg"
      },
      "execution_count": null,
      "outputs": []
    },
    {
      "cell_type": "markdown",
      "source": [
        "Next, let’s further explore the seasonality of our data with box plots, using seaborn’s boxplot() function to group the data by different time periods and display the distributions for each group. We’ll first group the data by month, to visualize yearly seasonality."
      ],
      "metadata": {
        "id": "6emX3lnKYtk5"
      }
    },
    {
      "cell_type": "code",
      "source": [
        "fig, axes = plt.subplots(3, 1, figsize=(11, 10), sharex=True)\n",
        "for name, ax in zip(['Consumption', 'Solar', 'Wind'], axes):\n",
        "  sns.boxplot(data=opsd_daily, x='Month', y=name, ax=ax)\n",
        "  ax.set_ylabel('GWh')\n",
        "  ax.set_title(name)\n",
        "# Remove the automatic x-axis label from all but the bottom subplot\n",
        "if ax != axes[-1]:\n",
        "    ax.set_xlabel('') "
      ],
      "metadata": {
        "id": "L3N_nP8KYuOA"
      },
      "execution_count": null,
      "outputs": []
    },
    {
      "cell_type": "markdown",
      "source": [
        "Next, let’s group the electricity consumption time series by day of the week, to explore weekly seasonality."
      ],
      "metadata": {
        "id": "yi9vhb2lY-5f"
      }
    },
    {
      "cell_type": "code",
      "source": [
        "sns.boxplot(data=opsd_daily, x='Weekday', y='Consumption');"
      ],
      "metadata": {
        "id": "n2fblD9TY_am"
      },
      "execution_count": null,
      "outputs": []
    },
    {
      "cell_type": "markdown",
      "source": [
        "Resampling timeseries data: It is often useful to resample our time series data to a lower or higher frequency. Resampling to a lower frequency (downsampling) usually involves an aggregation operation — for example, computing monthly sales totals from daily data. Resampling to a higher frequency (upsampling) is less common and often involves interpolation or other data filling method — for example, interpolating hourly weather data to 10 minute intervals for input to a scientific model.\n",
        "\n",
        "We use the DataFrame’s resample() method, which splits the DatetimeIndex into time bins and groups the data by time bin. We can then apply an aggregation method such as mean(), median(), sum(), etc., to the data group for each time bin."
      ],
      "metadata": {
        "id": "nO2CFOzQZxCg"
      }
    },
    {
      "cell_type": "code",
      "source": [
        "# Specify the data columns we want to include (i.e. exclude Year, Month, Weekday Name)\n",
        "data_columns = ['Consumption', 'Wind', 'Solar', 'Wind+Solar']\n",
        "# Resample to weekly frequency, aggregating with mean\n",
        "opsd_weekly_mean = opsd_daily[data_columns].resample('W').mean()\n",
        "opsd_weekly_mean.head(3)"
      ],
      "metadata": {
        "id": "6dHKXWwTaARz"
      },
      "execution_count": null,
      "outputs": []
    },
    {
      "cell_type": "markdown",
      "source": [
        "Since we downsampled - the weekly time series has 1/7 as many data points as the daily time series. We can confirm this by comparing the number of rows of the two DataFrames."
      ],
      "metadata": {
        "id": "D7I9pINjaJmE"
      }
    },
    {
      "cell_type": "code",
      "source": [
        "print(opsd_daily.shape[0])\n",
        "print(opsd_weekly_mean.shape[0])"
      ],
      "metadata": {
        "id": "VbyUFMAkaFYd"
      },
      "execution_count": null,
      "outputs": []
    },
    {
      "cell_type": "code",
      "source": [
        "# Start and end of the date range to extract\n",
        "start, end = '2017-01', '2017-06'\n",
        "# Plot daily and weekly resampled time series together\n",
        "fig, ax = plt.subplots()\n",
        "ax.plot(opsd_daily.loc[start:end, 'Solar'], marker='.', linestyle='-',color = 'green', linewidth=0.5, label='Daily')\n",
        "ax.plot(opsd_weekly_mean.loc[start:end, 'Solar'], marker='o', markersize=8, color = 'brown', linestyle='-', label='Weekly Mean Resample')\n",
        "ax.set_ylabel('Solar Production (GWh)')\n",
        "ax.legend();"
      ],
      "metadata": {
        "id": "b9vFBd1QaPxm"
      },
      "execution_count": null,
      "outputs": []
    },
    {
      "cell_type": "markdown",
      "source": [
        "Rolling window operations are another important transformation for time series data. Similar to downsampling, rolling windows split the data into time windows and and the data in each window is aggregated with a function such as mean(), median(), sum(), etc. Rolling windows overlap and “roll” along at the same frequency as the data, so the transformed time series is at the same frequency as the original time series."
      ],
      "metadata": {
        "id": "TvmunFeWasxI"
      }
    },
    {
      "cell_type": "code",
      "source": [
        "# Compute the centered 7-day rolling mean\n",
        "opsd_7d = opsd_daily[data_columns].rolling(7, center=True).mean()\n",
        "opsd_7d.head(10)"
      ],
      "metadata": {
        "id": "7UK_HK12a50I"
      },
      "execution_count": null,
      "outputs": []
    },
    {
      "cell_type": "code",
      "source": [
        "# Start and end of the date range to extract\n",
        "start, end = '2017-01', '2017-06'\n",
        "# Plot daily, weekly resampled, and 7-day rolling mean time series together\n",
        "fig, ax = plt.subplots()\n",
        "ax.plot(opsd_daily.loc[start:end, 'Solar'], marker='.', linestyle='-',color = 'green', linewidth=0.5, label='Daily')\n",
        "ax.plot(opsd_weekly_mean.loc[start:end, 'Solar'], marker='o', markersize=8, color = 'brown', linestyle='-', label='Weekly Mean Resample')\n",
        "ax.plot(opsd_7d.loc[start:end, 'Solar'], marker='.', linestyle='-', color = 'black', label='7-d Rolling Mean')\n",
        "ax.set_ylabel('Solar Production (GWh)')\n",
        "ax.legend();"
      ],
      "metadata": {
        "id": "9vyY1Pg2a-FJ"
      },
      "execution_count": null,
      "outputs": []
    }
  ]
}