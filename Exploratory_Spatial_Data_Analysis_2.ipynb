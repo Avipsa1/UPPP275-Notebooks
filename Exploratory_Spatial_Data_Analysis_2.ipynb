{
  "nbformat": 4,
  "nbformat_minor": 0,
  "metadata": {
    "colab": {
      "name": "Exploratory Spatial Data Analysis - 2.ipynb",
      "provenance": [],
      "authorship_tag": "ABX9TyMNWkYBQNixKZgGo8dxuZKZ",
      "include_colab_link": true
    },
    "kernelspec": {
      "name": "python3",
      "display_name": "Python 3"
    },
    "language_info": {
      "name": "python"
    }
  },
  "cells": [
    {
      "cell_type": "markdown",
      "metadata": {
        "id": "view-in-github",
        "colab_type": "text"
      },
      "source": [
        "<a href=\"https://colab.research.google.com/github/Avipsa1/UPPP275-Notebooks/blob/main/Exploratory_Spatial_Data_Analysis_2.ipynb\" target=\"_parent\"><img src=\"https://colab.research.google.com/assets/colab-badge.svg\" alt=\"Open In Colab\"/></a>"
      ]
    },
    {
      "cell_type": "markdown",
      "source": [
        "Creating spatial weights matrix is an important aspect of examining spatial relationships across different spatial units or geometries. It defines how they're spatially connected to one another. These weights can take on many different forms. Based on our specific theoretical needs we can choose from the following:\n",
        "\n",
        "* Rook contiguity\n",
        "* Queen contiguity\n",
        "* K-nearest neighbors\n",
        "* Distance band"
      ],
      "metadata": {
        "id": "0N-moEQF9RrR"
      }
    },
    {
      "cell_type": "markdown",
      "source": [
        "Using rook contiguity, two spatial units must share an edge of their boundaries to be considered neighbors. \n",
        "\n"
      ],
      "metadata": {
        "id": "ifFwkkiP94wJ"
      }
    },
    {
      "cell_type": "markdown",
      "source": [
        "Let us install and import all necessary packages before we begin our analysis"
      ],
      "metadata": {
        "id": "-jt9vyWU-g6R"
      }
    },
    {
      "cell_type": "code",
      "source": [
        "!pip install geopandas\n",
        "!pip install pysal\n",
        "!pip install seaborn"
      ],
      "metadata": {
        "id": "TwTyGZvX-l0w"
      },
      "execution_count": null,
      "outputs": []
    },
    {
      "cell_type": "code",
      "execution_count": null,
      "metadata": {
        "id": "xGimUXRq9KaO"
      },
      "outputs": [],
      "source": [
        "import pandas as pd\n",
        "import geopandas as gpd\n",
        "import pysal as ps\n",
        "import numpy as np\n",
        "import matplotlib.pyplot as plt\n",
        "import seaborn as sns\n",
        "from scipy.stats import stats\n",
        "\n",
        "# load CA tracts, display shape\n",
        "tracts_ca = gpd.read_file('tl_2017_06_tract.shp')\n",
        "tracts_ca = tracts_ca.set_index('GEOID')\n",
        "tracts_ca.shape"
      ]
    },
    {
      "cell_type": "code",
      "source": [
        "# retain LA county only (and drop channel island tracts)\n",
        "tracts_ca = tracts_ca[tracts_ca['COUNTYFP']=='037'].drop(index=['06037599100', '06037599000'])\n",
        "tracts_ca.shape"
      ],
      "metadata": {
        "id": "4yJVMNcKA3RH"
      },
      "execution_count": null,
      "outputs": []
    },
    {
      "cell_type": "code",
      "source": [
        "# project spatial geometries to a meter-based projection for SoCal\n",
        "crs = '+proj=utm +zone=11 +ellps=WGS84 +datum=WGS84 +units=m +no_defs'\n",
        "tracts_ca = tracts_ca.to_crs(crs)"
      ],
      "metadata": {
        "id": "m3y9putSA6IL"
      },
      "execution_count": null,
      "outputs": []
    },
    {
      "cell_type": "code",
      "source": [
        "# load CA tract-level census variables\n",
        "df_census = pd.read_csv('census_tracts_data_ca.csv', dtype={'GEOID10':str}).set_index('GEOID10')\n",
        "df_census.shape"
      ],
      "metadata": {
        "id": "mcNb2FmqA7sM"
      },
      "execution_count": null,
      "outputs": []
    },
    {
      "cell_type": "code",
      "source": [
        "# merge tract geometries with census variables\n",
        "tracts = tracts_ca.merge(df_census, left_index=True, right_index=True, how='left')\n",
        "tracts.shape"
      ],
      "metadata": {
        "id": "hGcLvcmWBCSI"
      },
      "execution_count": null,
      "outputs": []
    },
    {
      "cell_type": "code",
      "source": [
        "# calculate pop density in persons per sq km\n",
        "# turn any infinities into nulls\n",
        "tracts['pop_density'] = tracts['total_pop'] / (tracts['ALAND'] / 1e6)\n",
        "tracts = tracts.replace([np.inf, -np.inf], np.nan)"
      ],
      "metadata": {
        "id": "Bla5nLqUBH4J"
      },
      "execution_count": null,
      "outputs": []
    },
    {
      "cell_type": "code",
      "source": [
        "tracts.head()"
      ],
      "metadata": {
        "id": "9sVFwEPNBJMl"
      },
      "execution_count": null,
      "outputs": []
    },
    {
      "cell_type": "code",
      "source": [
        "tracts.columns"
      ],
      "metadata": {
        "id": "rEwkGEP0BMUB"
      },
      "execution_count": null,
      "outputs": []
    },
    {
      "cell_type": "markdown",
      "source": [
        "Now lets calculate the rook contiguity matrix from the data"
      ],
      "metadata": {
        "id": "5foT1-op_by6"
      }
    },
    {
      "cell_type": "code",
      "source": [
        "# get the tract labels (GEOIDs) and pick one (arbitrarily) to work with throughout\n",
        "labels = tracts.index.tolist()\n",
        "label = labels[210]\n",
        "label"
      ],
      "metadata": {
        "id": "dEjxxH3xBXZ6"
      },
      "execution_count": null,
      "outputs": []
    },
    {
      "cell_type": "code",
      "source": [
        "%%time\n",
        "import libpysal \n",
        "# calculate rook spatial weights\n",
        "w_rook = libpysal.weights.Rook.from_dataframe(tracts, ids=labels, id_order=labels)"
      ],
      "metadata": {
        "id": "Ark0NOcEBb7J"
      },
      "execution_count": null,
      "outputs": []
    },
    {
      "cell_type": "code",
      "source": [
        "# find the neighbors of some tract\n",
        "# this is a raw contiguity matrix, so weights are binary 1s and 0s meaning neighbor/not\n",
        "w_rook[label]"
      ],
      "metadata": {
        "id": "oXGXAbrLFKw5"
      },
      "execution_count": null,
      "outputs": []
    },
    {
      "cell_type": "code",
      "source": [
        "w_rook.cardinalities['06037900701']"
      ],
      "metadata": {
        "id": "7PhAipUiFtO_"
      },
      "execution_count": null,
      "outputs": []
    },
    {
      "cell_type": "code",
      "source": [
        "w_rook.cardinalities['06037900705']"
      ],
      "metadata": {
        "id": "aWVsnHsJF-Vn"
      },
      "execution_count": null,
      "outputs": []
    },
    {
      "cell_type": "markdown",
      "source": [
        "Using queen contiguity, two spatial units need only share a vertex (a single point) of their boundaries to be considered neighbors."
      ],
      "metadata": {
        "id": "hf6frodJFRzO"
      }
    },
    {
      "cell_type": "code",
      "source": [
        "%%time\n",
        "# calculate queen spatial weights\n",
        "w_queen = libpysal.weights.Queen.from_dataframe(tracts, ids=labels, id_order=labels)"
      ],
      "metadata": {
        "id": "UWODkIz7Bfgj"
      },
      "execution_count": null,
      "outputs": []
    },
    {
      "cell_type": "code",
      "source": [
        "# find the neighbors of some tract\n",
        "# this is a raw contiguity matrix, so weights are binary 1s and 0s meaning neighbor/not\n",
        "w_queen[label]"
      ],
      "metadata": {
        "id": "luCLcFELFdkj"
      },
      "execution_count": null,
      "outputs": []
    },
    {
      "cell_type": "code",
      "source": [
        "# how many neighbors does this tract have?\n",
        "w_queen.cardinalities['06037900701']"
      ],
      "metadata": {
        "id": "sJf9MJCJFmfX"
      },
      "execution_count": null,
      "outputs": []
    },
    {
      "cell_type": "code",
      "source": [
        "w_queen.cardinalities['06037900704']"
      ],
      "metadata": {
        "id": "t1py2oghGFTM"
      },
      "execution_count": null,
      "outputs": []
    },
    {
      "cell_type": "code",
      "source": [
        "# convert cardinalities to series and describe data\n",
        "pd.Series(w_queen.cardinalities).describe()"
      ],
      "metadata": {
        "id": "ppujCmoNGL_I"
      },
      "execution_count": null,
      "outputs": []
    },
    {
      "cell_type": "code",
      "source": [
        "# min number of neighbors\n",
        "w_queen.min_neighbors"
      ],
      "metadata": {
        "id": "76q9SVAxGPca"
      },
      "execution_count": null,
      "outputs": []
    },
    {
      "cell_type": "code",
      "source": [
        "# max number of neighbors\n",
        "w_queen.max_neighbors"
      ],
      "metadata": {
        "id": "yXJP9ItzGRu-"
      },
      "execution_count": null,
      "outputs": []
    },
    {
      "cell_type": "code",
      "source": [
        "# islands are observations with no neighbors, disconnected in space (can cause modeling problems)\n",
        "w_queen.islands"
      ],
      "metadata": {
        "id": "Lu9WPzf2GUnU"
      },
      "execution_count": null,
      "outputs": []
    },
    {
      "cell_type": "markdown",
      "source": [
        "Plot a census tract of interest, along with its neighbors:"
      ],
      "metadata": {
        "id": "0Oj1Ri1LGXdr"
      }
    },
    {
      "cell_type": "code",
      "source": [
        "fig, ax = plt.subplots(figsize=(6, 6))\n",
        "tracts.plot(ax=ax, facecolor='#6f6a66', edgecolor='w', linewidth=0.5)\n",
        "\n",
        "# plot some tract of interest in blue\n",
        "tract = tracts.loc[[label]]\n",
        "tract.plot(ax=ax, facecolor='#1f03d0', edgecolor='w', linewidth=2)\n",
        "\n",
        "# plot the neighbors in pink\n",
        "neighbors = tracts.loc[w_queen[label]]\n",
        "neighbors.plot(ax=ax, facecolor='#c133cc', edgecolor='w', linewidth=2)\n",
        "\n",
        "# zoom to area of interest\n",
        "xmin, ymin, xmax, ymax = neighbors.unary_union.bounds\n",
        "ax.axis('equal')\n",
        "ax.set_xlim(xmin-100, xmax+100)  # +/- 100 meters\n",
        "ax.set_ylim(ymin, ymax)\n",
        "\n",
        "ax.set_title('Neighbors of tract {}'.format(label))\n",
        "_ = ax.axis('off')"
      ],
      "metadata": {
        "id": "bTC031XMGYJ1"
      },
      "execution_count": null,
      "outputs": []
    },
    {
      "cell_type": "code",
      "source": [
        "%%time\n",
        "# draw a queen-contiguity graph of the tracts\n",
        "fig, ax = plt.subplots(figsize=(12, 12), facecolor='#1ff1e1')\n",
        "tracts.plot(ax=ax, facecolor='gray', edgecolor='k', linewidth=0.3)\n",
        "\n",
        "# extract centroids of tract and its neighbors, then draw lines between them\n",
        "for tract, neighbors in w_queen:\n",
        "    tract_centroid = tracts.loc[tract, 'geometry'].centroid\n",
        "    for neighbor_centroid in tracts.loc[neighbors, 'geometry'].centroid:\n",
        "        Xs = [tract_centroid.x, neighbor_centroid.x]\n",
        "        Ys = [tract_centroid.y, neighbor_centroid.y]\n",
        "        ax.plot(Xs, Ys, color='b', linewidth=0.3)\n",
        "_ = ax.axis('off')"
      ],
      "metadata": {
        "id": "XlxjRzsLGeIU"
      },
      "execution_count": null,
      "outputs": []
    },
    {
      "cell_type": "markdown",
      "source": [
        "Find the k-nearest neighbors of each tract, by centroid."
      ],
      "metadata": {
        "id": "dvbUatGNGs1H"
      }
    },
    {
      "cell_type": "code",
      "source": [
        "%%time\n",
        "# k-nearest neighbors finds the closest k tract centroids to each tract centroid\n",
        "w_knn = libpysal.weights.KNN.from_dataframe(tracts, k=6)"
      ],
      "metadata": {
        "id": "H91PF6FXGvnt"
      },
      "execution_count": null,
      "outputs": []
    },
    {
      "cell_type": "code",
      "source": [
        "# they all have exactly k neighbors\n",
        "w_knn.neighbors[label]"
      ],
      "metadata": {
        "id": "xl5BddoxG2QN"
      },
      "execution_count": null,
      "outputs": []
    },
    {
      "cell_type": "markdown",
      "source": [
        "For distance-band contiguity matrix, other tracts are considered neighbors of some tract if they are within a given threshold distance from the centroid of one tract. Distance band weights can be specified to take on continuous values rather than binary (1s and 0s), with these values being the inverse distance between each pair of \"neighboring\" units.\n",
        "\n",
        "There are two ways to define distance decay:\n",
        "\n",
        "* linear distance-decay exponent is -1 : 1/d\n",
        "* gravity model distance-decay exponent is -2 : 1/d^2"
      ],
      "metadata": {
        "id": "HegWQkJ-HA0q"
      }
    },
    {
      "cell_type": "code",
      "source": [
        "# calculate maximum nearest neighbor distance so each unit is assured of >=1 neighbor\n",
        "x = tracts.centroid.x\n",
        "y = tracts.centroid.y\n",
        "coords = np.array([x, y]).T\n",
        "threshold = libpysal.weights.min_threshold_distance(coords)\n",
        "threshold"
      ],
      "metadata": {
        "id": "8-ZOKLrIHhXc"
      },
      "execution_count": null,
      "outputs": []
    },
    {
      "cell_type": "code",
      "source": [
        "%%time\n",
        "# calculate linear decay continuous weights\n",
        "w_dist = libpysal.weights.distance.DistanceBand.from_dataframe(tracts,\n",
        "                                                             threshold=threshold,\n",
        "                                                             binary=False,\n",
        "                                                             alpha=-1)"
      ],
      "metadata": {
        "id": "ytpCX1BxHpDO"
      },
      "execution_count": null,
      "outputs": []
    },
    {
      "cell_type": "code",
      "source": [
        "# how many distance-band neighbors does our tract have?\n",
        "len(w_dist.neighbors[label])"
      ],
      "metadata": {
        "id": "DWOSKsd6Htae"
      },
      "execution_count": null,
      "outputs": []
    },
    {
      "cell_type": "code",
      "source": [
        "# map the neighbors, colored by weight from nearest to furthest\n",
        "fig, ax = plt.subplots(figsize=(6, 6))\n",
        "tracts.plot(ax=ax, facecolor='#333333', edgecolor='gray', linewidth=0.1)\n",
        "\n",
        "# get the tract of interest and its neighbors/weights\n",
        "tract = tracts.loc[[label]]\n",
        "weights = pd.Series(w_dist[label])\n",
        "neighbors = tracts.loc[weights.index, ['geometry']]\n",
        "neighbors['weights_scaled'] = weights\n",
        "\n",
        "# plot the tract's neighbors in blues by weight\n",
        "neighbors.plot(ax=ax,\n",
        "               column='weights_scaled',\n",
        "               cmap='Blues_r',\n",
        "               edgecolor='gray',\n",
        "               linewidth=0.3,\n",
        "               scheme='NaturalBreaks')\n",
        "\n",
        "# plot the tract of interest in red\n",
        "tract.plot(ax=ax, facecolor='r', edgecolor='r', linewidth=0.1)\n",
        "\n",
        "# zoom to area of interest\n",
        "xmin, ymin, xmax, ymax = neighbors.unary_union.bounds\n",
        "ax.set_xlim(xmin, xmax)\n",
        "ax.set_ylim(ymin, ymax)\n",
        "ax.set_title('Neighbors of tract {}'.format(label))\n",
        "_ = ax.axis('off')"
      ],
      "metadata": {
        "id": "ezlWv-84HwiO"
      },
      "execution_count": null,
      "outputs": []
    },
    {
      "cell_type": "markdown",
      "source": [
        "## Now it's your turn\n",
        "* Recompute the distance-based spatial weights with a gravity decay\n",
        "* Try to think and describe how and why this impacts the number of neighbors and the map above? \n"
      ],
      "metadata": {
        "id": "Nvq74l3SHyBV"
      }
    },
    {
      "cell_type": "code",
      "source": [
        ""
      ],
      "metadata": {
        "id": "BlV1sZj_IAAm"
      },
      "execution_count": null,
      "outputs": []
    }
  ]
}