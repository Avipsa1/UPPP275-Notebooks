{
  "nbformat": 4,
  "nbformat_minor": 0,
  "metadata": {
    "colab": {
      "name": "Creating Voronoi polygons in Python.ipynb",
      "provenance": [],
      "authorship_tag": "ABX9TyNneFNHHlJ3TsGG8W596+Fy",
      "include_colab_link": true
    },
    "kernelspec": {
      "name": "python3",
      "display_name": "Python 3"
    },
    "language_info": {
      "name": "python"
    }
  },
  "cells": [
    {
      "cell_type": "markdown",
      "metadata": {
        "id": "view-in-github",
        "colab_type": "text"
      },
      "source": [
        "<a href=\"https://colab.research.google.com/github/Avipsa1/UPPP275-Notebooks/blob/main/Creating_Voronoi_polygons_in_Python.ipynb\" target=\"_parent\"><img src=\"https://colab.research.google.com/assets/colab-badge.svg\" alt=\"Open In Colab\"/></a>"
      ]
    },
    {
      "cell_type": "code",
      "execution_count": 8,
      "metadata": {
        "colab": {
          "base_uri": "https://localhost:8080/",
          "height": 1000
        },
        "id": "Vhz914pUQihB",
        "outputId": "cb457c08-c5d3-4b93-9908-cb8209eb8b63"
      },
      "outputs": [
        {
          "output_type": "stream",
          "name": "stdout",
          "text": [
            "Requirement already satisfied: geovoronoi[plotting] in /usr/local/lib/python3.7/dist-packages (0.4.0)\n",
            "Requirement already satisfied: shapely>=1.7.0 in /usr/local/lib/python3.7/dist-packages (from geovoronoi[plotting]) (1.8.1.post1)\n",
            "Requirement already satisfied: numpy>=1.19.0 in /usr/local/lib/python3.7/dist-packages (from geovoronoi[plotting]) (1.21.6)\n",
            "Requirement already satisfied: scipy>=1.5.0 in /usr/local/lib/python3.7/dist-packages (from geovoronoi[plotting]) (1.7.3)\n",
            "Requirement already satisfied: geopandas>=0.8.0 in /usr/local/lib/python3.7/dist-packages (from geovoronoi[plotting]) (0.10.2)\n",
            "Requirement already satisfied: descartes>=1.1.0 in /usr/local/lib/python3.7/dist-packages (from geovoronoi[plotting]) (1.1.0)\n",
            "Collecting matplotlib>=3.3.0\n",
            "  Using cached matplotlib-3.5.2-cp37-cp37m-manylinux_2_5_x86_64.manylinux1_x86_64.whl (11.2 MB)\n",
            "Requirement already satisfied: fiona>=1.8 in /usr/local/lib/python3.7/dist-packages (from geopandas>=0.8.0->geovoronoi[plotting]) (1.8.21)\n",
            "Requirement already satisfied: pyproj>=2.2.0 in /usr/local/lib/python3.7/dist-packages (from geopandas>=0.8.0->geovoronoi[plotting]) (3.2.1)\n",
            "Requirement already satisfied: pandas>=0.25.0 in /usr/local/lib/python3.7/dist-packages (from geopandas>=0.8.0->geovoronoi[plotting]) (1.3.5)\n",
            "Requirement already satisfied: certifi in /usr/local/lib/python3.7/dist-packages (from fiona>=1.8->geopandas>=0.8.0->geovoronoi[plotting]) (2021.10.8)\n",
            "Requirement already satisfied: six>=1.7 in /usr/local/lib/python3.7/dist-packages (from fiona>=1.8->geopandas>=0.8.0->geovoronoi[plotting]) (1.15.0)\n",
            "Requirement already satisfied: click-plugins>=1.0 in /usr/local/lib/python3.7/dist-packages (from fiona>=1.8->geopandas>=0.8.0->geovoronoi[plotting]) (1.1.1)\n",
            "Requirement already satisfied: click>=4.0 in /usr/local/lib/python3.7/dist-packages (from fiona>=1.8->geopandas>=0.8.0->geovoronoi[plotting]) (7.1.2)\n",
            "Requirement already satisfied: setuptools in /usr/local/lib/python3.7/dist-packages (from fiona>=1.8->geopandas>=0.8.0->geovoronoi[plotting]) (57.4.0)\n",
            "Requirement already satisfied: cligj>=0.5 in /usr/local/lib/python3.7/dist-packages (from fiona>=1.8->geopandas>=0.8.0->geovoronoi[plotting]) (0.7.2)\n",
            "Requirement already satisfied: munch in /usr/local/lib/python3.7/dist-packages (from fiona>=1.8->geopandas>=0.8.0->geovoronoi[plotting]) (2.5.0)\n",
            "Requirement already satisfied: attrs>=17 in /usr/local/lib/python3.7/dist-packages (from fiona>=1.8->geopandas>=0.8.0->geovoronoi[plotting]) (21.4.0)\n",
            "Requirement already satisfied: fonttools>=4.22.0 in /usr/local/lib/python3.7/dist-packages (from matplotlib>=3.3.0->geovoronoi[plotting]) (4.33.3)\n",
            "Requirement already satisfied: cycler>=0.10 in /usr/local/lib/python3.7/dist-packages (from matplotlib>=3.3.0->geovoronoi[plotting]) (0.11.0)\n",
            "Requirement already satisfied: kiwisolver>=1.0.1 in /usr/local/lib/python3.7/dist-packages (from matplotlib>=3.3.0->geovoronoi[plotting]) (1.4.2)\n",
            "Requirement already satisfied: python-dateutil>=2.7 in /usr/local/lib/python3.7/dist-packages (from matplotlib>=3.3.0->geovoronoi[plotting]) (2.8.2)\n",
            "Requirement already satisfied: packaging>=20.0 in /usr/local/lib/python3.7/dist-packages (from matplotlib>=3.3.0->geovoronoi[plotting]) (21.3)\n",
            "Requirement already satisfied: pillow>=6.2.0 in /usr/local/lib/python3.7/dist-packages (from matplotlib>=3.3.0->geovoronoi[plotting]) (7.1.2)\n",
            "Requirement already satisfied: pyparsing>=2.2.1 in /usr/local/lib/python3.7/dist-packages (from matplotlib>=3.3.0->geovoronoi[plotting]) (3.0.8)\n",
            "Requirement already satisfied: typing-extensions in /usr/local/lib/python3.7/dist-packages (from kiwisolver>=1.0.1->matplotlib>=3.3.0->geovoronoi[plotting]) (4.2.0)\n",
            "Requirement already satisfied: pytz>=2017.3 in /usr/local/lib/python3.7/dist-packages (from pandas>=0.25.0->geopandas>=0.8.0->geovoronoi[plotting]) (2022.1)\n",
            "Installing collected packages: matplotlib\n",
            "  Attempting uninstall: matplotlib\n",
            "    Found existing installation: matplotlib 3.1.3\n",
            "    Uninstalling matplotlib-3.1.3:\n",
            "      Successfully uninstalled matplotlib-3.1.3\n",
            "\u001b[31mERROR: pip's dependency resolver does not currently take into account all the packages that are installed. This behaviour is the source of the following dependency conflicts.\n",
            "albumentations 0.1.12 requires imgaug<0.2.7,>=0.2.5, but you have imgaug 0.2.9 which is incompatible.\u001b[0m\n",
            "Successfully installed matplotlib-3.5.2\n"
          ]
        },
        {
          "output_type": "display_data",
          "data": {
            "application/vnd.colab-display-data+json": {
              "pip_warning": {
                "packages": [
                  "matplotlib",
                  "mpl_toolkits"
                ]
              }
            }
          },
          "metadata": {}
        },
        {
          "output_type": "stream",
          "name": "stdout",
          "text": [
            "Requirement already satisfied: geopandas in /usr/local/lib/python3.7/dist-packages (0.10.2)\n",
            "Requirement already satisfied: pandas>=0.25.0 in /usr/local/lib/python3.7/dist-packages (from geopandas) (1.3.5)\n",
            "Requirement already satisfied: fiona>=1.8 in /usr/local/lib/python3.7/dist-packages (from geopandas) (1.8.21)\n",
            "Requirement already satisfied: pyproj>=2.2.0 in /usr/local/lib/python3.7/dist-packages (from geopandas) (3.2.1)\n",
            "Requirement already satisfied: shapely>=1.6 in /usr/local/lib/python3.7/dist-packages (from geopandas) (1.8.1.post1)\n",
            "Requirement already satisfied: attrs>=17 in /usr/local/lib/python3.7/dist-packages (from fiona>=1.8->geopandas) (21.4.0)\n",
            "Requirement already satisfied: click>=4.0 in /usr/local/lib/python3.7/dist-packages (from fiona>=1.8->geopandas) (7.1.2)\n",
            "Requirement already satisfied: certifi in /usr/local/lib/python3.7/dist-packages (from fiona>=1.8->geopandas) (2021.10.8)\n",
            "Requirement already satisfied: cligj>=0.5 in /usr/local/lib/python3.7/dist-packages (from fiona>=1.8->geopandas) (0.7.2)\n",
            "Requirement already satisfied: six>=1.7 in /usr/local/lib/python3.7/dist-packages (from fiona>=1.8->geopandas) (1.15.0)\n",
            "Requirement already satisfied: click-plugins>=1.0 in /usr/local/lib/python3.7/dist-packages (from fiona>=1.8->geopandas) (1.1.1)\n",
            "Requirement already satisfied: setuptools in /usr/local/lib/python3.7/dist-packages (from fiona>=1.8->geopandas) (57.4.0)\n",
            "Requirement already satisfied: munch in /usr/local/lib/python3.7/dist-packages (from fiona>=1.8->geopandas) (2.5.0)\n",
            "Requirement already satisfied: numpy>=1.17.3 in /usr/local/lib/python3.7/dist-packages (from pandas>=0.25.0->geopandas) (1.21.6)\n",
            "Requirement already satisfied: pytz>=2017.3 in /usr/local/lib/python3.7/dist-packages (from pandas>=0.25.0->geopandas) (2022.1)\n",
            "Requirement already satisfied: python-dateutil>=2.7.3 in /usr/local/lib/python3.7/dist-packages (from pandas>=0.25.0->geopandas) (2.8.2)\n",
            "Found existing installation: matplotlib 3.5.2\n",
            "Uninstalling matplotlib-3.5.2:\n",
            "  Successfully uninstalled matplotlib-3.5.2\n",
            "Collecting matplotlib==3.1.3\n",
            "  Using cached matplotlib-3.1.3-cp37-cp37m-manylinux1_x86_64.whl (13.1 MB)\n",
            "Requirement already satisfied: pyparsing!=2.0.4,!=2.1.2,!=2.1.6,>=2.0.1 in /usr/local/lib/python3.7/dist-packages (from matplotlib==3.1.3) (3.0.8)\n",
            "Requirement already satisfied: cycler>=0.10 in /usr/local/lib/python3.7/dist-packages (from matplotlib==3.1.3) (0.11.0)\n",
            "Requirement already satisfied: python-dateutil>=2.1 in /usr/local/lib/python3.7/dist-packages (from matplotlib==3.1.3) (2.8.2)\n",
            "Requirement already satisfied: numpy>=1.11 in /usr/local/lib/python3.7/dist-packages (from matplotlib==3.1.3) (1.21.6)\n",
            "Requirement already satisfied: kiwisolver>=1.0.1 in /usr/local/lib/python3.7/dist-packages (from matplotlib==3.1.3) (1.4.2)\n",
            "Requirement already satisfied: typing-extensions in /usr/local/lib/python3.7/dist-packages (from kiwisolver>=1.0.1->matplotlib==3.1.3) (4.2.0)\n",
            "Requirement already satisfied: six>=1.5 in /usr/local/lib/python3.7/dist-packages (from python-dateutil>=2.1->matplotlib==3.1.3) (1.15.0)\n",
            "Installing collected packages: matplotlib\n",
            "\u001b[31mERROR: pip's dependency resolver does not currently take into account all the packages that are installed. This behaviour is the source of the following dependency conflicts.\n",
            "albumentations 0.1.12 requires imgaug<0.2.7,>=0.2.5, but you have imgaug 0.2.9 which is incompatible.\u001b[0m\n",
            "Successfully installed matplotlib-3.1.3\n"
          ]
        },
        {
          "output_type": "display_data",
          "data": {
            "application/vnd.colab-display-data+json": {
              "pip_warning": {
                "packages": [
                  "matplotlib",
                  "mpl_toolkits"
                ]
              }
            }
          },
          "metadata": {}
        }
      ],
      "source": [
        "# install with \"plotting\" dependencies (recommended):\n",
        "!pip install -U geovoronoi[plotting]\n",
        "!pip install geopandas\n",
        "!python -m pip uninstall matplotlib --y\n",
        "!pip install matplotlib==3.1.3"
      ]
    },
    {
      "cell_type": "markdown",
      "source": [
        "Let us import the libraries and read the data first."
      ],
      "metadata": {
        "id": "wfFuOBa6Reo5"
      }
    },
    {
      "cell_type": "code",
      "source": [
        "import geopandas as gpd\n",
        "import numpy as np\n",
        "import geovoronoi\n",
        "import shapely"
      ],
      "metadata": {
        "id": "s1uD7ryp_pcM"
      },
      "execution_count": 9,
      "outputs": []
    },
    {
      "cell_type": "markdown",
      "source": [
        "We can plot the points data. Just to give some context, we also read the boundary of the census tracts and plot the points on top of it."
      ],
      "metadata": {
        "id": "HvvHFrMCRf4l"
      }
    },
    {
      "cell_type": "code",
      "source": [
        "import numpy as np\n",
        "coords = np.array([[1690891.43454513, 4865911.53550427],\n",
        "       [1303898.2749075 , 5398659.4816214 ],\n",
        "       [1379407.32051822, 5701267.51923313],\n",
        "       [1703402.05850744, 4916559.63783754],\n",
        "       [1403502.05750314, 4926583.45782178]])"
      ],
      "metadata": {
        "id": "TJTNGHmr_vPZ"
      },
      "execution_count": 10,
      "outputs": []
    },
    {
      "cell_type": "code",
      "source": [
        "import geopandas as gpd\n",
        "\n",
        "world = gpd.read_file(gpd.datasets.get_path('naturalearth_lowres'))\n",
        "area = world[world.name == 'Italy']"
      ],
      "metadata": {
        "id": "7MrRAhwPAB3M"
      },
      "execution_count": 11,
      "outputs": []
    },
    {
      "cell_type": "markdown",
      "source": [
        "Before we calculate the Voronoi regions, we need to make sure two things. First, we need to check the projection of the data and then convert it to Web Mercator projection (epsg=3395)."
      ],
      "metadata": {
        "id": "fk7ehZ7uR-Ui"
      }
    },
    {
      "cell_type": "code",
      "source": [
        "area = area.to_crs(epsg=3395)    # convert to World Mercator CRS\n",
        "area_shape = area.iloc[0].geometry   # get the Polygon"
      ],
      "metadata": {
        "id": "YYy-FezVAEdr"
      },
      "execution_count": 12,
      "outputs": []
    },
    {
      "cell_type": "markdown",
      "source": [
        "Now, that we have prepared the data, we can calculate Voronoi regions simply using Geovoronoi’s method voronoi_regions_from_coords()."
      ],
      "metadata": {
        "id": "BgmX8neySOaD"
      }
    },
    {
      "cell_type": "code",
      "source": [
        "from geovoronoi import voronoi_regions_from_coords\n",
        "\n",
        "region_polys, region_pts = voronoi_regions_from_coords(coords, area_shape)"
      ],
      "metadata": {
        "id": "_TMNMm9uAJuV"
      },
      "execution_count": 13,
      "outputs": []
    },
    {
      "cell_type": "markdown",
      "source": [
        "To plot Voronoi Diagrams, we also use the functionality of Geovoronoi — plot_voronoi_polys_with_points_in_area(). Here, we provide all the output from the above Voronoi calculations and the boundary shape."
      ],
      "metadata": {
        "id": "2COFiU15VvTj"
      }
    },
    {
      "cell_type": "code",
      "source": [
        "import matplotlib.pyplot as plt\n",
        "from geovoronoi.plotting import subplot_for_map, plot_voronoi_polys_with_points_in_area\n",
        "\n",
        "fig, ax = subplot_for_map(figsize = (10,10))\n",
        "plot_voronoi_polys_with_points_in_area(ax, area_shape, region_polys, coords, region_pts)\n",
        "plt.show()"
      ],
      "metadata": {
        "id": "CnTkxolhANnN"
      },
      "execution_count": null,
      "outputs": []
    },
    {
      "cell_type": "markdown",
      "source": [
        "We can increase the figure size and marker size of the points. We can also change the colour using Matplotlib Colormap. "
      ],
      "metadata": {
        "id": "Lc9JUbSHV6xL"
      }
    },
    {
      "cell_type": "code",
      "source": [
        "fig, ax = subplot_for_map(figsize = (10,10))\n",
        "plot_voronoi_polys_with_points_in_area(ax, area_shape, region_polys, coords, region_pts, points_markersize= 120, points_marker= \"*\")\n",
        "plt.show()"
      ],
      "metadata": {
        "id": "fKKJBBwYDTu7"
      },
      "execution_count": null,
      "outputs": []
    },
    {
      "cell_type": "markdown",
      "source": [
        "now let us try the same with some real data. Let us import the airports in SCAG region as a geojson file and create a GeoDataFrame."
      ],
      "metadata": {
        "id": "AdzvCuLfFXdN"
      }
    },
    {
      "cell_type": "code",
      "source": [
        "gdf = gpd.read_file(\"Airports_SCAG_Region.geojson\")\n",
        "gdf.head()"
      ],
      "metadata": {
        "colab": {
          "base_uri": "https://localhost:8080/",
          "height": 206
        },
        "id": "iyJCbEWpEN1l",
        "outputId": "aac11dda-b689-455a-a246-4a331e9a4b4a"
      },
      "execution_count": 27,
      "outputs": [
        {
          "output_type": "execute_result",
          "data": {
            "text/plain": [
              "   OBJECTID LOC_ID              X             Y                       NAME  \\\n",
              "0         1    AJO  444277.416719  3.750865e+06   Corona Municipal Airport   \n",
              "1         2    APV  482926.903875  3.826268e+06       Apple Valley Airport   \n",
              "2         3    AVX  368428.577462  3.696913e+06           Catalina Airport   \n",
              "3         4    BLH  711744.260243  3.722742e+06             Blythe Airport   \n",
              "4         5    BNG  513701.841566  3.753637e+06  Banning Municipal Airport   \n",
              "\n",
              "  USE_          COUNTY  YEAR                     geometry  \n",
              "0   PU       Riverside  2009  POINT (-117.60268 33.89669)  \n",
              "1   PU  San Bernardino  2009  POINT (-117.18616 34.57806)  \n",
              "2   PU     Los Angeles  2009  POINT (-118.41488 33.40349)  \n",
              "3   PU       Riverside  2009  POINT (-114.71737 33.62345)  \n",
              "4   PU       Riverside  2009  POINT (-116.85177 33.92308)  "
            ],
            "text/html": [
              "\n",
              "  <div id=\"df-c5786d1d-0520-4a7f-ad14-57b260ff091b\">\n",
              "    <div class=\"colab-df-container\">\n",
              "      <div>\n",
              "<style scoped>\n",
              "    .dataframe tbody tr th:only-of-type {\n",
              "        vertical-align: middle;\n",
              "    }\n",
              "\n",
              "    .dataframe tbody tr th {\n",
              "        vertical-align: top;\n",
              "    }\n",
              "\n",
              "    .dataframe thead th {\n",
              "        text-align: right;\n",
              "    }\n",
              "</style>\n",
              "<table border=\"1\" class=\"dataframe\">\n",
              "  <thead>\n",
              "    <tr style=\"text-align: right;\">\n",
              "      <th></th>\n",
              "      <th>OBJECTID</th>\n",
              "      <th>LOC_ID</th>\n",
              "      <th>X</th>\n",
              "      <th>Y</th>\n",
              "      <th>NAME</th>\n",
              "      <th>USE_</th>\n",
              "      <th>COUNTY</th>\n",
              "      <th>YEAR</th>\n",
              "      <th>geometry</th>\n",
              "    </tr>\n",
              "  </thead>\n",
              "  <tbody>\n",
              "    <tr>\n",
              "      <th>0</th>\n",
              "      <td>1</td>\n",
              "      <td>AJO</td>\n",
              "      <td>444277.416719</td>\n",
              "      <td>3.750865e+06</td>\n",
              "      <td>Corona Municipal Airport</td>\n",
              "      <td>PU</td>\n",
              "      <td>Riverside</td>\n",
              "      <td>2009</td>\n",
              "      <td>POINT (-117.60268 33.89669)</td>\n",
              "    </tr>\n",
              "    <tr>\n",
              "      <th>1</th>\n",
              "      <td>2</td>\n",
              "      <td>APV</td>\n",
              "      <td>482926.903875</td>\n",
              "      <td>3.826268e+06</td>\n",
              "      <td>Apple Valley Airport</td>\n",
              "      <td>PU</td>\n",
              "      <td>San Bernardino</td>\n",
              "      <td>2009</td>\n",
              "      <td>POINT (-117.18616 34.57806)</td>\n",
              "    </tr>\n",
              "    <tr>\n",
              "      <th>2</th>\n",
              "      <td>3</td>\n",
              "      <td>AVX</td>\n",
              "      <td>368428.577462</td>\n",
              "      <td>3.696913e+06</td>\n",
              "      <td>Catalina Airport</td>\n",
              "      <td>PU</td>\n",
              "      <td>Los Angeles</td>\n",
              "      <td>2009</td>\n",
              "      <td>POINT (-118.41488 33.40349)</td>\n",
              "    </tr>\n",
              "    <tr>\n",
              "      <th>3</th>\n",
              "      <td>4</td>\n",
              "      <td>BLH</td>\n",
              "      <td>711744.260243</td>\n",
              "      <td>3.722742e+06</td>\n",
              "      <td>Blythe Airport</td>\n",
              "      <td>PU</td>\n",
              "      <td>Riverside</td>\n",
              "      <td>2009</td>\n",
              "      <td>POINT (-114.71737 33.62345)</td>\n",
              "    </tr>\n",
              "    <tr>\n",
              "      <th>4</th>\n",
              "      <td>5</td>\n",
              "      <td>BNG</td>\n",
              "      <td>513701.841566</td>\n",
              "      <td>3.753637e+06</td>\n",
              "      <td>Banning Municipal Airport</td>\n",
              "      <td>PU</td>\n",
              "      <td>Riverside</td>\n",
              "      <td>2009</td>\n",
              "      <td>POINT (-116.85177 33.92308)</td>\n",
              "    </tr>\n",
              "  </tbody>\n",
              "</table>\n",
              "</div>\n",
              "      <button class=\"colab-df-convert\" onclick=\"convertToInteractive('df-c5786d1d-0520-4a7f-ad14-57b260ff091b')\"\n",
              "              title=\"Convert this dataframe to an interactive table.\"\n",
              "              style=\"display:none;\">\n",
              "        \n",
              "  <svg xmlns=\"http://www.w3.org/2000/svg\" height=\"24px\"viewBox=\"0 0 24 24\"\n",
              "       width=\"24px\">\n",
              "    <path d=\"M0 0h24v24H0V0z\" fill=\"none\"/>\n",
              "    <path d=\"M18.56 5.44l.94 2.06.94-2.06 2.06-.94-2.06-.94-.94-2.06-.94 2.06-2.06.94zm-11 1L8.5 8.5l.94-2.06 2.06-.94-2.06-.94L8.5 2.5l-.94 2.06-2.06.94zm10 10l.94 2.06.94-2.06 2.06-.94-2.06-.94-.94-2.06-.94 2.06-2.06.94z\"/><path d=\"M17.41 7.96l-1.37-1.37c-.4-.4-.92-.59-1.43-.59-.52 0-1.04.2-1.43.59L10.3 9.45l-7.72 7.72c-.78.78-.78 2.05 0 2.83L4 21.41c.39.39.9.59 1.41.59.51 0 1.02-.2 1.41-.59l7.78-7.78 2.81-2.81c.8-.78.8-2.07 0-2.86zM5.41 20L4 18.59l7.72-7.72 1.47 1.35L5.41 20z\"/>\n",
              "  </svg>\n",
              "      </button>\n",
              "      \n",
              "  <style>\n",
              "    .colab-df-container {\n",
              "      display:flex;\n",
              "      flex-wrap:wrap;\n",
              "      gap: 12px;\n",
              "    }\n",
              "\n",
              "    .colab-df-convert {\n",
              "      background-color: #E8F0FE;\n",
              "      border: none;\n",
              "      border-radius: 50%;\n",
              "      cursor: pointer;\n",
              "      display: none;\n",
              "      fill: #1967D2;\n",
              "      height: 32px;\n",
              "      padding: 0 0 0 0;\n",
              "      width: 32px;\n",
              "    }\n",
              "\n",
              "    .colab-df-convert:hover {\n",
              "      background-color: #E2EBFA;\n",
              "      box-shadow: 0px 1px 2px rgba(60, 64, 67, 0.3), 0px 1px 3px 1px rgba(60, 64, 67, 0.15);\n",
              "      fill: #174EA6;\n",
              "    }\n",
              "\n",
              "    [theme=dark] .colab-df-convert {\n",
              "      background-color: #3B4455;\n",
              "      fill: #D2E3FC;\n",
              "    }\n",
              "\n",
              "    [theme=dark] .colab-df-convert:hover {\n",
              "      background-color: #434B5C;\n",
              "      box-shadow: 0px 1px 3px 1px rgba(0, 0, 0, 0.15);\n",
              "      filter: drop-shadow(0px 1px 2px rgba(0, 0, 0, 0.3));\n",
              "      fill: #FFFFFF;\n",
              "    }\n",
              "  </style>\n",
              "\n",
              "      <script>\n",
              "        const buttonEl =\n",
              "          document.querySelector('#df-c5786d1d-0520-4a7f-ad14-57b260ff091b button.colab-df-convert');\n",
              "        buttonEl.style.display =\n",
              "          google.colab.kernel.accessAllowed ? 'block' : 'none';\n",
              "\n",
              "        async function convertToInteractive(key) {\n",
              "          const element = document.querySelector('#df-c5786d1d-0520-4a7f-ad14-57b260ff091b');\n",
              "          const dataTable =\n",
              "            await google.colab.kernel.invokeFunction('convertToInteractive',\n",
              "                                                     [key], {});\n",
              "          if (!dataTable) return;\n",
              "\n",
              "          const docLinkHtml = 'Like what you see? Visit the ' +\n",
              "            '<a target=\"_blank\" href=https://colab.research.google.com/notebooks/data_table.ipynb>data table notebook</a>'\n",
              "            + ' to learn more about interactive tables.';\n",
              "          element.innerHTML = '';\n",
              "          dataTable['output_type'] = 'display_data';\n",
              "          await google.colab.output.renderOutput(dataTable, element);\n",
              "          const docLink = document.createElement('div');\n",
              "          docLink.innerHTML = docLinkHtml;\n",
              "          element.appendChild(docLink);\n",
              "        }\n",
              "      </script>\n",
              "    </div>\n",
              "  </div>\n",
              "  "
            ]
          },
          "metadata": {},
          "execution_count": 27
        }
      ]
    },
    {
      "cell_type": "markdown",
      "source": [
        "No let us import the city boundaries in SCAG region and plot the boundaries and airports together"
      ],
      "metadata": {
        "id": "ADWoFxqEFgbl"
      }
    },
    {
      "cell_type": "code",
      "source": [
        "boundary = gpd.read_file(\"City_Boundaries_SCAG_Region.geojson\")\n",
        "fig, ax = plt.subplots(figsize=(12, 10))\n",
        "boundary.plot(ax=ax, color=\"gray\")\n",
        "gdf.plot(ax=ax, markersize=3.5, color=\"red\")\n",
        "ax.axis(\"off\")\n",
        "plt.axis('equal')\n",
        "plt.show()"
      ],
      "metadata": {
        "id": "AADxEGAnEibv"
      },
      "execution_count": null,
      "outputs": []
    },
    {
      "cell_type": "markdown",
      "source": [
        "We have to make sure the coordinate reference of both GeoDataFrames is Web Mercator - i.e. epsg:3395"
      ],
      "metadata": {
        "id": "Hju6UTcoFn33"
      }
    },
    {
      "cell_type": "code",
      "source": [
        "boundary = boundary.to_crs(epsg=3395)\n",
        "gdf_proj = gdf.to_crs(boundary.crs)"
      ],
      "metadata": {
        "id": "y7tkCLjtEzya"
      },
      "execution_count": 29,
      "outputs": []
    },
    {
      "cell_type": "markdown",
      "source": [
        "We have to convert the points into a numpy array using the points_to_coords() function from geovoronoi package.\n",
        "We also combine all the city boundaries into a single large polygon using the cascaded_union () function from shapely."
      ],
      "metadata": {
        "id": "88JXIitwFwD_"
      }
    },
    {
      "cell_type": "code",
      "source": [
        "from shapely.ops import cascaded_union\n",
        "from geovoronoi import voronoi_regions_from_coords, points_to_coords\n",
        "\n",
        "boundary_shape = cascaded_union(boundary.geometry)\n",
        "coords = points_to_coords(gdf_proj.geometry)"
      ],
      "metadata": {
        "colab": {
          "base_uri": "https://localhost:8080/"
        },
        "id": "Nz3a5zf6E2Ay",
        "outputId": "8d5c5ca7-66ad-47b2-8b86-a2274b0db97b"
      },
      "execution_count": 32,
      "outputs": [
        {
          "output_type": "stream",
          "name": "stderr",
          "text": [
            "/usr/local/lib/python3.7/dist-packages/ipykernel_launcher.py:4: ShapelyDeprecationWarning: The 'cascaded_union()' function is deprecated. Use 'unary_union()' instead.\n",
            "  after removing the cwd from sys.path.\n"
          ]
        }
      ]
    },
    {
      "cell_type": "markdown",
      "source": [
        "Now, calculate the voronoi regions from the coordinates of the airports. These voronoi regions could represent the service areas of each of the airports in the SCAG region."
      ],
      "metadata": {
        "id": "4cYIKOsDF49U"
      }
    },
    {
      "cell_type": "code",
      "source": [
        "region_polys, region_pts = voronoi_regions_from_coords(coords, boundary_shape)"
      ],
      "metadata": {
        "id": "YPAGc_MvFJoF"
      },
      "execution_count": 33,
      "outputs": []
    },
    {
      "cell_type": "markdown",
      "source": [
        "Finally, plot the voronoi regions with the individual airport locations."
      ],
      "metadata": {
        "id": "CrOhpY0rGGlw"
      }
    },
    {
      "cell_type": "code",
      "source": [
        "fig, ax = subplot_for_map(figsize = (10,10))\n",
        "plot_voronoi_polys_with_points_in_area(ax, boundary_shape, region_polys, coords, region_pts, points_markersize= 120, points_marker= \"*\")\n",
        "plt.show()"
      ],
      "metadata": {
        "id": "NnmpvPudFQkF"
      },
      "execution_count": null,
      "outputs": []
    }
  ]
}