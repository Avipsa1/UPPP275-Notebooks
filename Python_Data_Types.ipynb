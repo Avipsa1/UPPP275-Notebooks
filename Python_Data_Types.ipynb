{
  "nbformat": 4,
  "nbformat_minor": 0,
  "metadata": {
    "colab": {
      "name": "Python Data Types.ipynb",
      "provenance": [],
      "collapsed_sections": [],
      "authorship_tag": "ABX9TyMegugsPZw1aWiAGo5UVDmc",
      "include_colab_link": true
    },
    "kernelspec": {
      "name": "python3",
      "display_name": "Python 3"
    },
    "language_info": {
      "name": "python"
    }
  },
  "cells": [
    {
      "cell_type": "markdown",
      "metadata": {
        "id": "view-in-github",
        "colab_type": "text"
      },
      "source": [
        "<a href=\"https://colab.research.google.com/github/Avipsa1/UPPP275-Notebooks/blob/main/Python_Data_Types.ipynb\" target=\"_parent\"><img src=\"https://colab.research.google.com/assets/colab-badge.svg\" alt=\"Open In Colab\"/></a>"
      ]
    },
    {
      "cell_type": "markdown",
      "source": [
        "### Numbers"
      ],
      "metadata": {
        "id": "F1Y4x-Dr4pc4"
      }
    },
    {
      "cell_type": "markdown",
      "source": [
        "Create two variables 'city' and 'state' and store the names of a city & state of your choice and print it."
      ],
      "metadata": {
        "id": "_0hza5qm3BJB"
      }
    },
    {
      "cell_type": "code",
      "execution_count": null,
      "metadata": {
        "colab": {
          "base_uri": "https://localhost:8080/"
        },
        "id": "5Pj9ix_32wS2",
        "outputId": "b97cc2f0-1710-4254-b17d-4339080cde3f"
      },
      "outputs": [
        {
          "output_type": "stream",
          "name": "stdout",
          "text": [
            "San Francisco California\n"
          ]
        }
      ],
      "source": [
        "city = 'San Francisco'\n",
        "state = 'California'\n",
        "print(city, state)"
      ]
    },
    {
      "cell_type": "markdown",
      "source": [
        "Create 3 more variables to store the population and latitude, longitude of the city"
      ],
      "metadata": {
        "id": "FYt7BNw03xo8"
      }
    },
    {
      "cell_type": "code",
      "source": [
        "population = 881549\n",
        "latitude = 37.7739\n",
        "longitude = -121.5687"
      ],
      "metadata": {
        "id": "TTNIL3lS26ay"
      },
      "execution_count": null,
      "outputs": []
    },
    {
      "cell_type": "markdown",
      "source": [
        "Print the data type of the population and latitude variables"
      ],
      "metadata": {
        "id": "ie1D8zxD342H"
      }
    },
    {
      "cell_type": "code",
      "source": [
        "print(type(population))"
      ],
      "metadata": {
        "colab": {
          "base_uri": "https://localhost:8080/"
        },
        "id": "8FnS8bYh29VF",
        "outputId": "0ce979c0-5cd4-4399-c327-c3221cf9d357"
      },
      "execution_count": null,
      "outputs": [
        {
          "output_type": "stream",
          "name": "stdout",
          "text": [
            "<class 'int'>\n"
          ]
        }
      ]
    },
    {
      "cell_type": "code",
      "source": [
        "print(type(latitude))"
      ],
      "metadata": {
        "colab": {
          "base_uri": "https://localhost:8080/"
        },
        "id": "BUFHiSrX2_6u",
        "outputId": "8bd88ddd-12af-44d7-d0ed-fe5191be0ea3"
      },
      "execution_count": null,
      "outputs": [
        {
          "output_type": "stream",
          "name": "stdout",
          "text": [
            "<class 'float'>\n"
          ]
        }
      ]
    },
    {
      "cell_type": "markdown",
      "source": [
        "Store the elevation in feet and convert it into meters and print the values"
      ],
      "metadata": {
        "id": "EhpJ4Rum4An-"
      }
    },
    {
      "cell_type": "code",
      "source": [
        "elevation_feet = 934\n",
        "elevation_meters = elevation_feet * 0.3048\n",
        "print(elevation_meters)"
      ],
      "metadata": {
        "id": "sCrg0yrX4BOc"
      },
      "execution_count": null,
      "outputs": []
    },
    {
      "cell_type": "markdown",
      "source": [
        "Store the area in square miles and calculate the population density"
      ],
      "metadata": {
        "id": "3Og2J5H94OaH"
      }
    },
    {
      "cell_type": "code",
      "source": [
        "area_sqmi = 46.89\n",
        "density = population / area_sqmi\n",
        "print(density)"
      ],
      "metadata": {
        "id": "nHPCYKfx4LxJ"
      },
      "execution_count": null,
      "outputs": []
    },
    {
      "cell_type": "markdown",
      "source": [
        "We have a variable named distance_km below with the value 4135 - indicating the straight-line distance between San Francisco and New York in Kilometers. Create another variable called distance_mi and store the distance value in miles.\n",
        "\n",
        "Hint1: 1 mile = 1.60934 kilometers\n",
        "Add the code in the cell below and run it. The output should be 2569.37"
      ],
      "metadata": {
        "id": "Xn_mFbgI45A5"
      }
    },
    {
      "cell_type": "code",
      "source": [
        "distance_km = 4135\n",
        "# Remove this line and add code here"
      ],
      "metadata": {
        "id": "QFj1SCvx450G"
      },
      "execution_count": null,
      "outputs": []
    },
    {
      "cell_type": "markdown",
      "source": [
        "### Tuples"
      ],
      "metadata": {
        "id": "2u7RSr-l4bh3"
      }
    },
    {
      "cell_type": "markdown",
      "source": [
        "A tuple is a sequence of objects. It can have any number of objects inside. In Python tuples are written with round brackets ()."
      ],
      "metadata": {
        "id": "_XrYfVPw4_8s"
      }
    },
    {
      "cell_type": "code",
      "source": [
        "latitude = 37.7739\n",
        "longitude = -121.5687\n",
        "coordinates = (latitude, longitude)\n",
        "print(coordinates)"
      ],
      "metadata": {
        "id": "YgqrN7Xm4ohW"
      },
      "execution_count": null,
      "outputs": []
    },
    {
      "cell_type": "markdown",
      "source": [
        "You can access each item by its position, i.e. index. In programming, the counting starts from 0. So the first item has an index of 0, the second item an index of 1 and so now. The index has to be put inside square brackets []."
      ],
      "metadata": {
        "id": "WVKAobu25GqO"
      }
    },
    {
      "cell_type": "code",
      "source": [
        "y = coordinates[0]\n",
        "x = coordinates[1]\n",
        "print(x, y)"
      ],
      "metadata": {
        "id": "rMgBE7225HzH"
      },
      "execution_count": null,
      "outputs": []
    },
    {
      "cell_type": "markdown",
      "source": [
        "### Lists"
      ],
      "metadata": {
        "id": "I4rh0uMG5NEp"
      }
    },
    {
      "cell_type": "markdown",
      "source": [
        "A list is similar to a tuple - but with a key difference. With tuples, once created, they cannot be changed, i.e. they are immutable. But lists are mutable. You can add, delete or change elements within a list. In Python, lists are written with square brackets []"
      ],
      "metadata": {
        "id": "wwjgwVAq5Spb"
      }
    },
    {
      "cell_type": "code",
      "source": [
        "cities = ['San Francisco', 'Los Angeles', 'New York', 'Atlanta']\n",
        "print(cities)"
      ],
      "metadata": {
        "id": "Eqf1lkZ-5Py7"
      },
      "execution_count": null,
      "outputs": []
    },
    {
      "cell_type": "markdown",
      "source": [
        "You can access the elements from a list using index the same way as tuples."
      ],
      "metadata": {
        "id": "vS7SAloZ5Wdz"
      }
    },
    {
      "cell_type": "code",
      "source": [
        "print(cities[0])"
      ],
      "metadata": {
        "id": "LPAu9Zjd5Y8h"
      },
      "execution_count": null,
      "outputs": []
    },
    {
      "cell_type": "markdown",
      "source": [
        "You can call len() function with any Python object and it will calculates the size of the object."
      ],
      "metadata": {
        "id": "yOc9kJ9W5bRC"
      }
    },
    {
      "cell_type": "code",
      "source": [
        "print(len(cities))"
      ],
      "metadata": {
        "id": "fG53Vk-Z5d1q"
      },
      "execution_count": null,
      "outputs": []
    },
    {
      "cell_type": "markdown",
      "source": [
        "We can add items to the list using the append() method"
      ],
      "metadata": {
        "id": "Z2qNzZS55fu2"
      }
    },
    {
      "cell_type": "code",
      "source": [
        "cities.append('Boston')\n",
        "print(cities)"
      ],
      "metadata": {
        "id": "ARII6kUh5iJh"
      },
      "execution_count": null,
      "outputs": []
    },
    {
      "cell_type": "markdown",
      "source": [
        "s lists are mutable, you will see that the size of the list has now changed"
      ],
      "metadata": {
        "id": "9SbT8Whh5prI"
      }
    },
    {
      "cell_type": "code",
      "source": [
        "print(len(cities))"
      ],
      "metadata": {
        "id": "5m65Nr205qOE"
      },
      "execution_count": null,
      "outputs": []
    },
    {
      "cell_type": "code",
      "source": [
        "#Try adding one more item to the tuple and check the length of your list"
      ],
      "metadata": {
        "id": "1iLlJYjB5sym"
      },
      "execution_count": null,
      "outputs": []
    },
    {
      "cell_type": "markdown",
      "source": [
        "Another useful method for lists is sort() - which can sort the elements in a list."
      ],
      "metadata": {
        "id": "zzq_wL_t5zKs"
      }
    },
    {
      "cell_type": "code",
      "source": [
        "cities.sort()\n",
        "print(cities)"
      ],
      "metadata": {
        "id": "vcHVezAV51wS"
      },
      "execution_count": null,
      "outputs": []
    },
    {
      "cell_type": "markdown",
      "source": [
        "The default sorting is in ascending order. If we wanted to sort the list in a decending order, we can call the function with reverse=True"
      ],
      "metadata": {
        "id": "5EMR1FoB55AU"
      }
    },
    {
      "cell_type": "code",
      "source": [
        "cities.sort(reverse=True)\n",
        "print(cities)"
      ],
      "metadata": {
        "id": "sTkmQIsF5589"
      },
      "execution_count": null,
      "outputs": []
    },
    {
      "cell_type": "markdown",
      "source": [
        "### Sets"
      ],
      "metadata": {
        "id": "qcb0sg4B5-yW"
      }
    },
    {
      "cell_type": "markdown",
      "source": [
        "Sets are like lists, but with some interesting properties. Mainly that they contain only unique values. It also allows for set operations - such as intersection, union and difference. In practice, the sets are typically created from lists."
      ],
      "metadata": {
        "id": "wPaBniRH6AkA"
      }
    },
    {
      "cell_type": "code",
      "source": [
        "capitals = ['Sacramento', 'Boston', 'Austin', 'Atlanta']\n",
        "capitals_set = set(capitals)\n",
        "cities_set = set(cities)\n",
        "\n",
        "capital_cities = capitals_set.intersection(cities_set)\n",
        "print(capital_cities)"
      ],
      "metadata": {
        "id": "nc8MkOSY6EJ-"
      },
      "execution_count": null,
      "outputs": []
    },
    {
      "cell_type": "markdown",
      "source": [
        "Sets are also useful in finding unique elements in a list. Let’s merge the two lists using the extend() method. The resulting list will have duplicate elements. Creating a set from the list removes the duplicate elements."
      ],
      "metadata": {
        "id": "tpdUymj36G_p"
      }
    },
    {
      "cell_type": "code",
      "source": [
        "cities.extend(capitals)\n",
        "print(cities)\n",
        "print(set(cities))"
      ],
      "metadata": {
        "id": "Zm33VTA76J39"
      },
      "execution_count": null,
      "outputs": []
    },
    {
      "cell_type": "markdown",
      "source": [
        "### Dictionaries"
      ],
      "metadata": {
        "id": "0oXBKScV6Oqz"
      }
    },
    {
      "cell_type": "markdown",
      "source": [
        "In Python dictionaries are written with curly brackets {}. Dictionaries have keys and values. With lists, we can access each element by its index. But a dictionary makes it easy to access the element by name. Keys and values are separated by a colon :"
      ],
      "metadata": {
        "id": "kdqReSQ66T0Z"
      }
    },
    {
      "cell_type": "code",
      "source": [
        "data = {'city': 'San Francisco', 'population': 881549, 'coordinates': (-122.4194, 37.7749) }\n",
        "print(data)"
      ],
      "metadata": {
        "id": "lx1HF7b06MZc"
      },
      "execution_count": null,
      "outputs": []
    },
    {
      "cell_type": "markdown",
      "source": [
        "You can access an item of a dictionary by referring to its key name, inside square brackets."
      ],
      "metadata": {
        "id": "OQT3urAt6Z5i"
      }
    },
    {
      "cell_type": "code",
      "source": [
        "print(data['city'])"
      ],
      "metadata": {
        "id": "3CoBQk4h6aeJ"
      },
      "execution_count": null,
      "outputs": []
    },
    {
      "cell_type": "markdown",
      "source": [
        "From the dictionary below, how do you access the latitude and longitude values? print the latitude and longitude of new york city by extracting it from the dictionary below.\n",
        "\n",
        "The expected output should look like below.\n",
        "\n",
        "40.661\n",
        "\n",
        "\n",
        "\n",
        "-73.944"
      ],
      "metadata": {
        "id": "-BNANTpA6iVi"
      }
    },
    {
      "cell_type": "code",
      "source": [
        "nyc_data = {'city': 'New York', 'population': 8175133, 'coordinates': (40.661, -73.944) }"
      ],
      "metadata": {
        "id": "VAf5NSWn6kkQ"
      },
      "execution_count": null,
      "outputs": []
    },
    {
      "cell_type": "markdown",
      "source": [
        "### Strings"
      ],
      "metadata": {
        "id": "J4P-TR9p6wht"
      }
    },
    {
      "cell_type": "code",
      "source": [
        "city = 'San Francisco'\n",
        "print(len(city))"
      ],
      "metadata": {
        "id": "7P2eI6196yH3"
      },
      "execution_count": null,
      "outputs": []
    },
    {
      "cell_type": "code",
      "source": [
        "print(city.split())"
      ],
      "metadata": {
        "id": "Wb_zwBV8602k"
      },
      "execution_count": null,
      "outputs": []
    },
    {
      "cell_type": "code",
      "source": [
        "print(city.upper())"
      ],
      "metadata": {
        "id": "wSdgeCuV63NE"
      },
      "execution_count": null,
      "outputs": []
    },
    {
      "cell_type": "code",
      "source": [
        "city[0]"
      ],
      "metadata": {
        "id": "EEEQE7ed67My"
      },
      "execution_count": null,
      "outputs": []
    },
    {
      "cell_type": "code",
      "source": [
        "city[-1]"
      ],
      "metadata": {
        "id": "wMkkwyup69Gu"
      },
      "execution_count": null,
      "outputs": []
    },
    {
      "cell_type": "code",
      "source": [
        "city[0:3]"
      ],
      "metadata": {
        "id": "fxx68fkm6_j1"
      },
      "execution_count": null,
      "outputs": []
    },
    {
      "cell_type": "code",
      "source": [
        "city[4:]"
      ],
      "metadata": {
        "id": "nRNLZY6Z7BsX"
      },
      "execution_count": null,
      "outputs": []
    }
  ]
}