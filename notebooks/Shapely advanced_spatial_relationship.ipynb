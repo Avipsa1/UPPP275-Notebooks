{
  "nbformat": 4,
  "nbformat_minor": 0,
  "metadata": {
    "colab": {
      "name": "Shapely_spatial_relationship.ipynb",
      "provenance": [],
      "collapsed_sections": [],
      "toc_visible": true,
      "include_colab_link": true
    },
    "kernelspec": {
      "name": "python3",
      "display_name": "Python 3"
    }
  },
  "cells": [
    {
      "cell_type": "markdown",
      "metadata": {
        "id": "view-in-github",
        "colab_type": "text"
      },
      "source": [
        "<a href=\"https://colab.research.google.com/github/Avipsa1/UPPP275-Notebooks/blob/main/Shapely_spatial_relationship.ipynb\" target=\"_parent\"><img src=\"https://colab.research.google.com/assets/colab-badge.svg\" alt=\"Open In Colab\"/></a>"
      ]
    },
    {
      "cell_type": "markdown",
      "metadata": {
        "id": "lMFfQ7mR_nLe"
      },
      "source": [
        "## Spatial relationship\n",
        "\n",
        "This lecture will introduce how to use shapely to identify spatial relationships between geometries"
      ]
    },
    {
      "cell_type": "markdown",
      "metadata": {
        "id": "YlXq_m8s_0Rq"
      },
      "source": [
        "### Binary Predicates\n",
        "\n",
        "Standard binary predicates are implemented as methods. These predicates evaluate topological, set-theoretic relationships. In a few cases the results may not be what one might expect starting from different assumptions. All take another geometric object as argument and return True or False.\n",
        "\n"
      ]
    },
    {
      "cell_type": "markdown",
      "metadata": {
        "id": "FSoXOP32bHom"
      },
      "source": [
        "\n",
        "### 1. Equivalent\n",
        "\n",
        "**object.__ eq__(other)**:\n",
        "\n",
        "Returns True if the two objects are of the same geometric type, and the coordinates of the two objects match precisely.\n",
        "\n",
        "**object.equals(other)**:\n",
        "\n",
        "Returns True if the set-theoretic boundary, interior, and exterior of the object coincide with those of the other.\n",
        "\n",
        "The coordinates passed to the object constructors are of these sets, and determine them, but are not the entirety of the sets. This is a potential “gotcha” for new users. Equivalent lines, for example, can be constructed differently.\n",
        "\n",
        "**object.almost_equals(other[, decimal=6])**\n",
        "\n",
        "Returns True if the object is approximately equal to the other at all points to specified decimal place precision.\n"
      ]
    },
    {
      "cell_type": "code",
      "metadata": {
        "id": "uuPe-zOg_uvV",
        "outputId": "e7a59e0d-da5d-4762-ef14-e9cfa2f6affd",
        "colab": {
          "base_uri": "https://localhost:8080/",
          "height": 68
        }
      },
      "source": [
        "from shapely.geometry import LineString\n",
        "\n",
        "#The coordinates passed to the object constructors are of these sets, and determine them, \n",
        "#but are not the entirety of the sets. Equivalent lines, for example, can be constructed differently.\n",
        "\n",
        "a = LineString([(0, 0), (1, 1)])\n",
        "\n",
        "b = LineString([(0, 0), (0.5, 0.5), (1, 1)])\n",
        "\n",
        "c = LineString([(0, 0), (0, 0), (1, 1)])\n",
        "\n",
        "# since a and b and c are all on the same line, so they are equivalent\n",
        "\n",
        "print(\"a equals to b? \", a.equals(b))  # will return True\n",
        "\n",
        "print(\"b equals to c? \", a.equals(b))  # will return True\n",
        "      \n",
        "print(\"a==b? \", a == b ) # this is to check whether they are the same object, not if they refer to the same line\n",
        "\n",
        "\n"
      ],
      "execution_count": null,
      "outputs": [
        {
          "output_type": "stream",
          "text": [
            "a equals to b?  True\n",
            "b equals to c?  True\n",
            "a==b?  False\n"
          ],
          "name": "stdout"
        }
      ]
    },
    {
      "cell_type": "markdown",
      "metadata": {
        "id": "oLgeyIkIbwWM"
      },
      "source": [
        "### 2. Contains and Within\n",
        "\n",
        "**object.contains(other)**\n",
        "\n",
        "Returns True if no points of other lie in the exterior of the object and at least one point of the interior of other lies in the interior of object.\n",
        "\n",
        "**object.within(other)**\n",
        "\n",
        "This predicate applies to all types, and is inverse to within(). The expression a.contains(b) == b.within(a) always evaluates to True.\n",
        "\n",
        "**Note:** A line’s endpoints are part of its boundary and are therefore not contained.\n"
      ]
    },
    {
      "cell_type": "code",
      "metadata": {
        "id": "_TB16RYHbTbt",
        "outputId": "61a8dabb-7245-415a-dea2-dba0a5989ba6",
        "colab": {
          "base_uri": "https://localhost:8080/",
          "height": 68
        }
      },
      "source": [
        "from shapely.geometry import Point\n",
        "from shapely.geometry import LineString\n",
        "from shapely.geometry import Polygon\n",
        "\n",
        "\n",
        "# define a shapely Point and a shapely LineString\n",
        "\n",
        "pt = Point(0.5, 0.5)\n",
        "\n",
        "coords = [(0, 0), (1, 1)]\n",
        "line = LineString(coords)\n",
        "\n",
        "print(line.contains(pt))\n",
        "\n",
        "print(pt.within(line))\n",
        "\n",
        "# NOTE: A line’s endpoints are part of its boundary and are therefore not contained.\n",
        "pt2 = Point(1.0, 1.0)\n",
        "print(line.contains(pt2))\n"
      ],
      "execution_count": null,
      "outputs": [
        {
          "output_type": "stream",
          "text": [
            "True\n",
            "True\n",
            "False\n"
          ],
          "name": "stdout"
        }
      ]
    },
    {
      "cell_type": "code",
      "metadata": {
        "id": "KJvOFHELepsx",
        "outputId": "df2bd7c6-bc8a-4c48-e4f5-998c4fa7ff68",
        "colab": {
          "base_uri": "https://localhost:8080/",
          "height": 34
        }
      },
      "source": [
        "# Point in Polgyon\n",
        "\n",
        "a = Point(2, 2)\n",
        "b = Polygon([[1, 1], [1, 3], [3, 3], [3, 1]])\n",
        "c = Polygon([[0, 0], [0, 4], [4, 4], [4, 0]])\n",
        "d = Point(-1, -1)\n",
        "\n",
        "a.within(b)\n",
        "d.within(c)"
      ],
      "execution_count": null,
      "outputs": [
        {
          "output_type": "execute_result",
          "data": {
            "text/plain": [
              "False"
            ]
          },
          "metadata": {
            "tags": []
          },
          "execution_count": 17
        }
      ]
    },
    {
      "cell_type": "markdown",
      "metadata": {
        "id": "CDlXS6-ZdGpa"
      },
      "source": [
        "### 3. Cross\n",
        "\n",
        "**object.crosses(other)**\n",
        "\n",
        "Returns True if the interior of the object intersects the interior of the other but does not contain it, and the dimension of the intersection is less than the dimension of the one or the other."
      ]
    },
    {
      "cell_type": "code",
      "metadata": {
        "id": "2ooph1RecDGQ",
        "outputId": "e1ba8c8c-9f1e-4b87-c841-8bb5aefc77b6",
        "colab": {
          "base_uri": "https://localhost:8080/",
          "height": 68
        }
      },
      "source": [
        "# We can write the cross statement as:\n",
        "print(LineString(coords).crosses(LineString([(0, 1), (1, 0)])))\n",
        "\n",
        "# Or:\n",
        "coords2 = [(0, 1), (1, 0)]\n",
        "line2 = LineString(coords2)\n",
        "\n",
        "print(line.crosses(line2))\n",
        "\n",
        "\n",
        "#NOTE: A line does not cross a point that it contains.\n",
        "print(line.crosses(Point(0.5, 0.5)))"
      ],
      "execution_count": null,
      "outputs": [
        {
          "output_type": "stream",
          "text": [
            "True\n",
            "True\n",
            "False\n"
          ],
          "name": "stdout"
        }
      ]
    },
    {
      "cell_type": "markdown",
      "metadata": {
        "id": "eWXWY1dwdyf2"
      },
      "source": [
        "### 4. Disjoint\n",
        "\n",
        "**object.disjoint(other)**\n",
        "\n",
        "Returns True if the boundary and interior of the object do not intersect at all with those of the other."
      ]
    },
    {
      "cell_type": "code",
      "metadata": {
        "id": "tRzzc10yeK_A",
        "outputId": "8bb0869f-d20f-4e9c-ab69-9f428467927e",
        "colab": {
          "base_uri": "https://localhost:8080/",
          "height": 34
        }
      },
      "source": [
        "Point(0, 0).disjoint(Point(1, 1))"
      ],
      "execution_count": null,
      "outputs": [
        {
          "output_type": "execute_result",
          "data": {
            "text/plain": [
              "True"
            ]
          },
          "metadata": {
            "tags": []
          },
          "execution_count": 11
        }
      ]
    },
    {
      "cell_type": "markdown",
      "metadata": {
        "id": "Q8BgvbPOeQkA"
      },
      "source": [
        "### 5. Intersect, Overlap and Touch\n",
        "\n",
        "**object.intersects(other)**\n",
        "\n",
        "Returns True if the boundary or interior of the object intersect in any way with those of the other.\n",
        "\n",
        "In other words, geometric objects intersect if they have any boundary or interior point in common.\n",
        "\n",
        "**object.overlaps(other)**\n",
        "\n",
        "Returns True if the objects intersect (see above) but neither contains the other.\n",
        "\n",
        "**object.touches(other)**\n",
        "\n",
        "Returns True if the objects have at least one point in common and their interiors do not intersect with any part of the other."
      ]
    },
    {
      "cell_type": "code",
      "metadata": {
        "id": "M97NG--HePKR",
        "outputId": "ca6ffd41-ab8f-47b3-da19-332b266fb660",
        "colab": {
          "base_uri": "https://localhost:8080/",
          "height": 34
        }
      },
      "source": [
        "a = LineString([(0, 0), (1, 1)])\n",
        "\n",
        "b = LineString([(1, 1), (2, 2)])\n",
        "\n",
        "a.touches(b)\n"
      ],
      "execution_count": null,
      "outputs": [
        {
          "output_type": "execute_result",
          "data": {
            "text/plain": [
              "True"
            ]
          },
          "metadata": {
            "tags": []
          },
          "execution_count": 75
        }
      ]
    },
    {
      "cell_type": "markdown",
      "metadata": {
        "id": "OsmDZqEAfKa_"
      },
      "source": [
        "## DE-9IM Relationships and Spatial Analysis Methods\n",
        "\n",
        "As well as boolean attributes and methods, Shapely provides analysis methods that return new geometric objects.\n",
        "\n",
        "Almost every binary predicate method has a counterpart that returns a new geometric object. In addition, the set-theoretic boundary of an object is available as a read-only attribute.\n",
        "\n",
        "\n"
      ]
    },
    {
      "cell_type": "markdown",
      "metadata": {
        "id": "DAGG5dDSfk1-"
      },
      "source": [
        "\n",
        "### 1. Object.boundary\n",
        "\n",
        "Returns a lower dimensional object representing the object’s set-theoretic boundary."
      ]
    },
    {
      "cell_type": "code",
      "metadata": {
        "id": "KIsO7nkGeip-",
        "outputId": "326b621f-2b0e-4af3-dc01-2f9ddf6cf552",
        "colab": {
          "base_uri": "https://localhost:8080/",
          "height": 223
        }
      },
      "source": [
        "from shapely.geometry import MultiLineString\n",
        "\n",
        "coords = [((0, 0), (1, 1)), ((-1, 0), (1, 0))]\n",
        "lines = MultiLineString(coords)\n",
        "\n",
        "print(\"Boundary of the lines: \", lines.boundary)\n",
        "print(\"Type of the boundary object of the MultiLineString: \", type(lines.boundary))\n",
        "\n",
        "#print the coords of the boundary\n",
        "for pt in lines.boundary.geoms:\n",
        "   print(pt.x, pt.y)\n",
        "\n",
        "    \n",
        "lines\n",
        "    \n",
        "\n"
      ],
      "execution_count": null,
      "outputs": [
        {
          "output_type": "stream",
          "text": [
            "Boundary of the lines:  MULTIPOINT (-1 0, 0 0, 1 0, 1 1)\n",
            "Type of the boundary object of the MultiLineString:  <class 'shapely.geometry.multipoint.MultiPoint'>\n",
            "-1.0 0.0\n",
            "0.0 0.0\n",
            "1.0 0.0\n",
            "1.0 1.0\n"
          ],
          "name": "stdout"
        },
        {
          "output_type": "execute_result",
          "data": {
            "text/plain": [
              "<shapely.geometry.multilinestring.MultiLineString at 0x7f85abeb99b0>"
            ],
            "image/svg+xml": "<svg xmlns=\"http://www.w3.org/2000/svg\" xmlns:xlink=\"http://www.w3.org/1999/xlink\" width=\"100.0\" height=\"100.0\" viewBox=\"-1.08 -0.08 2.16 1.1600000000000001\" preserveAspectRatio=\"xMinYMin meet\"><g transform=\"matrix(1,0,0,-1,0,1.0)\"><g><polyline fill=\"none\" stroke=\"#66cc99\" stroke-width=\"0.0432\" points=\"0.0,0.0 1.0,1.0\" opacity=\"0.8\" /><polyline fill=\"none\" stroke=\"#66cc99\" stroke-width=\"0.0432\" points=\"-1.0,0.0 1.0,0.0\" opacity=\"0.8\" /></g></g></svg>"
          },
          "metadata": {
            "tags": []
          },
          "execution_count": 74
        }
      ]
    },
    {
      "cell_type": "markdown",
      "metadata": {
        "id": "6xGx4yaphRbT"
      },
      "source": [
        "### 2. Centroid\n",
        "\n"
      ]
    },
    {
      "cell_type": "code",
      "metadata": {
        "id": "p_GGzujsf45U",
        "outputId": "7bc6e4b9-2276-4f4b-876e-6fbb5e21a14a",
        "colab": {
          "base_uri": "https://localhost:8080/",
          "height": 172
        }
      },
      "source": [
        "lcent = LineString([(0, 0), (1, 1)]).centroid # get centroid of a line\n",
        "\n",
        "print(type(lcent))\n",
        "\n",
        "print(\"Centroid of line (0, 0), (1, 1): \", lcent)\n",
        "\n",
        "# Get centroid of a polygon\n",
        "b = Polygon([[1, 1], [1, 3], [3, 3], [3, 1]])\n",
        "\n",
        "pcent = b.centroid\n",
        "\n",
        "print(\"Centroid of polygon b: \", pcent)\n",
        "\n",
        "b"
      ],
      "execution_count": null,
      "outputs": [
        {
          "output_type": "stream",
          "text": [
            "<class 'shapely.geometry.point.Point'>\n",
            "Centroid of line (0, 0), (1, 1):  POINT (0.5 0.5)\n",
            "Centroid of polygon b:  POINT (2 2)\n"
          ],
          "name": "stdout"
        },
        {
          "output_type": "execute_result",
          "data": {
            "text/plain": [
              "<shapely.geometry.polygon.Polygon at 0x7f85abeb4048>"
            ],
            "image/svg+xml": "<svg xmlns=\"http://www.w3.org/2000/svg\" xmlns:xlink=\"http://www.w3.org/1999/xlink\" width=\"100.0\" height=\"100.0\" viewBox=\"0.92 0.92 2.16 2.16\" preserveAspectRatio=\"xMinYMin meet\"><g transform=\"matrix(1,0,0,-1,0,4.0)\"><path fill-rule=\"evenodd\" fill=\"#66cc99\" stroke=\"#555555\" stroke-width=\"0.0432\" opacity=\"0.6\" d=\"M 1.0,1.0 L 1.0,3.0 L 3.0,3.0 L 3.0,1.0 L 1.0,1.0 z\" /></g></svg>"
          },
          "metadata": {
            "tags": []
          },
          "execution_count": 73
        }
      ]
    },
    {
      "cell_type": "markdown",
      "metadata": {
        "id": "SuGp-RT8iKC1"
      },
      "source": [
        "### 3. Difference\n",
        "\n",
        "**object.difference(other)**:\n",
        "\n",
        "Returns a representation of the points making up this geometric object that do not make up the other object.\n",
        "\n",
        "\n",
        "**object.symmetric_difference(other):**\n",
        "\n",
        "Returns a representation of the points in this object not in the other geometric object, and the points in the other not in this geometric object.\n"
      ]
    },
    {
      "cell_type": "code",
      "metadata": {
        "id": "iqGOZYWJhiQp",
        "outputId": "6db76df0-180c-4ec1-813a-73d9001ea540",
        "colab": {
          "base_uri": "https://localhost:8080/",
          "height": 1000
        }
      },
      "source": [
        "# Get two circles\n",
        "a = Point(1, 1).buffer(1.5)\n",
        "\n",
        "b = Point(2, 1).buffer(1.5)\n",
        "\n",
        "# Take the difference and return a Polygon containing part in a but not in b\n",
        "c = a.difference(b)\n",
        "\n",
        "print(\"a-b yield below polygon: \\n\")\n",
        "\n",
        "# print coordinates of the polygon\n",
        "for pt in c.exterior.coords:\n",
        "  print(pt[0], pt[1])\n",
        "  \n",
        "c"
      ],
      "execution_count": null,
      "outputs": [
        {
          "output_type": "stream",
          "text": [
            "a-b yield below polygon: \n",
            "\n",
            "1.5 -0.41230592043843134\n",
            "1.4354270158816953 -0.4354105035983127\n",
            "1.2926354830241944 -0.4711779206048452\n",
            "1.147025710494343 -0.49277709000829506\n",
            "1.0000000000000024 -0.5\n",
            "0.8529742895056617 -0.4927770900082955\n",
            "0.7073645169758103 -0.4711779206048461\n",
            "0.5645729841183093 -0.435410503598314\n",
            "0.42597485145236824 -0.38581929876693133\n",
            "0.29290489476100645 -0.3228818965225342\n",
            "0.16664465047059918 -0.24720441845381957\n",
            "0.0484100737545341 -0.15951568004410732\n",
            "-0.060660171779819416 -0.06066017177982319\n",
            "-0.15951568004410377 0.04841007375452977\n",
            "-0.24720441845381647 0.1666446504705945\n",
            "-0.3228818965225315 0.29290489476100146\n",
            "-0.38581929876692933 0.42597485145236336\n",
            "-0.4354105035983127 0.5645729841183045\n",
            "-0.4711779206048452 0.7073645169758058\n",
            "-0.4927770900082953 0.8529742895056575\n",
            "-0.5 0.9999999999999984\n",
            "-0.4927770900082953 1.1470257104943395\n",
            "-0.4711779206048461 1.2926354830241913\n",
            "-0.43541050359831357 1.4354270158816926\n",
            "-0.38581929876693044 1.574025148547634\n",
            "-0.32288189652253285 1.707095105238996\n",
            "-0.24720441845381824 1.8333553495294028\n",
            "-0.15951568004410577 1.951589926245468\n",
            "-0.060660171779821415 2.060660171779821\n",
            "0.0484100737545311 2.159515680044105\n",
            "0.16664465047059562 2.2472044184538174\n",
            "0.292904894761002 2.3228818965225315\n",
            "0.42597485145236325 2.385819298766929\n",
            "0.5645729841183038 2.4354105035983125\n",
            "0.7073645169758044 2.4711779206048448\n",
            "0.8529742895056553 2.492777090008295\n",
            "0.9999999999999958 2.5\n",
            "1.1470257104943362 2.4927770900082957\n",
            "1.292635483024187 2.4711779206048465\n",
            "1.435427015881688 2.435410503598315\n",
            "1.5000000000000002 2.412305920438431\n",
            "1.4259748514523634 2.385819298766929\n",
            "1.292904894761002 2.3228818965225315\n",
            "1.1666446504705956 2.2472044184538174\n",
            "1.048410073754531 2.159515680044105\n",
            "0.9393398282201786 2.060660171779821\n",
            "0.8404843199558942 1.951589926245468\n",
            "0.7527955815461818 1.8333553495294028\n",
            "0.6771181034774671 1.707095105238996\n",
            "0.6141807012330696 1.574025148547634\n",
            "0.5645894964016864 1.4354270158816926\n",
            "0.5288220793951539 1.2926354830241913\n",
            "0.5072229099917047 1.1470257104943395\n",
            "0.5 0.9999999999999984\n",
            "0.5072229099917047 0.8529742895056575\n",
            "0.5288220793951548 0.7073645169758058\n",
            "0.5645894964016873 0.5645729841183045\n",
            "0.6141807012330707 0.42597485145236336\n",
            "0.6771181034774685 0.29290489476100146\n",
            "0.7527955815461835 0.1666446504705945\n",
            "0.8404843199558962 0.04841007375452977\n",
            "0.9393398282201806 -0.06066017177982319\n",
            "1.048410073754534 -0.15951568004410732\n",
            "1.1666446504705992 -0.24720441845381957\n",
            "1.2929048947610065 -0.3228818965225342\n",
            "1.4259748514523682 -0.38581929876693133\n",
            "1.5 -0.41230592043843134\n"
          ],
          "name": "stdout"
        },
        {
          "output_type": "execute_result",
          "data": {
            "text/plain": [
              "<shapely.geometry.polygon.Polygon at 0x7f85abefe4e0>"
            ],
            "image/svg+xml": "<svg xmlns=\"http://www.w3.org/2000/svg\" xmlns:xlink=\"http://www.w3.org/1999/xlink\" width=\"100.0\" height=\"100.0\" viewBox=\"-0.62 -0.62 2.24 3.24\" preserveAspectRatio=\"xMinYMin meet\"><g transform=\"matrix(1,0,0,-1,0,2.0)\"><path fill-rule=\"evenodd\" fill=\"#66cc99\" stroke=\"#555555\" stroke-width=\"0.06480000000000001\" opacity=\"0.6\" d=\"M 1.5,-0.41230592043843134 L 1.4354270158816953,-0.4354105035983127 L 1.2926354830241944,-0.4711779206048452 L 1.147025710494343,-0.49277709000829506 L 1.0000000000000024,-0.5 L 0.8529742895056617,-0.4927770900082955 L 0.7073645169758103,-0.4711779206048461 L 0.5645729841183093,-0.435410503598314 L 0.42597485145236824,-0.38581929876693133 L 0.29290489476100645,-0.3228818965225342 L 0.16664465047059918,-0.24720441845381957 L 0.0484100737545341,-0.15951568004410732 L -0.060660171779819416,-0.06066017177982319 L -0.15951568004410377,0.04841007375452977 L -0.24720441845381647,0.1666446504705945 L -0.3228818965225315,0.29290489476100146 L -0.38581929876692933,0.42597485145236336 L -0.4354105035983127,0.5645729841183045 L -0.4711779206048452,0.7073645169758058 L -0.4927770900082953,0.8529742895056575 L -0.5,0.9999999999999984 L -0.4927770900082953,1.1470257104943395 L -0.4711779206048461,1.2926354830241913 L -0.43541050359831357,1.4354270158816926 L -0.38581929876693044,1.574025148547634 L -0.32288189652253285,1.707095105238996 L -0.24720441845381824,1.8333553495294028 L -0.15951568004410577,1.951589926245468 L -0.060660171779821415,2.060660171779821 L 0.0484100737545311,2.159515680044105 L 0.16664465047059562,2.2472044184538174 L 0.292904894761002,2.3228818965225315 L 0.42597485145236325,2.385819298766929 L 0.5645729841183038,2.4354105035983125 L 0.7073645169758044,2.4711779206048448 L 0.8529742895056553,2.492777090008295 L 0.9999999999999958,2.5 L 1.1470257104943362,2.4927770900082957 L 1.292635483024187,2.4711779206048465 L 1.435427015881688,2.435410503598315 L 1.5000000000000002,2.412305920438431 L 1.4259748514523634,2.385819298766929 L 1.292904894761002,2.3228818965225315 L 1.1666446504705956,2.2472044184538174 L 1.048410073754531,2.159515680044105 L 0.9393398282201786,2.060660171779821 L 0.8404843199558942,1.951589926245468 L 0.7527955815461818,1.8333553495294028 L 0.6771181034774671,1.707095105238996 L 0.6141807012330696,1.574025148547634 L 0.5645894964016864,1.4354270158816926 L 0.5288220793951539,1.2926354830241913 L 0.5072229099917047,1.1470257104943395 L 0.5,0.9999999999999984 L 0.5072229099917047,0.8529742895056575 L 0.5288220793951548,0.7073645169758058 L 0.5645894964016873,0.5645729841183045 L 0.6141807012330707,0.42597485145236336 L 0.6771181034774685,0.29290489476100146 L 0.7527955815461835,0.1666446504705945 L 0.8404843199558962,0.04841007375452977 L 0.9393398282201806,-0.06066017177982319 L 1.048410073754534,-0.15951568004410732 L 1.1666446504705992,-0.24720441845381957 L 1.2929048947610065,-0.3228818965225342 L 1.4259748514523682,-0.38581929876693133 L 1.5,-0.41230592043843134 z\" /></g></svg>"
          },
          "metadata": {
            "tags": []
          },
          "execution_count": 72
        }
      ]
    },
    {
      "cell_type": "markdown",
      "metadata": {
        "id": "UdbWrJrYCg1A"
      },
      "source": [
        "### 4. Union\n",
        "\n",
        "**object.union(other):**\n",
        "\n",
        "Returns a representation of the union of points from this object and the other geometric object.\n",
        "\n",
        "The type of object returned depends on the relationship between the operands. The union of polygons (for example) will be a polygon or a multi-polygon depending on whether they intersect or not.\n"
      ]
    },
    {
      "cell_type": "code",
      "metadata": {
        "id": "hawkD9QhCpyi",
        "outputId": "203eba3a-7fb5-41f3-fd76-58029951d813",
        "colab": {
          "base_uri": "https://localhost:8080/",
          "height": 138
        }
      },
      "source": [
        "a = Point(1, 1).buffer(1.5)\n",
        "\n",
        "b = Point(2, 1).buffer(1.5)\n",
        "\n",
        "c = a.union(b)\n",
        "\n",
        "print(type(c))\n",
        "\n",
        "# Exercise: Get all the coordinates of the intersected polygon c\n",
        "\n",
        "c"
      ],
      "execution_count": null,
      "outputs": [
        {
          "output_type": "stream",
          "text": [
            "<class 'shapely.geometry.polygon.Polygon'>\n"
          ],
          "name": "stdout"
        },
        {
          "output_type": "execute_result",
          "data": {
            "text/plain": [
              "<shapely.geometry.polygon.Polygon at 0x7f85abeb95c0>"
            ],
            "image/svg+xml": "<svg xmlns=\"http://www.w3.org/2000/svg\" xmlns:xlink=\"http://www.w3.org/1999/xlink\" width=\"100.0\" height=\"100.0\" viewBox=\"-0.66 -0.66 4.32 3.3200000000000003\" preserveAspectRatio=\"xMinYMin meet\"><g transform=\"matrix(1,0,0,-1,0,2.0)\"><path fill-rule=\"evenodd\" fill=\"#66cc99\" stroke=\"#555555\" stroke-width=\"0.0864\" opacity=\"0.6\" d=\"M 1.5,-0.41230592043843134 L 1.4354270158816953,-0.4354105035983127 L 1.2926354830241944,-0.4711779206048452 L 1.147025710494343,-0.49277709000829506 L 1.0000000000000024,-0.5 L 0.8529742895056617,-0.4927770900082955 L 0.7073645169758103,-0.4711779206048461 L 0.5645729841183093,-0.435410503598314 L 0.42597485145236824,-0.38581929876693133 L 0.29290489476100645,-0.3228818965225342 L 0.16664465047059918,-0.24720441845381957 L 0.0484100737545341,-0.15951568004410732 L -0.060660171779819416,-0.06066017177982319 L -0.15951568004410377,0.04841007375452977 L -0.24720441845381647,0.1666446504705945 L -0.3228818965225315,0.29290489476100146 L -0.38581929876692933,0.42597485145236336 L -0.4354105035983127,0.5645729841183045 L -0.4711779206048452,0.7073645169758058 L -0.4927770900082953,0.8529742895056575 L -0.5,0.9999999999999984 L -0.4927770900082953,1.1470257104943395 L -0.4711779206048461,1.2926354830241913 L -0.43541050359831357,1.4354270158816926 L -0.38581929876693044,1.574025148547634 L -0.32288189652253285,1.707095105238996 L -0.24720441845381824,1.8333553495294028 L -0.15951568004410577,1.951589926245468 L -0.060660171779821415,2.060660171779821 L 0.0484100737545311,2.159515680044105 L 0.16664465047059562,2.2472044184538174 L 0.292904894761002,2.3228818965225315 L 0.42597485145236325,2.385819298766929 L 0.5645729841183038,2.4354105035983125 L 0.7073645169758044,2.4711779206048448 L 0.8529742895056553,2.492777090008295 L 0.9999999999999958,2.5 L 1.1470257104943362,2.4927770900082957 L 1.292635483024187,2.4711779206048465 L 1.435427015881688,2.435410503598315 L 1.5000000000000002,2.412305920438431 L 1.5645729841183038,2.4354105035983125 L 1.7073645169758045,2.4711779206048448 L 1.8529742895056553,2.492777090008295 L 1.9999999999999958,2.5 L 2.147025710494336,2.4927770900082957 L 2.292635483024187,2.4711779206048465 L 2.4354270158816878,2.435410503598315 L 2.574025148547629,2.3858192987669327 L 2.7070951052389907,2.322881896522536 L 2.8333553495293975,2.247204418453822 L 2.9515899262454623,2.15951568004411 L 3.0606601717798156,2.060660171779827 L 3.1595156800441,1.951589926245475 L 3.247204418453813,1.833355349529411 L 3.322881896522528,1.707095105239005 L 3.385819298766926,1.5740251485476442 L 3.43541050359831,1.435427015881704 L 3.4711779206048434,1.2926354830242035 L 3.4927770900082944,1.1470257104943526 L 3.5,1.0000000000000124 L 3.5,1.0 L 3.4927770900082953,0.8529742895056592 L 3.4711779206048456,0.7073645169758078 L 3.4354105035983133,0.5645729841183068 L 3.3858192987669304,0.4259748514523659 L 3.322881896522533,0.29290489476100423 L 3.2472044184538182,0.1666446504705974 L 3.159515680044106,0.048410073754532545 L 3.0606601717798223,-0.060660171779820304 L 2.9515899262454695,-0.15951568004410444 L 2.8333553495294046,-0.2472044184538169 L 2.7070951052389978,-0.32288189652253174 L 2.574025148547636,-0.38581929876692955 L 2.4354270158816953,-0.4354105035983127 L 2.2926354830241946,-0.4711779206048452 L 2.147025710494343,-0.49277709000829506 L 2.000000000000002,-0.5 L 1.8529742895056618,-0.4927770900082955 L 1.7073645169758103,-0.4711779206048461 L 1.5645729841183091,-0.435410503598314 L 1.5,-0.41230592043843134 z\" /></g></svg>"
          },
          "metadata": {
            "tags": []
          },
          "execution_count": 67
        }
      ]
    },
    {
      "cell_type": "markdown",
      "metadata": {
        "id": "Wjr-56_i3H0i"
      },
      "source": [
        "### 5. Intersection\n",
        "\n",
        "**object.intersection(other):**\n",
        "\n",
        "Returns a representation of the intersection of this object with the other geometric object."
      ]
    },
    {
      "cell_type": "code",
      "metadata": {
        "id": "DuTilnGj3Knq",
        "outputId": "559db14d-5aae-4eb6-e92b-e210cd3b85d6",
        "colab": {
          "base_uri": "https://localhost:8080/",
          "height": 121
        }
      },
      "source": [
        "from shapely.geometry import LineString, MultiLineString\n",
        "\n",
        "# Create two lines\n",
        "line_a = LineString([(0, 0), (1, 1)])\n",
        "line_b = LineString([(1, 0.5), (0, 2)])\n",
        "line_c = LineString([(5, 6), (2, 7)])\n",
        "\n",
        "line_b.intersection(line_a)\n",
        "\n",
        "multi_line = MultiLineString([line_a, line_b, line_c])\n",
        "\n",
        "multi_line\n",
        "\n"
      ],
      "execution_count": null,
      "outputs": [
        {
          "output_type": "execute_result",
          "data": {
            "text/plain": [
              "<shapely.geometry.multilinestring.MultiLineString at 0x7f85abeb9f28>"
            ],
            "image/svg+xml": "<svg xmlns=\"http://www.w3.org/2000/svg\" xmlns:xlink=\"http://www.w3.org/1999/xlink\" width=\"100.0\" height=\"100.0\" viewBox=\"-0.28 -0.28 5.5600000000000005 7.5600000000000005\" preserveAspectRatio=\"xMinYMin meet\"><g transform=\"matrix(1,0,0,-1,0,7.0)\"><g><polyline fill=\"none\" stroke=\"#66cc99\" stroke-width=\"0.1512\" points=\"0.0,0.0 1.0,1.0\" opacity=\"0.8\" /><polyline fill=\"none\" stroke=\"#66cc99\" stroke-width=\"0.1512\" points=\"1.0,0.5 0.0,2.0\" opacity=\"0.8\" /><polyline fill=\"none\" stroke=\"#66cc99\" stroke-width=\"0.1512\" points=\"5.0,6.0 2.0,7.0\" opacity=\"0.8\" /></g></g></svg>"
          },
          "metadata": {
            "tags": []
          },
          "execution_count": 53
        }
      ]
    },
    {
      "cell_type": "code",
      "metadata": {
        "id": "pjpQqa1YAmuq",
        "outputId": "3236c325-7fa8-4829-be8a-db17c22f492f",
        "colab": {
          "base_uri": "https://localhost:8080/",
          "height": 68
        }
      },
      "source": [
        "num = len(multi_line)\n",
        "\n",
        "# check the intersection of every two lines in the MultiLineString\n",
        "for i in range(num-1): # from the first to the second last line\n",
        "  for j in range(i+1, num): # from i+1 to the end \n",
        "      line_i = multi_line[i]\n",
        "      line_j = multi_line[j]\n",
        "      print(line_i.intersection(line_j))"
      ],
      "execution_count": null,
      "outputs": [
        {
          "output_type": "stream",
          "text": [
            "POINT (0.8 0.8)\n",
            "GEOMETRYCOLLECTION EMPTY\n",
            "GEOMETRYCOLLECTION EMPTY\n"
          ],
          "name": "stdout"
        }
      ]
    },
    {
      "cell_type": "markdown",
      "metadata": {
        "id": "w75o0mkSDFP0"
      },
      "source": [
        "## Constructive Methods\n",
        "\n",
        "Shapely geometric object have several methods that yield new objects not derived from set-theoretic analysis.\n"
      ]
    },
    {
      "cell_type": "markdown",
      "metadata": {
        "id": "1qQk1vO0DLM7"
      },
      "source": [
        "### 1. Buffer\n",
        "\n",
        "**object.buffer**(distance, resolution=16, cap_style=1, join_style=1, mitre_limit=5.0)\n",
        "\n",
        "Returns an approximate representation of all points within a given distance of the this geometric object.\n",
        "\n",
        "The styles of caps are specified by integer values: 1 (round), 2 (flat), 3 (square). These values are also enumerated by the object shapely.geometry.CAP_STYLE (see below).\n",
        "\n",
        "The styles of joins between offset segments are specified by integer values: 1 (round), 2 (mitre), and 3 (bevel). These values are also enumerated by the object shapely.geometry.JOIN_STYLE (see below).\n",
        "\n",
        "shapely.geometry.CAP_STYLE\n",
        "Attribute\tValue\n",
        "round\t1\n",
        "flat\t2\n",
        "square\t3\n",
        "shapely.geometry.JOIN_STYLE\n",
        "Attribute\tValue\n",
        "round\t1\n",
        "mitre\t2\n",
        "bevel\t3"
      ]
    },
    {
      "cell_type": "code",
      "metadata": {
        "id": "jmpXGCzZBtKx",
        "outputId": "70b0c0a1-f961-4251-871f-7e4a4a8bb28d",
        "colab": {
          "base_uri": "https://localhost:8080/",
          "height": 121
        }
      },
      "source": [
        "line = LineString([(0, 0), (1, 1), (0, 2), (2, 2), (3, 1), (1, 0)])\n",
        "\n",
        "dilated = line.buffer(0.5)\n",
        "\n",
        "dilated"
      ],
      "execution_count": null,
      "outputs": [
        {
          "output_type": "execute_result",
          "data": {
            "text/plain": [
              "<shapely.geometry.polygon.Polygon at 0x7f85abea7ef0>"
            ],
            "image/svg+xml": "<svg xmlns=\"http://www.w3.org/2000/svg\" xmlns:xlink=\"http://www.w3.org/1999/xlink\" width=\"100.0\" height=\"100.0\" viewBox=\"-0.6599986858544988 -0.6599986858544988 4.319964518071469 3.3199973717089977\" preserveAspectRatio=\"xMinYMin meet\"><g transform=\"matrix(1,0,0,-1,0,2.0)\"><path fill-rule=\"evenodd\" fill=\"#66cc99\" stroke=\"#555555\" stroke-width=\"0.08639929036142938\" opacity=\"0.6\" d=\"M 0.29289321881345254,1.0 L -0.35355339059327373,1.6464466094067263 L -0.3865052266813704,1.6828033579181796 L -0.4157348061512742,1.7222148834902011 L -0.4409606321741788,1.7643016315870035 L -0.4619397662556444,1.8086582838174576 L -0.4784701678661052,1.8548576613727712 L -0.4903926402016157,1.9024548389919382 L -0.4975923633360987,1.950991429835222 L -0.5,2.000000000000002 L -0.49759236333609824,2.049008570164782 L -0.4903926402016148,2.097545161008066 L -0.4784701678661039,2.145142338627233 L -0.46193976625564276,2.1913417161825466 L -0.44096063217417686,2.2356983684130003 L -0.4157348061512719,2.277785116509802 L -0.3865052266813678,2.3171966420818237 L -0.3535533905932731,2.3535533905932744 L -0.31719664208182213,2.386505226681369 L -0.2777851165098006,2.415734806151273 L -0.23569836841299843,2.4409606321741775 L -0.19134171618254464,2.4619397662556435 L -0.14514233862723108,2.4784701678661043 L -0.09754516100806421,2.490392640201615 L -0.049008570164780545,2.4975923633360986 L -4.134730398713788e-16,2.5 L 2.0,2.5 L 2.0490085701647804,2.4975923633360986 L 2.097545161008064,2.490392640201615 L 2.145142338627231,2.4784701678661043 L 2.191341716182545,2.4619397662556435 L 2.235698368412999,2.4409606321741775 L 2.277785116509801,2.4157348061512725 L 2.317196642081823,2.3865052266813684 L 2.353553390593274,2.353553390593274 L 3.353553390593274,1.3535533905932737 L 3.3869593598581984,1.3166424700164734 L 3.416529207756272,1.2765925145153654 L 3.441969793619239,1.2338005592982344 L 3.4630289122153934,1.1886908223858001 L 3.4794977939859795,1.1417104991261375 L 3.491213174682082,1.093325328923881 L 3.49805891388465,1.0440149781329329 L 3.4999671463624717,0.9942682848843708 L 3.496918954854096,0.9445784129899474 L 3.488944557604095,0.8954379629629573 L 3.476123008794514,0.847334088623363 L 3.4585814148412894,0.8007436676987123 L 3.436493674324875,0.7561285742970899 L 3.410078754046775,0.713931100118443 L 3.3795985183022994,0.674569569796095 L 3.3453551328890363,0.6384341938357612 L 3.3076880695864137,0.6058832002639493 L 3.266970740802428,0.5772392833346471 L 3.223606797749979,0.5527864045000421 L 1.223606797749979,-0.4472135954999579 L 1.1786954721534506,-0.4669774386754197 L 1.1320632114752036,-0.48224403384060194 L 1.0841591098773555,-0.4928663553384946 L 1.035444510045339,-0.4987421044063213 L 0.986388560205646,-0.49981469436854764 L 0.9374636959719425,-0.49607379559750014 L 0.8891410905318503,-0.48755543499332726 L 0.8418861169915808,-0.47434164902525683 L 0.7961538665785228,-0.45655969367555144 L 0.7523847658639455,-0.4343808188948344 L 0.7110003352143541,-0.4080186193714501 L 0.6723991293199354,-0.3777269774978531 L 0.6369528988950185,-0.343797618344382 L 0.6050030105154757,-0.30655730018735905 L 0.5768571590719873,-0.2663646676482649 L 0.5527864045000421,-0.22360679774997905 L 0.5330225613245807,-0.17869547215345152 L 0.5318852523876161,-0.17522152879893138 L 0.35355339059327373,-0.35355339059327373 L 0.3171966420818222,-0.38650522668136894 L 0.2777851165098006,-0.41573480615127295 L 0.2356983684129983,-0.4409606321741778 L 0.1913417161825444,-0.4619397662556436 L 0.14514233862723072,-0.4784701678661046 L 0.09754516100806372,-0.4903926402016153 L 0.04900857016477994,-0.49759236333609846 L -3.0245073740886313e-16,-0.5 L -0.049008570164780545,-0.4975923633360984 L -0.09754516100806432,-0.4903926402016152 L -0.1451423386272313,-0.4784701678661044 L -0.19134171618254495,-0.46193976625564337 L -0.23569836841299885,-0.4409606321741775 L -0.277785116509801,-0.41573480615127273 L -0.3171966420818227,-0.38650522668136855 L -0.35355339059327373,-0.3535533905932738 L -0.38650522668136833,-0.3171966420818229 L -0.4157348061512724,-0.2777851165098014 L -0.44096063217417736,-0.23569836841299913 L -0.46193976625564326,-0.19134171618254514 L -0.4784701678661043,-0.1451423386272316 L -0.4903926402016151,-0.09754516100806473 L -0.49759236333609835,-0.04900857016478108 L -0.5,-9.494107596574928e-16 L -0.4975923633360986,0.04900857016477919 L -0.4903926402016155,0.09754516100806288 L -0.47847016786610486,0.1451423386272298 L -0.461939766255644,0.1913417161825434 L -0.44096063217417836,0.23569836841299724 L -0.41573480615127373,0.2777851165097995 L -0.38650522668136983,0.3171966420818211 L -0.3535533905932754,0.3535533905932721 L 0.29289321881345254,1.0 z M 1.4503736709046264,0.7842038298272606 L 2.1559174829590035,1.136975735854449 L 1.7928932188134525,1.5 L 1.2071067811865475,1.5 L 1.3535533905932737,1.3535533905932737 L 1.3865052266813684,1.3171966420818229 L 1.4157348061512727,1.277785116509801 L 1.4409606321741775,1.2356983684129987 L 1.4619397662556435,1.1913417161825448 L 1.4784701678661043,1.1451423386272312 L 1.4903926402016152,1.0975451610080642 L 1.4975923633360986,1.0490085701647802 L 1.5,1.0 L 1.4975923633360986,0.9509914298352197 L 1.4903926402016152,0.9024548389919359 L 1.4784701678661045,0.8548576613727689 L 1.4619397662556435,0.8086582838174551 L 1.4503736709046264,0.7842038298272606 z\" /></g></svg>"
          },
          "metadata": {
            "tags": []
          },
          "execution_count": 76
        }
      ]
    },
    {
      "cell_type": "code",
      "metadata": {
        "id": "B4y_k7Y4DgTX",
        "outputId": "e35f876a-9128-48cf-a3de-e0f87e124ce6",
        "colab": {
          "base_uri": "https://localhost:8080/",
          "height": 121
        }
      },
      "source": [
        "eroded = dilated.buffer(-0.3)\n",
        "\n",
        "eroded"
      ],
      "execution_count": null,
      "outputs": [
        {
          "output_type": "execute_result",
          "data": {
            "text/plain": [
              "<shapely.geometry.polygon.Polygon at 0x7f85abea7f28>"
            ],
            "image/svg+xml": "<svg xmlns=\"http://www.w3.org/2000/svg\" xmlns:xlink=\"http://www.w3.org/1999/xlink\" width=\"100.0\" height=\"100.0\" viewBox=\"-0.3356083064751497 -0.3356083064751497 3.6711928462392214 2.6715784118914176\" preserveAspectRatio=\"xMinYMin meet\"><g transform=\"matrix(1,0,0,-1,0,2.000361798941118)\"><path fill-rule=\"evenodd\" fill=\"#66cc99\" stroke=\"#555555\" stroke-width=\"0.07342385692478443\" opacity=\"0.6\" d=\"M 0.5050252531694168,0.7878679656440357 L 0.5247963548222736,0.8096820147509064 L 0.5423341025042161,0.8333289300941193 L 0.557469598117959,0.8585809789522008 L 0.5700570785668386,0.8851949702904731 L 0.5799753195331152,0.9129145968236613 L 0.5871288029344217,0.9414729033951615 L 0.5914486368151116,0.9705948579011319 L 0.5928932188134526,1.0 L 0.5914486368151116,1.0294051420988681 L 0.5871288029344217,1.0585270966048386 L 0.5799753195331152,1.0870854031763386 L 0.5700570785668386,1.1148050297095269 L 0.5574695981179589,1.1414190210477992 L 0.5423341025042161,1.1666710699058807 L 0.5247963548222736,1.1903179852490937 L 0.5050252531694168,1.2121320343559643 L -0.13621380708870784,1.8533710946140889 L -0.15432241630904883,1.8733508659857347 L -0.165993097635207,1.8890869581181033 L -0.17606517469008098,1.9058912034750313 L -0.18444164786567485,1.923601767987596 L -0.19104184714626118,1.9420480892379615 L -0.1958022090047325,1.961052519068703 L -0.1986768885541129,1.9804320344316715 L -0.19963820105888225,2.0000000000000013 L -0.19867688855411278,2.0195679655683296 L -0.19580220900473197,2.0389474809312995 L -0.1910418471462608,2.0579519107620396 L -0.184441647865674,2.0763982320124064 L -0.1760651746900811,2.0941087965249685 L -0.16599309763520584,2.110913041881898 L -0.15432241630904767,2.1266491340142664 L -0.14116552575261862,2.141165525752619 L -0.12664913401426717,2.154322416309047 L -0.11091304188189545,2.1659930976352078 L -0.09410879652497112,2.1760651746900797 L -0.07639823201240542,2.184441647865674 L -0.057951910762038795,2.191041847146261 L -0.038947480931297164,2.195802209004732 L -0.019567965568329772,2.198676888554113 L 0.007364586632681133,2.2 L 1.9926354133673185,2.2 L 2.0195679655683296,2.198676888554113 L 2.0389474809312977,2.195802209004732 L 2.0579519107620405,2.1910418471462605 L 2.076398232012405,2.1844416478656745 L 2.094108796524969,2.176065174690081 L 2.1109130418818958,2.1659930976352073 L 2.1266491340142686,2.1543224163090464 L 2.146628905385912,2.1362138070887076 L 3.1361377664312835,1.1467049460433356 L 3.1544954989456087,1.1264211218730886 L 3.1663014116038086,1.1104309727779462 L 3.1764586953242713,1.0933460663046861 L 3.1848666558813163,1.0753357736627291 L 3.191441940963334,1.0565786398766723 L 3.196119366485863,1.0372606137803255 L 3.198852562793971,1.0175732046130626 L 3.199614434347804,0.9977115834930848 L 3.198397428334199,0.9778726485886986 L 3.195213609541494,0.9582530731683888 L 3.1900945407552586,0.9390473558805678 L 3.1830909698606353,0.9204458925913009 L 3.1742723267532185,0.9026330888950337 L 3.163726035045818,0.8857855320098265 L 3.151556645394541,0.8700702401801028 L 3.1378847990359278,0.8556430069413864 L 3.1228460318101208,0.8426468566611722 L 3.106589430526412,0.8312106266669668 L 3.082759447896349,0.8177729261981954 L 1.096029805634735,-0.17559189493261151 L 1.0713488851961646,-0.18645307158449062 L 1.0527297239299365,-0.192548662774633 L 1.0336027465972633,-0.1967899050844499 L 1.0141521564457305,-0.1991359530319984 L 0.9945652732912673,-0.19956421289306378 L 0.9750307295259352,-0.19807056029107326 L 0.9557366534848581,-0.19466937991709726 L 0.9368688576675293,-0.18939342699741193 L 0.9186090492618553,-0.182293511842763 L 0.901133080204608,-0.17343801051729751 L 0.8846092536311471,-0.16291220633969003 L 0.8691967030242164,-0.15081746855816022 L 0.8550438596715192,-0.13727027610920173 L 0.8422870231912706,-0.12240109586174412 L 0.8310490488923733,-0.106353126149893 L 0.8214381646106275,-0.08928091769468625 L 0.8091765639247368,-0.061417675922844576 L 0.8065989585174789,-0.054671208747944344 L 0.7936129177762209,-0.028597420378008637 L 0.7781594258186874,-0.003905938437625822 L 0.7603841712463093,0.019170456839387423 L 0.7404547311986647,0.040414211532970784 L 0.7185589915112545,0.05962504903774857 L 0.6949033754119891,0.07662185818117251 L 0.6697108974554407,0.09124440065854733 L 0.6432190610414987,0.10335482168800542 L 0.6156776193396795,0.11283894964365321 L 0.587346220728095,0.11960737241452901 L 0.5584919609448251,0.12359628034194253 L 0.5293868650289167,0.12476806778836008 L 0.50030532279014,0.12311168766651426 L 0.471521501984745,0.11864275558639481 L 0.443306763584641,0.11140340263827142 L 0.4159271035076797,0.10146187819964253 L 0.38964064492726647,0.08891190651066938 L 0.36469520480268053,0.07387180308401359 L 0.34132595757176565,0.05648335927917064 L 0.3197532180316518,0.036910505557032874 L 0.14662890538591142,-0.13621380708870753 L 0.12664913401426595,-0.15432241630904822 L 0.11091304188189753,-0.16599309763520628 L 0.0941087965249695,-0.17606517469008048 L 0.07639823201240475,-0.1844416478656744 L 0.05795191076203837,-0.19104184714626118 L 0.038947480931297566,-0.19580220900473239 L 0.01956796556832925,-0.19867688855411283 L 3.7754491365623246e-17,-0.19963820105888225 L -0.019567965568329165,-0.19867688855411283 L -0.03894748093129859,-0.1958022090047322 L -0.05795191076203875,-0.1910418471462611 L -0.07639823201240506,-0.18444164786567435 L -0.09410879652496996,-0.17606517469008032 L -0.11091304188189706,-0.16599309763520667 L -0.12664913401426636,-0.1543224163090479 L -0.1411655257526191,-0.14116552575261895 L -0.15432241630904733,-0.126649134014267 L -0.16599309763520664,-0.11091304188189699 L -0.1760651746900807,-0.09410879652496926 L -0.18444164786567396,-0.076398232012406 L -0.19104184714626113,-0.05795191076203856 L -0.19580220900473225,-0.038947480931298385 L -0.19867688855411275,-0.019567965568329966 L -0.19963820105888225,-1.5575990527300384e-16 L -0.19867688855411286,0.01956796556832899 L -0.1958022090047324,0.038947480931297546 L -0.19104184714626116,0.05795191076203868 L -0.1844416478656748,0.076398232012404 L -0.17606517469008087,0.09410879652496887 L -0.1659930976352068,0.11091304188189677 L -0.15432241630904833,0.1266491340142658 L -0.13621380708870875,0.14662890538591025 L 0.5050252531694168,0.7878679656440357 z M 1.179176882967594,0.9124703578563461 L 1.1678221817910253,0.8850237484926042 L 1.1592372562731248,0.8565888287946872 L 1.153506262111692,0.8274443385727512 L 1.1506853786890343,0.7978759733644638 L 1.150802258360708,0.7681735838390864 L 1.153855755386973,0.7386283344699327 L 1.15981593716417,0.7095298493279589 L 1.1686243776459186,0.6811633729755041 L 1.1801947300778144,0.6538069742911629 L 1.1944135734312555,0.6277288206359444 L 1.2111415242390442,0.6031845490813208 L 1.2302146029337315,0.5804147604683108 L 1.2514458412948697,0.5596426608626517 L 1.2746271152477975,0.5410718735262405 L 1.299531185047528,0.5248844428534921 L 1.3259139228483743,0.5112390498394859 L 1.3535167058230455,0.5002694565731838 L 1.38206895137212,0.49208319500393005 L 1.4112907695719237,0.48676051283489946 L 1.440895706859583,0.4843535868766155 L 1.470593554059655,0.48488601157181993 L 1.5000931912260105,0.48835256770554597 L 1.529105441411753,0.49471927356766815 L 1.5573459053924448,0.5039237180663951 L 1.5845377495546138,0.5158756725272857 L 2.2900815616089907,0.8686475785544743 L 2.3160999274404603,0.8833193058552373 L 2.3405303247108518,0.9005056560128185 L 2.3631305626924255,0.9200362521559057 L 2.3836765939403834,0.9417174777321059 L 2.4019647353870686,0.9653343959255147 L 2.4178136875539282,0.9906528804327029 L 2.4310663318637773,1.0174219364736763 L 2.441591288235712,1.0453761890284667 L 2.4492842175214604,1.0742385136322232 L 2.454068855871461,1.1037227836484174 L 2.4558977707764864,1.1335367067850715 L 2.4547528312897935,1.1633847227342087 L 2.450645387768253,1.1929709332087775 L 2.4436161593505914,1.2220020353301315 L 2.4337348302882393,1.250190229285929 L 2.421099359130547,1.2772560714333896 L 2.4058350076127666,1.3029312445636683 L 2.3880930988739224,1.326961217864333 L 2.368049517314968,1.3491077702104133 L 2.005025253169417,1.7121320343559643 L 1.9832112040625463,1.731903136008821 L 1.9595642887193332,1.7494408836907636 L 1.9343122398612518,1.7645763793045064 L 1.9076982485229794,1.777163859753386 L 1.8799786219897912,1.7870821007196627 L 1.851420315418291,1.7942355841209692 L 1.8222983609123207,1.798555418001659 L 1.7928932188134525,1.8 L 1.2071067811865475,1.8 L 1.1777016390876776,1.798555418001659 L 1.1485796845817073,1.7942355841209687 L 1.1200213780102073,1.7870821007196622 L 1.0923017514770192,1.7771638597533854 L 1.0656877601387469,1.764576379304506 L 1.0404357112806655,1.7494408836907627 L 1.0167887959374526,1.7319031360088202 L 0.9949747468305823,1.7121320343559632 L 0.9752036451777255,1.6903179852490926 L 0.9576658974957832,1.6666710699058798 L 0.9425304018820404,1.6414190210477984 L 0.9299429214331612,1.614805029709526 L 0.9200246804668846,1.587085403176338 L 0.9128711970655782,1.5585270966048377 L 0.9085513631848883,1.5294051420988675 L 0.9071067811865474,1.4999999999999993 L 0.9085513631848885,1.4705948579011314 L 0.9128711970655784,1.4414729033951612 L 0.9200246804668849,1.412914596823661 L 0.9299429214331616,1.385194970290473 L 0.9425304018820411,1.3585809789522005 L 0.9576658974957839,1.3333289300941193 L 0.9752036451777263,1.3096820147509065 L 0.9949747468305831,1.287867965644036 L 1.1362138070887098,1.1466289053859091 L 1.1543224163090473,1.126649134014267 L 1.1659930976352069,1.1109130418818967 L 1.1760651746900799,1.0941087965249705 L 1.1844416478656743,1.076398232012405 L 1.1910418471462612,1.0579519107620383 L 1.1958022090047324,1.0389474809312975 L 1.1986768885541128,1.01956796556833 L 1.1996382010588822,1.0 L 1.1986768885541128,0.9804320344316703 L 1.1958022090047324,0.9610525190687029 L 1.191041847146261,0.9420480892379607 L 1.184441647865674,0.9236017679875942 L 1.179176882967594,0.9124703578563461 z\" /></g></svg>"
          },
          "metadata": {
            "tags": []
          },
          "execution_count": 77
        }
      ]
    },
    {
      "cell_type": "markdown",
      "metadata": {
        "id": "uAhwASZUEKsD"
      },
      "source": [
        "### 2. Convex_hull\n",
        "\n",
        "**object.convex_hull**:\n",
        "\n",
        "Returns a representation of the smallest convex Polygon containing all the points in the object unless the number of points in the object is less than three. For two points, the convex hull collapses to a LineString; for 1, a Point."
      ]
    },
    {
      "cell_type": "code",
      "metadata": {
        "id": "aOjtFkXcD_Rq",
        "outputId": "b3d78467-9c9d-4a8b-b154-07e861d50ac7",
        "colab": {
          "base_uri": "https://localhost:8080/",
          "height": 121
        }
      },
      "source": [
        "c = Point(0, 0).convex_hull\n",
        "\n",
        "c\n"
      ],
      "execution_count": null,
      "outputs": [
        {
          "output_type": "execute_result",
          "data": {
            "text/plain": [
              "<shapely.geometry.point.Point at 0x7f85abea7ba8>"
            ],
            "image/svg+xml": "<svg xmlns=\"http://www.w3.org/2000/svg\" xmlns:xlink=\"http://www.w3.org/1999/xlink\" width=\"100.0\" height=\"100.0\" viewBox=\"-1.0 -1.0 2.0 2.0\" preserveAspectRatio=\"xMinYMin meet\"><g transform=\"matrix(1,0,0,-1,0,0.0)\"><circle cx=\"0.0\" cy=\"0.0\" r=\"0.06\" stroke=\"#555555\" stroke-width=\"0.02\" fill=\"#66cc99\" opacity=\"0.6\" /></g></svg>"
          },
          "metadata": {
            "tags": []
          },
          "execution_count": 79
        }
      ]
    },
    {
      "cell_type": "code",
      "metadata": {
        "id": "C97HZWYrbGIW",
        "outputId": "ea32b214-d440-47d8-ea46-c170bbd0ab53",
        "colab": {
          "base_uri": "https://localhost:8080/",
          "height": 121
        }
      },
      "source": [
        "from shapely.geometry import MultiPoint\n",
        "\n",
        "d = MultiPoint([(0, 0), (1, 1)]).convex_hull\n",
        "\n",
        "d"
      ],
      "execution_count": null,
      "outputs": [
        {
          "output_type": "execute_result",
          "data": {
            "text/plain": [
              "<shapely.geometry.linestring.LineString at 0x7f85abeb4ef0>"
            ],
            "image/svg+xml": "<svg xmlns=\"http://www.w3.org/2000/svg\" xmlns:xlink=\"http://www.w3.org/1999/xlink\" width=\"100.0\" height=\"100.0\" viewBox=\"-0.04 -0.04 1.08 1.08\" preserveAspectRatio=\"xMinYMin meet\"><g transform=\"matrix(1,0,0,-1,0,1.0)\"><polyline fill=\"none\" stroke=\"#66cc99\" stroke-width=\"0.0216\" points=\"0.0,0.0 1.0,1.0\" opacity=\"0.8\" /></g></svg>"
          },
          "metadata": {
            "tags": []
          },
          "execution_count": 81
        }
      ]
    },
    {
      "cell_type": "code",
      "metadata": {
        "id": "ZW-6GxftbMVz",
        "outputId": "0aa3dc64-4af5-4e54-eabd-d42b4a6bf010",
        "colab": {
          "base_uri": "https://localhost:8080/",
          "height": 121
        }
      },
      "source": [
        "e = MultiPoint([(0, 0), (1, 1), (1, -1)]).convex_hull\n",
        "\n",
        "e"
      ],
      "execution_count": null,
      "outputs": [
        {
          "output_type": "execute_result",
          "data": {
            "text/plain": [
              "<shapely.geometry.polygon.Polygon at 0x7f85abeb9978>"
            ],
            "image/svg+xml": "<svg xmlns=\"http://www.w3.org/2000/svg\" xmlns:xlink=\"http://www.w3.org/1999/xlink\" width=\"100.0\" height=\"100.0\" viewBox=\"-0.08 -1.08 1.1600000000000001 2.16\" preserveAspectRatio=\"xMinYMin meet\"><g transform=\"matrix(1,0,0,-1,0,0.0)\"><path fill-rule=\"evenodd\" fill=\"#66cc99\" stroke=\"#555555\" stroke-width=\"0.0432\" opacity=\"0.6\" d=\"M 1.0,-1.0 L 0.0,0.0 L 1.0,1.0 L 1.0,-1.0 z\" /></g></svg>"
          },
          "metadata": {
            "tags": []
          },
          "execution_count": 82
        }
      ]
    },
    {
      "cell_type": "markdown",
      "metadata": {
        "id": "5TwP5_adbhlk"
      },
      "source": [
        "### 3. Envelop\n",
        "\n",
        "\n",
        "**object.envelope:**:\n",
        "\n",
        "Returns a representation of the point or smallest rectangular polygon (with sides parallel to the coordinate axes) that contains the object."
      ]
    },
    {
      "cell_type": "code",
      "metadata": {
        "id": "lwGOMj0jbnHC",
        "outputId": "35511370-45da-4c41-8bcc-d4d0c2eeae38",
        "colab": {
          "base_uri": "https://localhost:8080/",
          "height": 121
        }
      },
      "source": [
        "Point(0, 0).envelope"
      ],
      "execution_count": null,
      "outputs": [
        {
          "output_type": "execute_result",
          "data": {
            "text/plain": [
              "<shapely.geometry.point.Point at 0x7f85abea72b0>"
            ],
            "image/svg+xml": "<svg xmlns=\"http://www.w3.org/2000/svg\" xmlns:xlink=\"http://www.w3.org/1999/xlink\" width=\"100.0\" height=\"100.0\" viewBox=\"-1.0 -1.0 2.0 2.0\" preserveAspectRatio=\"xMinYMin meet\"><g transform=\"matrix(1,0,0,-1,0,0.0)\"><circle cx=\"0.0\" cy=\"0.0\" r=\"0.06\" stroke=\"#555555\" stroke-width=\"0.02\" fill=\"#66cc99\" opacity=\"0.6\" /></g></svg>"
          },
          "metadata": {
            "tags": []
          },
          "execution_count": 83
        }
      ]
    },
    {
      "cell_type": "code",
      "metadata": {
        "id": "4CC1gp3_bpy7",
        "outputId": "60172d40-5a8b-45fa-b0d5-c367f2995e47",
        "colab": {
          "base_uri": "https://localhost:8080/",
          "height": 121
        }
      },
      "source": [
        "MultiPoint([(0, 0), (1, 1)]).envelope"
      ],
      "execution_count": null,
      "outputs": [
        {
          "output_type": "execute_result",
          "data": {
            "text/plain": [
              "<shapely.geometry.polygon.Polygon at 0x7f85abea7198>"
            ],
            "image/svg+xml": "<svg xmlns=\"http://www.w3.org/2000/svg\" xmlns:xlink=\"http://www.w3.org/1999/xlink\" width=\"100.0\" height=\"100.0\" viewBox=\"-0.04 -0.04 1.08 1.08\" preserveAspectRatio=\"xMinYMin meet\"><g transform=\"matrix(1,0,0,-1,0,1.0)\"><path fill-rule=\"evenodd\" fill=\"#66cc99\" stroke=\"#555555\" stroke-width=\"0.0216\" opacity=\"0.6\" d=\"M 0.0,0.0 L 1.0,0.0 L 1.0,1.0 L 0.0,1.0 L 0.0,0.0 z\" /></g></svg>"
          },
          "metadata": {
            "tags": []
          },
          "execution_count": 84
        }
      ]
    },
    {
      "cell_type": "code",
      "metadata": {
        "id": "kSKKjrVubrRi"
      },
      "source": [
        ""
      ],
      "execution_count": null,
      "outputs": []
    },
    {
      "cell_type": "markdown",
      "metadata": {
        "id": "8jEUQp6FbyNS"
      },
      "source": [
        "### 4. Minimum rotated rectangle\n",
        "\n",
        "\n",
        "**object.minimum_rotated_rectangle** :\n",
        "\n",
        "Returns the general minimum bounding rectangle that contains the object. Unlike envelope this rectangle is not constrained to be parallel to the coordinate axes. If the convex hull of the object is a degenerate (line or point) this degenerate is returned."
      ]
    },
    {
      "cell_type": "code",
      "metadata": {
        "id": "K7PGKN57b6Ux",
        "outputId": "14f323fc-8075-40a1-f319-202aaba80a63",
        "colab": {
          "base_uri": "https://localhost:8080/",
          "height": 121
        }
      },
      "source": [
        "MultiPoint([(0,0),(1,1),(2,0.5)]).minimum_rotated_rectangle"
      ],
      "execution_count": null,
      "outputs": [
        {
          "output_type": "execute_result",
          "data": {
            "text/plain": [
              "<shapely.geometry.polygon.Polygon at 0x7f85abef6b38>"
            ],
            "image/svg+xml": "<svg xmlns=\"http://www.w3.org/2000/svg\" xmlns:xlink=\"http://www.w3.org/1999/xlink\" width=\"100.0\" height=\"100.0\" viewBox=\"-0.26352941176470585 -0.08705882352941176 2.3505882352941176 1.3800000000000001\" preserveAspectRatio=\"xMinYMin meet\"><g transform=\"matrix(1,0,0,-1,0,1.2058823529411764)\"><path fill-rule=\"evenodd\" fill=\"#66cc99\" stroke=\"#555555\" stroke-width=\"0.04701176470588235\" opacity=\"0.6\" d=\"M 1.8235294117647058,1.2058823529411764 L -0.1764705882352941,0.7058823529411764 L 0.0,0.0 L 2.0,0.5 L 1.8235294117647058,1.2058823529411764 z\" /></g></svg>"
          },
          "metadata": {
            "tags": []
          },
          "execution_count": 85
        }
      ]
    },
    {
      "cell_type": "code",
      "metadata": {
        "id": "rWFEY7m2b87T"
      },
      "source": [
        ""
      ],
      "execution_count": null,
      "outputs": []
    },
    {
      "cell_type": "markdown",
      "metadata": {
        "id": "XlTBcUB7cCR2"
      },
      "source": [
        "### 5. Simplify\n",
        "\n",
        "**object.simplify(tolerance, preserve_topology=True)**\n",
        "\n",
        "Returns a simplified representation of the geometric object.\n",
        "\n",
        "All points in the simplified object will be within the tolerance distance of the original geometry. By default a slower algorithm is used that preserves topology. If preserve topology is set to False the much quicker Douglas-Peucker algorithm is used."
      ]
    },
    {
      "cell_type": "code",
      "metadata": {
        "id": "2z485BDbcHsN",
        "outputId": "5be7d0a4-8199-4b76-94bb-4af27d3003d4",
        "colab": {
          "base_uri": "https://localhost:8080/",
          "height": 85
        }
      },
      "source": [
        "p = Point(0.0, 0.0)\n",
        "\n",
        "x = p.buffer(1.0)\n",
        "\n",
        "print(\"x's area is: \", x.area)\n",
        "\n",
        "print(\"total number of points along x boundary: \", len(x.exterior.coords))\n",
        "\n",
        "s = x.simplify(0.05, preserve_topology=False)\n",
        "\n",
        "print(\"area after simplify the polygon: \", s.area)\n",
        "\n",
        "print(\"total number of points along the simplified boundary: \", len(s.exterior.coords))\n",
        "\n",
        "# you can see from the below results, the change of area is small after the simplification\n",
        "# but total number of points has reduced from 66 to 17, making the polygon representation much simpler\n"
      ],
      "execution_count": null,
      "outputs": [
        {
          "output_type": "stream",
          "text": [
            "x's area is:  3.1365484905459384\n",
            "total number of points along x boundary:  66\n",
            "area after simplify the polygon:  3.0614674589207187\n",
            "total number of points along the simplified boundary:  17\n"
          ],
          "name": "stdout"
        }
      ]
    },
    {
      "cell_type": "markdown",
      "source": [
        "Rectangle Clipping in Shapely: The clip_by_rect() function in shapely returns the portion of a geometry within a rectangle."
      ],
      "metadata": {
        "id": "PDFLlSOOLQE-"
      }
    },
    {
      "cell_type": "code",
      "source": [
        "from shapely.geometry import Polygon\n",
        "from shapely.ops import clip_by_rect\n",
        "polygon = Polygon(\n",
        "       shell=[(0, 0), (0, 30), (30, 30), (30, 0), (0, 0)],\n",
        "       holes=[[(10, 10), (20, 10), (20, 20), (10, 20), (10, 10)]],\n",
        "    )\n",
        "clipped_polygon = clip_by_rect(polygon, 5, 5, 15, 15)\n",
        "print(clipped_polygon.wkt)"
      ],
      "metadata": {
        "id": "4_9YDlCPLKrc",
        "outputId": "3de0797e-1462-4318-de12-70fb5934585d",
        "colab": {
          "base_uri": "https://localhost:8080/"
        }
      },
      "execution_count": 10,
      "outputs": [
        {
          "output_type": "stream",
          "name": "stdout",
          "text": [
            "POLYGON ((5 5, 5 15, 10 15, 10 10, 15 10, 15 5, 5 5))\n"
          ]
        }
      ]
    },
    {
      "cell_type": "code",
      "source": [
        "polygon"
      ],
      "metadata": {
        "id": "ffGrHH9xLeHo",
        "outputId": "bb692ddf-74f0-4c06-8e03-5629996fdd57",
        "colab": {
          "base_uri": "https://localhost:8080/",
          "height": 121
        }
      },
      "execution_count": 11,
      "outputs": [
        {
          "output_type": "execute_result",
          "data": {
            "text/plain": [
              "<shapely.geometry.polygon.Polygon at 0x7f33d7367c90>"
            ],
            "image/svg+xml": "<svg xmlns=\"http://www.w3.org/2000/svg\" xmlns:xlink=\"http://www.w3.org/1999/xlink\" width=\"100.0\" height=\"100.0\" viewBox=\"-1.2 -1.2 32.4 32.4\" preserveAspectRatio=\"xMinYMin meet\"><g transform=\"matrix(1,0,0,-1,0,30.0)\"><path fill-rule=\"evenodd\" fill=\"#66cc99\" stroke=\"#555555\" stroke-width=\"0.648\" opacity=\"0.6\" d=\"M 0.0,0.0 L 0.0,30.0 L 30.0,30.0 L 30.0,0.0 L 0.0,0.0 z M 10.0,10.0 L 20.0,10.0 L 20.0,20.0 L 10.0,20.0 L 10.0,10.0 z\" /></g></svg>"
          },
          "metadata": {},
          "execution_count": 11
        }
      ]
    },
    {
      "cell_type": "code",
      "source": [
        "clipped_polygon"
      ],
      "metadata": {
        "id": "MdSf3BZ_Lj6G",
        "outputId": "2ee8c7d2-8d8f-4627-8493-7af0575d6bb8",
        "colab": {
          "base_uri": "https://localhost:8080/",
          "height": 121
        }
      },
      "execution_count": 14,
      "outputs": [
        {
          "output_type": "execute_result",
          "data": {
            "text/plain": [
              "<shapely.geometry.polygon.Polygon at 0x7f33dda82950>"
            ],
            "image/svg+xml": "<svg xmlns=\"http://www.w3.org/2000/svg\" xmlns:xlink=\"http://www.w3.org/1999/xlink\" width=\"100.0\" height=\"100.0\" viewBox=\"4.6 4.6 10.8 10.8\" preserveAspectRatio=\"xMinYMin meet\"><g transform=\"matrix(1,0,0,-1,0,20.0)\"><path fill-rule=\"evenodd\" fill=\"#66cc99\" stroke=\"#555555\" stroke-width=\"0.21600000000000003\" opacity=\"0.6\" d=\"M 5.0,5.0 L 5.0,15.0 L 10.0,15.0 L 10.0,10.0 L 15.0,10.0 L 15.0,5.0 L 5.0,5.0 z\" /></g></svg>"
          },
          "metadata": {},
          "execution_count": 14
        }
      ]
    }
  ]
}