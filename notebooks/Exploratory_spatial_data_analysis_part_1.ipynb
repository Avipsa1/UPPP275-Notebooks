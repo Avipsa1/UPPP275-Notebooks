{
  "nbformat": 4,
  "nbformat_minor": 0,
  "metadata": {
    "colab": {
      "name": "Exploratory spatial data analysis -part 1.ipynb",
      "provenance": [],
      "authorship_tag": "ABX9TyPV6jCavyaiD4ci+15zl9wp",
      "include_colab_link": true
    },
    "kernelspec": {
      "name": "python3",
      "display_name": "Python 3"
    },
    "language_info": {
      "name": "python"
    }
  },
  "cells": [
    {
      "cell_type": "markdown",
      "metadata": {
        "id": "view-in-github",
        "colab_type": "text"
      },
      "source": [
        "<a href=\"https://colab.research.google.com/github/Avipsa1/UPPP275-Notebooks/blob/main/Exploratory_spatial_data_analysis_part_1.ipynb\" target=\"_parent\"><img src=\"https://colab.research.google.com/assets/colab-badge.svg\" alt=\"Open In Colab\"/></a>"
      ]
    },
    {
      "cell_type": "code",
      "execution_count": 5,
      "metadata": {
        "id": "Vi8UNGLdAUyh"
      },
      "outputs": [],
      "source": [
        "import geopandas as gpd\n",
        "import matplotlib.pyplot as plt\n",
        "import numpy as np\n",
        "import pandas as pd\n",
        "import pysal as ps\n",
        "import seaborn as sns\n",
        "from scipy.stats import stats\n",
        "\n",
        "np.random.seed(0)"
      ]
    },
    {
      "cell_type": "code",
      "source": [
        "# load CA tracts, display shape\n",
        "tracts_ca = gpd.read_file('tl_2017_06_tract.shp')\n",
        "tracts_ca = tracts_ca.set_index('GEOID')\n",
        "tracts_ca.shape"
      ],
      "metadata": {
        "colab": {
          "base_uri": "https://localhost:8080/"
        },
        "id": "ih393x9dEPBq",
        "outputId": "9697e964-c565-4bf9-f83a-b39a2b5ffd3b"
      },
      "execution_count": 6,
      "outputs": [
        {
          "output_type": "execute_result",
          "data": {
            "text/plain": [
              "(8057, 12)"
            ]
          },
          "metadata": {},
          "execution_count": 6
        }
      ]
    },
    {
      "cell_type": "code",
      "source": [
        "# what variables are present?\n",
        "tracts_ca.columns"
      ],
      "metadata": {
        "colab": {
          "base_uri": "https://localhost:8080/"
        },
        "id": "DCc4qlK1Eek8",
        "outputId": "ee341e17-8321-4972-c2ed-63c6f0a8f63e"
      },
      "execution_count": 7,
      "outputs": [
        {
          "output_type": "execute_result",
          "data": {
            "text/plain": [
              "Index(['STATEFP', 'COUNTYFP', 'TRACTCE', 'NAME', 'NAMELSAD', 'MTFCC',\n",
              "       'FUNCSTAT', 'ALAND', 'AWATER', 'INTPTLAT', 'INTPTLON', 'geometry'],\n",
              "      dtype='object')"
            ]
          },
          "metadata": {},
          "execution_count": 7
        }
      ]
    },
    {
      "cell_type": "code",
      "source": [
        "# inspect the first 5 rows\n",
        "tracts_ca.head()"
      ],
      "metadata": {
        "colab": {
          "base_uri": "https://localhost:8080/",
          "height": 648
        },
        "id": "b8KNLA4XEhIq",
        "outputId": "862b927e-41f3-4408-e135-6abb6e1f7ec8"
      },
      "execution_count": 8,
      "outputs": [
        {
          "output_type": "execute_result",
          "data": {
            "text/plain": [
              "            STATEFP COUNTYFP TRACTCE     NAME              NAMELSAD  MTFCC  \\\n",
              "GEOID                                                                        \n",
              "06001442700      06      001  442700     4427     Census Tract 4427  G5020   \n",
              "06001442800      06      001  442800     4428     Census Tract 4428  G5020   \n",
              "06037204920      06      037  204920  2049.20  Census Tract 2049.20  G5020   \n",
              "06037205110      06      037  205110  2051.10  Census Tract 2051.10  G5020   \n",
              "06037205120      06      037  205120  2051.20  Census Tract 2051.20  G5020   \n",
              "\n",
              "            FUNCSTAT    ALAND  AWATER     INTPTLAT      INTPTLON  \\\n",
              "GEOID                                                              \n",
              "06001442700        S  1234034       0  +37.5371514  -122.0081094   \n",
              "06001442800        S  1278647       0  +37.5293619  -121.9931002   \n",
              "06037204920        S   909972       0  +34.0175004  -118.1974975   \n",
              "06037205110        S   286962       0  +34.0245059  -118.2142985   \n",
              "06037205120        S  1466129       0  +34.0187546  -118.2117956   \n",
              "\n",
              "                                                      geometry  \n",
              "GEOID                                                           \n",
              "06001442700  POLYGON ((-122.01721 37.53932, -122.01719 37.5...  \n",
              "06001442800  POLYGON ((-122.00230 37.52984, -122.00224 37.5...  \n",
              "06037204920  POLYGON ((-118.20284 34.01966, -118.20283 34.0...  \n",
              "06037205110  POLYGON ((-118.21963 34.02629, -118.21945 34.0...  \n",
              "06037205120  POLYGON ((-118.22023 34.02056, -118.22018 34.0...  "
            ],
            "text/html": [
              "\n",
              "  <div id=\"df-8b0f4063-feb0-48fd-bbcd-159c09fef9a7\">\n",
              "    <div class=\"colab-df-container\">\n",
              "      <div>\n",
              "<style scoped>\n",
              "    .dataframe tbody tr th:only-of-type {\n",
              "        vertical-align: middle;\n",
              "    }\n",
              "\n",
              "    .dataframe tbody tr th {\n",
              "        vertical-align: top;\n",
              "    }\n",
              "\n",
              "    .dataframe thead th {\n",
              "        text-align: right;\n",
              "    }\n",
              "</style>\n",
              "<table border=\"1\" class=\"dataframe\">\n",
              "  <thead>\n",
              "    <tr style=\"text-align: right;\">\n",
              "      <th></th>\n",
              "      <th>STATEFP</th>\n",
              "      <th>COUNTYFP</th>\n",
              "      <th>TRACTCE</th>\n",
              "      <th>NAME</th>\n",
              "      <th>NAMELSAD</th>\n",
              "      <th>MTFCC</th>\n",
              "      <th>FUNCSTAT</th>\n",
              "      <th>ALAND</th>\n",
              "      <th>AWATER</th>\n",
              "      <th>INTPTLAT</th>\n",
              "      <th>INTPTLON</th>\n",
              "      <th>geometry</th>\n",
              "    </tr>\n",
              "    <tr>\n",
              "      <th>GEOID</th>\n",
              "      <th></th>\n",
              "      <th></th>\n",
              "      <th></th>\n",
              "      <th></th>\n",
              "      <th></th>\n",
              "      <th></th>\n",
              "      <th></th>\n",
              "      <th></th>\n",
              "      <th></th>\n",
              "      <th></th>\n",
              "      <th></th>\n",
              "      <th></th>\n",
              "    </tr>\n",
              "  </thead>\n",
              "  <tbody>\n",
              "    <tr>\n",
              "      <th>06001442700</th>\n",
              "      <td>06</td>\n",
              "      <td>001</td>\n",
              "      <td>442700</td>\n",
              "      <td>4427</td>\n",
              "      <td>Census Tract 4427</td>\n",
              "      <td>G5020</td>\n",
              "      <td>S</td>\n",
              "      <td>1234034</td>\n",
              "      <td>0</td>\n",
              "      <td>+37.5371514</td>\n",
              "      <td>-122.0081094</td>\n",
              "      <td>POLYGON ((-122.01721 37.53932, -122.01719 37.5...</td>\n",
              "    </tr>\n",
              "    <tr>\n",
              "      <th>06001442800</th>\n",
              "      <td>06</td>\n",
              "      <td>001</td>\n",
              "      <td>442800</td>\n",
              "      <td>4428</td>\n",
              "      <td>Census Tract 4428</td>\n",
              "      <td>G5020</td>\n",
              "      <td>S</td>\n",
              "      <td>1278647</td>\n",
              "      <td>0</td>\n",
              "      <td>+37.5293619</td>\n",
              "      <td>-121.9931002</td>\n",
              "      <td>POLYGON ((-122.00230 37.52984, -122.00224 37.5...</td>\n",
              "    </tr>\n",
              "    <tr>\n",
              "      <th>06037204920</th>\n",
              "      <td>06</td>\n",
              "      <td>037</td>\n",
              "      <td>204920</td>\n",
              "      <td>2049.20</td>\n",
              "      <td>Census Tract 2049.20</td>\n",
              "      <td>G5020</td>\n",
              "      <td>S</td>\n",
              "      <td>909972</td>\n",
              "      <td>0</td>\n",
              "      <td>+34.0175004</td>\n",
              "      <td>-118.1974975</td>\n",
              "      <td>POLYGON ((-118.20284 34.01966, -118.20283 34.0...</td>\n",
              "    </tr>\n",
              "    <tr>\n",
              "      <th>06037205110</th>\n",
              "      <td>06</td>\n",
              "      <td>037</td>\n",
              "      <td>205110</td>\n",
              "      <td>2051.10</td>\n",
              "      <td>Census Tract 2051.10</td>\n",
              "      <td>G5020</td>\n",
              "      <td>S</td>\n",
              "      <td>286962</td>\n",
              "      <td>0</td>\n",
              "      <td>+34.0245059</td>\n",
              "      <td>-118.2142985</td>\n",
              "      <td>POLYGON ((-118.21963 34.02629, -118.21945 34.0...</td>\n",
              "    </tr>\n",
              "    <tr>\n",
              "      <th>06037205120</th>\n",
              "      <td>06</td>\n",
              "      <td>037</td>\n",
              "      <td>205120</td>\n",
              "      <td>2051.20</td>\n",
              "      <td>Census Tract 2051.20</td>\n",
              "      <td>G5020</td>\n",
              "      <td>S</td>\n",
              "      <td>1466129</td>\n",
              "      <td>0</td>\n",
              "      <td>+34.0187546</td>\n",
              "      <td>-118.2117956</td>\n",
              "      <td>POLYGON ((-118.22023 34.02056, -118.22018 34.0...</td>\n",
              "    </tr>\n",
              "  </tbody>\n",
              "</table>\n",
              "</div>\n",
              "      <button class=\"colab-df-convert\" onclick=\"convertToInteractive('df-8b0f4063-feb0-48fd-bbcd-159c09fef9a7')\"\n",
              "              title=\"Convert this dataframe to an interactive table.\"\n",
              "              style=\"display:none;\">\n",
              "        \n",
              "  <svg xmlns=\"http://www.w3.org/2000/svg\" height=\"24px\"viewBox=\"0 0 24 24\"\n",
              "       width=\"24px\">\n",
              "    <path d=\"M0 0h24v24H0V0z\" fill=\"none\"/>\n",
              "    <path d=\"M18.56 5.44l.94 2.06.94-2.06 2.06-.94-2.06-.94-.94-2.06-.94 2.06-2.06.94zm-11 1L8.5 8.5l.94-2.06 2.06-.94-2.06-.94L8.5 2.5l-.94 2.06-2.06.94zm10 10l.94 2.06.94-2.06 2.06-.94-2.06-.94-.94-2.06-.94 2.06-2.06.94z\"/><path d=\"M17.41 7.96l-1.37-1.37c-.4-.4-.92-.59-1.43-.59-.52 0-1.04.2-1.43.59L10.3 9.45l-7.72 7.72c-.78.78-.78 2.05 0 2.83L4 21.41c.39.39.9.59 1.41.59.51 0 1.02-.2 1.41-.59l7.78-7.78 2.81-2.81c.8-.78.8-2.07 0-2.86zM5.41 20L4 18.59l7.72-7.72 1.47 1.35L5.41 20z\"/>\n",
              "  </svg>\n",
              "      </button>\n",
              "      \n",
              "  <style>\n",
              "    .colab-df-container {\n",
              "      display:flex;\n",
              "      flex-wrap:wrap;\n",
              "      gap: 12px;\n",
              "    }\n",
              "\n",
              "    .colab-df-convert {\n",
              "      background-color: #E8F0FE;\n",
              "      border: none;\n",
              "      border-radius: 50%;\n",
              "      cursor: pointer;\n",
              "      display: none;\n",
              "      fill: #1967D2;\n",
              "      height: 32px;\n",
              "      padding: 0 0 0 0;\n",
              "      width: 32px;\n",
              "    }\n",
              "\n",
              "    .colab-df-convert:hover {\n",
              "      background-color: #E2EBFA;\n",
              "      box-shadow: 0px 1px 2px rgba(60, 64, 67, 0.3), 0px 1px 3px 1px rgba(60, 64, 67, 0.15);\n",
              "      fill: #174EA6;\n",
              "    }\n",
              "\n",
              "    [theme=dark] .colab-df-convert {\n",
              "      background-color: #3B4455;\n",
              "      fill: #D2E3FC;\n",
              "    }\n",
              "\n",
              "    [theme=dark] .colab-df-convert:hover {\n",
              "      background-color: #434B5C;\n",
              "      box-shadow: 0px 1px 3px 1px rgba(0, 0, 0, 0.15);\n",
              "      filter: drop-shadow(0px 1px 2px rgba(0, 0, 0, 0.3));\n",
              "      fill: #FFFFFF;\n",
              "    }\n",
              "  </style>\n",
              "\n",
              "      <script>\n",
              "        const buttonEl =\n",
              "          document.querySelector('#df-8b0f4063-feb0-48fd-bbcd-159c09fef9a7 button.colab-df-convert');\n",
              "        buttonEl.style.display =\n",
              "          google.colab.kernel.accessAllowed ? 'block' : 'none';\n",
              "\n",
              "        async function convertToInteractive(key) {\n",
              "          const element = document.querySelector('#df-8b0f4063-feb0-48fd-bbcd-159c09fef9a7');\n",
              "          const dataTable =\n",
              "            await google.colab.kernel.invokeFunction('convertToInteractive',\n",
              "                                                     [key], {});\n",
              "          if (!dataTable) return;\n",
              "\n",
              "          const docLinkHtml = 'Like what you see? Visit the ' +\n",
              "            '<a target=\"_blank\" href=https://colab.research.google.com/notebooks/data_table.ipynb>data table notebook</a>'\n",
              "            + ' to learn more about interactive tables.';\n",
              "          element.innerHTML = '';\n",
              "          dataTable['output_type'] = 'display_data';\n",
              "          await google.colab.output.renderOutput(dataTable, element);\n",
              "          const docLink = document.createElement('div');\n",
              "          docLink.innerHTML = docLinkHtml;\n",
              "          element.appendChild(docLink);\n",
              "        }\n",
              "      </script>\n",
              "    </div>\n",
              "  </div>\n",
              "  "
            ]
          },
          "metadata": {},
          "execution_count": 8
        }
      ]
    },
    {
      "cell_type": "code",
      "source": [
        "# retain LA county only (and drop channel island tracts)\n",
        "tracts_ca = tracts_ca[tracts_ca['COUNTYFP']=='037'].drop(index=['06037599100', '06037599000'])\n",
        "tracts_ca.shape"
      ],
      "metadata": {
        "colab": {
          "base_uri": "https://localhost:8080/"
        },
        "id": "g4ERCE3GElYg",
        "outputId": "bb83fa4f-2d96-4275-f3d3-402f26d2cefd"
      },
      "execution_count": 9,
      "outputs": [
        {
          "output_type": "execute_result",
          "data": {
            "text/plain": [
              "(2344, 12)"
            ]
          },
          "metadata": {},
          "execution_count": 9
        }
      ]
    },
    {
      "cell_type": "code",
      "source": [
        "# project spatial geometries to a meter-based projection for SoCal\n",
        "crs = '+proj=utm +zone=11 +ellps=WGS84 +datum=WGS84 +units=m +no_defs'\n",
        "tracts_ca = tracts_ca.to_crs(crs)"
      ],
      "metadata": {
        "id": "k5x-cf-eEnvg"
      },
      "execution_count": 10,
      "outputs": []
    },
    {
      "cell_type": "code",
      "source": [
        "# load CA tract-level census variables\n",
        "df_census = pd.read_csv('census_tracts_data_ca.csv', dtype={'GEOID10':str}).set_index('GEOID10')\n",
        "df_census.shape"
      ],
      "metadata": {
        "colab": {
          "base_uri": "https://localhost:8080/"
        },
        "id": "YtE_qy4_E6RP",
        "outputId": "caa19d95-9ed3-45ec-e9ca-c01457de2a1d"
      },
      "execution_count": 11,
      "outputs": [
        {
          "output_type": "execute_result",
          "data": {
            "text/plain": [
              "(8057, 27)"
            ]
          },
          "metadata": {},
          "execution_count": 11
        }
      ]
    },
    {
      "cell_type": "code",
      "source": [
        "df_census.columns"
      ],
      "metadata": {
        "colab": {
          "base_uri": "https://localhost:8080/"
        },
        "id": "0LP0LL1jE-_C",
        "outputId": "0c2d7cf5-44b2-4f6f-84c2-6fd5f8fcbf97"
      },
      "execution_count": 12,
      "outputs": [
        {
          "output_type": "execute_result",
          "data": {
            "text/plain": [
              "Index(['total_pop', 'median_age', 'pct_hispanic', 'pct_white', 'pct_black',\n",
              "       'pct_asian', 'pct_male', 'pct_single_family_home', 'med_home_value',\n",
              "       'med_rooms_per_home', 'pct_built_before_1940', 'pct_renting',\n",
              "       'rental_vacancy_rate', 'avg_renter_household_size', 'med_gross_rent',\n",
              "       'med_household_income', 'mean_commute_time', 'pct_commute_drive_alone',\n",
              "       'pct_below_poverty', 'pct_college_grad_student',\n",
              "       'pct_same_residence_year_ago', 'pct_bachelors_degree',\n",
              "       'pct_english_only', 'pct_foreign_born', 'state', 'county',\n",
              "       'county_name'],\n",
              "      dtype='object')"
            ]
          },
          "metadata": {},
          "execution_count": 12
        }
      ]
    },
    {
      "cell_type": "code",
      "source": [
        "df_census.head()"
      ],
      "metadata": {
        "colab": {
          "base_uri": "https://localhost:8080/",
          "height": 331
        },
        "id": "8TyT5BujFB1W",
        "outputId": "68961516-9c36-4a58-87c4-d00eab2a15b5"
      },
      "execution_count": 13,
      "outputs": [
        {
          "output_type": "execute_result",
          "data": {
            "text/plain": [
              "             total_pop  median_age  pct_hispanic  pct_white  pct_black  \\\n",
              "GEOID10                                                                  \n",
              "06001437701     3745.0        29.4          59.6       11.7        9.9   \n",
              "06001437102     4586.0        36.6          34.2       10.1        8.5   \n",
              "06001437101     7186.0        40.2          20.6       13.9        5.9   \n",
              "06001450752     5854.0        38.4           8.0       22.7        4.3   \n",
              "06001450751     8963.0        36.7           4.8       22.4        1.2   \n",
              "\n",
              "             pct_asian  pct_male  pct_single_family_home  med_home_value  \\\n",
              "GEOID10                                                                    \n",
              "06001437701      303.0      49.7                    19.2        310700.0   \n",
              "06001437102     1813.0      45.8                    28.0        384400.0   \n",
              "06001437101     3623.0      49.4                    76.1        582400.0   \n",
              "06001450752     3514.0      51.2                    80.5       1008600.0   \n",
              "06001450751     6020.0      48.7                    77.4        922500.0   \n",
              "\n",
              "             med_rooms_per_home  ...  pct_commute_drive_alone  \\\n",
              "GEOID10                          ...                            \n",
              "06001437701                 4.0  ...                     64.3   \n",
              "06001437102                 4.8  ...                     78.1   \n",
              "06001437101                 5.9  ...                     75.6   \n",
              "06001450752                 7.8  ...                     60.1   \n",
              "06001450751                 6.6  ...                     59.3   \n",
              "\n",
              "             pct_below_poverty  pct_college_grad_student  \\\n",
              "GEOID10                                                    \n",
              "06001437701               11.9                      15.7   \n",
              "06001437102               10.4                      45.5   \n",
              "06001437101                3.1                      34.5   \n",
              "06001450752                1.4                      15.9   \n",
              "06001450751                2.7                      10.9   \n",
              "\n",
              "             pct_same_residence_year_ago  pct_bachelors_degree  \\\n",
              "GEOID10                                                          \n",
              "06001437701                         93.8                  11.5   \n",
              "06001437102                         91.2                  22.0   \n",
              "06001437101                         90.0                  40.0   \n",
              "06001450752                         94.5                  65.7   \n",
              "06001450751                         78.8                  78.4   \n",
              "\n",
              "             pct_english_only  pct_foreign_born  state  county  county_name  \n",
              "GEOID10                                                                      \n",
              "06001437701              35.5              38.6      6       1      Alameda  \n",
              "06001437102              32.9              48.8      6       1      Alameda  \n",
              "06001437101              46.1              42.3      6       1      Alameda  \n",
              "06001450752              44.2              44.5      6       1      Alameda  \n",
              "06001450751              35.8              50.1      6       1      Alameda  \n",
              "\n",
              "[5 rows x 27 columns]"
            ],
            "text/html": [
              "\n",
              "  <div id=\"df-21fa1161-3648-4729-bfec-fb1eeb07bb3c\">\n",
              "    <div class=\"colab-df-container\">\n",
              "      <div>\n",
              "<style scoped>\n",
              "    .dataframe tbody tr th:only-of-type {\n",
              "        vertical-align: middle;\n",
              "    }\n",
              "\n",
              "    .dataframe tbody tr th {\n",
              "        vertical-align: top;\n",
              "    }\n",
              "\n",
              "    .dataframe thead th {\n",
              "        text-align: right;\n",
              "    }\n",
              "</style>\n",
              "<table border=\"1\" class=\"dataframe\">\n",
              "  <thead>\n",
              "    <tr style=\"text-align: right;\">\n",
              "      <th></th>\n",
              "      <th>total_pop</th>\n",
              "      <th>median_age</th>\n",
              "      <th>pct_hispanic</th>\n",
              "      <th>pct_white</th>\n",
              "      <th>pct_black</th>\n",
              "      <th>pct_asian</th>\n",
              "      <th>pct_male</th>\n",
              "      <th>pct_single_family_home</th>\n",
              "      <th>med_home_value</th>\n",
              "      <th>med_rooms_per_home</th>\n",
              "      <th>...</th>\n",
              "      <th>pct_commute_drive_alone</th>\n",
              "      <th>pct_below_poverty</th>\n",
              "      <th>pct_college_grad_student</th>\n",
              "      <th>pct_same_residence_year_ago</th>\n",
              "      <th>pct_bachelors_degree</th>\n",
              "      <th>pct_english_only</th>\n",
              "      <th>pct_foreign_born</th>\n",
              "      <th>state</th>\n",
              "      <th>county</th>\n",
              "      <th>county_name</th>\n",
              "    </tr>\n",
              "    <tr>\n",
              "      <th>GEOID10</th>\n",
              "      <th></th>\n",
              "      <th></th>\n",
              "      <th></th>\n",
              "      <th></th>\n",
              "      <th></th>\n",
              "      <th></th>\n",
              "      <th></th>\n",
              "      <th></th>\n",
              "      <th></th>\n",
              "      <th></th>\n",
              "      <th></th>\n",
              "      <th></th>\n",
              "      <th></th>\n",
              "      <th></th>\n",
              "      <th></th>\n",
              "      <th></th>\n",
              "      <th></th>\n",
              "      <th></th>\n",
              "      <th></th>\n",
              "      <th></th>\n",
              "      <th></th>\n",
              "    </tr>\n",
              "  </thead>\n",
              "  <tbody>\n",
              "    <tr>\n",
              "      <th>06001437701</th>\n",
              "      <td>3745.0</td>\n",
              "      <td>29.4</td>\n",
              "      <td>59.6</td>\n",
              "      <td>11.7</td>\n",
              "      <td>9.9</td>\n",
              "      <td>303.0</td>\n",
              "      <td>49.7</td>\n",
              "      <td>19.2</td>\n",
              "      <td>310700.0</td>\n",
              "      <td>4.0</td>\n",
              "      <td>...</td>\n",
              "      <td>64.3</td>\n",
              "      <td>11.9</td>\n",
              "      <td>15.7</td>\n",
              "      <td>93.8</td>\n",
              "      <td>11.5</td>\n",
              "      <td>35.5</td>\n",
              "      <td>38.6</td>\n",
              "      <td>6</td>\n",
              "      <td>1</td>\n",
              "      <td>Alameda</td>\n",
              "    </tr>\n",
              "    <tr>\n",
              "      <th>06001437102</th>\n",
              "      <td>4586.0</td>\n",
              "      <td>36.6</td>\n",
              "      <td>34.2</td>\n",
              "      <td>10.1</td>\n",
              "      <td>8.5</td>\n",
              "      <td>1813.0</td>\n",
              "      <td>45.8</td>\n",
              "      <td>28.0</td>\n",
              "      <td>384400.0</td>\n",
              "      <td>4.8</td>\n",
              "      <td>...</td>\n",
              "      <td>78.1</td>\n",
              "      <td>10.4</td>\n",
              "      <td>45.5</td>\n",
              "      <td>91.2</td>\n",
              "      <td>22.0</td>\n",
              "      <td>32.9</td>\n",
              "      <td>48.8</td>\n",
              "      <td>6</td>\n",
              "      <td>1</td>\n",
              "      <td>Alameda</td>\n",
              "    </tr>\n",
              "    <tr>\n",
              "      <th>06001437101</th>\n",
              "      <td>7186.0</td>\n",
              "      <td>40.2</td>\n",
              "      <td>20.6</td>\n",
              "      <td>13.9</td>\n",
              "      <td>5.9</td>\n",
              "      <td>3623.0</td>\n",
              "      <td>49.4</td>\n",
              "      <td>76.1</td>\n",
              "      <td>582400.0</td>\n",
              "      <td>5.9</td>\n",
              "      <td>...</td>\n",
              "      <td>75.6</td>\n",
              "      <td>3.1</td>\n",
              "      <td>34.5</td>\n",
              "      <td>90.0</td>\n",
              "      <td>40.0</td>\n",
              "      <td>46.1</td>\n",
              "      <td>42.3</td>\n",
              "      <td>6</td>\n",
              "      <td>1</td>\n",
              "      <td>Alameda</td>\n",
              "    </tr>\n",
              "    <tr>\n",
              "      <th>06001450752</th>\n",
              "      <td>5854.0</td>\n",
              "      <td>38.4</td>\n",
              "      <td>8.0</td>\n",
              "      <td>22.7</td>\n",
              "      <td>4.3</td>\n",
              "      <td>3514.0</td>\n",
              "      <td>51.2</td>\n",
              "      <td>80.5</td>\n",
              "      <td>1008600.0</td>\n",
              "      <td>7.8</td>\n",
              "      <td>...</td>\n",
              "      <td>60.1</td>\n",
              "      <td>1.4</td>\n",
              "      <td>15.9</td>\n",
              "      <td>94.5</td>\n",
              "      <td>65.7</td>\n",
              "      <td>44.2</td>\n",
              "      <td>44.5</td>\n",
              "      <td>6</td>\n",
              "      <td>1</td>\n",
              "      <td>Alameda</td>\n",
              "    </tr>\n",
              "    <tr>\n",
              "      <th>06001450751</th>\n",
              "      <td>8963.0</td>\n",
              "      <td>36.7</td>\n",
              "      <td>4.8</td>\n",
              "      <td>22.4</td>\n",
              "      <td>1.2</td>\n",
              "      <td>6020.0</td>\n",
              "      <td>48.7</td>\n",
              "      <td>77.4</td>\n",
              "      <td>922500.0</td>\n",
              "      <td>6.6</td>\n",
              "      <td>...</td>\n",
              "      <td>59.3</td>\n",
              "      <td>2.7</td>\n",
              "      <td>10.9</td>\n",
              "      <td>78.8</td>\n",
              "      <td>78.4</td>\n",
              "      <td>35.8</td>\n",
              "      <td>50.1</td>\n",
              "      <td>6</td>\n",
              "      <td>1</td>\n",
              "      <td>Alameda</td>\n",
              "    </tr>\n",
              "  </tbody>\n",
              "</table>\n",
              "<p>5 rows × 27 columns</p>\n",
              "</div>\n",
              "      <button class=\"colab-df-convert\" onclick=\"convertToInteractive('df-21fa1161-3648-4729-bfec-fb1eeb07bb3c')\"\n",
              "              title=\"Convert this dataframe to an interactive table.\"\n",
              "              style=\"display:none;\">\n",
              "        \n",
              "  <svg xmlns=\"http://www.w3.org/2000/svg\" height=\"24px\"viewBox=\"0 0 24 24\"\n",
              "       width=\"24px\">\n",
              "    <path d=\"M0 0h24v24H0V0z\" fill=\"none\"/>\n",
              "    <path d=\"M18.56 5.44l.94 2.06.94-2.06 2.06-.94-2.06-.94-.94-2.06-.94 2.06-2.06.94zm-11 1L8.5 8.5l.94-2.06 2.06-.94-2.06-.94L8.5 2.5l-.94 2.06-2.06.94zm10 10l.94 2.06.94-2.06 2.06-.94-2.06-.94-.94-2.06-.94 2.06-2.06.94z\"/><path d=\"M17.41 7.96l-1.37-1.37c-.4-.4-.92-.59-1.43-.59-.52 0-1.04.2-1.43.59L10.3 9.45l-7.72 7.72c-.78.78-.78 2.05 0 2.83L4 21.41c.39.39.9.59 1.41.59.51 0 1.02-.2 1.41-.59l7.78-7.78 2.81-2.81c.8-.78.8-2.07 0-2.86zM5.41 20L4 18.59l7.72-7.72 1.47 1.35L5.41 20z\"/>\n",
              "  </svg>\n",
              "      </button>\n",
              "      \n",
              "  <style>\n",
              "    .colab-df-container {\n",
              "      display:flex;\n",
              "      flex-wrap:wrap;\n",
              "      gap: 12px;\n",
              "    }\n",
              "\n",
              "    .colab-df-convert {\n",
              "      background-color: #E8F0FE;\n",
              "      border: none;\n",
              "      border-radius: 50%;\n",
              "      cursor: pointer;\n",
              "      display: none;\n",
              "      fill: #1967D2;\n",
              "      height: 32px;\n",
              "      padding: 0 0 0 0;\n",
              "      width: 32px;\n",
              "    }\n",
              "\n",
              "    .colab-df-convert:hover {\n",
              "      background-color: #E2EBFA;\n",
              "      box-shadow: 0px 1px 2px rgba(60, 64, 67, 0.3), 0px 1px 3px 1px rgba(60, 64, 67, 0.15);\n",
              "      fill: #174EA6;\n",
              "    }\n",
              "\n",
              "    [theme=dark] .colab-df-convert {\n",
              "      background-color: #3B4455;\n",
              "      fill: #D2E3FC;\n",
              "    }\n",
              "\n",
              "    [theme=dark] .colab-df-convert:hover {\n",
              "      background-color: #434B5C;\n",
              "      box-shadow: 0px 1px 3px 1px rgba(0, 0, 0, 0.15);\n",
              "      filter: drop-shadow(0px 1px 2px rgba(0, 0, 0, 0.3));\n",
              "      fill: #FFFFFF;\n",
              "    }\n",
              "  </style>\n",
              "\n",
              "      <script>\n",
              "        const buttonEl =\n",
              "          document.querySelector('#df-21fa1161-3648-4729-bfec-fb1eeb07bb3c button.colab-df-convert');\n",
              "        buttonEl.style.display =\n",
              "          google.colab.kernel.accessAllowed ? 'block' : 'none';\n",
              "\n",
              "        async function convertToInteractive(key) {\n",
              "          const element = document.querySelector('#df-21fa1161-3648-4729-bfec-fb1eeb07bb3c');\n",
              "          const dataTable =\n",
              "            await google.colab.kernel.invokeFunction('convertToInteractive',\n",
              "                                                     [key], {});\n",
              "          if (!dataTable) return;\n",
              "\n",
              "          const docLinkHtml = 'Like what you see? Visit the ' +\n",
              "            '<a target=\"_blank\" href=https://colab.research.google.com/notebooks/data_table.ipynb>data table notebook</a>'\n",
              "            + ' to learn more about interactive tables.';\n",
              "          element.innerHTML = '';\n",
              "          dataTable['output_type'] = 'display_data';\n",
              "          await google.colab.output.renderOutput(dataTable, element);\n",
              "          const docLink = document.createElement('div');\n",
              "          docLink.innerHTML = docLinkHtml;\n",
              "          element.appendChild(docLink);\n",
              "        }\n",
              "      </script>\n",
              "    </div>\n",
              "  </div>\n",
              "  "
            ]
          },
          "metadata": {},
          "execution_count": 13
        }
      ]
    },
    {
      "cell_type": "code",
      "source": [
        "# merge tract geometries with census variables\n",
        "tracts = tracts_ca.merge(df_census, left_index=True, right_index=True, how='left')\n",
        "tracts.shape"
      ],
      "metadata": {
        "colab": {
          "base_uri": "https://localhost:8080/"
        },
        "id": "wYuS_-b5FEg6",
        "outputId": "91b8b1fd-06b0-4ef9-f90a-e8c05cdf7a83"
      },
      "execution_count": 14,
      "outputs": [
        {
          "output_type": "execute_result",
          "data": {
            "text/plain": [
              "(2344, 39)"
            ]
          },
          "metadata": {},
          "execution_count": 14
        }
      ]
    },
    {
      "cell_type": "code",
      "source": [
        "# calculate pop density in persons per sq km\n",
        "# turn any infinities into nulls\n",
        "tracts['pop_density'] = tracts['total_pop'] / (tracts['ALAND'] / 1e6)\n",
        "tracts = tracts.replace([np.inf, -np.inf], np.nan)"
      ],
      "metadata": {
        "id": "cWY9WTV-FHkr"
      },
      "execution_count": 15,
      "outputs": []
    },
    {
      "cell_type": "code",
      "source": [
        "tracts.columns"
      ],
      "metadata": {
        "colab": {
          "base_uri": "https://localhost:8080/"
        },
        "id": "lUPRUyFYFJ7R",
        "outputId": "8bc735c9-0e55-4563-cdbd-d72e59977509"
      },
      "execution_count": 16,
      "outputs": [
        {
          "output_type": "execute_result",
          "data": {
            "text/plain": [
              "Index(['STATEFP', 'COUNTYFP', 'TRACTCE', 'NAME', 'NAMELSAD', 'MTFCC',\n",
              "       'FUNCSTAT', 'ALAND', 'AWATER', 'INTPTLAT', 'INTPTLON', 'geometry',\n",
              "       'total_pop', 'median_age', 'pct_hispanic', 'pct_white', 'pct_black',\n",
              "       'pct_asian', 'pct_male', 'pct_single_family_home', 'med_home_value',\n",
              "       'med_rooms_per_home', 'pct_built_before_1940', 'pct_renting',\n",
              "       'rental_vacancy_rate', 'avg_renter_household_size', 'med_gross_rent',\n",
              "       'med_household_income', 'mean_commute_time', 'pct_commute_drive_alone',\n",
              "       'pct_below_poverty', 'pct_college_grad_student',\n",
              "       'pct_same_residence_year_ago', 'pct_bachelors_degree',\n",
              "       'pct_english_only', 'pct_foreign_born', 'state', 'county',\n",
              "       'county_name', 'pop_density'],\n",
              "      dtype='object')"
            ]
          },
          "metadata": {},
          "execution_count": 16
        }
      ]
    },
    {
      "cell_type": "code",
      "source": [
        "# descriptive stats\n",
        "tracts['med_household_income'].describe()"
      ],
      "metadata": {
        "colab": {
          "base_uri": "https://localhost:8080/"
        },
        "id": "q_Ue6OHAFNSH",
        "outputId": "66312c83-f0f3-43c5-b1b3-d6af3af4e998"
      },
      "execution_count": 17,
      "outputs": [
        {
          "output_type": "execute_result",
          "data": {
            "text/plain": [
              "count      2306.000000\n",
              "mean      66214.160017\n",
              "std       32494.553182\n",
              "min        5682.000000\n",
              "25%       41781.000000\n",
              "50%       59409.500000\n",
              "75%       82134.000000\n",
              "max      250001.000000\n",
              "Name: med_household_income, dtype: float64"
            ]
          },
          "metadata": {},
          "execution_count": 17
        }
      ]
    },
    {
      "cell_type": "code",
      "source": [
        "# descriptive stats\n",
        "tracts['pop_density'].describe()"
      ],
      "metadata": {
        "colab": {
          "base_uri": "https://localhost:8080/"
        },
        "id": "m7JqBrhhFQHS",
        "outputId": "e21f6b07-9d01-45a2-cae5-eb9af55e91ed"
      },
      "execution_count": 18,
      "outputs": [
        {
          "output_type": "execute_result",
          "data": {
            "text/plain": [
              "count     2341.000000\n",
              "mean      5205.656863\n",
              "std       4367.637858\n",
              "min          0.000000\n",
              "25%       2462.185064\n",
              "50%       4166.181621\n",
              "75%       6740.945723\n",
              "max      37828.469314\n",
              "Name: pop_density, dtype: float64"
            ]
          },
          "metadata": {},
          "execution_count": 18
        }
      ]
    },
    {
      "cell_type": "code",
      "source": [
        "# inspect these variables' statistical distributions\n",
        "fig, axes = plt.subplots(1, 2, figsize=(12, 2))\n",
        "ax1 = sns.boxplot(ax=axes[0], x=tracts['med_household_income'])\n",
        "ax2 = sns.boxplot(ax=axes[1], x=tracts['pop_density'])"
      ],
      "metadata": {
        "colab": {
          "base_uri": "https://localhost:8080/",
          "height": 172
        },
        "id": "ETLNlHmjFm4L",
        "outputId": "81e2993e-d56e-4950-baeb-9129c0964c20"
      },
      "execution_count": 19,
      "outputs": [
        {
          "output_type": "display_data",
          "data": {
            "text/plain": [
              "<Figure size 864x144 with 2 Axes>"
            ],
            "image/png": "[encoded data removed]"
          },
          "metadata": {
            "needs_background": "light"
          }
        }
      ]
    },
    {
      "cell_type": "code",
      "source": [
        "# map a couple variables to inspect their spatial distributions\n",
        "cols = ['pop_density', 'med_household_income']\n",
        "for col in cols:\n",
        "    ax = tracts.dropna(subset=[col]).plot(column=col,\n",
        "                                          scheme='NaturalBreaks',\n",
        "                                          cmap='plasma',\n",
        "                                          figsize=(4, 4),\n",
        "                                          legend=True,\n",
        "                                          legend_kwds={'bbox_to_anchor': (1.7, 1)})\n",
        "    ax.set_title(col)\n",
        "    _ = ax.axis('off')"
      ],
      "metadata": {
        "colab": {
          "base_uri": "https://localhost:8080/",
          "height": 511
        },
        "id": "3sI2yMVLFrBH",
        "outputId": "80a7ddb0-c472-459e-eb31-fc5a19673faf"
      },
      "execution_count": 20,
      "outputs": [
        {
          "output_type": "display_data",
          "data": {
            "text/plain": [
              "<Figure size 288x288 with 1 Axes>"
            ],
            "image/png": "[encoded data removed]"
          },
          "metadata": {
            "needs_background": "light"
          }
        },
        {
          "output_type": "display_data",
          "data": {
            "text/plain": [
              "<Figure size 288x288 with 1 Axes>"
            ],
            "image/png": "[encoded data removed]"
          },
          "metadata": {
            "needs_background": "light"
          }
        }
      ]
    },
    {
      "cell_type": "code",
      "source": [
        "# calculate correlation coefficient and p-value\n",
        "subset = tracts.dropna(subset=['pop_density', 'med_household_income'])\n",
        "r, p = stats.pearsonr(x=subset['pop_density'],\n",
        "                      y=subset['med_household_income'])\n",
        "print('r={:.4f}, p={:.4f}'.format(r, p))"
      ],
      "metadata": {
        "colab": {
          "base_uri": "https://localhost:8080/"
        },
        "id": "3bgvNgcxFu59",
        "outputId": "cdb12b7f-eb1a-41a3-98ac-98661235dfb5"
      },
      "execution_count": 21,
      "outputs": [
        {
          "output_type": "stream",
          "name": "stdout",
          "text": [
            "r=-0.5016, p=0.0000\n"
          ]
        }
      ]
    },
    {
      "cell_type": "code",
      "source": [
        "# quick and dirty scatter plot with matplotlib\n",
        "fig, ax = plt.subplots()\n",
        "sc = ax.scatter(x=subset['pop_density'],\n",
        "                y=subset['med_household_income'],\n",
        "                s=1)"
      ],
      "metadata": {
        "colab": {
          "base_uri": "https://localhost:8080/",
          "height": 265
        },
        "id": "8OpN_UdLFx5u",
        "outputId": "bf5e1f0a-fec0-4c39-965d-9692ea11f254"
      },
      "execution_count": 22,
      "outputs": [
        {
          "output_type": "display_data",
          "data": {
            "text/plain": [
              "<Figure size 432x288 with 1 Axes>"
            ],
            "image/png": "[encoded data removed]"
          },
          "metadata": {
            "needs_background": "light"
          }
        }
      ]
    },
    {
      "cell_type": "code",
      "source": [
        "# estimate a simple linear regression model with scipy\n",
        "# what if you log transform your variables first?\n",
        "m, b, r, p, se = stats.linregress(x=subset['pop_density'],\n",
        "                                  y=subset['med_household_income'])\n",
        "print(f'm={m:.4f}, b={b:.4f}, r^2={r**2:.4f}, p={p:.4f}')"
      ],
      "metadata": {
        "colab": {
          "base_uri": "https://localhost:8080/"
        },
        "id": "2-axI34hF0j2",
        "outputId": "b88d8785-df79-4236-8770-989723da7f34"
      },
      "execution_count": 23,
      "outputs": [
        {
          "output_type": "stream",
          "name": "stdout",
          "text": [
            "m=-3.7386, b=85940.4814, r^2=0.2516, p=0.0000\n"
          ]
        }
      ]
    },
    {
      "cell_type": "code",
      "source": [
        "# now it's your turn\n",
        "# look through the list of columns, pick two new variables, and map them\n",
        "# do they look like they are correlated? would you expect them to be?"
      ],
      "metadata": {
        "id": "ucHQfbgsF3yu"
      },
      "execution_count": null,
      "outputs": []
    }
  ]
}