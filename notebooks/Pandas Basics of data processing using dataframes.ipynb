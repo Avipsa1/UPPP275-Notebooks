{
  "nbformat": 4,
  "nbformat_minor": 0,
  "metadata": {
    "colab": {
      "name": "Pandas - basics.ipynb",
      "provenance": [],
      "authorship_tag": "ABX9TyMx62TcGwTOItw0XulSq1Dy",
      "include_colab_link": true
    },
    "kernelspec": {
      "name": "python3",
      "display_name": "Python 3"
    },
    "language_info": {
      "name": "python"
    }
  },
  "cells": [
    {
      "cell_type": "markdown",
      "metadata": {
        "id": "view-in-github",
        "colab_type": "text"
      },
      "source": [
        "<a href=\"https://colab.research.google.com/github/Avipsa1/UPPP275-Notebooks/blob/main/Pandas_basics.ipynb\" target=\"_parent\"><img src=\"https://colab.research.google.com/assets/colab-badge.svg\" alt=\"Open In Colab\"/></a>"
      ]
    },
    {
      "cell_type": "markdown",
      "source": [
        "# Overview of today's topics: \n",
        "\n",
        "\n",
        "\n",
        "*   Quick Python refresher\n",
        "*   Pandas overview\n",
        "*   Load data files\n",
        "*   Select, filter, and slice data from a dataset\n",
        "*   Merging and concatenating datasets\n",
        "*   Grouping and summarizing data\n",
        "*   Vectorization, map, and apply\n",
        "\n"
      ],
      "metadata": {
        "id": "bcTqcAasgsli"
      }
    },
    {
      "cell_type": "code",
      "source": [
        "import numpy as np   #We can rename packages with a choice of short names, for example 'np' for numpy and 'pd' for pandas\n",
        "import pandas as pd"
      ],
      "metadata": {
        "id": "6ZLfhNL8g_uT"
      },
      "execution_count": 1,
      "outputs": []
    },
    {
      "cell_type": "markdown",
      "source": [
        "# We have already discussed the standard Python data types\n",
        "\n",
        "\n",
        "*   Integer\n",
        "*   Float\n",
        "*   String\n",
        "*   List\n",
        "*   Set\n",
        "*   Tuple\n",
        "*   Dictionary\n",
        "*   \n",
        "\n"
      ],
      "metadata": {
        "id": "56SgNc0ghQml"
      }
    },
    {
      "cell_type": "code",
      "source": [
        "# integers (int)\n",
        "x = 100\n",
        "type(x)"
      ],
      "metadata": {
        "colab": {
          "base_uri": "https://localhost:8080/"
        },
        "id": "f2jloZiVhLoy",
        "outputId": "d9bc754f-00b7-4636-ab8c-95062e9f6dee"
      },
      "execution_count": 2,
      "outputs": [
        {
          "output_type": "execute_result",
          "data": {
            "text/plain": [
              "int"
            ]
          },
          "metadata": {},
          "execution_count": 2
        }
      ]
    },
    {
      "cell_type": "code",
      "source": [
        "# floating-point numbers (float)\n",
        "x = 100.5\n",
        "type(x)"
      ],
      "metadata": {
        "colab": {
          "base_uri": "https://localhost:8080/"
        },
        "id": "bwMANfCrh07X",
        "outputId": "eccfba27-b53d-47ae-eb35-29294ccfdcb3"
      },
      "execution_count": 3,
      "outputs": [
        {
          "output_type": "execute_result",
          "data": {
            "text/plain": [
              "float"
            ]
          },
          "metadata": {},
          "execution_count": 3
        }
      ]
    },
    {
      "cell_type": "code",
      "source": [
        "# sequence of characters (str)\n",
        "x = 'Irvine, CA 92697'\n",
        "len(x)"
      ],
      "metadata": {
        "colab": {
          "base_uri": "https://localhost:8080/"
        },
        "id": "uVULGTuTh3Gn",
        "outputId": "55dac671-26ef-4a82-ac72-a4e287cdfb9e"
      },
      "execution_count": 4,
      "outputs": [
        {
          "output_type": "execute_result",
          "data": {
            "text/plain": [
              "16"
            ]
          },
          "metadata": {},
          "execution_count": 4
        }
      ]
    },
    {
      "cell_type": "code",
      "source": [
        "# list of items\n",
        "x = [1, 'Irvine', 3, 'UCI', 92697]\n",
        "len(x)"
      ],
      "metadata": {
        "colab": {
          "base_uri": "https://localhost:8080/"
        },
        "id": "y4_YS47uh7xm",
        "outputId": "0e960306-746a-4c52-c833-03e29e5c854a"
      },
      "execution_count": 5,
      "outputs": [
        {
          "output_type": "execute_result",
          "data": {
            "text/plain": [
              "5"
            ]
          },
          "metadata": {},
          "execution_count": 5
        }
      ]
    },
    {
      "cell_type": "code",
      "source": [
        "# sets are unique\n",
        "x = {2, 2, 3, 3, 1}\n",
        "x"
      ],
      "metadata": {
        "colab": {
          "base_uri": "https://localhost:8080/"
        },
        "id": "cst8CXnpiD7N",
        "outputId": "be5fb76f-8136-473e-8e51-75804820580b"
      },
      "execution_count": 6,
      "outputs": [
        {
          "output_type": "execute_result",
          "data": {
            "text/plain": [
              "{1, 2, 3}"
            ]
          },
          "metadata": {},
          "execution_count": 6
        }
      ]
    },
    {
      "cell_type": "code",
      "source": [
        "# tuples are immutable sequences\n",
        "latlng = (34.019425, -118.283413)\n",
        "type(latlng)"
      ],
      "metadata": {
        "colab": {
          "base_uri": "https://localhost:8080/"
        },
        "id": "ejMUYHXciGyd",
        "outputId": "b496c369-713e-483b-d6d0-785bb3564e75"
      },
      "execution_count": 7,
      "outputs": [
        {
          "output_type": "execute_result",
          "data": {
            "text/plain": [
              "tuple"
            ]
          },
          "metadata": {},
          "execution_count": 7
        }
      ]
    },
    {
      "cell_type": "code",
      "source": [
        "# unpacking a tuple to get back values in separate variables\n",
        "lat, lng = latlng\n",
        "type(lat)"
      ],
      "metadata": {
        "colab": {
          "base_uri": "https://localhost:8080/"
        },
        "id": "AK_bqeIpjyEf",
        "outputId": "ea5490b2-f2a5-4994-aebb-6933e374ec15"
      },
      "execution_count": 9,
      "outputs": [
        {
          "output_type": "execute_result",
          "data": {
            "text/plain": [
              "float"
            ]
          },
          "metadata": {},
          "execution_count": 9
        }
      ]
    },
    {
      "cell_type": "code",
      "source": [
        "# dictionary of key:value pairs\n",
        "person = {'first_name': 'Avipsa', 'last_name': 'Roy', 'profession': 'Faculty'}\n",
        "type(person)"
      ],
      "metadata": {
        "colab": {
          "base_uri": "https://localhost:8080/"
        },
        "id": "KCPGx9Y0j-21",
        "outputId": "4c00f83c-d836-4469-a2ac-65dae184d044"
      },
      "execution_count": 10,
      "outputs": [
        {
          "output_type": "execute_result",
          "data": {
            "text/plain": [
              "dict"
            ]
          },
          "metadata": {},
          "execution_count": 10
        }
      ]
    },
    {
      "cell_type": "code",
      "source": [
        "person['first_name']"
      ],
      "metadata": {
        "colab": {
          "base_uri": "https://localhost:8080/",
          "height": 35
        },
        "id": "MYOjjnSekFck",
        "outputId": "61c46fb7-5cc5-4b6c-a439-b019e35528aa"
      },
      "execution_count": 14,
      "outputs": [
        {
          "output_type": "execute_result",
          "data": {
            "application/vnd.google.colaboratory.intrinsic+json": {
              "type": "string"
            },
            "text/plain": [
              "'Avipsa'"
            ]
          },
          "metadata": {},
          "execution_count": 14
        }
      ]
    },
    {
      "cell_type": "code",
      "source": [
        "person['profession']"
      ],
      "metadata": {
        "colab": {
          "base_uri": "https://localhost:8080/",
          "height": 35
        },
        "id": "oTqpVEPokSH4",
        "outputId": "65df00d1-41ab-4b50-91ec-d46f71e6317a"
      },
      "execution_count": 16,
      "outputs": [
        {
          "output_type": "execute_result",
          "data": {
            "application/vnd.google.colaboratory.intrinsic+json": {
              "type": "string"
            },
            "text/plain": [
              "'Faculty'"
            ]
          },
          "metadata": {},
          "execution_count": 16
        }
      ]
    },
    {
      "cell_type": "markdown",
      "source": [
        "# Coverting data types"
      ],
      "metadata": {
        "id": "2P_ohoLyqgQ8"
      }
    },
    {
      "cell_type": "code",
      "source": [
        "# you can convert types\n",
        "x = '100'\n",
        "print(type(x))\n",
        "y = int(x)\n",
        "print(type(y))"
      ],
      "metadata": {
        "colab": {
          "base_uri": "https://localhost:8080/"
        },
        "id": "34bmNdytkXaY",
        "outputId": "47db0d5c-215e-4e42-9f68-12ad24211661"
      },
      "execution_count": 17,
      "outputs": [
        {
          "output_type": "stream",
          "name": "stdout",
          "text": [
            "<class 'str'>\n",
            "<class 'int'>\n"
          ]
        }
      ]
    },
    {
      "cell_type": "markdown",
      "source": [
        "# Looping through items in a dictionary and a tuple"
      ],
      "metadata": {
        "id": "mj_GJt_rqnIV"
      }
    },
    {
      "cell_type": "code",
      "source": [
        "# you can loop through an iterable, such as a list or tuple\n",
        "for coord in latlng:\n",
        "    print('Current coordinate is:', coord)"
      ],
      "metadata": {
        "colab": {
          "base_uri": "https://localhost:8080/"
        },
        "id": "AyjrcIVskgLk",
        "outputId": "5efc406c-ca9b-46b5-e249-55e556b63222"
      },
      "execution_count": 18,
      "outputs": [
        {
          "output_type": "stream",
          "name": "stdout",
          "text": [
            "Current coordinate is: 34.019425\n",
            "Current coordinate is: -118.283413\n"
          ]
        }
      ]
    },
    {
      "cell_type": "code",
      "source": [
        "# loop through a dictionary keys and values as tuples\n",
        "for key, value in person.items():\n",
        "    print(key, value)"
      ],
      "metadata": {
        "colab": {
          "base_uri": "https://localhost:8080/"
        },
        "id": "JIo-_XDeqOhh",
        "outputId": "b1493c8a-49ed-43a0-d6f8-61f898faa840"
      },
      "execution_count": 19,
      "outputs": [
        {
          "output_type": "stream",
          "name": "stdout",
          "text": [
            "first_name Avipsa\n",
            "last_name Roy\n",
            "profession Faculty\n"
          ]
        }
      ]
    },
    {
      "cell_type": "markdown",
      "source": [
        "## Working with Pandas"
      ],
      "metadata": {
        "id": "LInpD2OZqXF6"
      }
    },
    {
      "cell_type": "markdown",
      "source": [
        "[pandas](https://pandas.pydata.org/) is a data analysis library in Python. It has two primary data structures we will work with: Series and DataFrames"
      ],
      "metadata": {
        "id": "NZisq2sLqxuh"
      }
    },
    {
      "cell_type": "markdown",
      "source": [
        "\n",
        "\n",
        "*   **Pandas Series**\n",
        "\n",
        "\n",
        "\n"
      ],
      "metadata": {
        "id": "m1S3y1urrIW9"
      }
    },
    {
      "cell_type": "code",
      "source": [
        "# a pandas series is based on a numpy array: it's fast, compact, and has more functionality\n",
        "# perhaps most notably, it has an index which allows you to work naturally with tabular data\n",
        "my_list = [28, 145, 77, 0.32]\n",
        "my_series = pd.Series(my_list)\n",
        "my_series"
      ],
      "metadata": {
        "colab": {
          "base_uri": "https://localhost:8080/"
        },
        "id": "4z73C2fQrRmX",
        "outputId": "1881a7b6-9b3c-4ef5-bdbb-821b3b92ea76"
      },
      "execution_count": 20,
      "outputs": [
        {
          "output_type": "execute_result",
          "data": {
            "text/plain": [
              "0     28.00\n",
              "1    145.00\n",
              "2     77.00\n",
              "3      0.32\n",
              "dtype: float64"
            ]
          },
          "metadata": {},
          "execution_count": 20
        }
      ]
    },
    {
      "cell_type": "code",
      "source": [
        "# look at a list-representation of the index\n",
        "my_series.index.tolist()"
      ],
      "metadata": {
        "colab": {
          "base_uri": "https://localhost:8080/"
        },
        "id": "B6dlFkwbCLbY",
        "outputId": "d54ad6d0-e57e-4868-ce84-5dc387ddf055"
      },
      "execution_count": 21,
      "outputs": [
        {
          "output_type": "execute_result",
          "data": {
            "text/plain": [
              "[0, 1, 2, 3]"
            ]
          },
          "metadata": {},
          "execution_count": 21
        }
      ]
    },
    {
      "cell_type": "code",
      "source": [
        "# look at the series' values themselves\n",
        "my_series.values"
      ],
      "metadata": {
        "colab": {
          "base_uri": "https://localhost:8080/"
        },
        "id": "Bd5-qd6jCRky",
        "outputId": "8958eb57-40f2-45fe-ee08-11a8895f0608"
      },
      "execution_count": 22,
      "outputs": [
        {
          "output_type": "execute_result",
          "data": {
            "text/plain": [
              "array([ 28.  , 145.  ,  77.  ,   0.32])"
            ]
          },
          "metadata": {},
          "execution_count": 22
        }
      ]
    },
    {
      "cell_type": "code",
      "source": [
        "# what's the data type of the series' values?\n",
        "type(my_series.values)"
      ],
      "metadata": {
        "colab": {
          "base_uri": "https://localhost:8080/"
        },
        "id": "Q5FOqYu9CWFa",
        "outputId": "8a6356e0-5356-4838-9bc1-455f2979e5bf"
      },
      "execution_count": 23,
      "outputs": [
        {
          "output_type": "execute_result",
          "data": {
            "text/plain": [
              "numpy.ndarray"
            ]
          },
          "metadata": {},
          "execution_count": 23
        }
      ]
    },
    {
      "cell_type": "code",
      "source": [
        "# what's the data type of the individual values themselves?\n",
        "my_series.dtype"
      ],
      "metadata": {
        "colab": {
          "base_uri": "https://localhost:8080/"
        },
        "id": "HGTvfuyxCZFq",
        "outputId": "907306be-92fc-4a41-932e-336e7f4a65ce"
      },
      "execution_count": 24,
      "outputs": [
        {
          "output_type": "execute_result",
          "data": {
            "text/plain": [
              "dtype('float64')"
            ]
          },
          "metadata": {},
          "execution_count": 24
        }
      ]
    },
    {
      "cell_type": "markdown",
      "source": [
        "\n",
        "\n",
        "*   **Pandas Dataframe**\n"
      ],
      "metadata": {
        "id": "hKzYx-ktCeqa"
      }
    },
    {
      "cell_type": "code",
      "source": [
        "# a dict can contain multiple lists and label them\n",
        "my_dict = {'med_hh_income'  : [75125, 22075, 31950, 115400],\n",
        "           'home_price' : [525000, 275000, 395000, 985000]}\n",
        "my_dict"
      ],
      "metadata": {
        "colab": {
          "base_uri": "https://localhost:8080/"
        },
        "id": "s7qUmf2NCnWY",
        "outputId": "85f43bc7-3c37-4287-e466-4a49900a14e5"
      },
      "execution_count": 30,
      "outputs": [
        {
          "output_type": "execute_result",
          "data": {
            "text/plain": [
              "{'home_price': [525000, 275000, 395000, 985000],\n",
              " 'med_hh_income': [75125, 22075, 31950, 115400]}"
            ]
          },
          "metadata": {},
          "execution_count": 30
        }
      ]
    },
    {
      "cell_type": "code",
      "source": [
        "# a pandas dataframe can contain one or more columns\n",
        "# each column is a pandas series\n",
        "# each row is a pandas series\n",
        "# you can create a dataframe by passing in a list, array, series, or dict\n",
        "df = pd.DataFrame(my_dict)\n",
        "df"
      ],
      "metadata": {
        "colab": {
          "base_uri": "https://localhost:8080/",
          "height": 175
        },
        "id": "mcSjXioTCsHk",
        "outputId": "cbd9c37e-c9b6-4191-d7dd-acbe61c465de"
      },
      "execution_count": 31,
      "outputs": [
        {
          "output_type": "execute_result",
          "data": {
            "text/html": [
              "\n",
              "  <div id=\"df-43a36f0f-755f-4290-a10c-9a8613b21c68\">\n",
              "    <div class=\"colab-df-container\">\n",
              "      <div>\n",
              "<style scoped>\n",
              "    .dataframe tbody tr th:only-of-type {\n",
              "        vertical-align: middle;\n",
              "    }\n",
              "\n",
              "    .dataframe tbody tr th {\n",
              "        vertical-align: top;\n",
              "    }\n",
              "\n",
              "    .dataframe thead th {\n",
              "        text-align: right;\n",
              "    }\n",
              "</style>\n",
              "<table border=\"1\" class=\"dataframe\">\n",
              "  <thead>\n",
              "    <tr style=\"text-align: right;\">\n",
              "      <th></th>\n",
              "      <th>med_hh_income</th>\n",
              "      <th>home_price</th>\n",
              "    </tr>\n",
              "  </thead>\n",
              "  <tbody>\n",
              "    <tr>\n",
              "      <th>0</th>\n",
              "      <td>75125</td>\n",
              "      <td>525000</td>\n",
              "    </tr>\n",
              "    <tr>\n",
              "      <th>1</th>\n",
              "      <td>22075</td>\n",
              "      <td>275000</td>\n",
              "    </tr>\n",
              "    <tr>\n",
              "      <th>2</th>\n",
              "      <td>31950</td>\n",
              "      <td>395000</td>\n",
              "    </tr>\n",
              "    <tr>\n",
              "      <th>3</th>\n",
              "      <td>115400</td>\n",
              "      <td>985000</td>\n",
              "    </tr>\n",
              "  </tbody>\n",
              "</table>\n",
              "</div>\n",
              "      <button class=\"colab-df-convert\" onclick=\"convertToInteractive('df-43a36f0f-755f-4290-a10c-9a8613b21c68')\"\n",
              "              title=\"Convert this dataframe to an interactive table.\"\n",
              "              style=\"display:none;\">\n",
              "        \n",
              "  <svg xmlns=\"http://www.w3.org/2000/svg\" height=\"24px\"viewBox=\"0 0 24 24\"\n",
              "       width=\"24px\">\n",
              "    <path d=\"M0 0h24v24H0V0z\" fill=\"none\"/>\n",
              "    <path d=\"M18.56 5.44l.94 2.06.94-2.06 2.06-.94-2.06-.94-.94-2.06-.94 2.06-2.06.94zm-11 1L8.5 8.5l.94-2.06 2.06-.94-2.06-.94L8.5 2.5l-.94 2.06-2.06.94zm10 10l.94 2.06.94-2.06 2.06-.94-2.06-.94-.94-2.06-.94 2.06-2.06.94z\"/><path d=\"M17.41 7.96l-1.37-1.37c-.4-.4-.92-.59-1.43-.59-.52 0-1.04.2-1.43.59L10.3 9.45l-7.72 7.72c-.78.78-.78 2.05 0 2.83L4 21.41c.39.39.9.59 1.41.59.51 0 1.02-.2 1.41-.59l7.78-7.78 2.81-2.81c.8-.78.8-2.07 0-2.86zM5.41 20L4 18.59l7.72-7.72 1.47 1.35L5.41 20z\"/>\n",
              "  </svg>\n",
              "      </button>\n",
              "      \n",
              "  <style>\n",
              "    .colab-df-container {\n",
              "      display:flex;\n",
              "      flex-wrap:wrap;\n",
              "      gap: 12px;\n",
              "    }\n",
              "\n",
              "    .colab-df-convert {\n",
              "      background-color: #E8F0FE;\n",
              "      border: none;\n",
              "      border-radius: 50%;\n",
              "      cursor: pointer;\n",
              "      display: none;\n",
              "      fill: #1967D2;\n",
              "      height: 32px;\n",
              "      padding: 0 0 0 0;\n",
              "      width: 32px;\n",
              "    }\n",
              "\n",
              "    .colab-df-convert:hover {\n",
              "      background-color: #E2EBFA;\n",
              "      box-shadow: 0px 1px 2px rgba(60, 64, 67, 0.3), 0px 1px 3px 1px rgba(60, 64, 67, 0.15);\n",
              "      fill: #174EA6;\n",
              "    }\n",
              "\n",
              "    [theme=dark] .colab-df-convert {\n",
              "      background-color: #3B4455;\n",
              "      fill: #D2E3FC;\n",
              "    }\n",
              "\n",
              "    [theme=dark] .colab-df-convert:hover {\n",
              "      background-color: #434B5C;\n",
              "      box-shadow: 0px 1px 3px 1px rgba(0, 0, 0, 0.15);\n",
              "      filter: drop-shadow(0px 1px 2px rgba(0, 0, 0, 0.3));\n",
              "      fill: #FFFFFF;\n",
              "    }\n",
              "  </style>\n",
              "\n",
              "      <script>\n",
              "        const buttonEl =\n",
              "          document.querySelector('#df-43a36f0f-755f-4290-a10c-9a8613b21c68 button.colab-df-convert');\n",
              "        buttonEl.style.display =\n",
              "          google.colab.kernel.accessAllowed ? 'block' : 'none';\n",
              "\n",
              "        async function convertToInteractive(key) {\n",
              "          const element = document.querySelector('#df-43a36f0f-755f-4290-a10c-9a8613b21c68');\n",
              "          const dataTable =\n",
              "            await google.colab.kernel.invokeFunction('convertToInteractive',\n",
              "                                                     [key], {});\n",
              "          if (!dataTable) return;\n",
              "\n",
              "          const docLinkHtml = 'Like what you see? Visit the ' +\n",
              "            '<a target=\"_blank\" href=https://colab.research.google.com/notebooks/data_table.ipynb>data table notebook</a>'\n",
              "            + ' to learn more about interactive tables.';\n",
              "          element.innerHTML = '';\n",
              "          dataTable['output_type'] = 'display_data';\n",
              "          await google.colab.output.renderOutput(dataTable, element);\n",
              "          const docLink = document.createElement('div');\n",
              "          docLink.innerHTML = docLinkHtml;\n",
              "          element.appendChild(docLink);\n",
              "        }\n",
              "      </script>\n",
              "    </div>\n",
              "  </div>\n",
              "  "
            ],
            "text/plain": [
              "   med_hh_income  home_price\n",
              "0          75125      525000\n",
              "1          22075      275000\n",
              "2          31950      395000\n",
              "3         115400      985000"
            ]
          },
          "metadata": {},
          "execution_count": 31
        }
      ]
    },
    {
      "cell_type": "code",
      "source": [
        "# the row labels in the index are accessed by the .index attribute of the DataFrame object\n",
        "df.index.tolist()"
      ],
      "metadata": {
        "colab": {
          "base_uri": "https://localhost:8080/"
        },
        "id": "vBxuW0dWCugH",
        "outputId": "b8e84bea-a2c4-4a0a-94e9-3b65dc6e70f7"
      },
      "execution_count": 32,
      "outputs": [
        {
          "output_type": "execute_result",
          "data": {
            "text/plain": [
              "[0, 1, 2, 3]"
            ]
          },
          "metadata": {},
          "execution_count": 32
        }
      ]
    },
    {
      "cell_type": "code",
      "source": [
        "# the column labels are accessed by the .columns attribute of the DataFrame object\n",
        "df.columns"
      ],
      "metadata": {
        "colab": {
          "base_uri": "https://localhost:8080/"
        },
        "id": "J0fYpSo3Cxil",
        "outputId": "6a266069-1ad3-46b9-fa1e-6bf668c4adde"
      },
      "execution_count": 33,
      "outputs": [
        {
          "output_type": "execute_result",
          "data": {
            "text/plain": [
              "Index(['med_hh_income', 'home_price'], dtype='object')"
            ]
          },
          "metadata": {},
          "execution_count": 33
        }
      ]
    },
    {
      "cell_type": "code",
      "source": [
        "# the data values are accessed by the .values attribute of the DataFrame object\n",
        "# this is a numpy (two-dimensional) array\n",
        "df.values"
      ],
      "metadata": {
        "colab": {
          "base_uri": "https://localhost:8080/"
        },
        "id": "6hYTEH9iC0OI",
        "outputId": "a83bfa47-3192-4354-f21a-ad7af5ccdbf6"
      },
      "execution_count": 34,
      "outputs": [
        {
          "output_type": "execute_result",
          "data": {
            "text/plain": [
              "array([[ 75125, 525000],\n",
              "       [ 22075, 275000],\n",
              "       [ 31950, 395000],\n",
              "       [115400, 985000]])"
            ]
          },
          "metadata": {},
          "execution_count": 34
        }
      ]
    }
  ]
}