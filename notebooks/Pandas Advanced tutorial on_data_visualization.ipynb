{
  "nbformat": 4,
  "nbformat_minor": 0,
  "metadata": {
    "colab": {
      "name": "Pandas data visualization.ipynb",
      "provenance": [],
      "collapsed_sections": [],
      "authorship_tag": "ABX9TyNFLPOKPek+rl5qRxl3Tc04",
      "include_colab_link": true
    },
    "kernelspec": {
      "name": "python3",
      "display_name": "Python 3"
    },
    "language_info": {
      "name": "python"
    }
  },
  "cells": [
    {
      "cell_type": "markdown",
      "metadata": {
        "id": "view-in-github",
        "colab_type": "text"
      },
      "source": [
        "<a href=\"https://colab.research.google.com/github/Avipsa1/UPPP275-Notebooks/blob/main/Pandas_data_visualization.ipynb\" target=\"_parent\"><img src=\"https://colab.research.google.com/assets/colab-badge.svg\" alt=\"Open In Colab\"/></a>"
      ]
    },
    {
      "cell_type": "markdown",
      "source": [
        "We will learn some visualization packages in Python.\n",
        "\n",
        "* **matplotlib**:  is a basic and powerful library; good for basic plotting like generating scatter plots, lines and barplots. It can be used on data loaded through pandas directly.\n",
        "* **seaborn**:  is a library built on top of matplotlib for statistical visualization like summarizing data, understanding distributions, searching for patterns and trends etc.\n",
        "* **bokeh**:  is an interactive data visualization library which allows users to explore data themselves."
      ],
      "metadata": {
        "id": "cylyMrqlhy1N"
      }
    },
    {
      "cell_type": "code",
      "execution_count": null,
      "metadata": {
        "id": "EkcBDCAWhos3"
      },
      "outputs": [],
      "source": [
        "import numpy as np\n",
        "import pandas as pd\n",
        "import seaborn as sns"
      ]
    },
    {
      "cell_type": "markdown",
      "source": [
        "## 1. Load and preproces data in pandas"
      ],
      "metadata": {
        "id": "m4iDvOzdjNZJ"
      }
    },
    {
      "cell_type": "code",
      "source": [
        "tracts = pd.read_csv(\"CA_census_tracts.csv\")"
      ],
      "metadata": {
        "id": "-7Uz7UMOjU7a"
      },
      "execution_count": null,
      "outputs": []
    },
    {
      "cell_type": "code",
      "source": [
        "tracts.columns"
      ],
      "metadata": {
        "id": "ufdRDTjYjdXc"
      },
      "execution_count": null,
      "outputs": []
    },
    {
      "cell_type": "code",
      "source": [
        "tracts.head(3)"
      ],
      "metadata": {
        "id": "5a91g24rjfC3"
      },
      "execution_count": null,
      "outputs": []
    },
    {
      "cell_type": "code",
      "source": [
        "tracts = tracts.set_index(\"GEOID10\")\n",
        "tracts.head(3)"
      ],
      "metadata": {
        "id": "rMpNSoExji6c"
      },
      "execution_count": null,
      "outputs": []
    },
    {
      "cell_type": "markdown",
      "source": [
        "## 2. Subset data and use group functions to generate descriptive statistics"
      ],
      "metadata": {
        "id": "n-w4_ADLjqIP"
      }
    },
    {
      "cell_type": "code",
      "source": [
        "#Pick out some counties of your choice\n",
        "counties = [\"Orange\",\"Los Angeles\", \"Santa Barbara\",\"San Diego\", \"Riverside\"]\n",
        "filter1 = tracts[\"county_name\"].isin(counties)\n",
        "tracts_in_counties = tracts[filter1]\n",
        "tracts_in_counties.head()"
      ],
      "metadata": {
        "id": "u9LuDaY6jyGr"
      },
      "execution_count": null,
      "outputs": []
    },
    {
      "cell_type": "code",
      "source": [
        "tracts_in_counties[\"county_name\"].unique()"
      ],
      "metadata": {
        "id": "nkbXeHHQkWyB"
      },
      "execution_count": null,
      "outputs": []
    },
    {
      "cell_type": "code",
      "source": [
        "tracts_in_counties.describe()"
      ],
      "metadata": {
        "id": "wajAqdfWkf1e"
      },
      "execution_count": null,
      "outputs": []
    },
    {
      "cell_type": "code",
      "source": [
        "tracts_in_counties[[\"total_pop\",\"median_age\",\"med_home_value\", \"med_household_income\"]].describe()"
      ],
      "metadata": {
        "id": "2iFMuwnRkkr1"
      },
      "execution_count": null,
      "outputs": []
    },
    {
      "cell_type": "code",
      "source": [
        "tracts_in_counties.groupby(\"county_name\")[\"med_home_value\"].describe()"
      ],
      "metadata": {
        "id": "9LKZGugdkxPn"
      },
      "execution_count": null,
      "outputs": []
    },
    {
      "cell_type": "markdown",
      "source": [
        "## 3. Data visualization from filtered rows"
      ],
      "metadata": {
        "id": "PMMOUOpBlO8q"
      }
    },
    {
      "cell_type": "code",
      "source": [
        "ax = sns.boxplot(x=tracts_in_counties[\"med_home_value\"], y=tracts_in_counties[\"county_name\"])"
      ],
      "metadata": {
        "id": "EbF6F9LdlTkk"
      },
      "execution_count": null,
      "outputs": []
    },
    {
      "cell_type": "code",
      "source": [
        "type(ax)"
      ],
      "metadata": {
        "id": "hujgQ4Cglmqn"
      },
      "execution_count": null,
      "outputs": []
    },
    {
      "cell_type": "code",
      "source": [
        "fig = ax.get_figure()\n",
        "type(fig)"
      ],
      "metadata": {
        "id": "p5qvxKValplT"
      },
      "execution_count": null,
      "outputs": []
    },
    {
      "cell_type": "code",
      "source": [
        "fig = ax.get_figure()\n",
        "fig.set_size_inches(10, 10)  # inches\n",
        "fig"
      ],
      "metadata": {
        "id": "K_XNWWCAlrck"
      },
      "execution_count": null,
      "outputs": []
    },
    {
      "cell_type": "code",
      "source": [
        "sns.set_style(\"whitegrid\")  # visual styles\n",
        "sns.set_context(\"paper\")  # presets for scaling figure element sizes\n",
        "\n",
        "# fliersize changes the size of the outlier dots\n",
        "# boxprops lets you set more configs with a dict, such as alpha (which means opacity)\n",
        "ax = sns.boxplot(x=tracts_in_counties[\"med_home_value\"],\n",
        "                 y=tracts_in_counties[\"county_name\"],\n",
        "                 fliersize=1,\n",
        "                 boxprops={\"alpha\": 0.87})\n",
        "\n",
        "# set the x-axis limit, the figure title, and x/y axis labels\n",
        "ax.set_xlim(left=0)\n",
        "ax.set_title(\"Box plot of tract-level median home values\")\n",
        "ax.set_xlabel(\"Median home prices in USD\")\n",
        "ax.set_ylabel(\"Counties\")\n",
        "\n",
        "# save figure to disk with 600 dpi and a tight bounding box\n",
        "fig = ax.get_figure()\n",
        "fig.set_size_inches(10,10)\n",
        "fig.savefig(\"figure-homevalue-boxplot.png\", dpi=600, bbox_inches=\"tight\")"
      ],
      "metadata": {
        "id": "TQTSwWaylwwq"
      },
      "execution_count": null,
      "outputs": []
    },
    {
      "cell_type": "markdown",
      "source": [
        "Now modify the code so that you can visualize box plots of median age and median household income for the 5 counties "
      ],
      "metadata": {
        "id": "b5YOhrsDmu8L"
      }
    },
    {
      "cell_type": "code",
      "source": [
        "sns.set_style(\"whitegrid\")  # visual styles\n",
        "sns.set_context(\"paper\")  # presets for scaling figure element sizes\n",
        "\n",
        "# fliersize changes the size of the outlier dots\n",
        "# boxprops lets you set more configs with a dict, such as alpha (which means opacity)\n",
        "ax = sns.boxplot(x=tracts_in_counties[\"med_household_income\"],\n",
        "                 y=tracts_in_counties[\"county_name\"],\n",
        "                 fliersize=1,\n",
        "                 boxprops={\"alpha\": 0.87})\n",
        "\n",
        "# set the x-axis limit, the figure title, and x/y axis labels\n",
        "ax.set_xlim(left=0)\n",
        "ax.set_title(\"Box plot of tract-level median household incom values\")\n",
        "ax.set_xlabel(\"Median household income in USD\")\n",
        "ax.set_ylabel(\"Counties\")\n",
        "\n",
        "# save figure to disk with 600 dpi and a tight bounding box\n",
        "fig = ax.get_figure()\n",
        "fig.set_size_inches(10,10)\n",
        "fig.savefig(\"figure-income-boxplot.png\", dpi=600, bbox_inches=\"tight\")"
      ],
      "metadata": {
        "id": "cbZ07tG6m49c"
      },
      "execution_count": null,
      "outputs": []
    },
    {
      "cell_type": "code",
      "source": [
        "sns.set_style(\"whitegrid\")  # visual styles\n",
        "sns.set_context(\"paper\")  # presets for scaling figure element sizes\n",
        "\n",
        "# fliersize changes the size of the outlier dots\n",
        "# boxprops lets you set more configs with a dict, such as alpha (which means opacity)\n",
        "ax = sns.boxplot(x=tracts_in_counties[\"median_age\"],\n",
        "                 y=tracts_in_counties[\"county_name\"],\n",
        "                 fliersize=1,\n",
        "                 boxprops={\"alpha\": 0.87})\n",
        "\n",
        "# set the x-axis limit, the figure title, and x/y axis labels\n",
        "ax.set_xlim(left=0)\n",
        "ax.set_title(\"Box plot of tract-level median age\")\n",
        "ax.set_xlabel(\"Median age in years\")\n",
        "ax.set_ylabel(\"Counties\")\n",
        "\n",
        "# save figure to disk with 600 dpi and a tight bounding box\n",
        "fig = ax.get_figure()\n",
        "fig.set_size_inches(10,10)\n",
        "fig.savefig(\"figure-age-boxplot.png\", dpi=600, bbox_inches=\"tight\")"
      ],
      "metadata": {
        "id": "S47mD0LonmRV"
      },
      "execution_count": null,
      "outputs": []
    },
    {
      "cell_type": "markdown",
      "source": [
        "Now lets try barplots"
      ],
      "metadata": {
        "id": "gE0Hm1qxnxMJ"
      }
    },
    {
      "cell_type": "code",
      "source": [
        "sns.set_style(\"whitegrid\")  # visual styles\n",
        "sns.set_context(\"paper\")  # presets for scaling figure element sizes\n",
        "\n",
        "# fliersize changes the size of the outlier dots\n",
        "# boxprops lets you set more configs with a dict, such as alpha (which means opacity)\n",
        "ax = sns.barplot(x=tracts_in_counties[\"med_household_income\"],\n",
        "                 y=tracts_in_counties[\"county_name\"])\n",
        "\n",
        "# set the x-axis limit, the figure title, and x/y axis labels\n",
        "ax.set_xlim(left=0)\n",
        "ax.set_title(\"Box plot of tract-level median household income values\")\n",
        "ax.set_xlabel(\"Median household income in USD\")\n",
        "ax.set_ylabel(\"Counties\")\n",
        "\n",
        "# save figure to disk with 600 dpi and a tight bounding box\n",
        "fig = ax.get_figure()\n",
        "fig.set_size_inches(10,10)\n",
        "fig.savefig(\"figure-income-barplot.png\", dpi=600, bbox_inches=\"tight\")"
      ],
      "metadata": {
        "id": "H_5Khklnnzc7"
      },
      "execution_count": null,
      "outputs": []
    },
    {
      "cell_type": "markdown",
      "source": [
        "## Histograms and Density plots\n",
        "\n",
        "Histograms visualize the distribution of some variable by binning it then counting observations per bin. Density plots are similar, but continuous and smooth as they visulize the probability distributions."
      ],
      "metadata": {
        "id": "QdCjRvnOoK0C"
      }
    },
    {
      "cell_type": "code",
      "source": [
        "ax = sns.histplot(tracts_in_counties[\"median_age\"].dropna(), stat=\"density\", kde=True)"
      ],
      "metadata": {
        "id": "T7K9Tk1pn1Un"
      },
      "execution_count": null,
      "outputs": []
    },
    {
      "cell_type": "code",
      "source": [
        "ax = sns.histplot(tracts_in_counties[\"median_age\"].dropna(), stat=\"density\", kde=False)"
      ],
      "metadata": {
        "id": "P4IdX-0LofG5"
      },
      "execution_count": null,
      "outputs": []
    },
    {
      "cell_type": "code",
      "source": [
        "df_white = tracts[tracts[\"pct_white\"] > 50]\n",
        "df_hispanic = tracts[tracts[\"pct_hispanic\"] > 50]"
      ],
      "metadata": {
        "id": "X_arS6htoj9M"
      },
      "execution_count": null,
      "outputs": []
    },
    {
      "cell_type": "code",
      "source": [
        "ax = sns.histplot(df_white[\"median_age\"].dropna(), stat=\"density\", color = \"green\")\n",
        "ax = sns.histplot(df_hispanic[\"median_age\"].dropna(), stat=\"density\", color=\"grey\")"
      ],
      "metadata": {
        "id": "iWszzEmBor1O"
      },
      "execution_count": null,
      "outputs": []
    },
    {
      "cell_type": "code",
      "source": [
        "ax = sns.histplot(df_white[\"median_age\"].dropna(),\n",
        "                  stat=\"density\", kde = True,\n",
        "                  label=\"Majority White Tracts\",\n",
        "                  color = \"blue\")\n",
        "\n",
        "ax = sns.histplot(df_hispanic[\"median_age\"].dropna(),\n",
        "                  stat=\"density\",kde = True,\n",
        "                  label=\"Majority Hispanic Tracts\",\n",
        "                  color=\"orange\")\n",
        "ax.legend()\n",
        "\n",
        "# set x-limit, add x-label, then save to disk\n",
        "ax.set_xlim(10, 85)\n",
        "ax.set_xlabel(\"Median Age of Population (Years)\")\n",
        "ax.get_figure().savefig(\"figure-age-distributions.png\", dpi=600, bbox_inches=\"tight\")"
      ],
      "metadata": {
        "id": "lbANNYVOo5xV"
      },
      "execution_count": null,
      "outputs": []
    },
    {
      "cell_type": "markdown",
      "source": [
        "## Scatter Plots"
      ],
      "metadata": {
        "id": "FIA_j3XKpWgE"
      }
    },
    {
      "cell_type": "code",
      "source": [
        "ax = sns.scatterplot(x=tracts[\"pct_bachelors_degree\"], y=tracts[\"med_household_income\"])"
      ],
      "metadata": {
        "id": "O7GjSPfBpcyJ"
      },
      "execution_count": null,
      "outputs": []
    },
    {
      "cell_type": "code",
      "source": [
        "ax = sns.scatterplot(x=tracts_in_counties[\"pct_bachelors_degree\"],\n",
        "                     y=tracts_in_counties[\"med_household_income\"],\n",
        "                     hue=tracts_in_counties[\"county_name\"])"
      ],
      "metadata": {
        "id": "s62TIGCOpmiV"
      },
      "execution_count": null,
      "outputs": []
    },
    {
      "cell_type": "code",
      "source": [
        "ax = sns.scatterplot(x=tracts_in_counties[\"pct_bachelors_degree\"],\n",
        "                     y=tracts_in_counties[\"med_household_income\"],\n",
        "                     hue=tracts_in_counties[\"county_name\"])\n",
        "# remove the column name from the legend\n",
        "handles, labels = ax.get_legend_handles_labels()\n",
        "ax.legend(handles=handles, labels=labels)\n",
        "\n",
        "# set x/y limits, labels, and save figure\n",
        "ax.set_xlim(0, 100)\n",
        "ax.set_ylim(bottom=0)\n",
        "ax.set_xlabel(\"Tract population % with bachelor's degree or higher\")\n",
        "ax.set_ylabel(\"Tract median household income (2017 USD)\")\n",
        "ax.get_figure().savefig(\"figure-income-degree-scatterplot.png\", dpi=600, bbox_inches=\"tight\")"
      ],
      "metadata": {
        "id": "9Wuf8shap0Qh"
      },
      "execution_count": null,
      "outputs": []
    },
    {
      "cell_type": "markdown",
      "source": [
        "### Now it's your turn: pick 2 new variables from the full dataset and scatter plot them against each other. How do you interpret the pattern? what if you look at only 1 county?"
      ],
      "metadata": {
        "id": "kjmeazuyp_da"
      }
    },
    {
      "cell_type": "code",
      "source": [
        ""
      ],
      "metadata": {
        "id": "kwRK_HYlqFe9"
      },
      "execution_count": null,
      "outputs": []
    }
  ]
}