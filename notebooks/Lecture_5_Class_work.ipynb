{
  "nbformat": 4,
  "nbformat_minor": 0,
  "metadata": {
    "colab": {
      "name": "Lecture 5 - Class work.ipynb",
      "provenance": [],
      "authorship_tag": "ABX9TyOirNHAAEAo9v0jR1JkArDM",
      "include_colab_link": true
    },
    "kernelspec": {
      "name": "python3",
      "display_name": "Python 3"
    },
    "language_info": {
      "name": "python"
    }
  },
  "cells": [
    {
      "cell_type": "markdown",
      "metadata": {
        "id": "view-in-github",
        "colab_type": "text"
      },
      "source": [
        "<a href=\"https://colab.research.google.com/github/Avipsa1/UPPP275-Notebooks/blob/main/Lecture_5_Class_work.ipynb\" target=\"_parent\"><img src=\"https://colab.research.google.com/assets/colab-badge.svg\" alt=\"Open In Colab\"/></a>"
      ]
    },
    {
      "cell_type": "markdown",
      "source": [
        "Say we have a list of coordinates in a text file and we want to create point objects from it. "
      ],
      "metadata": {
        "id": "EMft-g8JznV1"
      }
    },
    {
      "cell_type": "code",
      "execution_count": 31,
      "metadata": {
        "id": "8N8JR7BGxPhq"
      },
      "outputs": [],
      "source": [
        "import numpy as np    # import numpy library as np\n",
        " \n",
        "# numerical data file\n",
        "filename=\"travelTimes_example_2019.txt\"\n",
        "\n",
        "# use skiprows to skip rows\n",
        "data = np.loadtxt(filename, delimiter=\";\", skiprows=1, usecols=(5,6,7,8))"
      ]
    },
    {
      "cell_type": "code",
      "source": [
        "data"
      ],
      "metadata": {
        "colab": {
          "base_uri": "https://localhost:8080/"
        },
        "id": "JdBLAdTn1gxv",
        "outputId": "cdcdabaf-5550-4ec0-dc0a-70d983d46556"
      },
      "execution_count": 32,
      "outputs": [
        {
          "output_type": "execute_result",
          "data": {
            "text/plain": [
              "array([[33., 11., 44., 38.],\n",
              "       [71., 24., 17., 49.],\n",
              "       [52., 52., 69., 48.],\n",
              "       [68., 48., 67., 34.],\n",
              "       [11., 76., 43., 24.],\n",
              "       [28., 36., 84., 53.],\n",
              "       [49., 19., 30., 48.],\n",
              "       [47., 56., 20., 28.],\n",
              "       [66., 78., 71., 43.],\n",
              "       [64., 49., 32., 89.],\n",
              "       [51., 23., 61., 16.],\n",
              "       [28., 37., 82., 67.],\n",
              "       [90., 41., 65., 58.],\n",
              "       [37., 84., 50., 48.],\n",
              "       [20., 35., 46., 58.],\n",
              "       [41., 77., 57., 49.],\n",
              "       [31., 36., 16., 57.],\n",
              "       [40., 80., 14., 45.],\n",
              "       [40., 57., 22., 21.],\n",
              "       [25., 17., 76., 22.],\n",
              "       [85., 31., 64., 22.],\n",
              "       [56., 70., 14., 23.],\n",
              "       [27., 25., 55., 44.],\n",
              "       [41., 31., 76., 54.],\n",
              "       [86., 74., 71., 45.],\n",
              "       [52., 62., 50., 23.],\n",
              "       [21., 90., 69., 55.],\n",
              "       [42., 87., 61., 52.],\n",
              "       [31., 12., 81., 34.],\n",
              "       [79., 50., 80., 65.],\n",
              "       [67., 61., 85., 83.],\n",
              "       [36., 68., 25., 27.],\n",
              "       [88., 60., 60., 13.],\n",
              "       [70., 14., 18., 78.],\n",
              "       [85., 78., 12., 15.],\n",
              "       [39., 64., 50., 63.],\n",
              "       [90., 57., 11., 43.],\n",
              "       [70., 23., 78., 86.],\n",
              "       [84., 29., 66., 43.],\n",
              "       [47., 45., 69., 29.]])"
            ]
          },
          "metadata": {},
          "execution_count": 32
        }
      ]
    },
    {
      "cell_type": "code",
      "source": [
        "from numpy.core.fromnumeric import shape\n",
        "shape(data)"
      ],
      "metadata": {
        "colab": {
          "base_uri": "https://localhost:8080/"
        },
        "id": "jlvOXcXj2BPL",
        "outputId": "ce8b3370-f35d-4fe6-a2bb-1918aa031a31"
      },
      "execution_count": 19,
      "outputs": [
        {
          "output_type": "execute_result",
          "data": {
            "text/plain": [
              "(40, 4)"
            ]
          },
          "metadata": {},
          "execution_count": 19
        }
      ]
    },
    {
      "cell_type": "code",
      "source": [
        "from shapely.geometry import Point\n",
        "Point(data[0,:2])"
      ],
      "metadata": {
        "colab": {
          "base_uri": "https://localhost:8080/",
          "height": 121
        },
        "id": "XK0SugWM5AEM",
        "outputId": "7f6cfd87-670d-4bfd-f4bf-09443d1f09e8"
      },
      "execution_count": 39,
      "outputs": [
        {
          "output_type": "execute_result",
          "data": {
            "text/plain": [
              "<shapely.geometry.point.Point at 0x7f39f97d3190>"
            ],
            "image/svg+xml": "<svg xmlns=\"http://www.w3.org/2000/svg\" xmlns:xlink=\"http://www.w3.org/1999/xlink\" width=\"100.0\" height=\"100.0\" viewBox=\"32.0 10.0 2.0 2.0\" preserveAspectRatio=\"xMinYMin meet\"><g transform=\"matrix(1,0,0,-1,0,22.0)\"><circle cx=\"33.0\" cy=\"11.0\" r=\"0.06\" stroke=\"#555555\" stroke-width=\"0.02\" fill=\"#66cc99\" opacity=\"0.6\" /></g></svg>"
          },
          "metadata": {},
          "execution_count": 39
        }
      ]
    },
    {
      "cell_type": "code",
      "source": [
        "data[0,2:4]"
      ],
      "metadata": {
        "colab": {
          "base_uri": "https://localhost:8080/"
        },
        "id": "ay8nWe_k6Bbe",
        "outputId": "04713b05-ce0d-4193-d51c-0710c46f7da7"
      },
      "execution_count": 53,
      "outputs": [
        {
          "output_type": "execute_result",
          "data": {
            "text/plain": [
              "array([44., 38.])"
            ]
          },
          "metadata": {},
          "execution_count": 53
        }
      ]
    },
    {
      "cell_type": "code",
      "source": [
        "p1 = Point(data[0,0:2]) #Extract first two columns from the 1st row\n",
        "p2 = Point(data[0,2:4]) #Extract 3rd and 4th columns from the 1st row"
      ],
      "metadata": {
        "id": "2gVlog-25ZSq"
      },
      "execution_count": 56,
      "outputs": []
    },
    {
      "cell_type": "code",
      "source": [
        "from shapely.geometry import LineString\n",
        "LineString([p1,p2])"
      ],
      "metadata": {
        "colab": {
          "base_uri": "https://localhost:8080/",
          "height": 121
        },
        "id": "a5Ltm0ag5hMJ",
        "outputId": "18bc837d-543d-425a-9702-daf56d803628"
      },
      "execution_count": 57,
      "outputs": [
        {
          "output_type": "execute_result",
          "data": {
            "text/plain": [
              "<shapely.geometry.linestring.LineString at 0x7f39f97acf10>"
            ],
            "image/svg+xml": "<svg xmlns=\"http://www.w3.org/2000/svg\" xmlns:xlink=\"http://www.w3.org/1999/xlink\" width=\"100.0\" height=\"100.0\" viewBox=\"31.92 9.92 13.159999999999997 29.159999999999997\" preserveAspectRatio=\"xMinYMin meet\"><g transform=\"matrix(1,0,0,-1,0,49.0)\"><polyline fill=\"none\" stroke=\"#66cc99\" stroke-width=\"0.5831999999999999\" points=\"33.0,11.0 44.0,38.0\" opacity=\"0.8\" /></g></svg>"
          },
          "metadata": {},
          "execution_count": 57
        }
      ]
    },
    {
      "cell_type": "code",
      "source": [
        "p3 = Point(data[1,0:2]) #Extract first two columns from the 2nd row\n",
        "p4 = Point(data[1,2:4]) #Extract 3rd and 4th columns from the 2nd row\n",
        "LineString([p3,p4])"
      ],
      "metadata": {
        "colab": {
          "base_uri": "https://localhost:8080/",
          "height": 121
        },
        "id": "2Jr3Gp9g6pas",
        "outputId": "35b72a69-0bb7-4915-cab7-00b726b3b440"
      },
      "execution_count": 58,
      "outputs": [
        {
          "output_type": "execute_result",
          "data": {
            "text/plain": [
              "<shapely.geometry.linestring.LineString at 0x7f39fa2865d0>"
            ],
            "image/svg+xml": "<svg xmlns=\"http://www.w3.org/2000/svg\" xmlns:xlink=\"http://www.w3.org/1999/xlink\" width=\"100.0\" height=\"100.0\" viewBox=\"14.84 21.84 58.31999999999999 29.319999999999997\" preserveAspectRatio=\"xMinYMin meet\"><g transform=\"matrix(1,0,0,-1,0,73.0)\"><polyline fill=\"none\" stroke=\"#66cc99\" stroke-width=\"1.1663999999999999\" points=\"71.0,24.0 17.0,49.0\" opacity=\"0.8\" /></g></svg>"
          },
          "metadata": {},
          "execution_count": 58
        }
      ]
    },
    {
      "cell_type": "code",
      "source": [
        "from shapely.geometry import  MultiLineString\n",
        "l1 = LineString([p1,p2])\n",
        "l2 = LineString([p3,p4])\n",
        "multiLine1 = MultiLineString([l1,l2])\n",
        "multiLine1"
      ],
      "metadata": {
        "colab": {
          "base_uri": "https://localhost:8080/",
          "height": 121
        },
        "id": "hTI4T3Y36ypd",
        "outputId": "7c77dad4-c736-4c94-b028-f426e4dd7333"
      },
      "execution_count": 62,
      "outputs": [
        {
          "output_type": "execute_result",
          "data": {
            "text/plain": [
              "<shapely.geometry.multilinestring.MultiLineString at 0x7f39f9740890>"
            ],
            "image/svg+xml": "<svg xmlns=\"http://www.w3.org/2000/svg\" xmlns:xlink=\"http://www.w3.org/1999/xlink\" width=\"100.0\" height=\"100.0\" viewBox=\"14.84 8.84 58.31999999999999 42.31999999999999\" preserveAspectRatio=\"xMinYMin meet\"><g transform=\"matrix(1,0,0,-1,0,60.0)\"><g><polyline fill=\"none\" stroke=\"#66cc99\" stroke-width=\"1.1663999999999999\" points=\"33.0,11.0 44.0,38.0\" opacity=\"0.8\" /><polyline fill=\"none\" stroke=\"#66cc99\" stroke-width=\"1.1663999999999999\" points=\"71.0,24.0 17.0,49.0\" opacity=\"0.8\" /></g></g></svg>"
          },
          "metadata": {},
          "execution_count": 62
        }
      ]
    },
    {
      "cell_type": "code",
      "source": [
        "fromPoints = []\n",
        "toPoints = []\n",
        "for i in range(0,6):\n",
        "  p1 = Point(data[i,0:2])\n",
        "  p2 = Point(data[i,2:4])\n",
        "  print('point 1:',p1)\n",
        "  print('point 2:',p2)\n",
        "  fromPoints.append(p1)\n",
        "  toPoints.append(p2)"
      ],
      "metadata": {
        "colab": {
          "base_uri": "https://localhost:8080/"
        },
        "id": "EFmqJvAK5vrP",
        "outputId": "0b46bbad-c826-4f34-e017-676355ead8c1"
      },
      "execution_count": 66,
      "outputs": [
        {
          "output_type": "stream",
          "name": "stdout",
          "text": [
            "point 1: POINT (33 11)\n",
            "point 2: POINT (44 38)\n",
            "point 1: POINT (71 24)\n",
            "point 2: POINT (17 49)\n",
            "point 1: POINT (52 52)\n",
            "point 2: POINT (69 48)\n",
            "point 1: POINT (68 48)\n",
            "point 2: POINT (67 34)\n",
            "point 1: POINT (11 76)\n",
            "point 2: POINT (43 24)\n",
            "point 1: POINT (28 36)\n",
            "point 2: POINT (84 53)\n"
          ]
        }
      ]
    },
    {
      "cell_type": "code",
      "source": [
        "lines = []\n",
        "for i in range(0,6):\n",
        "  l1 = LineString([fromPoints[i],toPoints[i]])\n",
        "  lines.append(l1)\n",
        "  print(l1)"
      ],
      "metadata": {
        "colab": {
          "base_uri": "https://localhost:8080/"
        },
        "id": "ISg_MIue-ii3",
        "outputId": "03d065b7-6bff-4a82-929f-813c88d68e6d"
      },
      "execution_count": 68,
      "outputs": [
        {
          "output_type": "stream",
          "name": "stdout",
          "text": [
            "LINESTRING (33 11, 44 38)\n",
            "LINESTRING (71 24, 17 49)\n",
            "LINESTRING (52 52, 69 48)\n",
            "LINESTRING (68 48, 67 34)\n",
            "LINESTRING (11 76, 43 24)\n",
            "LINESTRING (28 36, 84 53)\n"
          ]
        }
      ]
    },
    {
      "cell_type": "code",
      "source": [
        "MultiLineString(lines)"
      ],
      "metadata": {
        "colab": {
          "base_uri": "https://localhost:8080/",
          "height": 121
        },
        "id": "y9NNDDUf-rvS",
        "outputId": "638341e1-dd34-4c18-97ac-1c51c9dd692b"
      },
      "execution_count": 72,
      "outputs": [
        {
          "output_type": "execute_result",
          "data": {
            "text/plain": [
              "<shapely.geometry.multilinestring.MultiLineString at 0x7f39f97111d0>"
            ],
            "image/svg+xml": "<svg xmlns=\"http://www.w3.org/2000/svg\" xmlns:xlink=\"http://www.w3.org/1999/xlink\" width=\"100.0\" height=\"100.0\" viewBox=\"8.08 8.08 78.84 70.84\" preserveAspectRatio=\"xMinYMin meet\"><g transform=\"matrix(1,0,0,-1,0,87.0)\"><g><polyline fill=\"none\" stroke=\"#66cc99\" stroke-width=\"1.5768\" points=\"33.0,11.0 44.0,38.0\" opacity=\"0.8\" /><polyline fill=\"none\" stroke=\"#66cc99\" stroke-width=\"1.5768\" points=\"71.0,24.0 17.0,49.0\" opacity=\"0.8\" /><polyline fill=\"none\" stroke=\"#66cc99\" stroke-width=\"1.5768\" points=\"52.0,52.0 69.0,48.0\" opacity=\"0.8\" /><polyline fill=\"none\" stroke=\"#66cc99\" stroke-width=\"1.5768\" points=\"68.0,48.0 67.0,34.0\" opacity=\"0.8\" /><polyline fill=\"none\" stroke=\"#66cc99\" stroke-width=\"1.5768\" points=\"11.0,76.0 43.0,24.0\" opacity=\"0.8\" /><polyline fill=\"none\" stroke=\"#66cc99\" stroke-width=\"1.5768\" points=\"28.0,36.0 84.0,53.0\" opacity=\"0.8\" /></g></g></svg>"
          },
          "metadata": {},
          "execution_count": 72
        }
      ]
    }
  ]
}