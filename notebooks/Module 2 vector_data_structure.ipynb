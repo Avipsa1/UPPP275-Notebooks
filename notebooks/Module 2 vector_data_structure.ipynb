{
  "nbformat": 4,
  "nbformat_minor": 0,
  "metadata": {
    "colab": {
      "name": "Module3a_vector_data_structure.ipynb",
      "provenance": [],
      "collapsed_sections": [],
      "include_colab_link": true
    },
    "kernelspec": {
      "name": "python3",
      "display_name": "Python 3"
    }
  },
  "cells": [
    {
      "cell_type": "markdown",
      "metadata": {
        "id": "view-in-github",
        "colab_type": "text"
      },
      "source": [
        "<a href=\"https://colab.research.google.com/github/Avipsa1/UPPP275-Notebooks/blob/main/Module3a_vector_data_structure.ipynb\" target=\"_parent\"><img src=\"https://colab.research.google.com/assets/colab-badge.svg\" alt=\"Open In Colab\"/></a>"
      ]
    },
    {
      "cell_type": "markdown",
      "metadata": {
        "id": "v53dYuB1z-0c"
      },
      "source": [
        " # Spatial Data Structure - Vector\n",
        " \n",
        " This lecture will introduce two ways to create and use vector data models.\n",
        " \n",
        "**Part I**: Code it yourself (this class).\n",
        " \n",
        "**Part II**: Code it with libraries\n"
      ]
    },
    {
      "cell_type": "markdown",
      "metadata": {
        "id": "oF71RKPbhUFO"
      },
      "source": [
        "## Spatial Data Structure - Vector\n",
        "\n",
        "About Vector Data\n",
        "Vector data are composed of discrete geometric locations (x, y values) known as vertices that define the “shape” of the spatial object. The organization of the vertices determines the type of vector that you are working with. There are three types of vector data:\n",
        "\n",
        "**Points**: Each individual point is defined by a single x, y coordinate. There can be many points in a vector point file. Examples of point data include: sampling locations, the location of individual trees or the location of plots.\n",
        "\n",
        "**Lines**: Lines are composed of many (at least 2) vertices, or points, that are connected. For instance, a road or a stream may be represented by a line. This line is composed of a series of segments, each “bend” in the road or stream represents a vertex that has defined x, y location.\n",
        "\n",
        "**Polygons**: A polygon consists of 3 or more vertices that are connected and “closed”. Thus the outlines of plot boundaries, lakes, oceans, and states or countries are often represented by polygons. Occasionally, a polygon can have a hole in the middle of it (like a doughnut), this is something to be aware of but not an issue you will deal with in this tutorial.\n",
        "\n",
        "![alt text](http://www.public.asu.edu/~wenwenl1/gis322o/images/vector.png)"
      ]
    },
    {
      "cell_type": "markdown",
      "metadata": {
        "id": "j316NPrwGsVw"
      },
      "source": [
        "## Define a Point"
      ]
    },
    {
      "cell_type": "code",
      "metadata": {
        "id": "QK1xs4ILhUt5"
      },
      "source": [
        "# define a point by its x and y coordinates \n",
        "x1, y1 = 0, 0\n",
        "\n",
        "# define a second point also by its x and y coordinates\n",
        "x2, y2 = 3, 4"
      ],
      "execution_count": null,
      "outputs": []
    },
    {
      "cell_type": "code",
      "metadata": {
        "id": "RdAoWxfklont"
      },
      "source": [
        ""
      ],
      "execution_count": null,
      "outputs": []
    },
    {
      "cell_type": "markdown",
      "metadata": {
        "id": "Qt75ATHPoutZ"
      },
      "source": [
        "## Distance\n",
        "\n",
        "A typical spatial operation for point data is to calculate the distance between two points.\n",
        "\n",
        "Below you can find the formula for calculating the distance\n",
        "\n",
        "![alt text](http://www.public.asu.edu/~wenwenl1/gis322o/images/distance.png)\n",
        "\n",
        "To calculate the distance between two points, we need to take the square root of the summed squared distance between x and y coordinates.\n",
        "\n",
        "The built-in **math** module can help us with taking the square root. See example below"
      ]
    },
    {
      "cell_type": "code",
      "metadata": {
        "id": "RzUNtXkkpq01",
        "outputId": "79b39805-ae9a-4d70-c8d7-97bbb046ea8f",
        "colab": {
          "base_uri": "https://localhost:8080/",
          "height": 51
        }
      },
      "source": [
        "import math\n",
        "print(math.sqrt(4))\n",
        "print(math.sqrt(9))\n",
        "\n",
        "# Note: don't forget to import the module before using it!"
      ],
      "execution_count": null,
      "outputs": [
        {
          "output_type": "stream",
          "text": [
            "2.0\n",
            "3.0\n"
          ],
          "name": "stdout"
        }
      ]
    },
    {
      "cell_type": "code",
      "metadata": {
        "id": "rZjIKP__iaVh",
        "outputId": "c575ced8-1e78-48fa-e6b2-5456ae481ee6",
        "colab": {
          "base_uri": "https://localhost:8080/",
          "height": 34
        }
      },
      "source": [
        "# Now let's define a distance() function which will take input of the two points, and output (return value) the distance\n",
        "\n",
        "import math\n",
        "\n",
        "def distance(x1, y1, x2, y2): # these are four input values of two points (x1,y1) and (x2,y2)\n",
        "  d = math.sqrt((x1-x2)**2 + (y1-y2)**2)\n",
        "  return d # set the return value\n",
        " \n",
        "# define two points, you may name the variable at any name\n",
        "a1, a2 = 0, 0 # point1\n",
        "b1, b2 = 3, 4 # point2\n",
        "\n",
        "# The distance() fucntion will not run until you call it\n",
        "# Since this function has a return value, you can save it to a variable named dis here\n",
        "dis = distance(a1,a2,b1,b2)\n",
        "print(\"The distance between p1 and p2 is: \", dis)\n",
        "\n"
      ],
      "execution_count": null,
      "outputs": [
        {
          "output_type": "stream",
          "text": [
            "The distance between p1 and p2 is:  5.0\n"
          ],
          "name": "stdout"
        }
      ]
    },
    {
      "cell_type": "code",
      "metadata": {
        "id": "jngJRZhG5Sdp",
        "outputId": "a2497daf-e891-4c5b-9b86-213daf0d63e2",
        "colab": {
          "base_uri": "https://localhost:8080/",
          "height": 34
        }
      },
      "source": [
        "# There are several ways to define a distance function. \n",
        "# In the previous definition, we 'spelled out' all the coordinates of the two points by having four parameters in the function definition\n",
        "# We can structure the coordinates of a point in a list, then to calculate the distance between two points, we only need two parameters in the function definition.\n",
        "# For instance, assume we have point1 which has the data structure like [x1,y1] and point2 which has the data structure of [x2,y2]\n",
        "# We can define the distance() function in the below way\n",
        "\n",
        "import math\n",
        "def distance(p1,p2):\n",
        "  # now here, remember, p1 and p2 are two lists, \n",
        "  # we should access x1, y1 of p1 using p1[0], p1[1]\n",
        "  # and .            x2, y2 of p2 using p2[0], p2[1]\n",
        "  d = math.sqrt((p1[0]-p2[0])**2 + (p1[1]-p2[1])**2)\n",
        "  return d # set the return value\n",
        " \n",
        "#now define the two points \n",
        "p1 = [0,0]\n",
        "p2 = [3,4]\n",
        "#call the function as\n",
        "dis = distance(p1,p2)\n",
        "print(\"The distance between p1 and p2 is: \", dis)"
      ],
      "execution_count": null,
      "outputs": [
        {
          "output_type": "stream",
          "text": [
            "The distance between p1 and p2 is:  5.0\n"
          ],
          "name": "stdout"
        }
      ]
    },
    {
      "cell_type": "markdown",
      "metadata": {
        "id": "rSr1yv2KGxrC"
      },
      "source": [
        "## Polyline\n",
        "\n",
        "Lines are composed of many (at least 2) vertices, or points, that are connected. For instance, a road or a stream may be represented by a line. This line is composed of a series of segments, each “bend” in the road or stream represents a vertex that has defined x, y location.\n",
        "\n"
      ]
    },
    {
      "cell_type": "code",
      "metadata": {
        "id": "3JRQ7FHL9vlK",
        "outputId": "b8f2c0f2-22ff-4a38-df3b-18d82aaf762d",
        "colab": {
          "base_uri": "https://localhost:8080/",
          "height": 68
        }
      },
      "source": [
        "# In the above example, we deine a point as a list containing x and y coordinates\n",
        "# To define a polyline, we will need a data structure to define a list of points\n",
        "\n",
        "# Option 1: define it as a list of list.\n",
        "p1 = [1,2]\n",
        "p2 = [3,5]\n",
        "p3 = [4, 10]\n",
        "\n",
        "poly1 = [p1,p2,p3]\n",
        "print(poly1)\n",
        "\n",
        "#This is the same as defining poly1 as:\n",
        "poly1 = [[1,2], [3,5], [4, 10]]\n",
        "print(poly1)\n",
        "\n",
        "#Or you may define it as a list of two lists, a list of all x coordinates, and a list of all y coordinates of the points\n",
        "poly1 = [[p1[0],p2[0],p3[0]],[p1[1],p2[1],p3[1]]]\n",
        "print(poly1)"
      ],
      "execution_count": null,
      "outputs": [
        {
          "output_type": "stream",
          "text": [
            "[[1, 2], [3, 5], [4, 10]]\n",
            "[[1, 2], [3, 5], [4, 10]]\n",
            "[[1, 3, 4], [2, 5, 10]]\n"
          ],
          "name": "stdout"
        }
      ]
    },
    {
      "cell_type": "code",
      "metadata": {
        "id": "w5mCTZe8Id9I"
      },
      "source": [
        "#When you define a polyline in different data structure, you will need to refer to it differently to get the correct value\n"
      ],
      "execution_count": null,
      "outputs": []
    },
    {
      "cell_type": "markdown",
      "metadata": {
        "id": "Qdztte_NJToK"
      },
      "source": [
        "## Calculate the length of a polyline\n",
        "\n",
        "The length of the polyline equals to the sum of each line segment.\n",
        "\n",
        "Say a polyline as three points, p1, p2, p3\n",
        "\n",
        "Then the length of the polyline equals to the sum of two line segments:\n",
        "\n",
        "<p1,p2> and <p2,p3>\n",
        "\n",
        "Length of a segment can be calculated as the straightline distance between the two points.\n",
        "\n",
        "Following this simple example, if a polyline has n point: p1,p2...pn\n",
        "\n",
        "Then the length of the polyline equals to the sum of n-1 line segments:\n",
        "\n",
        "<p1,p2>, <p2,p3>, <p3,p4> .. <p(n-1), pn>\n",
        "\n",
        "So my next question is:\n",
        "\n",
        "### How to obtain the length of a polyline?\n",
        "\n",
        "-- We shall use loop to loop through the first n-1 points, because if there are n points, there will be only n-1 segments.\n",
        "\n",
        "-- Say if the current point as index of i, then its next point will have index of i+1, using these indices, we can get access to the coordinates of p(i) and p(i+1) and then call the distance() function to get the length of the line segment.\n",
        "\n",
        "-- Finally, we will obtain the length of the polyline by summing up the length of all line segments."
      ]
    },
    {
      "cell_type": "code",
      "metadata": {
        "id": "f3ETUcpHJSzU",
        "outputId": "35a09ca6-87a2-4cd9-c2c2-55369be4a18b",
        "colab": {
          "base_uri": "https://localhost:8080/",
          "height": 187
        }
      },
      "source": [
        "# For instance, if we define poly1 as:\n",
        "poly1 = [[1,2], [3,5], [4, 10], [12, 20]] # which contains four points\n",
        "\n",
        "# Let us define a distance function first, which will take two points in the structure of each point as a list\n",
        "# Basically, we can just copy and paste the distance() we defined earlier\n",
        "\n",
        "import math\n",
        "def distance(p1,p2):\n",
        "  # now here, remember, p1 and p2 are two lists, \n",
        "  # we should access x1, y1 of p1 using p1[0], p1[1]\n",
        "  # and .            x2, y2 of p2 using p2[0], p2[1]\n",
        "  d = math.sqrt((p1[0]-p1[1])**2 + (p2[0]-p2[1])**2)\n",
        "  return d # set the return value\n",
        "\n",
        "#Set the length variable outside the loop, with initial value 0\n",
        "length = 0\n",
        "print(\"Initial length is: \", length)\n",
        "# Next, let's write the loop \n",
        "for i in range(len(poly1)-1): # get each element (point) of the poly1 list, excluding the last point (because there is only n-1 segments, so we used len(poly1)-1 here.\n",
        "  print(\"Iteration\", i)\n",
        "  pi = poly1[i] # get ith point\n",
        "  pi_plus1 = poly1[i+1] # get (i+1)th point\n",
        "  dis = distance (pi, pi_plus1)\n",
        "  print(\"   The distance between p%d and p%d is: %.2f\" % (i, i+1, dis)) # %f means to output a floating number, .2 means two decimal digits\n",
        "  length += dis #add each segment length to the total length\n",
        "  print(\"   Polyline length becomes: %.2f (by adding %.2f)\" % (length,dis))\n",
        "  "
      ],
      "execution_count": null,
      "outputs": [
        {
          "output_type": "stream",
          "text": [
            "Initial length is:  0\n",
            "Iteration 0\n",
            "   The distance between p0 and p1 is: 2.24\n",
            "   Polyline length becomes: 2.24 (by adding 2.24)\n",
            "Iteration 1\n",
            "   The distance between p1 and p2 is: 6.32\n",
            "   Polyline length becomes: 8.56 (by adding 6.32)\n",
            "Iteration 2\n",
            "   The distance between p2 and p3 is: 10.00\n",
            "   Polyline length becomes: 18.56 (by adding 10.00)\n"
          ],
          "name": "stdout"
        }
      ]
    },
    {
      "cell_type": "markdown",
      "metadata": {
        "id": "FvBv90xuU_rv"
      },
      "source": [
        "Okay, now \n",
        "\n",
        "### How about defining the length calculation procedure as a function?\n",
        "\n",
        "See below example"
      ]
    },
    {
      "cell_type": "code",
      "metadata": {
        "id": "SikRUhwKPW1e",
        "outputId": "650f712d-ef97-4fa2-b55d-ab537c3a5ebe",
        "colab": {
          "base_uri": "https://localhost:8080/",
          "height": 187
        }
      },
      "source": [
        "# I first copied the code from the above cell\n",
        "# See the lines I highlighted below using many ########################\n",
        "# Then we will get the same results as above\n",
        "\n",
        "# For instance, if we define poly1 as:\n",
        "poly1 = [[1,2], [3,5], [4, 10], [12, 20]] # which contains four points\n",
        "\n",
        "# Let us define a distance function first, which will take two points in the structure of each point as a list\n",
        "# Basically, we can just copy and paste the distance() we defined earlier\n",
        "\n",
        "import math\n",
        "def distance(p1,p2):\n",
        "  # now here, remember, p1 and p2 are two lists, \n",
        "  # we should access x1, y1 of p1 using p1[0], p1[1]\n",
        "  # and .            x2, y2 of p2 using p2[0], p2[1]\n",
        "  d = math.sqrt((p1[0]-p1[1])**2 + (p2[0]-p2[1])**2)\n",
        "  return d # set the return value\n",
        "\n",
        "                 ##########################################################################################################\n",
        "def lengthCal(poly1): ################# add this line for converting the procedure to a function so we can reuse it easily\n",
        "                 ##########################################################################################################\n",
        "  #Set the length variable outside the loop, with initial value 0\n",
        "  length = 0\n",
        "  print(\"Initial length is: \", length)\n",
        "  # Next, let's write the loop \n",
        "  for i in range(len(poly1)-1): # get each element (point) of the poly1 list, excluding the last point (because there is only n-1 segments, so we used len(poly1)-1 here.\n",
        "    print(\"Iteration\", i)\n",
        "    pi = poly1[i] # get ith point\n",
        "    pi_plus1 = poly1[i+1] # get (i+1)th point\n",
        "    dis = distance (pi, pi_plus1)\n",
        "    print(\"   The distance between p%d and p%d is: %.2f\" % (i, i+1, dis)) # %f means to output a floating number, .2 means two decimal digits\n",
        "    length += dis #add each segment length to the total length\n",
        "    print(\"   Polyline length becomes: %.2f (by adding %.2f)\" % (length,dis))\n",
        "    \n",
        "###############################################################################################################################\n",
        "lengthCal(poly1) ################# add this line to call the function in order to run the code block inside the function\n",
        "###############################################################################################################################"
      ],
      "execution_count": null,
      "outputs": [
        {
          "output_type": "stream",
          "text": [
            "Initial length is:  0\n",
            "Iteration 0\n",
            "   The distance between p0 and p1 is: 2.24\n",
            "   Polyline length becomes: 2.24 (by adding 2.24)\n",
            "Iteration 1\n",
            "   The distance between p1 and p2 is: 6.32\n",
            "   Polyline length becomes: 8.56 (by adding 6.32)\n",
            "Iteration 2\n",
            "   The distance between p2 and p3 is: 10.00\n",
            "   Polyline length becomes: 18.56 (by adding 10.00)\n"
          ],
          "name": "stdout"
        }
      ]
    },
    {
      "cell_type": "markdown",
      "metadata": {
        "id": "s4CwioFcS0jS"
      },
      "source": [
        "## Polygon\n",
        "\n",
        "**Polygons**: A polygon consists of 3 or more vertices that are connected and “closed”. Thus the outlines of plot boundaries, lakes, oceans, and states or countries are often represented by polygons. Occasionally, a polygon can have a hole in the middle of it (like a doughnut), this is something to be aware of but not an issue you will deal with in this tutorial.\n",
        "\n",
        "Polygon is also defined as a sequence of points, the only difference is: in order to make it a closed loop, the first point and last point in a polygon should be the same. See below example\n"
      ]
    },
    {
      "cell_type": "code",
      "metadata": {
        "id": "At7HkDoATMsS",
        "outputId": "1dd0f970-c203-450f-cc09-49887693ccb7",
        "colab": {
          "base_uri": "https://localhost:8080/",
          "height": 34
        }
      },
      "source": [
        "poly1 = [[1,2], [3,5], [4, 10], [12, 20], [1,2]] # which contains four points\n",
        "\n",
        "print(len(poly1)) # but the length is five, because the first point and last point in a polygon should be the same\n"
      ],
      "execution_count": null,
      "outputs": [
        {
          "output_type": "stream",
          "text": [
            "5\n"
          ],
          "name": "stdout"
        }
      ]
    },
    {
      "cell_type": "markdown",
      "metadata": {
        "id": "V3Y190kbULnK"
      },
      "source": [
        "So now, if we are asked \"**How to get the perimeter of a polygon?**\"\n",
        "\n",
        "The answer is quite simple. We just need to copy and paste the code we developed above for calculating the length of the polyline to get the perimter of the polygon. The only change to make is to feed the code with different data.\n",
        "\n",
        "See below example"
      ]
    },
    {
      "cell_type": "code",
      "metadata": {
        "id": "j9mF0u_4Uig3",
        "outputId": "cabd5692-11ea-4c6b-a1c2-86d882e5c6ed",
        "colab": {
          "base_uri": "https://localhost:8080/",
          "height": 323
        }
      },
      "source": [
        "poly1 = [[1,2], [3,5], [4, 10], [12, 20], [1,2]] # which contains four points\n",
        "\n",
        "\n",
        "import math\n",
        "def distance(p1,p2):\n",
        "  # now here, remember, p1 and p2 are two lists, \n",
        "  # we should access x1, y1 of p1 using p1[0], p1[1]\n",
        "  # and .            x2, y2 of p2 using p2[0], p2[1]\n",
        "  d = math.sqrt((p1[0]-p1[1])**2 + (p2[0]-p2[1])**2)\n",
        "  return d # set the return value\n",
        "\n",
        "#Set the length variable outside the loop, with initial value 0\n",
        "length = 0\n",
        "print(\"Initial length is: \", length)\n",
        "\n",
        "# Next, let's write the loop \n",
        "for i in range(len(poly1)-1): # get each element (point) of the poly1 list, excluding the last point (because there is only n-1 segments, so we used len(poly1)-1 here.\n",
        "  print(\"Iteration\", i)\n",
        "  pi = poly1[i] # get ith point\n",
        "  pi_plus1 = poly1[i+1] # get (i+1)th point\n",
        "  dis = distance(pi, pi_plus1)\n",
        "  print(\"   The distance between p%d and p%d is: %.2f\" % (i, i+1, dis)) # %f means to output a floating number, .2 means two decimal digits\n",
        "  length += dis #add each segment length to the total length\n",
        "  print(\"   Length becomes: %.2f (by adding %.2f)\\n\" % (length,dis))\n",
        "\n",
        "print(\"The perimeter length of the polygon is: \", length)"
      ],
      "execution_count": null,
      "outputs": [
        {
          "output_type": "stream",
          "text": [
            "Initial length is:  0\n",
            "Iteration 0\n",
            "   The distance between p0 and p1 is: 2.24\n",
            "   Length becomes: 2.24 (by adding 2.24)\n",
            "\n",
            "Iteration 1\n",
            "   The distance between p1 and p2 is: 6.32\n",
            "   Length becomes: 8.56 (by adding 6.32)\n",
            "\n",
            "Iteration 2\n",
            "   The distance between p2 and p3 is: 10.00\n",
            "   Length becomes: 18.56 (by adding 10.00)\n",
            "\n",
            "Iteration 3\n",
            "   The distance between p3 and p4 is: 8.06\n",
            "   Length becomes: 26.62 (by adding 8.06)\n",
            "\n",
            "The perimeter length of the polygon is:  26.6228810461351\n"
          ],
          "name": "stdout"
        }
      ]
    },
    {
      "cell_type": "code",
      "metadata": {
        "id": "JItlHiXtUqhd"
      },
      "source": [
        ""
      ],
      "execution_count": null,
      "outputs": []
    }
  ]
}