{
  "nbformat": 4,
  "nbformat_minor": 0,
  "metadata": {
    "colab": {
      "name": "Creating_Heatmap_using_Folium.ipynb",
      "provenance": [],
      "collapsed_sections": [],
      "include_colab_link": true
    },
    "kernelspec": {
      "name": "python3",
      "display_name": "Python 3"
    },
    "language_info": {
      "name": "python"
    }
  },
  "cells": [
    {
      "cell_type": "markdown",
      "metadata": {
        "id": "view-in-github",
        "colab_type": "text"
      },
      "source": [
        "<a href=\"https://colab.research.google.com/github/Avipsa1/UPPP275-Notebooks/blob/main/Creating_Heatmap_using_Folium.ipynb\" target=\"_parent\"><img src=\"https://colab.research.google.com/assets/colab-badge.svg\" alt=\"Open In Colab\"/></a>"
      ]
    },
    {
      "cell_type": "markdown",
      "source": [
        "Initialize a folium map\n",
        "You can find additional leaflet basemap tiles here: http://leaflet-extras.github.io/leaflet-providers/preview"
      ],
      "metadata": {
        "id": "Irl1gOkHB4cX"
      }
    },
    {
      "cell_type": "code",
      "execution_count": null,
      "metadata": {
        "id": "VZ4TVAPr__iS"
      },
      "outputs": [],
      "source": [
        "import folium\n",
        "boston = [42.3202, -71.1500]\n",
        "map = folium.Map(\n",
        "    location = boston,\n",
        "    zoom_start = 11,\n",
        "    tiles = 'https://{s}.tile.opentopomap.org/{z}/{x}/{y}.png',\n",
        "    attr = 'Map data: &copy; <a href=\"https://www.openstreetmap.org/copyright\">OpenStreetMap</a> contributors, <a href=\"http://viewfinderpanoramas.org\">SRTM</a> | Map style: &copy; <a href=\"https://opentopomap.org\">OpenTopoMap</a> (<a href=\"https://creativecommons.org/licenses/by-sa/3.0/\">CC-BY-SA</a>)'\n",
        ")\n",
        "map"
      ]
    },
    {
      "cell_type": "markdown",
      "source": [
        "Read crime data in a pandas dataframe"
      ],
      "metadata": {
        "id": "Hb1ipIqYD1Zb"
      }
    },
    {
      "cell_type": "code",
      "source": [
        "import pandas as pd\n",
        "crimes = pd.read_csv(\"boston_crime.csv\",encoding= 'unicode_escape')"
      ],
      "metadata": {
        "id": "_epMiIEYC-Qb"
      },
      "execution_count": null,
      "outputs": []
    },
    {
      "cell_type": "markdown",
      "source": [
        "Access dataframe values"
      ],
      "metadata": {
        "id": "iHlZWB2HD659"
      }
    },
    {
      "cell_type": "code",
      "source": [
        "crimes.head()"
      ],
      "metadata": {
        "id": "Sn99app6D9Xe"
      },
      "execution_count": null,
      "outputs": []
    },
    {
      "cell_type": "code",
      "source": [
        "crimes.DISTRICT.value_counts()"
      ],
      "metadata": {
        "id": "l6GVQxOcGSTW"
      },
      "execution_count": null,
      "outputs": []
    },
    {
      "cell_type": "markdown",
      "source": [
        "Rename or drop unwanted columns"
      ],
      "metadata": {
        "id": "T0ADrgk-FB_q"
      }
    },
    {
      "cell_type": "code",
      "source": [
        "renamed_columns = {\n",
        "    'OCCURRED_ON_DATE': 'date',\n",
        "    'OFFENSE_CODE_GROUP': 'offense',\n",
        "    'SHOOTING': 'shooting',\n",
        "    'Lat': 'lat',\n",
        "    'Long': 'lon'\n",
        "}\n",
        "crimes = crimes.rename(columns = renamed_columns)\n",
        "crimes = crimes[list(renamed_columns.values())]"
      ],
      "metadata": {
        "id": "3APA0NLOFEpj"
      },
      "execution_count": null,
      "outputs": []
    },
    {
      "cell_type": "code",
      "source": [
        "crimes.columns"
      ],
      "metadata": {
        "id": "JM9O5gBFH-47"
      },
      "execution_count": null,
      "outputs": []
    },
    {
      "cell_type": "markdown",
      "source": [
        "Deal with different data types"
      ],
      "metadata": {
        "id": "IcwZBfw7FFzF"
      }
    },
    {
      "cell_type": "code",
      "source": [
        "#Convert date from String to timestamp format\n",
        "crimes.date = pd.to_datetime(crimes.date)\n",
        "#Sort the dataframe by date of occurrence of the crimes\n",
        "crimes = crimes.sort_values(by = \"date\")\n",
        "#Print the first 10 crime incidents from the sorted dataframe\n",
        "crimes.date[0:10]"
      ],
      "metadata": {
        "id": "JonvObihIP9y"
      },
      "execution_count": null,
      "outputs": []
    },
    {
      "cell_type": "markdown",
      "source": [
        "Deal with null values"
      ],
      "metadata": {
        "id": "ahZ0irUtIvgN"
      }
    },
    {
      "cell_type": "code",
      "source": [
        "crimes.shooting"
      ],
      "metadata": {
        "id": "-4MVqA2zIxDB"
      },
      "execution_count": null,
      "outputs": []
    },
    {
      "cell_type": "code",
      "source": [
        "crimes.shooting = (crimes.shooting == 'Y')\n",
        "crimes = crimes.dropna()\n",
        "crimes.head()"
      ],
      "metadata": {
        "id": "qqBJGVM2JLRU"
      },
      "execution_count": null,
      "outputs": []
    },
    {
      "cell_type": "code",
      "source": [
        "list(zip([-33.45], [-70.65]))"
      ],
      "metadata": {
        "id": "BL03DdfFRK2E"
      },
      "execution_count": null,
      "outputs": []
    },
    {
      "cell_type": "code",
      "source": [
        "from folium.plugins import HeatMap\n",
        "\n",
        "map1 = folium.Map(boston, zoom_start=11)\n",
        "hmap = HeatMap(\n",
        "    data = [[row['lat'],row['lon']] for index, row in crimes.iterrows()],\n",
        "    radius = 10,\n",
        "    min_opacity= 0.5\n",
        ")\n",
        "hmap.add_to(map1)\n",
        "map1"
      ],
      "metadata": {
        "id": "NKf0E9H7Na3h"
      },
      "execution_count": null,
      "outputs": []
    }
  ]
}