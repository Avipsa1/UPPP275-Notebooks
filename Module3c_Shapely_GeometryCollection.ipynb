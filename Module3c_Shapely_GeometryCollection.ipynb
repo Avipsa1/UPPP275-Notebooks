{
  "nbformat": 4,
  "nbformat_minor": 0,
  "metadata": {
    "colab": {
      "name": "Module3c_Shapely_GeometryCollection.ipynb",
      "provenance": [],
      "collapsed_sections": [],
      "toc_visible": true,
      "include_colab_link": true
    },
    "kernelspec": {
      "name": "python3",
      "display_name": "Python 3"
    }
  },
  "cells": [
    {
      "cell_type": "markdown",
      "metadata": {
        "id": "view-in-github",
        "colab_type": "text"
      },
      "source": [
        "<a href=\"https://colab.research.google.com/github/Avipsa1/UPPP275-Notebooks/blob/main/Module3c_Shapely_GeometryCollection.ipynb\" target=\"_parent\"><img src=\"https://colab.research.google.com/assets/colab-badge.svg\" alt=\"Open In Colab\"/></a>"
      ]
    },
    {
      "cell_type": "markdown",
      "metadata": {
        "id": "coDDGYNUqqUp"
      },
      "source": [
        "## GeometryCollection in Shapely\n",
        "\n",
        "Heterogeneous collections of geometric objects may result from some Shapely operations. For example, two LineStrings may intersect along a line and at a point. To represent these kind of results, Shapely provides immutable collections of geometric objects. The collections may be homogeneous (MultiPoint etc.) or heterogeneous. Below we will look at several data structure: \n",
        "\n",
        "1. MultiPoint: Collection of Points\n",
        "\n",
        "2. MultiLineString: Collection of Lines\n",
        "\n",
        "3. MultiPolygon: Collection of Polygons"
      ]
    },
    {
      "cell_type": "markdown",
      "metadata": {
        "id": "zLvphp6jteaf"
      },
      "source": [
        "### MultiPoint\n",
        "\n",
        "**1. Create a MultiPoint object**"
      ]
    },
    {
      "cell_type": "code",
      "metadata": {
        "id": "O8cO_orps6gg",
        "outputId": "c311235e-66fe-4645-d3a0-8e90707dc81c",
        "colab": {
          "base_uri": "https://localhost:8080/",
          "height": 68
        }
      },
      "source": [
        "from shapely.geometry import MultiPoint\n",
        "\n",
        "points = MultiPoint([(0.0, 0.0), (1.0, 1.0)])\n",
        "\n",
        "print(points.area) # since a point does not have an area or length, calling these two attributes will return 0.0\n",
        "\n",
        "print(points.length)\n",
        "\n",
        "# Get the bounds of the point\n",
        "\n",
        "print(\"Bounds of the points are: \", points.bounds)\n"
      ],
      "execution_count": null,
      "outputs": [
        {
          "output_type": "stream",
          "text": [
            "0.0\n",
            "0.0\n",
            "Bounds of the points are:  (0.0, 0.0, 1.0, 1.0)\n"
          ],
          "name": "stdout"
        }
      ]
    },
    {
      "cell_type": "markdown",
      "metadata": {
        "id": "kxvR3G05qpo0"
      },
      "source": [
        "**2. Get access to the coordinates.**\n",
        "\n",
        "Members of a multi-point collection are accessed via the geoms property or via the iterator protocol using in or list().\n"
      ]
    },
    {
      "cell_type": "code",
      "metadata": {
        "id": "mCK0RqBDuWNK",
        "outputId": "9eaa9e5b-19e0-47a2-9293-5f87efd20ca5",
        "colab": {
          "base_uri": "https://localhost:8080/",
          "height": 51
        }
      },
      "source": [
        "pts = list(points.geoms)\n",
        "\n",
        "for pt in pts:\n",
        "  print(pt.x, pt.y)"
      ],
      "execution_count": null,
      "outputs": [
        {
          "output_type": "stream",
          "text": [
            "0.0 0.0\n",
            "1.0 1.0\n"
          ],
          "name": "stdout"
        }
      ]
    },
    {
      "cell_type": "markdown",
      "metadata": {
        "id": "HHKcu7-Fug-S"
      },
      "source": [
        "\n",
        "**3. Another way of creating a MultiPoint object.**\n",
        "\n",
        "The constructor also accepts another MultiPoint instance or an unordered sequence of Point instances, thereby making copies."
      ]
    },
    {
      "cell_type": "code",
      "metadata": {
        "id": "f8VBxvMku1uk",
        "outputId": "fb213c1d-09cb-4426-bbf6-2512d48d14ea",
        "colab": {
          "base_uri": "https://localhost:8080/",
          "height": 51
        }
      },
      "source": [
        "from shapely.geometry import Point \n",
        "\n",
        "mpts = MultiPoint([Point(0, 0), Point(1, 1)])\n",
        "\n",
        "for pt in mpts:\n",
        "  print(pt.x, pt.y)"
      ],
      "execution_count": null,
      "outputs": [
        {
          "output_type": "stream",
          "text": [
            "0.0 0.0\n",
            "1.0 1.0\n"
          ],
          "name": "stdout"
        }
      ]
    },
    {
      "cell_type": "markdown",
      "metadata": {
        "id": "U9YdFI9evFiO"
      },
      "source": [
        "### MultiLineString\n",
        "\n",
        "Two ways of creating a MultiLineString object\n",
        "\n",
        "1. Each line is represented as a tuple of points\n",
        "\n",
        "2. Each line is defined as a LineString object\n",
        "\n",
        "A MultiLineString has zero area and non-zero length.\n"
      ]
    },
    {
      "cell_type": "markdown",
      "metadata": {
        "id": "H-4clex8v7YW"
      },
      "source": [
        "**1. Create a MultiLineString object**"
      ]
    },
    {
      "cell_type": "code",
      "metadata": {
        "id": "spjpFD8Pvc7u",
        "outputId": "20cc5fb2-8a17-4fdc-c046-7764095acf7a",
        "colab": {
          "base_uri": "https://localhost:8080/",
          "height": 68
        }
      },
      "source": [
        "from shapely.geometry import MultiLineString\n",
        "\n",
        "coords = [((0, 0), (1, 1)), ((-1, 0), (1, 0))]\n",
        "\n",
        "lines = MultiLineString(coords)\n",
        "\n",
        "print(\"line area: \", lines.area)\n",
        "\n",
        "print(\"line length: \", lines.length)\n",
        "\n",
        "print(\"line bounds: \", lines.bounds) # returned bounds are set in a tuple\n"
      ],
      "execution_count": null,
      "outputs": [
        {
          "output_type": "stream",
          "text": [
            "line area:  0.0\n",
            "line length:  3.414213562373095\n",
            "line bounds:  (-1.0, 0.0, 1.0, 1.0)\n"
          ],
          "name": "stdout"
        }
      ]
    },
    {
      "cell_type": "markdown",
      "metadata": {
        "id": "IBZZxgCMvrh-"
      },
      "source": [
        "**2. Get access to the coordinates**\n",
        "\n",
        "Its members are instances of LineString and are accessed via the geoms property or via the iterator protocol using in or list().\n"
      ]
    },
    {
      "cell_type": "code",
      "metadata": {
        "id": "FEBJGqvKwN4A",
        "outputId": "546203e7-53f4-40d9-9cdc-a22c33529d66",
        "colab": {
          "base_uri": "https://localhost:8080/",
          "height": 119
        }
      },
      "source": [
        "linesCoords = list(lines.geoms)\n",
        "\n",
        "for line in linesCoords:\n",
        "  print(\"line:\")\n",
        "  for pt in line.coords: # get access to the coordinates of each line\n",
        "    print(pt[0], pt[1])"
      ],
      "execution_count": null,
      "outputs": [
        {
          "output_type": "stream",
          "text": [
            "line:\n",
            "0.0 0.0\n",
            "1.0 1.0\n",
            "line:\n",
            "-1.0 0.0\n",
            "1.0 0.0\n"
          ],
          "name": "stdout"
        }
      ]
    },
    {
      "cell_type": "markdown",
      "metadata": {
        "id": "h3G_N9lFyrHw"
      },
      "source": [
        "\n",
        "**3. Create MultiLineString object from a list of LineString objects**\n",
        "\n",
        "The constructor also accepts another instance of MultiLineString or an unordered sequence of LineString instances, thereby making copies.\n"
      ]
    },
    {
      "cell_type": "code",
      "metadata": {
        "id": "XBIec1NkyyDy",
        "outputId": "6a1bd024-269a-4cc3-ccd1-cbee15f6d162",
        "colab": {
          "base_uri": "https://localhost:8080/",
          "height": 119
        }
      },
      "source": [
        "from shapely.geometry import LineString\n",
        "line1 = LineString([(0,0),(1,1)])\n",
        "line2 = LineString([(-1,0),(1,0)])\n",
        "\n",
        "lines = MultiLineString([line1, line2])\n",
        "\n",
        "#Get access to the coordinate values\n",
        "linesCoords = list(lines.geoms)\n",
        "\n",
        "for line in linesCoords:\n",
        "  print(\"line:\")\n",
        "  for pt in line.coords: # get access to the coordinates of each line\n",
        "    print(pt[0], pt[1])"
      ],
      "execution_count": null,
      "outputs": [
        {
          "output_type": "stream",
          "text": [
            "line:\n",
            "0.0 0.0\n",
            "1.0 1.0\n",
            "line:\n",
            "-1.0 0.0\n",
            "1.0 0.0\n"
          ],
          "name": "stdout"
        }
      ]
    },
    {
      "cell_type": "markdown",
      "metadata": {
        "id": "SRNCajCXz7Fi"
      },
      "source": [
        "### MultiPolygon\n",
        "\n",
        "The constructor also accepts an unordered sequence of Polygon instances, thereby making copies."
      ]
    },
    {
      "cell_type": "markdown",
      "metadata": {
        "id": "sBvZ76Ex0EDQ"
      },
      "source": [
        "**1. Create a MultiPolygon object**"
      ]
    },
    {
      "cell_type": "code",
      "metadata": {
        "id": "W0RHeEWs0VBW",
        "outputId": "a0b65ca9-3bdc-4d1e-d462-82f505b4707c",
        "colab": {
          "base_uri": "https://localhost:8080/",
          "height": 272
        }
      },
      "source": [
        "from shapely.geometry import Polygon\n",
        "from shapely.geometry import MultiPolygon\n",
        "\n",
        "polygon1 = Polygon([(0, 0), (1, 1), (1, 0)])\n",
        "polygon2 = Polygon([(2, 2), (3, 3), (3, 0)])\n",
        "polygon3 = Polygon([(5, 5), (6, 6), (6, 0)])\n",
        "\n",
        "polygons = MultiPolygon([polygon1, polygon2, polygon3])\n",
        "\n",
        "#Get access to the coordinate values\n",
        "polygonsCoords = list(polygons.geoms)\n",
        "\n",
        "for polygon in polygonsCoords:\n",
        "  print(\"polygon:\")\n",
        "  for pt in polygon.exterior.coords: # get access to the coordinates of each polygon\n",
        "    print(pt[0], pt[1])"
      ],
      "execution_count": null,
      "outputs": [
        {
          "output_type": "stream",
          "text": [
            "polygon:\n",
            "0.0 0.0\n",
            "1.0 1.0\n",
            "1.0 0.0\n",
            "0.0 0.0\n",
            "polygon:\n",
            "2.0 2.0\n",
            "3.0 3.0\n",
            "3.0 0.0\n",
            "2.0 2.0\n",
            "polygon:\n",
            "5.0 5.0\n",
            "6.0 6.0\n",
            "6.0 0.0\n",
            "5.0 5.0\n"
          ],
          "name": "stdout"
        }
      ]
    },
    {
      "cell_type": "markdown",
      "metadata": {
        "id": "tNYGsyVU2b94"
      },
      "source": [
        "**2. Visualize the above MultiPolygon object using matplotlib**"
      ]
    },
    {
      "cell_type": "code",
      "metadata": {
        "outputId": "a4aed537-cc85-4530-bec5-c3768d264d2d",
        "id": "FxeOM6h22ZuD",
        "colab": {
          "base_uri": "https://localhost:8080/",
          "height": 348
        }
      },
      "source": [
        "from matplotlib import pyplot\n",
        "from shapely.geometry import MultiPolygon\n",
        "from descartes.patch import PolygonPatch\n",
        "\n",
        "COLOR = {\n",
        "    True:  '#6699cc',\n",
        "    False: '#ff3333'\n",
        "    }\n",
        "\n",
        "def v_color(ob):\n",
        "    return COLOR[ob.is_valid]\n",
        "\n",
        "def plot_coords(ax, ob):\n",
        "    x, y = ob.xy\n",
        "    ax.plot(x, y, 'o', color='#999999', zorder=1)\n",
        "    \n",
        "fig = pyplot.figure(1, figsize=(10,4), dpi=90)\n",
        "\n",
        "# 1: valid multi-polygon\n",
        "ax = fig.add_subplot(121)\n",
        "\n",
        "for polygon in polygons:\n",
        "    plot_coords(ax, polygon.exterior)\n",
        "    patch = PolygonPatch(polygon, facecolor=v_color(polygons), edgecolor=v_color(polygons), alpha=0.5, zorder=2)\n",
        "    ax.add_patch(patch)\n",
        "\n",
        "ax.set_title('a) Visualization of a MultiPolygon object')\n",
        "\n",
        "xrange = [-1, 7]\n",
        "yrange = [-1, 7]\n",
        "ax.set_xlim(*xrange)\n",
        "#ax.set_xticks(range(*xrange) + [xrange[-1]])\n",
        "ax.set_ylim(*yrange)\n",
        "#ax.set_yticks(range(*yrange) + [yrange[-1]])\n",
        "ax.set_aspect(1)\n",
        "\n",
        "\n",
        "pyplot.show()\n",
        "\n"
      ],
      "execution_count": null,
      "outputs": [
        {
          "output_type": "display_data",
          "data": {
            "image/png": "[encoded data removed]",
            "text/plain": [
              "<Figure size 900x360 with 1 Axes>"
            ]
          },
          "metadata": {
            "tags": []
          }
        }
      ]
    },
    {
      "cell_type": "markdown",
      "metadata": {
        "id": "gGED1yYt3G2L"
      },
      "source": [
        "**3. Check the validity of a MultiPolygon object**\n",
        "\n",
        "A valid LinearRing may not cross itself or touch itself at a single point. A valid Polygon may not possess any overlapping exterior or interior rings. A valid MultiPolygon may not collect any overlapping polygons. Operations on invalid features may fail.\n"
      ]
    },
    {
      "cell_type": "code",
      "metadata": {
        "id": "NWjU5fWa3NkA",
        "outputId": "36178b7d-44e3-4b3c-97ea-3785b28ff5a6",
        "colab": {
          "base_uri": "https://localhost:8080/",
          "height": 34
        }
      },
      "source": [
        "mpoly = MultiPolygon([Point(0, 0).buffer(2.0), Point(1, 1).buffer(2.0)])\n",
        "\n",
        "print(mpoly.is_valid)"
      ],
      "execution_count": null,
      "outputs": [
        {
          "output_type": "stream",
          "text": [
            "False\n"
          ],
          "name": "stdout"
        }
      ]
    },
    {
      "cell_type": "markdown",
      "metadata": {
        "id": "GMPCNSbQ3XfB"
      },
      "source": [
        "**4. Check other properties of a MultiPolygon object**\n",
        "\n",
        "1. is_ring: Returns True if the feature is closed. A closed feature’s boundary coincides with the empty set. This property is applicable to LineString and LinearRing instances, but meaningless for others.\n",
        "\n",
        "2. is_simple: Returns True if the feature does not cross itself.\n",
        "\n",
        "3. is_empty: Returns True if the feature’s interior and boundary (in point set terms) coincide with the empty set.\n",
        "\n",
        "4. has_z: Returns True if the feature has not only x and y, but also z coordinates for 3D (or so-called, 2.5D) geometries.\n",
        "\n"
      ]
    },
    {
      "cell_type": "code",
      "metadata": {
        "id": "yfTdRtJY3ueQ",
        "outputId": "d7d201d5-40e1-4fa9-be1a-631e36866264",
        "colab": {
          "base_uri": "https://localhost:8080/",
          "height": 85
        }
      },
      "source": [
        "print(\"Is a ring? \", mpoly.is_ring)\n",
        "\n",
        "print(\"Is a simple polygon (not cross itself)? \", mpoly.is_simple)\n",
        "\n",
        "print(\"Is empty? \", mpoly.is_empty)\n",
        "\n",
        "print(\"has z dimension? \", mpoly.has_z)\n"
      ],
      "execution_count": null,
      "outputs": [
        {
          "output_type": "stream",
          "text": [
            "Is a ring?  False\n",
            "Is a simple polygon (not cross itself)?  True\n",
            "Is empty?  False\n",
            "has z dimension?  False\n"
          ],
          "name": "stdout"
        }
      ]
    },
    {
      "cell_type": "code",
      "metadata": {
        "id": "li8bAlQrxgG9"
      },
      "source": [
        ""
      ],
      "execution_count": null,
      "outputs": []
    }
  ]
}