{
  "nbformat": 4,
  "nbformat_minor": 0,
  "metadata": {
    "colab": {
      "name": "Advanced spatial analysis.ipynb",
      "provenance": [],
      "authorship_tag": "ABX9TyMBvFaR4b+Zucs0xstLF4qA",
      "include_colab_link": true
    },
    "kernelspec": {
      "name": "python3",
      "display_name": "Python 3"
    },
    "language_info": {
      "name": "python"
    }
  },
  "cells": [
    {
      "cell_type": "markdown",
      "metadata": {
        "id": "view-in-github",
        "colab_type": "text"
      },
      "source": [
        "<a href=\"https://colab.research.google.com/github/Avipsa1/UPPP275-Notebooks/blob/main/Advanced_spatial_analysis.ipynb\" target=\"_parent\"><img src=\"https://colab.research.google.com/assets/colab-badge.svg\" alt=\"Open In Colab\"/></a>"
      ]
    },
    {
      "cell_type": "code",
      "source": [
        "!pip install geopandas\n",
        "!pip install pysal"
      ],
      "metadata": {
        "colab": {
          "base_uri": "https://localhost:8080/"
        },
        "id": "5BV8vLjR2CJk",
        "outputId": "c34a0af7-7808-4de4-b0a2-81161ba106a3"
      },
      "execution_count": 3,
      "outputs": [
        {
          "output_type": "stream",
          "name": "stdout",
          "text": [
            "Collecting geopandas\n",
            "  Downloading geopandas-0.10.2-py2.py3-none-any.whl (1.0 MB)\n",
            "\u001b[K     |████████████████████████████████| 1.0 MB 3.8 MB/s \n",
            "\u001b[?25hCollecting fiona>=1.8\n",
            "  Downloading Fiona-1.8.21-cp37-cp37m-manylinux2014_x86_64.whl (16.7 MB)\n",
            "\u001b[K     |████████████████████████████████| 16.7 MB 44.8 MB/s \n",
            "\u001b[?25hRequirement already satisfied: pandas>=0.25.0 in /usr/local/lib/python3.7/dist-packages (from geopandas) (1.3.5)\n",
            "Requirement already satisfied: shapely>=1.6 in /usr/local/lib/python3.7/dist-packages (from geopandas) (1.8.1.post1)\n",
            "Collecting pyproj>=2.2.0\n",
            "  Downloading pyproj-3.2.1-cp37-cp37m-manylinux2010_x86_64.whl (6.3 MB)\n",
            "\u001b[K     |████████████████████████████████| 6.3 MB 39.5 MB/s \n",
            "\u001b[?25hRequirement already satisfied: setuptools in /usr/local/lib/python3.7/dist-packages (from fiona>=1.8->geopandas) (57.4.0)\n",
            "Collecting cligj>=0.5\n",
            "  Downloading cligj-0.7.2-py3-none-any.whl (7.1 kB)\n",
            "Requirement already satisfied: click>=4.0 in /usr/local/lib/python3.7/dist-packages (from fiona>=1.8->geopandas) (7.1.2)\n",
            "Requirement already satisfied: certifi in /usr/local/lib/python3.7/dist-packages (from fiona>=1.8->geopandas) (2021.10.8)\n",
            "Requirement already satisfied: attrs>=17 in /usr/local/lib/python3.7/dist-packages (from fiona>=1.8->geopandas) (21.4.0)\n",
            "Requirement already satisfied: six>=1.7 in /usr/local/lib/python3.7/dist-packages (from fiona>=1.8->geopandas) (1.15.0)\n",
            "Collecting click-plugins>=1.0\n",
            "  Downloading click_plugins-1.1.1-py2.py3-none-any.whl (7.5 kB)\n",
            "Collecting munch\n",
            "  Downloading munch-2.5.0-py2.py3-none-any.whl (10 kB)\n",
            "Requirement already satisfied: pytz>=2017.3 in /usr/local/lib/python3.7/dist-packages (from pandas>=0.25.0->geopandas) (2018.9)\n",
            "Requirement already satisfied: python-dateutil>=2.7.3 in /usr/local/lib/python3.7/dist-packages (from pandas>=0.25.0->geopandas) (2.8.2)\n",
            "Requirement already satisfied: numpy>=1.17.3 in /usr/local/lib/python3.7/dist-packages (from pandas>=0.25.0->geopandas) (1.21.5)\n",
            "Installing collected packages: munch, cligj, click-plugins, pyproj, fiona, geopandas\n",
            "Successfully installed click-plugins-1.1.1 cligj-0.7.2 fiona-1.8.21 geopandas-0.10.2 munch-2.5.0 pyproj-3.2.1\n",
            "Collecting pysal\n",
            "  Downloading pysal-2.6.0-py3-none-any.whl (17 kB)\n",
            "Collecting spaghetti>=1.6.5\n",
            "  Downloading spaghetti-1.6.5-py3-none-any.whl (46 kB)\n",
            "\u001b[K     |████████████████████████████████| 46 kB 1.9 MB/s \n",
            "\u001b[?25hCollecting inequality>=1.0.0\n",
            "  Downloading inequality-1.0.0.tar.gz (11 kB)\n",
            "Collecting access>=1.1.3\n",
            "  Downloading access-1.1.3-py3-none-any.whl (21 kB)\n",
            "Collecting spvcm>=0.3.0\n",
            "  Downloading spvcm-0.3.0.tar.gz (5.7 MB)\n",
            "\u001b[K     |████████████████████████████████| 5.7 MB 6.9 MB/s \n",
            "\u001b[?25hCollecting esda>=2.4.1\n",
            "  Downloading esda-2.4.1.tar.gz (95 kB)\n",
            "\u001b[K     |████████████████████████████████| 95 kB 2.9 MB/s \n",
            "\u001b[?25hCollecting giddy>=2.3.3\n",
            "  Downloading giddy-2.3.3-py3-none-any.whl (60 kB)\n",
            "\u001b[K     |████████████████████████████████| 60 kB 6.8 MB/s \n",
            "\u001b[?25hCollecting spglm>=1.0.8\n",
            "  Downloading spglm-1.0.8.tar.gz (37 kB)\n",
            "Collecting pointpats>=2.2.0\n",
            "  Downloading pointpats-2.2.0.tar.gz (55 kB)\n",
            "\u001b[K     |████████████████████████████████| 55 kB 2.9 MB/s \n",
            "\u001b[?25hCollecting splot>=1.1.4\n",
            "  Downloading splot-1.1.5.post1-py3-none-any.whl (39 kB)\n",
            "Collecting libpysal>=4.6.0\n",
            "  Downloading libpysal-4.6.2-py3-none-any.whl (2.4 MB)\n",
            "\u001b[K     |████████████████████████████████| 2.4 MB 50.7 MB/s \n",
            "\u001b[?25hCollecting momepy>=0.5.2\n",
            "  Downloading momepy-0.5.3-py3-none-any.whl (243 kB)\n",
            "\u001b[K     |████████████████████████████████| 243 kB 43.6 MB/s \n",
            "\u001b[?25hCollecting spopt>=0.2.1\n",
            "  Downloading spopt-0.3.0-py3-none-any.whl (83 kB)\n",
            "\u001b[K     |████████████████████████████████| 83 kB 1.6 MB/s \n",
            "\u001b[?25hCollecting mapclassify>=2.4.3\n",
            "  Downloading mapclassify-2.4.3-py3-none-any.whl (38 kB)\n",
            "Collecting spint>=1.0.7\n",
            "  Downloading spint-1.0.7.tar.gz (28 kB)\n",
            "Collecting segregation>=2.1.0\n",
            "  Downloading segregation-2.2.3-py3-none-any.whl (147 kB)\n",
            "\u001b[K     |████████████████████████████████| 147 kB 51.3 MB/s \n",
            "\u001b[?25hCollecting spreg>=1.2.4\n",
            "  Downloading spreg-1.2.4-py3-none-any.whl (209 kB)\n",
            "\u001b[K     |████████████████████████████████| 209 kB 39.3 MB/s \n",
            "\u001b[?25hCollecting tobler>=0.8.2\n",
            "  Downloading tobler-0.9.0-py3-none-any.whl (22 kB)\n",
            "Collecting mgwr>=2.1.2\n",
            "  Downloading mgwr-2.1.2.tar.gz (41 kB)\n",
            "\u001b[K     |████████████████████████████████| 41 kB 554 kB/s \n",
            "\u001b[?25hRequirement already satisfied: numpy>=1.3 in /usr/local/lib/python3.7/dist-packages (from access>=1.1.3->pysal) (1.21.5)\n",
            "Requirement already satisfied: pandas>=0.23.4 in /usr/local/lib/python3.7/dist-packages (from access>=1.1.3->pysal) (1.3.5)\n",
            "Requirement already satisfied: scipy>=0.11 in /usr/local/lib/python3.7/dist-packages (from esda>=2.4.1->pysal) (1.4.1)\n",
            "Requirement already satisfied: scikit-learn in /usr/local/lib/python3.7/dist-packages (from esda>=2.4.1->pysal) (1.0.2)\n",
            "Collecting quantecon>=0.4.7\n",
            "  Downloading quantecon-0.5.3-py3-none-any.whl (179 kB)\n",
            "\u001b[K     |████████████████████████████████| 179 kB 41.5 MB/s \n",
            "\u001b[?25hRequirement already satisfied: requests in /usr/local/lib/python3.7/dist-packages (from libpysal>=4.6.0->pysal) (2.23.0)\n",
            "Requirement already satisfied: appdirs in /usr/local/lib/python3.7/dist-packages (from libpysal>=4.6.0->pysal) (1.4.4)\n",
            "Requirement already satisfied: packaging in /usr/local/lib/python3.7/dist-packages (from libpysal>=4.6.0->pysal) (21.3)\n",
            "Requirement already satisfied: jinja2 in /usr/local/lib/python3.7/dist-packages (from libpysal>=4.6.0->pysal) (2.11.3)\n",
            "Requirement already satisfied: beautifulsoup4 in /usr/local/lib/python3.7/dist-packages (from libpysal>=4.6.0->pysal) (4.6.3)\n",
            "Requirement already satisfied: networkx in /usr/local/lib/python3.7/dist-packages (from mapclassify>=2.4.3->pysal) (2.6.3)\n",
            "Collecting pygeos\n",
            "  Downloading pygeos-0.12.0-cp37-cp37m-manylinux_2_17_x86_64.manylinux2014_x86_64.whl (2.1 MB)\n",
            "\u001b[K     |████████████████████████████████| 2.1 MB 39.1 MB/s \n",
            "\u001b[?25hRequirement already satisfied: tqdm>=4.27.0 in /usr/local/lib/python3.7/dist-packages (from momepy>=0.5.2->pysal) (4.64.0)\n",
            "Requirement already satisfied: geopandas>=0.8.0 in /usr/local/lib/python3.7/dist-packages (from momepy>=0.5.2->pysal) (0.10.2)\n",
            "Requirement already satisfied: fiona>=1.8 in /usr/local/lib/python3.7/dist-packages (from geopandas>=0.8.0->momepy>=0.5.2->pysal) (1.8.21)\n",
            "Requirement already satisfied: pyproj>=2.2.0 in /usr/local/lib/python3.7/dist-packages (from geopandas>=0.8.0->momepy>=0.5.2->pysal) (3.2.1)\n",
            "Requirement already satisfied: shapely>=1.6 in /usr/local/lib/python3.7/dist-packages (from geopandas>=0.8.0->momepy>=0.5.2->pysal) (1.8.1.post1)\n",
            "Requirement already satisfied: six>=1.7 in /usr/local/lib/python3.7/dist-packages (from fiona>=1.8->geopandas>=0.8.0->momepy>=0.5.2->pysal) (1.15.0)\n",
            "Requirement already satisfied: click>=4.0 in /usr/local/lib/python3.7/dist-packages (from fiona>=1.8->geopandas>=0.8.0->momepy>=0.5.2->pysal) (7.1.2)\n",
            "Requirement already satisfied: click-plugins>=1.0 in /usr/local/lib/python3.7/dist-packages (from fiona>=1.8->geopandas>=0.8.0->momepy>=0.5.2->pysal) (1.1.1)\n",
            "Requirement already satisfied: munch in /usr/local/lib/python3.7/dist-packages (from fiona>=1.8->geopandas>=0.8.0->momepy>=0.5.2->pysal) (2.5.0)\n",
            "Requirement already satisfied: setuptools in /usr/local/lib/python3.7/dist-packages (from fiona>=1.8->geopandas>=0.8.0->momepy>=0.5.2->pysal) (57.4.0)\n",
            "Requirement already satisfied: cligj>=0.5 in /usr/local/lib/python3.7/dist-packages (from fiona>=1.8->geopandas>=0.8.0->momepy>=0.5.2->pysal) (0.7.2)\n",
            "Requirement already satisfied: certifi in /usr/local/lib/python3.7/dist-packages (from fiona>=1.8->geopandas>=0.8.0->momepy>=0.5.2->pysal) (2021.10.8)\n",
            "Requirement already satisfied: attrs>=17 in /usr/local/lib/python3.7/dist-packages (from fiona>=1.8->geopandas>=0.8.0->momepy>=0.5.2->pysal) (21.4.0)\n",
            "Requirement already satisfied: pytz>=2017.3 in /usr/local/lib/python3.7/dist-packages (from pandas>=0.23.4->access>=1.1.3->pysal) (2018.9)\n",
            "Requirement already satisfied: python-dateutil>=2.7.3 in /usr/local/lib/python3.7/dist-packages (from pandas>=0.23.4->access>=1.1.3->pysal) (2.8.2)\n",
            "Requirement already satisfied: matplotlib in /usr/local/lib/python3.7/dist-packages (from pointpats>=2.2.0->pysal) (3.2.2)\n",
            "Collecting opencv-contrib-python>=4.2.0\n",
            "  Downloading opencv_contrib_python-4.5.5.64-cp36-abi3-manylinux_2_17_x86_64.manylinux2014_x86_64.whl (66.7 MB)\n",
            "\u001b[K     |████████████████████████████████| 66.7 MB 23 kB/s \n",
            "\u001b[?25hRequirement already satisfied: numba in /usr/local/lib/python3.7/dist-packages (from quantecon>=0.4.7->giddy>=2.3.3->pysal) (0.51.2)\n",
            "Requirement already satisfied: sympy in /usr/local/lib/python3.7/dist-packages (from quantecon>=0.4.7->giddy>=2.3.3->pysal) (1.7.1)\n",
            "Requirement already satisfied: joblib in /usr/local/lib/python3.7/dist-packages (from segregation>=2.1.0->pysal) (1.1.0)\n",
            "Requirement already satisfied: seaborn in /usr/local/lib/python3.7/dist-packages (from segregation>=2.1.0->pysal) (0.11.2)\n",
            "Requirement already satisfied: pip in /usr/local/lib/python3.7/dist-packages (from segregation>=2.1.0->pysal) (21.1.3)\n",
            "Collecting quilt3\n",
            "  Downloading quilt3-5.0.0-py3-none-any.whl (78 kB)\n",
            "\u001b[K     |████████████████████████████████| 78 kB 6.3 MB/s \n",
            "\u001b[?25hCollecting rvlib>=0.0.5\n",
            "  Downloading rvlib-0.0.6.tar.gz (183 kB)\n",
            "\u001b[K     |████████████████████████████████| 183 kB 33.2 MB/s \n",
            "\u001b[?25hCollecting deprecation\n",
            "  Downloading deprecation-2.1.0-py2.py3-none-any.whl (11 kB)\n",
            "Requirement already satisfied: cffi>=1.0.0 in /usr/local/lib/python3.7/dist-packages (from rvlib>=0.0.5->segregation>=2.1.0->pysal) (1.15.0)\n",
            "Requirement already satisfied: PyYAML in /usr/local/lib/python3.7/dist-packages (from rvlib>=0.0.5->segregation>=2.1.0->pysal) (3.13)\n",
            "Requirement already satisfied: pycparser in /usr/local/lib/python3.7/dist-packages (from cffi>=1.0.0->rvlib>=0.0.5->segregation>=2.1.0->pysal) (2.21)\n",
            "Requirement already satisfied: llvmlite<0.35,>=0.34.0.dev0 in /usr/local/lib/python3.7/dist-packages (from numba->quantecon>=0.4.7->giddy>=2.3.3->pysal) (0.34.0)\n",
            "Requirement already satisfied: threadpoolctl>=2.0.0 in /usr/local/lib/python3.7/dist-packages (from scikit-learn->esda>=2.4.1->pysal) (3.1.0)\n",
            "Collecting rtree\n",
            "  Downloading Rtree-1.0.0-cp37-cp37m-manylinux_2_17_x86_64.manylinux2014_x86_64.whl (1.0 MB)\n",
            "\u001b[K     |████████████████████████████████| 1.0 MB 47.2 MB/s \n",
            "\u001b[?25hCollecting pulp\n",
            "  Downloading PuLP-2.6.0-py3-none-any.whl (14.2 MB)\n",
            "\u001b[K     |████████████████████████████████| 14.2 MB 20.7 MB/s \n",
            "\u001b[?25hRequirement already satisfied: statsmodels in /usr/local/lib/python3.7/dist-packages (from tobler>=0.8.2->pysal) (0.10.2)\n",
            "Collecting rasterstats\n",
            "  Downloading rasterstats-0.16.0-py3-none-any.whl (16 kB)\n",
            "Collecting rasterio\n",
            "  Downloading rasterio-1.2.10-cp37-cp37m-manylinux1_x86_64.whl (19.3 MB)\n",
            "\u001b[K     |████████████████████████████████| 19.3 MB 123.2 MB/s \n",
            "\u001b[?25hRequirement already satisfied: MarkupSafe>=0.23 in /usr/local/lib/python3.7/dist-packages (from jinja2->libpysal>=4.6.0->pysal) (2.0.1)\n",
            "Requirement already satisfied: cycler>=0.10 in /usr/local/lib/python3.7/dist-packages (from matplotlib->pointpats>=2.2.0->pysal) (0.11.0)\n",
            "Requirement already satisfied: kiwisolver>=1.0.1 in /usr/local/lib/python3.7/dist-packages (from matplotlib->pointpats>=2.2.0->pysal) (1.4.2)\n",
            "Requirement already satisfied: pyparsing!=2.0.4,!=2.1.2,!=2.1.6,>=2.0.1 in /usr/local/lib/python3.7/dist-packages (from matplotlib->pointpats>=2.2.0->pysal) (3.0.8)\n",
            "Requirement already satisfied: typing-extensions in /usr/local/lib/python3.7/dist-packages (from kiwisolver>=1.0.1->matplotlib->pointpats>=2.2.0->pysal) (4.1.1)\n",
            "Collecting aws-requests-auth>=0.4.2\n",
            "  Downloading aws_requests_auth-0.4.3-py2.py3-none-any.whl (6.8 kB)\n",
            "Collecting boto3>=1.10.0\n",
            "  Downloading boto3-1.21.42-py3-none-any.whl (132 kB)\n",
            "\u001b[K     |████████████████████████████████| 132 kB 47.4 MB/s \n",
            "\u001b[?25hRequirement already satisfied: tenacity>=5.1.1 in /usr/local/lib/python3.7/dist-packages (from quilt3->segregation>=2.1.0->pysal) (8.0.1)\n",
            "Collecting requests-futures==1.0.0\n",
            "  Downloading requests_futures-1.0.0-py2.py3-none-any.whl (7.4 kB)\n",
            "Collecting PyYAML\n",
            "  Downloading PyYAML-6.0-cp37-cp37m-manylinux_2_5_x86_64.manylinux1_x86_64.manylinux_2_12_x86_64.manylinux2010_x86_64.whl (596 kB)\n",
            "\u001b[K     |████████████████████████████████| 596 kB 46.2 MB/s \n",
            "\u001b[?25hRequirement already satisfied: jsonschema<5,>=3 in /usr/local/lib/python3.7/dist-packages (from quilt3->segregation>=2.1.0->pysal) (4.3.3)\n",
            "Collecting jsonlines==1.2.0\n",
            "  Downloading jsonlines-1.2.0-py2.py3-none-any.whl (7.6 kB)\n",
            "Collecting botocore<1.25.0,>=1.24.42\n",
            "  Downloading botocore-1.24.42-py3-none-any.whl (8.7 MB)\n",
            "\u001b[K     |████████████████████████████████| 8.7 MB 35.3 MB/s \n",
            "\u001b[?25hCollecting s3transfer<0.6.0,>=0.5.0\n",
            "  Downloading s3transfer-0.5.2-py3-none-any.whl (79 kB)\n",
            "\u001b[K     |████████████████████████████████| 79 kB 6.0 MB/s \n",
            "\u001b[?25hCollecting jmespath<2.0.0,>=0.7.1\n",
            "  Downloading jmespath-1.0.0-py3-none-any.whl (23 kB)\n",
            "Collecting urllib3<1.27,>=1.25.4\n",
            "  Downloading urllib3-1.26.9-py2.py3-none-any.whl (138 kB)\n",
            "\u001b[K     |████████████████████████████████| 138 kB 52.6 MB/s \n",
            "\u001b[?25hRequirement already satisfied: pyrsistent!=0.17.0,!=0.17.1,!=0.17.2,>=0.14.0 in /usr/local/lib/python3.7/dist-packages (from jsonschema<5,>=3->quilt3->segregation>=2.1.0->pysal) (0.18.1)\n",
            "Requirement already satisfied: importlib-resources>=1.4.0 in /usr/local/lib/python3.7/dist-packages (from jsonschema<5,>=3->quilt3->segregation>=2.1.0->pysal) (5.6.0)\n",
            "Requirement already satisfied: importlib-metadata in /usr/local/lib/python3.7/dist-packages (from jsonschema<5,>=3->quilt3->segregation>=2.1.0->pysal) (4.11.3)\n",
            "Requirement already satisfied: zipp>=3.1.0 in /usr/local/lib/python3.7/dist-packages (from importlib-resources>=1.4.0->jsonschema<5,>=3->quilt3->segregation>=2.1.0->pysal) (3.8.0)\n",
            "Requirement already satisfied: chardet<4,>=3.0.2 in /usr/local/lib/python3.7/dist-packages (from requests->libpysal>=4.6.0->pysal) (3.0.4)\n",
            "Requirement already satisfied: idna<3,>=2.5 in /usr/local/lib/python3.7/dist-packages (from requests->libpysal>=4.6.0->pysal) (2.10)\n",
            "  Downloading urllib3-1.25.11-py2.py3-none-any.whl (127 kB)\n",
            "\u001b[K     |████████████████████████████████| 127 kB 49.2 MB/s \n",
            "\u001b[?25hCollecting snuggs>=1.4.1\n",
            "  Downloading snuggs-1.4.7-py3-none-any.whl (5.4 kB)\n",
            "Collecting affine\n",
            "  Downloading affine-2.3.1-py2.py3-none-any.whl (16 kB)\n",
            "Collecting simplejson\n",
            "  Downloading simplejson-3.17.6-cp37-cp37m-manylinux_2_5_x86_64.manylinux1_x86_64.manylinux_2_12_x86_64.manylinux2010_x86_64.whl (130 kB)\n",
            "\u001b[K     |████████████████████████████████| 130 kB 49.7 MB/s \n",
            "\u001b[?25hRequirement already satisfied: patsy>=0.4.0 in /usr/local/lib/python3.7/dist-packages (from statsmodels->tobler>=0.8.2->pysal) (0.5.2)\n",
            "Requirement already satisfied: mpmath>=0.19 in /usr/local/lib/python3.7/dist-packages (from sympy->quantecon>=0.4.7->giddy>=2.3.3->pysal) (1.2.1)\n",
            "Building wheels for collected packages: esda, inequality, mgwr, pointpats, rvlib, spglm, spint, spvcm\n",
            "  Building wheel for esda (setup.py) ... \u001b[?25l\u001b[?25hdone\n",
            "  Created wheel for esda: filename=esda-2.4.1-py3-none-any.whl size=117429 sha256=1b3296b4ce75abdf1d23908b23e0bf760e701c233cd7ea40dd4f1dbc8e3198e7\n",
            "  Stored in directory: /root/.cache/pip/wheels/ed/67/c5/4558a178be4c410f341c31f71b5aba9c761a40c9d17dbdfddd\n",
            "  Building wheel for inequality (setup.py) ... \u001b[?25l\u001b[?25hdone\n",
            "  Created wheel for inequality: filename=inequality-1.0.0-py3-none-any.whl size=11800 sha256=7003730359a794e8c9abc7fd21b417c8f530bae7496bdfb5b8c8b116edb4a741\n",
            "  Stored in directory: /root/.cache/pip/wheels/a8/81/7a/af8b9e8ea0b034ac1bdd9d68f3a8ceac179eb5418cdb83c851\n",
            "  Building wheel for mgwr (setup.py) ... \u001b[?25l\u001b[?25hdone\n",
            "  Created wheel for mgwr: filename=mgwr-2.1.2-py3-none-any.whl size=46386 sha256=1a239f1f7a580d468c013bf850499a7333b199115c818ea0543e9b1d58acdf2c\n",
            "  Stored in directory: /root/.cache/pip/wheels/e8/55/57/c1bf993ab0ab4b9885ac1fdf7f9f960397355cf889b77a3e4b\n",
            "  Building wheel for pointpats (setup.py) ... \u001b[?25l\u001b[?25hdone\n",
            "  Created wheel for pointpats: filename=pointpats-2.2.0-py3-none-any.whl size=60835 sha256=4cc862a130cd07f234b619e128490111eae93484f0bd508528eb620db0b35089\n",
            "  Stored in directory: /root/.cache/pip/wheels/41/5f/91/08cc68af630fafdc6bed36128abf8e716e062256a8495fdb2d\n",
            "  Building wheel for rvlib (setup.py) ... \u001b[?25l\u001b[?25hdone\n",
            "  Created wheel for rvlib: filename=rvlib-0.0.6-cp37-cp37m-linux_x86_64.whl size=352323 sha256=fc16c2cf0d827f8d95de032dd95349af54865edbd56eddaa5aa060fb9bd3660b\n",
            "  Stored in directory: /root/.cache/pip/wheels/8e/fe/cb/66b78310be88014dfbe1a21391c873a9fe49dca403f7d9f454\n",
            "  Building wheel for spglm (setup.py) ... \u001b[?25l\u001b[?25hdone\n",
            "  Created wheel for spglm: filename=spglm-1.0.8-py3-none-any.whl size=38806 sha256=d7b85b97fc2558c239c0724530748c8703ea384a7248272e67d646cf94ff67f5\n",
            "  Stored in directory: /root/.cache/pip/wheels/29/79/e9/453e3b0d858bed16e097c6e6bbd75e2b966bfcfb21b12790d0\n",
            "  Building wheel for spint (setup.py) ... \u001b[?25l\u001b[?25hdone\n",
            "  Created wheel for spint: filename=spint-1.0.7-py3-none-any.whl size=31383 sha256=bcd2a547b54dc9af0708734a50386b17b2baa10a023ab22dbd65ce86a67be08b\n",
            "  Stored in directory: /root/.cache/pip/wheels/dd/ac/5d/25d69231f3bffa2cb47ce29bb7eac9df9246aa9ba286a03a2d\n",
            "  Building wheel for spvcm (setup.py) ... \u001b[?25l\u001b[?25hdone\n",
            "  Created wheel for spvcm: filename=spvcm-0.3.0-py3-none-any.whl size=5777202 sha256=4d5b36b19038abd3c6689a989e72b87576402979f86ba3a2d9675e20f584045d\n",
            "  Stored in directory: /root/.cache/pip/wheels/a4/85/1a/d890ef4d2eaca2788e45925fa531bb58a2138734065abdfe08\n",
            "Successfully built esda inequality mgwr pointpats rvlib spglm spint spvcm\n",
            "Installing collected packages: urllib3, jmespath, botocore, snuggs, s3transfer, libpysal, affine, spreg, simplejson, rtree, requests-futures, rasterio, quantecon, PyYAML, mapclassify, jsonlines, esda, boto3, aws-requests-auth, spglm, spaghetti, rvlib, rasterstats, quilt3, pygeos, pulp, opencv-contrib-python, giddy, deprecation, tobler, spvcm, spopt, splot, spint, segregation, pointpats, momepy, mgwr, inequality, access, pysal\n",
            "  Attempting uninstall: urllib3\n",
            "    Found existing installation: urllib3 1.24.3\n",
            "    Uninstalling urllib3-1.24.3:\n",
            "      Successfully uninstalled urllib3-1.24.3\n",
            "  Attempting uninstall: PyYAML\n",
            "    Found existing installation: PyYAML 3.13\n",
            "    Uninstalling PyYAML-3.13:\n",
            "      Successfully uninstalled PyYAML-3.13\n",
            "  Attempting uninstall: opencv-contrib-python\n",
            "    Found existing installation: opencv-contrib-python 4.1.2.30\n",
            "    Uninstalling opencv-contrib-python-4.1.2.30:\n",
            "      Successfully uninstalled opencv-contrib-python-4.1.2.30\n",
            "\u001b[31mERROR: pip's dependency resolver does not currently take into account all the packages that are installed. This behaviour is the source of the following dependency conflicts.\n",
            "datascience 0.10.6 requires folium==0.2.1, but you have folium 0.8.3 which is incompatible.\u001b[0m\n",
            "Successfully installed PyYAML-6.0 access-1.1.3 affine-2.3.1 aws-requests-auth-0.4.3 boto3-1.21.42 botocore-1.24.42 deprecation-2.1.0 esda-2.4.1 giddy-2.3.3 inequality-1.0.0 jmespath-1.0.0 jsonlines-1.2.0 libpysal-4.6.2 mapclassify-2.4.3 mgwr-2.1.2 momepy-0.5.3 opencv-contrib-python-4.5.5.64 pointpats-2.2.0 pulp-2.6.0 pygeos-0.12.0 pysal-2.6.0 quantecon-0.5.3 quilt3-5.0.0 rasterio-1.2.10 rasterstats-0.16.0 requests-futures-1.0.0 rtree-1.0.0 rvlib-0.0.6 s3transfer-0.5.2 segregation-2.2.3 simplejson-3.17.6 snuggs-1.4.7 spaghetti-1.6.5 spglm-1.0.8 spint-1.0.7 splot-1.1.5.post1 spopt-0.3.0 spreg-1.2.4 spvcm-0.3.0 tobler-0.9.0 urllib3-1.25.11\n"
          ]
        }
      ]
    },
    {
      "cell_type": "code",
      "source": [
        "#Load all necessary packages\n",
        "import pysal as ps\n",
        "import pandas as pd\n",
        "import geopandas as gpd\n",
        "import libpysal\n",
        "import numpy as np\n",
        "np.random.seed(0)"
      ],
      "metadata": {
        "colab": {
          "base_uri": "https://localhost:8080/"
        },
        "id": "qFVS-m4k1E3t",
        "outputId": "261fc57e-107d-405e-a307-3975f5298c49"
      },
      "execution_count": 4,
      "outputs": [
        {
          "output_type": "stream",
          "name": "stderr",
          "text": [
            "/usr/local/lib/python3.7/dist-packages/geopandas/_compat.py:115: UserWarning: The Shapely GEOS version (3.10.2-CAPI-1.16.0) is incompatible with the GEOS version PyGEOS was compiled with (3.10.1-CAPI-1.16.0). Conversions between both will be slow.\n",
            "  shapely_geos_version, geos_capi_version_string\n"
          ]
        }
      ]
    },
    {
      "cell_type": "markdown",
      "source": [
        "Let us load the data and create the queen contiguity matrix for our analysis."
      ],
      "metadata": {
        "id": "Z2zCWVds2pJ_"
      }
    },
    {
      "cell_type": "code",
      "execution_count": 5,
      "metadata": {
        "colab": {
          "base_uri": "https://localhost:8080/"
        },
        "id": "lmqQ5hhy0sM6",
        "outputId": "62ca9e71-8776-4da3-fbb5-ffee0a86e4e2"
      },
      "outputs": [
        {
          "output_type": "stream",
          "name": "stderr",
          "text": [
            "/usr/local/lib/python3.7/dist-packages/libpysal/weights/weights.py:172: UserWarning: The weights matrix is not fully connected: \n",
            " There are 3 disconnected components.\n",
            " There is 1 island with id: 06075980401.\n",
            "  warnings.warn(message)\n"
          ]
        }
      ],
      "source": [
        "tracts_ca = gpd.read_file('tl_2017_06_tract.shp')\n",
        "tracts_ca = tracts_ca.set_index('GEOID')\n",
        "crs = '+proj=utm +zone=11 +ellps=WGS84 +datum=WGS84 +units=m +no_defs'\n",
        "tracts_ca = tracts_ca.to_crs(crs)\n",
        "df_census = pd.read_csv('census_tracts_data_ca.csv', dtype={'GEOID10':str}).set_index('GEOID10')\n",
        "tracts = tracts_ca.merge(df_census, left_index=True, right_index=True, how='left')\n",
        "labels = tracts.index.tolist()\n",
        "# calculate queen spatial weights\n",
        "w_queen = libpysal.weights.Queen.from_dataframe(tracts, ids=labels, id_order=labels)"
      ]
    },
    {
      "cell_type": "code",
      "source": [
        "w_queen"
      ],
      "metadata": {
        "colab": {
          "base_uri": "https://localhost:8080/"
        },
        "id": "v4f-6K_E3pQj",
        "outputId": "56fdc645-b19b-457d-ffd6-e32bb76d4660"
      },
      "execution_count": 6,
      "outputs": [
        {
          "output_type": "execute_result",
          "data": {
            "text/plain": [
              "<libpysal.weights.contiguity.Queen at 0x7fe4ee6af210>"
            ]
          },
          "metadata": {},
          "execution_count": 6
        }
      ]
    },
    {
      "cell_type": "markdown",
      "source": [
        "## Standardizing spatial weights"
      ],
      "metadata": {
        "id": "Hyb7FHRE31va"
      }
    },
    {
      "cell_type": "markdown",
      "source": [
        "A spatial weights matrix with raw values (e.g., binary 1s and 0s for neighbor/not) is not always the best for analysis. Some sort of standardization is useful. Typically, we want to apply a row-based transformation so every row of the matrix sums up to 1. We'll see some examples of why this matters in practice shortly."
      ],
      "metadata": {
        "id": "Jsyc534l2whC"
      }
    },
    {
      "cell_type": "code",
      "source": [
        "# inspect the neighbors and weights of our tract\n",
        "label = labels[200]\n",
        "w_queen[label]"
      ],
      "metadata": {
        "colab": {
          "base_uri": "https://localhost:8080/"
        },
        "id": "brR67KyZ2ysJ",
        "outputId": "2e05ad25-f5ca-4b16-cad0-8d015d7f2618"
      },
      "execution_count": 7,
      "outputs": [
        {
          "output_type": "execute_result",
          "data": {
            "text/plain": [
              "{'06065040901': 1.0,\n",
              " '06065040902': 1.0,\n",
              " '06065040903': 1.0,\n",
              " '06065041102': 1.0,\n",
              " '06065041301': 1.0,\n",
              " '06065041302': 1.0}"
            ]
          },
          "metadata": {},
          "execution_count": 7
        }
      ]
    },
    {
      "cell_type": "code",
      "source": [
        "# check the current transformation of the weights matrix (O = original)\n",
        "w_queen.get_transform()"
      ],
      "metadata": {
        "colab": {
          "base_uri": "https://localhost:8080/",
          "height": 35
        },
        "id": "EApdY8tL213I",
        "outputId": "b1c53a54-d3a6-4880-8955-d6c9b06f282b"
      },
      "execution_count": 8,
      "outputs": [
        {
          "output_type": "execute_result",
          "data": {
            "text/plain": [
              "'O'"
            ],
            "application/vnd.google.colaboratory.intrinsic+json": {
              "type": "string"
            }
          },
          "metadata": {},
          "execution_count": 8
        }
      ]
    },
    {
      "cell_type": "code",
      "source": [
        "# transform the queen weights\n",
        "w_queen.set_transform('R')\n",
        "w_queen[label]"
      ],
      "metadata": {
        "colab": {
          "base_uri": "https://localhost:8080/"
        },
        "id": "Qn62ui7C24ok",
        "outputId": "125df62c-e5e6-43e6-d138-12bf861d6cf1"
      },
      "execution_count": 9,
      "outputs": [
        {
          "output_type": "stream",
          "name": "stdout",
          "text": [
            "('WARNING: ', '06075980401', ' is an island (no neighbors)')\n"
          ]
        },
        {
          "output_type": "execute_result",
          "data": {
            "text/plain": [
              "{'06065040901': 0.16666666666666666,\n",
              " '06065040902': 0.16666666666666666,\n",
              " '06065040903': 0.16666666666666666,\n",
              " '06065041102': 0.16666666666666666,\n",
              " '06065041301': 0.16666666666666666,\n",
              " '06065041302': 0.16666666666666666}"
            ]
          },
          "metadata": {},
          "execution_count": 9
        }
      ]
    },
    {
      "cell_type": "code",
      "source": [
        "# calculate linear decay continuous weights\n",
        "x = tracts.centroid.x\n",
        "y = tracts.centroid.y\n",
        "coords = np.array([x, y]).T\n",
        "threshold = libpysal.weights.min_threshold_distance(coords)\n",
        "\n",
        "w_dist = libpysal.weights.distance.DistanceBand.from_dataframe(tracts,\n",
        "                                                             threshold=threshold,\n",
        "                                                             binary=False,\n",
        "                                                             alpha=-1)\n"
      ],
      "metadata": {
        "colab": {
          "base_uri": "https://localhost:8080/"
        },
        "id": "8Np5XFJQ4Dc1",
        "outputId": "c7bd6a6c-912b-4af0-a22d-0606caac0126"
      },
      "execution_count": 10,
      "outputs": [
        {
          "output_type": "stream",
          "name": "stderr",
          "text": [
            "/usr/local/lib/python3.7/dist-packages/scipy/sparse/data.py:119: RuntimeWarning: divide by zero encountered in reciprocal\n",
            "  return self._with_data(data ** n)\n"
          ]
        }
      ]
    },
    {
      "cell_type": "code",
      "source": [
        "# transform the linear-decay distance-based weights\n",
        "w_dist.set_transform('R')\n",
        "#w_dist[label]"
      ],
      "metadata": {
        "id": "PjgBNTrY26a-"
      },
      "execution_count": 11,
      "outputs": []
    },
    {
      "cell_type": "markdown",
      "source": [
        "PySAL supports the following transformations:\n",
        "\n",
        "*   O: original, returning the object to the initial state\n",
        "\n",
        "*  B: binary, with every neighbor having assigned a weight of 1\n",
        "\n",
        "* R: row-based, with all the neighbors of a given observation adding up to 1\n",
        "\n",
        "* V: variance stabilizing, with the sum of all the weights being constrained to the number of observations\n",
        "\n",
        "\n",
        "It can take a long time to calculate a weights matrix for a large data set. Once you've created yours, you might want to save it to disk to re-use in subsequent analyses."
      ],
      "metadata": {
        "id": "SJvvw78m29iD"
      }
    },
    {
      "cell_type": "code",
      "source": [
        "# save your matrix to disk\n",
        "f = libpysal.io.open('tracts_queen.gal', 'w')\n",
        "f.write(w_queen)\n",
        "f.close()\n",
        "\n",
        "# read a matrix from disk (notice its transformation)\n",
        "w_queen = libpysal.io.open('tracts_queen.gal', 'r').read()\n",
        "w_queen[label]"
      ],
      "metadata": {
        "colab": {
          "base_uri": "https://localhost:8080/"
        },
        "id": "2kC0U8hJ3K62",
        "outputId": "1f3b2cd5-4cf5-413d-9661-c6672068ffa3"
      },
      "execution_count": 12,
      "outputs": [
        {
          "output_type": "stream",
          "name": "stderr",
          "text": [
            "/usr/local/lib/python3.7/dist-packages/libpysal/weights/weights.py:172: UserWarning: The weights matrix is not fully connected: \n",
            " There are 3 disconnected components.\n",
            " There is 1 island with id: 06075980401.\n",
            "  warnings.warn(message)\n"
          ]
        },
        {
          "output_type": "execute_result",
          "data": {
            "text/plain": [
              "{'06065040901': 1.0,\n",
              " '06065040902': 1.0,\n",
              " '06065040903': 1.0,\n",
              " '06065041102': 1.0,\n",
              " '06065041301': 1.0,\n",
              " '06065041302': 1.0}"
            ]
          },
          "metadata": {},
          "execution_count": 12
        }
      ]
    },
    {
      "cell_type": "markdown",
      "source": [
        "## Spatial interpolation"
      ],
      "metadata": {
        "id": "csZtDiB34esx"
      }
    },
    {
      "cell_type": "markdown",
      "source": [
        "Interpolation is a statistical method which lets you estimate unobserved values at nearby locations based on observed values from a specific location. With spatial data, you can perform spatial interpolation by filling in missing data points based on distance based relationships. This can be done using Tobler's first law of Geography: \"Everything is related to everything else. But near things are more related than distant things.\"\n",
        "\n",
        "The different types of interpolation teachniques are:\n",
        "\n",
        "* **Nearest neighbor** interpolation is perhaps the simplest method: just assign the value of the nearest neighbor\n",
        "* **Local averaging** assigns missing values by taking the average of adjacent neighbors or neighbors within some radius\n",
        "* **Inverse distance weighting** assigns missing values using a distance weighted average: that is, the mean weighs nearby values more than it weighs distant values (and your distance decay choice is important!)\n",
        "* **Kriging** is a sophisticated method that incorporates information about spatial trends and autocorrelation with a variogram\n"
      ],
      "metadata": {
        "id": "kZKLcHyp4g5Q"
      }
    },
    {
      "cell_type": "code",
      "source": [
        "# how many tracts are missing values for this variable?\n",
        "col = 'med_household_income'\n",
        "nulls = tracts[pd.isnull(tracts[col])].index\n",
        "len(nulls)"
      ],
      "metadata": {
        "colab": {
          "base_uri": "https://localhost:8080/"
        },
        "id": "FkH1WG7_5M71",
        "outputId": "4ca66b3d-35c9-4ecf-e0b7-0085e2a6c803"
      },
      "execution_count": 13,
      "outputs": [
        {
          "output_type": "execute_result",
          "data": {
            "text/plain": [
              "91"
            ]
          },
          "metadata": {},
          "execution_count": 13
        }
      ]
    },
    {
      "cell_type": "code",
      "source": [
        "# for example, this tract is missing a value\n",
        "tract = nulls[0]\n",
        "tract"
      ],
      "metadata": {
        "colab": {
          "base_uri": "https://localhost:8080/",
          "height": 35
        },
        "id": "mIBNTHDV5Tpf",
        "outputId": "621c48d5-49eb-4f13-c04a-bca3f7844af6"
      },
      "execution_count": 14,
      "outputs": [
        {
          "output_type": "execute_result",
          "data": {
            "text/plain": [
              "'06031001602'"
            ],
            "application/vnd.google.colaboratory.intrinsic+json": {
              "type": "string"
            }
          },
          "metadata": {},
          "execution_count": 14
        }
      ]
    },
    {
      "cell_type": "code",
      "source": [
        "# local averaging: equal-weighted queen-adjacent tracts\n",
        "neighbors = w_queen[tract]\n",
        "tracts.loc[neighbors, col].mean()"
      ],
      "metadata": {
        "colab": {
          "base_uri": "https://localhost:8080/"
        },
        "id": "tFbWJ2P15VcF",
        "outputId": "5e05487f-44ea-4fd5-eb6e-4f5ada4b65d6"
      },
      "execution_count": 15,
      "outputs": [
        {
          "output_type": "execute_result",
          "data": {
            "text/plain": [
              "37238.5"
            ]
          },
          "metadata": {},
          "execution_count": 15
        }
      ]
    },
    {
      "cell_type": "code",
      "source": [
        "# or, calculate inverse distance weighted mean\n",
        "neighbors = w_dist[tract]\n",
        "inv_dist_wt = pd.Series(neighbors)\n",
        "(tracts.loc[neighbors, col] * inv_dist_wt).sum()"
      ],
      "metadata": {
        "colab": {
          "base_uri": "https://localhost:8080/"
        },
        "id": "Gf3acnyh5XXO",
        "outputId": "d77340d6-027d-4bed-9e1d-e176c5d627a1"
      },
      "execution_count": 16,
      "outputs": [
        {
          "output_type": "execute_result",
          "data": {
            "text/plain": [
              "42556.37667629619"
            ]
          },
          "metadata": {},
          "execution_count": 16
        }
      ]
    },
    {
      "cell_type": "code",
      "source": [
        "# or, interpolate all the missing values across this variable\n",
        "estimates = {}\n",
        "for tract in nulls:\n",
        "    neighbors = w_dist[tract]\n",
        "    inv_dist_wt = pd.Series(w_dist[tract])\n",
        "    estimates[tract] = (tracts.loc[neighbors, col] * inv_dist_wt).sum()\n",
        "pd.Series(estimates).head()"
      ],
      "metadata": {
        "colab": {
          "base_uri": "https://localhost:8080/"
        },
        "id": "SEj9GJ1P5ZYo",
        "outputId": "58586782-5718-4cb8-8b6d-8aad0120d6a0"
      },
      "execution_count": 17,
      "outputs": [
        {
          "output_type": "execute_result",
          "data": {
            "text/plain": [
              "06031001602    42556.376676\n",
              "06037599100    79546.976108\n",
              "06031981800    47557.598998\n",
              "06095980000    79412.362789\n",
              "06059990100    74429.660527\n",
              "dtype: float64"
            ]
          },
          "metadata": {},
          "execution_count": 17
        }
      ]
    },
    {
      "cell_type": "code",
      "source": [
        "# now it's your turn\n",
        "# spatially interpolate missing values for median home value"
      ],
      "metadata": {
        "id": "wjIX8Kz65dJQ"
      },
      "execution_count": null,
      "outputs": []
    },
    {
      "cell_type": "markdown",
      "source": [
        "## Spatial lag\n",
        "\n",
        "Spatial lag tells us how values locate near other similar values. While spatial interpolation filled in unobserved (missing) values using nearby values, spatial lag lets us compare observed values to their nearby values.\n",
        "\n",
        "Here we calculate the spatial lag of a variable. If the spatial weights matrix is row-standardized, then the spatial lag is the average value of an observation's neighbors, however \"neighbor\" is defined in the matrix."
      ],
      "metadata": {
        "id": "MkYb1b_05stW"
      }
    },
    {
      "cell_type": "code",
      "source": [
        "# pick a variable to investigate and drop null rows\n",
        "col = 'med_household_income'\n",
        "tracts_not_null = tracts[[col, 'geometry']].dropna()\n",
        "y = tracts_not_null[col]"
      ],
      "metadata": {
        "id": "VaIzYeyD58TZ"
      },
      "execution_count": 18,
      "outputs": []
    },
    {
      "cell_type": "code",
      "source": [
        "# recompute spatial weights for just these observations then row-standardize\n",
        "w_queen = libpysal.weights.Queen.from_dataframe(tracts_not_null)\n",
        "w_queen.set_transform('R')"
      ],
      "metadata": {
        "colab": {
          "base_uri": "https://localhost:8080/"
        },
        "id": "wNHfFPmh5_Gu",
        "outputId": "2299379c-8558-4757-fb10-bb31a547ae0d"
      },
      "execution_count": 19,
      "outputs": [
        {
          "output_type": "stream",
          "name": "stdout",
          "text": [
            "('WARNING: ', 6541, ' is an island (no neighbors)')\n"
          ]
        },
        {
          "output_type": "stream",
          "name": "stderr",
          "text": [
            "/usr/local/lib/python3.7/dist-packages/libpysal/weights/weights.py:172: UserWarning: The weights matrix is not fully connected: \n",
            " There are 3 disconnected components.\n",
            " There is 1 island with id: 6541.\n",
            "  warnings.warn(message)\n"
          ]
        }
      ]
    },
    {
      "cell_type": "code",
      "source": [
        "# compute spatial lag\n",
        "y_lag = libpysal.weights.lag_spatial(w_queen, y)"
      ],
      "metadata": {
        "id": "JU-ncNxE6BBV"
      },
      "execution_count": 20,
      "outputs": []
    },
    {
      "cell_type": "code",
      "source": [
        "# is a tract's med income similar to those of its neighbors?\n",
        "col_lag = f'{col}_lag'\n",
        "data_lag = pd.DataFrame(data={col:y, col_lag:y_lag}).astype(int)\n",
        "data_lag"
      ],
      "metadata": {
        "colab": {
          "base_uri": "https://localhost:8080/",
          "height": 455
        },
        "id": "sDJZtcQj6DGA",
        "outputId": "effbebd6-fd08-4bf7-b2c5-f0eb9c363511"
      },
      "execution_count": 21,
      "outputs": [
        {
          "output_type": "execute_result",
          "data": {
            "text/plain": [
              "             med_household_income  med_household_income_lag\n",
              "GEOID                                                      \n",
              "06001442700                116528                    106096\n",
              "06001442800                102788                    116689\n",
              "06037204920                 40871                     42417\n",
              "06037205110                 43063                     35183\n",
              "06037205120                 28558                     42880\n",
              "...                           ...                       ...\n",
              "06059001303                 77227                     81782\n",
              "06059001304                 61736                     68814\n",
              "06059001401                 61274                     78696\n",
              "06013367200                 51953                     56017\n",
              "06047002402                 40885                     38866\n",
              "\n",
              "[7966 rows x 2 columns]"
            ],
            "text/html": [
              "\n",
              "  <div id=\"df-5ebdaf5d-e8e9-42bb-8add-dbe232fa8ad1\">\n",
              "    <div class=\"colab-df-container\">\n",
              "      <div>\n",
              "<style scoped>\n",
              "    .dataframe tbody tr th:only-of-type {\n",
              "        vertical-align: middle;\n",
              "    }\n",
              "\n",
              "    .dataframe tbody tr th {\n",
              "        vertical-align: top;\n",
              "    }\n",
              "\n",
              "    .dataframe thead th {\n",
              "        text-align: right;\n",
              "    }\n",
              "</style>\n",
              "<table border=\"1\" class=\"dataframe\">\n",
              "  <thead>\n",
              "    <tr style=\"text-align: right;\">\n",
              "      <th></th>\n",
              "      <th>med_household_income</th>\n",
              "      <th>med_household_income_lag</th>\n",
              "    </tr>\n",
              "    <tr>\n",
              "      <th>GEOID</th>\n",
              "      <th></th>\n",
              "      <th></th>\n",
              "    </tr>\n",
              "  </thead>\n",
              "  <tbody>\n",
              "    <tr>\n",
              "      <th>06001442700</th>\n",
              "      <td>116528</td>\n",
              "      <td>106096</td>\n",
              "    </tr>\n",
              "    <tr>\n",
              "      <th>06001442800</th>\n",
              "      <td>102788</td>\n",
              "      <td>116689</td>\n",
              "    </tr>\n",
              "    <tr>\n",
              "      <th>06037204920</th>\n",
              "      <td>40871</td>\n",
              "      <td>42417</td>\n",
              "    </tr>\n",
              "    <tr>\n",
              "      <th>06037205110</th>\n",
              "      <td>43063</td>\n",
              "      <td>35183</td>\n",
              "    </tr>\n",
              "    <tr>\n",
              "      <th>06037205120</th>\n",
              "      <td>28558</td>\n",
              "      <td>42880</td>\n",
              "    </tr>\n",
              "    <tr>\n",
              "      <th>...</th>\n",
              "      <td>...</td>\n",
              "      <td>...</td>\n",
              "    </tr>\n",
              "    <tr>\n",
              "      <th>06059001303</th>\n",
              "      <td>77227</td>\n",
              "      <td>81782</td>\n",
              "    </tr>\n",
              "    <tr>\n",
              "      <th>06059001304</th>\n",
              "      <td>61736</td>\n",
              "      <td>68814</td>\n",
              "    </tr>\n",
              "    <tr>\n",
              "      <th>06059001401</th>\n",
              "      <td>61274</td>\n",
              "      <td>78696</td>\n",
              "    </tr>\n",
              "    <tr>\n",
              "      <th>06013367200</th>\n",
              "      <td>51953</td>\n",
              "      <td>56017</td>\n",
              "    </tr>\n",
              "    <tr>\n",
              "      <th>06047002402</th>\n",
              "      <td>40885</td>\n",
              "      <td>38866</td>\n",
              "    </tr>\n",
              "  </tbody>\n",
              "</table>\n",
              "<p>7966 rows × 2 columns</p>\n",
              "</div>\n",
              "      <button class=\"colab-df-convert\" onclick=\"convertToInteractive('df-5ebdaf5d-e8e9-42bb-8add-dbe232fa8ad1')\"\n",
              "              title=\"Convert this dataframe to an interactive table.\"\n",
              "              style=\"display:none;\">\n",
              "        \n",
              "  <svg xmlns=\"http://www.w3.org/2000/svg\" height=\"24px\"viewBox=\"0 0 24 24\"\n",
              "       width=\"24px\">\n",
              "    <path d=\"M0 0h24v24H0V0z\" fill=\"none\"/>\n",
              "    <path d=\"M18.56 5.44l.94 2.06.94-2.06 2.06-.94-2.06-.94-.94-2.06-.94 2.06-2.06.94zm-11 1L8.5 8.5l.94-2.06 2.06-.94-2.06-.94L8.5 2.5l-.94 2.06-2.06.94zm10 10l.94 2.06.94-2.06 2.06-.94-2.06-.94-.94-2.06-.94 2.06-2.06.94z\"/><path d=\"M17.41 7.96l-1.37-1.37c-.4-.4-.92-.59-1.43-.59-.52 0-1.04.2-1.43.59L10.3 9.45l-7.72 7.72c-.78.78-.78 2.05 0 2.83L4 21.41c.39.39.9.59 1.41.59.51 0 1.02-.2 1.41-.59l7.78-7.78 2.81-2.81c.8-.78.8-2.07 0-2.86zM5.41 20L4 18.59l7.72-7.72 1.47 1.35L5.41 20z\"/>\n",
              "  </svg>\n",
              "      </button>\n",
              "      \n",
              "  <style>\n",
              "    .colab-df-container {\n",
              "      display:flex;\n",
              "      flex-wrap:wrap;\n",
              "      gap: 12px;\n",
              "    }\n",
              "\n",
              "    .colab-df-convert {\n",
              "      background-color: #E8F0FE;\n",
              "      border: none;\n",
              "      border-radius: 50%;\n",
              "      cursor: pointer;\n",
              "      display: none;\n",
              "      fill: #1967D2;\n",
              "      height: 32px;\n",
              "      padding: 0 0 0 0;\n",
              "      width: 32px;\n",
              "    }\n",
              "\n",
              "    .colab-df-convert:hover {\n",
              "      background-color: #E2EBFA;\n",
              "      box-shadow: 0px 1px 2px rgba(60, 64, 67, 0.3), 0px 1px 3px 1px rgba(60, 64, 67, 0.15);\n",
              "      fill: #174EA6;\n",
              "    }\n",
              "\n",
              "    [theme=dark] .colab-df-convert {\n",
              "      background-color: #3B4455;\n",
              "      fill: #D2E3FC;\n",
              "    }\n",
              "\n",
              "    [theme=dark] .colab-df-convert:hover {\n",
              "      background-color: #434B5C;\n",
              "      box-shadow: 0px 1px 3px 1px rgba(0, 0, 0, 0.15);\n",
              "      filter: drop-shadow(0px 1px 2px rgba(0, 0, 0, 0.3));\n",
              "      fill: #FFFFFF;\n",
              "    }\n",
              "  </style>\n",
              "\n",
              "      <script>\n",
              "        const buttonEl =\n",
              "          document.querySelector('#df-5ebdaf5d-e8e9-42bb-8add-dbe232fa8ad1 button.colab-df-convert');\n",
              "        buttonEl.style.display =\n",
              "          google.colab.kernel.accessAllowed ? 'block' : 'none';\n",
              "\n",
              "        async function convertToInteractive(key) {\n",
              "          const element = document.querySelector('#df-5ebdaf5d-e8e9-42bb-8add-dbe232fa8ad1');\n",
              "          const dataTable =\n",
              "            await google.colab.kernel.invokeFunction('convertToInteractive',\n",
              "                                                     [key], {});\n",
              "          if (!dataTable) return;\n",
              "\n",
              "          const docLinkHtml = 'Like what you see? Visit the ' +\n",
              "            '<a target=\"_blank\" href=https://colab.research.google.com/notebooks/data_table.ipynb>data table notebook</a>'\n",
              "            + ' to learn more about interactive tables.';\n",
              "          element.innerHTML = '';\n",
              "          dataTable['output_type'] = 'display_data';\n",
              "          await google.colab.output.renderOutput(dataTable, element);\n",
              "          const docLink = document.createElement('div');\n",
              "          docLink.innerHTML = docLinkHtml;\n",
              "          element.appendChild(docLink);\n",
              "        }\n",
              "      </script>\n",
              "    </div>\n",
              "  </div>\n",
              "  "
            ]
          },
          "metadata": {},
          "execution_count": 21
        }
      ]
    },
    {
      "cell_type": "markdown",
      "source": [
        "## Spatial autocorrelation\n",
        "\n",
        "Statistical models typically assume that the observations are independent of each other. This assumption is violated when a variable's value at one location is correlated with its value at nearby locations. This phenomena is called spatial autocorrelation.\n",
        "\n",
        "Such spatial autocorrelation is common in the real world due to proximity-based spillover effects. For example, a home's value may be a function of its own characteristics and accessibility, but it is also a function of nearby homes' values. In other words, homes near one another tend to have similar home values.\n",
        "\n",
        "* Positive spatial autocorrelation means nearby values tend to be more similar to each other (e.g. income, home values, temperature, rainfall)\n",
        "* Negative spatial autocorrelation means nearby values tend to be more dissimilar (e.g. fire stations, libraries)."
      ],
      "metadata": {
        "id": "X5eKXE5F6Jb2"
      }
    },
    {
      "cell_type": "code",
      "source": [
        "# does household income exhibit spatial autocorrelation?\n",
        "# let's find out\n",
        "data_lag.sample(5)"
      ],
      "metadata": {
        "colab": {
          "base_uri": "https://localhost:8080/",
          "height": 237
        },
        "id": "zZAbFes26gT-",
        "outputId": "282b73b2-dfe6-4208-89bc-17b8b3ea1225"
      },
      "execution_count": 22,
      "outputs": [
        {
          "output_type": "execute_result",
          "data": {
            "text/plain": [
              "             med_household_income  med_household_income_lag\n",
              "GEOID                                                      \n",
              "06043000302                 64702                     56277\n",
              "06081613600                118152                    117462\n",
              "06013351101                 53389                    139132\n",
              "06037302503                 34939                     41038\n",
              "06069000802                 82794                     67923"
            ],
            "text/html": [
              "\n",
              "  <div id=\"df-77cc64ed-1068-4dc4-bfab-d55a1a4166bf\">\n",
              "    <div class=\"colab-df-container\">\n",
              "      <div>\n",
              "<style scoped>\n",
              "    .dataframe tbody tr th:only-of-type {\n",
              "        vertical-align: middle;\n",
              "    }\n",
              "\n",
              "    .dataframe tbody tr th {\n",
              "        vertical-align: top;\n",
              "    }\n",
              "\n",
              "    .dataframe thead th {\n",
              "        text-align: right;\n",
              "    }\n",
              "</style>\n",
              "<table border=\"1\" class=\"dataframe\">\n",
              "  <thead>\n",
              "    <tr style=\"text-align: right;\">\n",
              "      <th></th>\n",
              "      <th>med_household_income</th>\n",
              "      <th>med_household_income_lag</th>\n",
              "    </tr>\n",
              "    <tr>\n",
              "      <th>GEOID</th>\n",
              "      <th></th>\n",
              "      <th></th>\n",
              "    </tr>\n",
              "  </thead>\n",
              "  <tbody>\n",
              "    <tr>\n",
              "      <th>06043000302</th>\n",
              "      <td>64702</td>\n",
              "      <td>56277</td>\n",
              "    </tr>\n",
              "    <tr>\n",
              "      <th>06081613600</th>\n",
              "      <td>118152</td>\n",
              "      <td>117462</td>\n",
              "    </tr>\n",
              "    <tr>\n",
              "      <th>06013351101</th>\n",
              "      <td>53389</td>\n",
              "      <td>139132</td>\n",
              "    </tr>\n",
              "    <tr>\n",
              "      <th>06037302503</th>\n",
              "      <td>34939</td>\n",
              "      <td>41038</td>\n",
              "    </tr>\n",
              "    <tr>\n",
              "      <th>06069000802</th>\n",
              "      <td>82794</td>\n",
              "      <td>67923</td>\n",
              "    </tr>\n",
              "  </tbody>\n",
              "</table>\n",
              "</div>\n",
              "      <button class=\"colab-df-convert\" onclick=\"convertToInteractive('df-77cc64ed-1068-4dc4-bfab-d55a1a4166bf')\"\n",
              "              title=\"Convert this dataframe to an interactive table.\"\n",
              "              style=\"display:none;\">\n",
              "        \n",
              "  <svg xmlns=\"http://www.w3.org/2000/svg\" height=\"24px\"viewBox=\"0 0 24 24\"\n",
              "       width=\"24px\">\n",
              "    <path d=\"M0 0h24v24H0V0z\" fill=\"none\"/>\n",
              "    <path d=\"M18.56 5.44l.94 2.06.94-2.06 2.06-.94-2.06-.94-.94-2.06-.94 2.06-2.06.94zm-11 1L8.5 8.5l.94-2.06 2.06-.94-2.06-.94L8.5 2.5l-.94 2.06-2.06.94zm10 10l.94 2.06.94-2.06 2.06-.94-2.06-.94-.94-2.06-.94 2.06-2.06.94z\"/><path d=\"M17.41 7.96l-1.37-1.37c-.4-.4-.92-.59-1.43-.59-.52 0-1.04.2-1.43.59L10.3 9.45l-7.72 7.72c-.78.78-.78 2.05 0 2.83L4 21.41c.39.39.9.59 1.41.59.51 0 1.02-.2 1.41-.59l7.78-7.78 2.81-2.81c.8-.78.8-2.07 0-2.86zM5.41 20L4 18.59l7.72-7.72 1.47 1.35L5.41 20z\"/>\n",
              "  </svg>\n",
              "      </button>\n",
              "      \n",
              "  <style>\n",
              "    .colab-df-container {\n",
              "      display:flex;\n",
              "      flex-wrap:wrap;\n",
              "      gap: 12px;\n",
              "    }\n",
              "\n",
              "    .colab-df-convert {\n",
              "      background-color: #E8F0FE;\n",
              "      border: none;\n",
              "      border-radius: 50%;\n",
              "      cursor: pointer;\n",
              "      display: none;\n",
              "      fill: #1967D2;\n",
              "      height: 32px;\n",
              "      padding: 0 0 0 0;\n",
              "      width: 32px;\n",
              "    }\n",
              "\n",
              "    .colab-df-convert:hover {\n",
              "      background-color: #E2EBFA;\n",
              "      box-shadow: 0px 1px 2px rgba(60, 64, 67, 0.3), 0px 1px 3px 1px rgba(60, 64, 67, 0.15);\n",
              "      fill: #174EA6;\n",
              "    }\n",
              "\n",
              "    [theme=dark] .colab-df-convert {\n",
              "      background-color: #3B4455;\n",
              "      fill: #D2E3FC;\n",
              "    }\n",
              "\n",
              "    [theme=dark] .colab-df-convert:hover {\n",
              "      background-color: #434B5C;\n",
              "      box-shadow: 0px 1px 3px 1px rgba(0, 0, 0, 0.15);\n",
              "      filter: drop-shadow(0px 1px 2px rgba(0, 0, 0, 0.3));\n",
              "      fill: #FFFFFF;\n",
              "    }\n",
              "  </style>\n",
              "\n",
              "      <script>\n",
              "        const buttonEl =\n",
              "          document.querySelector('#df-77cc64ed-1068-4dc4-bfab-d55a1a4166bf button.colab-df-convert');\n",
              "        buttonEl.style.display =\n",
              "          google.colab.kernel.accessAllowed ? 'block' : 'none';\n",
              "\n",
              "        async function convertToInteractive(key) {\n",
              "          const element = document.querySelector('#df-77cc64ed-1068-4dc4-bfab-d55a1a4166bf');\n",
              "          const dataTable =\n",
              "            await google.colab.kernel.invokeFunction('convertToInteractive',\n",
              "                                                     [key], {});\n",
              "          if (!dataTable) return;\n",
              "\n",
              "          const docLinkHtml = 'Like what you see? Visit the ' +\n",
              "            '<a target=\"_blank\" href=https://colab.research.google.com/notebooks/data_table.ipynb>data table notebook</a>'\n",
              "            + ' to learn more about interactive tables.';\n",
              "          element.innerHTML = '';\n",
              "          dataTable['output_type'] = 'display_data';\n",
              "          await google.colab.output.renderOutput(dataTable, element);\n",
              "          const docLink = document.createElement('div');\n",
              "          docLink.innerHTML = docLinkHtml;\n",
              "          element.appendChild(docLink);\n",
              "        }\n",
              "      </script>\n",
              "    </div>\n",
              "  </div>\n",
              "  "
            ]
          },
          "metadata": {},
          "execution_count": 22
        }
      ]
    },
    {
      "cell_type": "markdown",
      "source": [
        "## Moran's I\n",
        "\n",
        "Moran's I measures global spatial autocorrelation: do things tend to be near other (dis)similar things. Values > 0 indicate positive spatial autocorrelation, and values < 0 indicate negative spatial autocorrelation."
      ],
      "metadata": {
        "id": "lcl5APjz6jyK"
      }
    },
    {
      "cell_type": "code",
      "source": [
        "# calculate the statistic\n",
        "import esda\n",
        "from esda.moran import Moran\n",
        "mi = Moran(data_lag[col], w_queen) "
      ],
      "metadata": {
        "id": "epvzjF6x6rXI"
      },
      "execution_count": 23,
      "outputs": []
    },
    {
      "cell_type": "code",
      "source": [
        "# show the I value\n",
        "mi.I"
      ],
      "metadata": {
        "colab": {
          "base_uri": "https://localhost:8080/"
        },
        "id": "0z5trVcQ6tsq",
        "outputId": "fbbd416f-f3da-412e-b432-73e1a9cd9e28"
      },
      "execution_count": 24,
      "outputs": [
        {
          "output_type": "execute_result",
          "data": {
            "text/plain": [
              "0.6855274181193025"
            ]
          },
          "metadata": {},
          "execution_count": 24
        }
      ]
    },
    {
      "cell_type": "code",
      "source": [
        "# statistical inference: show the p value\n",
        "mi.p_sim"
      ],
      "metadata": {
        "colab": {
          "base_uri": "https://localhost:8080/"
        },
        "id": "vyUDb2sd6v-M",
        "outputId": "37254b82-e4be-4beb-9707-f788f38e2679"
      },
      "execution_count": 25,
      "outputs": [
        {
          "output_type": "execute_result",
          "data": {
            "text/plain": [
              "0.001"
            ]
          },
          "metadata": {},
          "execution_count": 25
        }
      ]
    },
    {
      "cell_type": "markdown",
      "source": [
        "If we generated a large number of maps with the same values but randomly allocated over space, and calculated Moran's I for each of these maps, only 1/1000 of them would display a larger absolute value than the one we computed from the real-world data set. Thus there is a 1/1000 chance of getting the observed value of Moran's I if the spatial distribution of our variable is random. We can conclude that the variable's distribution is statistically significantly postively spatially autocorrelated."
      ],
      "metadata": {
        "id": "YVgFnupJ6y4Z"
      }
    },
    {
      "cell_type": "code",
      "source": [
        "# now it's your turn\n",
        "# calculate the moran's I of median home values\n",
        "# is it statistically significant? what does it tell you?"
      ],
      "metadata": {
        "id": "bnGgKrjo65Fj"
      },
      "execution_count": null,
      "outputs": []
    },
    {
      "cell_type": "markdown",
      "source": [
        "A Moran plot scatter plots the spatially-lagged values (y-axis) vs the original variable's values (x-axis)."
      ],
      "metadata": {
        "id": "pczIPcj97ZgJ"
      }
    },
    {
      "cell_type": "code",
      "source": [
        "import matplotlib.pyplot as plt\n",
        "import seaborn as sns\n",
        "fig, ax = plt.subplots(figsize=(6, 6))\n",
        "sns.regplot(x=col, y=col_lag, data=data_lag, scatter_kws={'s':1, 'color':'gray'})\n",
        "plt.show()"
      ],
      "metadata": {
        "colab": {
          "base_uri": "https://localhost:8080/",
          "height": 389
        },
        "id": "2R14Vx8I7YvL",
        "outputId": "06403c5e-96d5-491b-ac17-9ce1659861af"
      },
      "execution_count": 26,
      "outputs": [
        {
          "output_type": "display_data",
          "data": {
            "text/plain": [
              "<Figure size 432x432 with 1 Axes>"
            ],
            "image/png": "[encoded data removed]"
          },
          "metadata": {
            "needs_background": "light"
          }
        }
      ]
    },
    {
      "cell_type": "markdown",
      "source": [
        "Notice the 95% confidence interval shading and the positive slope. Given the p-value of Moran's I that we calculated earlier, we can conclude that the slope of the line is statistically-significantly different from zero.\n",
        "\n",
        "More useful, however, is a standardized Moran plot. Moran's I is the slope of the line in the standardized Moran plot, which makes this all a bit easier to conceptualize."
      ],
      "metadata": {
        "id": "6v3_57sF7qiP"
      }
    },
    {
      "cell_type": "code",
      "source": [
        "# standardize the variable's values (i.e., calculate z-scores)\n",
        "y_std = (y - y.mean()) / y.std()\n",
        "y_std.head()"
      ],
      "metadata": {
        "colab": {
          "base_uri": "https://localhost:8080/"
        },
        "id": "IvMYPkv87rwB",
        "outputId": "393f7059-2ff3-4b2a-8e1d-7ddfeef5cf07"
      },
      "execution_count": 27,
      "outputs": [
        {
          "output_type": "execute_result",
          "data": {
            "text/plain": [
              "GEOID\n",
              "06001442700    1.209598\n",
              "06001442800    0.825584\n",
              "06037204920   -0.904911\n",
              "06037205110   -0.843647\n",
              "06037205120   -1.249042\n",
              "Name: med_household_income, dtype: float64"
            ]
          },
          "metadata": {},
          "execution_count": 27
        }
      ]
    },
    {
      "cell_type": "code",
      "source": [
        "# compute spatial lag of standardized values and save as series with same index\n",
        "y_std_lag = pd.Series(libpysal.weights.lag_spatial(w_queen, y_std),\n",
        "                      index=y_std.index,\n",
        "                      name=col_lag)\n",
        "y_std_lag"
      ],
      "metadata": {
        "colab": {
          "base_uri": "https://localhost:8080/"
        },
        "id": "WffCXdyQ7ukY",
        "outputId": "113dabf6-9d23-41c6-e24b-4386ff8108fb"
      },
      "execution_count": 28,
      "outputs": [
        {
          "output_type": "execute_result",
          "data": {
            "text/plain": [
              "GEOID\n",
              "06001442700    0.918063\n",
              "06001442800    1.214119\n",
              "06037204920   -0.861681\n",
              "06037205110   -1.063861\n",
              "06037205120   -0.848745\n",
              "                 ...   \n",
              "06059001303    0.238507\n",
              "06059001304   -0.123926\n",
              "06059001401    0.152263\n",
              "06013367200   -0.481597\n",
              "06047002402   -0.960948\n",
              "Name: med_household_income_lag, Length: 7966, dtype: float64"
            ]
          },
          "metadata": {},
          "execution_count": 28
        }
      ]
    },
    {
      "cell_type": "code",
      "source": [
        "# estimate a simple linear regression model\n",
        "from scipy.stats import stats\n",
        "m, b, r, p, se = stats.linregress(x=y_std, y=y_std_lag)\n",
        "print('m={:.4f}, b={:.4f}, r^2={:.4f}, p={:.4f}'.format(m, b, r ** 2, p))"
      ],
      "metadata": {
        "colab": {
          "base_uri": "https://localhost:8080/"
        },
        "id": "IUx9egrn7w78",
        "outputId": "666d0a43-5bb5-4c2f-ae9e-aab351c175f9"
      },
      "execution_count": 29,
      "outputs": [
        {
          "output_type": "stream",
          "name": "stdout",
          "text": [
            "m=0.6854, b=0.0135, r^2=0.6944, p=0.0000\n"
          ]
        }
      ]
    },
    {
      "cell_type": "code",
      "source": [
        "# the slope is the same as moran's I, calculated earlier\n",
        "mi.I"
      ],
      "metadata": {
        "colab": {
          "base_uri": "https://localhost:8080/"
        },
        "id": "FWENlp7r7yiy",
        "outputId": "ba50dd35-9f58-40a8-dd85-bf0460ffc450"
      },
      "execution_count": 30,
      "outputs": [
        {
          "output_type": "execute_result",
          "data": {
            "text/plain": [
              "0.6855274181193025"
            ]
          },
          "metadata": {},
          "execution_count": 30
        }
      ]
    },
    {
      "cell_type": "code",
      "source": [
        "# standardized moran's plot\n",
        "fig, ax = plt.subplots(figsize=(4, 4))\n",
        "ax.scatter(x=y_std, y=y_std_lag, s=1, color='gray')\n",
        "\n",
        "# draw quadrants and ignore outliers beyond 3 std devs (99.7% of distribution)\n",
        "plt.axvline(0, c='k', alpha=0.5)\n",
        "plt.axhline(0, c='k', alpha=0.5)\n",
        "ax.set_xlim(-3, 3)\n",
        "ax.set_ylim(-3, 3)\n",
        "\n",
        "# draw a line with moran's I as the slope\n",
        "Xs = pd.Series([-3, 3])\n",
        "Ys = Xs * mi.I\n",
        "line = ax.plot(Xs, Ys, lw=2)"
      ],
      "metadata": {
        "colab": {
          "base_uri": "https://localhost:8080/",
          "height": 269
        },
        "id": "z55VjBT471Bm",
        "outputId": "576d338b-b129-47a2-ccd6-61b0153986a7"
      },
      "execution_count": 31,
      "outputs": [
        {
          "output_type": "display_data",
          "data": {
            "text/plain": [
              "<Figure size 288x288 with 1 Axes>"
            ],
            "image/png": "[encoded data removed]"
          },
          "metadata": {
            "needs_background": "light"
          }
        }
      ]
    },
    {
      "cell_type": "code",
      "source": [
        "# now it's your turn\n",
        "# visualize a standardized moran's plot of median home values\n"
      ],
      "metadata": {
        "id": "GfQ69pED74hC"
      },
      "execution_count": null,
      "outputs": []
    },
    {
      "cell_type": "markdown",
      "source": [
        "## Local Indicators of Spatial Autocorrelation (LISA)\n",
        "\n",
        "Local Indicators of Spatial Autocorrelation: are there specific areas with high concentrations of (dis)similar values?\n",
        "\n",
        "Moran's I tells us about spatial clustering globally across the data set as a whole. However, it does not tell us where these clusters occur. For that, we need a local measure. Essentially, we will classify the data set's observations into four groups based on the four quadrants of the Moran plot:\n",
        "\n",
        "* HH: high value near other high values (hot spots)\n",
        "* LL: low value near other low values (cold spots)\n",
        "* HL: high value near low values (spatial outliers)\n",
        "* LH: low value near high values (spatial outliers)\n",
        "Let's see what that looks like, visually.\n"
      ],
      "metadata": {
        "id": "9VKyqdfz73gx"
      }
    },
    {
      "cell_type": "code",
      "source": [
        "# standardized moran's plot again, from above, but labeled this time\n",
        "fig, ax = plt.subplots(figsize=(6, 6))\n",
        "ax.scatter(x=y_std, y=y_std_lag, s=1, color='gray')\n",
        "\n",
        "# draw quadrants and ignore outliers beyond 3 std devs\n",
        "plt.axvline(0, c='k', alpha=0.5)\n",
        "plt.axhline(0, c='k', alpha=0.5)\n",
        "ax.set_xlim(-3, 3)\n",
        "ax.set_ylim(-3, 3)\n",
        "\n",
        "# label the quadrants\n",
        "ax.text(1.25, 1.25, 'HH', fontsize=30)\n",
        "ax.text(1.25, -1.75, 'HL', fontsize=30)\n",
        "ax.text(-1.75, 1.25, 'LH', fontsize=30)\n",
        "ax.text(-1.75, -1.75, 'LL', fontsize=30)\n",
        "\n",
        "# draw a line with moran's I as the slope\n",
        "Xs = pd.Series([-3, 3])\n",
        "Ys = Xs * mi.I\n",
        "line = ax.plot(Xs, Ys, lw=2)"
      ],
      "metadata": {
        "colab": {
          "base_uri": "https://localhost:8080/",
          "height": 378
        },
        "id": "p4OEdArZ8GVj",
        "outputId": "b0a7a492-aef0-4a43-88e7-3b681df6b60a"
      },
      "execution_count": 32,
      "outputs": [
        {
          "output_type": "display_data",
          "data": {
            "text/plain": [
              "<Figure size 432x432 with 1 Axes>"
            ],
            "image/png": "[encoded data removed]"
          },
          "metadata": {
            "needs_background": "light"
          }
        }
      ]
    },
    {
      "cell_type": "code",
      "source": [
        "# calculate LISA values using the queen spatial weights\n",
        "w_kernel = libpysal.weights.distance.Kernel.from_dataframe(tracts_not_null, fixed=False, k=15)\n",
        "lisa = esda.Moran_Local(data_lag[col], w_kernel) "
      ],
      "metadata": {
        "id": "FEcLE2Jn8KVi"
      },
      "execution_count": 43,
      "outputs": []
    },
    {
      "cell_type": "code",
      "source": [
        "# set the statistical significance threshold (alpha)\n",
        "alpha = 0.05"
      ],
      "metadata": {
        "id": "NWMVWOaf8MM3"
      },
      "execution_count": 44,
      "outputs": []
    },
    {
      "cell_type": "code",
      "source": [
        "# identify whether each observation is significant or not\n",
        "# p-value interpretation same as earlier with moran's I\n",
        "data_lag['significant'] = lisa.p_sim < alpha\n",
        "data_lag['significant'].value_counts()"
      ],
      "metadata": {
        "colab": {
          "base_uri": "https://localhost:8080/"
        },
        "id": "3jCBikJm8N5N",
        "outputId": "8277c6fe-19cc-40a3-b9ea-7eef158d3538"
      },
      "execution_count": 45,
      "outputs": [
        {
          "output_type": "execute_result",
          "data": {
            "text/plain": [
              "True     4375\n",
              "False    3591\n",
              "Name: significant, dtype: int64"
            ]
          },
          "metadata": {},
          "execution_count": 45
        }
      ]
    },
    {
      "cell_type": "code",
      "source": [
        "# identify the quadrant each observation belongs to\n",
        "data_lag['quadrant'] = lisa.q\n",
        "data_lag['quadrant'] = data_lag['quadrant'].replace({1:'HH', 2:'LH', 3:'LL', 4:'HL'})\n",
        "data_lag['quadrant'].sort_values().value_counts()"
      ],
      "metadata": {
        "colab": {
          "base_uri": "https://localhost:8080/"
        },
        "id": "b1nCJEZI8Pqb",
        "outputId": "639b3d0e-9cd1-488d-988c-388612c6a515"
      },
      "execution_count": 46,
      "outputs": [
        {
          "output_type": "execute_result",
          "data": {
            "text/plain": [
              "LL    4172\n",
              "HH    2670\n",
              "HL     661\n",
              "LH     463\n",
              "Name: quadrant, dtype: int64"
            ]
          },
          "metadata": {},
          "execution_count": 46
        }
      ]
    },
    {
      "cell_type": "code",
      "source": [
        "# what have we got in the end?\n",
        "data_lag"
      ],
      "metadata": {
        "colab": {
          "base_uri": "https://localhost:8080/",
          "height": 455
        },
        "id": "eAUSDgZj8Ran",
        "outputId": "edd35b5d-0bcf-4f23-9071-6222a42b7def"
      },
      "execution_count": 47,
      "outputs": [
        {
          "output_type": "execute_result",
          "data": {
            "text/plain": [
              "             med_household_income  med_household_income_lag  significant  \\\n",
              "GEOID                                                                      \n",
              "06001442700                116528                    106096         True   \n",
              "06001442800                102788                    116689         True   \n",
              "06037204920                 40871                     42417         True   \n",
              "06037205110                 43063                     35183         True   \n",
              "06037205120                 28558                     42880         True   \n",
              "...                           ...                       ...          ...   \n",
              "06059001303                 77227                     81782        False   \n",
              "06059001304                 61736                     68814        False   \n",
              "06059001401                 61274                     78696        False   \n",
              "06013367200                 51953                     56017         True   \n",
              "06047002402                 40885                     38866         True   \n",
              "\n",
              "            quadrant  \n",
              "GEOID                 \n",
              "06001442700       HH  \n",
              "06001442800       HH  \n",
              "06037204920       LL  \n",
              "06037205110       LL  \n",
              "06037205120       LL  \n",
              "...              ...  \n",
              "06059001303       HL  \n",
              "06059001304       LL  \n",
              "06059001401       LH  \n",
              "06013367200       LL  \n",
              "06047002402       LL  \n",
              "\n",
              "[7966 rows x 4 columns]"
            ],
            "text/html": [
              "\n",
              "  <div id=\"df-91a58b1f-0c70-4a13-8129-60adcfae1e95\">\n",
              "    <div class=\"colab-df-container\">\n",
              "      <div>\n",
              "<style scoped>\n",
              "    .dataframe tbody tr th:only-of-type {\n",
              "        vertical-align: middle;\n",
              "    }\n",
              "\n",
              "    .dataframe tbody tr th {\n",
              "        vertical-align: top;\n",
              "    }\n",
              "\n",
              "    .dataframe thead th {\n",
              "        text-align: right;\n",
              "    }\n",
              "</style>\n",
              "<table border=\"1\" class=\"dataframe\">\n",
              "  <thead>\n",
              "    <tr style=\"text-align: right;\">\n",
              "      <th></th>\n",
              "      <th>med_household_income</th>\n",
              "      <th>med_household_income_lag</th>\n",
              "      <th>significant</th>\n",
              "      <th>quadrant</th>\n",
              "    </tr>\n",
              "    <tr>\n",
              "      <th>GEOID</th>\n",
              "      <th></th>\n",
              "      <th></th>\n",
              "      <th></th>\n",
              "      <th></th>\n",
              "    </tr>\n",
              "  </thead>\n",
              "  <tbody>\n",
              "    <tr>\n",
              "      <th>06001442700</th>\n",
              "      <td>116528</td>\n",
              "      <td>106096</td>\n",
              "      <td>True</td>\n",
              "      <td>HH</td>\n",
              "    </tr>\n",
              "    <tr>\n",
              "      <th>06001442800</th>\n",
              "      <td>102788</td>\n",
              "      <td>116689</td>\n",
              "      <td>True</td>\n",
              "      <td>HH</td>\n",
              "    </tr>\n",
              "    <tr>\n",
              "      <th>06037204920</th>\n",
              "      <td>40871</td>\n",
              "      <td>42417</td>\n",
              "      <td>True</td>\n",
              "      <td>LL</td>\n",
              "    </tr>\n",
              "    <tr>\n",
              "      <th>06037205110</th>\n",
              "      <td>43063</td>\n",
              "      <td>35183</td>\n",
              "      <td>True</td>\n",
              "      <td>LL</td>\n",
              "    </tr>\n",
              "    <tr>\n",
              "      <th>06037205120</th>\n",
              "      <td>28558</td>\n",
              "      <td>42880</td>\n",
              "      <td>True</td>\n",
              "      <td>LL</td>\n",
              "    </tr>\n",
              "    <tr>\n",
              "      <th>...</th>\n",
              "      <td>...</td>\n",
              "      <td>...</td>\n",
              "      <td>...</td>\n",
              "      <td>...</td>\n",
              "    </tr>\n",
              "    <tr>\n",
              "      <th>06059001303</th>\n",
              "      <td>77227</td>\n",
              "      <td>81782</td>\n",
              "      <td>False</td>\n",
              "      <td>HL</td>\n",
              "    </tr>\n",
              "    <tr>\n",
              "      <th>06059001304</th>\n",
              "      <td>61736</td>\n",
              "      <td>68814</td>\n",
              "      <td>False</td>\n",
              "      <td>LL</td>\n",
              "    </tr>\n",
              "    <tr>\n",
              "      <th>06059001401</th>\n",
              "      <td>61274</td>\n",
              "      <td>78696</td>\n",
              "      <td>False</td>\n",
              "      <td>LH</td>\n",
              "    </tr>\n",
              "    <tr>\n",
              "      <th>06013367200</th>\n",
              "      <td>51953</td>\n",
              "      <td>56017</td>\n",
              "      <td>True</td>\n",
              "      <td>LL</td>\n",
              "    </tr>\n",
              "    <tr>\n",
              "      <th>06047002402</th>\n",
              "      <td>40885</td>\n",
              "      <td>38866</td>\n",
              "      <td>True</td>\n",
              "      <td>LL</td>\n",
              "    </tr>\n",
              "  </tbody>\n",
              "</table>\n",
              "<p>7966 rows × 4 columns</p>\n",
              "</div>\n",
              "      <button class=\"colab-df-convert\" onclick=\"convertToInteractive('df-91a58b1f-0c70-4a13-8129-60adcfae1e95')\"\n",
              "              title=\"Convert this dataframe to an interactive table.\"\n",
              "              style=\"display:none;\">\n",
              "        \n",
              "  <svg xmlns=\"http://www.w3.org/2000/svg\" height=\"24px\"viewBox=\"0 0 24 24\"\n",
              "       width=\"24px\">\n",
              "    <path d=\"M0 0h24v24H0V0z\" fill=\"none\"/>\n",
              "    <path d=\"M18.56 5.44l.94 2.06.94-2.06 2.06-.94-2.06-.94-.94-2.06-.94 2.06-2.06.94zm-11 1L8.5 8.5l.94-2.06 2.06-.94-2.06-.94L8.5 2.5l-.94 2.06-2.06.94zm10 10l.94 2.06.94-2.06 2.06-.94-2.06-.94-.94-2.06-.94 2.06-2.06.94z\"/><path d=\"M17.41 7.96l-1.37-1.37c-.4-.4-.92-.59-1.43-.59-.52 0-1.04.2-1.43.59L10.3 9.45l-7.72 7.72c-.78.78-.78 2.05 0 2.83L4 21.41c.39.39.9.59 1.41.59.51 0 1.02-.2 1.41-.59l7.78-7.78 2.81-2.81c.8-.78.8-2.07 0-2.86zM5.41 20L4 18.59l7.72-7.72 1.47 1.35L5.41 20z\"/>\n",
              "  </svg>\n",
              "      </button>\n",
              "      \n",
              "  <style>\n",
              "    .colab-df-container {\n",
              "      display:flex;\n",
              "      flex-wrap:wrap;\n",
              "      gap: 12px;\n",
              "    }\n",
              "\n",
              "    .colab-df-convert {\n",
              "      background-color: #E8F0FE;\n",
              "      border: none;\n",
              "      border-radius: 50%;\n",
              "      cursor: pointer;\n",
              "      display: none;\n",
              "      fill: #1967D2;\n",
              "      height: 32px;\n",
              "      padding: 0 0 0 0;\n",
              "      width: 32px;\n",
              "    }\n",
              "\n",
              "    .colab-df-convert:hover {\n",
              "      background-color: #E2EBFA;\n",
              "      box-shadow: 0px 1px 2px rgba(60, 64, 67, 0.3), 0px 1px 3px 1px rgba(60, 64, 67, 0.15);\n",
              "      fill: #174EA6;\n",
              "    }\n",
              "\n",
              "    [theme=dark] .colab-df-convert {\n",
              "      background-color: #3B4455;\n",
              "      fill: #D2E3FC;\n",
              "    }\n",
              "\n",
              "    [theme=dark] .colab-df-convert:hover {\n",
              "      background-color: #434B5C;\n",
              "      box-shadow: 0px 1px 3px 1px rgba(0, 0, 0, 0.15);\n",
              "      filter: drop-shadow(0px 1px 2px rgba(0, 0, 0, 0.3));\n",
              "      fill: #FFFFFF;\n",
              "    }\n",
              "  </style>\n",
              "\n",
              "      <script>\n",
              "        const buttonEl =\n",
              "          document.querySelector('#df-91a58b1f-0c70-4a13-8129-60adcfae1e95 button.colab-df-convert');\n",
              "        buttonEl.style.display =\n",
              "          google.colab.kernel.accessAllowed ? 'block' : 'none';\n",
              "\n",
              "        async function convertToInteractive(key) {\n",
              "          const element = document.querySelector('#df-91a58b1f-0c70-4a13-8129-60adcfae1e95');\n",
              "          const dataTable =\n",
              "            await google.colab.kernel.invokeFunction('convertToInteractive',\n",
              "                                                     [key], {});\n",
              "          if (!dataTable) return;\n",
              "\n",
              "          const docLinkHtml = 'Like what you see? Visit the ' +\n",
              "            '<a target=\"_blank\" href=https://colab.research.google.com/notebooks/data_table.ipynb>data table notebook</a>'\n",
              "            + ' to learn more about interactive tables.';\n",
              "          element.innerHTML = '';\n",
              "          dataTable['output_type'] = 'display_data';\n",
              "          await google.colab.output.renderOutput(dataTable, element);\n",
              "          const docLink = document.createElement('div');\n",
              "          docLink.innerHTML = docLinkHtml;\n",
              "          element.appendChild(docLink);\n",
              "        }\n",
              "      </script>\n",
              "    </div>\n",
              "  </div>\n",
              "  "
            ]
          },
          "metadata": {},
          "execution_count": 47
        }
      ]
    },
    {
      "cell_type": "code",
      "source": [
        "fig, ax = plt.subplots(figsize=(9, 9))\n",
        "\n",
        "# merge original tracts and LISA quadrants data together, plot tracts basemap\n",
        "tracts_lisa = tracts.merge(data_lag, how='left', left_index=True, right_index=True)\n",
        "tracts_lisa.plot(ax=ax, facecolor='#999999', edgecolor='k', linewidth=0.1)\n",
        "\n",
        "# plot each quandrant's tracts (if significant LISA) in a different color\n",
        "quadrant_colors = {'HH':'r', 'LL':'b', 'LH':'skyblue', 'HL':'pink'}\n",
        "for q, c in quadrant_colors.items():\n",
        "    mask = tracts_lisa['significant'] & (tracts_lisa['quadrant']==q)\n",
        "    rows = tracts_lisa.loc[mask]\n",
        "    rows.plot(ax=ax, color=c, edgecolor='k', linewidth=0.1)\n",
        "\n",
        "ax.axis('off')\n",
        "fig.savefig('clusters.png', dpi=600, bbox_inches='tight')"
      ],
      "metadata": {
        "colab": {
          "base_uri": "https://localhost:8080/",
          "height": 520
        },
        "id": "ZjoiIlMg8Ttp",
        "outputId": "0c4025d0-6e72-4ef4-f7b2-a9a34e06284d"
      },
      "execution_count": 48,
      "outputs": [
        {
          "output_type": "display_data",
          "data": {
            "text/plain": [
              "<Figure size 648x648 with 1 Axes>"
            ],
            "image/png": "[encoded data removed]"
          },
          "metadata": {
            "needs_background": "light"
          }
        }
      ]
    },
    {
      "cell_type": "markdown",
      "source": [
        "* Gray tracts have statistically-insignificant LISA \n",
        "value (no local spatial autocorrelation)\n",
        "* In red we see clusters of tracts with high values surrounded by other high values\n",
        "* In blue we see clusters of tracts with low values surrounded by other low values\n",
        "* In pink, we see the first type of spatial outliers: tracts with high values but surrounded by low values\n",
        "* In light blue we see the other type of spatial outlier: tracts with low values surrounded by other tracts with high values"
      ],
      "metadata": {
        "id": "SdDsB2wG8WZS"
      }
    }
  ]
}